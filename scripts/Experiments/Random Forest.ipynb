{
 "cells": [
  {
   "cell_type": "markdown",
   "id": "ab3038f7",
   "metadata": {},
   "source": [
    "### Import Functions"
   ]
  },
  {
   "cell_type": "code",
   "execution_count": 1,
   "id": "60d5854b",
   "metadata": {},
   "outputs": [],
   "source": [
    "from ipynb.fs.full.utilities import *\n",
    "from sklearn.ensemble import RandomForestClassifier\n",
    "from sklearn.feature_extraction import DictVectorizer\n",
    "from sklearn import preprocessing\n",
    "import pickle\n",
    "from sklearn.metrics import classification_report"
   ]
  },
  {
   "cell_type": "markdown",
   "id": "d0d35b9d",
   "metadata": {},
   "source": [
    "### Data Prep"
   ]
  },
  {
   "cell_type": "code",
   "execution_count": 2,
   "id": "e75b3858",
   "metadata": {},
   "outputs": [],
   "source": [
    "X_train_60 = load_json('../../data/Train_60_X.json')\n",
    "y_train_60 = load_json('../../data/Train_60_y.json')\n",
    "X_dev = load_json('../../data/Dev_X.json')\n",
    "y_dev = load_json('../../data/Dev_y.json')"
   ]
  },
  {
   "cell_type": "code",
   "execution_count": 3,
   "id": "2a09e2e3",
   "metadata": {},
   "outputs": [],
   "source": [
    "verify_prepped_data(X_train_60, y_train_60)"
   ]
  },
  {
   "cell_type": "code",
   "execution_count": 4,
   "id": "efd3a638",
   "metadata": {},
   "outputs": [],
   "source": [
    "verify_prepped_data(X_dev, y_dev)"
   ]
  },
  {
   "cell_type": "code",
   "execution_count": 5,
   "id": "f7af0cbb",
   "metadata": {},
   "outputs": [],
   "source": [
    "X_train_60_flat = [word for sentence in X_train_60 for word in sentence]\n",
    "y_train_60_flat = [label for sentence in y_train_60 for label in sentence]\n",
    "X_dev_flat = [word for sentence in X_dev for word in sentence]\n",
    "y_dev_flat = [label for sentence in y_dev for label in sentence]"
   ]
  },
  {
   "cell_type": "code",
   "execution_count": 6,
   "id": "82acaeb8",
   "metadata": {},
   "outputs": [
    {
     "data": {
      "text/plain": [
       "True"
      ]
     },
     "execution_count": 6,
     "metadata": {},
     "output_type": "execute_result"
    }
   ],
   "source": [
    "len(X_train_60_flat) == len(y_train_60_flat)"
   ]
  },
  {
   "cell_type": "code",
   "execution_count": 7,
   "id": "1f0cacd9",
   "metadata": {},
   "outputs": [
    {
     "data": {
      "text/plain": [
       "True"
      ]
     },
     "execution_count": 7,
     "metadata": {},
     "output_type": "execute_result"
    }
   ],
   "source": [
    "len(X_dev_flat) == len(y_dev_flat)"
   ]
  },
  {
   "cell_type": "code",
   "execution_count": 8,
   "id": "6d9cb2de",
   "metadata": {},
   "outputs": [
    {
     "data": {
      "text/plain": [
       "[{'word': '^',\n",
       "  'sent_len': 6,\n",
       "  'upos': 'PART',\n",
       "  'first_word_in_sent': 'нека',\n",
       "  'contains_interrogative_word': False,\n",
       "  'contains_interrogative_particle': False,\n",
       "  'contains_imperative_verb': False,\n",
       "  'contains_repetitive_conj_before': False,\n",
       "  'between_two_verbs': False,\n",
       "  'word_xpos_type': 'Te',\n",
       "  'BOS': True,\n",
       "  'next_word': 'нека',\n",
       "  'next_word_upos': 'PART',\n",
       "  'next_word_xpos_type': 'Tv',\n",
       "  'word_after_next_word': 'не',\n",
       "  'word_after_next_word_upos': 'PART',\n",
       "  'word_after_next_word_xpos_type': 'Tn',\n",
       "  'contains_publicistic_word': False},\n",
       " {'word': 'нека',\n",
       "  'sent_len': 6,\n",
       "  'upos': 'PART',\n",
       "  'first_word_in_sent': 'нека',\n",
       "  'contains_interrogative_word': False,\n",
       "  'contains_interrogative_particle': False,\n",
       "  'contains_imperative_verb': False,\n",
       "  'contains_repetitive_conj_before': False,\n",
       "  'between_two_verbs': False,\n",
       "  'word_xpos_type': 'Tv',\n",
       "  'prev_word': '^',\n",
       "  'prev_word_upos': 'PART',\n",
       "  'prev_word_xpos_type': 'Te',\n",
       "  'next_word': 'не',\n",
       "  'next_word_upos': 'PART',\n",
       "  'next_word_xpos_type': 'Tn',\n",
       "  'word_after_next_word': 'кажат',\n",
       "  'word_after_next_word_upos': 'VERB',\n",
       "  'word_after_next_word_xpos_type': 'Vp',\n",
       "  'word_after_next_word_xpos_gender_number_article': '-p',\n",
       "  'contains_publicistic_word': False},\n",
       " {'word': 'не',\n",
       "  'sent_len': 6,\n",
       "  'upos': 'PART',\n",
       "  'first_word_in_sent': 'нека',\n",
       "  'contains_interrogative_word': False,\n",
       "  'contains_interrogative_particle': False,\n",
       "  'contains_imperative_verb': False,\n",
       "  'contains_repetitive_conj_before': False,\n",
       "  'between_two_verbs': False,\n",
       "  'word_xpos_type': 'Tn',\n",
       "  'prev_word': 'нека',\n",
       "  'prev_word_upos': 'PART',\n",
       "  'prev_word_xpos_type': 'Tv',\n",
       "  'word_before_prev_word': '^',\n",
       "  'word_before_prev_word_upos': 'PART',\n",
       "  'word_before_prev_word_xpos_type': 'Te',\n",
       "  'next_word': 'кажат',\n",
       "  'next_word_upos': 'VERB',\n",
       "  'next_word_xpos_type': 'Vp',\n",
       "  'next_word_xpos_gender_number_article': '-p',\n",
       "  'word_after_next_word': 'погълнахме',\n",
       "  'word_after_next_word_upos': 'VERB',\n",
       "  'word_after_next_word_xpos_type': 'Vp',\n",
       "  'word_after_next_word_xpos_gender_number_article': '-p',\n",
       "  'contains_publicistic_word': False},\n",
       " {'word': 'кажат',\n",
       "  'sent_len': 6,\n",
       "  'upos': 'VERB',\n",
       "  'first_word_in_sent': 'нека',\n",
       "  'contains_interrogative_word': False,\n",
       "  'contains_interrogative_particle': False,\n",
       "  'contains_imperative_verb': False,\n",
       "  'contains_repetitive_conj_before': False,\n",
       "  'between_two_verbs': True,\n",
       "  'word_xpos_type': 'Vp',\n",
       "  'word_xpos_gender_number_article': '-p',\n",
       "  'prev_word': 'не',\n",
       "  'prev_word_upos': 'PART',\n",
       "  'prev_word_xpos_type': 'Tn',\n",
       "  'word_before_prev_word': 'нека',\n",
       "  'word_before_prev_word_upos': 'PART',\n",
       "  'word_before_prev_word_xpos_type': 'Tv',\n",
       "  'next_word': 'погълнахме',\n",
       "  'next_word_upos': 'VERB',\n",
       "  'next_word_xpos_type': 'Vp',\n",
       "  'next_word_xpos_gender_number_article': '-p',\n",
       "  'word_after_next_word': 'го',\n",
       "  'word_after_next_word_upos': 'PRON',\n",
       "  'word_after_next_word_xpos_type': 'Pp',\n",
       "  'word_after_next_word_xpos_gender_number_article': 'ms',\n",
       "  'word_after_next_word_xpos_ref_type': 'e',\n",
       "  'contains_publicistic_word': False},\n",
       " {'word': 'погълнахме',\n",
       "  'sent_len': 6,\n",
       "  'upos': 'VERB',\n",
       "  'first_word_in_sent': 'нека',\n",
       "  'contains_interrogative_word': False,\n",
       "  'contains_interrogative_particle': False,\n",
       "  'contains_imperative_verb': False,\n",
       "  'contains_repetitive_conj_before': False,\n",
       "  'between_two_verbs': False,\n",
       "  'word_xpos_type': 'Vp',\n",
       "  'word_xpos_gender_number_article': '-p',\n",
       "  'prev_word': 'кажат',\n",
       "  'prev_word_upos': 'VERB',\n",
       "  'prev_word_xpos_type': 'Vp',\n",
       "  'prev_word_xpos_gender_number_article': '-p',\n",
       "  'word_before_prev_word': 'не',\n",
       "  'word_before_prev_word_upos': 'PART',\n",
       "  'word_before_prev_word_xpos_type': 'Tn',\n",
       "  'next_word': 'го',\n",
       "  'next_word_upos': 'PRON',\n",
       "  'next_word_xpos_type': 'Pp',\n",
       "  'next_word_xpos_gender_number_article': 'ms',\n",
       "  'next_word_xpos_ref_type': 'e',\n",
       "  'contains_publicistic_word': False},\n",
       " {'word': 'го',\n",
       "  'sent_len': 6,\n",
       "  'upos': 'PRON',\n",
       "  'first_word_in_sent': 'нека',\n",
       "  'contains_interrogative_word': False,\n",
       "  'contains_interrogative_particle': False,\n",
       "  'contains_imperative_verb': False,\n",
       "  'contains_repetitive_conj_before': False,\n",
       "  'between_two_verbs': False,\n",
       "  'word_xpos_type': 'Pp',\n",
       "  'word_xpos_gender_number_article': 'ms',\n",
       "  'word_xpos_ref_type': 'e',\n",
       "  'prev_word': 'погълнахме',\n",
       "  'prev_word_upos': 'VERB',\n",
       "  'prev_word_xpos_type': 'Vp',\n",
       "  'prev_word_xpos_gender_number_article': '-p',\n",
       "  'word_before_prev_word': 'кажат',\n",
       "  'word_before_prev_word_upos': 'VERB',\n",
       "  'word_before_prev_word_xpos_type': 'Vp',\n",
       "  'word_before_prev_word_xpos_gender_number_article': '-p',\n",
       "  'EOS': True,\n",
       "  'contains_publicistic_word': False}]"
      ]
     },
     "execution_count": 8,
     "metadata": {},
     "output_type": "execute_result"
    }
   ],
   "source": [
    "X_train_60[0]"
   ]
  },
  {
   "cell_type": "code",
   "execution_count": 9,
   "id": "7706a4f3",
   "metadata": {},
   "outputs": [
    {
     "data": {
      "text/plain": [
       "[{'word': '^',\n",
       "  'sent_len': 42,\n",
       "  'upos': 'CCONJ',\n",
       "  'first_word_in_sent': 'но',\n",
       "  'contains_interrogative_word': False,\n",
       "  'contains_interrogative_particle': False,\n",
       "  'contains_imperative_verb': False,\n",
       "  'contains_repetitive_conj_before': False,\n",
       "  'between_two_verbs': False,\n",
       "  'word_xpos_type': 'punct',\n",
       "  'BOS': True,\n",
       "  'next_word': 'но',\n",
       "  'next_word_upos': 'CCONJ',\n",
       "  'next_word_xpos_type': 'Cc',\n",
       "  'word_after_next_word': 'синовете',\n",
       "  'word_after_next_word_upos': 'NOUN',\n",
       "  'word_after_next_word_xpos_type': 'Nc',\n",
       "  'word_after_next_word_xpos_gender_number_article': 'mpd',\n",
       "  'contains_publicistic_word': True},\n",
       " {'word': 'но',\n",
       "  'sent_len': 42,\n",
       "  'upos': 'CCONJ',\n",
       "  'first_word_in_sent': 'но',\n",
       "  'contains_interrogative_word': False,\n",
       "  'contains_interrogative_particle': False,\n",
       "  'contains_imperative_verb': False,\n",
       "  'contains_repetitive_conj_before': False,\n",
       "  'between_two_verbs': False,\n",
       "  'word_xpos_type': 'Cc',\n",
       "  'prev_word': '^',\n",
       "  'prev_word_upos': 'CCONJ',\n",
       "  'prev_word_xpos_type': 'punct',\n",
       "  'next_word': 'синовете',\n",
       "  'next_word_upos': 'NOUN',\n",
       "  'next_word_xpos_type': 'Nc',\n",
       "  'next_word_xpos_gender_number_article': 'mpd',\n",
       "  'word_after_next_word': 'им',\n",
       "  'word_after_next_word_upos': 'PRON',\n",
       "  'word_after_next_word_xpos_type': 'Ps',\n",
       "  'word_after_next_word_xpos_gender_number_article': '',\n",
       "  'contains_publicistic_word': True},\n",
       " {'word': 'синовете',\n",
       "  'sent_len': 42,\n",
       "  'upos': 'NOUN',\n",
       "  'first_word_in_sent': 'но',\n",
       "  'contains_interrogative_word': False,\n",
       "  'contains_interrogative_particle': False,\n",
       "  'contains_imperative_verb': False,\n",
       "  'contains_repetitive_conj_before': False,\n",
       "  'between_two_verbs': False,\n",
       "  'word_xpos_type': 'Nc',\n",
       "  'word_xpos_gender_number_article': 'mpd',\n",
       "  'prev_word': 'но',\n",
       "  'prev_word_upos': 'CCONJ',\n",
       "  'prev_word_xpos_type': 'Cc',\n",
       "  'word_before_prev_word': '^',\n",
       "  'word_before_prev_word_upos': 'CCONJ',\n",
       "  'word_before_prev_word_xpos_type': 'punct',\n",
       "  'next_word': 'им',\n",
       "  'next_word_upos': 'PRON',\n",
       "  'next_word_xpos_type': 'Ps',\n",
       "  'next_word_xpos_gender_number_article': '',\n",
       "  'word_after_next_word': 'не',\n",
       "  'word_after_next_word_upos': 'PART',\n",
       "  'word_after_next_word_xpos_type': 'Tn',\n",
       "  'contains_publicistic_word': True},\n",
       " {'word': 'им',\n",
       "  'sent_len': 42,\n",
       "  'upos': 'PRON',\n",
       "  'first_word_in_sent': 'но',\n",
       "  'contains_interrogative_word': False,\n",
       "  'contains_interrogative_particle': False,\n",
       "  'contains_imperative_verb': False,\n",
       "  'contains_repetitive_conj_before': False,\n",
       "  'between_two_verbs': False,\n",
       "  'word_xpos_type': 'Ps',\n",
       "  'word_xpos_gender_number_article': '',\n",
       "  'prev_word': 'синовете',\n",
       "  'prev_word_upos': 'NOUN',\n",
       "  'prev_word_xpos_type': 'Nc',\n",
       "  'prev_word_xpos_gender_number_article': 'mpd',\n",
       "  'word_before_prev_word': 'но',\n",
       "  'word_before_prev_word_upos': 'CCONJ',\n",
       "  'word_before_prev_word_xpos_type': 'Cc',\n",
       "  'next_word': 'не',\n",
       "  'next_word_upos': 'PART',\n",
       "  'next_word_xpos_type': 'Tn',\n",
       "  'word_after_next_word': 'умъртви',\n",
       "  'word_after_next_word_upos': 'VERB',\n",
       "  'word_after_next_word_xpos_type': 'Vp',\n",
       "  'word_after_next_word_xpos_gender_number_article': '-s',\n",
       "  'contains_publicistic_word': True},\n",
       " {'word': 'не',\n",
       "  'sent_len': 42,\n",
       "  'upos': 'PART',\n",
       "  'first_word_in_sent': 'но',\n",
       "  'contains_interrogative_word': False,\n",
       "  'contains_interrogative_particle': False,\n",
       "  'contains_imperative_verb': False,\n",
       "  'contains_repetitive_conj_before': False,\n",
       "  'between_two_verbs': False,\n",
       "  'word_xpos_type': 'Tn',\n",
       "  'prev_word': 'им',\n",
       "  'prev_word_upos': 'PRON',\n",
       "  'prev_word_xpos_type': 'Ps',\n",
       "  'prev_word_xpos_gender_number_article': '',\n",
       "  'word_before_prev_word': 'синовете',\n",
       "  'word_before_prev_word_upos': 'NOUN',\n",
       "  'word_before_prev_word_xpos_type': 'Nc',\n",
       "  'word_before_prev_word_xpos_gender_number_article': 'mpd',\n",
       "  'next_word': 'умъртви',\n",
       "  'next_word_upos': 'VERB',\n",
       "  'next_word_xpos_type': 'Vp',\n",
       "  'next_word_xpos_gender_number_article': '-s',\n",
       "  'word_after_next_word': 'защото',\n",
       "  'word_after_next_word_upos': 'ADV',\n",
       "  'word_after_next_word_xpos_type': 'Pr',\n",
       "  'word_after_next_word_xpos_gender_number_article': '',\n",
       "  'contains_publicistic_word': True},\n",
       " {'word': 'умъртви',\n",
       "  'sent_len': 42,\n",
       "  'upos': 'VERB',\n",
       "  'first_word_in_sent': 'но',\n",
       "  'contains_interrogative_word': False,\n",
       "  'contains_interrogative_particle': False,\n",
       "  'contains_imperative_verb': False,\n",
       "  'contains_repetitive_conj_before': False,\n",
       "  'between_two_verbs': True,\n",
       "  'word_xpos_type': 'Vp',\n",
       "  'word_xpos_gender_number_article': '-s',\n",
       "  'prev_word': 'не',\n",
       "  'prev_word_upos': 'PART',\n",
       "  'prev_word_xpos_type': 'Tn',\n",
       "  'word_before_prev_word': 'им',\n",
       "  'word_before_prev_word_upos': 'PRON',\n",
       "  'word_before_prev_word_xpos_type': 'Ps',\n",
       "  'word_before_prev_word_xpos_gender_number_article': '',\n",
       "  'next_word': 'защото',\n",
       "  'next_word_upos': 'ADV',\n",
       "  'next_word_xpos_type': 'Pr',\n",
       "  'next_word_xpos_gender_number_article': '',\n",
       "  'word_after_next_word': 'постъпи',\n",
       "  'word_after_next_word_upos': 'VERB',\n",
       "  'word_after_next_word_xpos_type': 'Vp',\n",
       "  'word_after_next_word_xpos_gender_number_article': '-s',\n",
       "  'contains_publicistic_word': True},\n",
       " {'word': 'защото',\n",
       "  'sent_len': 42,\n",
       "  'upos': 'ADV',\n",
       "  'first_word_in_sent': 'но',\n",
       "  'contains_interrogative_word': False,\n",
       "  'contains_interrogative_particle': False,\n",
       "  'contains_imperative_verb': False,\n",
       "  'contains_repetitive_conj_before': False,\n",
       "  'between_two_verbs': True,\n",
       "  'word_xpos_type': 'Pr',\n",
       "  'word_xpos_gender_number_article': '',\n",
       "  'prev_word': 'умъртви',\n",
       "  'prev_word_upos': 'VERB',\n",
       "  'prev_word_xpos_type': 'Vp',\n",
       "  'prev_word_xpos_gender_number_article': '-s',\n",
       "  'word_before_prev_word': 'не',\n",
       "  'word_before_prev_word_upos': 'PART',\n",
       "  'word_before_prev_word_xpos_type': 'Tn',\n",
       "  'next_word': 'постъпи',\n",
       "  'next_word_upos': 'VERB',\n",
       "  'next_word_xpos_type': 'Vp',\n",
       "  'next_word_xpos_gender_number_article': '-s',\n",
       "  'word_after_next_word': 'според',\n",
       "  'word_after_next_word_upos': 'ADP',\n",
       "  'word_after_next_word_xpos_type': 'R',\n",
       "  'contains_publicistic_word': True},\n",
       " {'word': 'постъпи',\n",
       "  'sent_len': 42,\n",
       "  'upos': 'VERB',\n",
       "  'first_word_in_sent': 'но',\n",
       "  'contains_interrogative_word': False,\n",
       "  'contains_interrogative_particle': False,\n",
       "  'contains_imperative_verb': False,\n",
       "  'contains_repetitive_conj_before': False,\n",
       "  'between_two_verbs': True,\n",
       "  'word_xpos_type': 'Vp',\n",
       "  'word_xpos_gender_number_article': '-s',\n",
       "  'prev_word': 'защото',\n",
       "  'prev_word_upos': 'ADV',\n",
       "  'prev_word_xpos_type': 'Pr',\n",
       "  'prev_word_xpos_gender_number_article': '',\n",
       "  'word_before_prev_word': 'умъртви',\n",
       "  'word_before_prev_word_upos': 'VERB',\n",
       "  'word_before_prev_word_xpos_type': 'Vp',\n",
       "  'word_before_prev_word_xpos_gender_number_article': '-s',\n",
       "  'next_word': 'според',\n",
       "  'next_word_upos': 'ADP',\n",
       "  'next_word_xpos_type': 'R',\n",
       "  'word_after_next_word': 'писаното',\n",
       "  'word_after_next_word_upos': 'ADJ',\n",
       "  'word_after_next_word_xpos_type': 'Vp',\n",
       "  'word_after_next_word_xpos_gender_number_article': 'nsd',\n",
       "  'word_after_next_word_xpos_mood': 'c',\n",
       "  'contains_publicistic_word': True},\n",
       " {'word': 'според',\n",
       "  'sent_len': 42,\n",
       "  'upos': 'ADP',\n",
       "  'first_word_in_sent': 'но',\n",
       "  'contains_interrogative_word': False,\n",
       "  'contains_interrogative_particle': False,\n",
       "  'contains_imperative_verb': False,\n",
       "  'contains_repetitive_conj_before': False,\n",
       "  'between_two_verbs': True,\n",
       "  'word_xpos_type': 'R',\n",
       "  'prev_word': 'постъпи',\n",
       "  'prev_word_upos': 'VERB',\n",
       "  'prev_word_xpos_type': 'Vp',\n",
       "  'prev_word_xpos_gender_number_article': '-s',\n",
       "  'word_before_prev_word': 'защото',\n",
       "  'word_before_prev_word_upos': 'ADV',\n",
       "  'word_before_prev_word_xpos_type': 'Pr',\n",
       "  'word_before_prev_word_xpos_gender_number_article': '',\n",
       "  'next_word': 'писаното',\n",
       "  'next_word_upos': 'ADJ',\n",
       "  'next_word_xpos_type': 'Vp',\n",
       "  'next_word_xpos_gender_number_article': 'nsd',\n",
       "  'next_word_xpos_mood': 'c',\n",
       "  'word_after_next_word': 'в',\n",
       "  'word_after_next_word_upos': 'ADP',\n",
       "  'word_after_next_word_xpos_type': 'R',\n",
       "  'contains_publicistic_word': True},\n",
       " {'word': 'писаното',\n",
       "  'sent_len': 42,\n",
       "  'upos': 'ADJ',\n",
       "  'first_word_in_sent': 'но',\n",
       "  'contains_interrogative_word': False,\n",
       "  'contains_interrogative_particle': False,\n",
       "  'contains_imperative_verb': False,\n",
       "  'contains_repetitive_conj_before': False,\n",
       "  'between_two_verbs': True,\n",
       "  'word_xpos_type': 'Vp',\n",
       "  'word_xpos_gender_number_article': 'nsd',\n",
       "  'word_xpos_mood': 'c',\n",
       "  'prev_word': 'според',\n",
       "  'prev_word_upos': 'ADP',\n",
       "  'prev_word_xpos_type': 'R',\n",
       "  'word_before_prev_word': 'постъпи',\n",
       "  'word_before_prev_word_upos': 'VERB',\n",
       "  'word_before_prev_word_xpos_type': 'Vp',\n",
       "  'word_before_prev_word_xpos_gender_number_article': '-s',\n",
       "  'next_word': 'в',\n",
       "  'next_word_upos': 'ADP',\n",
       "  'next_word_xpos_type': 'R',\n",
       "  'word_after_next_word': 'закона',\n",
       "  'word_after_next_word_upos': 'NOUN',\n",
       "  'word_after_next_word_xpos_type': 'Nc',\n",
       "  'word_after_next_word_xpos_gender_number_article': 'msh',\n",
       "  'contains_publicistic_word': True},\n",
       " {'word': 'в',\n",
       "  'sent_len': 42,\n",
       "  'upos': 'ADP',\n",
       "  'first_word_in_sent': 'но',\n",
       "  'contains_interrogative_word': False,\n",
       "  'contains_interrogative_particle': False,\n",
       "  'contains_imperative_verb': False,\n",
       "  'contains_repetitive_conj_before': False,\n",
       "  'between_two_verbs': True,\n",
       "  'word_xpos_type': 'R',\n",
       "  'prev_word': 'писаното',\n",
       "  'prev_word_upos': 'ADJ',\n",
       "  'prev_word_xpos_type': 'Vp',\n",
       "  'prev_word_xpos_gender_number_article': 'nsd',\n",
       "  'prev_word_xpos_mood': 'c',\n",
       "  'word_before_prev_word': 'според',\n",
       "  'word_before_prev_word_upos': 'ADP',\n",
       "  'word_before_prev_word_xpos_type': 'R',\n",
       "  'next_word': 'закона',\n",
       "  'next_word_upos': 'NOUN',\n",
       "  'next_word_xpos_type': 'Nc',\n",
       "  'next_word_xpos_gender_number_article': 'msh',\n",
       "  'word_after_next_word': 'в',\n",
       "  'word_after_next_word_upos': 'ADP',\n",
       "  'word_after_next_word_xpos_type': 'R',\n",
       "  'contains_publicistic_word': True},\n",
       " {'word': 'закона',\n",
       "  'sent_len': 42,\n",
       "  'upos': 'NOUN',\n",
       "  'first_word_in_sent': 'но',\n",
       "  'contains_interrogative_word': False,\n",
       "  'contains_interrogative_particle': False,\n",
       "  'contains_imperative_verb': False,\n",
       "  'contains_repetitive_conj_before': False,\n",
       "  'between_two_verbs': True,\n",
       "  'word_xpos_type': 'Nc',\n",
       "  'word_xpos_gender_number_article': 'msh',\n",
       "  'prev_word': 'в',\n",
       "  'prev_word_upos': 'ADP',\n",
       "  'prev_word_xpos_type': 'R',\n",
       "  'word_before_prev_word': 'писаното',\n",
       "  'word_before_prev_word_upos': 'ADJ',\n",
       "  'word_before_prev_word_xpos_type': 'Vp',\n",
       "  'word_before_prev_word_xpos_gender_number_article': 'nsd',\n",
       "  'word_before_prev_word_xpos_mood': 'c',\n",
       "  'next_word': 'в',\n",
       "  'next_word_upos': 'ADP',\n",
       "  'next_word_xpos_type': 'R',\n",
       "  'word_after_next_word': 'книгата',\n",
       "  'word_after_next_word_upos': 'NOUN',\n",
       "  'word_after_next_word_xpos_type': 'Nc',\n",
       "  'word_after_next_word_xpos_gender_number_article': 'fsd',\n",
       "  'contains_publicistic_word': True},\n",
       " {'word': 'в',\n",
       "  'sent_len': 42,\n",
       "  'upos': 'ADP',\n",
       "  'first_word_in_sent': 'но',\n",
       "  'contains_interrogative_word': False,\n",
       "  'contains_interrogative_particle': False,\n",
       "  'contains_imperative_verb': False,\n",
       "  'contains_repetitive_conj_before': False,\n",
       "  'between_two_verbs': True,\n",
       "  'word_xpos_type': 'R',\n",
       "  'prev_word': 'закона',\n",
       "  'prev_word_upos': 'NOUN',\n",
       "  'prev_word_xpos_type': 'Nc',\n",
       "  'prev_word_xpos_gender_number_article': 'msh',\n",
       "  'word_before_prev_word': 'в',\n",
       "  'word_before_prev_word_upos': 'ADP',\n",
       "  'word_before_prev_word_xpos_type': 'R',\n",
       "  'next_word': 'книгата',\n",
       "  'next_word_upos': 'NOUN',\n",
       "  'next_word_xpos_type': 'Nc',\n",
       "  'next_word_xpos_gender_number_article': 'fsd',\n",
       "  'word_after_next_word': 'на',\n",
       "  'word_after_next_word_upos': 'ADP',\n",
       "  'word_after_next_word_xpos_type': 'R',\n",
       "  'contains_publicistic_word': True},\n",
       " {'word': 'книгата',\n",
       "  'sent_len': 42,\n",
       "  'upos': 'NOUN',\n",
       "  'first_word_in_sent': 'но',\n",
       "  'contains_interrogative_word': False,\n",
       "  'contains_interrogative_particle': False,\n",
       "  'contains_imperative_verb': False,\n",
       "  'contains_repetitive_conj_before': False,\n",
       "  'between_two_verbs': True,\n",
       "  'word_xpos_type': 'Nc',\n",
       "  'word_xpos_gender_number_article': 'fsd',\n",
       "  'prev_word': 'в',\n",
       "  'prev_word_upos': 'ADP',\n",
       "  'prev_word_xpos_type': 'R',\n",
       "  'word_before_prev_word': 'закона',\n",
       "  'word_before_prev_word_upos': 'NOUN',\n",
       "  'word_before_prev_word_xpos_type': 'Nc',\n",
       "  'word_before_prev_word_xpos_gender_number_article': 'msh',\n",
       "  'next_word': 'на',\n",
       "  'next_word_upos': 'ADP',\n",
       "  'next_word_xpos_type': 'R',\n",
       "  'word_after_next_word': 'мойсей',\n",
       "  'word_after_next_word_upos': 'PROPN',\n",
       "  'word_after_next_word_xpos_type': 'Np',\n",
       "  'word_after_next_word_xpos_gender_number_article': 'msi',\n",
       "  'contains_publicistic_word': True},\n",
       " {'word': 'на',\n",
       "  'sent_len': 42,\n",
       "  'upos': 'ADP',\n",
       "  'first_word_in_sent': 'но',\n",
       "  'contains_interrogative_word': False,\n",
       "  'contains_interrogative_particle': False,\n",
       "  'contains_imperative_verb': False,\n",
       "  'contains_repetitive_conj_before': False,\n",
       "  'between_two_verbs': True,\n",
       "  'word_xpos_type': 'R',\n",
       "  'prev_word': 'книгата',\n",
       "  'prev_word_upos': 'NOUN',\n",
       "  'prev_word_xpos_type': 'Nc',\n",
       "  'prev_word_xpos_gender_number_article': 'fsd',\n",
       "  'word_before_prev_word': 'в',\n",
       "  'word_before_prev_word_upos': 'ADP',\n",
       "  'word_before_prev_word_xpos_type': 'R',\n",
       "  'next_word': 'мойсей',\n",
       "  'next_word_upos': 'PROPN',\n",
       "  'next_word_xpos_type': 'Np',\n",
       "  'next_word_xpos_gender_number_article': 'msi',\n",
       "  'word_after_next_word': 'където',\n",
       "  'word_after_next_word_upos': 'ADV',\n",
       "  'word_after_next_word_xpos_type': 'Pr',\n",
       "  'word_after_next_word_xpos_gender_number_article': '',\n",
       "  'word_after_next_word_xpos_ref_type': 'l',\n",
       "  'contains_publicistic_word': True},\n",
       " {'word': 'мойсей',\n",
       "  'sent_len': 42,\n",
       "  'upos': 'PROPN',\n",
       "  'first_word_in_sent': 'но',\n",
       "  'contains_interrogative_word': False,\n",
       "  'contains_interrogative_particle': False,\n",
       "  'contains_imperative_verb': False,\n",
       "  'contains_repetitive_conj_before': False,\n",
       "  'between_two_verbs': True,\n",
       "  'word_xpos_type': 'Np',\n",
       "  'word_xpos_gender_number_article': 'msi',\n",
       "  'prev_word': 'на',\n",
       "  'prev_word_upos': 'ADP',\n",
       "  'prev_word_xpos_type': 'R',\n",
       "  'word_before_prev_word': 'книгата',\n",
       "  'word_before_prev_word_upos': 'NOUN',\n",
       "  'word_before_prev_word_xpos_type': 'Nc',\n",
       "  'word_before_prev_word_xpos_gender_number_article': 'fsd',\n",
       "  'next_word': 'където',\n",
       "  'next_word_upos': 'ADV',\n",
       "  'next_word_xpos_type': 'Pr',\n",
       "  'next_word_xpos_gender_number_article': '',\n",
       "  'next_word_xpos_ref_type': 'l',\n",
       "  'word_after_next_word': 'господ',\n",
       "  'word_after_next_word_upos': 'PROPN',\n",
       "  'word_after_next_word_xpos_type': 'Np',\n",
       "  'word_after_next_word_xpos_gender_number_article': 'msi',\n",
       "  'contains_publicistic_word': True},\n",
       " {'word': 'където',\n",
       "  'sent_len': 42,\n",
       "  'upos': 'ADV',\n",
       "  'first_word_in_sent': 'но',\n",
       "  'contains_interrogative_word': False,\n",
       "  'contains_interrogative_particle': False,\n",
       "  'contains_imperative_verb': False,\n",
       "  'contains_repetitive_conj_before': False,\n",
       "  'between_two_verbs': True,\n",
       "  'word_xpos_type': 'Pr',\n",
       "  'word_xpos_gender_number_article': '',\n",
       "  'word_xpos_ref_type': 'l',\n",
       "  'prev_word': 'мойсей',\n",
       "  'prev_word_upos': 'PROPN',\n",
       "  'prev_word_xpos_type': 'Np',\n",
       "  'prev_word_xpos_gender_number_article': 'msi',\n",
       "  'word_before_prev_word': 'на',\n",
       "  'word_before_prev_word_upos': 'ADP',\n",
       "  'word_before_prev_word_xpos_type': 'R',\n",
       "  'next_word': 'господ',\n",
       "  'next_word_upos': 'PROPN',\n",
       "  'next_word_xpos_type': 'Np',\n",
       "  'next_word_xpos_gender_number_article': 'msi',\n",
       "  'word_after_next_word': 'заповяда',\n",
       "  'word_after_next_word_upos': 'VERB',\n",
       "  'word_after_next_word_xpos_type': 'Vp',\n",
       "  'word_after_next_word_xpos_gender_number_article': '-s',\n",
       "  'contains_publicistic_word': True},\n",
       " {'word': 'господ',\n",
       "  'sent_len': 42,\n",
       "  'upos': 'PROPN',\n",
       "  'first_word_in_sent': 'но',\n",
       "  'contains_interrogative_word': False,\n",
       "  'contains_interrogative_particle': False,\n",
       "  'contains_imperative_verb': False,\n",
       "  'contains_repetitive_conj_before': False,\n",
       "  'between_two_verbs': True,\n",
       "  'word_xpos_type': 'Np',\n",
       "  'word_xpos_gender_number_article': 'msi',\n",
       "  'prev_word': 'където',\n",
       "  'prev_word_upos': 'ADV',\n",
       "  'prev_word_xpos_type': 'Pr',\n",
       "  'prev_word_xpos_gender_number_article': '',\n",
       "  'prev_word_xpos_ref_type': 'l',\n",
       "  'word_before_prev_word': 'мойсей',\n",
       "  'word_before_prev_word_upos': 'PROPN',\n",
       "  'word_before_prev_word_xpos_type': 'Np',\n",
       "  'word_before_prev_word_xpos_gender_number_article': 'msi',\n",
       "  'next_word': 'заповяда',\n",
       "  'next_word_upos': 'VERB',\n",
       "  'next_word_xpos_type': 'Vp',\n",
       "  'next_word_xpos_gender_number_article': '-s',\n",
       "  'word_after_next_word': 'и',\n",
       "  'word_after_next_word_upos': 'CCONJ',\n",
       "  'word_after_next_word_xpos_type': 'Cp',\n",
       "  'contains_publicistic_word': True},\n",
       " {'word': 'заповяда',\n",
       "  'sent_len': 42,\n",
       "  'upos': 'VERB',\n",
       "  'first_word_in_sent': 'но',\n",
       "  'contains_interrogative_word': False,\n",
       "  'contains_interrogative_particle': False,\n",
       "  'contains_imperative_verb': False,\n",
       "  'contains_repetitive_conj_before': False,\n",
       "  'between_two_verbs': True,\n",
       "  'word_xpos_type': 'Vp',\n",
       "  'word_xpos_gender_number_article': '-s',\n",
       "  'prev_word': 'господ',\n",
       "  'prev_word_upos': 'PROPN',\n",
       "  'prev_word_xpos_type': 'Np',\n",
       "  'prev_word_xpos_gender_number_article': 'msi',\n",
       "  'word_before_prev_word': 'където',\n",
       "  'word_before_prev_word_upos': 'ADV',\n",
       "  'word_before_prev_word_xpos_type': 'Pr',\n",
       "  'word_before_prev_word_xpos_gender_number_article': '',\n",
       "  'word_before_prev_word_xpos_ref_type': 'l',\n",
       "  'next_word': 'и',\n",
       "  'next_word_upos': 'CCONJ',\n",
       "  'next_word_xpos_type': 'Cp',\n",
       "  'word_after_next_word': 'каза',\n",
       "  'word_after_next_word_upos': 'VERB',\n",
       "  'word_after_next_word_xpos_type': 'Vp',\n",
       "  'word_after_next_word_xpos_gender_number_article': '-s',\n",
       "  'contains_publicistic_word': True},\n",
       " {'word': 'и',\n",
       "  'sent_len': 42,\n",
       "  'upos': 'CCONJ',\n",
       "  'first_word_in_sent': 'но',\n",
       "  'contains_interrogative_word': False,\n",
       "  'contains_interrogative_particle': False,\n",
       "  'contains_imperative_verb': False,\n",
       "  'contains_repetitive_conj_before': False,\n",
       "  'between_two_verbs': True,\n",
       "  'word_xpos_type': 'Cp',\n",
       "  'prev_word': 'заповяда',\n",
       "  'prev_word_upos': 'VERB',\n",
       "  'prev_word_xpos_type': 'Vp',\n",
       "  'prev_word_xpos_gender_number_article': '-s',\n",
       "  'word_before_prev_word': 'господ',\n",
       "  'word_before_prev_word_upos': 'PROPN',\n",
       "  'word_before_prev_word_xpos_type': 'Np',\n",
       "  'word_before_prev_word_xpos_gender_number_article': 'msi',\n",
       "  'next_word': 'каза',\n",
       "  'next_word_upos': 'VERB',\n",
       "  'next_word_xpos_type': 'Vp',\n",
       "  'next_word_xpos_gender_number_article': '-s',\n",
       "  'word_after_next_word': 'бащите',\n",
       "  'word_after_next_word_upos': 'NOUN',\n",
       "  'word_after_next_word_xpos_type': 'Nc',\n",
       "  'word_after_next_word_xpos_gender_number_article': 'mpd',\n",
       "  'contains_publicistic_word': True},\n",
       " {'word': 'каза',\n",
       "  'sent_len': 42,\n",
       "  'upos': 'VERB',\n",
       "  'first_word_in_sent': 'но',\n",
       "  'contains_interrogative_word': False,\n",
       "  'contains_interrogative_particle': False,\n",
       "  'contains_imperative_verb': False,\n",
       "  'contains_repetitive_conj_before': False,\n",
       "  'between_two_verbs': True,\n",
       "  'word_xpos_type': 'Vp',\n",
       "  'word_xpos_gender_number_article': '-s',\n",
       "  'prev_word': 'и',\n",
       "  'prev_word_upos': 'CCONJ',\n",
       "  'prev_word_xpos_type': 'Cp',\n",
       "  'word_before_prev_word': 'заповяда',\n",
       "  'word_before_prev_word_upos': 'VERB',\n",
       "  'word_before_prev_word_xpos_type': 'Vp',\n",
       "  'word_before_prev_word_xpos_gender_number_article': '-s',\n",
       "  'next_word': 'бащите',\n",
       "  'next_word_upos': 'NOUN',\n",
       "  'next_word_xpos_type': 'Nc',\n",
       "  'next_word_xpos_gender_number_article': 'mpd',\n",
       "  'word_after_next_word': 'да',\n",
       "  'word_after_next_word_upos': 'AUX',\n",
       "  'word_after_next_word_xpos_type': 'Tx',\n",
       "  'contains_publicistic_word': True},\n",
       " {'word': 'бащите',\n",
       "  'sent_len': 42,\n",
       "  'upos': 'NOUN',\n",
       "  'first_word_in_sent': 'но',\n",
       "  'contains_interrogative_word': False,\n",
       "  'contains_interrogative_particle': False,\n",
       "  'contains_imperative_verb': False,\n",
       "  'contains_repetitive_conj_before': False,\n",
       "  'between_two_verbs': True,\n",
       "  'word_xpos_type': 'Nc',\n",
       "  'word_xpos_gender_number_article': 'mpd',\n",
       "  'prev_word': 'каза',\n",
       "  'prev_word_upos': 'VERB',\n",
       "  'prev_word_xpos_type': 'Vp',\n",
       "  'prev_word_xpos_gender_number_article': '-s',\n",
       "  'word_before_prev_word': 'и',\n",
       "  'word_before_prev_word_upos': 'CCONJ',\n",
       "  'word_before_prev_word_xpos_type': 'Cp',\n",
       "  'next_word': 'да',\n",
       "  'next_word_upos': 'AUX',\n",
       "  'next_word_xpos_type': 'Tx',\n",
       "  'word_after_next_word': 'не',\n",
       "  'word_after_next_word_upos': 'INTJ',\n",
       "  'word_after_next_word_xpos_type': 'Tn',\n",
       "  'contains_publicistic_word': True},\n",
       " {'word': 'да',\n",
       "  'sent_len': 42,\n",
       "  'upos': 'AUX',\n",
       "  'first_word_in_sent': 'но',\n",
       "  'contains_interrogative_word': False,\n",
       "  'contains_interrogative_particle': False,\n",
       "  'contains_imperative_verb': False,\n",
       "  'contains_repetitive_conj_before': False,\n",
       "  'between_two_verbs': True,\n",
       "  'word_xpos_type': 'Tx',\n",
       "  'prev_word': 'бащите',\n",
       "  'prev_word_upos': 'NOUN',\n",
       "  'prev_word_xpos_type': 'Nc',\n",
       "  'prev_word_xpos_gender_number_article': 'mpd',\n",
       "  'word_before_prev_word': 'каза',\n",
       "  'word_before_prev_word_upos': 'VERB',\n",
       "  'word_before_prev_word_xpos_type': 'Vp',\n",
       "  'word_before_prev_word_xpos_gender_number_article': '-s',\n",
       "  'next_word': 'не',\n",
       "  'next_word_upos': 'INTJ',\n",
       "  'next_word_xpos_type': 'Tn',\n",
       "  'word_after_next_word': 'умират',\n",
       "  'word_after_next_word_upos': 'VERB',\n",
       "  'word_after_next_word_xpos_type': 'Vp',\n",
       "  'word_after_next_word_xpos_gender_number_article': '-p',\n",
       "  'contains_publicistic_word': True},\n",
       " {'word': 'не',\n",
       "  'sent_len': 42,\n",
       "  'upos': 'INTJ',\n",
       "  'first_word_in_sent': 'но',\n",
       "  'contains_interrogative_word': False,\n",
       "  'contains_interrogative_particle': False,\n",
       "  'contains_imperative_verb': False,\n",
       "  'contains_repetitive_conj_before': False,\n",
       "  'between_two_verbs': True,\n",
       "  'word_xpos_type': 'Tn',\n",
       "  'prev_word': 'да',\n",
       "  'prev_word_upos': 'AUX',\n",
       "  'prev_word_xpos_type': 'Tx',\n",
       "  'word_before_prev_word': 'бащите',\n",
       "  'word_before_prev_word_upos': 'NOUN',\n",
       "  'word_before_prev_word_xpos_type': 'Nc',\n",
       "  'word_before_prev_word_xpos_gender_number_article': 'mpd',\n",
       "  'next_word': 'умират',\n",
       "  'next_word_upos': 'VERB',\n",
       "  'next_word_xpos_type': 'Vp',\n",
       "  'next_word_xpos_gender_number_article': '-p',\n",
       "  'word_after_next_word': 'заради',\n",
       "  'word_after_next_word_upos': 'ADP',\n",
       "  'word_after_next_word_xpos_type': 'R',\n",
       "  'contains_publicistic_word': True},\n",
       " {'word': 'умират',\n",
       "  'sent_len': 42,\n",
       "  'upos': 'VERB',\n",
       "  'first_word_in_sent': 'но',\n",
       "  'contains_interrogative_word': False,\n",
       "  'contains_interrogative_particle': False,\n",
       "  'contains_imperative_verb': False,\n",
       "  'contains_repetitive_conj_before': False,\n",
       "  'between_two_verbs': True,\n",
       "  'word_xpos_type': 'Vp',\n",
       "  'word_xpos_gender_number_article': '-p',\n",
       "  'prev_word': 'не',\n",
       "  'prev_word_upos': 'INTJ',\n",
       "  'prev_word_xpos_type': 'Tn',\n",
       "  'word_before_prev_word': 'да',\n",
       "  'word_before_prev_word_upos': 'AUX',\n",
       "  'word_before_prev_word_xpos_type': 'Tx',\n",
       "  'next_word': 'заради',\n",
       "  'next_word_upos': 'ADP',\n",
       "  'next_word_xpos_type': 'R',\n",
       "  'word_after_next_word': 'синовете',\n",
       "  'word_after_next_word_upos': 'NOUN',\n",
       "  'word_after_next_word_xpos_type': 'Nc',\n",
       "  'word_after_next_word_xpos_gender_number_article': 'mpd',\n",
       "  'contains_publicistic_word': True},\n",
       " {'word': 'заради',\n",
       "  'sent_len': 42,\n",
       "  'upos': 'ADP',\n",
       "  'first_word_in_sent': 'но',\n",
       "  'contains_interrogative_word': False,\n",
       "  'contains_interrogative_particle': False,\n",
       "  'contains_imperative_verb': False,\n",
       "  'contains_repetitive_conj_before': False,\n",
       "  'between_two_verbs': True,\n",
       "  'word_xpos_type': 'R',\n",
       "  'prev_word': 'умират',\n",
       "  'prev_word_upos': 'VERB',\n",
       "  'prev_word_xpos_type': 'Vp',\n",
       "  'prev_word_xpos_gender_number_article': '-p',\n",
       "  'word_before_prev_word': 'не',\n",
       "  'word_before_prev_word_upos': 'INTJ',\n",
       "  'word_before_prev_word_xpos_type': 'Tn',\n",
       "  'next_word': 'синовете',\n",
       "  'next_word_upos': 'NOUN',\n",
       "  'next_word_xpos_type': 'Nc',\n",
       "  'next_word_xpos_gender_number_article': 'mpd',\n",
       "  'word_after_next_word': 'и',\n",
       "  'word_after_next_word_upos': 'CCONJ',\n",
       "  'word_after_next_word_xpos_type': 'Cp',\n",
       "  'contains_publicistic_word': True},\n",
       " {'word': 'синовете',\n",
       "  'sent_len': 42,\n",
       "  'upos': 'NOUN',\n",
       "  'first_word_in_sent': 'но',\n",
       "  'contains_interrogative_word': False,\n",
       "  'contains_interrogative_particle': False,\n",
       "  'contains_imperative_verb': False,\n",
       "  'contains_repetitive_conj_before': True,\n",
       "  'between_two_verbs': True,\n",
       "  'word_xpos_type': 'Nc',\n",
       "  'word_xpos_gender_number_article': 'mpd',\n",
       "  'prev_word': 'заради',\n",
       "  'prev_word_upos': 'ADP',\n",
       "  'prev_word_xpos_type': 'R',\n",
       "  'word_before_prev_word': 'умират',\n",
       "  'word_before_prev_word_upos': 'VERB',\n",
       "  'word_before_prev_word_xpos_type': 'Vp',\n",
       "  'word_before_prev_word_xpos_gender_number_article': '-p',\n",
       "  'next_word': 'и',\n",
       "  'next_word_upos': 'CCONJ',\n",
       "  'next_word_xpos_type': 'Cp',\n",
       "  'word_after_next_word': 'синовете',\n",
       "  'word_after_next_word_upos': 'NOUN',\n",
       "  'word_after_next_word_xpos_type': 'Nc',\n",
       "  'word_after_next_word_xpos_gender_number_article': 'mpd',\n",
       "  'contains_publicistic_word': True},\n",
       " {'word': 'и',\n",
       "  'sent_len': 42,\n",
       "  'upos': 'CCONJ',\n",
       "  'first_word_in_sent': 'но',\n",
       "  'contains_interrogative_word': False,\n",
       "  'contains_interrogative_particle': False,\n",
       "  'contains_imperative_verb': False,\n",
       "  'contains_repetitive_conj_before': False,\n",
       "  'between_two_verbs': True,\n",
       "  'word_xpos_type': 'Cp',\n",
       "  'prev_word': 'синовете',\n",
       "  'prev_word_upos': 'NOUN',\n",
       "  'prev_word_xpos_type': 'Nc',\n",
       "  'prev_word_xpos_gender_number_article': 'mpd',\n",
       "  'word_before_prev_word': 'заради',\n",
       "  'word_before_prev_word_upos': 'ADP',\n",
       "  'word_before_prev_word_xpos_type': 'R',\n",
       "  'next_word': 'синовете',\n",
       "  'next_word_upos': 'NOUN',\n",
       "  'next_word_xpos_type': 'Nc',\n",
       "  'next_word_xpos_gender_number_article': 'mpd',\n",
       "  'word_after_next_word': 'да',\n",
       "  'word_after_next_word_upos': 'AUX',\n",
       "  'word_after_next_word_xpos_type': 'Tx',\n",
       "  'contains_publicistic_word': True},\n",
       " {'word': 'синовете',\n",
       "  'sent_len': 42,\n",
       "  'upos': 'NOUN',\n",
       "  'first_word_in_sent': 'но',\n",
       "  'contains_interrogative_word': False,\n",
       "  'contains_interrogative_particle': False,\n",
       "  'contains_imperative_verb': False,\n",
       "  'contains_repetitive_conj_before': False,\n",
       "  'between_two_verbs': True,\n",
       "  'word_xpos_type': 'Nc',\n",
       "  'word_xpos_gender_number_article': 'mpd',\n",
       "  'prev_word': 'и',\n",
       "  'prev_word_upos': 'CCONJ',\n",
       "  'prev_word_xpos_type': 'Cp',\n",
       "  'word_before_prev_word': 'синовете',\n",
       "  'word_before_prev_word_upos': 'NOUN',\n",
       "  'word_before_prev_word_xpos_type': 'Nc',\n",
       "  'word_before_prev_word_xpos_gender_number_article': 'mpd',\n",
       "  'next_word': 'да',\n",
       "  'next_word_upos': 'AUX',\n",
       "  'next_word_xpos_type': 'Tx',\n",
       "  'word_after_next_word': 'не',\n",
       "  'word_after_next_word_upos': 'INTJ',\n",
       "  'word_after_next_word_xpos_type': 'Tn',\n",
       "  'contains_publicistic_word': True},\n",
       " {'word': 'да',\n",
       "  'sent_len': 42,\n",
       "  'upos': 'AUX',\n",
       "  'first_word_in_sent': 'но',\n",
       "  'contains_interrogative_word': False,\n",
       "  'contains_interrogative_particle': False,\n",
       "  'contains_imperative_verb': False,\n",
       "  'contains_repetitive_conj_before': False,\n",
       "  'between_two_verbs': True,\n",
       "  'word_xpos_type': 'Tx',\n",
       "  'prev_word': 'синовете',\n",
       "  'prev_word_upos': 'NOUN',\n",
       "  'prev_word_xpos_type': 'Nc',\n",
       "  'prev_word_xpos_gender_number_article': 'mpd',\n",
       "  'word_before_prev_word': 'и',\n",
       "  'word_before_prev_word_upos': 'CCONJ',\n",
       "  'word_before_prev_word_xpos_type': 'Cp',\n",
       "  'next_word': 'не',\n",
       "  'next_word_upos': 'INTJ',\n",
       "  'next_word_xpos_type': 'Tn',\n",
       "  'word_after_next_word': 'умират',\n",
       "  'word_after_next_word_upos': 'VERB',\n",
       "  'word_after_next_word_xpos_type': 'Vp',\n",
       "  'word_after_next_word_xpos_gender_number_article': '-p',\n",
       "  'contains_publicistic_word': True},\n",
       " {'word': 'не',\n",
       "  'sent_len': 42,\n",
       "  'upos': 'INTJ',\n",
       "  'first_word_in_sent': 'но',\n",
       "  'contains_interrogative_word': False,\n",
       "  'contains_interrogative_particle': False,\n",
       "  'contains_imperative_verb': False,\n",
       "  'contains_repetitive_conj_before': False,\n",
       "  'between_two_verbs': True,\n",
       "  'word_xpos_type': 'Tn',\n",
       "  'prev_word': 'да',\n",
       "  'prev_word_upos': 'AUX',\n",
       "  'prev_word_xpos_type': 'Tx',\n",
       "  'word_before_prev_word': 'синовете',\n",
       "  'word_before_prev_word_upos': 'NOUN',\n",
       "  'word_before_prev_word_xpos_type': 'Nc',\n",
       "  'word_before_prev_word_xpos_gender_number_article': 'mpd',\n",
       "  'next_word': 'умират',\n",
       "  'next_word_upos': 'VERB',\n",
       "  'next_word_xpos_type': 'Vp',\n",
       "  'next_word_xpos_gender_number_article': '-p',\n",
       "  'word_after_next_word': 'заради',\n",
       "  'word_after_next_word_upos': 'ADP',\n",
       "  'word_after_next_word_xpos_type': 'R',\n",
       "  'contains_publicistic_word': True},\n",
       " {'word': 'умират',\n",
       "  'sent_len': 42,\n",
       "  'upos': 'VERB',\n",
       "  'first_word_in_sent': 'но',\n",
       "  'contains_interrogative_word': False,\n",
       "  'contains_interrogative_particle': False,\n",
       "  'contains_imperative_verb': False,\n",
       "  'contains_repetitive_conj_before': False,\n",
       "  'between_two_verbs': True,\n",
       "  'word_xpos_type': 'Vp',\n",
       "  'word_xpos_gender_number_article': '-p',\n",
       "  'prev_word': 'не',\n",
       "  'prev_word_upos': 'INTJ',\n",
       "  'prev_word_xpos_type': 'Tn',\n",
       "  'word_before_prev_word': 'да',\n",
       "  'word_before_prev_word_upos': 'AUX',\n",
       "  'word_before_prev_word_xpos_type': 'Tx',\n",
       "  'next_word': 'заради',\n",
       "  'next_word_upos': 'ADP',\n",
       "  'next_word_xpos_type': 'R',\n",
       "  'word_after_next_word': 'бащите',\n",
       "  'word_after_next_word_upos': 'NOUN',\n",
       "  'word_after_next_word_xpos_type': 'Nc',\n",
       "  'word_after_next_word_xpos_gender_number_article': 'mpd',\n",
       "  'contains_publicistic_word': True},\n",
       " {'word': 'заради',\n",
       "  'sent_len': 42,\n",
       "  'upos': 'ADP',\n",
       "  'first_word_in_sent': 'но',\n",
       "  'contains_interrogative_word': False,\n",
       "  'contains_interrogative_particle': False,\n",
       "  'contains_imperative_verb': False,\n",
       "  'contains_repetitive_conj_before': False,\n",
       "  'between_two_verbs': True,\n",
       "  'word_xpos_type': 'R',\n",
       "  'prev_word': 'умират',\n",
       "  'prev_word_upos': 'VERB',\n",
       "  'prev_word_xpos_type': 'Vp',\n",
       "  'prev_word_xpos_gender_number_article': '-p',\n",
       "  'word_before_prev_word': 'не',\n",
       "  'word_before_prev_word_upos': 'INTJ',\n",
       "  'word_before_prev_word_xpos_type': 'Tn',\n",
       "  'next_word': 'бащите',\n",
       "  'next_word_upos': 'NOUN',\n",
       "  'next_word_xpos_type': 'Nc',\n",
       "  'next_word_xpos_gender_number_article': 'mpd',\n",
       "  'word_after_next_word': 'а',\n",
       "  'word_after_next_word_upos': 'CCONJ',\n",
       "  'word_after_next_word_xpos_type': 'Cp',\n",
       "  'contains_publicistic_word': True},\n",
       " {'word': 'бащите',\n",
       "  'sent_len': 42,\n",
       "  'upos': 'NOUN',\n",
       "  'first_word_in_sent': 'но',\n",
       "  'contains_interrogative_word': False,\n",
       "  'contains_interrogative_particle': False,\n",
       "  'contains_imperative_verb': False,\n",
       "  'contains_repetitive_conj_before': True,\n",
       "  'between_two_verbs': True,\n",
       "  'word_xpos_type': 'Nc',\n",
       "  'word_xpos_gender_number_article': 'mpd',\n",
       "  'prev_word': 'заради',\n",
       "  'prev_word_upos': 'ADP',\n",
       "  'prev_word_xpos_type': 'R',\n",
       "  'word_before_prev_word': 'умират',\n",
       "  'word_before_prev_word_upos': 'VERB',\n",
       "  'word_before_prev_word_xpos_type': 'Vp',\n",
       "  'word_before_prev_word_xpos_gender_number_article': '-p',\n",
       "  'next_word': 'а',\n",
       "  'next_word_upos': 'CCONJ',\n",
       "  'next_word_xpos_type': 'Cp',\n",
       "  'word_after_next_word': 'всеки',\n",
       "  'word_after_next_word_upos': 'PRON',\n",
       "  'word_after_next_word_xpos_type': 'Pc',\n",
       "  'word_after_next_word_xpos_gender_number_article': 'ms',\n",
       "  'word_after_next_word_xpos_ref_type': 'e',\n",
       "  'contains_publicistic_word': True},\n",
       " {'word': 'а',\n",
       "  'sent_len': 42,\n",
       "  'upos': 'CCONJ',\n",
       "  'first_word_in_sent': 'но',\n",
       "  'contains_interrogative_word': False,\n",
       "  'contains_interrogative_particle': False,\n",
       "  'contains_imperative_verb': False,\n",
       "  'contains_repetitive_conj_before': False,\n",
       "  'between_two_verbs': True,\n",
       "  'word_xpos_type': 'Cp',\n",
       "  'prev_word': 'бащите',\n",
       "  'prev_word_upos': 'NOUN',\n",
       "  'prev_word_xpos_type': 'Nc',\n",
       "  'prev_word_xpos_gender_number_article': 'mpd',\n",
       "  'word_before_prev_word': 'заради',\n",
       "  'word_before_prev_word_upos': 'ADP',\n",
       "  'word_before_prev_word_xpos_type': 'R',\n",
       "  'next_word': 'всеки',\n",
       "  'next_word_upos': 'PRON',\n",
       "  'next_word_xpos_type': 'Pc',\n",
       "  'next_word_xpos_gender_number_article': 'ms',\n",
       "  'next_word_xpos_ref_type': 'e',\n",
       "  'word_after_next_word': 'да',\n",
       "  'word_after_next_word_upos': 'AUX',\n",
       "  'word_after_next_word_xpos_type': 'Tx',\n",
       "  'contains_publicistic_word': True},\n",
       " {'word': 'всеки',\n",
       "  'sent_len': 42,\n",
       "  'upos': 'PRON',\n",
       "  'first_word_in_sent': 'но',\n",
       "  'contains_interrogative_word': False,\n",
       "  'contains_interrogative_particle': False,\n",
       "  'contains_imperative_verb': False,\n",
       "  'contains_repetitive_conj_before': False,\n",
       "  'between_two_verbs': True,\n",
       "  'word_xpos_type': 'Pc',\n",
       "  'word_xpos_gender_number_article': 'ms',\n",
       "  'word_xpos_ref_type': 'e',\n",
       "  'prev_word': 'а',\n",
       "  'prev_word_upos': 'CCONJ',\n",
       "  'prev_word_xpos_type': 'Cp',\n",
       "  'word_before_prev_word': 'бащите',\n",
       "  'word_before_prev_word_upos': 'NOUN',\n",
       "  'word_before_prev_word_xpos_type': 'Nc',\n",
       "  'word_before_prev_word_xpos_gender_number_article': 'mpd',\n",
       "  'next_word': 'да',\n",
       "  'next_word_upos': 'AUX',\n",
       "  'next_word_xpos_type': 'Tx',\n",
       "  'word_after_next_word': 'умира',\n",
       "  'word_after_next_word_upos': 'VERB',\n",
       "  'word_after_next_word_xpos_type': 'Vp',\n",
       "  'word_after_next_word_xpos_gender_number_article': '-s',\n",
       "  'contains_publicistic_word': True},\n",
       " {'word': 'да',\n",
       "  'sent_len': 42,\n",
       "  'upos': 'AUX',\n",
       "  'first_word_in_sent': 'но',\n",
       "  'contains_interrogative_word': False,\n",
       "  'contains_interrogative_particle': False,\n",
       "  'contains_imperative_verb': False,\n",
       "  'contains_repetitive_conj_before': False,\n",
       "  'between_two_verbs': True,\n",
       "  'word_xpos_type': 'Tx',\n",
       "  'prev_word': 'всеки',\n",
       "  'prev_word_upos': 'PRON',\n",
       "  'prev_word_xpos_type': 'Pc',\n",
       "  'prev_word_xpos_gender_number_article': 'ms',\n",
       "  'prev_word_xpos_ref_type': 'e',\n",
       "  'word_before_prev_word': 'а',\n",
       "  'word_before_prev_word_upos': 'CCONJ',\n",
       "  'word_before_prev_word_xpos_type': 'Cp',\n",
       "  'next_word': 'умира',\n",
       "  'next_word_upos': 'VERB',\n",
       "  'next_word_xpos_type': 'Vp',\n",
       "  'next_word_xpos_gender_number_article': '-s',\n",
       "  'word_after_next_word': 'за',\n",
       "  'word_after_next_word_upos': 'ADP',\n",
       "  'word_after_next_word_xpos_type': 'R',\n",
       "  'contains_publicistic_word': True},\n",
       " {'word': 'умира',\n",
       "  'sent_len': 42,\n",
       "  'upos': 'VERB',\n",
       "  'first_word_in_sent': 'но',\n",
       "  'contains_interrogative_word': False,\n",
       "  'contains_interrogative_particle': False,\n",
       "  'contains_imperative_verb': False,\n",
       "  'contains_repetitive_conj_before': False,\n",
       "  'between_two_verbs': False,\n",
       "  'word_xpos_type': 'Vp',\n",
       "  'word_xpos_gender_number_article': '-s',\n",
       "  'prev_word': 'да',\n",
       "  'prev_word_upos': 'AUX',\n",
       "  'prev_word_xpos_type': 'Tx',\n",
       "  'word_before_prev_word': 'всеки',\n",
       "  'word_before_prev_word_upos': 'PRON',\n",
       "  'word_before_prev_word_xpos_type': 'Pc',\n",
       "  'word_before_prev_word_xpos_gender_number_article': 'ms',\n",
       "  'word_before_prev_word_xpos_ref_type': 'e',\n",
       "  'next_word': 'за',\n",
       "  'next_word_upos': 'ADP',\n",
       "  'next_word_xpos_type': 'R',\n",
       "  'word_after_next_word': 'собствения',\n",
       "  'word_after_next_word_upos': 'ADJ',\n",
       "  'word_after_next_word_xpos_type': 'A',\n",
       "  'word_after_next_word_xpos_gender_number_article': 'msh',\n",
       "  'contains_publicistic_word': True},\n",
       " {'word': 'за',\n",
       "  'sent_len': 42,\n",
       "  'upos': 'ADP',\n",
       "  'first_word_in_sent': 'но',\n",
       "  'contains_interrogative_word': False,\n",
       "  'contains_interrogative_particle': False,\n",
       "  'contains_imperative_verb': False,\n",
       "  'contains_repetitive_conj_before': False,\n",
       "  'between_two_verbs': False,\n",
       "  'word_xpos_type': 'R',\n",
       "  'prev_word': 'умира',\n",
       "  'prev_word_upos': 'VERB',\n",
       "  'prev_word_xpos_type': 'Vp',\n",
       "  'prev_word_xpos_gender_number_article': '-s',\n",
       "  'word_before_prev_word': 'да',\n",
       "  'word_before_prev_word_upos': 'AUX',\n",
       "  'word_before_prev_word_xpos_type': 'Tx',\n",
       "  'next_word': 'собствения',\n",
       "  'next_word_upos': 'ADJ',\n",
       "  'next_word_xpos_type': 'A',\n",
       "  'next_word_xpos_gender_number_article': 'msh',\n",
       "  'word_after_next_word': 'си',\n",
       "  'word_after_next_word_upos': 'PRON',\n",
       "  'word_after_next_word_xpos_type': 'Ps',\n",
       "  'word_after_next_word_xpos_gender_number_article': '',\n",
       "  'contains_publicistic_word': True},\n",
       " {'word': 'собствения',\n",
       "  'sent_len': 42,\n",
       "  'upos': 'ADJ',\n",
       "  'first_word_in_sent': 'но',\n",
       "  'contains_interrogative_word': False,\n",
       "  'contains_interrogative_particle': False,\n",
       "  'contains_imperative_verb': False,\n",
       "  'contains_repetitive_conj_before': False,\n",
       "  'between_two_verbs': False,\n",
       "  'word_xpos_type': 'A',\n",
       "  'word_xpos_gender_number_article': 'msh',\n",
       "  'prev_word': 'за',\n",
       "  'prev_word_upos': 'ADP',\n",
       "  'prev_word_xpos_type': 'R',\n",
       "  'word_before_prev_word': 'умира',\n",
       "  'word_before_prev_word_upos': 'VERB',\n",
       "  'word_before_prev_word_xpos_type': 'Vp',\n",
       "  'word_before_prev_word_xpos_gender_number_article': '-s',\n",
       "  'next_word': 'си',\n",
       "  'next_word_upos': 'PRON',\n",
       "  'next_word_xpos_type': 'Ps',\n",
       "  'next_word_xpos_gender_number_article': '',\n",
       "  'word_after_next_word': 'грях',\n",
       "  'word_after_next_word_upos': 'NOUN',\n",
       "  'word_after_next_word_xpos_type': 'Nc',\n",
       "  'word_after_next_word_xpos_gender_number_article': 'msi',\n",
       "  'contains_publicistic_word': True},\n",
       " {'word': 'си',\n",
       "  'sent_len': 42,\n",
       "  'upos': 'PRON',\n",
       "  'first_word_in_sent': 'но',\n",
       "  'contains_interrogative_word': False,\n",
       "  'contains_interrogative_particle': False,\n",
       "  'contains_imperative_verb': False,\n",
       "  'contains_repetitive_conj_before': False,\n",
       "  'between_two_verbs': False,\n",
       "  'word_xpos_type': 'Ps',\n",
       "  'word_xpos_gender_number_article': '',\n",
       "  'prev_word': 'собствения',\n",
       "  'prev_word_upos': 'ADJ',\n",
       "  'prev_word_xpos_type': 'A',\n",
       "  'prev_word_xpos_gender_number_article': 'msh',\n",
       "  'word_before_prev_word': 'за',\n",
       "  'word_before_prev_word_upos': 'ADP',\n",
       "  'word_before_prev_word_xpos_type': 'R',\n",
       "  'next_word': 'грях',\n",
       "  'next_word_upos': 'NOUN',\n",
       "  'next_word_xpos_type': 'Nc',\n",
       "  'next_word_xpos_gender_number_article': 'msi',\n",
       "  'contains_publicistic_word': True},\n",
       " {'word': 'грях',\n",
       "  'sent_len': 42,\n",
       "  'upos': 'NOUN',\n",
       "  'first_word_in_sent': 'но',\n",
       "  'contains_interrogative_word': False,\n",
       "  'contains_interrogative_particle': False,\n",
       "  'contains_imperative_verb': False,\n",
       "  'contains_repetitive_conj_before': False,\n",
       "  'between_two_verbs': False,\n",
       "  'word_xpos_type': 'Nc',\n",
       "  'word_xpos_gender_number_article': 'msi',\n",
       "  'prev_word': 'си',\n",
       "  'prev_word_upos': 'PRON',\n",
       "  'prev_word_xpos_type': 'Ps',\n",
       "  'prev_word_xpos_gender_number_article': '',\n",
       "  'word_before_prev_word': 'собствения',\n",
       "  'word_before_prev_word_upos': 'ADJ',\n",
       "  'word_before_prev_word_xpos_type': 'A',\n",
       "  'word_before_prev_word_xpos_gender_number_article': 'msh',\n",
       "  'EOS': True,\n",
       "  'contains_publicistic_word': True}]"
      ]
     },
     "execution_count": 9,
     "metadata": {},
     "output_type": "execute_result"
    }
   ],
   "source": [
    "X_dev[0]"
   ]
  },
  {
   "cell_type": "code",
   "execution_count": 10,
   "id": "fa41365e",
   "metadata": {},
   "outputs": [],
   "source": [
    "v = DictVectorizer()\n",
    "X_train_60_svm = v.fit_transform(X_train_60_flat)\n",
    "X_dev_svm = v.transform(X_dev_flat)"
   ]
  },
  {
   "cell_type": "code",
   "execution_count": 11,
   "id": "8f5d16c3",
   "metadata": {},
   "outputs": [],
   "source": [
    "le = preprocessing.LabelEncoder()\n",
    "y_train_60_svm = le.fit_transform(y_train_60_flat)\n",
    "y_dev_svm = le.transform(y_dev_flat)"
   ]
  },
  {
   "cell_type": "code",
   "execution_count": 12,
   "id": "b9df0e30",
   "metadata": {},
   "outputs": [
    {
     "data": {
      "text/plain": [
       "array(['', '!', '\"', '\",', '\".', '(', ')', '),', ').', ',', '-', '.',\n",
       "       '...', ':', ':\"', ';', '?'], dtype='<U3')"
      ]
     },
     "execution_count": 12,
     "metadata": {},
     "output_type": "execute_result"
    }
   ],
   "source": [
    "le.classes_"
   ]
  },
  {
   "cell_type": "markdown",
   "id": "2d77ac88",
   "metadata": {},
   "source": [
    "### Random Forest Model"
   ]
  },
  {
   "cell_type": "code",
   "execution_count": 13,
   "id": "3b26ff0e",
   "metadata": {},
   "outputs": [
    {
     "name": "stdout",
     "output_type": "stream",
     "text": [
      "CPU times: user 1d 21h 38min 18s, sys: 7min 20s, total: 1d 21h 45min 38s\n",
      "Wall time: 4h 4min 15s\n"
     ]
    },
    {
     "data": {
      "text/plain": [
       "RandomForestClassifier(n_jobs=-1)"
      ]
     },
     "execution_count": 13,
     "metadata": {},
     "output_type": "execute_result"
    }
   ],
   "source": [
    "%%time\n",
    "clf = RandomForestClassifier(n_jobs=-1)\n",
    "clf.fit(X_train_60_svm, y_train_60_svm)"
   ]
  },
  {
   "cell_type": "code",
   "execution_count": 14,
   "id": "fba40cd7",
   "metadata": {},
   "outputs": [],
   "source": [
    "pkl_filename = '../../data/random_forest_model.pkl'\n",
    "with open(pkl_filename, 'wb') as file:\n",
    "    pickle.dump(clf, file)"
   ]
  },
  {
   "cell_type": "code",
   "execution_count": 15,
   "id": "510819f8",
   "metadata": {},
   "outputs": [],
   "source": [
    "labels = list(clf.classes_)"
   ]
  },
  {
   "cell_type": "code",
   "execution_count": 16,
   "id": "ee5bd768",
   "metadata": {},
   "outputs": [],
   "source": [
    "y_pred = clf.predict(X_dev_svm)"
   ]
  },
  {
   "cell_type": "code",
   "execution_count": 17,
   "id": "766e8b0d",
   "metadata": {},
   "outputs": [],
   "source": [
    "target_names = list(le.classes_)"
   ]
  },
  {
   "cell_type": "code",
   "execution_count": 18,
   "id": "b6a4610e",
   "metadata": {},
   "outputs": [
    {
     "name": "stdout",
     "output_type": "stream",
     "text": [
      "              precision    recall  f1-score   support\n",
      "\n",
      "                  0.954     0.998     0.975    240418\n",
      "           !      0.667     0.118     0.200       373\n",
      "           \"      0.774     0.128     0.220      2243\n",
      "          \",      0.761     0.447     0.563       848\n",
      "          \".      0.833     0.067     0.123       300\n",
      "           (      0.979     0.866     0.919      1693\n",
      "           )      0.925     0.795     0.855      1003\n",
      "          ),      0.945     0.577     0.716       385\n",
      "          ).      0.976     0.919     0.947       271\n",
      "           ,      0.926     0.614     0.738     18651\n",
      "           -      0.852     0.111     0.197       935\n",
      "           .      0.919     0.990     0.954     11435\n",
      "         ...      1.000     0.014     0.028        70\n",
      "           :      0.973     0.353     0.518       935\n",
      "          :\"      0.000     0.000     0.000        68\n",
      "           ;      0.741     0.032     0.061       628\n",
      "           ?      0.852     0.203     0.328       453\n",
      "\n",
      "    accuracy                          0.950    280709\n",
      "   macro avg      0.828     0.425     0.491    280709\n",
      "weighted avg      0.947     0.950     0.941    280709\n",
      "\n"
     ]
    },
    {
     "name": "stderr",
     "output_type": "stream",
     "text": [
      "/Users/mter0707/opt/anaconda3/envs/masters/lib/python3.6/site-packages/sklearn/metrics/_classification.py:1221: UndefinedMetricWarning: Precision and F-score are ill-defined and being set to 0.0 in labels with no predicted samples. Use `zero_division` parameter to control this behavior.\n",
      "  _warn_prf(average, modifier, msg_start, len(result))\n"
     ]
    }
   ],
   "source": [
    "print(classification_report(y_dev_svm, y_pred, labels=labels, target_names=target_names, digits=3))"
   ]
  },
  {
   "cell_type": "code",
   "execution_count": 19,
   "id": "1865739f",
   "metadata": {},
   "outputs": [],
   "source": [
    "target_names.remove('')"
   ]
  },
  {
   "cell_type": "code",
   "execution_count": 20,
   "id": "94e532c4",
   "metadata": {},
   "outputs": [],
   "source": [
    "labels.remove(0)"
   ]
  },
  {
   "cell_type": "code",
   "execution_count": 21,
   "id": "6f41a523",
   "metadata": {},
   "outputs": [
    {
     "name": "stdout",
     "output_type": "stream",
     "text": [
      "              precision    recall  f1-score   support\n",
      "\n",
      "           !      0.667     0.118     0.200       373\n",
      "           \"      0.774     0.128     0.220      2243\n",
      "          \",      0.761     0.447     0.563       848\n",
      "          \".      0.833     0.067     0.123       300\n",
      "           (      0.979     0.866     0.919      1693\n",
      "           )      0.925     0.795     0.855      1003\n",
      "          ),      0.945     0.577     0.716       385\n",
      "          ).      0.976     0.919     0.947       271\n",
      "           ,      0.926     0.614     0.738     18651\n",
      "           -      0.852     0.111     0.197       935\n",
      "           .      0.919     0.990     0.954     11435\n",
      "         ...      1.000     0.014     0.028        70\n",
      "           :      0.973     0.353     0.518       935\n",
      "          :\"      0.000     0.000     0.000        68\n",
      "           ;      0.741     0.032     0.061       628\n",
      "           ?      0.852     0.203     0.328       453\n",
      "\n",
      "   micro avg      0.921     0.665     0.772     40291\n",
      "   macro avg      0.820     0.390     0.460     40291\n",
      "weighted avg      0.906     0.665     0.734     40291\n",
      "\n"
     ]
    }
   ],
   "source": [
    "print(classification_report(y_dev_svm, y_pred, labels=labels, target_names=target_names, digits=3))"
   ]
  },
  {
   "cell_type": "code",
   "execution_count": 22,
   "id": "21869354",
   "metadata": {},
   "outputs": [
    {
     "name": "stdout",
     "output_type": "stream",
     "text": [
      "но синовете им не умъртви, защото постъпи според писаното в закона в книгата на мойсей, където господ заповяда и каза бащите да не умират заради синовете и синовете да не умират заради бащите, а всеки да умира за собствения си грях. но когато ти говоря ще отворя устата ти и ти им кажи: така казва господ бог, който слуша, нека слуша а който не слуша нека не слуша защото са бунтовен дом. защото кой е по-голям този, който седи на трапезата ли или онзи, който слугува? а след това ще се насели както в предишните дни, заявява господ. а той беше на задната част, заспал на възглавница. ефрем е като птица славата му ще отлети. и така, той си отиде от него на известно разстояние. не бягам при халдейците. и израилевите синове излязоха от египетската земя строени. а когато ахитофел видя, че съветът му не се изпълни оседла магарето си и стана, и отиде у дома си в своя град и нареди домашните си работи и се обеси. ако умре някое животно от добитъка, който можете да ядете който се допре до мършата му ще бъде нечист до вечерта. но помощник съответен на адам не се намери. който задържа жито народът ще го проклина, а благословение ще почива на главата на този, който го продава. този човек беше праведен и благочестив и чакаше утехата на израил и светият дух беше на него. всичко е възможно за този, който вярва. и видях височината на дома околовръст основите на страничните стаи бяха една цяла тръстика от шест големи лакътя. после да вземеш тлъстината на овена, опашката и тлъстината, която покрива вътрешностите булото на дроба, двата бъбрека с тлъстината, която е около тях и дясното бедро, защото е овен на посвещение и един хляб една пита хляб месен с маслинено масло и една кора от коша на безквасните хлябове, които са пред господа. и от дима излязоха скакалци по земята и им се даде власт като властта, която имат земните скорпиони. ти си господи само ти и ще предаде израил заради греховете на еровоам, с които съгреши и с които въведе израил в грях. синове на елифаз: теман и омар, сефи и готом, кенез и тамна, и амалик. а гладът в самария беше страшен. затова казах в сърцето си, че и това е суета. насладих се на сянката му и седнах и плодът му бе сладък в устата ми. защото така ми каза господ, както ръмжи над лова си лъвът младият лъв срещу когото се свикват множество овчари и не се плаши от гласа им и не се отдръпва пред шума им, така господ на войнствата ще слезе, за да воюва за хълма сион и за неговото възвишение. отче свети опази ги в името си, което си ми дал, за да бъдат едно, както сме и ние. и да правите разлика между чистите животни и нечистите и между нечистите птици и чистите и да не осквернявате себе си с животно или с птица, или с каквото и да е което пълзи по земята, което аз съм ви отделил като нечисто. и господ укрепи моавския цар еглон против израил, защото вършиха зло пред господа. и духът ми каза да отида с тях, без да се двоумя. в двадесет и седмата година на израилевия цар еровоам се възцари азария, синът на юдовия цар амасия. защото вашата послушност е известна на всички затова се радвам за вас. той изтегля всички с въдица, влачи ги в мрежата си и ги събира в рибарската си мрежа затова се радва и се весели. благословен да е господ бог богът на израил, който единствен върши чудеса. и които влязоха мъжко и женско от всяка плът влязоха, както бог му беше заповядал и господ затвори след него. тогава царят каза на божия човек ела с мен у дома и се подкрепи, и ще ти дам подарък. и ето въпреки че е посадена ще успее ли? от дома тогарма даваха за стоките ти коне бойни коне и мулета. затова заповядай гробът да се пази здраво до третия ден, да не би учениците му да дойдат и да го откраднат и да кажат на народа, възкръсна от мъртвите. и когато отвори петия печат видях под олтара душите на онези, които са били заклани за божието слово и за свидетелството, което държаха. и свещениците, които служат на господа са синовете на аарон и левитите са в службата. той тича след тях с умолителни думи, но тях ги няма. и измери дължината му четиридесет лакътя и ширината му- двадесет лакътя. затова, така казва господ, бог на войнствата, израилевият бог: ето, аз ще докарам върху юда и върху всичките ерусалимски жители цялото зло, което говорих против тях, защото им говорих, но не слушаха и ги виках, но не отговаряха. сине мой, слушай наставлението на баща си и не отхвърляй закона на майка си, защото те ще бъдат благодатен венец за главата ти и огърлица за шията ти. тогава облакът започна да се издига от града в димен стълб и вениамин се обърна и ето, целият град се издигаше в пламъци към небето. в онзи ден няма да се срамуваш от всичките си дела, с които си отстъпил от мен, защото тогава ще отнема отсред теб твоите, които горделиво тържествуват и ти няма вече да се държиш надменно на светия ми хълм. а свинарите, като видяха станалото избягаха и разказаха за това в града и в селата. и илий благослови елкана и жена му и каза господ да ти даде потомство от тази жена вместо заетото, което беше посветено на господа. и ако живее във вас духът на този, който възкреси иисус от мъртвите то този, който възкреси христос от мъртвите ще съживи и вашите смъртни тела чрез духа си, който живее във вас. а господ си извърши, както беше говорил чрез мен и господ откъсна царството от ръката ти и го даде на ближния ти на давид. даде и храна за магаретата им. книгата на видението на елкусеянина наум. и направи олтара за всеизгаряне от акациево дърво, пет лакътя беше дължината му и пет лакътя беше ширината му четвъртит и три лакътя беше височината му. те ми казаха направи ни богове, които да ходят пред нас, защото на този мойсей човека, който ни изведе от египетската земя не знаем какво му стана? тогава мардохей каза да отговорят на естир не мисли в себе си, че от всичките юдеи само ти ще се избавиш в царския дом. но аз не бих познал греха освен чрез закона, защото не бих знаел пожелание, ако законът не беше казал, не пожелавай. тогава народът му си спомни за древните дни на мойсей къде е онзи, който ги изведе от морето с пастирите на стадото си. и три пъти в годината соломон принасяше всеизгаряния и примирителни жертви върху олтара, който построи на господа и кадеше върху олтара, който беше пред господа. и след като им поставиха старейшини във всяка църква и се помолиха с пост, ги препоръчаха на господа, в когото бяха повярвали. с нея той подейства в христос, като го възкреси от мъртвите и го сложи да седне от дясната си страна на небесата далеч над всяко началство и власт, и сила, и господство и всяко име, с което се наименуват не само в този свят, но и в бъдещия. стрелец срещу стрелец да опъва лъка си и срещу онзи, който се надига в бронята си. затова онази нива е наречена и до днес кръвна нива. и така, слугите на цар езекия отидоха при исая. и никой свещеник да не пие вино, когато влиза във вътрешния двор. и охозия падна през решетката на горната си стая в самария и се разболя. защо не разбирате моето говорене. а лаван в отговор каза на яков тези дъщери са мои дъщери и синовете са мои синове и стадата са мои стада. а чуждият който се приближи да се умъртви. и двамата сина на илий: офний и финеес бяха там с ковчега на божия завет. иисус му каза лисиците си имат леговища и небесните птици гнезда а човешкият син няма къде глава да подслони. от кръвта на убитите от тлъстината на силните лъкът на йонатан не се обръщаше назад и мечът на саул не се връщаше празен. станах за присмех на целия си народ и за тяхна подигравателна песен цял ден. да учите на тях синовете си, като говорите за тях, когато седиш в къщата си, когато ходиш по пътя, когато лягаш и когато ставаш. и господ се разкая за злото, което беше казал, че ще направи на народа си. а юда изпрати ярето чрез ръката на приятеля си одоламеца, за да вземе залога от ръката на жената, но той не я намери. и царят заповяда и доведоха онези мъже, които бяха издали даниил и хвърлиха тях децата им и жените им в рова на лъвовете и още преди да стигнат до дъното на рова лъвовете ги сграбчиха и строшиха всичките им кости. и йоав и народът, който беше с него, настъпиха за битката против арамейците и те побягнаха пред него. и като го повикаха тертил започна да обвинява, като казваше, понеже чрез теб честити феликсе се радваме на голямо спокойствие и понеже чрез твоята предвидливост има подобрения за този народ то ние с пълна благодарност винаги и навсякъде посрещаме това. защото йоан казваше на ирод: не ти е позволено да имаш жената на брат си. а в първия ден на седмицата много рано сутринта те дойдоха на гроба, като носеха благоуханните масла, които бяха приготвили. ще бъде ли добре да ви изпита той. след това яков каза на лаван: дай жена ми, защото дойде време да вляза при нея. а посветените дарове бяха шестстотин говеда и три хиляди овце. кога ще се събудя, за да продължа да го потърся пак. изнемогвам от викането си гърлото ми е пресъхнало очите ми чезнат, докато чакам своя бог. това са родовете на мерарий. на следващия ден едно голямо множество, което беше дошло на празника, като чуха, че иисус идвал в ерусалим взеха палмови клони и излязоха да го посрещнат, викайки осанна. и той каза: имам нещо да ти кажа. ако някой, който е престъпил закона на мойсей умира безпощадно при думата на двама или трима свидетели то колко по-тежко наказание мислите ще заслужи онзи, който е потъпкал божия син и е счел за просто нещо кръвта на завета, с която е бил осветен и е оскърбил духа на благодатта. върни се сине мой давиде, защото няма вече да ти сторя зло, понеже днес животът ми беше скъпоценен пред очите ти. ще дойдат големци от египет, етиопия бързо ще протегне ръцете си към бога. затова хората му се боят и той не гледа на никого от мъдрите по сърце. и го следваше голямо множество от народ и жени, които плачеха за него. ето ви семе засейте земята. и давид дойде във ваал-ферасим и давид ги разби там и каза господ разсече пред мен враговете ми, както водите правят пролом. кадилниците на тези мъже, които съгрешиха против живота си нека ги направят на плочи за обковаване на олтара, защото те ги принесоха пред господа и затова са свети и те ще бъдат за знамение на израилевите синове. и когато фараонът отказваше да ни пусне господ уби всяко първородно в египетската земя, от първородно на човек до първородно на животно, затова жертвам на господа всяко първородно, което е мъжко а всеки първороден от синовете си изкупувам. а без вяра не е възможно да се угоди на бога, защото който идва при бога трябва да вярва, че той съществува и че възнаграждава тези, които го търсят. и докато още говореше с тях, ето пратеникът слезе при него и каза: ето това зло е от господа. а вие сами ли ще продадете братята си. а ето тези, които се изкачиха от тел-мелах, тел-ариса, херуф, адон и емир, но не можаха да покажат бащините си домове и произхода си, дали са от израил: синовете н\n"
     ]
    }
   ],
   "source": [
    "actual_y_pred = le.inverse_transform(y_pred)\n",
    "punctuated_sentences = scikit_punctuate(X_dev_flat, actual_y_pred)\n",
    "print(punctuated_sentences[:10735])"
   ]
  },
  {
   "cell_type": "markdown",
   "id": "73672fa5",
   "metadata": {},
   "source": [
    "#### Results: Great precision with a bit low recall"
   ]
  },
  {
   "cell_type": "markdown",
   "id": "fc3f7d22",
   "metadata": {},
   "source": [
    "### Random Forest - Entropy instead of Gini"
   ]
  },
  {
   "cell_type": "code",
   "execution_count": 25,
   "id": "6a17303d",
   "metadata": {},
   "outputs": [
    {
     "name": "stdout",
     "output_type": "stream",
     "text": [
      "CPU times: user 1d 22h 39min 39s, sys: 9min 26s, total: 1d 22h 49min 6s\n",
      "Wall time: 4h 15min 34s\n"
     ]
    },
    {
     "data": {
      "text/plain": [
       "RandomForestClassifier(criterion='entropy', n_jobs=-1)"
      ]
     },
     "execution_count": 25,
     "metadata": {},
     "output_type": "execute_result"
    }
   ],
   "source": [
    "%%time\n",
    "clf = RandomForestClassifier(n_jobs=-1, criterion=\"entropy\")\n",
    "clf.fit(X_train_60_svm, y_train_60_svm)"
   ]
  },
  {
   "cell_type": "code",
   "execution_count": 26,
   "id": "76f3471a",
   "metadata": {},
   "outputs": [],
   "source": [
    "pkl_filename = '../../data/random_forest_v2_model.pkl'\n",
    "with open(pkl_filename, 'wb') as file:\n",
    "    pickle.dump(clf, file)"
   ]
  },
  {
   "cell_type": "code",
   "execution_count": 27,
   "id": "05590b24",
   "metadata": {},
   "outputs": [
    {
     "name": "stderr",
     "output_type": "stream",
     "text": [
      "/Users/mter0707/opt/anaconda3/envs/masters/lib/python3.6/site-packages/sklearn/metrics/_classification.py:1221: UndefinedMetricWarning: Precision and F-score are ill-defined and being set to 0.0 in labels with no predicted samples. Use `zero_division` parameter to control this behavior.\n",
      "  _warn_prf(average, modifier, msg_start, len(result))\n"
     ]
    },
    {
     "name": "stdout",
     "output_type": "stream",
     "text": [
      "              precision    recall  f1-score   support\n",
      "\n",
      "                  0.951     0.998     0.974    240418\n",
      "           !      0.721     0.118     0.203       373\n",
      "           \"      0.756     0.122     0.210      2243\n",
      "          \",      0.764     0.415     0.538       848\n",
      "          \".      0.778     0.070     0.128       300\n",
      "           (      0.978     0.855     0.913      1693\n",
      "           )      0.928     0.780     0.847      1003\n",
      "          ),      0.937     0.577     0.714       385\n",
      "          ).      0.976     0.915     0.945       271\n",
      "           ,      0.928     0.583     0.716     18651\n",
      "           -      0.868     0.106     0.189       935\n",
      "           .      0.919     0.987     0.952     11435\n",
      "         ...      1.000     0.014     0.028        70\n",
      "           :      0.969     0.336     0.499       935\n",
      "          :\"      0.000     0.000     0.000        68\n",
      "           ;      0.760     0.030     0.058       628\n",
      "           ?      0.930     0.205     0.336       453\n",
      "\n",
      "    accuracy                          0.948    280709\n",
      "   macro avg      0.833     0.418     0.485    280709\n",
      "weighted avg      0.944     0.948     0.937    280709\n",
      "\n",
      "              precision    recall  f1-score   support\n",
      "\n",
      "           !      0.721     0.118     0.203       373\n",
      "           \"      0.756     0.122     0.210      2243\n",
      "          \",      0.764     0.415     0.538       848\n",
      "          \".      0.778     0.070     0.128       300\n",
      "           (      0.978     0.855     0.913      1693\n",
      "           )      0.928     0.780     0.847      1003\n",
      "          ),      0.937     0.577     0.714       385\n",
      "          ).      0.976     0.915     0.945       271\n",
      "           ,      0.928     0.583     0.716     18651\n",
      "           -      0.868     0.106     0.189       935\n",
      "           .      0.919     0.987     0.952     11435\n",
      "         ...      1.000     0.014     0.028        70\n",
      "           :      0.969     0.336     0.499       935\n",
      "          :\"      0.000     0.000     0.000        68\n",
      "           ;      0.760     0.030     0.058       628\n",
      "           ?      0.930     0.205     0.336       453\n",
      "\n",
      "   micro avg      0.922     0.647     0.761     40291\n",
      "   macro avg      0.826     0.382     0.455     40291\n",
      "weighted avg      0.907     0.647     0.721     40291\n",
      "\n"
     ]
    }
   ],
   "source": [
    "labels = list(clf.classes_)\n",
    "y_pred = clf.predict(X_dev_svm)\n",
    "target_names = list(le.classes_)\n",
    "print(classification_report(y_dev_svm, y_pred, labels=labels, target_names=target_names, digits=3))\n",
    "target_names.remove('')\n",
    "labels.remove(0)\n",
    "print(classification_report(y_dev_svm, y_pred, labels=labels, target_names=target_names, digits=3))"
   ]
  },
  {
   "cell_type": "code",
   "execution_count": 28,
   "id": "693bc619",
   "metadata": {},
   "outputs": [
    {
     "name": "stdout",
     "output_type": "stream",
     "text": [
      "но синовете им не умъртви, защото постъпи според писаното в закона в книгата на мойсей, където господ заповяда и каза бащите да не умират заради синовете и синовете да не умират заради бащите а всеки да умира за собствения си грях. но когато ти говоря ще отворя устата ти и ти им кажи: така казва господ бог, който слуша нека слуша а който не слуша нека не слуша, защото са бунтовен дом. защото кой е по-голям този, който седи на трапезата ли или онзи, който слугува? а след това ще се насели както в предишните дни, заявява господ. а той беше на задната част, заспал на възглавница. ефрем е като птица славата му ще отлети. и така, той си отиде от него на известно разстояние. не бягам при халдейците. и израилевите синове излязоха от египетската земя, строени а когато ахитофел видя, че съветът му не се изпълни оседла магарето си и стана, и отиде у дома си в своя град и нареди домашните си работи и се обеси. ако умре някое животно от добитъка, който можете да ядете който се допре до мършата му ще бъде нечист до вечерта. но помощник съответен на адам не се намери. който задържа жито народът ще го проклина а благословение ще почива на главата на този, който го продава. този човек беше праведен и благочестив и чакаше утехата на израил и светият дух беше на него. всичко е възможно за този, който вярва. и видях височината на дома околовръст основите на страничните стаи бяха една цяла тръстика от шест големи лакътя. после да вземеш тлъстината на овена, опашката и тлъстината, която покрива вътрешностите булото на дроба, двата бъбрека с тлъстината, която е около тях и дясното бедро, защото е овен на посвещение и един хляб една пита хляб, месен с маслинено масло и една кора от коша на безквасните хлябове, които са пред господа. и от дима излязоха скакалци по земята и им се даде власт като властта, която имат земните скорпиони. ти си господи само ти и ще предаде израил заради греховете на еровоам, с които съгреши и с които въведе израил в грях. синове на елифаз: теман и омар, сефи и готом, кенез и тамна, и амалик. а гладът в самария беше страшен. затова казах в сърцето си, че и това е суета. насладих се на сянката му и седнах и плодът му бе сладък в устата ми. защото така ми каза господ, както ръмжи над лова си лъвът младият лъв срещу когото се свикват множество овчари и не се плаши от гласа им и не се отдръпва пред шума им, така господ на войнствата ще слезе, за да воюва за хълма сион и за неговото възвишение. отче свети опази ги в името си, което си ми дал, за да бъдат едно както сме и ние. и да правите разлика между чистите животни и нечистите и между нечистите птици и чистите и да не осквернявате себе си с животно или с птица или с каквото и да е което пълзи по земята, което аз съм ви отделил като нечисто. и господ укрепи моавския цар еглон против израил, защото вършиха зло пред господа. и духът ми каза да отида с тях, без да се двоумя. в двадесет и седмата година на израилевия цар еровоам се възцари азария, синът на юдовия цар амасия. защото вашата послушност е известна на всички затова се радвам за вас. той изтегля всички с въдица влачи ги в мрежата си и ги събира в рибарската си мрежа, затова се радва и се весели. благословен да е господ бог богът на израил, който единствен върши чудеса. и които влязоха мъжко и женско от всяка плът влязоха както бог му беше заповядал и господ затвори след него. тогава царят каза на божия човек ела с мен у дома и се подкрепи и ще ти дам подарък. и ето въпреки че е посадена ще успее ли? от дома тогарма даваха за стоките ти коне бойни коне и мулета. затова заповядай гробът да се пази здраво до третия ден да не би учениците му да дойдат и да го откраднат и да кажат на народа възкръсна от мъртвите. и когато отвори петия печат видях под олтара душите на онези, които са били заклани за божието слово и за свидетелството, което държаха. и свещениците, които служат на господа са синовете на аарон и левитите са в службата. той тича след тях с умолителни думи, но тях ги няма. и измери дължината му четиридесет лакътя и ширината му- двадесет лакътя. затова, така казва господ, бог на войнствата, израилевият бог: ето, аз ще докарам върху юда и върху всичките ерусалимски жители цялото зло, което говорих против тях, защото им говорих, но не слушаха и ги виках, но не отговаряха. сине мой, слушай наставлението на баща си и не отхвърляй закона на майка си, защото те ще бъдат благодатен венец за главата ти и огърлица за шията ти. тогава облакът започна да се издига от града в димен стълб и вениамин се обърна и ето, целият град се издигаше в пламъци към небето. в онзи ден няма да се срамуваш от всичките си дела, с които си отстъпил от мен, защото тогава ще отнема отсред теб твоите които горделиво тържествуват и ти няма вече да се държиш надменно на светия ми хълм. а свинарите, като видяха станалото избягаха и разказаха за това в града и в селата. и илий благослови елкана и жена му и каза господ да ти даде потомство от тази жена вместо заетото, което беше посветено на господа. и ако живее във вас духът на този, който възкреси иисус от мъртвите то този, който възкреси христос от мъртвите ще съживи и вашите смъртни тела чрез духа си, който живее във вас. а господ си извърши, както беше говорил чрез мен и господ откъсна царството от ръката ти и го даде на ближния ти на давид. даде и храна за магаретата им. книгата на видението на елкусеянина наум. и направи олтара за всеизгаряне от акациево дърво, пет лакътя беше дължината му и пет лакътя беше ширината му четвъртит и три лакътя беше височината му. те ми казаха: направи ни богове, които да ходят пред нас защото на този мойсей човека, който ни изведе от египетската земя не знаем какво му стана. тогава мардохей каза да отговорят на естир не мисли в себе си, че от всичките юдеи, само ти ще се избавиш в царския дом. но аз не бих познал греха освен чрез закона, защото не бих знаел пожелание, ако законът не беше казал не пожелавай. тогава народът му си спомни за древните дни на мойсей, къде е онзи, който ги изведе от морето с пастирите на стадото си. и три пъти в годината соломон принасяше всеизгаряния и примирителни жертви върху олтара, който построи на господа и кадеше върху олтара, който беше пред господа. и след като им поставиха старейшини във всяка църква и се помолиха с пост, ги препоръчаха на господа, в когото бяха повярвали. с нея той подейства в христос, като го възкреси от мъртвите и го сложи да седне от дясната си страна на небесата далеч над всяко началство и власт, и сила, и господство и всяко име, с което се наименуват не само в този свят, но и в бъдещия. стрелец срещу стрелец да опъва лъка си и срещу онзи, който се надига в бронята си. затова онази нива е наречена и до днес кръвна нива. и така, слугите на цар езекия отидоха при исая. и никой свещеник да не пие вино, когато влиза във вътрешния двор. и охозия падна през решетката на горната си стая в самария и се разболя. защо не разбирате моето говорене. а лаван в отговор каза на яков тези дъщери са мои дъщери и синовете са мои синове и стадата са мои стада. а чуждият който се приближи да се умъртви. и двамата сина на илий: офний и финеес бяха там с ковчега на божия завет. иисус му каза: лисиците си имат леговища и небесните птици гнезда а човешкият син няма къде глава да подслони. от кръвта на убитите от тлъстината на силните лъкът на йонатан не се обръщаше назад и мечът на саул не се връщаше празен. станах за присмех на целия си народ и за тяхна подигравателна песен цял ден. да учите на тях синовете си, като говорите за тях, когато седиш в къщата си, когато ходиш по пътя, когато лягаш и когато ставаш. и господ се разкая за злото, което беше казал, че ще направи на народа си. а юда изпрати ярето чрез ръката на приятеля си одоламеца, за да вземе залога от ръката на жената, но той не я намери. и царят заповяда и доведоха онези мъже, които бяха издали даниил и хвърлиха тях децата им и жените им в рова на лъвовете и още преди да стигнат до дъното на рова лъвовете ги сграбчиха и строшиха всичките им кости. и йоав и народът, който беше с него, настъпиха за битката против арамейците и те побягнаха пред него. и като го повикаха тертил започна да обвинява, като казваше понеже чрез теб честити феликсе се радваме на голямо спокойствие и понеже чрез твоята предвидливост има подобрения за този народ то ние с пълна благодарност винаги и навсякъде посрещаме това. защото йоан казваше на ирод не ти е позволено да имаш жената на брат си. а в първия ден на седмицата много рано сутринта те дойдоха на гроба, като носеха благоуханните масла, които бяха приготвили. ще бъде ли добре да ви изпита той. след това яков каза на лаван дай жена ми, защото дойде време да вляза при нея. а посветените дарове бяха шестстотин говеда и три хиляди овце. кога ще се събудя, за да продължа да го потърся пак. изнемогвам от викането си гърлото ми е пресъхнало очите ми чезнат докато чакам своя бог. това са родовете на мерарий. на следващия ден едно голямо множество, което беше дошло на празника, като чуха, че иисус идвал в ерусалим взеха палмови клони и излязоха да го посрещнат викайки осанна. и той каза: имам нещо да ти кажа. ако някой, който е престъпил закона на мойсей умира безпощадно при думата на двама или трима свидетели то колко по-тежко наказание мислите ще заслужи онзи, който е потъпкал божия син и е счел за просто нещо кръвта на завета, с която е бил осветен и е оскърбил духа на благодатта. върни се сине мой давиде, защото няма вече да ти сторя зло понеже днес животът ми беше скъпоценен пред очите ти. ще дойдат големци от египет етиопия бързо ще протегне ръцете си към бога. затова хората му се боят и той не гледа на никого от мъдрите по сърце. и го следваше голямо множество от народ и жени, които плачеха за него. ето ви семе засейте земята. и давид дойде във ваал-ферасим и давид ги разби там и каза господ разсече пред мен враговете ми както водите правят пролом. кадилниците на тези мъже, които съгрешиха против живота си нека ги направят на плочи за обковаване на олтара, защото те ги принесоха пред господа и затова са свети и те ще бъдат за знамение на израилевите синове. и когато фараонът отказваше да ни пусне господ уби всяко първородно в египетската земя, от първородно на човек до първородно на животно, затова жертвам на господа всяко първородно, което е мъжко а всеки първороден от синовете си изкупувам. а без вяра не е възможно да се угоди на бога, защото който идва при бога трябва да вярва, че той съществува и че възнаграждава тези, които го търсят. и докато още говореше с тях, ето пратеникът слезе при него и каза: ето това зло е от господа. а вие сами ли ще продадете братята си. а ето тези, които се изкачиха от тел-мелах, тел-ариса, херуф, адон и емир, но не можаха да покажат бащините си домове и произхода си, дали са от израил: синовете на далая, синов\n"
     ]
    }
   ],
   "source": [
    "actual_y_pred = le.inverse_transform(y_pred)\n",
    "punctuated_sentences = scikit_punctuate(X_dev_flat, actual_y_pred)\n",
    "print(punctuated_sentences[:10735])"
   ]
  },
  {
   "cell_type": "markdown",
   "id": "51dca424",
   "metadata": {},
   "source": [
    "#### Result: Almost similar to the gini. For some reason ?, ! and , get very low recall. Recall in general isn't the greatest. Maybe this means overfitting?"
   ]
  },
  {
   "cell_type": "markdown",
   "id": "1bde9f82",
   "metadata": {},
   "source": [
    "### Random Forest - set the parameters that control tree size"
   ]
  },
  {
   "cell_type": "code",
   "execution_count": 46,
   "id": "d38b59e0",
   "metadata": {},
   "outputs": [
    {
     "name": "stdout",
     "output_type": "stream",
     "text": [
      "CPU times: user 8h 56min 4s, sys: 1min 53s, total: 8h 57min 58s\n",
      "Wall time: 49min 11s\n"
     ]
    },
    {
     "data": {
      "text/plain": [
       "RandomForestClassifier(max_depth=200, max_leaf_nodes=100000, max_samples=0.2,\n",
       "                       n_jobs=-1)"
      ]
     },
     "execution_count": 46,
     "metadata": {},
     "output_type": "execute_result"
    }
   ],
   "source": [
    "%%time\n",
    "clf = RandomForestClassifier(n_jobs=-1, max_depth=200, max_leaf_nodes=100000, max_samples=0.2)\n",
    "clf.fit(X_train_60_svm, y_train_60_svm)"
   ]
  },
  {
   "cell_type": "code",
   "execution_count": 47,
   "id": "0f9c9773",
   "metadata": {},
   "outputs": [],
   "source": [
    "pkl_filename = '../../data/random_forest_v3_model.pkl'\n",
    "with open(pkl_filename, 'wb') as file:\n",
    "    pickle.dump(clf, file)"
   ]
  },
  {
   "cell_type": "code",
   "execution_count": 48,
   "id": "723b92fb",
   "metadata": {},
   "outputs": [
    {
     "name": "stderr",
     "output_type": "stream",
     "text": [
      "/Users/mter0707/opt/anaconda3/envs/masters/lib/python3.6/site-packages/sklearn/metrics/_classification.py:1221: UndefinedMetricWarning: Precision and F-score are ill-defined and being set to 0.0 in labels with no predicted samples. Use `zero_division` parameter to control this behavior.\n",
      "  _warn_prf(average, modifier, msg_start, len(result))\n"
     ]
    },
    {
     "name": "stdout",
     "output_type": "stream",
     "text": [
      "              precision    recall  f1-score   support\n",
      "\n",
      "                  0.935     0.999     0.966    240418\n",
      "           !      1.000     0.003     0.005       373\n",
      "           \"      0.947     0.032     0.062      2243\n",
      "          \",      0.785     0.271     0.403       848\n",
      "          \".      1.000     0.007     0.013       300\n",
      "           (      0.990     0.784     0.875      1693\n",
      "           )      0.946     0.644     0.766      1003\n",
      "          ),      0.980     0.517     0.677       385\n",
      "          ).      0.987     0.860     0.919       271\n",
      "           ,      0.949     0.470     0.629     18651\n",
      "           -      1.000     0.053     0.102       935\n",
      "           .      0.923     0.929     0.926     11435\n",
      "         ...      0.000     0.000     0.000        70\n",
      "           :      0.994     0.164     0.281       935\n",
      "          :\"      0.000     0.000     0.000        68\n",
      "           ;      1.000     0.003     0.006       628\n",
      "           ?      0.882     0.033     0.064       453\n",
      "\n",
      "    accuracy                          0.935    280709\n",
      "   macro avg      0.842     0.339     0.394    280709\n",
      "weighted avg      0.936     0.935     0.920    280709\n",
      "\n",
      "              precision    recall  f1-score   support\n",
      "\n",
      "           !      1.000     0.003     0.005       373\n",
      "           \"      0.947     0.032     0.062      2243\n",
      "          \",      0.785     0.271     0.403       848\n",
      "          \".      1.000     0.007     0.013       300\n",
      "           (      0.990     0.784     0.875      1693\n",
      "           )      0.946     0.644     0.766      1003\n",
      "          ),      0.980     0.517     0.677       385\n",
      "          ).      0.987     0.860     0.919       271\n",
      "           ,      0.949     0.470     0.629     18651\n",
      "           -      1.000     0.053     0.102       935\n",
      "           .      0.923     0.929     0.926     11435\n",
      "         ...      0.000     0.000     0.000        70\n",
      "           :      0.994     0.164     0.281       935\n",
      "          :\"      0.000     0.000     0.000        68\n",
      "           ;      1.000     0.003     0.006       628\n",
      "           ?      0.882     0.033     0.064       453\n",
      "\n",
      "   micro avg      0.938     0.554     0.697     40291\n",
      "   macro avg      0.836     0.298     0.358     40291\n",
      "weighted avg      0.940     0.554     0.644     40291\n",
      "\n"
     ]
    }
   ],
   "source": [
    "labels = list(clf.classes_)\n",
    "y_pred = clf.predict(X_dev_svm)\n",
    "target_names = list(le.classes_)\n",
    "print(classification_report(y_dev_svm, y_pred, labels=labels, target_names=target_names, digits=3))\n",
    "target_names.remove('')\n",
    "labels.remove(0)\n",
    "print(classification_report(y_dev_svm, y_pred, labels=labels, target_names=target_names, digits=3))"
   ]
  },
  {
   "cell_type": "markdown",
   "id": "c186962f",
   "metadata": {},
   "source": [
    "#### Result: Very low recall"
   ]
  },
  {
   "cell_type": "markdown",
   "id": "7551b02d",
   "metadata": {},
   "source": [
    "### Random Forest - more samples and features with smaller tree"
   ]
  },
  {
   "cell_type": "code",
   "execution_count": 13,
   "id": "014dcdfe",
   "metadata": {},
   "outputs": [
    {
     "name": "stdout",
     "output_type": "stream",
     "text": [
      "CPU times: user 15h 45min 42s, sys: 4min 43s, total: 15h 50min 26s\n",
      "Wall time: 1h 33min 13s\n"
     ]
    },
    {
     "data": {
      "text/plain": [
       "RandomForestClassifier(max_depth=200, max_leaf_nodes=100000, max_samples=0.5,\n",
       "                       n_jobs=-1)"
      ]
     },
     "execution_count": 13,
     "metadata": {},
     "output_type": "execute_result"
    }
   ],
   "source": [
    "%%time\n",
    "clf = RandomForestClassifier(n_jobs=-1, max_depth=200, max_leaf_nodes=100000, max_samples=0.5)\n",
    "clf.fit(X_train_60_svm, y_train_60_svm)"
   ]
  },
  {
   "cell_type": "code",
   "execution_count": 14,
   "id": "b261a9a8",
   "metadata": {},
   "outputs": [],
   "source": [
    "pkl_filename = '../../data/random_forest_v4_model.pkl'\n",
    "with open(pkl_filename, 'wb') as file:\n",
    "    pickle.dump(clf, file)"
   ]
  },
  {
   "cell_type": "code",
   "execution_count": 15,
   "id": "9379fd1d",
   "metadata": {},
   "outputs": [
    {
     "name": "stderr",
     "output_type": "stream",
     "text": [
      "/Users/mter0707/opt/anaconda3/envs/masters/lib/python3.6/site-packages/sklearn/metrics/_classification.py:1221: UndefinedMetricWarning: Precision and F-score are ill-defined and being set to 0.0 in labels with no predicted samples. Use `zero_division` parameter to control this behavior.\n",
      "  _warn_prf(average, modifier, msg_start, len(result))\n"
     ]
    },
    {
     "name": "stdout",
     "output_type": "stream",
     "text": [
      "              precision    recall  f1-score   support\n",
      "\n",
      "                  0.937     0.999     0.967    240418\n",
      "           !      1.000     0.016     0.032       373\n",
      "           \"      0.937     0.033     0.064      2243\n",
      "          \",      0.795     0.288     0.423       848\n",
      "          \".      1.000     0.023     0.046       300\n",
      "           (      0.990     0.808     0.890      1693\n",
      "           )      0.940     0.691     0.797      1003\n",
      "          ),      0.976     0.538     0.693       385\n",
      "          ).      0.992     0.871     0.927       271\n",
      "           ,      0.948     0.492     0.647     18651\n",
      "           -      0.968     0.064     0.120       935\n",
      "           .      0.925     0.926     0.926     11435\n",
      "         ...      0.000     0.000     0.000        70\n",
      "           :      0.991     0.234     0.379       935\n",
      "          :\"      0.000     0.000     0.000        68\n",
      "           ;      1.000     0.006     0.013       628\n",
      "           ?      0.917     0.073     0.135       453\n",
      "\n",
      "    accuracy                          0.937    280709\n",
      "   macro avg      0.842     0.357     0.415    280709\n",
      "weighted avg      0.938     0.937     0.923    280709\n",
      "\n",
      "              precision    recall  f1-score   support\n",
      "\n",
      "           !      1.000     0.016     0.032       373\n",
      "           \"      0.937     0.033     0.064      2243\n",
      "          \",      0.795     0.288     0.423       848\n",
      "          \".      1.000     0.023     0.046       300\n",
      "           (      0.990     0.808     0.890      1693\n",
      "           )      0.940     0.691     0.797      1003\n",
      "          ),      0.976     0.538     0.693       385\n",
      "          ).      0.992     0.871     0.927       271\n",
      "           ,      0.948     0.492     0.647     18651\n",
      "           -      0.968     0.064     0.120       935\n",
      "           .      0.925     0.926     0.926     11435\n",
      "         ...      0.000     0.000     0.000        70\n",
      "           :      0.991     0.234     0.379       935\n",
      "          :\"      0.000     0.000     0.000        68\n",
      "           ;      1.000     0.006     0.013       628\n",
      "           ?      0.917     0.073     0.135       453\n",
      "\n",
      "   micro avg      0.938     0.569     0.708     40291\n",
      "   macro avg      0.836     0.316     0.381     40291\n",
      "weighted avg      0.939     0.569     0.659     40291\n",
      "\n"
     ]
    }
   ],
   "source": [
    "labels = list(clf.classes_)\n",
    "y_pred = clf.predict(X_dev_svm)\n",
    "target_names = list(le.classes_)\n",
    "print(classification_report(y_dev_svm, y_pred, labels=labels, target_names=target_names, digits=3))\n",
    "target_names.remove('')\n",
    "labels.remove(0)\n",
    "print(classification_report(y_dev_svm, y_pred, labels=labels, target_names=target_names, digits=3))"
   ]
  },
  {
   "cell_type": "markdown",
   "id": "b540af22",
   "metadata": {},
   "source": [
    "#### Result: We get better recall with more samples."
   ]
  },
  {
   "cell_type": "markdown",
   "id": "9d0e0474",
   "metadata": {},
   "source": [
    "### Random Forest - Take into account more features and use smaller trees"
   ]
  },
  {
   "cell_type": "code",
   "execution_count": 16,
   "id": "6b981857",
   "metadata": {},
   "outputs": [
    {
     "name": "stdout",
     "output_type": "stream",
     "text": [
      "CPU times: user 3h 42min 25s, sys: 1min 4s, total: 3h 43min 29s\n",
      "Wall time: 21min 45s\n"
     ]
    },
    {
     "data": {
      "text/plain": [
       "RandomForestClassifier(max_depth=100, max_features=0.5, max_leaf_nodes=100,\n",
       "                       max_samples=0.5, n_jobs=-1)"
      ]
     },
     "execution_count": 16,
     "metadata": {},
     "output_type": "execute_result"
    }
   ],
   "source": [
    "%%time\n",
    "clf = RandomForestClassifier(n_jobs=-1, max_depth=100, max_leaf_nodes=100, max_features=0.5, max_samples=0.5)\n",
    "clf.fit(X_train_60_svm, y_train_60_svm)"
   ]
  },
  {
   "cell_type": "code",
   "execution_count": 17,
   "id": "fd33d0a7",
   "metadata": {},
   "outputs": [],
   "source": [
    "pkl_filename = '../../data/random_forest_v5_model.pkl'\n",
    "with open(pkl_filename, 'wb') as file:\n",
    "    pickle.dump(clf, file)"
   ]
  },
  {
   "cell_type": "code",
   "execution_count": 18,
   "id": "95996ba3",
   "metadata": {},
   "outputs": [
    {
     "name": "stderr",
     "output_type": "stream",
     "text": [
      "/Users/mter0707/opt/anaconda3/envs/masters/lib/python3.6/site-packages/sklearn/metrics/_classification.py:1221: UndefinedMetricWarning: Precision and F-score are ill-defined and being set to 0.0 in labels with no predicted samples. Use `zero_division` parameter to control this behavior.\n",
      "  _warn_prf(average, modifier, msg_start, len(result))\n"
     ]
    },
    {
     "name": "stdout",
     "output_type": "stream",
     "text": [
      "              precision    recall  f1-score   support\n",
      "\n",
      "                  0.944     0.995     0.969    240418\n",
      "           !      0.000     0.000     0.000       373\n",
      "           \"      0.000     0.000     0.000      2243\n",
      "          \",      0.614     0.328     0.427       848\n",
      "          \".      0.000     0.000     0.000       300\n",
      "           (      0.972     0.699     0.813      1693\n",
      "           )      0.871     0.647     0.743      1003\n",
      "          ),      0.926     0.423     0.581       385\n",
      "          ).      0.959     0.786     0.864       271\n",
      "           ,      0.865     0.536     0.662     18651\n",
      "           -      1.000     0.016     0.032       935\n",
      "           .      0.920     0.990     0.953     11435\n",
      "         ...      0.000     0.000     0.000        70\n",
      "           :      0.755     0.237     0.361       935\n",
      "          :\"      0.000     0.000     0.000        68\n",
      "           ;      0.000     0.000     0.000       628\n",
      "           ?      0.776     0.589     0.670       453\n",
      "\n",
      "    accuracy                          0.939    280709\n",
      "   macro avg      0.565     0.367     0.416    280709\n",
      "weighted avg      0.924     0.939     0.926    280709\n",
      "\n",
      "              precision    recall  f1-score   support\n",
      "\n",
      "           !      0.000     0.000     0.000       373\n",
      "           \"      0.000     0.000     0.000      2243\n",
      "          \",      0.614     0.328     0.427       848\n",
      "          \".      0.000     0.000     0.000       300\n",
      "           (      0.972     0.699     0.813      1693\n",
      "           )      0.871     0.647     0.743      1003\n",
      "          ),      0.926     0.423     0.581       385\n",
      "          ).      0.959     0.786     0.864       271\n",
      "           ,      0.865     0.536     0.662     18651\n",
      "           -      1.000     0.016     0.032       935\n",
      "           .      0.920     0.990     0.953     11435\n",
      "         ...      0.000     0.000     0.000        70\n",
      "           :      0.755     0.237     0.361       935\n",
      "          :\"      0.000     0.000     0.000        68\n",
      "           ;      0.000     0.000     0.000       628\n",
      "           ?      0.776     0.589     0.670       453\n",
      "\n",
      "   micro avg      0.889     0.603     0.719     40291\n",
      "   macro avg      0.541     0.328     0.382     40291\n",
      "weighted avg      0.801     0.603     0.666     40291\n",
      "\n"
     ]
    }
   ],
   "source": [
    "labels = list(clf.classes_)\n",
    "y_pred = clf.predict(X_dev_svm)\n",
    "target_names = list(le.classes_)\n",
    "print(classification_report(y_dev_svm, y_pred, labels=labels, target_names=target_names, digits=3))\n",
    "target_names.remove('')\n",
    "labels.remove(0)\n",
    "print(classification_report(y_dev_svm, y_pred, labels=labels, target_names=target_names, digits=3))"
   ]
  },
  {
   "cell_type": "markdown",
   "id": "4205ed83",
   "metadata": {},
   "source": [
    "#### Results: For the classes where we have enough samples, we get good recall and precision faster."
   ]
  },
  {
   "cell_type": "code",
   "execution_count": 19,
   "id": "47a559e9",
   "metadata": {},
   "outputs": [
    {
     "name": "stdout",
     "output_type": "stream",
     "text": [
      "CPU times: user 7h 58min 3s, sys: 2min 28s, total: 8h 31s\n",
      "Wall time: 45min 55s\n"
     ]
    },
    {
     "data": {
      "text/plain": [
       "RandomForestClassifier(max_depth=100, max_features=None, max_leaf_nodes=100,\n",
       "                       max_samples=0.5, n_jobs=-1)"
      ]
     },
     "execution_count": 19,
     "metadata": {},
     "output_type": "execute_result"
    }
   ],
   "source": [
    "%%time\n",
    "clf = RandomForestClassifier(n_jobs=-1, max_depth=100, max_leaf_nodes=100, max_features=None, max_samples=0.5)\n",
    "clf.fit(X_train_60_svm, y_train_60_svm)"
   ]
  },
  {
   "cell_type": "code",
   "execution_count": 20,
   "id": "8a8e7dcc",
   "metadata": {},
   "outputs": [],
   "source": [
    "pkl_filename = '../../data/random_forest_v6_model.pkl'\n",
    "with open(pkl_filename, 'wb') as file:\n",
    "    pickle.dump(clf, file)"
   ]
  },
  {
   "cell_type": "code",
   "execution_count": 21,
   "id": "92ec6cfe",
   "metadata": {},
   "outputs": [
    {
     "name": "stderr",
     "output_type": "stream",
     "text": [
      "/Users/mter0707/opt/anaconda3/envs/masters/lib/python3.6/site-packages/sklearn/metrics/_classification.py:1221: UndefinedMetricWarning: Precision and F-score are ill-defined and being set to 0.0 in labels with no predicted samples. Use `zero_division` parameter to control this behavior.\n",
      "  _warn_prf(average, modifier, msg_start, len(result))\n"
     ]
    },
    {
     "name": "stdout",
     "output_type": "stream",
     "text": [
      "              precision    recall  f1-score   support\n",
      "\n",
      "                  0.945     0.995     0.969    240418\n",
      "           !      0.000     0.000     0.000       373\n",
      "           \"      0.000     0.000     0.000      2243\n",
      "          \",      0.622     0.375     0.468       848\n",
      "          \".      0.000     0.000     0.000       300\n",
      "           (      0.936     0.720     0.814      1693\n",
      "           )      0.868     0.642     0.738      1003\n",
      "          ),      0.926     0.423     0.581       385\n",
      "          ).      0.959     0.779     0.859       271\n",
      "           ,      0.862     0.535     0.660     18651\n",
      "           -      0.577     0.032     0.061       935\n",
      "           .      0.925     0.983     0.953     11435\n",
      "         ...      0.000     0.000     0.000        70\n",
      "           :      0.809     0.227     0.354       935\n",
      "          :\"      0.000     0.000     0.000        68\n",
      "           ;      0.000     0.000     0.000       628\n",
      "           ?      0.706     0.759     0.732       453\n",
      "\n",
      "    accuracy                          0.939    280709\n",
      "   macro avg      0.537     0.381     0.423    280709\n",
      "weighted avg      0.923     0.939     0.926    280709\n",
      "\n",
      "              precision    recall  f1-score   support\n",
      "\n",
      "           !      0.000     0.000     0.000       373\n",
      "           \"      0.000     0.000     0.000      2243\n",
      "          \",      0.622     0.375     0.468       848\n",
      "          \".      0.000     0.000     0.000       300\n",
      "           (      0.936     0.720     0.814      1693\n",
      "           )      0.868     0.642     0.738      1003\n",
      "          ),      0.926     0.423     0.581       385\n",
      "          ).      0.959     0.779     0.859       271\n",
      "           ,      0.862     0.535     0.660     18651\n",
      "           -      0.577     0.032     0.061       935\n",
      "           .      0.925     0.983     0.953     11435\n",
      "         ...      0.000     0.000     0.000        70\n",
      "           :      0.809     0.227     0.354       935\n",
      "          :\"      0.000     0.000     0.000        68\n",
      "           ;      0.000     0.000     0.000       628\n",
      "           ?      0.706     0.759     0.732       453\n",
      "\n",
      "   micro avg      0.887     0.605     0.719     40291\n",
      "   macro avg      0.512     0.342     0.389     40291\n",
      "weighted avg      0.791     0.605     0.668     40291\n",
      "\n"
     ]
    }
   ],
   "source": [
    "labels = list(clf.classes_)\n",
    "y_pred = clf.predict(X_dev_svm)\n",
    "target_names = list(le.classes_)\n",
    "print(classification_report(y_dev_svm, y_pred, labels=labels, target_names=target_names, digits=3))\n",
    "target_names.remove('')\n",
    "labels.remove(0)\n",
    "print(classification_report(y_dev_svm, y_pred, labels=labels, target_names=target_names, digits=3))"
   ]
  },
  {
   "cell_type": "markdown",
   "id": "e32fd872",
   "metadata": {},
   "source": [
    "#### Result: No big difference including all of the features"
   ]
  },
  {
   "cell_type": "code",
   "execution_count": 25,
   "id": "24ee9232",
   "metadata": {},
   "outputs": [
    {
     "name": "stdout",
     "output_type": "stream",
     "text": [
      "CPU times: user 24min 53s, sys: 4.26 s, total: 24min 58s\n",
      "Wall time: 2min 36s\n"
     ]
    },
    {
     "data": {
      "text/plain": [
       "RandomForestClassifier(max_depth=100, max_features=0.5, max_leaf_nodes=100,\n",
       "                       n_estimators=10, n_jobs=-1)"
      ]
     },
     "execution_count": 25,
     "metadata": {},
     "output_type": "execute_result"
    }
   ],
   "source": [
    "%%time\n",
    "clf = RandomForestClassifier(n_jobs=-1, max_depth=100, max_leaf_nodes=100, max_features=0.5, n_estimators=10)\n",
    "clf.fit(X_train_60_svm, y_train_60_svm)"
   ]
  },
  {
   "cell_type": "code",
   "execution_count": 26,
   "id": "2e796d0e",
   "metadata": {},
   "outputs": [],
   "source": [
    "pkl_filename = '../../data/random_forest_v7_model.pkl'\n",
    "with open(pkl_filename, 'wb') as file:\n",
    "    pickle.dump(clf, file)"
   ]
  },
  {
   "cell_type": "code",
   "execution_count": 27,
   "id": "3629bf0f",
   "metadata": {},
   "outputs": [
    {
     "name": "stderr",
     "output_type": "stream",
     "text": [
      "/Users/mter0707/opt/anaconda3/envs/masters/lib/python3.6/site-packages/sklearn/metrics/_classification.py:1221: UndefinedMetricWarning: Precision and F-score are ill-defined and being set to 0.0 in labels with no predicted samples. Use `zero_division` parameter to control this behavior.\n",
      "  _warn_prf(average, modifier, msg_start, len(result))\n"
     ]
    },
    {
     "name": "stdout",
     "output_type": "stream",
     "text": [
      "              precision    recall  f1-score   support\n",
      "\n",
      "                  0.944     0.996     0.969    240418\n",
      "           !      0.000     0.000     0.000       373\n",
      "           \"      0.000     0.000     0.000      2243\n",
      "          \",      0.676     0.315     0.430       848\n",
      "          \".      0.000     0.000     0.000       300\n",
      "           (      0.975     0.703     0.817      1693\n",
      "           )      0.865     0.647     0.740      1003\n",
      "          ),      0.926     0.423     0.581       385\n",
      "          ).      0.964     0.786     0.866       271\n",
      "           ,      0.869     0.532     0.660     18651\n",
      "           -      1.000     0.032     0.062       935\n",
      "           .      0.921     0.988     0.953     11435\n",
      "         ...      0.000     0.000     0.000        70\n",
      "           :      0.727     0.233     0.353       935\n",
      "          :\"      0.000     0.000     0.000        68\n",
      "           ;      0.000     0.000     0.000       628\n",
      "           ?      0.766     0.636     0.695       453\n",
      "\n",
      "    accuracy                          0.939    280709\n",
      "   macro avg      0.567     0.370     0.419    280709\n",
      "weighted avg      0.924     0.939     0.926    280709\n",
      "\n",
      "              precision    recall  f1-score   support\n",
      "\n",
      "           !      0.000     0.000     0.000       373\n",
      "           \"      0.000     0.000     0.000      2243\n",
      "          \",      0.676     0.315     0.430       848\n",
      "          \".      0.000     0.000     0.000       300\n",
      "           (      0.975     0.703     0.817      1693\n",
      "           )      0.865     0.647     0.740      1003\n",
      "          ),      0.926     0.423     0.581       385\n",
      "          ).      0.964     0.786     0.866       271\n",
      "           ,      0.869     0.532     0.660     18651\n",
      "           -      1.000     0.032     0.062       935\n",
      "           .      0.921     0.988     0.953     11435\n",
      "         ...      0.000     0.000     0.000        70\n",
      "           :      0.727     0.233     0.353       935\n",
      "          :\"      0.000     0.000     0.000        68\n",
      "           ;      0.000     0.000     0.000       628\n",
      "           ?      0.766     0.636     0.695       453\n",
      "\n",
      "   micro avg      0.893     0.602     0.719     40291\n",
      "   macro avg      0.543     0.331     0.385     40291\n",
      "weighted avg      0.805     0.602     0.667     40291\n",
      "\n"
     ]
    }
   ],
   "source": [
    "labels = list(clf.classes_)\n",
    "y_pred = clf.predict(X_dev_svm)\n",
    "target_names = list(le.classes_)\n",
    "print(classification_report(y_dev_svm, y_pred, labels=labels, target_names=target_names, digits=3))\n",
    "target_names.remove('')\n",
    "labels.remove(0)\n",
    "print(classification_report(y_dev_svm, y_pred, labels=labels, target_names=target_names, digits=3))"
   ]
  },
  {
   "cell_type": "markdown",
   "id": "c8e0326d",
   "metadata": {},
   "source": [
    "#### Result: Almost the same result as with 100 trees"
   ]
  },
  {
   "cell_type": "code",
   "execution_count": 28,
   "id": "280c0683",
   "metadata": {},
   "outputs": [
    {
     "name": "stdout",
     "output_type": "stream",
     "text": [
      "CPU times: user 2h 17min 24s, sys: 17.1 s, total: 2h 17min 41s\n",
      "Wall time: 13min 58s\n"
     ]
    },
    {
     "data": {
      "text/plain": [
       "RandomForestClassifier(max_depth=200, max_features=0.5, max_leaf_nodes=1000,\n",
       "                       n_estimators=10, n_jobs=-1)"
      ]
     },
     "execution_count": 28,
     "metadata": {},
     "output_type": "execute_result"
    }
   ],
   "source": [
    "%%time\n",
    "clf = RandomForestClassifier(n_jobs=-1, max_depth=200, max_leaf_nodes=1000, max_features=0.5, n_estimators=10)\n",
    "clf.fit(X_train_60_svm, y_train_60_svm)"
   ]
  },
  {
   "cell_type": "code",
   "execution_count": 29,
   "id": "63e44e96",
   "metadata": {},
   "outputs": [
    {
     "name": "stderr",
     "output_type": "stream",
     "text": [
      "/Users/mter0707/opt/anaconda3/envs/masters/lib/python3.6/site-packages/sklearn/metrics/_classification.py:1221: UndefinedMetricWarning: Precision and F-score are ill-defined and being set to 0.0 in labels with no predicted samples. Use `zero_division` parameter to control this behavior.\n",
      "  _warn_prf(average, modifier, msg_start, len(result))\n"
     ]
    },
    {
     "name": "stdout",
     "output_type": "stream",
     "text": [
      "              precision    recall  f1-score   support\n",
      "\n",
      "                  0.960     0.995     0.977    240418\n",
      "           !      0.556     0.013     0.026       373\n",
      "           \"      0.724     0.125     0.214      2243\n",
      "          \",      0.670     0.533     0.594       848\n",
      "          \".      0.857     0.020     0.039       300\n",
      "           (      0.978     0.834     0.900      1693\n",
      "           )      0.890     0.790     0.837      1003\n",
      "          ),      0.981     0.540     0.697       385\n",
      "          ).      0.979     0.852     0.911       271\n",
      "           ,      0.864     0.674     0.757     18651\n",
      "           -      0.880     0.071     0.131       935\n",
      "           .      0.931     0.991     0.960     11435\n",
      "         ...      0.000     0.000     0.000        70\n",
      "           :      0.887     0.428     0.577       935\n",
      "          :\"      0.000     0.000     0.000        68\n",
      "           ;      0.800     0.006     0.013       628\n",
      "           ?      0.799     0.735     0.766       453\n",
      "\n",
      "    accuracy                          0.952    280709\n",
      "   macro avg      0.750     0.448     0.494    280709\n",
      "weighted avg      0.947     0.952     0.944    280709\n",
      "\n",
      "              precision    recall  f1-score   support\n",
      "\n",
      "           !      0.556     0.013     0.026       373\n",
      "           \"      0.724     0.125     0.214      2243\n",
      "          \",      0.670     0.533     0.594       848\n",
      "          \".      0.857     0.020     0.039       300\n",
      "           (      0.978     0.834     0.900      1693\n",
      "           )      0.890     0.790     0.837      1003\n",
      "          ),      0.981     0.540     0.697       385\n",
      "          ).      0.979     0.852     0.911       271\n",
      "           ,      0.864     0.674     0.757     18651\n",
      "           -      0.880     0.071     0.131       935\n",
      "           .      0.931     0.991     0.960     11435\n",
      "         ...      0.000     0.000     0.000        70\n",
      "           :      0.887     0.428     0.577       935\n",
      "          :\"      0.000     0.000     0.000        68\n",
      "           ;      0.800     0.006     0.013       628\n",
      "           ?      0.799     0.735     0.766       453\n",
      "\n",
      "   micro avg      0.891     0.697     0.782     40291\n",
      "   macro avg      0.737     0.413     0.464     40291\n",
      "weighted avg      0.872     0.697     0.745     40291\n",
      "\n"
     ]
    }
   ],
   "source": [
    "labels = list(clf.classes_)\n",
    "y_pred = clf.predict(X_dev_svm)\n",
    "target_names = list(le.classes_)\n",
    "print(classification_report(y_dev_svm, y_pred, labels=labels, target_names=target_names, digits=3))\n",
    "target_names.remove('')\n",
    "labels.remove(0)\n",
    "print(classification_report(y_dev_svm, y_pred, labels=labels, target_names=target_names, digits=3))"
   ]
  },
  {
   "cell_type": "code",
   "execution_count": 30,
   "id": "70267b55",
   "metadata": {},
   "outputs": [],
   "source": [
    "pkl_filename = '../../data/random_forest_v8_model.pkl'\n",
    "with open(pkl_filename, 'wb') as file:\n",
    "    pickle.dump(clf, file)"
   ]
  },
  {
   "cell_type": "code",
   "execution_count": 31,
   "id": "02bf141e",
   "metadata": {},
   "outputs": [
    {
     "name": "stdout",
     "output_type": "stream",
     "text": [
      "но синовете им не умъртви, защото постъпи според писаното в закона в книгата на мойсей, където господ заповяда и каза: бащите да не умират заради синовете и синовете да не умират заради бащите, а всеки да умира за собствения си грях. но когато ти говоря, ще отворя устата ти и ти им кажи: така казва господ бог, който слуша, нека слуша, а който не слуша, нека не слуша, защото са бунтовен дом. защото кой е по-голям този, който седи на трапезата ли или онзи, който слугува? а след това ще се насели както в предишните дни, заявява господ. а той беше на задната част, заспал на възглавница. ефрем е като птица славата му ще отлети. и така, той си отиде от него на известно разстояние. не бягам при халдейците. и израилевите синове излязоха от египетската земя, строени. а когато ахитофел видя, че съветът му не се изпълни оседла магарето си и стана и отиде у дома си в своя град и нареди домашните си работи и се обеси. ако умре някое животно от добитъка, който можете да ядете, който се допре до мършата му ще бъде нечист до вечерта. но помощник, съответен на адам не се намери. който задържа жито, народът ще го проклина, а благословение ще почива на главата на този, който го продава. този човек беше праведен и благочестив и чакаше утехата на израил и светият дух беше на него. всичко е възможно за този, който вярва. и видях височината на дома околовръст основите на страничните стаи бяха една цяла тръстика от шест големи лакътя. после да вземеш тлъстината на овена, опашката и тлъстината, която покрива вътрешностите булото на дроба двата бъбрека с тлъстината, която е около тях и дясното бедро, защото е овен на посвещение и един хляб една пита хляб, месен с маслинено масло и една кора от коша на безквасните хлябове, които са пред господа. и от дима излязоха скакалци по земята и им се даде власт като властта, която имат земните скорпиони. ти си, господи, само ти. и ще предаде израил заради греховете на еровоам, с които съгреши и с които въведе израил в грях. синове на елифаз: теман и омар: сефи и готом: кенез и тамна, и амалик. а гладът в самария беше страшен. затова казах в сърцето си, че и това е суета. насладих се на сянката му и седнах и плодът му бе сладък в устата ми. защото така ми каза: господ, както ръмжи над лова си лъвът младият лъв, срещу когото се свикват множество, овчари и не се плаши от гласа им и не се отдръпва пред шума им, така господ на войнствата ще слезе, за да воюва за хълма сион и за неговото възвишение. отче свети опази ги в името си, което си ми дал, за да бъдат едно, както сме и ние. и да правите разлика между чистите животни и нечистите и между нечистите птици и чистите и да не осквернявате себе си с животно или с птица, или с каквото и да е, което пълзи по земята, което аз съм ви отделил като нечисто. и господ укрепи моавския цар еглон против израил, защото вършиха зло пред господа. и духът ми каза: да отида с тях, без да се двоумя. в двадесет и седмата година на израилевия цар еровоам се възцари азария, синът на юдовия цар амасия. защото вашата послушност е известна на всички затова се радвам за вас. той изтегля всички с въдица, влачи ги в мрежата си и ги събира в рибарската си мрежа, затова се радва и се весели. благословен да е господ бог, богът на израил, който единствен върши чудеса. и които влязоха мъжко и женско от всяка плът влязоха, както бог му беше заповядал и господ затвори след него. тогава царят каза на божия човек, ела с мен у дома и се подкрепи и ще ти дам подарък. и ето, въпреки че е посадена, ще успее ли? от дома тогарма даваха за стоките ти коне бойни коне и мулета. затова заповядай гробът да се пази здраво до третия ден да не би учениците му да дойдат и да го откраднат и да кажат на народа, възкръсна от мъртвите. и когато отвори петия печат, видях под олтара душите на онези, които са били заклани за божието слово и за свидетелството, което държаха. и свещениците, които служат на господа са синовете на аарон и левитите са в службата. той тича след тях с умолителни думи, но тях ги няма. и измери дължината му четиридесет лакътя и ширината му- двадесет лакътя. затова, така казва господ бог на войнствата, израилевият бог: ето, аз ще докарам върху юда и върху всичките ерусалимски жители, цялото зло, което говорих против тях, защото им говорих, но не слушаха и ги виках, но не отговаряха. сине мой, слушай наставлението на баща си и не отхвърляй закона на майка си, защото те ще бъдат благодатен венец за главата ти и огърлица за шията ти. тогава облакът започна да се издига от града в димен стълб и вениамин се обърна, и ето, целият град се издигаше в пламъци към небето. в онзи ден няма да се срамуваш от всичките си дела, с които си отстъпил от мен, защото тогава ще отнема отсред теб твоите, които горделиво тържествуват и ти няма вече да се държиш надменно на светия ми хълм. а свинарите, като видяха станалото избягаха и разказаха за това в града и в селата. и илий благослови елкана и жена му, и каза: господ да ти даде потомство от тази жена вместо заетото, което беше посветено на господа. и ако живее във вас духът на този, който възкреси иисус от мъртвите то този, който възкреси христос от мъртвите ще съживи и вашите смъртни тела чрез духа си, който живее във вас. а господ си извърши, както беше говорил чрез мен и господ откъсна царството от ръката ти и го даде на ближния ти на давид. даде и храна за магаретата им. книгата на видението на елкусеянина наум. и направи олтара за всеизгаряне от акациево дърво пет лакътя беше дължината му и пет лакътя беше ширината му- четвъртит и три лакътя беше височината му. те ми казаха: направи ни богове, които да ходят пред нас, защото на този мойсей човека, който ни изведе от египетската земя не знаем какво му стана. тогава мардохей каза да отговорят на естир не мисли в себе си, че от всичките юдеи само ти ще се избавиш в царския дом. но аз не бих познал греха освен чрез закона, защото не бих знаел пожелание, ако законът не беше казал, не пожелавай. тогава народът му си спомни за древните дни на мойсей къде е онзи, който ги изведе от морето с пастирите на стадото си? и три пъти в годината соломон принасяше всеизгаряния и примирителни жертви върху олтара, който построи на господа и кадеше върху олтара, който беше пред господа. и след като им поставиха старейшини във всяка църква и се помолиха с пост ги препоръчаха на господа, в когото бяха повярвали. с нея той подейства в христос, като го възкреси от мъртвите и го сложи да седне от дясната си страна на небесата далеч над всяко началство и власт, и сила, и господство и всяко име, с което се наименуват не само в този свят, но и в бъдещия. стрелец срещу стрелец да опъва лъка си и срещу онзи, който се надига в бронята си. затова онази нива е наречена и до днес кръвна нива. и така слугите на цар езекия отидоха при исая. и никой свещеник да не пие вино, когато влиза във вътрешния двор. и охозия падна през решетката на горната си стая в самария и се разболя. защо не разбирате моето говорене? а лаван в отговор каза на яков тези дъщери са мои дъщери и синовете са мои синове и стадата са мои стада. а чуждият, който се приближи да се умъртви. и двамата сина на илий, офний и финеес бяха там с ковчега на божия завет. иисус му каза: лисиците си, имат леговища и небесните птици гнезда, а човешкият син няма къде глава да подслони. от кръвта на убитите от тлъстината на силните лъкът на йонатан не се обръщаше назад и мечът на саул не се връщаше празен. станах за присмех на целия си народ и за тяхна подигравателна песен, цял ден. да учите на тях синовете си, като говорите за тях, когато седиш в къщата си, когато ходиш по пътя, когато лягаш и когато ставаш. и господ се разкая за злото, което беше казал, че ще направи на народа си. а юда изпрати ярето чрез ръката на приятеля си одоламеца, за да вземе залога от ръката на жената, но той не я намери. и царят заповяда и доведоха онези мъже, които бяха издали даниил и хвърлиха тях децата им и жените им в рова на лъвовете и още преди да стигнат до дъното на рова лъвовете ги сграбчиха и строшиха всичките им кости. и йоав и народът, който беше с него, настъпиха за битката против арамейците и те побягнаха пред него. и като го повикаха тертил започна да обвинява, като казваше, понеже чрез теб честити феликсе се радваме на голямо спокойствие и понеже чрез твоята предвидливост има подобрения за този народ, то ние с пълна благодарност винаги и навсякъде посрещаме това. защото йоан казваше на ирод не ти е позволено да имаш жената на брат си. а в първия ден на седмицата много рано сутринта те дойдоха на гроба, като носеха благоуханните масла, които бяха приготвили. ще бъде ли добре да ви изпита той? след това яков каза на лаван: дай жена ми, защото дойде време да вляза при нея. а посветените дарове бяха шестстотин говеда и три хиляди овце. кога ще се събудя, за да продължа да го потърся пак? изнемогвам от викането си, гърлото ми е пресъхнало очите ми чезнат, докато чакам своя бог. това са родовете на мерарий. на следващия ден едно голямо множество, което беше дошло на празника, като чуха, че иисус идвал в ерусалим, взеха палмови клони и излязоха да го посрещнат, викайки осанна. и той каза: имам нещо да ти кажа. ако някой, който е престъпил закона на мойсей умира безпощадно при думата на двама или трима свидетели то колко по-тежко наказание мислите, ще заслужи онзи, който е потъпкал божия син и е счел за просто нещо кръвта на завета, с която е бил осветен и е оскърбил духа на благодатта. върни се сине мой давиде, защото няма вече да ти сторя зло, понеже днес животът ми беше скъпоценен пред очите ти. ще дойдат големци от египет, етиопия бързо ще протегне ръцете си към бога. затова хората му се боят и той не гледа на никого от мъдрите по сърце. и го следваше голямо множество от народ и жени, които плачеха за него. ето, ви семе засейте земята. и давид дойде във ваал-ферасим и давид ги разби там и каза: господ разсече пред мен враговете ми, както водите правят пролом. кадилниците на тези мъже, които съгрешиха против живота си нека ги направят на плочи за обковаване на олтара, защото те ги принесоха пред господа и затова са свети и те ще бъдат за знамение на израилевите синове. и когато фараонът отказваше да ни пусне господ, уби всяко първородно в египетската земя от първородно на човек до първородно на животно, затова жертвам на господа всяко първородно, което е мъжко, а всеки първороден от синовете си изкупувам. а без вяра не е възможно да се угоди на бога, защото, който идва при бога трябва да вярва, че той съществува и че възнаграждава тези, които го търсят. и докато още говореше с тях, ето, пратеникът слезе при него и каза: ето, това зло е от господа. а вие сами ли ще продадете братята си? а ето, тези, които се изкачиха от тел-мелах тел-ариса херуф, адон и емир, но не можаха да покажат бащините си домове и произход\n"
     ]
    }
   ],
   "source": [
    "actual_y_pred = le.inverse_transform(y_pred)\n",
    "punctuated_sentences = scikit_punctuate(X_dev_flat, actual_y_pred)\n",
    "print(punctuated_sentences[:10735])"
   ]
  },
  {
   "cell_type": "markdown",
   "id": "d7feb260",
   "metadata": {},
   "source": [
    "#### Results: Best results so far."
   ]
  },
  {
   "cell_type": "code",
   "execution_count": 32,
   "id": "e4b2d4ff",
   "metadata": {},
   "outputs": [
    {
     "name": "stdout",
     "output_type": "stream",
     "text": [
      "CPU times: user 4h 40min 48s, sys: 55.5 s, total: 4h 41min 43s\n",
      "Wall time: 29min 16s\n"
     ]
    },
    {
     "data": {
      "text/plain": [
       "RandomForestClassifier(max_depth=200, max_features=None, max_leaf_nodes=1000,\n",
       "                       n_estimators=10, n_jobs=-1)"
      ]
     },
     "execution_count": 32,
     "metadata": {},
     "output_type": "execute_result"
    }
   ],
   "source": [
    "%%time\n",
    "clf = RandomForestClassifier(n_jobs=-1, max_depth=200, max_leaf_nodes=1000, max_features=None, n_estimators=10)\n",
    "clf.fit(X_train_60_svm, y_train_60_svm)"
   ]
  },
  {
   "cell_type": "code",
   "execution_count": 33,
   "id": "d06a2fe8",
   "metadata": {},
   "outputs": [
    {
     "name": "stderr",
     "output_type": "stream",
     "text": [
      "/Users/mter0707/opt/anaconda3/envs/masters/lib/python3.6/site-packages/sklearn/metrics/_classification.py:1221: UndefinedMetricWarning: Precision and F-score are ill-defined and being set to 0.0 in labels with no predicted samples. Use `zero_division` parameter to control this behavior.\n",
      "  _warn_prf(average, modifier, msg_start, len(result))\n"
     ]
    },
    {
     "name": "stdout",
     "output_type": "stream",
     "text": [
      "              precision    recall  f1-score   support\n",
      "\n",
      "                  0.961     0.994     0.977    240418\n",
      "           !      0.714     0.027     0.052       373\n",
      "           \"      0.714     0.147     0.243      2243\n",
      "          \",      0.675     0.532     0.595       848\n",
      "          \".      0.545     0.020     0.039       300\n",
      "           (      0.970     0.830     0.894      1693\n",
      "           )      0.889     0.791     0.837      1003\n",
      "          ),      0.951     0.556     0.702       385\n",
      "          ).      0.983     0.845     0.909       271\n",
      "           ,      0.856     0.686     0.762     18651\n",
      "           -      0.871     0.058     0.108       935\n",
      "           .      0.930     0.989     0.959     11435\n",
      "         ...      0.000     0.000     0.000        70\n",
      "           :      0.865     0.445     0.588       935\n",
      "          :\"      0.000     0.000     0.000        68\n",
      "           ;      0.833     0.008     0.016       628\n",
      "           ?      0.786     0.713     0.748       453\n",
      "\n",
      "    accuracy                          0.952    280709\n",
      "   macro avg      0.738     0.449     0.496    280709\n",
      "weighted avg      0.947     0.952     0.944    280709\n",
      "\n",
      "              precision    recall  f1-score   support\n",
      "\n",
      "           !      0.714     0.027     0.052       373\n",
      "           \"      0.714     0.147     0.243      2243\n",
      "          \",      0.675     0.532     0.595       848\n",
      "          \".      0.545     0.020     0.039       300\n",
      "           (      0.970     0.830     0.894      1693\n",
      "           )      0.889     0.791     0.837      1003\n",
      "          ),      0.951     0.556     0.702       385\n",
      "          ).      0.983     0.845     0.909       271\n",
      "           ,      0.856     0.686     0.762     18651\n",
      "           -      0.871     0.058     0.108       935\n",
      "           .      0.930     0.989     0.959     11435\n",
      "         ...      0.000     0.000     0.000        70\n",
      "           :      0.865     0.445     0.588       935\n",
      "          :\"      0.000     0.000     0.000        68\n",
      "           ;      0.833     0.008     0.016       628\n",
      "           ?      0.786     0.713     0.748       453\n",
      "\n",
      "   micro avg      0.885     0.703     0.784     40291\n",
      "   macro avg      0.724     0.415     0.466     40291\n",
      "weighted avg      0.866     0.703     0.748     40291\n",
      "\n"
     ]
    }
   ],
   "source": [
    "labels = list(clf.classes_)\n",
    "y_pred = clf.predict(X_dev_svm)\n",
    "target_names = list(le.classes_)\n",
    "print(classification_report(y_dev_svm, y_pred, labels=labels, target_names=target_names, digits=3))\n",
    "target_names.remove('')\n",
    "labels.remove(0)\n",
    "print(classification_report(y_dev_svm, y_pred, labels=labels, target_names=target_names, digits=3))"
   ]
  },
  {
   "cell_type": "code",
   "execution_count": 34,
   "id": "b5f7027b",
   "metadata": {},
   "outputs": [
    {
     "name": "stdout",
     "output_type": "stream",
     "text": [
      "но синовете им не умъртви, защото постъпи според писаното в закона в книгата на мойсей, където господ заповяда и каза: бащите да не умират заради синовете и синовете да не умират заради бащите, а всеки да умира за собствения си грях. но когато ти говоря, ще отворя устата ти и ти им кажи: така казва господ бог, който слуша, нека слуша, а който не слуша, нека не слуша, защото са бунтовен дом. защото кой е по-голям този, който седи на трапезата ли или онзи, който слугува? а след това ще се насели както в предишните дни, заявява господ. а той беше на задната част, заспал на възглавница. ефрем е като птица славата му ще отлети. и така, той си отиде от него на известно разстояние. не бягам при халдейците. и израилевите синове излязоха от египетската земя, строени. а когато ахитофел видя, че съветът му не се изпълни оседла магарето си и стана и отиде у дома си в своя град и нареди домашните си работи и се обеси. ако умре някое животно от добитъка, който можете да ядете, който се допре до мършата му ще бъде нечист до вечерта. но помощник, съответен на адам не се намери. който задържа жито, народът, ще го проклина, а благословение, ще почива на главата на този, който го продава. този човек беше праведен и благочестив и чакаше утехата на израил и светият дух беше на него. всичко е възможно за този, който вярва. и видях височината на дома околовръст основите на страничните стаи бяха една цяла тръстика от шест големи лакътя. после да вземеш тлъстината на овена, опашката и тлъстината, която покрива вътрешностите булото на дроба, двата бъбрека с тлъстината, която е около тях и дясното бедро, защото е овен на посвещение и един хляб една пита хляб, месен с маслинено масло и една кора от коша на безквасните хлябове, които са пред господа. и от дима излязоха скакалци по земята и им се даде власт като властта, която имат земните скорпиони. ти си, господи, само ти. и ще предаде израил заради греховете на еровоам, с които съгреши и с които въведе израил в грях. синове на елифаз: теман и омар: сефи, и готом: кенез, и тамна, и амалик. а гладът в самария беше страшен. затова казах: в сърцето си, че и това е суета. насладих се на сянката му и седнах и плодът му бе сладък в устата ми. защото така ми каза: господ, както ръмжи над лова си лъвът младият лъв, срещу когото се свикват множество, овчари и не се плаши от гласа им и не се отдръпва пред шума им, така господ на войнствата ще слезе, за да воюва за хълма сион и за неговото възвишение. отче свети, опази ги в името си, което си ми дал, за да бъдат едно, както сме и ние. и да правите разлика между чистите животни и нечистите и между нечистите птици и чистите и да не осквернявате себе си с животно или с птица, или с каквото и да е, което пълзи по земята, което аз съм ви отделил като нечисто. и господ укрепи моавския цар еглон против израил, защото вършиха зло пред господа. и духът ми каза: да отида с тях без да се двоумя. в двадесет и седмата година на израилевия цар еровоам се възцари азария, синът на юдовия цар амасия. защото вашата послушност е известна на всички затова се радвам за вас. той изтегля всички с въдица, влачи ги в мрежата си и ги събира в рибарската си мрежа, затова се радва и се весели. благословен да е господ бог, богът на израил, който единствен върши чудеса. и които влязоха мъжко и женско от всяка плът влязоха, както бог му беше заповядал и господ затвори след него. тогава царят каза на божия човек, ела с мен у дома и се подкрепи, и ще ти дам подарък. и ето, въпреки че е посадена, ще успее ли? от дома тогарма даваха за стоките ти коне, бойни коне и мулета. затова заповядай гробът да се пази здраво до третия ден да не би учениците му да дойдат и да го откраднат и да кажат на народа, възкръсна от мъртвите. и когато отвори петия печат, видях под олтара душите на онези, които са били заклани за божието слово и за свидетелството, което държаха. и свещениците, които служат на господа са синовете на аарон и левитите са в службата. той тича след тях с умолителни думи, но тях ги няма. и измери дължината му четиридесет лакътя и ширината му- двадесет лакътя. затова, така казва господ бог на войнствата, израилевият бог: ето, аз ще докарам върху юда и върху всичките ерусалимски жители цялото зло, което говорих против тях, защото им говорих, но не слушаха и ги виках, но не отговаряха. сине мой, слушай наставлението на баща си и не отхвърляй закона на майка си, защото те ще бъдат благодатен венец за главата ти и огърлица за шията ти. тогава облакът започна да се издига от града в димен стълб и вениамин се обърна, и ето, целият град се издигаше в пламъци към небето. в онзи ден няма да се срамуваш от всичките си дела, с които си отстъпил от мен, защото тогава ще отнема отсред теб твоите, които горделиво тържествуват и ти няма вече да се държиш надменно на светия ми хълм. а свинарите, като видяха станалото избягаха и разказаха за това в града и в селата. и илий благослови елкана и жена му, и каза: господ да ти даде потомство от тази жена вместо заетото, което беше посветено на господа. и ако живее във вас духът на този, който възкреси иисус от мъртвите то този, който възкреси христос от мъртвите ще съживи и вашите смъртни тела чрез духа си, който живее във вас. а господ си извърши, както беше говорил чрез мен и господ откъсна царството от ръката ти и го даде на ближния ти на давид. даде и храна за магаретата им. книгата на видението на елкусеянина наум. и направи олтара за всеизгаряне от акациево дърво пет лакътя беше дължината му и пет лакътя беше ширината му- четвъртит и три лакътя беше височината му. те ми казаха: направи ни богове, които да ходят пред нас, защото на този мойсей, човека, който ни изведе от египетската земя не знаем какво му стана. тогава мардохей каза: да отговорят на естир не мисли в себе си, че от всичките юдеи само ти ще се избавиш в царския дом. но аз не бих познал греха освен чрез закона, защото не бих знаел пожелание, ако законът не беше казал, не пожелавай. тогава народът му си спомни за древните дни на мойсей къде е онзи, който ги изведе от морето с пастирите на стадото си? и три пъти в годината соломон принасяше всеизгаряния и примирителни жертви върху олтара, който построи на господа и кадеше върху олтара, който беше пред господа. и след като им поставиха старейшини във всяка църква и се помолиха с пост ги препоръчаха на господа, в когото бяха повярвали. с нея той подейства в христос, като го възкреси от мъртвите и го сложи да седне от дясната си страна на небесата далеч над всяко началство и власт, и сила, и господство и всяко име, с което се наименуват не само в този свят, но и в бъдещия. стрелец срещу стрелец да опъва лъка си и срещу онзи, който се надига в бронята си. затова онази нива е наречена и до днес кръвна нива. и така, слугите на цар езекия отидоха при исая. и никой свещеник да не пие вино, когато влиза във вътрешния двор. и охозия падна през решетката на горната си стая в самария и се разболя. защо не разбирате моето говорене? а лаван в отговор каза на яков тези дъщери са мои дъщери и синовете са мои синове и стадата са мои стада. а чуждият, който се приближи да се умъртви. и двамата сина на илий, офний и финеес бяха там с ковчега на божия завет. иисус му каза: лисиците си, имат леговища и небесните птици гнезда, а човешкият син няма къде глава да подслони. от кръвта на убитите от тлъстината на силните лъкът на йонатан не се обръщаше назад и мечът на саул не се връщаше празен. станах за присмех на целия си народ и за тяхна подигравателна песен, цял ден. да учите на тях синовете си, като говорите за тях, когато седиш в къщата си, когато ходиш по пътя, когато лягаш и когато ставаш. и господ се разкая за злото, което беше казал, че ще направи на народа си. а юда изпрати ярето чрез ръката на приятеля си одоламеца, за да вземе залога от ръката на жената, но той не я намери. и царят заповяда и доведоха онези мъже, които бяха издали даниил и хвърлиха тях децата им и жените им в рова на лъвовете и още преди да стигнат до дъното на рова лъвовете ги сграбчиха и строшиха всичките им кости. и йоав и народът, който беше с него, настъпиха за битката против арамейците и те побягнаха пред него. и като го повикаха тертил започна да обвинява, като казваше, понеже чрез теб честити феликсе се радваме на голямо спокойствие и понеже чрез твоята предвидливост има подобрения за този народ, то ние с пълна благодарност винаги и навсякъде посрещаме това. защото йоан казваше: на ирод не ти е позволено да имаш жената на брат си. а в първия ден на седмицата много рано сутринта те дойдоха на гроба, като носеха благоуханните масла, които бяха приготвили. ще бъде ли добре да ви изпита той? след това яков каза на лаван: дай жена ми, защото дойде време да вляза при нея. а посветените дарове бяха шестстотин говеда и три хиляди овце. кога ще се събудя, за да продължа да го потърся пак? изнемогвам от викането си, гърлото ми е пресъхнало очите ми чезнат, докато чакам своя бог. това са родовете на мерарий. на следващия ден, едно голямо множество, което беше дошло на празника, като чуха, че иисус идвал в ерусалим, взеха палмови клони и излязоха да го посрещнат, викайки осанна. и той каза: имам нещо да ти кажа. ако някой, който е престъпил закона на мойсей умира безпощадно при думата на двама или трима свидетели то колко по-тежко наказание мислите, ще заслужи онзи, който е потъпкал божия син и е счел за просто нещо кръвта на завета, с която е бил осветен и е оскърбил духа на благодатта. върни се, сине мой давиде, защото няма вече да ти сторя зло, понеже днес животът ми беше скъпоценен пред очите ти. ще дойдат големци от египет, етиопия бързо ще протегне ръцете си към бога. затова хората му се боят и той не гледа на никого от мъдрите по сърце. и го следваше голямо множество от народ и жени, които плачеха за него. ето, ви семе засейте земята. и давид дойде във ваал-ферасим и давид ги разби там и каза: господ разсече пред мен враговете ми, както водите правят пролом. кадилниците на тези мъже, които съгрешиха против живота си нека ги направят на плочи за обковаване на олтара, защото те ги принесоха пред господа и затова са свети и те ще бъдат за знамение на израилевите синове. и когато фараонът отказваше да ни пусне господ, уби всяко първородно в египетската земя от първородно на човек до първородно на животно, затова жертвам на господа всяко първородно, което е мъжко, а всеки първороден от синовете си изкупувам. а без вяра не е възможно да се угоди на бога, защото, който идва при бога трябва да вярва, че той съществува и че възнаграждава тези, които го търсят. и докато още говореше с тях, ето, пратеникът слезе при него и каза: ето, това зло е от господа. а вие сами ли ще продадете братята си? а ето, тези, които се изкачиха от тел-мелах тел-ариса херуф, адон и емир, но не можаха да покажат бащините си домо\n"
     ]
    }
   ],
   "source": [
    "actual_y_pred = le.inverse_transform(y_pred)\n",
    "punctuated_sentences = scikit_punctuate(X_dev_flat, actual_y_pred)\n",
    "print(punctuated_sentences[:10735])"
   ]
  },
  {
   "cell_type": "markdown",
   "id": "33613fa1",
   "metadata": {},
   "source": [
    "#### Result: Slightly better performance to have all features"
   ]
  },
  {
   "cell_type": "code",
   "execution_count": 38,
   "id": "1e0ad321",
   "metadata": {},
   "outputs": [
    {
     "name": "stdout",
     "output_type": "stream",
     "text": [
      "CPU times: user 7h 31min 24s, sys: 45.6 s, total: 7h 32min 9s\n",
      "Wall time: 46min 9s\n"
     ]
    },
    {
     "data": {
      "text/plain": [
       "RandomForestClassifier(max_depth=100, max_features=None, max_leaf_nodes=2000,\n",
       "                       n_estimators=10, n_jobs=-1)"
      ]
     },
     "execution_count": 38,
     "metadata": {},
     "output_type": "execute_result"
    }
   ],
   "source": [
    "%%time\n",
    "clf = RandomForestClassifier(n_jobs=-1, max_depth=100, max_leaf_nodes=2000, max_features=None, n_estimators=10)\n",
    "clf.fit(X_train_60_svm, y_train_60_svm)"
   ]
  },
  {
   "cell_type": "code",
   "execution_count": 39,
   "id": "d05175b9",
   "metadata": {},
   "outputs": [
    {
     "name": "stderr",
     "output_type": "stream",
     "text": [
      "/Users/mter0707/opt/anaconda3/envs/masters/lib/python3.6/site-packages/sklearn/metrics/_classification.py:1221: UndefinedMetricWarning: Precision and F-score are ill-defined and being set to 0.0 in labels with no predicted samples. Use `zero_division` parameter to control this behavior.\n",
      "  _warn_prf(average, modifier, msg_start, len(result))\n"
     ]
    },
    {
     "name": "stdout",
     "output_type": "stream",
     "text": [
      "              precision    recall  f1-score   support\n",
      "\n",
      "                  0.964     0.994     0.979    240418\n",
      "           !      0.710     0.059     0.109       373\n",
      "           \"      0.740     0.177     0.285      2243\n",
      "          \",      0.671     0.546     0.602       848\n",
      "          \".      0.889     0.027     0.052       300\n",
      "           (      0.964     0.857     0.907      1693\n",
      "           )      0.888     0.809     0.847      1003\n",
      "          ),      0.969     0.561     0.711       385\n",
      "          ).      0.975     0.852     0.909       271\n",
      "           ,      0.859     0.705     0.775     18651\n",
      "           -      0.808     0.090     0.162       935\n",
      "           .      0.933     0.990     0.961     11435\n",
      "         ...      0.000     0.000     0.000        70\n",
      "           :      0.832     0.497     0.622       935\n",
      "          :\"      0.000     0.000     0.000        68\n",
      "           ;      0.714     0.016     0.031       628\n",
      "           ?      0.792     0.740     0.765       453\n",
      "\n",
      "    accuracy                          0.955    280709\n",
      "   macro avg      0.747     0.466     0.513    280709\n",
      "weighted avg      0.950     0.955     0.947    280709\n",
      "\n",
      "              precision    recall  f1-score   support\n",
      "\n",
      "           !      0.710     0.059     0.109       373\n",
      "           \"      0.740     0.177     0.285      2243\n",
      "          \",      0.671     0.546     0.602       848\n",
      "          \".      0.889     0.027     0.052       300\n",
      "           (      0.964     0.857     0.907      1693\n",
      "           )      0.888     0.809     0.847      1003\n",
      "          ),      0.969     0.561     0.711       385\n",
      "          ).      0.975     0.852     0.909       271\n",
      "           ,      0.859     0.705     0.775     18651\n",
      "           -      0.808     0.090     0.162       935\n",
      "           .      0.933     0.990     0.961     11435\n",
      "         ...      0.000     0.000     0.000        70\n",
      "           :      0.832     0.497     0.622       935\n",
      "          :\"      0.000     0.000     0.000        68\n",
      "           ;      0.714     0.016     0.031       628\n",
      "           ?      0.792     0.740     0.765       453\n",
      "\n",
      "   micro avg      0.886     0.719     0.794     40291\n",
      "   macro avg      0.734     0.433     0.484     40291\n",
      "weighted avg      0.868     0.719     0.761     40291\n",
      "\n"
     ]
    }
   ],
   "source": [
    "labels = list(clf.classes_)\n",
    "y_pred = clf.predict(X_dev_svm)\n",
    "target_names = list(le.classes_)\n",
    "print(classification_report(y_dev_svm, y_pred, labels=labels, target_names=target_names, digits=3))\n",
    "target_names.remove('')\n",
    "labels.remove(0)\n",
    "print(classification_report(y_dev_svm, y_pred, labels=labels, target_names=target_names, digits=3))"
   ]
  },
  {
   "cell_type": "code",
   "execution_count": 41,
   "id": "4728dd2e",
   "metadata": {},
   "outputs": [],
   "source": [
    "pkl_filename = '../../data/random_forest_v9_model.pkl'\n",
    "with open(pkl_filename, 'wb') as file:\n",
    "    pickle.dump(clf, file)"
   ]
  },
  {
   "cell_type": "code",
   "execution_count": 45,
   "id": "e6f2fd08",
   "metadata": {},
   "outputs": [
    {
     "name": "stdout",
     "output_type": "stream",
     "text": [
      "CPU times: user 15h 52min 26s, sys: 2min 22s, total: 15h 54min 49s\n",
      "Wall time: 1h 38min 29s\n"
     ]
    },
    {
     "data": {
      "text/plain": [
       "RandomForestClassifier(max_depth=100, max_features=None, max_leaf_nodes=5000,\n",
       "                       n_estimators=10, n_jobs=-1)"
      ]
     },
     "execution_count": 45,
     "metadata": {},
     "output_type": "execute_result"
    }
   ],
   "source": [
    "%%time\n",
    "clf = RandomForestClassifier(n_jobs=-1, max_depth=100, max_leaf_nodes=5000, max_features=None, n_estimators=10)\n",
    "clf.fit(X_train_60_svm, y_train_60_svm)"
   ]
  },
  {
   "cell_type": "code",
   "execution_count": 46,
   "id": "14a0cc06",
   "metadata": {},
   "outputs": [
    {
     "name": "stderr",
     "output_type": "stream",
     "text": [
      "/Users/mter0707/opt/anaconda3/envs/masters/lib/python3.6/site-packages/sklearn/metrics/_classification.py:1221: UndefinedMetricWarning: Precision and F-score are ill-defined and being set to 0.0 in labels with no predicted samples. Use `zero_division` parameter to control this behavior.\n",
      "  _warn_prf(average, modifier, msg_start, len(result))\n"
     ]
    },
    {
     "name": "stdout",
     "output_type": "stream",
     "text": [
      "              precision    recall  f1-score   support\n",
      "\n",
      "                  0.966     0.994     0.980    240418\n",
      "           !      0.712     0.113     0.194       373\n",
      "           \"      0.720     0.218     0.335      2243\n",
      "          \",      0.698     0.548     0.614       848\n",
      "          \".      0.833     0.033     0.064       300\n",
      "           (      0.967     0.870     0.916      1693\n",
      "           )      0.885     0.821     0.852      1003\n",
      "          ),      0.941     0.582     0.719       385\n",
      "          ).      0.987     0.871     0.925       271\n",
      "           ,      0.858     0.723     0.785     18651\n",
      "           -      0.734     0.097     0.172       935\n",
      "           .      0.937     0.991     0.963     11435\n",
      "         ...      0.000     0.000     0.000        70\n",
      "           :      0.868     0.540     0.666       935\n",
      "          :\"      0.000     0.000     0.000        68\n",
      "           ;      0.520     0.021     0.040       628\n",
      "           ?      0.819     0.779     0.799       453\n",
      "\n",
      "    accuracy                          0.956    280709\n",
      "   macro avg      0.732     0.482     0.531    280709\n",
      "weighted avg      0.951     0.956     0.950    280709\n",
      "\n",
      "              precision    recall  f1-score   support\n",
      "\n",
      "           !      0.712     0.113     0.194       373\n",
      "           \"      0.720     0.218     0.335      2243\n",
      "          \",      0.698     0.548     0.614       848\n",
      "          \".      0.833     0.033     0.064       300\n",
      "           (      0.967     0.870     0.916      1693\n",
      "           )      0.885     0.821     0.852      1003\n",
      "          ),      0.941     0.582     0.719       385\n",
      "          ).      0.987     0.871     0.925       271\n",
      "           ,      0.858     0.723     0.785     18651\n",
      "           -      0.734     0.097     0.172       935\n",
      "           .      0.937     0.991     0.963     11435\n",
      "         ...      0.000     0.000     0.000        70\n",
      "           :      0.868     0.540     0.666       935\n",
      "          :\"      0.000     0.000     0.000        68\n",
      "           ;      0.520     0.021     0.040       628\n",
      "           ?      0.819     0.779     0.799       453\n",
      "\n",
      "   micro avg      0.886     0.733     0.803     40291\n",
      "   macro avg      0.717     0.450     0.503     40291\n",
      "weighted avg      0.863     0.733     0.772     40291\n",
      "\n"
     ]
    }
   ],
   "source": [
    "labels = list(clf.classes_)\n",
    "y_pred = clf.predict(X_dev_svm)\n",
    "target_names = list(le.classes_)\n",
    "print(classification_report(y_dev_svm, y_pred, labels=labels, target_names=target_names, digits=3))\n",
    "target_names.remove('')\n",
    "labels.remove(0)\n",
    "print(classification_report(y_dev_svm, y_pred, labels=labels, target_names=target_names, digits=3))"
   ]
  },
  {
   "cell_type": "code",
   "execution_count": 48,
   "id": "dab3e19e",
   "metadata": {},
   "outputs": [],
   "source": [
    "pkl_filename = '../../data/random_forest_v10_model.pkl'\n",
    "with open(pkl_filename, 'wb') as file:\n",
    "    pickle.dump(clf, file)"
   ]
  },
  {
   "cell_type": "code",
   "execution_count": 50,
   "id": "8a176710",
   "metadata": {},
   "outputs": [
    {
     "name": "stdout",
     "output_type": "stream",
     "text": [
      "но синовете им не умъртви, защото постъпи според писаното в закона в книгата на мойсей, където господ заповяда и каза: бащите, да не умират заради синовете и синовете, да не умират заради бащите, а всеки да умира за собствения си грях. но когато ти говоря, ще отворя устата ти и ти им кажи: така казва господ бог, който слуша, нека слуша, а който не слуша, нека не слуша, защото са бунтовен дом. защото кой е по-голям този, който седи на трапезата ли или онзи, който слугува? а след това ще се насели както в предишните дни, заявява господ. а той беше на задната част, заспал на възглавница. ефрем е като птица славата му ще отлети. и така, той си отиде от него на известно разстояние. не бягам при халдейците. и израилевите синове излязоха от египетската земя, строени. а когато ахитофел видя, че съветът му не се изпълни оседла магарето си и стана, и отиде у дома си в своя град и нареди домашните си работи и се обеси. ако умре някое животно от добитъка, който можете да ядете, който се допре до мършата му, ще бъде нечист до вечерта. но помощник, съответен на адам, не се намери. който задържа жито, народът, ще го проклина, а благословение ще почива на главата на този, който го продава. този човек беше праведен и благочестив, и чакаше утехата на израил и светият дух беше на него. всичко е възможно за този, който вярва. и видях височината на дома околовръст основите на страничните стаи бяха една цяла тръстика от шест големи лакътя. после да вземеш тлъстината на овена, опашката и тлъстината, която покрива вътрешностите булото на дроба, двата бъбрека с тлъстината, която е около тях и дясното бедро, защото е овен на посвещение и един хляб, една пита хляб, месен с маслинено масло, и една кора от коша на безквасните хлябове, които са пред господа. и от дима излязоха скакалци по земята и им се даде власт като властта, която имат земните скорпиони. ти си, господи, само ти. и ще предаде израил заради греховете на еровоам, с които съгреши и с които въведе израил в грях. синове на елифаз: теман и омар, сефи и готом, кенез и тамна, и амалик. а гладът в самария беше страшен. затова казах: в сърцето си, че и това е суета. насладих се на сянката му и седнах, и плодът му бе сладък в устата ми. защото така ми каза: господ, както ръмжи над лова си, лъвът, младият лъв, срещу когото се свикват множество, овчари и не се плаши от гласа им и не се отдръпва пред шума им, така господ на войнствата, ще слезе, за да воюва за хълма сион и за неговото възвишение. отче свети, опази ги в името си, което си ми дал, за да бъдат едно, както сме и ние. и да правите разлика между чистите животни и нечистите, и между нечистите птици и чистите и да не осквернявате себе си с животно или с птица, или с каквото и да е, което пълзи по земята, което аз съм ви отделил като нечисто. и господ укрепи моавския цар еглон против израил, защото вършиха зло пред господа. и духът ми каза: да отида с тях без да се двоумя. в двадесет и седмата година на израилевия цар еровоам се възцари азария, синът на юдовия цар амасия. защото вашата послушност е известна на всички затова се радвам за вас. той изтегля всички с въдица, влачи ги в мрежата си и ги събира в рибарската си мрежа, затова се радва и се весели. благословен да е господ бог, богът на израил, който единствен върши чудеса. и които влязоха мъжко и женско от всяка плът влязоха, както бог му беше заповядал и господ затвори след него. тогава царят каза на божия човек, ела с мен у дома и се подкрепи, и ще ти дам подарък. и ето, въпреки че е посадена, ще успее ли? от дома тогарма даваха за стоките ти коне, бойни коне и мулета. затова заповядай гробът да се пази здраво до третия ден да не би учениците му да дойдат и да го откраднат и да кажат на народа, възкръсна от мъртвите. и когато отвори петия печат, видях под олтара душите на онези, които са били заклани за божието слово и за свидетелството, което държаха. и свещениците, които служат на господа са синовете на аарон и левитите са в службата. той тича след тях с умолителни думи, но тях ги няма. и измери дължината му- четиридесет лакътя и ширината му- двадесет лакътя. затова, така казва господ, бог на войнствата, израилевият бог: ето, аз ще докарам върху юда и върху всичките ерусалимски жители, цялото зло, което говорих против тях, защото им говорих, но не слушаха и ги виках, но не отговаряха. сине мой, слушай наставлението на баща си и не отхвърляй закона на майка си, защото те ще бъдат благодатен венец за главата ти и огърлица за шията ти. тогава облакът започна да се издига от града в димен стълб и вениамин се обърна, и ето, целият град се издигаше в пламъци към небето. в онзи ден няма да се срамуваш от всичките си дела, с които си отстъпил от мен, защото тогава ще отнема отсред теб твоите, които горделиво тържествуват и ти няма вече да се държиш надменно на светия ми хълм. а свинарите, като видяха станалото, избягаха и разказаха за това в града и в селата. и илий благослови елкана и жена му, и каза: господ да ти даде потомство от тази жена вместо заетото, което беше посветено на господа. и ако живее във вас духът на този, който възкреси иисус от мъртвите то този, който възкреси христос от мъртвите ще съживи и вашите смъртни тела чрез духа си, който живее във вас. а господ си извърши, както беше говорил чрез мен и господ откъсна царството от ръката ти и го даде на ближния ти на давид. даде и храна за магаретата им. книгата на видението на елкусеянина наум. и направи олтара за всеизгаряне от акациево дърво, пет лакътя беше дължината му и пет лакътя беше ширината му- четвъртит и три лакътя беше височината му. те ми казаха: направи ни богове, които да ходят пред нас, защото на този мойсей, човека, който ни изведе от египетската земя не знаем какво му стана. тогава мардохей каза: да отговорят на естир не мисли в себе си, че от всичките юдеи само ти ще се избавиш в царския дом. но аз не бих познал греха освен чрез закона, защото не бих знаел пожелание, ако законът не беше казал, не пожелавай. тогава народът му си спомни за древните дни на мойсей, къде е онзи, който ги изведе от морето с пастирите на стадото си? и три пъти в годината, соломон принасяше всеизгаряния и примирителни жертви върху олтара, който построи на господа и кадеше върху олтара, който беше пред господа. и след като им поставиха старейшини във всяка църква и се помолиха с пост, ги препоръчаха на господа, в когото бяха повярвали. с нея той подейства в христос, като го възкреси от мъртвите и го сложи да седне от дясната си страна на небесата далеч над всяко началство и власт, и сила, и господство, и всяко име, с което се наименуват не само в този свят, но и в бъдещия. стрелец срещу стрелец да опъва лъка си и срещу онзи, който се надига в бронята си. затова онази нива е наречена и до днес кръвна нива. и така, слугите на цар езекия отидоха при исая. и никой свещеник да не пие вино, когато влиза във вътрешния двор. и охозия падна през решетката на горната си стая в самария и се разболя. защо не разбирате моето говорене? а лаван в отговор каза на яков тези дъщери са мои дъщери и синовете са мои синове и стадата са мои стада. а чуждият, който се приближи да се умъртви. и двамата сина на илий, офний и финеес бяха там с ковчега на божия завет. иисус му каза: лисиците си, имат леговища и небесните птици гнезда, а човешкият син няма къде глава да подслони. от кръвта на убитите от тлъстината на силните лъкът на йонатан не се обръщаше назад и мечът на саул не се връщаше празен. станах за присмех на целия си народ и за тяхна подигравателна песен, цял ден. да учите на тях синовете си, като говорите за тях, когато седиш в къщата си, когато ходиш по пътя, когато лягаш и когато ставаш. и господ се разкая за злото, което беше казал, че ще направи на народа си. а юда изпрати ярето чрез ръката на приятеля си одоламеца, за да вземе залога от ръката на жената, но той не я намери. и царят заповяда и доведоха онези мъже, които бяха издали даниил и хвърлиха тях децата им и жените им в рова на лъвовете и още преди да стигнат до дъното на рова, лъвовете ги сграбчиха и строшиха всичките им кости. и йоав и народът, който беше с него, настъпиха за битката против арамейците и те побягнаха пред него. и като го повикаха тертил започна да обвинява, като казваше, понеже чрез теб честити феликсе се радваме на голямо спокойствие и понеже чрез твоята предвидливост има подобрения за този народ то ние с пълна благодарност винаги и навсякъде посрещаме това. защото йоан казваше на ирод не ти е позволено да имаш жената на брат си. а в първия ден на седмицата много рано сутринта те дойдоха на гроба, като носеха благоуханните масла, които бяха приготвили. ще бъде ли добре да ви изпита той? след това яков каза на лаван: дай жена ми, защото дойде време да вляза при нея. а посветените дарове бяха шестстотин говеда и три хиляди овце. кога ще се събудя, за да продължа да го потърся пак? изнемогвам от викането си, гърлото ми е пресъхнало очите ми чезнат, докато чакам своя бог. това са родовете на мерарий. на следващия ден едно голямо множество, което беше дошло на празника, като чуха, че иисус идвал в ерусалим, взеха палмови клони и излязоха да го посрещнат, викайки осанна. и той каза: имам нещо да ти кажа. ако някой, който е престъпил закона на мойсей умира безпощадно при думата на двама или трима свидетели, то колко по-тежко наказание мислите, ще заслужи онзи, който е потъпкал божия син и е счел за просто нещо кръвта на завета, с която е бил осветен и е оскърбил духа на благодатта. върни се, сине мой давиде, защото няма вече да ти сторя зло, понеже днес животът ми беше скъпоценен пред очите ти. ще дойдат големци от египет, етиопия бързо ще протегне ръцете си към бога. затова хората му се боят и той не гледа на никого от мъдрите по сърце. и го следваше голямо множество от народ и жени, които плачеха за него. ето ви семе, засейте земята. и давид дойде във ваал-ферасим и давид ги разби там и каза: господ разсече пред мен враговете ми, както водите правят пролом. кадилниците на тези мъже, които съгрешиха против живота си, нека ги направят на плочи за обковаване на олтара, защото те ги принесоха пред господа и затова са свети и те ще бъдат за знамение на израилевите синове. и когато фараонът отказваше да ни пусне господ, уби всяко първородно в египетската земя от първородно на човек до първородно на животно, затова жертвам на господа, всяко първородно, което е мъжко, а всеки първороден от синовете си изкупувам. а без вяра не е възможно да се угоди на бога, защото, който идва при бога трябва да вярва, че той съществува и че възнаграждава тези, които го търсят. и докато още говореше с тях, ето, пратеникът слезе при него и каза: ето, това зло е от господа. а вие сами ли ще продадете братята си? а ето тези, които се изкачиха от тел-мелах тел-ариса херуф, адон и емир, но не можаха да покаж\n"
     ]
    }
   ],
   "source": [
    "actual_y_pred = le.inverse_transform(y_pred)\n",
    "punctuated_sentences = scikit_punctuate(X_dev_flat, actual_y_pred)\n",
    "print(punctuated_sentences[:10735])"
   ]
  },
  {
   "cell_type": "markdown",
   "id": "5fb28df7",
   "metadata": {},
   "source": [
    "#### Result: Best results so far."
   ]
  }
 ],
 "metadata": {
  "kernelspec": {
   "display_name": "Python 3",
   "language": "python",
   "name": "python3"
  },
  "language_info": {
   "codemirror_mode": {
    "name": "ipython",
    "version": 3
   },
   "file_extension": ".py",
   "mimetype": "text/x-python",
   "name": "python",
   "nbconvert_exporter": "python",
   "pygments_lexer": "ipython3",
   "version": "3.6.13"
  }
 },
 "nbformat": 4,
 "nbformat_minor": 5
}
