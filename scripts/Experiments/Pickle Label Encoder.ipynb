{
 "cells": [
  {
   "cell_type": "markdown",
   "id": "7a0e6814",
   "metadata": {},
   "source": [
    "### Import Functions"
   ]
  },
  {
   "cell_type": "code",
   "execution_count": 1,
   "id": "f85ba4f0",
   "metadata": {},
   "outputs": [],
   "source": [
    "from ipynb.fs.full.utilities import *\n",
    "from sklearn import preprocessing\n",
    "import pickle"
   ]
  },
  {
   "cell_type": "markdown",
   "id": "e37319bb",
   "metadata": {},
   "source": [
    "### Export Label Encoder as Pickle"
   ]
  },
  {
   "cell_type": "code",
   "execution_count": 2,
   "id": "134a5f8e",
   "metadata": {},
   "outputs": [],
   "source": [
    "y_train_60 = load_json('../../data/Train_60_y.json')\n",
    "y_train_60_flat = [label for sentence in y_train_60 for label in sentence]"
   ]
  },
  {
   "cell_type": "code",
   "execution_count": 3,
   "id": "43665575",
   "metadata": {},
   "outputs": [],
   "source": [
    "le = preprocessing.LabelEncoder()\n",
    "y_train_60_svm = le.fit_transform(y_train_60_flat)"
   ]
  },
  {
   "cell_type": "code",
   "execution_count": 4,
   "id": "336af174",
   "metadata": {},
   "outputs": [],
   "source": [
    "pkl_filename = '../../data/label_encoder.pkl'\n",
    "with open(pkl_filename, 'wb') as file:\n",
    "    pickle.dump(le, file)"
   ]
  },
  {
   "cell_type": "markdown",
   "id": "2e76dd15",
   "metadata": {},
   "source": [
    "### Test Pickle Export"
   ]
  },
  {
   "cell_type": "code",
   "execution_count": 5,
   "id": "fd07c856",
   "metadata": {},
   "outputs": [],
   "source": [
    "pkl_filename = '../../data/label_encoder.pkl'\n",
    "with open(pkl_filename, 'rb') as file:\n",
    "    le = pickle.load(file)"
   ]
  },
  {
   "cell_type": "code",
   "execution_count": 6,
   "id": "c983628b",
   "metadata": {},
   "outputs": [],
   "source": [
    "y_dev_20 = load_json('../../data/Dev_20_y.json')\n",
    "y_dev_20_flat = [label for sentence in y_dev_20 for label in sentence]"
   ]
  },
  {
   "cell_type": "code",
   "execution_count": 8,
   "id": "ac789f2a",
   "metadata": {},
   "outputs": [],
   "source": [
    "y_test_20_svm = le.transform(y_dev_20_flat)"
   ]
  }
 ],
 "metadata": {
  "kernelspec": {
   "display_name": "Python 3",
   "language": "python",
   "name": "python3"
  },
  "language_info": {
   "codemirror_mode": {
    "name": "ipython",
    "version": 3
   },
   "file_extension": ".py",
   "mimetype": "text/x-python",
   "name": "python",
   "nbconvert_exporter": "python",
   "pygments_lexer": "ipython3",
   "version": "3.6.13"
  }
 },
 "nbformat": 4,
 "nbformat_minor": 5
}
