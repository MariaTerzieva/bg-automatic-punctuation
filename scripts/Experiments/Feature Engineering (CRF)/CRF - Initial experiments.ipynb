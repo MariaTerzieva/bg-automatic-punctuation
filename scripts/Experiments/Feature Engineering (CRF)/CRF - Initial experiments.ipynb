{
 "cells": [
  {
   "cell_type": "markdown",
   "id": "e25ced69",
   "metadata": {},
   "source": [
    "### Function Definitions"
   ]
  },
  {
   "cell_type": "code",
   "execution_count": 1,
   "id": "085cbc52",
   "metadata": {},
   "outputs": [],
   "source": [
    "from ipynb.fs.full.utilities import *"
   ]
  },
  {
   "cell_type": "markdown",
   "id": "3dad520b",
   "metadata": {},
   "source": [
    "### CRF Model"
   ]
  },
  {
   "cell_type": "markdown",
   "id": "48249ad5",
   "metadata": {},
   "source": [
    "### Sentence contains imperative verb"
   ]
  },
  {
   "cell_type": "code",
   "execution_count": 23,
   "id": "152e5020",
   "metadata": {},
   "outputs": [],
   "source": [
    "# input - sentence (list of dictionaries) and an index of a word (dictionary)\n",
    "# output - list of dictionaries (features, for each word)\n",
    "def word2features(sentence, i):\n",
    "    sentence_contains_interrogative_word, interrogative_word_position = contains_interrogative_word(sentence)\n",
    "    sentence_contains_interrogative_particle, interrogative_particle_position = contains_interrogative_particle(sentence)\n",
    "    sentence_contains_imperative_verb, imperative_verb_position = contains_imperative_verb(sentence)\n",
    "\n",
    "    features = {\n",
    "        'word': sentence[i]['text'],\n",
    "        'sent_len': len(sentence),\n",
    "        'pos_in_sent': i,\n",
    "        'upos': sentence[i]['upos'],\n",
    "        'xpos': sentence[i]['xpos'],\n",
    "        'first_word_in_sent': sentence[0]['text'],\n",
    "        'contains_interrogative_word': sentence_contains_interrogative_word,\n",
    "        'interrogative_word_position': interrogative_word_position,\n",
    "        'contains_interrogative_particle': sentence_contains_interrogative_particle,\n",
    "        'interrogative_particle_position': interrogative_particle_position,\n",
    "        'contains_imperative_verb': sentence_contains_imperative_verb,\n",
    "        'imperative_verb_position': imperative_verb_position\n",
    "    }\n",
    "\n",
    "    if i > 0:\n",
    "        features.update({\n",
    "            'prev_word': sentence[i-1]['text'],\n",
    "            'prev_word_upos': sentence[i-1]['upos'],\n",
    "            'prev_word_xpos': sentence[i-1]['xpos']\n",
    "        })\n",
    "    else:\n",
    "        features.update({\n",
    "            'BOS': True\n",
    "        })\n",
    "\n",
    "    if i < len(sentence)-1:\n",
    "        features.update({\n",
    "            'next_word': sentence[i+1]['text'],\n",
    "            'next_word_upos': sentence[i+1]['upos'],\n",
    "            'next_word_xpos': sentence[i+1]['xpos']\n",
    "        })\n",
    "    else:\n",
    "        features.update({\n",
    "            'EOS': True\n",
    "        })\n",
    "        \n",
    "    if i < len(sentence)-2:\n",
    "        features.update({\n",
    "            'word_after_next_word': sentence [i+2]['text'],\n",
    "            'word_after_next_word_upos': sentence[i+2]['upos'],\n",
    "            'word_after_next_word_xpos': sentence[i+2]['xpos']\n",
    "        })\n",
    "\n",
    "    return features"
   ]
  },
  {
   "cell_type": "code",
   "execution_count": 24,
   "id": "53dd0e76",
   "metadata": {},
   "outputs": [
    {
     "name": "stderr",
     "output_type": "stream",
     "text": [
      "2021-09-29 00:35:06 INFO: Loading these models for language: bg (Bulgarian):\n",
      "========================\n",
      "| Processor | Package  |\n",
      "------------------------\n",
      "| tokenize  | standard |\n",
      "========================\n",
      "\n",
      "2021-09-29 00:35:06 INFO: Use device: gpu\n",
      "2021-09-29 00:35:06 INFO: Loading: tokenize\n",
      "2021-09-29 00:35:06 INFO: Done loading processors!\n",
      "2021-09-29 00:35:30 INFO: Loading these models for language: bg (Bulgarian):\n",
      "========================\n",
      "| Processor | Package  |\n",
      "------------------------\n",
      "| tokenize  | standard |\n",
      "| pos       | standard |\n",
      "========================\n",
      "\n",
      "2021-09-29 00:35:30 INFO: Use device: gpu\n",
      "2021-09-29 00:35:30 INFO: Loading: tokenize\n",
      "2021-09-29 00:35:30 INFO: Loading: pos\n",
      "2021-09-29 00:35:36 INFO: Done loading processors!\n"
     ]
    },
    {
     "name": "stdout",
     "output_type": "stream",
     "text": [
      "CPU times: user 23min 14s, sys: 3.57 s, total: 23min 18s\n",
      "Wall time: 23min 17s\n"
     ]
    }
   ],
   "source": [
    "%%time\n",
    "X_train, y_train = data_prep('../../data/Train.txt')"
   ]
  },
  {
   "cell_type": "code",
   "execution_count": 25,
   "id": "80effe7e",
   "metadata": {},
   "outputs": [],
   "source": [
    "verify_prepped_data(X_train, y_train)"
   ]
  },
  {
   "cell_type": "code",
   "execution_count": 26,
   "id": "dc79e2b1",
   "metadata": {},
   "outputs": [
    {
     "name": "stderr",
     "output_type": "stream",
     "text": [
      "2021-09-29 00:58:24 INFO: Loading these models for language: bg (Bulgarian):\n",
      "========================\n",
      "| Processor | Package  |\n",
      "------------------------\n",
      "| tokenize  | standard |\n",
      "========================\n",
      "\n",
      "2021-09-29 00:58:24 INFO: Use device: gpu\n",
      "2021-09-29 00:58:24 INFO: Loading: tokenize\n",
      "2021-09-29 00:58:24 INFO: Done loading processors!\n",
      "2021-09-29 00:58:37 INFO: Loading these models for language: bg (Bulgarian):\n",
      "========================\n",
      "| Processor | Package  |\n",
      "------------------------\n",
      "| tokenize  | standard |\n",
      "| pos       | standard |\n",
      "========================\n",
      "\n",
      "2021-09-29 00:58:37 INFO: Use device: gpu\n",
      "2021-09-29 00:58:37 INFO: Loading: tokenize\n",
      "2021-09-29 00:58:37 INFO: Loading: pos\n",
      "2021-09-29 00:58:38 INFO: Done loading processors!\n"
     ]
    },
    {
     "name": "stdout",
     "output_type": "stream",
     "text": [
      "CPU times: user 11min 49s, sys: 1.09 s, total: 11min 50s\n",
      "Wall time: 11min 49s\n"
     ]
    }
   ],
   "source": [
    "%%time\n",
    "X_dev, y_dev = data_prep('../../data/Dev.txt')"
   ]
  },
  {
   "cell_type": "code",
   "execution_count": 27,
   "id": "df9842b5",
   "metadata": {},
   "outputs": [],
   "source": [
    "verify_prepped_data(X_dev, y_dev)"
   ]
  },
  {
   "cell_type": "code",
   "execution_count": 28,
   "id": "d9743758",
   "metadata": {},
   "outputs": [
    {
     "name": "stdout",
     "output_type": "stream",
     "text": [
      "CPU times: user 29min 3s, sys: 1.64 s, total: 29min 4s\n",
      "Wall time: 29min 1s\n"
     ]
    }
   ],
   "source": [
    "%%time\n",
    "crf = sklearn_crfsuite.CRF(\n",
    "    algorithm='lbfgs',\n",
    "    c1=0.1,\n",
    "    c2=0.1,\n",
    "    max_iterations=100,\n",
    "    all_possible_transitions=True\n",
    ")\n",
    "crf.fit(X_train, y_train)"
   ]
  },
  {
   "cell_type": "code",
   "execution_count": null,
   "id": "432bc917",
   "metadata": {},
   "outputs": [],
   "source": [
    "labels = list(crf.classes_)\n",
    "y_pred = crf.predict(X_dev)\n",
    "print(metrics.flat_f1_score(y_dev, y_pred, average='weighted', labels=labels))\n",
    "print(metrics.flat_classification_report(y_dev, y_pred, labels=labels, digits=3))\n",
    "labels.remove('')\n",
    "print(metrics.flat_f1_score(y_dev, y_pred, average='weighted', labels=labels))\n",
    "print(metrics.flat_classification_report(y_dev, y_pred, labels=labels, digits=3))\n",
    "punctuated_sentences = punctuate(X_dev, y_pred)\n",
    "print(punctuated_sentences[:100])"
   ]
  },
  {
   "cell_type": "markdown",
   "id": "6e1b5f85",
   "metadata": {},
   "source": [
    "### Sentence contains relative pronoun"
   ]
  },
  {
   "cell_type": "code",
   "execution_count": 30,
   "id": "d62d360b",
   "metadata": {},
   "outputs": [],
   "source": [
    "# input - sentence (list of dictionaries) and an index of a word (dictionary)\n",
    "# output - list of dictionaries (features, for each word)\n",
    "def word2features(sentence, i):\n",
    "    sentence_contains_interrogative_word, interrogative_word_position = contains_interrogative_word(sentence)\n",
    "    sentence_contains_interrogative_particle, interrogative_particle_position = contains_interrogative_particle(sentence)\n",
    "    sentence_contains_relative_pronoun, relative_pronoun_position = contains_relative_pronoun(sentence)\n",
    "\n",
    "    features = {\n",
    "        'word': sentence[i]['text'],\n",
    "        'sent_len': len(sentence),\n",
    "        'pos_in_sent': i,\n",
    "        'upos': sentence[i]['upos'],\n",
    "        'xpos': sentence[i]['xpos'],\n",
    "        'first_word_in_sent': sentence[0]['text'],\n",
    "        'contains_interrogative_word': sentence_contains_interrogative_word,\n",
    "        'interrogative_word_position': interrogative_word_position,\n",
    "        'contains_interrogative_particle': sentence_contains_interrogative_particle,\n",
    "        'interrogative_particle_position': interrogative_particle_position,\n",
    "        'contains_relative_pronoun': sentence_contains_relative_pronoun,\n",
    "        'relative_pronoun_position': relative_pronoun_position\n",
    "    }\n",
    "\n",
    "    if i > 0:\n",
    "        features.update({\n",
    "            'prev_word': sentence[i-1]['text'],\n",
    "            'prev_word_upos': sentence[i-1]['upos'],\n",
    "            'prev_word_xpos': sentence[i-1]['xpos']\n",
    "        })\n",
    "    else:\n",
    "        features.update({\n",
    "            'BOS': True\n",
    "        })\n",
    "\n",
    "    if i < len(sentence)-1:\n",
    "        features.update({\n",
    "            'next_word': sentence[i+1]['text'],\n",
    "            'next_word_upos': sentence[i+1]['upos'],\n",
    "            'next_word_xpos': sentence[i+1]['xpos']\n",
    "        })\n",
    "    else:\n",
    "        features.update({\n",
    "            'EOS': True\n",
    "        })\n",
    "        \n",
    "    if i < len(sentence)-2:\n",
    "        features.update({\n",
    "            'word_after_next_word': sentence [i+2]['text'],\n",
    "            'word_after_next_word_upos': sentence[i+2]['upos'],\n",
    "            'word_after_next_word_xpos': sentence[i+2]['xpos']\n",
    "        })\n",
    "\n",
    "    return features"
   ]
  },
  {
   "cell_type": "code",
   "execution_count": 31,
   "id": "b9a2e63f",
   "metadata": {},
   "outputs": [
    {
     "name": "stderr",
     "output_type": "stream",
     "text": [
      "2021-09-29 01:39:26 INFO: Loading these models for language: bg (Bulgarian):\n",
      "========================\n",
      "| Processor | Package  |\n",
      "------------------------\n",
      "| tokenize  | standard |\n",
      "========================\n",
      "\n",
      "2021-09-29 01:39:26 INFO: Use device: gpu\n",
      "2021-09-29 01:39:26 INFO: Loading: tokenize\n",
      "2021-09-29 01:39:26 INFO: Done loading processors!\n",
      "2021-09-29 01:39:44 INFO: Loading these models for language: bg (Bulgarian):\n",
      "========================\n",
      "| Processor | Package  |\n",
      "------------------------\n",
      "| tokenize  | standard |\n",
      "| pos       | standard |\n",
      "========================\n",
      "\n",
      "2021-09-29 01:39:44 INFO: Use device: gpu\n",
      "2021-09-29 01:39:44 INFO: Loading: tokenize\n",
      "2021-09-29 01:39:44 INFO: Loading: pos\n",
      "2021-09-29 01:39:45 INFO: Done loading processors!\n"
     ]
    },
    {
     "name": "stdout",
     "output_type": "stream",
     "text": [
      "CPU times: user 23min 16s, sys: 2.07 s, total: 23min 18s\n",
      "Wall time: 23min 17s\n"
     ]
    }
   ],
   "source": [
    "%%time\n",
    "X_train, y_train = data_prep('../../data/Train.txt')"
   ]
  },
  {
   "cell_type": "code",
   "execution_count": 32,
   "id": "e060c909",
   "metadata": {},
   "outputs": [],
   "source": [
    "verify_prepped_data(X_train, y_train)"
   ]
  },
  {
   "cell_type": "code",
   "execution_count": 33,
   "id": "35071e3a",
   "metadata": {},
   "outputs": [
    {
     "name": "stderr",
     "output_type": "stream",
     "text": [
      "2021-09-29 02:02:44 INFO: Loading these models for language: bg (Bulgarian):\n",
      "========================\n",
      "| Processor | Package  |\n",
      "------------------------\n",
      "| tokenize  | standard |\n",
      "========================\n",
      "\n",
      "2021-09-29 02:02:44 INFO: Use device: gpu\n",
      "2021-09-29 02:02:44 INFO: Loading: tokenize\n",
      "2021-09-29 02:02:44 INFO: Done loading processors!\n",
      "2021-09-29 02:02:56 INFO: Loading these models for language: bg (Bulgarian):\n",
      "========================\n",
      "| Processor | Package  |\n",
      "------------------------\n",
      "| tokenize  | standard |\n",
      "| pos       | standard |\n",
      "========================\n",
      "\n",
      "2021-09-29 02:02:56 INFO: Use device: gpu\n",
      "2021-09-29 02:02:56 INFO: Loading: tokenize\n",
      "2021-09-29 02:02:56 INFO: Loading: pos\n",
      "2021-09-29 02:02:58 INFO: Done loading processors!\n"
     ]
    },
    {
     "name": "stdout",
     "output_type": "stream",
     "text": [
      "CPU times: user 11min 47s, sys: 1.06 s, total: 11min 48s\n",
      "Wall time: 11min 47s\n"
     ]
    }
   ],
   "source": [
    "%%time\n",
    "X_dev, y_dev = data_prep('../../data/Dev.txt')"
   ]
  },
  {
   "cell_type": "code",
   "execution_count": 34,
   "id": "fe9e319e",
   "metadata": {},
   "outputs": [],
   "source": [
    "verify_prepped_data(X_dev, y_dev)"
   ]
  },
  {
   "cell_type": "code",
   "execution_count": 35,
   "id": "221937fa",
   "metadata": {},
   "outputs": [
    {
     "name": "stdout",
     "output_type": "stream",
     "text": [
      "CPU times: user 30min 24s, sys: 1.36 s, total: 30min 25s\n",
      "Wall time: 30min 22s\n"
     ]
    }
   ],
   "source": [
    "%%time\n",
    "crf = sklearn_crfsuite.CRF(\n",
    "    algorithm='lbfgs',\n",
    "    c1=0.1,\n",
    "    c2=0.1,\n",
    "    max_iterations=100,\n",
    "    all_possible_transitions=True\n",
    ")\n",
    "crf.fit(X_train, y_train)"
   ]
  },
  {
   "cell_type": "code",
   "execution_count": null,
   "id": "955943c9",
   "metadata": {},
   "outputs": [],
   "source": [
    "labels = list(crf.classes_)\n",
    "y_pred = crf.predict(X_dev)\n",
    "print(metrics.flat_f1_score(y_dev, y_pred, average='weighted', labels=labels))\n",
    "print(metrics.flat_classification_report(y_dev, y_pred, labels=labels, digits=3))\n",
    "labels.remove('')\n",
    "print(metrics.flat_f1_score(y_dev, y_pred, average='weighted', labels=labels))\n",
    "print(metrics.flat_classification_report(y_dev, y_pred, labels=labels, digits=3))\n",
    "punctuated_sentences = punctuate(X_dev, y_pred)\n",
    "print(punctuated_sentences[:100])"
   ]
  },
  {
   "cell_type": "markdown",
   "id": "f352d855",
   "metadata": {},
   "source": [
    "### Contains repetitive coordinative conjunction"
   ]
  },
  {
   "cell_type": "code",
   "execution_count": 24,
   "id": "45d921b6",
   "metadata": {},
   "outputs": [],
   "source": [
    "# input - sentence (list of dictionaries) and an index of a word (dictionary)\n",
    "# output - list of dictionaries (features, for each word)\n",
    "def word2features(sentence, i):\n",
    "    sentence_contains_interrogative_word, interrogative_word_position = contains_interrogative_word(sentence)\n",
    "    sentence_contains_interrogative_particle, interrogative_particle_position = contains_interrogative_particle(sentence)\n",
    "    sentence_contains_repetitive_coord_conj, repetitive_coord_conj_position = contains_repetitive_coord_conj_before(sentence, i)\n",
    "\n",
    "    features = {\n",
    "        'word': sentence[i]['text'],\n",
    "        'sent_len': len(sentence),\n",
    "        'pos_in_sent': i,\n",
    "        'upos': sentence[i]['upos'],\n",
    "        'xpos': sentence[i]['xpos'],\n",
    "        'first_word_in_sent': sentence[0]['text'],\n",
    "        'contains_interrogative_word': sentence_contains_interrogative_word,\n",
    "        'interrogative_word_position': interrogative_word_position,\n",
    "        'contains_interrogative_particle': sentence_contains_interrogative_particle,\n",
    "        'interrogative_particle_position': interrogative_particle_position,\n",
    "        'contains_repetitive_coord_conj_before': sentence_contains_repetitive_coord_conj,\n",
    "        'repetitive_coord_conj_position': repetitive_coord_conj_position\n",
    "    }\n",
    "\n",
    "    if i > 0:\n",
    "        features.update({\n",
    "            'prev_word': sentence[i-1]['text'],\n",
    "            'prev_word_upos': sentence[i-1]['upos'],\n",
    "            'prev_word_xpos': sentence[i-1]['xpos']\n",
    "        })\n",
    "    else:\n",
    "        features.update({\n",
    "            'BOS': True\n",
    "        })\n",
    "\n",
    "    if i < len(sentence)-1:\n",
    "        features.update({\n",
    "            'next_word': sentence[i+1]['text'],\n",
    "            'next_word_upos': sentence[i+1]['upos'],\n",
    "            'next_word_xpos': sentence[i+1]['xpos']\n",
    "        })\n",
    "    else:\n",
    "        features.update({\n",
    "            'EOS': True\n",
    "        })\n",
    "        \n",
    "    if i < len(sentence)-2:\n",
    "        features.update({\n",
    "            'word_after_next_word': sentence [i+2]['text'],\n",
    "            'word_after_next_word_upos': sentence[i+2]['upos'],\n",
    "            'word_after_next_word_xpos': sentence[i+2]['xpos']\n",
    "        })\n",
    "\n",
    "    return features"
   ]
  },
  {
   "cell_type": "code",
   "execution_count": 25,
   "id": "133a6b89",
   "metadata": {},
   "outputs": [
    {
     "name": "stderr",
     "output_type": "stream",
     "text": [
      "2021-09-29 09:46:52 INFO: Loading these models for language: bg (Bulgarian):\n",
      "========================\n",
      "| Processor | Package  |\n",
      "------------------------\n",
      "| tokenize  | standard |\n",
      "========================\n",
      "\n",
      "2021-09-29 09:46:52 INFO: Use device: gpu\n",
      "2021-09-29 09:46:52 INFO: Loading: tokenize\n",
      "2021-09-29 09:46:52 INFO: Done loading processors!\n",
      "2021-09-29 09:47:14 INFO: Loading these models for language: bg (Bulgarian):\n",
      "========================\n",
      "| Processor | Package  |\n",
      "------------------------\n",
      "| tokenize  | standard |\n",
      "| pos       | standard |\n",
      "========================\n",
      "\n",
      "2021-09-29 09:47:14 INFO: Use device: gpu\n",
      "2021-09-29 09:47:14 INFO: Loading: tokenize\n",
      "2021-09-29 09:47:14 INFO: Loading: pos\n",
      "2021-09-29 09:47:16 INFO: Done loading processors!\n"
     ]
    },
    {
     "name": "stdout",
     "output_type": "stream",
     "text": [
      "CPU times: user 23min 4s, sys: 3.16 s, total: 23min 7s\n",
      "Wall time: 23min 6s\n"
     ]
    }
   ],
   "source": [
    "%%time\n",
    "X_train, y_train = data_prep('../../data/Train.txt')"
   ]
  },
  {
   "cell_type": "code",
   "execution_count": 26,
   "id": "513647cb",
   "metadata": {},
   "outputs": [],
   "source": [
    "verify_prepped_data(X_train, y_train)"
   ]
  },
  {
   "cell_type": "code",
   "execution_count": 27,
   "id": "98b55dc6",
   "metadata": {},
   "outputs": [
    {
     "name": "stderr",
     "output_type": "stream",
     "text": [
      "2021-09-29 10:09:58 INFO: Loading these models for language: bg (Bulgarian):\n",
      "========================\n",
      "| Processor | Package  |\n",
      "------------------------\n",
      "| tokenize  | standard |\n",
      "========================\n",
      "\n",
      "2021-09-29 10:09:58 INFO: Use device: gpu\n",
      "2021-09-29 10:09:58 INFO: Loading: tokenize\n",
      "2021-09-29 10:09:58 INFO: Done loading processors!\n",
      "2021-09-29 10:10:11 INFO: Loading these models for language: bg (Bulgarian):\n",
      "========================\n",
      "| Processor | Package  |\n",
      "------------------------\n",
      "| tokenize  | standard |\n",
      "| pos       | standard |\n",
      "========================\n",
      "\n",
      "2021-09-29 10:10:11 INFO: Use device: gpu\n",
      "2021-09-29 10:10:11 INFO: Loading: tokenize\n",
      "2021-09-29 10:10:11 INFO: Loading: pos\n",
      "2021-09-29 10:10:13 INFO: Done loading processors!\n"
     ]
    },
    {
     "name": "stdout",
     "output_type": "stream",
     "text": [
      "CPU times: user 11min 46s, sys: 1.33 s, total: 11min 48s\n",
      "Wall time: 11min 47s\n"
     ]
    }
   ],
   "source": [
    "%%time\n",
    "X_dev, y_dev = data_prep('../../data/Dev.txt')"
   ]
  },
  {
   "cell_type": "code",
   "execution_count": 28,
   "id": "839a3121",
   "metadata": {},
   "outputs": [],
   "source": [
    "verify_prepped_data(X_dev, y_dev)"
   ]
  },
  {
   "cell_type": "code",
   "execution_count": 29,
   "id": "2d0e6c3c",
   "metadata": {},
   "outputs": [
    {
     "name": "stdout",
     "output_type": "stream",
     "text": [
      "CPU times: user 28min 59s, sys: 1.67 s, total: 29min 1s\n",
      "Wall time: 28min 57s\n"
     ]
    }
   ],
   "source": [
    "%%time\n",
    "crf = sklearn_crfsuite.CRF(\n",
    "    algorithm='lbfgs',\n",
    "    c1=0.1,\n",
    "    c2=0.1,\n",
    "    max_iterations=100,\n",
    "    all_possible_transitions=True\n",
    ")\n",
    "crf.fit(X_train, y_train)"
   ]
  },
  {
   "cell_type": "code",
   "execution_count": null,
   "id": "f95dbc59",
   "metadata": {},
   "outputs": [],
   "source": [
    "labels = list(crf.classes_)\n",
    "y_pred = crf.predict(X_dev)\n",
    "print(metrics.flat_f1_score(y_dev, y_pred, average='weighted', labels=labels))\n",
    "print(metrics.flat_classification_report(y_dev, y_pred, labels=labels, digits=3))\n",
    "labels.remove('')\n",
    "print(metrics.flat_f1_score(y_dev, y_pred, average='weighted', labels=labels))\n",
    "print(metrics.flat_classification_report(y_dev, y_pred, labels=labels, digits=3))\n",
    "punctuated_sentences = punctuate(X_dev, y_pred)\n",
    "print(punctuated_sentences[:100])"
   ]
  },
  {
   "cell_type": "markdown",
   "id": "d3513d7a",
   "metadata": {},
   "source": [
    "### Add more context of words before"
   ]
  },
  {
   "cell_type": "code",
   "execution_count": 31,
   "id": "ee8f07ff",
   "metadata": {},
   "outputs": [],
   "source": [
    "# input - sentence (list of dictionaries) and an index of a word (dictionary)\n",
    "# output - list of dictionaries (features, for each word)\n",
    "def word2features(sentence, i):\n",
    "    sentence_contains_interrogative_word, interrogative_word_position = contains_interrogative_word(sentence)\n",
    "    sentence_contains_interrogative_particle, interrogative_particle_position = contains_interrogative_particle(sentence)\n",
    "\n",
    "    features = {\n",
    "        'word': sentence[i]['text'],\n",
    "        'sent_len': len(sentence),\n",
    "        'pos_in_sent': i,\n",
    "        'upos': sentence[i]['upos'],\n",
    "        'xpos': sentence[i]['xpos'],\n",
    "        'first_word_in_sent': sentence[0]['text'],\n",
    "        'contains_interrogative_word': sentence_contains_interrogative_word,\n",
    "        'interrogative_word_position': interrogative_word_position,\n",
    "        'contains_interrogative_particle': sentence_contains_interrogative_particle,\n",
    "        'interrogative_particle_position': interrogative_particle_position\n",
    "    }\n",
    "\n",
    "    if i > 0:\n",
    "        features.update({\n",
    "            'prev_word': sentence[i-1]['text'],\n",
    "            'prev_word_upos': sentence[i-1]['upos'],\n",
    "            'prev_word_xpos': sentence[i-1]['xpos']\n",
    "        })\n",
    "    else:\n",
    "        features.update({\n",
    "            'BOS': True\n",
    "        })\n",
    "\n",
    "    if i > 1:\n",
    "        features.update({\n",
    "            'word_before_prev_word': sentence[i-2]['text'],\n",
    "            'word_before_prev_word_upos': sentence[i-2]['upos'],\n",
    "            'word_before_prev_word_xpos': sentence[i-2]['xpos']\n",
    "        })\n",
    "\n",
    "    if i < len(sentence)-1:\n",
    "        features.update({\n",
    "            'next_word': sentence[i+1]['text'],\n",
    "            'next_word_upos': sentence[i+1]['upos'],\n",
    "            'next_word_xpos': sentence[i+1]['xpos']\n",
    "        })\n",
    "    else:\n",
    "        features.update({\n",
    "            'EOS': True\n",
    "        })\n",
    "        \n",
    "    if i < len(sentence)-2:\n",
    "        features.update({\n",
    "            'word_after_next_word': sentence [i+2]['text'],\n",
    "            'word_after_next_word_upos': sentence[i+2]['upos'],\n",
    "            'word_after_next_word_xpos': sentence[i+2]['xpos']\n",
    "        })\n",
    "\n",
    "    return features"
   ]
  },
  {
   "cell_type": "code",
   "execution_count": 32,
   "id": "084a1f1c",
   "metadata": {},
   "outputs": [
    {
     "name": "stderr",
     "output_type": "stream",
     "text": [
      "2021-09-29 10:50:57 INFO: Loading these models for language: bg (Bulgarian):\n",
      "========================\n",
      "| Processor | Package  |\n",
      "------------------------\n",
      "| tokenize  | standard |\n",
      "========================\n",
      "\n",
      "2021-09-29 10:50:57 INFO: Use device: gpu\n",
      "2021-09-29 10:50:57 INFO: Loading: tokenize\n",
      "2021-09-29 10:50:57 INFO: Done loading processors!\n",
      "2021-09-29 10:51:14 INFO: Loading these models for language: bg (Bulgarian):\n",
      "========================\n",
      "| Processor | Package  |\n",
      "------------------------\n",
      "| tokenize  | standard |\n",
      "| pos       | standard |\n",
      "========================\n",
      "\n",
      "2021-09-29 10:51:14 INFO: Use device: gpu\n",
      "2021-09-29 10:51:14 INFO: Loading: tokenize\n",
      "2021-09-29 10:51:14 INFO: Loading: pos\n",
      "2021-09-29 10:51:15 INFO: Done loading processors!\n"
     ]
    },
    {
     "name": "stdout",
     "output_type": "stream",
     "text": [
      "CPU times: user 23min 14s, sys: 2.34 s, total: 23min 16s\n",
      "Wall time: 23min 15s\n"
     ]
    }
   ],
   "source": [
    "%%time\n",
    "X_train, y_train = data_prep('../../data/Train.txt')"
   ]
  },
  {
   "cell_type": "code",
   "execution_count": 33,
   "id": "299fac36",
   "metadata": {},
   "outputs": [],
   "source": [
    "verify_prepped_data(X_train, y_train)"
   ]
  },
  {
   "cell_type": "code",
   "execution_count": 34,
   "id": "2cf0c14a",
   "metadata": {},
   "outputs": [
    {
     "name": "stderr",
     "output_type": "stream",
     "text": [
      "2021-09-29 11:14:12 INFO: Loading these models for language: bg (Bulgarian):\n",
      "========================\n",
      "| Processor | Package  |\n",
      "------------------------\n",
      "| tokenize  | standard |\n",
      "========================\n",
      "\n",
      "2021-09-29 11:14:12 INFO: Use device: gpu\n",
      "2021-09-29 11:14:12 INFO: Loading: tokenize\n",
      "2021-09-29 11:14:12 INFO: Done loading processors!\n",
      "2021-09-29 11:14:25 INFO: Loading these models for language: bg (Bulgarian):\n",
      "========================\n",
      "| Processor | Package  |\n",
      "------------------------\n",
      "| tokenize  | standard |\n",
      "| pos       | standard |\n",
      "========================\n",
      "\n",
      "2021-09-29 11:14:25 INFO: Use device: gpu\n",
      "2021-09-29 11:14:25 INFO: Loading: tokenize\n",
      "2021-09-29 11:14:25 INFO: Loading: pos\n",
      "2021-09-29 11:14:27 INFO: Done loading processors!\n"
     ]
    },
    {
     "name": "stdout",
     "output_type": "stream",
     "text": [
      "CPU times: user 11min 47s, sys: 1.13 s, total: 11min 48s\n",
      "Wall time: 11min 47s\n"
     ]
    }
   ],
   "source": [
    "%%time\n",
    "X_dev, y_dev = data_prep('../../data/Dev.txt')"
   ]
  },
  {
   "cell_type": "code",
   "execution_count": 35,
   "id": "0b883f6f",
   "metadata": {},
   "outputs": [],
   "source": [
    "verify_prepped_data(X_dev, y_dev)"
   ]
  },
  {
   "cell_type": "code",
   "execution_count": 36,
   "id": "7aa8d4da",
   "metadata": {},
   "outputs": [
    {
     "name": "stdout",
     "output_type": "stream",
     "text": [
      "CPU times: user 33min 15s, sys: 2.07 s, total: 33min 18s\n",
      "Wall time: 33min 13s\n"
     ]
    }
   ],
   "source": [
    "%%time\n",
    "crf = sklearn_crfsuite.CRF(\n",
    "    algorithm='lbfgs',\n",
    "    c1=0.1,\n",
    "    c2=0.1,\n",
    "    max_iterations=100,\n",
    "    all_possible_transitions=True\n",
    ")\n",
    "crf.fit(X_train, y_train)"
   ]
  },
  {
   "cell_type": "code",
   "execution_count": null,
   "id": "7b3d54a3",
   "metadata": {},
   "outputs": [],
   "source": [
    "labels = list(crf.classes_)\n",
    "y_pred = crf.predict(X_dev)\n",
    "print(metrics.flat_f1_score(y_dev, y_pred, average='weighted', labels=labels))\n",
    "print(metrics.flat_classification_report(y_dev, y_pred, labels=labels, digits=3))\n",
    "labels.remove('')\n",
    "print(metrics.flat_f1_score(y_dev, y_pred, average='weighted', labels=labels))\n",
    "print(metrics.flat_classification_report(y_dev, y_pred, labels=labels, digits=3))\n",
    "punctuated_sentences = punctuate(X_dev, y_pred)\n",
    "print(punctuated_sentences[:100])"
   ]
  },
  {
   "cell_type": "code",
   "execution_count": 39,
   "id": "fb6c6e32",
   "metadata": {},
   "outputs": [],
   "source": [
    "# input - sentence (list of dictionaries) and an index of a word (dictionary)\n",
    "# output - list of dictionaries (features, for each word)\n",
    "def word2features(sentence, i):\n",
    "    sentence_contains_interrogative_word, interrogative_word_position = contains_interrogative_word(sentence)\n",
    "    sentence_contains_interrogative_particle, interrogative_particle_position = contains_interrogative_particle(sentence)\n",
    "\n",
    "    features = {\n",
    "        'word': sentence[i]['text'],\n",
    "        'sent_len': len(sentence),\n",
    "        'pos_in_sent': i,\n",
    "        'upos': sentence[i]['upos'],\n",
    "        'xpos': sentence[i]['xpos'],\n",
    "        'first_word_in_sent': sentence[0]['text'],\n",
    "        'contains_interrogative_word': sentence_contains_interrogative_word,\n",
    "        'interrogative_word_position': interrogative_word_position,\n",
    "        'contains_interrogative_particle': sentence_contains_interrogative_particle,\n",
    "        'interrogative_particle_position': interrogative_particle_position\n",
    "    }\n",
    "\n",
    "    if i > 0:\n",
    "        features.update({\n",
    "            'prev_word': sentence[i-1]['text'],\n",
    "            'prev_word_upos': sentence[i-1]['upos'],\n",
    "            'prev_word_xpos': sentence[i-1]['xpos']\n",
    "        })\n",
    "    else:\n",
    "        features.update({\n",
    "            'BOS': True\n",
    "        })\n",
    "\n",
    "    if i > 1:\n",
    "        features.update({\n",
    "            'word_before_prev_word': sentence[i-2]['text'],\n",
    "            'word_before_prev_word_upos': sentence[i-2]['upos'],\n",
    "            'word_before_prev_word_xpos': sentence[i-2]['xpos']\n",
    "        })\n",
    "\n",
    "    if i > 2:\n",
    "        features.update({\n",
    "            '2_words_before_prev_word': sentence[i-3]['text'],\n",
    "            '2_words_before_prev_word_upos': sentence[i-3]['upos'],\n",
    "            '2_words_before_prev_word_xpos': sentence[i-3]['xpos']\n",
    "        })\n",
    "\n",
    "    if i < len(sentence)-1:\n",
    "        features.update({\n",
    "            'next_word': sentence[i+1]['text'],\n",
    "            'next_word_upos': sentence[i+1]['upos'],\n",
    "            'next_word_xpos': sentence[i+1]['xpos']\n",
    "        })\n",
    "    else:\n",
    "        features.update({\n",
    "            'EOS': True\n",
    "        })\n",
    "        \n",
    "    if i < len(sentence)-2:\n",
    "        features.update({\n",
    "            'word_after_next_word': sentence [i+2]['text'],\n",
    "            'word_after_next_word_upos': sentence[i+2]['upos'],\n",
    "            'word_after_next_word_xpos': sentence[i+2]['xpos']\n",
    "        })\n",
    "\n",
    "    return features"
   ]
  },
  {
   "cell_type": "code",
   "execution_count": 40,
   "id": "522099dd",
   "metadata": {},
   "outputs": [
    {
     "name": "stderr",
     "output_type": "stream",
     "text": [
      "2021-09-29 12:16:15 INFO: Loading these models for language: bg (Bulgarian):\n",
      "========================\n",
      "| Processor | Package  |\n",
      "------------------------\n",
      "| tokenize  | standard |\n",
      "========================\n",
      "\n",
      "2021-09-29 12:16:15 INFO: Use device: gpu\n",
      "2021-09-29 12:16:15 INFO: Loading: tokenize\n",
      "2021-09-29 12:16:15 INFO: Done loading processors!\n",
      "2021-09-29 12:16:32 INFO: Loading these models for language: bg (Bulgarian):\n",
      "========================\n",
      "| Processor | Package  |\n",
      "------------------------\n",
      "| tokenize  | standard |\n",
      "| pos       | standard |\n",
      "========================\n",
      "\n",
      "2021-09-29 12:16:32 INFO: Use device: gpu\n",
      "2021-09-29 12:16:32 INFO: Loading: tokenize\n",
      "2021-09-29 12:16:32 INFO: Loading: pos\n",
      "2021-09-29 12:16:33 INFO: Done loading processors!\n"
     ]
    },
    {
     "name": "stdout",
     "output_type": "stream",
     "text": [
      "CPU times: user 23min 6s, sys: 2.15 s, total: 23min 9s\n",
      "Wall time: 23min 8s\n"
     ]
    }
   ],
   "source": [
    "%%time\n",
    "X_train, y_train = data_prep('../../data/Train.txt')"
   ]
  },
  {
   "cell_type": "code",
   "execution_count": 41,
   "id": "51253038",
   "metadata": {},
   "outputs": [],
   "source": [
    "verify_prepped_data(X_train, y_train)"
   ]
  },
  {
   "cell_type": "code",
   "execution_count": 42,
   "id": "cfaaf967",
   "metadata": {},
   "outputs": [
    {
     "name": "stderr",
     "output_type": "stream",
     "text": [
      "2021-09-29 12:39:24 INFO: Loading these models for language: bg (Bulgarian):\n",
      "========================\n",
      "| Processor | Package  |\n",
      "------------------------\n",
      "| tokenize  | standard |\n",
      "========================\n",
      "\n",
      "2021-09-29 12:39:24 INFO: Use device: gpu\n",
      "2021-09-29 12:39:24 INFO: Loading: tokenize\n",
      "2021-09-29 12:39:24 INFO: Done loading processors!\n",
      "2021-09-29 12:39:36 INFO: Loading these models for language: bg (Bulgarian):\n",
      "========================\n",
      "| Processor | Package  |\n",
      "------------------------\n",
      "| tokenize  | standard |\n",
      "| pos       | standard |\n",
      "========================\n",
      "\n",
      "2021-09-29 12:39:36 INFO: Use device: gpu\n",
      "2021-09-29 12:39:36 INFO: Loading: tokenize\n",
      "2021-09-29 12:39:36 INFO: Loading: pos\n",
      "2021-09-29 12:39:38 INFO: Done loading processors!\n"
     ]
    },
    {
     "name": "stdout",
     "output_type": "stream",
     "text": [
      "CPU times: user 11min 58s, sys: 952 ms, total: 11min 59s\n",
      "Wall time: 11min 58s\n"
     ]
    }
   ],
   "source": [
    "%%time\n",
    "X_dev, y_dev = data_prep('../../data/Dev.txt')"
   ]
  },
  {
   "cell_type": "code",
   "execution_count": 43,
   "id": "886dfbb5",
   "metadata": {},
   "outputs": [],
   "source": [
    "verify_prepped_data(X_dev, y_dev)"
   ]
  },
  {
   "cell_type": "code",
   "execution_count": 44,
   "id": "333a170c",
   "metadata": {},
   "outputs": [
    {
     "name": "stdout",
     "output_type": "stream",
     "text": [
      "CPU times: user 32min 9s, sys: 3.06 s, total: 32min 12s\n",
      "Wall time: 32min 8s\n"
     ]
    }
   ],
   "source": [
    "%%time\n",
    "crf = sklearn_crfsuite.CRF(\n",
    "    algorithm='lbfgs',\n",
    "    c1=0.1,\n",
    "    c2=0.1,\n",
    "    max_iterations=100,\n",
    "    all_possible_transitions=True\n",
    ")\n",
    "crf.fit(X_train, y_train)"
   ]
  },
  {
   "cell_type": "code",
   "execution_count": null,
   "id": "f23167d0",
   "metadata": {
    "scrolled": true
   },
   "outputs": [],
   "source": [
    "labels = list(crf.classes_)\n",
    "y_pred = crf.predict(X_dev)\n",
    "print(metrics.flat_f1_score(y_dev, y_pred, average='weighted', labels=labels))\n",
    "print(metrics.flat_classification_report(y_dev, y_pred, labels=labels, digits=3))\n",
    "labels.remove('')\n",
    "print(metrics.flat_f1_score(y_dev, y_pred, average='weighted', labels=labels))\n",
    "print(metrics.flat_classification_report(y_dev, y_pred, labels=labels, digits=3))\n",
    "punctuated_sentences = punctuate(X_dev, y_pred)\n",
    "print(punctuated_sentences[:100])"
   ]
  },
  {
   "cell_type": "markdown",
   "id": "48dfe99c",
   "metadata": {},
   "source": [
    "### Add more context of words after"
   ]
  },
  {
   "cell_type": "code",
   "execution_count": 46,
   "id": "c54806c5",
   "metadata": {},
   "outputs": [],
   "source": [
    "# input - sentence (list of dictionaries) and an index of a word (dictionary)\n",
    "# output - list of dictionaries (features, for each word)\n",
    "def word2features(sentence, i):\n",
    "    sentence_contains_interrogative_word, interrogative_word_position = contains_interrogative_word(sentence)\n",
    "    sentence_contains_interrogative_particle, interrogative_particle_position = contains_interrogative_particle(sentence)\n",
    "\n",
    "    features = {\n",
    "        'word': sentence[i]['text'],\n",
    "        'sent_len': len(sentence),\n",
    "        'pos_in_sent': i,\n",
    "        'upos': sentence[i]['upos'],\n",
    "        'xpos': sentence[i]['xpos'],\n",
    "        'first_word_in_sent': sentence[0]['text'],\n",
    "        'contains_interrogative_word': sentence_contains_interrogative_word,\n",
    "        'interrogative_word_position': interrogative_word_position,\n",
    "        'contains_interrogative_particle': sentence_contains_interrogative_particle,\n",
    "        'interrogative_particle_position': interrogative_particle_position\n",
    "    }\n",
    "\n",
    "    if i > 0:\n",
    "        features.update({\n",
    "            'prev_word': sentence[i-1]['text'],\n",
    "            'prev_word_upos': sentence[i-1]['upos'],\n",
    "            'prev_word_xpos': sentence[i-1]['xpos']\n",
    "        })\n",
    "    else:\n",
    "        features.update({\n",
    "            'BOS': True\n",
    "        })\n",
    "\n",
    "    if i < len(sentence)-1:\n",
    "        features.update({\n",
    "            'next_word': sentence[i+1]['text'],\n",
    "            'next_word_upos': sentence[i+1]['upos'],\n",
    "            'next_word_xpos': sentence[i+1]['xpos']\n",
    "        })\n",
    "    else:\n",
    "        features.update({\n",
    "            'EOS': True\n",
    "        })\n",
    "        \n",
    "    if i < len(sentence)-2:\n",
    "        features.update({\n",
    "            'word_after_next_word': sentence [i+2]['text'],\n",
    "            'word_after_next_word_upos': sentence[i+2]['upos'],\n",
    "            'word_after_next_word_xpos': sentence[i+2]['xpos']\n",
    "        })\n",
    "\n",
    "    if i < len(sentence)-3:\n",
    "        features.update({\n",
    "            '2_words_after_next_word': sentence [i+3]['text'],\n",
    "            '2_words_after_next_word_upos': sentence[i+3]['upos'],\n",
    "            '2_words_after_next_word_xpos': sentence[i+3]['xpos']\n",
    "        })\n",
    "\n",
    "    return features"
   ]
  },
  {
   "cell_type": "code",
   "execution_count": 47,
   "id": "8394f452",
   "metadata": {},
   "outputs": [
    {
     "name": "stderr",
     "output_type": "stream",
     "text": [
      "2021-09-29 13:23:51 INFO: Loading these models for language: bg (Bulgarian):\n",
      "========================\n",
      "| Processor | Package  |\n",
      "------------------------\n",
      "| tokenize  | standard |\n",
      "========================\n",
      "\n",
      "2021-09-29 13:23:51 INFO: Use device: gpu\n",
      "2021-09-29 13:23:51 INFO: Loading: tokenize\n",
      "2021-09-29 13:23:51 INFO: Done loading processors!\n",
      "2021-09-29 13:24:17 INFO: Loading these models for language: bg (Bulgarian):\n",
      "========================\n",
      "| Processor | Package  |\n",
      "------------------------\n",
      "| tokenize  | standard |\n",
      "| pos       | standard |\n",
      "========================\n",
      "\n",
      "2021-09-29 13:24:17 INFO: Use device: gpu\n",
      "2021-09-29 13:24:17 INFO: Loading: tokenize\n",
      "2021-09-29 13:24:17 INFO: Loading: pos\n",
      "2021-09-29 13:24:18 INFO: Done loading processors!\n"
     ]
    },
    {
     "name": "stdout",
     "output_type": "stream",
     "text": [
      "CPU times: user 24min 15s, sys: 2.66 s, total: 24min 17s\n",
      "Wall time: 24min 16s\n"
     ]
    }
   ],
   "source": [
    "%%time\n",
    "X_train, y_train = data_prep('../../data/Train.txt')"
   ]
  },
  {
   "cell_type": "code",
   "execution_count": 48,
   "id": "9549df18",
   "metadata": {},
   "outputs": [],
   "source": [
    "verify_prepped_data(X_train, y_train)"
   ]
  },
  {
   "cell_type": "code",
   "execution_count": 49,
   "id": "d634f30d",
   "metadata": {},
   "outputs": [
    {
     "name": "stderr",
     "output_type": "stream",
     "text": [
      "2021-09-29 13:48:07 INFO: Loading these models for language: bg (Bulgarian):\n",
      "========================\n",
      "| Processor | Package  |\n",
      "------------------------\n",
      "| tokenize  | standard |\n",
      "========================\n",
      "\n",
      "2021-09-29 13:48:07 INFO: Use device: gpu\n",
      "2021-09-29 13:48:07 INFO: Loading: tokenize\n",
      "2021-09-29 13:48:07 INFO: Done loading processors!\n",
      "2021-09-29 13:48:20 INFO: Loading these models for language: bg (Bulgarian):\n",
      "========================\n",
      "| Processor | Package  |\n",
      "------------------------\n",
      "| tokenize  | standard |\n",
      "| pos       | standard |\n",
      "========================\n",
      "\n",
      "2021-09-29 13:48:20 INFO: Use device: gpu\n",
      "2021-09-29 13:48:20 INFO: Loading: tokenize\n",
      "2021-09-29 13:48:20 INFO: Loading: pos\n",
      "2021-09-29 13:48:22 INFO: Done loading processors!\n"
     ]
    },
    {
     "name": "stdout",
     "output_type": "stream",
     "text": [
      "CPU times: user 12min, sys: 896 ms, total: 12min 1s\n",
      "Wall time: 12min\n"
     ]
    }
   ],
   "source": [
    "%%time\n",
    "X_dev, y_dev = data_prep('../../data/Dev.txt')"
   ]
  },
  {
   "cell_type": "code",
   "execution_count": 50,
   "id": "dbd6b0ef",
   "metadata": {},
   "outputs": [],
   "source": [
    "verify_prepped_data(X_dev, y_dev)"
   ]
  },
  {
   "cell_type": "code",
   "execution_count": 51,
   "id": "82c9c6d2",
   "metadata": {},
   "outputs": [
    {
     "name": "stdout",
     "output_type": "stream",
     "text": [
      "CPU times: user 29min 5s, sys: 1.5 s, total: 29min 7s\n",
      "Wall time: 29min 3s\n"
     ]
    }
   ],
   "source": [
    "%%time\n",
    "crf = sklearn_crfsuite.CRF(\n",
    "    algorithm='lbfgs',\n",
    "    c1=0.1,\n",
    "    c2=0.1,\n",
    "    max_iterations=100,\n",
    "    all_possible_transitions=True\n",
    ")\n",
    "crf.fit(X_train, y_train)"
   ]
  },
  {
   "cell_type": "code",
   "execution_count": null,
   "id": "e8a3f8c7",
   "metadata": {},
   "outputs": [],
   "source": [
    "labels = list(crf.classes_)\n",
    "y_pred = crf.predict(X_dev)\n",
    "print(metrics.flat_f1_score(y_dev, y_pred, average='weighted', labels=labels))\n",
    "print(metrics.flat_classification_report(y_dev, y_pred, labels=labels, digits=3))\n",
    "labels.remove('')\n",
    "print(metrics.flat_f1_score(y_dev, y_pred, average='weighted', labels=labels))\n",
    "print(metrics.flat_classification_report(y_dev, y_pred, labels=labels, digits=3))\n",
    "punctuated_sentences = punctuate(X_dev, y_pred)\n",
    "print(punctuated_sentences[:100])"
   ]
  },
  {
   "cell_type": "markdown",
   "id": "e5dcaf86",
   "metadata": {},
   "source": [
    "### Check if word starts with capital letter"
   ]
  },
  {
   "cell_type": "code",
   "execution_count": 53,
   "id": "5d479020",
   "metadata": {},
   "outputs": [],
   "source": [
    "# input - sentence (list of dictionaries) and an index of a word (dictionary)\n",
    "# output - list of dictionaries (features, for each word)\n",
    "def word2features(sentence, i):\n",
    "    sentence_contains_interrogative_word, interrogative_word_position = contains_interrogative_word(sentence)\n",
    "    sentence_contains_interrogative_particle, interrogative_particle_position = contains_interrogative_particle(sentence)\n",
    "\n",
    "    features = {\n",
    "        'word': sentence[i]['text'],\n",
    "        'sent_len': len(sentence),\n",
    "        'pos_in_sent': i,\n",
    "        'upos': sentence[i]['upos'],\n",
    "        'xpos': sentence[i]['xpos'],\n",
    "        'first_word_in_sent': sentence[0]['text'],\n",
    "        'contains_interrogative_word': sentence_contains_interrogative_word,\n",
    "        'interrogative_word_position': interrogative_word_position,\n",
    "        'contains_interrogative_particle': sentence_contains_interrogative_particle,\n",
    "        'interrogative_particle_position': interrogative_particle_position,\n",
    "        'starts_with_capital_letter': sentence[i]['text'][0].isupper()\n",
    "    }\n",
    "\n",
    "    if i > 0:\n",
    "        features.update({\n",
    "            'prev_word': sentence[i-1]['text'],\n",
    "            'prev_word_upos': sentence[i-1]['upos'],\n",
    "            'prev_word_xpos': sentence[i-1]['xpos'],\n",
    "            'prev_word_starts_with_capital_letter': sentence[i-1]['text'][0].isupper()\n",
    "        })\n",
    "    else:\n",
    "        features.update({\n",
    "            'BOS': True\n",
    "        })\n",
    "\n",
    "    if i < len(sentence)-1:\n",
    "        features.update({\n",
    "            'next_word': sentence[i+1]['text'],\n",
    "            'next_word_upos': sentence[i+1]['upos'],\n",
    "            'next_word_xpos': sentence[i+1]['xpos'],\n",
    "            'next_word_starts_with_capital_letter': sentence[i+1]['text'][0].isupper()\n",
    "        })\n",
    "    else:\n",
    "        features.update({\n",
    "            'EOS': True\n",
    "        })\n",
    "        \n",
    "    if i < len(sentence)-2:\n",
    "        features.update({\n",
    "            'word_after_next_word': sentence [i+2]['text'],\n",
    "            'word_after_next_word_upos': sentence[i+2]['upos'],\n",
    "            'word_after_next_word_xpos': sentence[i+2]['xpos'],\n",
    "            'word_after_next_word_starts_with_capital_letter': sentence[i+2]['text'][0].isupper()\n",
    "        })\n",
    "\n",
    "    return features"
   ]
  },
  {
   "cell_type": "code",
   "execution_count": 54,
   "id": "73dbea56",
   "metadata": {},
   "outputs": [
    {
     "name": "stderr",
     "output_type": "stream",
     "text": [
      "2021-09-29 14:54:36 INFO: Loading these models for language: bg (Bulgarian):\n",
      "========================\n",
      "| Processor | Package  |\n",
      "------------------------\n",
      "| tokenize  | standard |\n",
      "========================\n",
      "\n",
      "2021-09-29 14:54:36 INFO: Use device: gpu\n",
      "2021-09-29 14:54:36 INFO: Loading: tokenize\n",
      "2021-09-29 14:54:36 INFO: Done loading processors!\n",
      "2021-09-29 14:54:52 INFO: Loading these models for language: bg (Bulgarian):\n",
      "========================\n",
      "| Processor | Package  |\n",
      "------------------------\n",
      "| tokenize  | standard |\n",
      "| pos       | standard |\n",
      "========================\n",
      "\n",
      "2021-09-29 14:54:52 INFO: Use device: gpu\n",
      "2021-09-29 14:54:52 INFO: Loading: tokenize\n",
      "2021-09-29 14:54:52 INFO: Loading: pos\n",
      "2021-09-29 14:54:53 INFO: Done loading processors!\n"
     ]
    },
    {
     "name": "stdout",
     "output_type": "stream",
     "text": [
      "CPU times: user 23min 40s, sys: 2.24 s, total: 23min 42s\n",
      "Wall time: 23min 41s\n"
     ]
    }
   ],
   "source": [
    "%%time\n",
    "X_train, y_train = data_prep('../../data/Train.txt')"
   ]
  },
  {
   "cell_type": "code",
   "execution_count": 55,
   "id": "131f517b",
   "metadata": {},
   "outputs": [],
   "source": [
    "verify_prepped_data(X_train, y_train)"
   ]
  },
  {
   "cell_type": "code",
   "execution_count": 56,
   "id": "73064e9e",
   "metadata": {},
   "outputs": [
    {
     "name": "stderr",
     "output_type": "stream",
     "text": [
      "2021-09-29 15:18:18 INFO: Loading these models for language: bg (Bulgarian):\n",
      "========================\n",
      "| Processor | Package  |\n",
      "------------------------\n",
      "| tokenize  | standard |\n",
      "========================\n",
      "\n",
      "2021-09-29 15:18:18 INFO: Use device: gpu\n",
      "2021-09-29 15:18:18 INFO: Loading: tokenize\n",
      "2021-09-29 15:18:18 INFO: Done loading processors!\n",
      "2021-09-29 15:18:30 INFO: Loading these models for language: bg (Bulgarian):\n",
      "========================\n",
      "| Processor | Package  |\n",
      "------------------------\n",
      "| tokenize  | standard |\n",
      "| pos       | standard |\n",
      "========================\n",
      "\n",
      "2021-09-29 15:18:30 INFO: Use device: gpu\n",
      "2021-09-29 15:18:30 INFO: Loading: tokenize\n",
      "2021-09-29 15:18:30 INFO: Loading: pos\n",
      "2021-09-29 15:18:32 INFO: Done loading processors!\n"
     ]
    },
    {
     "name": "stdout",
     "output_type": "stream",
     "text": [
      "CPU times: user 11min 55s, sys: 996 ms, total: 11min 56s\n",
      "Wall time: 11min 55s\n"
     ]
    }
   ],
   "source": [
    "%%time\n",
    "X_dev, y_dev = data_prep('../../data/Dev.txt')"
   ]
  },
  {
   "cell_type": "code",
   "execution_count": 57,
   "id": "99ab2f1e",
   "metadata": {},
   "outputs": [],
   "source": [
    "verify_prepped_data(X_dev, y_dev)"
   ]
  },
  {
   "cell_type": "code",
   "execution_count": 58,
   "id": "74bce854",
   "metadata": {},
   "outputs": [
    {
     "name": "stdout",
     "output_type": "stream",
     "text": [
      "CPU times: user 30min 15s, sys: 1.28 s, total: 30min 16s\n",
      "Wall time: 30min 13s\n"
     ]
    }
   ],
   "source": [
    "%%time\n",
    "crf = sklearn_crfsuite.CRF(\n",
    "    algorithm='lbfgs',\n",
    "    c1=0.1,\n",
    "    c2=0.1,\n",
    "    max_iterations=100,\n",
    "    all_possible_transitions=True\n",
    ")\n",
    "crf.fit(X_train, y_train)"
   ]
  },
  {
   "cell_type": "code",
   "execution_count": null,
   "id": "75b407c2",
   "metadata": {},
   "outputs": [],
   "source": [
    "labels = list(crf.classes_)\n",
    "y_pred = crf.predict(X_dev)\n",
    "print(metrics.flat_f1_score(y_dev, y_pred, average='weighted', labels=labels))\n",
    "print(metrics.flat_classification_report(y_dev, y_pred, labels=labels, digits=3))\n",
    "labels.remove('')\n",
    "print(metrics.flat_f1_score(y_dev, y_pred, average='weighted', labels=labels))\n",
    "print(metrics.flat_classification_report(y_dev, y_pred, labels=labels, digits=3))\n",
    "punctuated_sentences = punctuate(X_dev, y_pred)\n",
    "print(punctuated_sentences[:100])"
   ]
  },
  {
   "cell_type": "markdown",
   "id": "eaa4ddc2",
   "metadata": {},
   "source": [
    "### Contains relative pronoun before"
   ]
  },
  {
   "cell_type": "code",
   "execution_count": 77,
   "id": "e3694f62",
   "metadata": {},
   "outputs": [],
   "source": [
    "# input - sentence (list of dictionaries) and an index of a word (dictionary)\n",
    "# output - list of dictionaries (features, for each word)\n",
    "def word2features(sentence, i):\n",
    "    sentence_contains_interrogative_word, interrogative_word_position = contains_interrogative_word(sentence)\n",
    "    sentence_contains_interrogative_particle, interrogative_particle_position = contains_interrogative_particle(sentence)\n",
    "    sentence_contains_relative_pronoun_before, relative_pronoun_position = contains_relative_pronoun_before(sentence, i)\n",
    "    \n",
    "    features = {\n",
    "        'word': sentence[i]['text'],\n",
    "        'sent_len': len(sentence),\n",
    "        'pos_in_sent': i,\n",
    "        'upos': sentence[i]['upos'],\n",
    "        'xpos': sentence[i]['xpos'],\n",
    "        'first_word_in_sent': sentence[0]['text'],\n",
    "        'contains_interrogative_word': sentence_contains_interrogative_word,\n",
    "        'interrogative_word_position': interrogative_word_position,\n",
    "        'contains_interrogative_particle': sentence_contains_interrogative_particle,\n",
    "        'interrogative_particle_position': interrogative_particle_position,\n",
    "        'contains_relative_pronoun_before': sentence_contains_relative_pronoun_before,\n",
    "        'relative_pronoun_position': relative_pronoun_position\n",
    "    }\n",
    "\n",
    "    if i > 0:\n",
    "        features.update({\n",
    "            'prev_word': sentence[i-1]['text'],\n",
    "            'prev_word_upos': sentence[i-1]['upos'],\n",
    "            'prev_word_xpos': sentence[i-1]['xpos']\n",
    "        })\n",
    "    else:\n",
    "        features.update({\n",
    "            'BOS': True\n",
    "        })\n",
    "\n",
    "    if i < len(sentence)-1:\n",
    "        features.update({\n",
    "            'next_word': sentence[i+1]['text'],\n",
    "            'next_word_upos': sentence[i+1]['upos'],\n",
    "            'next_word_xpos': sentence[i+1]['xpos']\n",
    "        })\n",
    "    else:\n",
    "        features.update({\n",
    "            'EOS': True\n",
    "        })\n",
    "        \n",
    "    if i < len(sentence)-2:\n",
    "        features.update({\n",
    "            'word_after_next_word': sentence [i+2]['text'],\n",
    "            'word_after_next_word_upos': sentence[i+2]['upos'],\n",
    "            'word_after_next_word_xpos': sentence[i+2]['xpos']\n",
    "        })\n",
    "\n",
    "    return features"
   ]
  },
  {
   "cell_type": "code",
   "execution_count": 78,
   "id": "eccce1fe",
   "metadata": {},
   "outputs": [
    {
     "name": "stderr",
     "output_type": "stream",
     "text": [
      "2021-09-29 20:23:44 INFO: Loading these models for language: bg (Bulgarian):\n",
      "========================\n",
      "| Processor | Package  |\n",
      "------------------------\n",
      "| tokenize  | standard |\n",
      "========================\n",
      "\n",
      "2021-09-29 20:23:44 INFO: Use device: gpu\n",
      "2021-09-29 20:23:44 INFO: Loading: tokenize\n",
      "2021-09-29 20:23:44 INFO: Done loading processors!\n",
      "2021-09-29 20:24:01 INFO: Loading these models for language: bg (Bulgarian):\n",
      "========================\n",
      "| Processor | Package  |\n",
      "------------------------\n",
      "| tokenize  | standard |\n",
      "| pos       | standard |\n",
      "========================\n",
      "\n",
      "2021-09-29 20:24:01 INFO: Use device: gpu\n",
      "2021-09-29 20:24:01 INFO: Loading: tokenize\n",
      "2021-09-29 20:24:01 INFO: Loading: pos\n",
      "2021-09-29 20:24:01 INFO: Done loading processors!\n"
     ]
    },
    {
     "name": "stdout",
     "output_type": "stream",
     "text": [
      "CPU times: user 24min 45s, sys: 3.38 s, total: 24min 48s\n",
      "Wall time: 24min 47s\n"
     ]
    }
   ],
   "source": [
    "%%time\n",
    "X_train, y_train = data_prep('../../data/Train.txt')"
   ]
  },
  {
   "cell_type": "code",
   "execution_count": 79,
   "id": "35e1dda1",
   "metadata": {},
   "outputs": [],
   "source": [
    "verify_prepped_data(X_train, y_train)"
   ]
  },
  {
   "cell_type": "code",
   "execution_count": 80,
   "id": "2dab5bea",
   "metadata": {},
   "outputs": [
    {
     "name": "stderr",
     "output_type": "stream",
     "text": [
      "2021-09-29 20:48:32 INFO: Loading these models for language: bg (Bulgarian):\n",
      "========================\n",
      "| Processor | Package  |\n",
      "------------------------\n",
      "| tokenize  | standard |\n",
      "========================\n",
      "\n",
      "2021-09-29 20:48:32 INFO: Use device: gpu\n",
      "2021-09-29 20:48:32 INFO: Loading: tokenize\n",
      "2021-09-29 20:48:32 INFO: Done loading processors!\n",
      "2021-09-29 20:48:45 INFO: Loading these models for language: bg (Bulgarian):\n",
      "========================\n",
      "| Processor | Package  |\n",
      "------------------------\n",
      "| tokenize  | standard |\n",
      "| pos       | standard |\n",
      "========================\n",
      "\n",
      "2021-09-29 20:48:45 INFO: Use device: gpu\n",
      "2021-09-29 20:48:45 INFO: Loading: tokenize\n",
      "2021-09-29 20:48:45 INFO: Loading: pos\n",
      "2021-09-29 20:48:47 INFO: Done loading processors!\n"
     ]
    },
    {
     "name": "stdout",
     "output_type": "stream",
     "text": [
      "CPU times: user 11min 57s, sys: 1.15 s, total: 11min 58s\n",
      "Wall time: 11min 57s\n"
     ]
    }
   ],
   "source": [
    "%%time\n",
    "X_dev, y_dev = data_prep('../../data/Dev.txt')"
   ]
  },
  {
   "cell_type": "code",
   "execution_count": 81,
   "id": "4a6194f2",
   "metadata": {},
   "outputs": [],
   "source": [
    "verify_prepped_data(X_dev, y_dev)"
   ]
  },
  {
   "cell_type": "code",
   "execution_count": 82,
   "id": "b4217112",
   "metadata": {},
   "outputs": [
    {
     "name": "stdout",
     "output_type": "stream",
     "text": [
      "CPU times: user 38min 32s, sys: 2.04 s, total: 38min 34s\n",
      "Wall time: 38min 28s\n"
     ]
    }
   ],
   "source": [
    "%%time\n",
    "crf = sklearn_crfsuite.CRF(\n",
    "    algorithm='lbfgs',\n",
    "    c1=0.1,\n",
    "    c2=0.1,\n",
    "    max_iterations=100,\n",
    "    all_possible_transitions=True\n",
    ")\n",
    "crf.fit(X_train, y_train)"
   ]
  },
  {
   "cell_type": "code",
   "execution_count": null,
   "id": "ca27a775",
   "metadata": {},
   "outputs": [],
   "source": [
    "labels = list(crf.classes_)\n",
    "y_pred = crf.predict(X_dev)\n",
    "print(metrics.flat_f1_score(y_dev, y_pred, average='weighted', labels=labels))\n",
    "print(metrics.flat_classification_report(y_dev, y_pred, labels=labels, digits=3))\n",
    "labels.remove('')\n",
    "print(metrics.flat_f1_score(y_dev, y_pred, average='weighted', labels=labels))\n",
    "print(metrics.flat_classification_report(y_dev, y_pred, labels=labels, digits=3))\n",
    "punctuated_sentences = punctuate(X_dev, y_pred)\n",
    "print(punctuated_sentences[:100])"
   ]
  },
  {
   "cell_type": "markdown",
   "id": "51f51bd5",
   "metadata": {},
   "source": [
    "### Contains conjunction before"
   ]
  },
  {
   "cell_type": "code",
   "execution_count": 84,
   "id": "7667165e",
   "metadata": {},
   "outputs": [],
   "source": [
    "# input - sentence (list of dictionaries) and an index of a word (dictionary)\n",
    "# output - list of dictionaries (features, for each word)\n",
    "def word2features(sentence, i):\n",
    "    sentence_contains_interrogative_word, interrogative_word_position = contains_interrogative_word(sentence)\n",
    "    sentence_contains_interrogative_particle, interrogative_particle_position = contains_interrogative_particle(sentence)\n",
    "    sentence_contains_conj_before, conj_position = contains_conj_before(sentence, i)\n",
    "\n",
    "    features = {\n",
    "        'word': sentence[i]['text'],\n",
    "        'sent_len': len(sentence),\n",
    "        'pos_in_sent': i,\n",
    "        'upos': sentence[i]['upos'],\n",
    "        'xpos': sentence[i]['xpos'],\n",
    "        'first_word_in_sent': sentence[0]['text'],\n",
    "        'contains_interrogative_word': sentence_contains_interrogative_word,\n",
    "        'interrogative_word_position': interrogative_word_position,\n",
    "        'contains_interrogative_particle': sentence_contains_interrogative_particle,\n",
    "        'interrogative_particle_position': interrogative_particle_position,\n",
    "        'contains_conj_before': sentence_contains_conj_before,\n",
    "        'conj_position': conj_position\n",
    "    }\n",
    "\n",
    "    if i > 0:\n",
    "        features.update({\n",
    "            'prev_word': sentence[i-1]['text'],\n",
    "            'prev_word_upos': sentence[i-1]['upos'],\n",
    "            'prev_word_xpos': sentence[i-1]['xpos']\n",
    "        })\n",
    "    else:\n",
    "        features.update({\n",
    "            'BOS': True\n",
    "        })\n",
    "\n",
    "    if i < len(sentence)-1:\n",
    "        features.update({\n",
    "            'next_word': sentence[i+1]['text'],\n",
    "            'next_word_upos': sentence[i+1]['upos'],\n",
    "            'next_word_xpos': sentence[i+1]['xpos']\n",
    "        })\n",
    "    else:\n",
    "        features.update({\n",
    "            'EOS': True\n",
    "        })\n",
    "        \n",
    "    if i < len(sentence)-2:\n",
    "        features.update({\n",
    "            'word_after_next_word': sentence [i+2]['text'],\n",
    "            'word_after_next_word_upos': sentence[i+2]['upos'],\n",
    "            'word_after_next_word_xpos': sentence[i+2]['xpos']\n",
    "        })\n",
    "\n",
    "    return features"
   ]
  },
  {
   "cell_type": "code",
   "execution_count": 85,
   "id": "ecf8856b",
   "metadata": {},
   "outputs": [
    {
     "name": "stderr",
     "output_type": "stream",
     "text": [
      "2021-09-29 21:39:18 INFO: Loading these models for language: bg (Bulgarian):\n",
      "========================\n",
      "| Processor | Package  |\n",
      "------------------------\n",
      "| tokenize  | standard |\n",
      "========================\n",
      "\n",
      "2021-09-29 21:39:18 INFO: Use device: gpu\n",
      "2021-09-29 21:39:18 INFO: Loading: tokenize\n",
      "2021-09-29 21:39:18 INFO: Done loading processors!\n",
      "2021-09-29 21:39:44 INFO: Loading these models for language: bg (Bulgarian):\n",
      "========================\n",
      "| Processor | Package  |\n",
      "------------------------\n",
      "| tokenize  | standard |\n",
      "| pos       | standard |\n",
      "========================\n",
      "\n",
      "2021-09-29 21:39:44 INFO: Use device: gpu\n",
      "2021-09-29 21:39:44 INFO: Loading: tokenize\n",
      "2021-09-29 21:39:44 INFO: Loading: pos\n",
      "2021-09-29 21:39:46 INFO: Done loading processors!\n"
     ]
    },
    {
     "name": "stdout",
     "output_type": "stream",
     "text": [
      "CPU times: user 24min 54s, sys: 2.29 s, total: 24min 56s\n",
      "Wall time: 24min 56s\n"
     ]
    }
   ],
   "source": [
    "%%time\n",
    "X_train, y_train = data_prep('../../data/Train.txt')"
   ]
  },
  {
   "cell_type": "code",
   "execution_count": 86,
   "id": "af22f3b8",
   "metadata": {},
   "outputs": [],
   "source": [
    "verify_prepped_data(X_train, y_train)"
   ]
  },
  {
   "cell_type": "code",
   "execution_count": 87,
   "id": "40a2087c",
   "metadata": {},
   "outputs": [
    {
     "name": "stderr",
     "output_type": "stream",
     "text": [
      "2021-09-29 22:04:14 INFO: Loading these models for language: bg (Bulgarian):\n",
      "========================\n",
      "| Processor | Package  |\n",
      "------------------------\n",
      "| tokenize  | standard |\n",
      "========================\n",
      "\n",
      "2021-09-29 22:04:14 INFO: Use device: gpu\n",
      "2021-09-29 22:04:14 INFO: Loading: tokenize\n",
      "2021-09-29 22:04:14 INFO: Done loading processors!\n",
      "2021-09-29 22:04:26 INFO: Loading these models for language: bg (Bulgarian):\n",
      "========================\n",
      "| Processor | Package  |\n",
      "------------------------\n",
      "| tokenize  | standard |\n",
      "| pos       | standard |\n",
      "========================\n",
      "\n",
      "2021-09-29 22:04:26 INFO: Use device: gpu\n",
      "2021-09-29 22:04:26 INFO: Loading: tokenize\n",
      "2021-09-29 22:04:26 INFO: Loading: pos\n",
      "2021-09-29 22:04:28 INFO: Done loading processors!\n"
     ]
    },
    {
     "name": "stdout",
     "output_type": "stream",
     "text": [
      "CPU times: user 12min 34s, sys: 1.11 s, total: 12min 35s\n",
      "Wall time: 12min 34s\n"
     ]
    }
   ],
   "source": [
    "%%time\n",
    "X_dev, y_dev = data_prep('../../data/Dev.txt')"
   ]
  },
  {
   "cell_type": "code",
   "execution_count": 88,
   "id": "a528253c",
   "metadata": {},
   "outputs": [],
   "source": [
    "verify_prepped_data(X_dev, y_dev)"
   ]
  },
  {
   "cell_type": "code",
   "execution_count": 89,
   "id": "f21bd4c1",
   "metadata": {},
   "outputs": [
    {
     "name": "stdout",
     "output_type": "stream",
     "text": [
      "CPU times: user 41min 52s, sys: 3.25 s, total: 41min 55s\n",
      "Wall time: 41min 49s\n"
     ]
    }
   ],
   "source": [
    "%%time\n",
    "crf = sklearn_crfsuite.CRF(\n",
    "    algorithm='lbfgs',\n",
    "    c1=0.1,\n",
    "    c2=0.1,\n",
    "    max_iterations=100,\n",
    "    all_possible_transitions=True\n",
    ")\n",
    "crf.fit(X_train, y_train)"
   ]
  },
  {
   "cell_type": "code",
   "execution_count": null,
   "id": "165c9167",
   "metadata": {},
   "outputs": [],
   "source": [
    "labels = list(crf.classes_)\n",
    "y_pred = crf.predict(X_dev)\n",
    "print(metrics.flat_f1_score(y_dev, y_pred, average='weighted', labels=labels))\n",
    "print(metrics.flat_classification_report(y_dev, y_pred, labels=labels, digits=3))\n",
    "labels.remove('')\n",
    "print(metrics.flat_f1_score(y_dev, y_pred, average='weighted', labels=labels))\n",
    "print(metrics.flat_classification_report(y_dev, y_pred, labels=labels, digits=3))\n",
    "punctuated_sentences = punctuate(X_dev, y_pred)\n",
    "print(punctuated_sentences[:100])"
   ]
  },
  {
   "cell_type": "markdown",
   "id": "235f1290",
   "metadata": {},
   "source": [
    "### Model combining the best features"
   ]
  },
  {
   "cell_type": "code",
   "execution_count": 91,
   "id": "a8075d4d",
   "metadata": {},
   "outputs": [],
   "source": [
    "# input - sentence (list of dictionaries) and an index of a word (dictionary)\n",
    "# output - list of dictionaries (features, for each word)\n",
    "def word2features(sentence, i):\n",
    "    sentence_contains_interrogative_word, interrogative_word_position = contains_interrogative_word(sentence)\n",
    "    sentence_contains_interrogative_particle, interrogative_particle_position = contains_interrogative_particle(sentence)\n",
    "    sentence_contains_imperative_verb, imperative_verb_position = contains_imperative_verb(sentence)\n",
    "\n",
    "    features = {\n",
    "        'word': sentence[i]['text'],\n",
    "        'sent_len': len(sentence),\n",
    "        'pos_in_sent': i,\n",
    "        'upos': sentence[i]['upos'],\n",
    "        'xpos': sentence[i]['xpos'],\n",
    "        'first_word_in_sent': sentence[0]['text'],\n",
    "        'contains_interrogative_word': sentence_contains_interrogative_word,\n",
    "        'interrogative_word_position': interrogative_word_position,\n",
    "        'contains_interrogative_particle': sentence_contains_interrogative_particle,\n",
    "        'interrogative_particle_position': interrogative_particle_position,\n",
    "        'contains_imperative_verb': sentence_contains_imperative_verb,\n",
    "        'imperative_verb_position': imperative_verb_position,\n",
    "        'starts_with_capital_letter': sentence[i]['text'][0].isupper()\n",
    "    }\n",
    "\n",
    "    if i > 0:\n",
    "        features.update({\n",
    "            'prev_word': sentence[i-1]['text'],\n",
    "            'prev_word_upos': sentence[i-1]['upos'],\n",
    "            'prev_word_xpos': sentence[i-1]['xpos'],\n",
    "            'prev_word_starts_with_capital_letter': sentence[i-1]['text'][0].isupper()\n",
    "        })\n",
    "    else:\n",
    "        features.update({\n",
    "            'BOS': True\n",
    "        })\n",
    "\n",
    "    if i > 1:\n",
    "        features.update({\n",
    "            'word_before_prev_word': sentence[i-2]['text'],\n",
    "            'word_before_prev_word_upos': sentence[i-2]['upos'],\n",
    "            'word_before_prev_word_xpos': sentence[i-2]['xpos'],\n",
    "            'word_before_prev_word_starts_with_capital_letter': sentence[i-2]['text'][0].isupper()\n",
    "        })\n",
    "\n",
    "    if i < len(sentence)-1:\n",
    "        features.update({\n",
    "            'next_word': sentence[i+1]['text'],\n",
    "            'next_word_upos': sentence[i+1]['upos'],\n",
    "            'next_word_xpos': sentence[i+1]['xpos'],\n",
    "            'next_word_starts_with_capital_letter': sentence[i+1]['text'][0].isupper()\n",
    "        })\n",
    "    else:\n",
    "        features.update({\n",
    "            'EOS': True\n",
    "        })\n",
    "        \n",
    "    if i < len(sentence)-2:\n",
    "        features.update({\n",
    "            'word_after_next_word': sentence [i+2]['text'],\n",
    "            'word_after_next_word_upos': sentence[i+2]['upos'],\n",
    "            'word_after_next_word_xpos': sentence[i+2]['xpos'],\n",
    "            'word_after_next_word_starts_with_capital_letter': sentence[i+2]['text'][0].isupper()\n",
    "        })\n",
    "\n",
    "    return features"
   ]
  },
  {
   "cell_type": "code",
   "execution_count": 92,
   "id": "ea82b78e",
   "metadata": {},
   "outputs": [
    {
     "name": "stderr",
     "output_type": "stream",
     "text": [
      "2021-09-29 23:07:29 INFO: Loading these models for language: bg (Bulgarian):\n",
      "========================\n",
      "| Processor | Package  |\n",
      "------------------------\n",
      "| tokenize  | standard |\n",
      "========================\n",
      "\n",
      "2021-09-29 23:07:29 INFO: Use device: gpu\n",
      "2021-09-29 23:07:29 INFO: Loading: tokenize\n",
      "2021-09-29 23:07:29 INFO: Done loading processors!\n",
      "2021-09-29 23:07:52 INFO: Loading these models for language: bg (Bulgarian):\n",
      "========================\n",
      "| Processor | Package  |\n",
      "------------------------\n",
      "| tokenize  | standard |\n",
      "| pos       | standard |\n",
      "========================\n",
      "\n",
      "2021-09-29 23:07:52 INFO: Use device: gpu\n",
      "2021-09-29 23:07:52 INFO: Loading: tokenize\n",
      "2021-09-29 23:07:52 INFO: Loading: pos\n",
      "2021-09-29 23:07:54 INFO: Done loading processors!\n"
     ]
    },
    {
     "name": "stdout",
     "output_type": "stream",
     "text": [
      "CPU times: user 24min 40s, sys: 2.26 s, total: 24min 43s\n",
      "Wall time: 24min 42s\n"
     ]
    }
   ],
   "source": [
    "%%time\n",
    "X_train, y_train = data_prep('../../data/Train.txt')"
   ]
  },
  {
   "cell_type": "code",
   "execution_count": 93,
   "id": "464759aa",
   "metadata": {},
   "outputs": [],
   "source": [
    "verify_prepped_data(X_train, y_train)"
   ]
  },
  {
   "cell_type": "code",
   "execution_count": 94,
   "id": "2b1775cf",
   "metadata": {},
   "outputs": [
    {
     "name": "stderr",
     "output_type": "stream",
     "text": [
      "2021-09-29 23:32:11 INFO: Loading these models for language: bg (Bulgarian):\n",
      "========================\n",
      "| Processor | Package  |\n",
      "------------------------\n",
      "| tokenize  | standard |\n",
      "========================\n",
      "\n",
      "2021-09-29 23:32:11 INFO: Use device: gpu\n",
      "2021-09-29 23:32:11 INFO: Loading: tokenize\n",
      "2021-09-29 23:32:11 INFO: Done loading processors!\n",
      "2021-09-29 23:32:24 INFO: Loading these models for language: bg (Bulgarian):\n",
      "========================\n",
      "| Processor | Package  |\n",
      "------------------------\n",
      "| tokenize  | standard |\n",
      "| pos       | standard |\n",
      "========================\n",
      "\n",
      "2021-09-29 23:32:24 INFO: Use device: gpu\n",
      "2021-09-29 23:32:24 INFO: Loading: tokenize\n",
      "2021-09-29 23:32:24 INFO: Loading: pos\n",
      "2021-09-29 23:32:26 INFO: Done loading processors!\n"
     ]
    },
    {
     "name": "stdout",
     "output_type": "stream",
     "text": [
      "CPU times: user 12min 27s, sys: 1.1 s, total: 12min 28s\n",
      "Wall time: 12min 27s\n"
     ]
    }
   ],
   "source": [
    "%%time\n",
    "X_dev, y_dev = data_prep('../../data/Dev.txt')"
   ]
  },
  {
   "cell_type": "code",
   "execution_count": 95,
   "id": "d012d269",
   "metadata": {},
   "outputs": [
    {
     "name": "stdout",
     "output_type": "stream",
     "text": [
      "CPU times: user 45min 25s, sys: 2.87 s, total: 45min 28s\n",
      "Wall time: 45min 22s\n"
     ]
    }
   ],
   "source": [
    "%%time\n",
    "crf = sklearn_crfsuite.CRF(\n",
    "    algorithm='lbfgs',\n",
    "    c1=0.1,\n",
    "    c2=0.1,\n",
    "    max_iterations=100,\n",
    "    all_possible_transitions=True\n",
    ")\n",
    "crf.fit(X_train, y_train)"
   ]
  },
  {
   "cell_type": "code",
   "execution_count": null,
   "id": "5b48815a",
   "metadata": {},
   "outputs": [],
   "source": [
    "labels = list(crf.classes_)\n",
    "y_pred = crf.predict(X_dev)\n",
    "print(metrics.flat_f1_score(y_dev, y_pred, average='weighted', labels=labels))\n",
    "print(metrics.flat_classification_report(y_dev, y_pred, labels=labels, digits=3))\n",
    "labels.remove('')\n",
    "print(metrics.flat_f1_score(y_dev, y_pred, average='weighted', labels=labels))\n",
    "print(metrics.flat_classification_report(y_dev, y_pred, labels=labels, digits=3))\n",
    "punctuated_sentences = punctuate(X_dev, y_pred)\n",
    "print(punctuated_sentences[:100])"
   ]
  },
  {
   "cell_type": "code",
   "execution_count": 97,
   "id": "0b22e0c7",
   "metadata": {},
   "outputs": [],
   "source": [
    "save_as_json(X_dev, '../../data/X_dev.json')"
   ]
  },
  {
   "cell_type": "code",
   "execution_count": 99,
   "id": "31c85a53",
   "metadata": {},
   "outputs": [],
   "source": [
    "save_as_json(y_dev, '../../data/y_dev.json')"
   ]
  },
  {
   "cell_type": "markdown",
   "id": "7591bc05",
   "metadata": {},
   "source": [
    "### Expand train set"
   ]
  },
  {
   "cell_type": "code",
   "execution_count": 21,
   "id": "d1a75f08",
   "metadata": {},
   "outputs": [],
   "source": [
    "# input - sentence (list of dictionaries) and an index of a word (dictionary)\n",
    "# output - list of dictionaries (features, for each word)\n",
    "def word2features(sentence, i):\n",
    "    sentence_contains_interrogative_word, interrogative_word_position = contains_interrogative_word(sentence)\n",
    "    sentence_contains_interrogative_particle, interrogative_particle_position = contains_interrogative_particle(sentence)\n",
    "    sentence_contains_imperative_verb, imperative_verb_position = contains_imperative_verb(sentence)\n",
    "\n",
    "    features = {\n",
    "        'word': sentence[i]['text'],\n",
    "        'sent_len': len(sentence),\n",
    "        'pos_in_sent': i,\n",
    "        'upos': sentence[i]['upos'],\n",
    "        'xpos': sentence[i]['xpos'],\n",
    "        'first_word_in_sent': sentence[0]['text'],\n",
    "        'contains_interrogative_word': sentence_contains_interrogative_word,\n",
    "        'interrogative_word_position': interrogative_word_position,\n",
    "        'contains_interrogative_particle': sentence_contains_interrogative_particle,\n",
    "        'interrogative_particle_position': interrogative_particle_position,\n",
    "        'contains_imperative_verb': sentence_contains_imperative_verb,\n",
    "        'imperative_verb_position': imperative_verb_position,\n",
    "        'starts_with_capital_letter': sentence[i]['text'][0].isupper()\n",
    "    }\n",
    "\n",
    "    if i > 0:\n",
    "        features.update({\n",
    "            'prev_word': sentence[i-1]['text'],\n",
    "            'prev_word_upos': sentence[i-1]['upos'],\n",
    "            'prev_word_xpos': sentence[i-1]['xpos'],\n",
    "            'prev_word_starts_with_capital_letter': sentence[i-1]['text'][0].isupper()\n",
    "        })\n",
    "    else:\n",
    "        features.update({\n",
    "            'BOS': True\n",
    "        })\n",
    "\n",
    "    if i > 1:\n",
    "        features.update({\n",
    "            'word_before_prev_word': sentence[i-2]['text'],\n",
    "            'word_before_prev_word_upos': sentence[i-2]['upos'],\n",
    "            'word_before_prev_word_xpos': sentence[i-2]['xpos'],\n",
    "            'word_before_prev_word_starts_with_capital_letter': sentence[i-2]['text'][0].isupper()\n",
    "        })\n",
    "\n",
    "    if i < len(sentence)-1:\n",
    "        features.update({\n",
    "            'next_word': sentence[i+1]['text'],\n",
    "            'next_word_upos': sentence[i+1]['upos'],\n",
    "            'next_word_xpos': sentence[i+1]['xpos'],\n",
    "            'next_word_starts_with_capital_letter': sentence[i+1]['text'][0].isupper()\n",
    "        })\n",
    "    else:\n",
    "        features.update({\n",
    "            'EOS': True\n",
    "        })\n",
    "        \n",
    "    if i < len(sentence)-2:\n",
    "        features.update({\n",
    "            'word_after_next_word': sentence [i+2]['text'],\n",
    "            'word_after_next_word_upos': sentence[i+2]['upos'],\n",
    "            'word_after_next_word_xpos': sentence[i+2]['xpos'],\n",
    "            'word_after_next_word_starts_with_capital_letter': sentence[i+2]['text'][0].isupper()\n",
    "        })\n",
    "\n",
    "    return features"
   ]
  },
  {
   "cell_type": "code",
   "execution_count": 22,
   "id": "4a3938d7",
   "metadata": {},
   "outputs": [],
   "source": [
    "X_dev = load_json('../../data/X_dev.json')"
   ]
  },
  {
   "cell_type": "code",
   "execution_count": 23,
   "id": "75f7772c",
   "metadata": {},
   "outputs": [],
   "source": [
    "y_dev = load_json('../../data/y_dev.json')"
   ]
  },
  {
   "cell_type": "code",
   "execution_count": 24,
   "id": "8d859349",
   "metadata": {},
   "outputs": [],
   "source": [
    "verify_prepped_data(X_dev, y_dev)"
   ]
  },
  {
   "cell_type": "markdown",
   "id": "0033abcf",
   "metadata": {},
   "source": [
    "### Expand train set to 30% of data"
   ]
  },
  {
   "cell_type": "code",
   "execution_count": 26,
   "id": "abc72f85",
   "metadata": {},
   "outputs": [
    {
     "name": "stderr",
     "output_type": "stream",
     "text": [
      "2021-09-30 01:15:42 INFO: Loading these models for language: bg (Bulgarian):\n",
      "========================\n",
      "| Processor | Package  |\n",
      "------------------------\n",
      "| tokenize  | standard |\n",
      "========================\n",
      "\n",
      "2021-09-30 01:15:42 INFO: Use device: gpu\n",
      "2021-09-30 01:15:42 INFO: Loading: tokenize\n",
      "2021-09-30 01:15:42 INFO: Done loading processors!\n",
      "2021-09-30 01:16:13 INFO: Loading these models for language: bg (Bulgarian):\n",
      "========================\n",
      "| Processor | Package  |\n",
      "------------------------\n",
      "| tokenize  | standard |\n",
      "| pos       | standard |\n",
      "========================\n",
      "\n",
      "2021-09-30 01:16:13 INFO: Use device: gpu\n",
      "2021-09-30 01:16:13 INFO: Loading: tokenize\n",
      "2021-09-30 01:16:13 INFO: Loading: pos\n",
      "2021-09-30 01:16:18 INFO: Done loading processors!\n"
     ]
    },
    {
     "name": "stdout",
     "output_type": "stream",
     "text": [
      "CPU times: user 33min 54s, sys: 4.56 s, total: 33min 58s\n",
      "Wall time: 33min 58s\n"
     ]
    }
   ],
   "source": [
    "%%time\n",
    "X_train, y_train = data_prep('../../data/Train_30.txt')"
   ]
  },
  {
   "cell_type": "code",
   "execution_count": 27,
   "id": "041a62bd",
   "metadata": {},
   "outputs": [],
   "source": [
    "verify_prepped_data(X_train, y_train)"
   ]
  },
  {
   "cell_type": "code",
   "execution_count": 28,
   "id": "0b050eb7",
   "metadata": {},
   "outputs": [
    {
     "name": "stdout",
     "output_type": "stream",
     "text": [
      "CPU times: user 58min 38s, sys: 2.54 s, total: 58min 41s\n",
      "Wall time: 58min 34s\n"
     ]
    }
   ],
   "source": [
    "%%time\n",
    "crf = sklearn_crfsuite.CRF(\n",
    "    algorithm='lbfgs',\n",
    "    c1=0.1,\n",
    "    c2=0.1,\n",
    "    max_iterations=100,\n",
    "    all_possible_transitions=True\n",
    ")\n",
    "crf.fit(X_train, y_train)"
   ]
  },
  {
   "cell_type": "code",
   "execution_count": null,
   "id": "a11a7463",
   "metadata": {},
   "outputs": [],
   "source": [
    "labels = list(crf.classes_)\n",
    "y_pred = crf.predict(X_dev)\n",
    "print(metrics.flat_f1_score(y_dev, y_pred, average='weighted', labels=labels))\n",
    "print(metrics.flat_classification_report(y_dev, y_pred, labels=labels, digits=3))\n",
    "labels.remove('')\n",
    "print(metrics.flat_f1_score(y_dev, y_pred, average='weighted', labels=labels))\n",
    "print(metrics.flat_classification_report(y_dev, y_pred, labels=labels, digits=3))\n",
    "punctuated_sentences = punctuate(X_dev, y_pred)\n",
    "print(punctuated_sentences[:100])"
   ]
  },
  {
   "cell_type": "markdown",
   "id": "f73a055b",
   "metadata": {},
   "source": [
    "### Expand train set to 50% of data"
   ]
  },
  {
   "cell_type": "code",
   "execution_count": 30,
   "id": "3520dddd",
   "metadata": {},
   "outputs": [
    {
     "name": "stderr",
     "output_type": "stream",
     "text": [
      "2021-09-30 02:48:30 INFO: Loading these models for language: bg (Bulgarian):\n",
      "========================\n",
      "| Processor | Package  |\n",
      "------------------------\n",
      "| tokenize  | standard |\n",
      "========================\n",
      "\n",
      "2021-09-30 02:48:30 INFO: Use device: gpu\n",
      "2021-09-30 02:48:30 INFO: Loading: tokenize\n",
      "2021-09-30 02:48:30 INFO: Done loading processors!\n",
      "2021-09-30 02:49:11 INFO: Loading these models for language: bg (Bulgarian):\n",
      "========================\n",
      "| Processor | Package  |\n",
      "------------------------\n",
      "| tokenize  | standard |\n",
      "| pos       | standard |\n",
      "========================\n",
      "\n",
      "2021-09-30 02:49:11 INFO: Use device: gpu\n",
      "2021-09-30 02:49:11 INFO: Loading: tokenize\n",
      "2021-09-30 02:49:11 INFO: Loading: pos\n",
      "2021-09-30 02:49:12 INFO: Done loading processors!\n"
     ]
    },
    {
     "name": "stdout",
     "output_type": "stream",
     "text": [
      "CPU times: user 57min 28s, sys: 6.39 s, total: 57min 34s\n",
      "Wall time: 57min 32s\n"
     ]
    }
   ],
   "source": [
    "%%time\n",
    "X_train, y_train = data_prep('../../data/Train_50.txt')"
   ]
  },
  {
   "cell_type": "code",
   "execution_count": 31,
   "id": "f0fe7da7",
   "metadata": {},
   "outputs": [],
   "source": [
    "verify_prepped_data(X_train, y_train)"
   ]
  },
  {
   "cell_type": "code",
   "execution_count": 32,
   "id": "23a5c01f",
   "metadata": {},
   "outputs": [
    {
     "name": "stdout",
     "output_type": "stream",
     "text": [
      "CPU times: user 1h 55min 54s, sys: 3.86 s, total: 1h 55min 58s\n",
      "Wall time: 1h 55min 45s\n"
     ]
    }
   ],
   "source": [
    "%%time\n",
    "crf = sklearn_crfsuite.CRF(\n",
    "    algorithm='lbfgs',\n",
    "    c1=0.1,\n",
    "    c2=0.1,\n",
    "    max_iterations=100,\n",
    "    all_possible_transitions=True\n",
    ")\n",
    "crf.fit(X_train, y_train)"
   ]
  },
  {
   "cell_type": "code",
   "execution_count": null,
   "id": "f3a4a659",
   "metadata": {},
   "outputs": [],
   "source": [
    "labels = list(crf.classes_)\n",
    "y_pred = crf.predict(X_dev)\n",
    "print(metrics.flat_f1_score(y_dev, y_pred, average='weighted', labels=labels))\n",
    "print(metrics.flat_classification_report(y_dev, y_pred, labels=labels, digits=3))\n",
    "labels.remove('')\n",
    "print(metrics.flat_f1_score(y_dev, y_pred, average='weighted', labels=labels))\n",
    "print(metrics.flat_classification_report(y_dev, y_pred, labels=labels, digits=3))\n",
    "punctuated_sentences = punctuate(X_dev, y_pred)\n",
    "print(punctuated_sentences[:100])"
   ]
  },
  {
   "cell_type": "markdown",
   "id": "3a255493",
   "metadata": {},
   "source": [
    "### Expand train set to 60% of data"
   ]
  },
  {
   "cell_type": "code",
   "execution_count": 34,
   "id": "3aa40488",
   "metadata": {},
   "outputs": [
    {
     "name": "stderr",
     "output_type": "stream",
     "text": [
      "2021-09-30 05:42:06 INFO: Loading these models for language: bg (Bulgarian):\n",
      "========================\n",
      "| Processor | Package  |\n",
      "------------------------\n",
      "| tokenize  | standard |\n",
      "========================\n",
      "\n",
      "2021-09-30 05:42:06 INFO: Use device: gpu\n",
      "2021-09-30 05:42:06 INFO: Loading: tokenize\n",
      "2021-09-30 05:42:06 INFO: Done loading processors!\n",
      "2021-09-30 05:42:55 INFO: Loading these models for language: bg (Bulgarian):\n",
      "========================\n",
      "| Processor | Package  |\n",
      "------------------------\n",
      "| tokenize  | standard |\n",
      "| pos       | standard |\n",
      "========================\n",
      "\n",
      "2021-09-30 05:42:55 INFO: Use device: gpu\n",
      "2021-09-30 05:42:55 INFO: Loading: tokenize\n",
      "2021-09-30 05:42:55 INFO: Loading: pos\n",
      "2021-09-30 05:42:57 INFO: Done loading processors!\n"
     ]
    },
    {
     "name": "stdout",
     "output_type": "stream",
     "text": [
      "CPU times: user 1h 9min 9s, sys: 6.31 s, total: 1h 9min 15s\n",
      "Wall time: 1h 9min 14s\n"
     ]
    }
   ],
   "source": [
    "%%time\n",
    "X_train, y_train = data_prep('../../data/Train_60.txt')"
   ]
  },
  {
   "cell_type": "code",
   "execution_count": 35,
   "id": "5e2365dc",
   "metadata": {},
   "outputs": [],
   "source": [
    "verify_prepped_data(X_train, y_train)"
   ]
  },
  {
   "cell_type": "code",
   "execution_count": 36,
   "id": "a332a6a2",
   "metadata": {},
   "outputs": [
    {
     "name": "stdout",
     "output_type": "stream",
     "text": [
      "CPU times: user 3h 2min 3s, sys: 6.58 s, total: 3h 2min 9s\n",
      "Wall time: 3h 1min 49s\n"
     ]
    }
   ],
   "source": [
    "%%time\n",
    "crf = sklearn_crfsuite.CRF(\n",
    "    algorithm='lbfgs',\n",
    "    c1=0.1,\n",
    "    c2=0.1,\n",
    "    max_iterations=100,\n",
    "    all_possible_transitions=True\n",
    ")\n",
    "crf.fit(X_train, y_train)"
   ]
  },
  {
   "cell_type": "code",
   "execution_count": null,
   "id": "baa03005",
   "metadata": {},
   "outputs": [],
   "source": [
    "labels = list(crf.classes_)\n",
    "y_pred = crf.predict(X_dev)\n",
    "print(metrics.flat_f1_score(y_dev, y_pred, average='weighted', labels=labels))\n",
    "print(metrics.flat_classification_report(y_dev, y_pred, labels=labels, digits=3))\n",
    "labels.remove('')\n",
    "print(metrics.flat_f1_score(y_dev, y_pred, average='weighted', labels=labels))\n",
    "print(metrics.flat_classification_report(y_dev, y_pred, labels=labels, digits=3))\n",
    "punctuated_sentences = punctuate(X_dev, y_pred)\n",
    "print(punctuated_sentences[:100])"
   ]
  },
  {
   "cell_type": "markdown",
   "id": "4e6d582d",
   "metadata": {},
   "source": [
    "### Expand train set to 70% of data"
   ]
  },
  {
   "cell_type": "code",
   "execution_count": 25,
   "id": "b2135e85",
   "metadata": {},
   "outputs": [
    {
     "name": "stderr",
     "output_type": "stream",
     "text": [
      "2021-09-30 12:02:25 INFO: Loading these models for language: bg (Bulgarian):\n",
      "========================\n",
      "| Processor | Package  |\n",
      "------------------------\n",
      "| tokenize  | standard |\n",
      "========================\n",
      "\n",
      "2021-09-30 12:02:25 INFO: Use device: gpu\n",
      "2021-09-30 12:02:25 INFO: Loading: tokenize\n",
      "2021-09-30 12:02:25 INFO: Done loading processors!\n",
      "2021-09-30 12:03:25 INFO: Loading these models for language: bg (Bulgarian):\n",
      "========================\n",
      "| Processor | Package  |\n",
      "------------------------\n",
      "| tokenize  | standard |\n",
      "| pos       | standard |\n",
      "========================\n",
      "\n",
      "2021-09-30 12:03:25 INFO: Use device: gpu\n",
      "2021-09-30 12:03:25 INFO: Loading: tokenize\n",
      "2021-09-30 12:03:25 INFO: Loading: pos\n",
      "2021-09-30 12:03:28 INFO: Done loading processors!\n"
     ]
    },
    {
     "name": "stdout",
     "output_type": "stream",
     "text": [
      "CPU times: user 1h 20min 57s, sys: 8.48 s, total: 1h 21min 6s\n",
      "Wall time: 1h 21min 4s\n"
     ]
    }
   ],
   "source": [
    "%%time\n",
    "X_train, y_train = data_prep('../../data/Train_70.txt')"
   ]
  },
  {
   "cell_type": "code",
   "execution_count": 26,
   "id": "1b28aafd",
   "metadata": {},
   "outputs": [],
   "source": [
    "verify_prepped_data(X_train, y_train)"
   ]
  },
  {
   "cell_type": "code",
   "execution_count": 27,
   "id": "88f3eb0b",
   "metadata": {},
   "outputs": [
    {
     "name": "stdout",
     "output_type": "stream",
     "text": [
      "CPU times: user 3h 20min 38s, sys: 7.05 s, total: 3h 20min 45s\n",
      "Wall time: 3h 20min 24s\n"
     ]
    }
   ],
   "source": [
    "%%time\n",
    "crf = sklearn_crfsuite.CRF(\n",
    "    algorithm='lbfgs',\n",
    "    c1=0.1,\n",
    "    c2=0.1,\n",
    "    max_iterations=100,\n",
    "    all_possible_transitions=True\n",
    ")\n",
    "crf.fit(X_train, y_train)"
   ]
  },
  {
   "cell_type": "code",
   "execution_count": null,
   "id": "f9adc3c7",
   "metadata": {},
   "outputs": [],
   "source": [
    "labels = list(crf.classes_)\n",
    "y_pred = crf.predict(X_dev)\n",
    "print(metrics.flat_f1_score(y_dev, y_pred, average='weighted', labels=labels))\n",
    "print(metrics.flat_classification_report(y_dev, y_pred, labels=labels, digits=3))\n",
    "labels.remove('')\n",
    "print(metrics.flat_f1_score(y_dev, y_pred, average='weighted', labels=labels))\n",
    "print(metrics.flat_classification_report(y_dev, y_pred, labels=labels, digits=3))\n",
    "punctuated_sentences = punctuate(X_dev, y_pred)\n",
    "print(punctuated_sentences[:100])"
   ]
  },
  {
   "cell_type": "markdown",
   "id": "09b54e08",
   "metadata": {},
   "source": [
    "### Check for repetitive word before"
   ]
  },
  {
   "cell_type": "code",
   "execution_count": 25,
   "id": "6c127172",
   "metadata": {},
   "outputs": [
    {
     "name": "stderr",
     "output_type": "stream",
     "text": [
      "2021-09-30 20:21:14 INFO: Loading these models for language: bg (Bulgarian):\n",
      "========================\n",
      "| Processor | Package  |\n",
      "------------------------\n",
      "| tokenize  | standard |\n",
      "========================\n",
      "\n",
      "2021-09-30 20:21:14 INFO: Use device: gpu\n",
      "2021-09-30 20:21:14 INFO: Loading: tokenize\n",
      "2021-09-30 20:21:14 INFO: Done loading processors!\n",
      "2021-09-30 20:21:39 INFO: Loading these models for language: bg (Bulgarian):\n",
      "========================\n",
      "| Processor | Package  |\n",
      "------------------------\n",
      "| tokenize  | standard |\n",
      "| pos       | standard |\n",
      "========================\n",
      "\n",
      "2021-09-30 20:21:39 INFO: Use device: gpu\n",
      "2021-09-30 20:21:39 INFO: Loading: tokenize\n",
      "2021-09-30 20:21:39 INFO: Loading: pos\n",
      "2021-09-30 20:21:41 INFO: Done loading processors!\n"
     ]
    },
    {
     "name": "stdout",
     "output_type": "stream",
     "text": [
      "CPU times: user 23min 56s, sys: 3.09 s, total: 23min 59s\n",
      "Wall time: 23min 58s\n"
     ]
    }
   ],
   "source": [
    "%%time\n",
    "X_train, y_train = data_prep('../../data/Train.txt')"
   ]
  },
  {
   "cell_type": "code",
   "execution_count": 27,
   "id": "19e6b83e",
   "metadata": {},
   "outputs": [],
   "source": [
    "verify_prepped_data(X_train, y_train)"
   ]
  },
  {
   "cell_type": "code",
   "execution_count": 28,
   "id": "828dde74",
   "metadata": {},
   "outputs": [
    {
     "name": "stderr",
     "output_type": "stream",
     "text": [
      "2021-09-30 20:49:20 INFO: Loading these models for language: bg (Bulgarian):\n",
      "========================\n",
      "| Processor | Package  |\n",
      "------------------------\n",
      "| tokenize  | standard |\n",
      "========================\n",
      "\n",
      "2021-09-30 20:49:20 INFO: Use device: gpu\n",
      "2021-09-30 20:49:20 INFO: Loading: tokenize\n",
      "2021-09-30 20:49:20 INFO: Done loading processors!\n",
      "2021-09-30 20:49:33 INFO: Loading these models for language: bg (Bulgarian):\n",
      "========================\n",
      "| Processor | Package  |\n",
      "------------------------\n",
      "| tokenize  | standard |\n",
      "| pos       | standard |\n",
      "========================\n",
      "\n",
      "2021-09-30 20:49:33 INFO: Use device: gpu\n",
      "2021-09-30 20:49:33 INFO: Loading: tokenize\n",
      "2021-09-30 20:49:33 INFO: Loading: pos\n",
      "2021-09-30 20:49:35 INFO: Done loading processors!\n"
     ]
    },
    {
     "name": "stdout",
     "output_type": "stream",
     "text": [
      "CPU times: user 11min 37s, sys: 1.31 s, total: 11min 38s\n",
      "Wall time: 11min 38s\n"
     ]
    }
   ],
   "source": [
    "%%time\n",
    "X_dev, y_dev = data_prep('../../data/Dev.txt')"
   ]
  },
  {
   "cell_type": "code",
   "execution_count": 29,
   "id": "295dd44f",
   "metadata": {},
   "outputs": [],
   "source": [
    "verify_prepped_data(X_dev, y_dev)"
   ]
  },
  {
   "cell_type": "code",
   "execution_count": 30,
   "id": "53392f00",
   "metadata": {},
   "outputs": [
    {
     "name": "stdout",
     "output_type": "stream",
     "text": [
      "CPU times: user 37min 46s, sys: 2.11 s, total: 37min 48s\n",
      "Wall time: 37min 44s\n"
     ]
    }
   ],
   "source": [
    "%%time\n",
    "crf = sklearn_crfsuite.CRF(\n",
    "    algorithm='lbfgs',\n",
    "    c1=0.1,\n",
    "    c2=0.1,\n",
    "    max_iterations=100,\n",
    "    all_possible_transitions=True\n",
    ")\n",
    "crf.fit(X_train, y_train)"
   ]
  },
  {
   "cell_type": "code",
   "execution_count": null,
   "id": "50cfd753",
   "metadata": {},
   "outputs": [],
   "source": [
    "labels = list(crf.classes_)\n",
    "y_pred = crf.predict(X_dev)\n",
    "print(metrics.flat_f1_score(y_dev, y_pred, average='weighted', labels=labels))\n",
    "print(metrics.flat_classification_report(y_dev, y_pred, labels=labels, digits=3))\n",
    "labels.remove('')\n",
    "print(metrics.flat_f1_score(y_dev, y_pred, average='weighted', labels=labels))\n",
    "print(metrics.flat_classification_report(y_dev, y_pred, labels=labels, digits=3))\n",
    "punctuated_sentences = punctuate(X_dev, y_pred)\n",
    "print(punctuated_sentences[:100])"
   ]
  },
  {
   "cell_type": "markdown",
   "id": "c87aa515",
   "metadata": {},
   "source": [
    "### Check for number of verbs before"
   ]
  },
  {
   "cell_type": "code",
   "execution_count": 74,
   "id": "6e23b760",
   "metadata": {},
   "outputs": [],
   "source": [
    "# input - sentence (list of dictionaries) and an index of a word (dictionary)\n",
    "# output - list of dictionaries (features, for each word)\n",
    "def word2features(sentence, i):\n",
    "    sentence_contains_interrogative_word, interrogative_word_position = contains_interrogative_word(sentence)\n",
    "    sentence_contains_interrogative_particle, interrogative_particle_position = contains_interrogative_particle(sentence)\n",
    "    sentence_contains_imperative_verb, imperative_verb_position = contains_imperative_verb(sentence)\n",
    "    sentence_contains_repetitive_word_before, repetitive_word_tag = contains_repetitive_word_before(sentence, i)\n",
    "\n",
    "    features = {\n",
    "        'word': sentence[i]['text'],\n",
    "        'sent_len': len(sentence),\n",
    "        'pos_in_sent': i,\n",
    "        'upos': sentence[i]['upos'],\n",
    "        'xpos': sentence[i]['xpos'],\n",
    "        'first_word_in_sent': sentence[0]['text'],\n",
    "        'contains_interrogative_word': sentence_contains_interrogative_word,\n",
    "        'interrogative_word_position': interrogative_word_position,\n",
    "        'contains_interrogative_particle': sentence_contains_interrogative_particle,\n",
    "        'interrogative_particle_position': interrogative_particle_position,\n",
    "        'contains_imperative_verb': sentence_contains_imperative_verb,\n",
    "        'imperative_verb_position': imperative_verb_position,\n",
    "        'starts_with_capital_letter': sentence[i]['text'][0].isupper(),\n",
    "        'contains_repetitive_word_before': sentence_contains_repetitive_word_before,\n",
    "        'repetitive_word_tag': repetitive_word_tag,\n",
    "        'count_of_verbs_before': count_of_verbs_before(sentence, i)\n",
    "    }\n",
    "\n",
    "    if i > 0:\n",
    "        features.update({\n",
    "            'prev_word': sentence[i-1]['text'],\n",
    "            'prev_word_upos': sentence[i-1]['upos'],\n",
    "            'prev_word_xpos': sentence[i-1]['xpos'],\n",
    "            'prev_word_starts_with_capital_letter': sentence[i-1]['text'][0].isupper()\n",
    "        })\n",
    "    else:\n",
    "        features.update({\n",
    "            'BOS': True\n",
    "        })\n",
    "\n",
    "    if i > 1:\n",
    "        features.update({\n",
    "            'word_before_prev_word': sentence[i-2]['text'],\n",
    "            'word_before_prev_word_upos': sentence[i-2]['upos'],\n",
    "            'word_before_prev_word_xpos': sentence[i-2]['xpos'],\n",
    "            'word_before_prev_word_starts_with_capital_letter': sentence[i-2]['text'][0].isupper()\n",
    "        })\n",
    "\n",
    "    if i < len(sentence)-1:\n",
    "        features.update({\n",
    "            'next_word': sentence[i+1]['text'],\n",
    "            'next_word_upos': sentence[i+1]['upos'],\n",
    "            'next_word_xpos': sentence[i+1]['xpos'],\n",
    "            'next_word_starts_with_capital_letter': sentence[i+1]['text'][0].isupper()\n",
    "        })\n",
    "    else:\n",
    "        features.update({\n",
    "            'EOS': True\n",
    "        })\n",
    "        \n",
    "    if i < len(sentence)-2:\n",
    "        features.update({\n",
    "            'word_after_next_word': sentence [i+2]['text'],\n",
    "            'word_after_next_word_upos': sentence[i+2]['upos'],\n",
    "            'word_after_next_word_xpos': sentence[i+2]['xpos'],\n",
    "            'word_after_next_word_starts_with_capital_letter': sentence[i+2]['text'][0].isupper()\n",
    "        })\n",
    "\n",
    "    return features"
   ]
  },
  {
   "cell_type": "code",
   "execution_count": 75,
   "id": "9acaccf8",
   "metadata": {},
   "outputs": [
    {
     "name": "stderr",
     "output_type": "stream",
     "text": [
      "2021-09-30 22:35:58 INFO: Loading these models for language: bg (Bulgarian):\n",
      "========================\n",
      "| Processor | Package  |\n",
      "------------------------\n",
      "| tokenize  | standard |\n",
      "========================\n",
      "\n",
      "2021-09-30 22:35:58 INFO: Use device: gpu\n",
      "2021-09-30 22:35:58 INFO: Loading: tokenize\n",
      "2021-09-30 22:35:58 INFO: Done loading processors!\n",
      "2021-09-30 22:36:16 INFO: Loading these models for language: bg (Bulgarian):\n",
      "========================\n",
      "| Processor | Package  |\n",
      "------------------------\n",
      "| tokenize  | standard |\n",
      "| pos       | standard |\n",
      "========================\n",
      "\n",
      "2021-09-30 22:36:16 INFO: Use device: gpu\n",
      "2021-09-30 22:36:16 INFO: Loading: tokenize\n",
      "2021-09-30 22:36:16 INFO: Loading: pos\n",
      "2021-09-30 22:36:18 INFO: Done loading processors!\n"
     ]
    },
    {
     "name": "stdout",
     "output_type": "stream",
     "text": [
      "CPU times: user 24min 6s, sys: 2.42 s, total: 24min 8s\n",
      "Wall time: 24min 7s\n"
     ]
    }
   ],
   "source": [
    "%%time\n",
    "X_train, y_train = data_prep('../../data/Train.txt')"
   ]
  },
  {
   "cell_type": "code",
   "execution_count": 76,
   "id": "e3f18ea3",
   "metadata": {},
   "outputs": [],
   "source": [
    "verify_prepped_data(X_train, y_train)"
   ]
  },
  {
   "cell_type": "code",
   "execution_count": 77,
   "id": "5fbe6253",
   "metadata": {},
   "outputs": [
    {
     "name": "stderr",
     "output_type": "stream",
     "text": [
      "2021-09-30 23:00:06 INFO: Loading these models for language: bg (Bulgarian):\n",
      "========================\n",
      "| Processor | Package  |\n",
      "------------------------\n",
      "| tokenize  | standard |\n",
      "========================\n",
      "\n",
      "2021-09-30 23:00:06 INFO: Use device: gpu\n",
      "2021-09-30 23:00:06 INFO: Loading: tokenize\n",
      "2021-09-30 23:00:06 INFO: Done loading processors!\n",
      "2021-09-30 23:00:19 INFO: Loading these models for language: bg (Bulgarian):\n",
      "========================\n",
      "| Processor | Package  |\n",
      "------------------------\n",
      "| tokenize  | standard |\n",
      "| pos       | standard |\n",
      "========================\n",
      "\n",
      "2021-09-30 23:00:19 INFO: Use device: gpu\n",
      "2021-09-30 23:00:19 INFO: Loading: tokenize\n",
      "2021-09-30 23:00:19 INFO: Loading: pos\n",
      "2021-09-30 23:00:21 INFO: Done loading processors!\n"
     ]
    },
    {
     "name": "stdout",
     "output_type": "stream",
     "text": [
      "CPU times: user 11min 58s, sys: 1.18 s, total: 11min 59s\n",
      "Wall time: 11min 59s\n"
     ]
    }
   ],
   "source": [
    "%%time\n",
    "X_dev, y_dev = data_prep('../../data/Dev.txt')"
   ]
  },
  {
   "cell_type": "code",
   "execution_count": 78,
   "id": "61ff62fe",
   "metadata": {},
   "outputs": [],
   "source": [
    "verify_prepped_data(X_dev, y_dev)"
   ]
  },
  {
   "cell_type": "code",
   "execution_count": 79,
   "id": "a0371103",
   "metadata": {},
   "outputs": [
    {
     "name": "stdout",
     "output_type": "stream",
     "text": [
      "CPU times: user 46min 27s, sys: 2.71 s, total: 46min 30s\n",
      "Wall time: 46min 24s\n"
     ]
    }
   ],
   "source": [
    "%%time\n",
    "crf = sklearn_crfsuite.CRF(\n",
    "    algorithm='lbfgs',\n",
    "    c1=0.1,\n",
    "    c2=0.1,\n",
    "    max_iterations=100,\n",
    "    all_possible_transitions=True\n",
    ")\n",
    "crf.fit(X_train, y_train)"
   ]
  },
  {
   "cell_type": "code",
   "execution_count": null,
   "id": "820e49b5",
   "metadata": {},
   "outputs": [],
   "source": [
    "labels = list(crf.classes_)\n",
    "y_pred = crf.predict(X_dev)\n",
    "print(metrics.flat_f1_score(y_dev, y_pred, average='weighted', labels=labels))\n",
    "print(metrics.flat_classification_report(y_dev, y_pred, labels=labels, digits=3))\n",
    "labels.remove('')\n",
    "print(metrics.flat_f1_score(y_dev, y_pred, average='weighted', labels=labels))\n",
    "print(metrics.flat_classification_report(y_dev, y_pred, labels=labels, digits=3))\n",
    "punctuated_sentences = punctuate(X_dev, y_pred)\n",
    "print(punctuated_sentences[:100])"
   ]
  },
  {
   "cell_type": "markdown",
   "id": "f92b8433",
   "metadata": {},
   "source": [
    "### Check results with some features excluded"
   ]
  },
  {
   "cell_type": "code",
   "execution_count": 23,
   "id": "aa04b8a8",
   "metadata": {},
   "outputs": [],
   "source": [
    "X_train = load_json('../../data/X_train.json')"
   ]
  },
  {
   "cell_type": "code",
   "execution_count": 24,
   "id": "3e596222",
   "metadata": {},
   "outputs": [],
   "source": [
    "y_train = load_json('../../data/y_train.json')"
   ]
  },
  {
   "cell_type": "code",
   "execution_count": 25,
   "id": "ae1834e4",
   "metadata": {},
   "outputs": [],
   "source": [
    "X_dev = load_json('../../data/X_dev.json')"
   ]
  },
  {
   "cell_type": "code",
   "execution_count": 26,
   "id": "627ce08b",
   "metadata": {},
   "outputs": [],
   "source": [
    "y_dev = load_json('../../data/y_dev.json')"
   ]
  },
  {
   "cell_type": "code",
   "execution_count": 28,
   "id": "f48addfd",
   "metadata": {},
   "outputs": [],
   "source": [
    "X_dev_without_first_word_in_sent = [[{feature:word[feature] for feature in word if feature not in ('first_word_in_sent', 'count_of_verbs_before')} for word in sentence] for sentence in X_dev]\n",
    "X_dev_without_sent_len = [[{feature:word[feature] for feature in word if feature not in ('sent_len', 'count_of_verbs_before')} for word in sentence] for sentence in X_dev]\n",
    "X_dev_without_pos = [[{feature:word[feature] for feature in word if feature not in ('pos_in_sent', 'interrogative_word_position', 'interrogative_particle_position', 'imperative_verb_position', 'count_of_verbs_before')} for word in sentence] for sentence in X_dev]\n",
    "X_dev_without_upos = [[{feature:word[feature] for feature in word if feature not in ('upos', 'prev_word_upos', 'word_before_prev_word_upos', 'next_word_upos', 'word_after_next_word_upos', 'count_of_verbs_before')} for word in sentence] for sentence in X_dev]"
   ]
  },
  {
   "cell_type": "code",
   "execution_count": 29,
   "id": "8156512b",
   "metadata": {},
   "outputs": [],
   "source": [
    "X_train_without_first_word_in_sent = [[{feature:word[feature] for feature in word if feature not in ('first_word_in_sent', 'count_of_verbs_before')} for word in sentence] for sentence in X_train]\n",
    "X_train_without_sent_len = [[{feature:word[feature] for feature in word if feature not in ('sent_len', 'count_of_verbs_before')} for word in sentence] for sentence in X_train]\n",
    "X_train_without_pos = [[{feature:word[feature] for feature in word if feature not in ('pos_in_sent', 'interrogative_word_position', 'interrogative_particle_position', 'imperative_verb_position', 'count_of_verbs_before')} for word in sentence] for sentence in X_train]\n",
    "X_train_without_upos = [[{feature:word[feature] for feature in word if feature not in ('upos', 'prev_word_upos', 'word_before_prev_word_upos', 'next_word_upos', 'word_after_next_word_upos', 'count_of_verbs_before')} for word in sentence] for sentence in X_train]"
   ]
  },
  {
   "cell_type": "code",
   "execution_count": 38,
   "id": "6fada4f7",
   "metadata": {},
   "outputs": [],
   "source": [
    "verify_prepped_data(X_dev_without_first_word_in_sent, y_dev)"
   ]
  },
  {
   "cell_type": "code",
   "execution_count": 39,
   "id": "f278564e",
   "metadata": {},
   "outputs": [],
   "source": [
    "verify_prepped_data(X_dev_without_sent_len, y_dev)"
   ]
  },
  {
   "cell_type": "code",
   "execution_count": 41,
   "id": "1c3e660c",
   "metadata": {},
   "outputs": [],
   "source": [
    "verify_prepped_data(X_dev_without_pos, y_dev)"
   ]
  },
  {
   "cell_type": "code",
   "execution_count": 42,
   "id": "1918c628",
   "metadata": {},
   "outputs": [],
   "source": [
    "verify_prepped_data(X_dev_without_upos, y_dev)"
   ]
  },
  {
   "cell_type": "code",
   "execution_count": 43,
   "id": "0d06a5f5",
   "metadata": {},
   "outputs": [
    {
     "name": "stdout",
     "output_type": "stream",
     "text": [
      "CPU times: user 30min 59s, sys: 999 ms, total: 31min\n",
      "Wall time: 30min 58s\n"
     ]
    }
   ],
   "source": [
    "%%time\n",
    "crf = sklearn_crfsuite.CRF(\n",
    "    algorithm='lbfgs',\n",
    "    c1=0.1,\n",
    "    c2=0.1,\n",
    "    max_iterations=100,\n",
    "    all_possible_transitions=True\n",
    ")\n",
    "crf.fit(X_train_without_first_word_in_sent, y_train)"
   ]
  },
  {
   "cell_type": "code",
   "execution_count": 44,
   "id": "2d1226c4",
   "metadata": {},
   "outputs": [
    {
     "name": "stderr",
     "output_type": "stream",
     "text": [
      "/home/mariya/anaconda3/envs/masters/lib/python3.6/site-packages/sklearn/metrics/_classification.py:1465: UndefinedMetricWarning: F-score is ill-defined and being set to 0.0 in labels with no true nor predicted samples. Use `zero_division` parameter to control this behavior.\n",
      "  average, \"true nor predicted\", 'F-score is', len(true_sum)\n",
      "/home/mariya/anaconda3/envs/masters/lib/python3.6/site-packages/sklearn/utils/validation.py:70: FutureWarning: Pass labels=['', ':', '!', ',', '?', ';', '.', '-', ',(', '\"', '\").', '(', ')', '?-', '.-', ':)', '!-', ':\"', '.\"', ':(', '?)', '\"?', '\".', '\";', '\"-', ').', '!,', '-\"', ')!', '\",', '.\")', '!;', ';(', '),', '?;', '?\"', ');', '.)', '?,', ';\"', '):', '[', ']', '...', '],', '\"(', ',[', ',\"', ']\",', ')-', '\":', '(\"', '\"),', '\"-[', '...,', '\")', '..', '\",\"', '?\".', '\"[', '\"(\"', '),\"', '\"\"', '-.', '.,', '].', ')\"', '!\"', '?\"-', '\":\"', '):\"', '\")-', '\"-\"', '-,', ')\".', '?\",', ']\".', '!\",', ']?', '...[', '];', '...\".', '!\"-', '\"!', '!\".', '!?', '?!', ',-', '!...', '!).', ')?', '?...', '.?'] as keyword args. From version 0.25 passing these as positional arguments will result in an error\n",
      "  FutureWarning)\n"
     ]
    },
    {
     "name": "stdout",
     "output_type": "stream",
     "text": [
      "0.9390237683618073\n"
     ]
    },
    {
     "name": "stderr",
     "output_type": "stream",
     "text": [
      "/home/mariya/anaconda3/envs/masters/lib/python3.6/site-packages/sklearn/metrics/_classification.py:1221: UndefinedMetricWarning: Precision and F-score are ill-defined and being set to 0.0 in labels with no predicted samples. Use `zero_division` parameter to control this behavior.\n",
      "  _warn_prf(average, modifier, msg_start, len(result))\n",
      "/home/mariya/anaconda3/envs/masters/lib/python3.6/site-packages/sklearn/metrics/_classification.py:1221: UndefinedMetricWarning: Recall and F-score are ill-defined and being set to 0.0 in labels with no true samples. Use `zero_division` parameter to control this behavior.\n",
      "  _warn_prf(average, modifier, msg_start, len(result))\n"
     ]
    },
    {
     "name": "stdout",
     "output_type": "stream",
     "text": [
      "              precision    recall  f1-score   support\n",
      "\n",
      "                  0.959     0.989     0.974    227825\n",
      "           :      0.893     0.713     0.793       923\n",
      "           !      0.429     0.156     0.228       347\n",
      "           ,      0.799     0.639     0.710     18592\n",
      "           ?      0.828     0.630     0.715       443\n",
      "           ;      0.221     0.037     0.063       622\n",
      "           .      0.931     0.986     0.958     11401\n",
      "           -      0.563     0.111     0.186       882\n",
      "          ,(      0.000     0.000     0.000         5\n",
      "           \"      0.636     0.140     0.230      1596\n",
      "         \").      0.000     0.000     0.000         0\n",
      "           (      0.965     0.883     0.922      1656\n",
      "           )      0.880     0.846     0.863      1001\n",
      "          ?-      0.000     0.000     0.000         4\n",
      "          .-      0.000     0.000     0.000         2\n",
      "          :)      0.000     0.000     0.000         0\n",
      "          !-      0.000     0.000     0.000        20\n",
      "          :\"      0.636     0.104     0.179        67\n",
      "          .\"      0.167     0.043     0.069        23\n",
      "          :(      0.000     0.000     0.000         1\n",
      "          ?)      0.000     0.000     0.000         0\n",
      "          \"?      0.000     0.000     0.000         1\n",
      "          \".      0.675     0.092     0.162       293\n",
      "          \";      0.000     0.000     0.000         5\n",
      "          \"-      0.000     0.000     0.000        28\n",
      "          ).      0.973     0.923     0.947       271\n",
      "          !,      0.000     0.000     0.000         0\n",
      "          -\"      0.000     0.000     0.000         7\n",
      "          )!      1.000     1.000     1.000         1\n",
      "          \",      0.730     0.526     0.612       829\n",
      "         .\")      0.000     0.000     0.000         1\n",
      "          !;      0.000     0.000     0.000         1\n",
      "          ;(      0.000     0.000     0.000         0\n",
      "          ),      0.838     0.654     0.735       381\n",
      "          ?;      0.000     0.000     0.000         0\n",
      "          ?\"      0.000     0.000     0.000         0\n",
      "          );      0.000     0.000     0.000         0\n",
      "          .)      0.000     0.000     0.000         1\n",
      "          ?,      0.000     0.000     0.000         1\n",
      "          ;\"      0.000     0.000     0.000         0\n",
      "          ):      1.000     0.636     0.778        11\n",
      "           [      0.000     0.000     0.000        45\n",
      "           ]      0.000     0.000     0.000        43\n",
      "         ...      0.000     0.000     0.000        61\n",
      "          ],      0.000     0.000     0.000         3\n",
      "          \"(      0.500     0.226     0.311        31\n",
      "          ,[      0.000     0.000     0.000         1\n",
      "          ,\"      0.000     0.000     0.000        44\n",
      "         ]\",      0.000     0.000     0.000         5\n",
      "          )-      1.000     0.059     0.111        17\n",
      "          \":      0.000     0.000     0.000         0\n",
      "          (\"      0.000     0.000     0.000         0\n",
      "         \"),      0.000     0.000     0.000         1\n",
      "         \"-[      0.000     0.000     0.000         0\n",
      "        ...,      0.000     0.000     0.000         3\n",
      "          \")      0.000     0.000     0.000         2\n",
      "          ..      0.500     0.333     0.400         3\n",
      "         \",\"      0.000     0.000     0.000        10\n",
      "         ?\".      0.000     0.000     0.000         2\n",
      "          \"[      0.000     0.000     0.000         0\n",
      "         \"(\"      0.000     0.000     0.000         2\n",
      "         ),\"      0.000     0.000     0.000         2\n",
      "          \"\"      0.000     0.000     0.000         2\n",
      "          -.      0.000     0.000     0.000         0\n",
      "          .,      0.000     0.000     0.000         0\n",
      "          ].      0.000     0.000     0.000         2\n",
      "          )\"      0.000     0.000     0.000         0\n",
      "          !\"      0.000     0.000     0.000         0\n",
      "         ?\"-      0.000     0.000     0.000         2\n",
      "         \":\"      0.000     0.000     0.000         1\n",
      "         ):\"      0.000     0.000     0.000         0\n",
      "         \")-      0.000     0.000     0.000         1\n",
      "         \"-\"      0.000     0.000     0.000         0\n",
      "          -,      0.000     0.000     0.000         1\n",
      "         )\".      0.000     0.000     0.000         1\n",
      "         ?\",      0.000     0.000     0.000         1\n",
      "         ]\".      0.000     0.000     0.000         0\n",
      "         !\",      0.000     0.000     0.000         1\n",
      "          ]?      0.000     0.000     0.000         0\n",
      "        ...[      0.000     0.000     0.000         2\n",
      "          ];      0.000     0.000     0.000         0\n",
      "       ...\".      0.000     0.000     0.000         0\n",
      "         !\"-      0.000     0.000     0.000         2\n",
      "          \"!      0.000     0.000     0.000         0\n",
      "         !\".      0.000     0.000     0.000         3\n",
      "          !?      0.000     0.000     0.000         0\n",
      "          ?!      0.000     0.000     0.000         0\n",
      "          ,-      0.000     0.000     0.000         4\n",
      "        !...      0.000     0.000     0.000         1\n",
      "         !).      0.000     0.000     0.000         0\n",
      "          )?      0.000     0.000     0.000         3\n",
      "        ?...      0.000     0.000     0.000         0\n",
      "          .?      0.000     0.000     0.000         0\n",
      "\n",
      "   micro avg      0.946     0.946     0.946    267543\n",
      "   macro avg      0.173     0.115     0.128    267543\n",
      "weighted avg      0.938     0.946     0.939    267543\n",
      "\n",
      "0.738589741739182\n"
     ]
    },
    {
     "name": "stderr",
     "output_type": "stream",
     "text": [
      "/home/mariya/anaconda3/envs/masters/lib/python3.6/site-packages/sklearn/utils/validation.py:70: FutureWarning: Pass labels=[':', '!', ',', '?', ';', '.', '-', ',(', '\"', '\").', '(', ')', '?-', '.-', ':)', '!-', ':\"', '.\"', ':(', '?)', '\"?', '\".', '\";', '\"-', ').', '!,', '-\"', ')!', '\",', '.\")', '!;', ';(', '),', '?;', '?\"', ');', '.)', '?,', ';\"', '):', '[', ']', '...', '],', '\"(', ',[', ',\"', ']\",', ')-', '\":', '(\"', '\"),', '\"-[', '...,', '\")', '..', '\",\"', '?\".', '\"[', '\"(\"', '),\"', '\"\"', '-.', '.,', '].', ')\"', '!\"', '?\"-', '\":\"', '):\"', '\")-', '\"-\"', '-,', ')\".', '?\",', ']\".', '!\",', ']?', '...[', '];', '...\".', '!\"-', '\"!', '!\".', '!?', '?!', ',-', '!...', '!).', ')?', '?...', '.?'] as keyword args. From version 0.25 passing these as positional arguments will result in an error\n",
      "  FutureWarning)\n"
     ]
    },
    {
     "name": "stdout",
     "output_type": "stream",
     "text": [
      "              precision    recall  f1-score   support\n",
      "\n",
      "           :      0.893     0.713     0.793       923\n",
      "           !      0.429     0.156     0.228       347\n",
      "           ,      0.799     0.639     0.710     18592\n",
      "           ?      0.828     0.630     0.715       443\n",
      "           ;      0.221     0.037     0.063       622\n",
      "           .      0.931     0.986     0.958     11401\n",
      "           -      0.563     0.111     0.186       882\n",
      "          ,(      0.000     0.000     0.000         5\n",
      "           \"      0.636     0.140     0.230      1596\n",
      "         \").      0.000     0.000     0.000         0\n",
      "           (      0.965     0.883     0.922      1656\n",
      "           )      0.880     0.846     0.863      1001\n",
      "          ?-      0.000     0.000     0.000         4\n",
      "          .-      0.000     0.000     0.000         2\n",
      "          :)      0.000     0.000     0.000         0\n",
      "          !-      0.000     0.000     0.000        20\n",
      "          :\"      0.636     0.104     0.179        67\n",
      "          .\"      0.167     0.043     0.069        23\n",
      "          :(      0.000     0.000     0.000         1\n",
      "          ?)      0.000     0.000     0.000         0\n",
      "          \"?      0.000     0.000     0.000         1\n",
      "          \".      0.675     0.092     0.162       293\n",
      "          \";      0.000     0.000     0.000         5\n",
      "          \"-      0.000     0.000     0.000        28\n",
      "          ).      0.973     0.923     0.947       271\n",
      "          !,      0.000     0.000     0.000         0\n",
      "          -\"      0.000     0.000     0.000         7\n",
      "          )!      1.000     1.000     1.000         1\n",
      "          \",      0.730     0.526     0.612       829\n",
      "         .\")      0.000     0.000     0.000         1\n",
      "          !;      0.000     0.000     0.000         1\n",
      "          ;(      0.000     0.000     0.000         0\n",
      "          ),      0.838     0.654     0.735       381\n",
      "          ?;      0.000     0.000     0.000         0\n",
      "          ?\"      0.000     0.000     0.000         0\n",
      "          );      0.000     0.000     0.000         0\n",
      "          .)      0.000     0.000     0.000         1\n",
      "          ?,      0.000     0.000     0.000         1\n",
      "          ;\"      0.000     0.000     0.000         0\n",
      "          ):      1.000     0.636     0.778        11\n",
      "           [      0.000     0.000     0.000        45\n",
      "           ]      0.000     0.000     0.000        43\n",
      "         ...      0.000     0.000     0.000        61\n",
      "          ],      0.000     0.000     0.000         3\n",
      "          \"(      0.500     0.226     0.311        31\n",
      "          ,[      0.000     0.000     0.000         1\n",
      "          ,\"      0.000     0.000     0.000        44\n",
      "         ]\",      0.000     0.000     0.000         5\n",
      "          )-      1.000     0.059     0.111        17\n",
      "          \":      0.000     0.000     0.000         0\n",
      "          (\"      0.000     0.000     0.000         0\n",
      "         \"),      0.000     0.000     0.000         1\n",
      "         \"-[      0.000     0.000     0.000         0\n",
      "        ...,      0.000     0.000     0.000         3\n",
      "          \")      0.000     0.000     0.000         2\n",
      "          ..      0.500     0.333     0.400         3\n",
      "         \",\"      0.000     0.000     0.000        10\n",
      "         ?\".      0.000     0.000     0.000         2\n",
      "          \"[      0.000     0.000     0.000         0\n",
      "         \"(\"      0.000     0.000     0.000         2\n",
      "         ),\"      0.000     0.000     0.000         2\n",
      "          \"\"      0.000     0.000     0.000         2\n",
      "          -.      0.000     0.000     0.000         0\n",
      "          .,      0.000     0.000     0.000         0\n",
      "          ].      0.000     0.000     0.000         2\n",
      "          )\"      0.000     0.000     0.000         0\n",
      "          !\"      0.000     0.000     0.000         0\n",
      "         ?\"-      0.000     0.000     0.000         2\n",
      "         \":\"      0.000     0.000     0.000         1\n",
      "         ):\"      0.000     0.000     0.000         0\n",
      "         \")-      0.000     0.000     0.000         1\n",
      "         \"-\"      0.000     0.000     0.000         0\n",
      "          -,      0.000     0.000     0.000         1\n",
      "         )\".      0.000     0.000     0.000         1\n",
      "         ?\",      0.000     0.000     0.000         1\n",
      "         ]\".      0.000     0.000     0.000         0\n",
      "         !\",      0.000     0.000     0.000         1\n",
      "          ]?      0.000     0.000     0.000         0\n",
      "        ...[      0.000     0.000     0.000         2\n",
      "          ];      0.000     0.000     0.000         0\n",
      "       ...\".      0.000     0.000     0.000         0\n",
      "         !\"-      0.000     0.000     0.000         2\n",
      "          \"!      0.000     0.000     0.000         0\n",
      "         !\".      0.000     0.000     0.000         3\n",
      "          !?      0.000     0.000     0.000         0\n",
      "          ?!      0.000     0.000     0.000         0\n",
      "          ,-      0.000     0.000     0.000         4\n",
      "        !...      0.000     0.000     0.000         1\n",
      "         !).      0.000     0.000     0.000         0\n",
      "          )?      0.000     0.000     0.000         3\n",
      "        ?...      0.000     0.000     0.000         0\n",
      "          .?      0.000     0.000     0.000         0\n",
      "\n",
      "   micro avg      0.853     0.699     0.768     39718\n",
      "   macro avg      0.165     0.106     0.119     39718\n",
      "weighted avg      0.816     0.699     0.739     39718\n",
      "\n",
      "['Но синовете им не умъртви, защото постъпи според писаното в закона в книгата на Мойсей, където ГОСПОД заповяда и каза: Бащите да не умират заради синовете и синовете да не умират заради бащите, а всеки да умира за собствения си грях.', 'Но когато ти говоря ще отворя устата ти и ти им кажи: Така казва Господ БОГ: Който слуша, нека слуша, а който не слуша нека не слуша, защото са бунтовен дом.', 'Защото кой е по-голям този, който седи на трапезата ли или онзи, който слугува?', 'А след това ще се насели, както в предишните дни, заявява ГОСПОД.', 'А Той беше на задната част, заспал на възглавница.', 'Ефрем е като птица славата му ще отлети.', 'И така той си отиде от него на известно разстояние.', 'Не бягам при халдейците.', 'И израилевите синове излязоха от египетската земя строени.', 'А когато Ахитофел видя, че съветът му не се изпълни оседла магарето си и стана и отиде у дома си в своя град и нареди домашните си работи и се обеси.', 'Ако умре някое животно от добитъка, който можете да ядете, който се допре до мършата му, ще бъде нечист до вечерта.', 'Но помощник съответен на Адам не се намери.', 'Който задържа жито, народът ще го проклина, а благословение ще почива на главата на този, който го продава.', 'Този човек беше праведен и благочестив и чакаше Утехата на Израил и Светият Дух беше на него.', 'Всичко е възможно за този, който вярва.', 'И видях височината на дома околовръст основите на страничните стаи бяха една цяла тръстика от шест големи лакътя.', 'После да вземеш тлъстината на овена, опашката и тлъстината, която покрива вътрешностите, булото на дроба двата бъбрека с тлъстината, която е около тях и дясното бедро, защото е овен на посвещение и един хляб една пита хляб, месен с маслинено масло и една кора от коша на безквасните хлябове, които са пред ГОСПОДА.', 'И от дима излязоха скакалци по земята и им се даде власт като властта, която имат земните скорпиони.', 'Ти си, ГОСПОДИ, само Ти.', 'И ще предаде Израил заради греховете на Еровоам, с които съгреши и с които въведе Израил в грях.', 'Синове на Елифаз: Теман и Омар Сефи и Готом Кенез и Тамна и Амалик.', 'А гладът в Самария беше страшен.', 'Затова казах в сърцето си, че и това е суета.', 'Насладих се на сянката му и седнах и плодът му, бе сладък в устата ми.', 'Защото така ми каза: ГОСПОД, Както ръмжи над лова си, лъвът младият лъв срещу когото се свикват множество овчари и не се плаши от гласа им, и не се отдръпва пред шума им, така ГОСПОД на Войнствата ще слезе за да воюва за хълма Сион и за неговото възвишение.', 'Отче, свети, опази ги в Името Си, което си Ми дал, за да бъдат едно, както сме и Ние.', 'И да правите разлика между чистите животни и нечистите и между нечистите птици и чистите и да не осквернявате себе си с животно, или с птица или с каквото и да е, което пълзи по земята, което Аз съм ви отделил като нечисто.', 'И ГОСПОД укрепи моавския цар Еглон против Израил, защото вършиха зло пред ГОСПОДА.', 'И Духът ми каза да отида с тях, без да се двоумя.', 'В двадесет и седмата година на израилевия цар Еровоам се възцари Азария, синът на юдовия цар Амасия.', 'Защото вашата послушност е известна на всички, затова се радвам за вас.', 'Той изтегля всички с въдица влачи ги в мрежата си и ги събира в рибарската си мрежа, затова се радва и се весели.', 'Благословен да е ГОСПОД Бог Богът на Израил, който единствен върши чудеса.', 'И които влязоха мъжко и женско от всяка плът, влязоха, както Бог му беше заповядал, и ГОСПОД затвори след него.', 'Тогава царят каза на Божия човек: Ела с мен у дома и се подкрепи и ще ти дам подарък.', 'И ето, въпреки че е посадена ще успее ли?', 'От дома Тогарма, даваха за стоките ти коне бойни коне и мулета.', 'Затова заповядай гробът да се пази здраво до третия ден да не би учениците Му да дойдат и да Го откраднат, и да кажат на народа Възкръсна от мъртвите.', 'И когато отвори петия печат, видях под олтара, душите на онези, които са били заклани за Божието слово и за свидетелството, което държаха.', 'И свещениците, които служат на ГОСПОДА са синовете на Аарон и левитите са в службата.', 'Той тича след тях с умолителни думи, но тях ги няма.', 'И измери дължината му четиридесет лакътя и ширината му- двадесет лакътя.', 'Затова, така казва ГОСПОД, Бог на Войнствата, Израилевият Бог: Ето, Аз ще докарам върху Юда и върху всичките ерусалимски жители цялото зло, което говорих против тях, защото им говорих, но не слушаха и ги виках, но не отговаряха.', 'Сине мой, слушай наставлението на баща си и не отхвърляй закона на майка си, защото те ще бъдат благодатен венец за главата ти, и огърлица за шията ти.', 'Тогава облакът започна да се издига от града в димен стълб и Вениамин се обърна и ето, целият град се издигаше в пламъци към небето.', 'В онзи ден няма да се срамуваш от всичките си дела, с които си отстъпил от Мен, защото тогава ще отнема отсред теб, твоите, които горделиво тържествуват и ти няма вече да се държиш надменно на светия Ми хълм.', 'А свинарите, като видяха станалото, избягаха и разказаха за това в града и в селата.', 'И Илий благослови Елкана и жена му и каза: ГОСПОД да ти даде потомство от тази жена, вместо заетото, което беше посветено на ГОСПОДА.', 'И ако живее във вас, Духът на Този, който възкреси Иисус от мъртвите, то Този, който възкреси Христос от мъртвите ще съживи и вашите смъртни тела чрез Духа Си, който живее във вас.', 'А ГОСПОД си извърши, както беше говорил чрез мен и ГОСПОД откъсна царството от ръката ти и го даде на ближния ти на Давид.', 'Даде и храна за магаретата им.', 'Книгата на видението на елкусеянина Наум.', 'И направи олтара за всеизгаряне от акациево дърво, пет лакътя беше дължината му и пет лакътя беше ширината му, четвъртит и три лакътя беше височината му.', 'Те ми казаха: Направи ни богове, които да ходят пред нас, защото на този Мойсей човека, който ни изведе от египетската земя, не знаем какво му стана.', 'Тогава Мардохей каза да отговорят на Естир: Не мисли в себе си, че от всичките юдеи, само ти ще се избавиш в царския дом.', 'Но аз не бих познал греха освен чрез закона, защото не бих знаел пожелание, ако законът не беше казал:\" Не пожелавай.', 'Тогава народът Му си спомни за древните дни на Мойсей: Къде е Онзи, който ги изведе от морето с пастирите на стадото Си.', 'И три пъти в годината Соломон принасяше всеизгаряния и примирителни жертви върху олтара, който построи на ГОСПОДА и кадеше върху олтара, който беше пред ГОСПОДА.', 'И след като им поставиха старейшини във всяка църква и се помолиха с пост ги препоръчаха на Господа, в когото бяха повярвали.', 'С нея Той подейства в Христос, като Го възкреси от мъртвите и Го, сложи да седне от дясната Си страна на небесата далеч над всяко началство и власт и сила и господство и всяко име, с което се наименуват не само в този свят, но и в бъдещия.', 'Стрелец срещу стрелец да опъва лъка си и срещу онзи, който се надига в бронята си.', 'Затова онази нива е, наречена и до днес Кръвна нива.', 'И така слугите на цар Езекия отидоха при Исая.', 'И никой свещеник да не пие вино, когато влиза във вътрешния двор.', 'И Охозия, падна през решетката на горната си, стая в Самария и се разболя.', 'Защо не разбирате Моето говорене?', 'А Лаван в отговор каза на Яков: Тези дъщери са мои дъщери и синовете са мои синове и стадата, са мои стада.', 'А чуждият, който се приближи да се умъртви.', 'И двамата сина на Илий, Офний и Финеес бяха там с ковчега на Божия завет.', 'Иисус му каза: Лисиците си имат леговища и небесните птици гнезда, а Човешкият Син няма къде глава да подслони?', 'От кръвта на убитите от тлъстината на силните лъкът на Йонатан не се обръщаше назад, и мечът на Саул не се връщаше празен.', 'Станах за присмех на целия си народ и за тяхна подигравателна песен цял ден.', 'Да учите на тях синовете си, като говорите за тях, когато седиш в къщата си, когато ходиш по пътя, когато лягаш и когато ставаш.', 'И ГОСПОД се разкая за злото, което беше казал, че ще направи на народа Си.', 'А Юда изпрати ярето чрез ръката на приятеля си одоламеца за да вземе залога от ръката на жената, но той не я намери.', 'И царят заповяда и доведоха онези мъже, които бяха издали Даниил, и хвърлиха тях, децата им и жените им в рова на лъвовете и още преди да стигнат до дъното на рова, лъвовете ги сграбчиха и строшиха всичките им кости.', 'И Йоав и народът, който беше с него настъпиха за битката против арамейците; и те побягнаха пред него.', 'И като го повикаха Тертил, започна да обвинява, като казваше: Понеже чрез теб честити Феликсе, се радваме на голямо спокойствие и понеже чрез твоята предвидливост има подобрения за този народ, то ние с пълна благодарност винаги и навсякъде посрещаме това.', 'Защото Йоан казваше на Ирод: Не ти е позволено да имаш жената на брат си.', 'А в първия ден на седмицата много рано сутринта те дойдоха на гроба, като носеха благоуханните масла, които бяха приготвили.', 'Ще бъде ли добре да ви изпита Той?', 'След това Яков каза на Лаван: Дай жена ми, защото дойде време да вляза при нея.', 'А посветените дарове бяха шестстотин говеда и три хиляди овце.', 'Кога ще се събудя за да продължа да го потърся пак.', 'Изнемогвам от викането си гърлото ми е пресъхнало очите ми чезнат, докато чакам своя Бог.', 'Това са родовете на Мерарий.', 'На следващия ден едно голямо множество, което беше дошло на празника, като чуха, че Иисус идвал в Ерусалим, взеха палмови клони и излязоха да Го посрещнат, викайки Осанна.', 'И той каза: Имам нещо да ти кажа.', 'Ако някой, който е престъпил закона на Мойсей умира безпощадно при думата на двама или трима свидетели, то колко по-тежко наказание мислите ще заслужи онзи, който е потъпкал Божия Син, и е счел за просто нещо, кръвта на завета, с която е бил осветен и е оскърбил Духа на благодатта.', 'Върни се, сине мой, Давиде, защото няма вече да ти сторя зло, понеже днес животът ми беше скъпоценен пред очите ти.', 'Ще дойдат големци от Египет Етиопия бързо ще протегне ръцете си към Бога.', 'Затова хората Му се боят и Той не гледа на никого от мъдрите по сърце.', 'И Го следваше голямо множество от народ и жени, които плачеха за Него.', 'Ето ви семе засейте земята!', 'И Давид дойде във Ваал-Ферасим и Давид ги разби там, и каза: ГОСПОД разсече пред мен враговете ми, както водите правят пролом.', 'Кадилниците на тези мъже, които съгрешиха против живота си, нека ги направят на плочи за обковаване на олтара, защото те ги принесоха пред ГОСПОДА и затова са свети и те ще бъдат за знамение на израилевите синове.', 'И когато фараонът отказваше да ни пусне, ГОСПОД, уби всяко първородно в египетската земя от първородно на човек до първородно на животно, затова жертвам на ГОСПОДА всяко първородно, което е мъжко, а всеки първороден от синовете си изкупувам.', 'А без вяра не е възможно да се угоди на Бога, защото който идва при Бога трябва да вярва, че Той съществува и че възнаграждава тези, които Го търсят.', 'И докато още говореше с тях, ето, пратеникът слезе при него и каза: Ето, това зло е от ГОСПОДА.', 'А вие сами ли ще продадете братята си?']\n"
     ]
    }
   ],
   "source": [
    "labels = list(crf.classes_)\n",
    "y_pred = crf.predict(X_dev_without_first_word_in_sent)\n",
    "print(metrics.flat_f1_score(y_dev, y_pred, average='weighted', labels=labels))\n",
    "print(metrics.flat_classification_report(y_dev, y_pred, labels=labels, digits=3))\n",
    "labels.remove('')\n",
    "print(metrics.flat_f1_score(y_dev, y_pred, average='weighted', labels=labels))\n",
    "print(metrics.flat_classification_report(y_dev, y_pred, labels=labels, digits=3))\n",
    "punctuated_sentences = punctuate(X_dev_without_first_word_in_sent, y_pred)\n",
    "print(punctuated_sentences[:100])"
   ]
  },
  {
   "cell_type": "code",
   "execution_count": 45,
   "id": "026e63a0",
   "metadata": {},
   "outputs": [
    {
     "name": "stdout",
     "output_type": "stream",
     "text": [
      "CPU times: user 28min 13s, sys: 924 ms, total: 28min 14s\n",
      "Wall time: 28min 11s\n"
     ]
    }
   ],
   "source": [
    "%%time\n",
    "crf = sklearn_crfsuite.CRF(\n",
    "    algorithm='lbfgs',\n",
    "    c1=0.1,\n",
    "    c2=0.1,\n",
    "    max_iterations=100,\n",
    "    all_possible_transitions=True\n",
    ")\n",
    "crf.fit(X_train_without_sent_len, y_train)"
   ]
  },
  {
   "cell_type": "code",
   "execution_count": 46,
   "id": "b6628f38",
   "metadata": {},
   "outputs": [
    {
     "name": "stderr",
     "output_type": "stream",
     "text": [
      "/home/mariya/anaconda3/envs/masters/lib/python3.6/site-packages/sklearn/metrics/_classification.py:1465: UndefinedMetricWarning: F-score is ill-defined and being set to 0.0 in labels with no true nor predicted samples. Use `zero_division` parameter to control this behavior.\n",
      "  average, \"true nor predicted\", 'F-score is', len(true_sum)\n",
      "/home/mariya/anaconda3/envs/masters/lib/python3.6/site-packages/sklearn/utils/validation.py:70: FutureWarning: Pass labels=['', ':', '!', ',', '?', ';', '.', '-', ',(', '\"', '\").', '(', ')', '?-', '.-', ':)', '!-', ':\"', '.\"', ':(', '?)', '\"?', '\".', '\";', '\"-', ').', '!,', '-\"', ')!', '\",', '.\")', '!;', ';(', '),', '?;', '?\"', ');', '.)', '?,', ';\"', '):', '[', ']', '...', '],', '\"(', ',[', ',\"', ']\",', ')-', '\":', '(\"', '\"),', '\"-[', '...,', '\")', '..', '\",\"', '?\".', '\"[', '\"(\"', '),\"', '\"\"', '-.', '.,', '].', ')\"', '!\"', '?\"-', '\":\"', '):\"', '\")-', '\"-\"', '-,', ')\".', '?\",', ']\".', '!\",', ']?', '...[', '];', '...\".', '!\"-', '\"!', '!\".', '!?', '?!', ',-', '!...', '!).', ')?', '?...', '.?'] as keyword args. From version 0.25 passing these as positional arguments will result in an error\n",
      "  FutureWarning)\n"
     ]
    },
    {
     "name": "stdout",
     "output_type": "stream",
     "text": [
      "0.9389738459216473\n"
     ]
    },
    {
     "name": "stderr",
     "output_type": "stream",
     "text": [
      "/home/mariya/anaconda3/envs/masters/lib/python3.6/site-packages/sklearn/metrics/_classification.py:1221: UndefinedMetricWarning: Precision and F-score are ill-defined and being set to 0.0 in labels with no predicted samples. Use `zero_division` parameter to control this behavior.\n",
      "  _warn_prf(average, modifier, msg_start, len(result))\n",
      "/home/mariya/anaconda3/envs/masters/lib/python3.6/site-packages/sklearn/metrics/_classification.py:1221: UndefinedMetricWarning: Recall and F-score are ill-defined and being set to 0.0 in labels with no true samples. Use `zero_division` parameter to control this behavior.\n",
      "  _warn_prf(average, modifier, msg_start, len(result))\n"
     ]
    },
    {
     "name": "stdout",
     "output_type": "stream",
     "text": [
      "              precision    recall  f1-score   support\n",
      "\n",
      "                  0.959     0.989     0.974    227825\n",
      "           :      0.900     0.731     0.807       923\n",
      "           !      0.489     0.184     0.268       347\n",
      "           ,      0.797     0.642     0.711     18592\n",
      "           ?      0.852     0.677     0.755       443\n",
      "           ;      0.234     0.042     0.071       622\n",
      "           .      0.933     0.987     0.959     11401\n",
      "           -      0.547     0.100     0.169       882\n",
      "          ,(      0.000     0.000     0.000         5\n",
      "           \"      0.633     0.130     0.215      1596\n",
      "         \").      0.000     0.000     0.000         0\n",
      "           (      0.970     0.876     0.920      1656\n",
      "           )      0.879     0.838     0.858      1001\n",
      "          ?-      0.000     0.000     0.000         4\n",
      "          .-      0.000     0.000     0.000         2\n",
      "          :)      0.000     0.000     0.000         0\n",
      "          !-      0.000     0.000     0.000        20\n",
      "          :\"      0.769     0.149     0.250        67\n",
      "          .\"      0.333     0.043     0.077        23\n",
      "          :(      0.000     0.000     0.000         1\n",
      "          ?)      0.000     0.000     0.000         0\n",
      "          \"?      0.000     0.000     0.000         1\n",
      "          \".      0.575     0.078     0.138       293\n",
      "          \";      0.000     0.000     0.000         5\n",
      "          \"-      1.000     0.036     0.069        28\n",
      "          ).      0.976     0.919     0.947       271\n",
      "          !,      0.000     0.000     0.000         0\n",
      "          -\"      0.000     0.000     0.000         7\n",
      "          )!      0.000     0.000     0.000         1\n",
      "          \",      0.740     0.521     0.611       829\n",
      "         .\")      0.000     0.000     0.000         1\n",
      "          !;      0.000     0.000     0.000         1\n",
      "          ;(      0.000     0.000     0.000         0\n",
      "          ),      0.848     0.646     0.733       381\n",
      "          ?;      0.000     0.000     0.000         0\n",
      "          ?\"      0.000     0.000     0.000         0\n",
      "          );      0.000     0.000     0.000         0\n",
      "          .)      0.000     0.000     0.000         1\n",
      "          ?,      0.000     0.000     0.000         1\n",
      "          ;\"      0.000     0.000     0.000         0\n",
      "          ):      1.000     0.727     0.842        11\n",
      "           [      0.000     0.000     0.000        45\n",
      "           ]      0.000     0.000     0.000        43\n",
      "         ...      0.000     0.000     0.000        61\n",
      "          ],      0.000     0.000     0.000         3\n",
      "          \"(      0.538     0.226     0.318        31\n",
      "          ,[      0.000     0.000     0.000         1\n",
      "          ,\"      0.000     0.000     0.000        44\n",
      "         ]\",      0.000     0.000     0.000         5\n",
      "          )-      0.000     0.000     0.000        17\n",
      "          \":      0.000     0.000     0.000         0\n",
      "          (\"      0.000     0.000     0.000         0\n",
      "         \"),      0.000     0.000     0.000         1\n",
      "         \"-[      0.000     0.000     0.000         0\n",
      "        ...,      0.000     0.000     0.000         3\n",
      "          \")      0.000     0.000     0.000         2\n",
      "          ..      1.000     0.333     0.500         3\n",
      "         \",\"      0.000     0.000     0.000        10\n",
      "         ?\".      0.000     0.000     0.000         2\n",
      "          \"[      0.000     0.000     0.000         0\n",
      "         \"(\"      0.000     0.000     0.000         2\n",
      "         ),\"      0.000     0.000     0.000         2\n",
      "          \"\"      0.000     0.000     0.000         2\n",
      "          -.      0.000     0.000     0.000         0\n",
      "          .,      0.000     0.000     0.000         0\n",
      "          ].      0.000     0.000     0.000         2\n",
      "          )\"      0.000     0.000     0.000         0\n",
      "          !\"      0.000     0.000     0.000         0\n",
      "         ?\"-      0.000     0.000     0.000         2\n",
      "         \":\"      0.000     0.000     0.000         1\n",
      "         ):\"      0.000     0.000     0.000         0\n",
      "         \")-      0.000     0.000     0.000         1\n",
      "         \"-\"      0.000     0.000     0.000         0\n",
      "          -,      0.000     0.000     0.000         1\n",
      "         )\".      0.000     0.000     0.000         1\n",
      "         ?\",      0.000     0.000     0.000         1\n",
      "         ]\".      0.000     0.000     0.000         0\n",
      "         !\",      0.000     0.000     0.000         1\n",
      "          ]?      0.000     0.000     0.000         0\n",
      "        ...[      0.000     0.000     0.000         2\n",
      "          ];      0.000     0.000     0.000         0\n",
      "       ...\".      0.000     0.000     0.000         0\n",
      "         !\"-      0.000     0.000     0.000         2\n",
      "          \"!      0.000     0.000     0.000         0\n",
      "         !\".      0.000     0.000     0.000         3\n",
      "          !?      0.000     0.000     0.000         0\n",
      "          ?!      0.000     0.000     0.000         0\n",
      "          ,-      0.000     0.000     0.000         4\n",
      "        !...      0.000     0.000     0.000         1\n",
      "         !).      0.000     0.000     0.000         0\n",
      "          )?      0.000     0.000     0.000         3\n",
      "        ?...      0.000     0.000     0.000         0\n",
      "          .?      0.000     0.000     0.000         0\n",
      "\n",
      "   micro avg      0.946     0.946     0.946    267543\n",
      "   macro avg      0.172     0.106     0.120    267543\n",
      "weighted avg      0.938     0.946     0.939    267543\n",
      "\n",
      "0.7397036529567745\n"
     ]
    },
    {
     "name": "stderr",
     "output_type": "stream",
     "text": [
      "/home/mariya/anaconda3/envs/masters/lib/python3.6/site-packages/sklearn/utils/validation.py:70: FutureWarning: Pass labels=[':', '!', ',', '?', ';', '.', '-', ',(', '\"', '\").', '(', ')', '?-', '.-', ':)', '!-', ':\"', '.\"', ':(', '?)', '\"?', '\".', '\";', '\"-', ').', '!,', '-\"', ')!', '\",', '.\")', '!;', ';(', '),', '?;', '?\"', ');', '.)', '?,', ';\"', '):', '[', ']', '...', '],', '\"(', ',[', ',\"', ']\",', ')-', '\":', '(\"', '\"),', '\"-[', '...,', '\")', '..', '\",\"', '?\".', '\"[', '\"(\"', '),\"', '\"\"', '-.', '.,', '].', ')\"', '!\"', '?\"-', '\":\"', '):\"', '\")-', '\"-\"', '-,', ')\".', '?\",', ']\".', '!\",', ']?', '...[', '];', '...\".', '!\"-', '\"!', '!\".', '!?', '?!', ',-', '!...', '!).', ')?', '?...', '.?'] as keyword args. From version 0.25 passing these as positional arguments will result in an error\n",
      "  FutureWarning)\n"
     ]
    },
    {
     "name": "stdout",
     "output_type": "stream",
     "text": [
      "              precision    recall  f1-score   support\n",
      "\n",
      "           :      0.900     0.731     0.807       923\n",
      "           !      0.489     0.184     0.268       347\n",
      "           ,      0.797     0.642     0.711     18592\n",
      "           ?      0.852     0.677     0.755       443\n",
      "           ;      0.234     0.042     0.071       622\n",
      "           .      0.933     0.987     0.959     11401\n",
      "           -      0.547     0.100     0.169       882\n",
      "          ,(      0.000     0.000     0.000         5\n",
      "           \"      0.633     0.130     0.215      1596\n",
      "         \").      0.000     0.000     0.000         0\n",
      "           (      0.970     0.876     0.920      1656\n",
      "           )      0.879     0.838     0.858      1001\n",
      "          ?-      0.000     0.000     0.000         4\n",
      "          .-      0.000     0.000     0.000         2\n",
      "          :)      0.000     0.000     0.000         0\n",
      "          !-      0.000     0.000     0.000        20\n",
      "          :\"      0.769     0.149     0.250        67\n",
      "          .\"      0.333     0.043     0.077        23\n",
      "          :(      0.000     0.000     0.000         1\n",
      "          ?)      0.000     0.000     0.000         0\n",
      "          \"?      0.000     0.000     0.000         1\n",
      "          \".      0.575     0.078     0.138       293\n",
      "          \";      0.000     0.000     0.000         5\n",
      "          \"-      1.000     0.036     0.069        28\n",
      "          ).      0.976     0.919     0.947       271\n",
      "          !,      0.000     0.000     0.000         0\n",
      "          -\"      0.000     0.000     0.000         7\n",
      "          )!      0.000     0.000     0.000         1\n",
      "          \",      0.740     0.521     0.611       829\n",
      "         .\")      0.000     0.000     0.000         1\n",
      "          !;      0.000     0.000     0.000         1\n",
      "          ;(      0.000     0.000     0.000         0\n",
      "          ),      0.848     0.646     0.733       381\n",
      "          ?;      0.000     0.000     0.000         0\n",
      "          ?\"      0.000     0.000     0.000         0\n",
      "          );      0.000     0.000     0.000         0\n",
      "          .)      0.000     0.000     0.000         1\n",
      "          ?,      0.000     0.000     0.000         1\n",
      "          ;\"      0.000     0.000     0.000         0\n",
      "          ):      1.000     0.727     0.842        11\n",
      "           [      0.000     0.000     0.000        45\n",
      "           ]      0.000     0.000     0.000        43\n",
      "         ...      0.000     0.000     0.000        61\n",
      "          ],      0.000     0.000     0.000         3\n",
      "          \"(      0.538     0.226     0.318        31\n",
      "          ,[      0.000     0.000     0.000         1\n",
      "          ,\"      0.000     0.000     0.000        44\n",
      "         ]\",      0.000     0.000     0.000         5\n",
      "          )-      0.000     0.000     0.000        17\n",
      "          \":      0.000     0.000     0.000         0\n",
      "          (\"      0.000     0.000     0.000         0\n",
      "         \"),      0.000     0.000     0.000         1\n",
      "         \"-[      0.000     0.000     0.000         0\n",
      "        ...,      0.000     0.000     0.000         3\n",
      "          \")      0.000     0.000     0.000         2\n",
      "          ..      1.000     0.333     0.500         3\n",
      "         \",\"      0.000     0.000     0.000        10\n",
      "         ?\".      0.000     0.000     0.000         2\n",
      "          \"[      0.000     0.000     0.000         0\n",
      "         \"(\"      0.000     0.000     0.000         2\n",
      "         ),\"      0.000     0.000     0.000         2\n",
      "          \"\"      0.000     0.000     0.000         2\n",
      "          -.      0.000     0.000     0.000         0\n",
      "          .,      0.000     0.000     0.000         0\n",
      "          ].      0.000     0.000     0.000         2\n",
      "          )\"      0.000     0.000     0.000         0\n",
      "          !\"      0.000     0.000     0.000         0\n",
      "         ?\"-      0.000     0.000     0.000         2\n",
      "         \":\"      0.000     0.000     0.000         1\n",
      "         ):\"      0.000     0.000     0.000         0\n",
      "         \")-      0.000     0.000     0.000         1\n",
      "         \"-\"      0.000     0.000     0.000         0\n",
      "          -,      0.000     0.000     0.000         1\n",
      "         )\".      0.000     0.000     0.000         1\n",
      "         ?\",      0.000     0.000     0.000         1\n",
      "         ]\".      0.000     0.000     0.000         0\n",
      "         !\",      0.000     0.000     0.000         1\n",
      "          ]?      0.000     0.000     0.000         0\n",
      "        ...[      0.000     0.000     0.000         2\n",
      "          ];      0.000     0.000     0.000         0\n",
      "       ...\".      0.000     0.000     0.000         0\n",
      "         !\"-      0.000     0.000     0.000         2\n",
      "          \"!      0.000     0.000     0.000         0\n",
      "         !\".      0.000     0.000     0.000         3\n",
      "          !?      0.000     0.000     0.000         0\n",
      "          ?!      0.000     0.000     0.000         0\n",
      "          ,-      0.000     0.000     0.000         4\n",
      "        !...      0.000     0.000     0.000         1\n",
      "         !).      0.000     0.000     0.000         0\n",
      "          )?      0.000     0.000     0.000         3\n",
      "        ?...      0.000     0.000     0.000         0\n",
      "          .?      0.000     0.000     0.000         0\n",
      "\n",
      "   micro avg      0.852     0.701     0.769     39718\n",
      "   macro avg      0.163     0.097     0.111     39718\n",
      "weighted avg      0.817     0.701     0.740     39718\n",
      "\n",
      "['Но синовете им не умъртви, защото постъпи според писаното в закона в книгата на Мойсей, където ГОСПОД заповяда и каза: Бащите да не умират заради синовете и синовете да не умират заради бащите, а всеки да умира за собствения си грях.', 'Но когато ти говоря ще отворя устата ти и ти им кажи: Така казва Господ БОГ: Който слуша, нека слуша, а който не слуша, нека не слуша, защото са бунтовен дом.', 'Защото кой е по-голям този, който седи на трапезата ли или онзи, който слугува?', 'А след това ще се насели, както в предишните дни, заявява ГОСПОД.', 'А Той беше на задната част, заспал на възглавница.', 'Ефрем е като птица славата му ще отлети.', 'И така той си отиде от него на известно разстояние.', 'Не бягам при халдейците.', 'И израилевите синове излязоха от египетската земя, строени.', 'А когато Ахитофел видя, че съветът му не се изпълни оседла магарето си и стана и отиде у дома си в своя град, и нареди домашните си работи и се обеси.', 'Ако умре някое животно от добитъка, който можете да ядете, който се допре до мършата му, ще бъде нечист до вечерта.', 'Но помощник, съответен на Адам не се намери.', 'Който задържа жито, народът ще го проклина, а благословение ще почива на главата на този, който го продава.', 'Този човек беше праведен и благочестив и чакаше Утехата на Израил и Светият Дух беше на него.', 'Всичко е възможно за този, който вярва.', 'И видях височината на дома околовръст, основите на страничните стаи бяха една цяла тръстика от шест големи лакътя.', 'После да вземеш тлъстината на овена, опашката и тлъстината, която покрива вътрешностите, булото на дроба двата бъбрека с тлъстината, която е около тях и дясното бедро, защото е овен на посвещение и един хляб една пита хляб, месен с маслинено масло и една кора от коша на безквасните хлябове, които са пред ГОСПОДА.', 'И от дима излязоха скакалци по земята и им се даде власт като властта, която имат земните скорпиони.', 'Ти си, ГОСПОДИ, само Ти?', 'И ще предаде Израил заради греховете на Еровоам, с които съгреши и с които въведе Израил в грях.', 'Синове на Елифаз: Теман и Омар, Сефи и Готом Кенез, и Тамна и Амалик.', 'А гладът в Самария беше страшен.', 'Затова казах в сърцето си, че и това е суета.', 'Насладих се на сянката му и седнах, и плодът му бе сладък в устата ми.', 'Защото така ми каза ГОСПОД, Както ръмжи над лова си лъвът младият лъв срещу когото се свикват множество овчари и не се плаши от гласа им, и не се отдръпва пред шума им, така ГОСПОД на Войнствата, ще слезе за да воюва за хълма Сион и за неговото възвишение.', 'Отче, свети, опази ги в Името Си, което си Ми дал, за да бъдат едно, както сме и Ние.', 'И да правите разлика между чистите животни и нечистите и между нечистите птици и чистите и да не осквернявате себе си с животно, или с птица или с каквото и да е, което пълзи по земята, което Аз съм ви отделил като нечисто.', 'И ГОСПОД укрепи моавския цар Еглон против Израил, защото вършиха зло пред ГОСПОДА.', 'И Духът ми каза да отида с тях, без да се двоумя.', 'В двадесет и седмата година на израилевия цар Еровоам се възцари Азария, синът на юдовия цар Амасия.', 'Защото вашата послушност е известна на всички, затова се радвам за вас.', 'Той изтегля всички с въдица влачи ги в мрежата си и ги събира в рибарската си мрежа- затова се радва и се весели.', 'Благословен да е ГОСПОД Бог Богът на Израил, който единствен върши чудеса.', 'И които влязоха мъжко и женско от всяка плът, влязоха, както Бог му беше заповядал, и ГОСПОД затвори след него.', 'Тогава царят каза на Божия човек: Ела с мен у дома и се подкрепи и ще ти дам подарък.', 'И ето, въпреки че е посадена ще успее ли?', 'От дома Тогарма, даваха за стоките ти коне бойни коне и мулета.', 'Затова заповядай гробът да се пази здраво до третия ден да не би учениците Му да дойдат и да Го откраднат, и да кажат на народа Възкръсна от мъртвите.', 'И когато отвори петия печат, видях под олтара, душите на онези, които са били заклани за Божието слово и за свидетелството, което държаха.', 'И свещениците, които служат на ГОСПОДА са синовете на Аарон и левитите са в службата.', 'Той тича след тях с умолителни думи, но тях ги няма.', 'И измери дължината му четиридесет лакътя и ширината му- двадесет лакътя.', 'Затова, така казва ГОСПОД, Бог на Войнствата, Израилевият Бог: Ето, Аз ще докарам върху Юда и върху всичките ерусалимски жители цялото зло, което говорих против тях, защото им говорих, но не слушаха и ги виках, но не отговаряха.', 'Сине мой, слушай наставлението на баща си и не отхвърляй закона на майка си, защото те ще бъдат благодатен венец за главата ти и огърлица за шията ти.', 'Тогава облакът започна да се издига от града в димен стълб и Вениамин, се обърна и ето, целият град се издигаше в пламъци към небето.', 'В онзи ден няма да се срамуваш от всичките си дела, с които си отстъпил от Мен, защото тогава ще отнема отсред теб, твоите, които горделиво тържествуват и ти няма вече да се държиш надменно на светия Ми хълм.', 'А свинарите, като видяха станалото, избягаха и разказаха за това в града и в селата.', 'И Илий благослови Елкана и жена му и каза: ГОСПОД да ти даде потомство от тази жена, вместо заетото, което беше посветено на ГОСПОДА.', 'И ако живее във вас, Духът на Този, който възкреси Иисус от мъртвите то Този, който възкреси Христос от мъртвите ще съживи и вашите смъртни тела чрез Духа Си, който живее във вас.', 'А ГОСПОД си извърши, както беше говорил чрез мен и ГОСПОД откъсна царството от ръката ти и го даде на ближния ти на Давид.', 'Даде и храна, за магаретата им.', 'Книгата на видението на елкусеянина Наум.', 'И направи олтара за всеизгаряне от акациево дърво, пет лакътя беше дължината му и пет лакътя беше ширината му, четвъртит и три лакътя беше височината му.', 'Те ми казаха: Направи ни богове, които да ходят пред нас, защото на този Мойсей човека, който ни изведе от египетската земя не знаем какво му стана.', 'Тогава Мардохей каза да отговорят на Естир: Не мисли в себе си, че от всичките юдеи, само ти ще се избавиш в царския дом.', 'Но аз не бих познал греха освен чрез закона, защото не бих знаел пожелание, ако законът не беше казал: Не пожелавай.', 'Тогава народът Му си спомни за древните дни на Мойсей: Къде е Онзи, който ги изведе от морето с пастирите на стадото Си?', 'И три пъти в годината Соломон принасяше всеизгаряния и примирителни жертви върху олтара, който построи на ГОСПОДА и кадеше върху олтара, който беше пред ГОСПОДА.', 'И след като им поставиха старейшини във всяка църква и се помолиха с пост ги препоръчаха на Господа, в когото бяха повярвали.', 'С нея Той подейства в Христос, като Го възкреси от мъртвите и Го сложи да седне от дясната Си страна на небесата далеч над всяко началство и власт и сила и господство и всяко име, с което се наименуват не само в този свят, но и в бъдещия.', 'Стрелец срещу стрелец да опъва лъка си и срещу онзи, който се надига в бронята си.', 'Затова онази нива е, наречена и до днес Кръвна нива.', 'И така слугите на цар Езекия отидоха при Исая.', 'И никой свещеник да не пие вино, когато влиза във вътрешния двор.', 'И Охозия, падна през решетката на горната си, стая в Самария и се разболя.', 'Защо не разбирате Моето говорене?', 'А Лаван в отговор каза на Яков: Тези дъщери са мои дъщери и синовете са мои синове и стадата, са мои стада.', 'А чуждият, който се приближи да се умъртви.', 'И двамата сина на Илий, Офний и Финеес бяха там с ковчега на Божия завет.', 'Иисус му каза: Лисиците си имат леговища и небесните птици гнезда, а Човешкият Син няма къде глава да подслони.', 'От кръвта на убитите от тлъстината на силните, лъкът на Йонатан не се обръщаше назад и мечът на Саул не се връщаше празен.', 'Станах за присмех на целия си народ и за тяхна подигравателна песен цял ден.', 'Да учите на тях синовете си, като говорите за тях, когато седиш в къщата си, когато ходиш по пътя, когато лягаш и когато ставаш.', 'И ГОСПОД се разкая за злото, което беше казал, че ще направи на народа Си.', 'А Юда изпрати ярето чрез ръката на приятеля си одоламеца, за да вземе залога от ръката на жената, но той не я намери.', 'И царят заповяда и доведоха онези мъже, които бяха издали, Даниил, и хвърлиха тях децата им и жените им в рова на лъвовете и още преди да стигнат до дъното на рова, лъвовете ги сграбчиха и строшиха всичките им кости.', 'И Йоав и народът, който беше с него настъпиха за битката против арамейците; и те побягнаха пред него.', 'И като го повикаха Тертил започна да обвинява, като казваше: Понеже чрез теб честити Феликсе, се радваме на голямо спокойствие и понеже чрез твоята предвидливост има подобрения за този народ, то ние с пълна благодарност винаги и навсякъде посрещаме това.', 'Защото Йоан казваше на Ирод: Не ти е позволено да имаш жената на брат си.', 'А в първия ден на седмицата много рано сутринта те дойдоха на гроба, като носеха благоуханните масла, които бяха приготвили.', 'Ще бъде ли добре да ви изпита Той?', 'След това Яков каза на Лаван: Дай жена ми, защото дойде време да вляза при нея.', 'А посветените дарове бяха шестстотин говеда и три хиляди овце.', 'Кога ще се събудя за да продължа да го потърся пак.', 'Изнемогвам от викането си гърлото ми е пресъхнало очите ми чезнат, докато чакам своя Бог.', 'Това са родовете на Мерарий.', 'На следващия ден едно голямо множество, което беше дошло на празника, като чуха, че Иисус идвал в Ерусалим, взеха палмови клони и излязоха да Го посрещнат, викайки Осанна.', 'И той каза: Имам нещо да ти кажа.', 'Ако някой, който е престъпил закона на Мойсей умира безпощадно при думата на двама или трима свидетели, то колко по-тежко наказание мислите ще заслужи онзи, който е потъпкал Божия Син и е счел за просто нещо, кръвта на завета, с която е бил осветен и е оскърбил Духа на благодатта.', 'Върни се, сине мой, Давиде, защото няма вече да ти сторя зло, понеже днес животът ми беше скъпоценен пред очите ти!', 'Ще дойдат големци от Египет Етиопия бързо ще протегне ръцете си към Бога.', 'Затова хората Му се боят и Той не гледа на никого от мъдрите по сърце.', 'И Го следваше голямо множество от народ и жени, които плачеха за Него.', 'Ето ви семе засейте земята!', 'И Давид дойде във Ваал-Ферасим и Давид ги разби там, и каза: ГОСПОД разсече пред мен, враговете ми, както водите правят пролом.', 'Кадилниците на тези мъже, които съгрешиха против живота си, нека ги направят на плочи за обковаване на олтара, защото те ги принесоха пред ГОСПОДА и затова са свети и те ще бъдат за знамение на израилевите синове.', 'И когато фараонът отказваше да ни пусне, ГОСПОД, уби всяко първородно в египетската земя от първородно на човек до първородно на животно, затова жертвам на ГОСПОДА всяко първородно, което е мъжко, а всеки първороден от синовете си изкупувам.', 'А без вяра не е възможно да се угоди на Бога, защото, който идва при Бога, трябва да вярва, че Той съществува и че възнаграждава тези, които Го търсят.', 'И докато още говореше с тях, ето, пратеникът слезе при него и каза: Ето, това зло е от ГОСПОДА.', 'А вие сами ли ще продадете братята си?']\n"
     ]
    }
   ],
   "source": [
    "labels = list(crf.classes_)\n",
    "y_pred = crf.predict(X_dev_without_sent_len)\n",
    "print(metrics.flat_f1_score(y_dev, y_pred, average='weighted', labels=labels))\n",
    "print(metrics.flat_classification_report(y_dev, y_pred, labels=labels, digits=3))\n",
    "labels.remove('')\n",
    "print(metrics.flat_f1_score(y_dev, y_pred, average='weighted', labels=labels))\n",
    "print(metrics.flat_classification_report(y_dev, y_pred, labels=labels, digits=3))\n",
    "punctuated_sentences = punctuate(X_dev_without_sent_len, y_pred)\n",
    "print(punctuated_sentences[:100])"
   ]
  },
  {
   "cell_type": "code",
   "execution_count": 47,
   "id": "ddb893f4",
   "metadata": {},
   "outputs": [
    {
     "name": "stdout",
     "output_type": "stream",
     "text": [
      "CPU times: user 27min 49s, sys: 836 ms, total: 27min 50s\n",
      "Wall time: 27min 47s\n"
     ]
    }
   ],
   "source": [
    "%%time\n",
    "crf = sklearn_crfsuite.CRF(\n",
    "    algorithm='lbfgs',\n",
    "    c1=0.1,\n",
    "    c2=0.1,\n",
    "    max_iterations=100,\n",
    "    all_possible_transitions=True\n",
    ")\n",
    "crf.fit(X_train_without_pos, y_train)"
   ]
  },
  {
   "cell_type": "code",
   "execution_count": 48,
   "id": "ac57c2d2",
   "metadata": {},
   "outputs": [
    {
     "name": "stderr",
     "output_type": "stream",
     "text": [
      "/home/mariya/anaconda3/envs/masters/lib/python3.6/site-packages/sklearn/metrics/_classification.py:1465: UndefinedMetricWarning: F-score is ill-defined and being set to 0.0 in labels with no true nor predicted samples. Use `zero_division` parameter to control this behavior.\n",
      "  average, \"true nor predicted\", 'F-score is', len(true_sum)\n",
      "/home/mariya/anaconda3/envs/masters/lib/python3.6/site-packages/sklearn/utils/validation.py:70: FutureWarning: Pass labels=['', ':', '!', ',', '?', ';', '.', '-', ',(', '\"', '\").', '(', ')', '?-', '.-', ':)', '!-', ':\"', '.\"', ':(', '?)', '\"?', '\".', '\";', '\"-', ').', '!,', '-\"', ')!', '\",', '.\")', '!;', ';(', '),', '?;', '?\"', ');', '.)', '?,', ';\"', '):', '[', ']', '...', '],', '\"(', ',[', ',\"', ']\",', ')-', '\":', '(\"', '\"),', '\"-[', '...,', '\")', '..', '\",\"', '?\".', '\"[', '\"(\"', '),\"', '\"\"', '-.', '.,', '].', ')\"', '!\"', '?\"-', '\":\"', '):\"', '\")-', '\"-\"', '-,', ')\".', '?\",', ']\".', '!\",', ']?', '...[', '];', '...\".', '!\"-', '\"!', '!\".', '!?', '?!', ',-', '!...', '!).', ')?', '?...', '.?'] as keyword args. From version 0.25 passing these as positional arguments will result in an error\n",
      "  FutureWarning)\n"
     ]
    },
    {
     "name": "stdout",
     "output_type": "stream",
     "text": [
      "0.9386445886287452\n"
     ]
    },
    {
     "name": "stderr",
     "output_type": "stream",
     "text": [
      "/home/mariya/anaconda3/envs/masters/lib/python3.6/site-packages/sklearn/metrics/_classification.py:1221: UndefinedMetricWarning: Precision and F-score are ill-defined and being set to 0.0 in labels with no predicted samples. Use `zero_division` parameter to control this behavior.\n",
      "  _warn_prf(average, modifier, msg_start, len(result))\n",
      "/home/mariya/anaconda3/envs/masters/lib/python3.6/site-packages/sklearn/metrics/_classification.py:1221: UndefinedMetricWarning: Recall and F-score are ill-defined and being set to 0.0 in labels with no true samples. Use `zero_division` parameter to control this behavior.\n",
      "  _warn_prf(average, modifier, msg_start, len(result))\n"
     ]
    },
    {
     "name": "stdout",
     "output_type": "stream",
     "text": [
      "              precision    recall  f1-score   support\n",
      "\n",
      "                  0.958     0.990     0.974    227825\n",
      "           :      0.916     0.705     0.797       923\n",
      "           !      0.523     0.199     0.288       347\n",
      "           ,      0.807     0.630     0.708     18592\n",
      "           ?      0.870     0.679     0.763       443\n",
      "           ;      0.280     0.042     0.073       622\n",
      "           .      0.933     0.988     0.960     11401\n",
      "           -      0.591     0.100     0.171       882\n",
      "          ,(      0.000     0.000     0.000         5\n",
      "           \"      0.620     0.128     0.212      1596\n",
      "         \").      0.000     0.000     0.000         0\n",
      "           (      0.973     0.872     0.920      1656\n",
      "           )      0.879     0.831     0.855      1001\n",
      "          ?-      0.000     0.000     0.000         4\n",
      "          .-      0.000     0.000     0.000         2\n",
      "          :)      0.000     0.000     0.000         0\n",
      "          !-      0.000     0.000     0.000        20\n",
      "          :\"      0.667     0.090     0.158        67\n",
      "          .\"      0.333     0.043     0.077        23\n",
      "          :(      0.000     0.000     0.000         1\n",
      "          ?)      0.000     0.000     0.000         0\n",
      "          \"?      0.000     0.000     0.000         1\n",
      "          \".      0.575     0.078     0.138       293\n",
      "          \";      0.000     0.000     0.000         5\n",
      "          \"-      1.000     0.036     0.069        28\n",
      "          ).      0.972     0.911     0.941       271\n",
      "          !,      0.000     0.000     0.000         0\n",
      "          -\"      0.000     0.000     0.000         7\n",
      "          )!      0.000     0.000     0.000         1\n",
      "          \",      0.738     0.510     0.603       829\n",
      "         .\")      0.000     0.000     0.000         1\n",
      "          !;      0.000     0.000     0.000         1\n",
      "          ;(      0.000     0.000     0.000         0\n",
      "          ),      0.846     0.635     0.726       381\n",
      "          ?;      0.000     0.000     0.000         0\n",
      "          ?\"      0.000     0.000     0.000         0\n",
      "          );      0.000     0.000     0.000         0\n",
      "          .)      0.000     0.000     0.000         1\n",
      "          ?,      0.000     0.000     0.000         1\n",
      "          ;\"      0.000     0.000     0.000         0\n",
      "          ):      1.000     0.636     0.778        11\n",
      "           [      0.000     0.000     0.000        45\n",
      "           ]      0.000     0.000     0.000        43\n",
      "         ...      0.000     0.000     0.000        61\n",
      "          ],      0.000     0.000     0.000         3\n",
      "          \"(      0.692     0.290     0.409        31\n",
      "          ,[      0.000     0.000     0.000         1\n",
      "          ,\"      0.000     0.000     0.000        44\n",
      "         ]\",      0.000     0.000     0.000         5\n",
      "          )-      0.000     0.000     0.000        17\n",
      "          \":      0.000     0.000     0.000         0\n",
      "          (\"      0.000     0.000     0.000         0\n",
      "         \"),      0.000     0.000     0.000         1\n",
      "         \"-[      0.000     0.000     0.000         0\n",
      "        ...,      0.000     0.000     0.000         3\n",
      "          \")      0.000     0.000     0.000         2\n",
      "          ..      0.500     0.333     0.400         3\n",
      "         \",\"      0.000     0.000     0.000        10\n",
      "         ?\".      0.000     0.000     0.000         2\n",
      "          \"[      0.000     0.000     0.000         0\n",
      "         \"(\"      0.000     0.000     0.000         2\n",
      "         ),\"      0.000     0.000     0.000         2\n",
      "          \"\"      0.000     0.000     0.000         2\n",
      "          -.      0.000     0.000     0.000         0\n",
      "          .,      0.000     0.000     0.000         0\n",
      "          ].      0.000     0.000     0.000         2\n",
      "          )\"      0.000     0.000     0.000         0\n",
      "          !\"      0.000     0.000     0.000         0\n",
      "         ?\"-      0.000     0.000     0.000         2\n",
      "         \":\"      0.000     0.000     0.000         1\n",
      "         ):\"      0.000     0.000     0.000         0\n",
      "         \")-      0.000     0.000     0.000         1\n",
      "         \"-\"      0.000     0.000     0.000         0\n",
      "          -,      0.000     0.000     0.000         1\n",
      "         )\".      0.000     0.000     0.000         1\n",
      "         ?\",      0.000     0.000     0.000         1\n",
      "         ]\".      0.000     0.000     0.000         0\n",
      "         !\",      0.000     0.000     0.000         1\n",
      "          ]?      0.000     0.000     0.000         0\n",
      "        ...[      0.000     0.000     0.000         2\n",
      "          ];      0.000     0.000     0.000         0\n",
      "       ...\".      0.000     0.000     0.000         0\n",
      "         !\"-      0.000     0.000     0.000         2\n",
      "          \"!      0.000     0.000     0.000         0\n",
      "         !\".      0.000     0.000     0.000         3\n",
      "          !?      0.000     0.000     0.000         0\n",
      "          ?!      0.000     0.000     0.000         0\n",
      "          ,-      0.000     0.000     0.000         4\n",
      "        !...      0.000     0.000     0.000         1\n",
      "         !).      0.000     0.000     0.000         0\n",
      "          )?      0.000     0.000     0.000         3\n",
      "        ?...      0.000     0.000     0.000         0\n",
      "          .?      0.000     0.000     0.000         0\n",
      "\n",
      "   micro avg      0.946     0.946     0.946    267543\n",
      "   macro avg      0.169     0.105     0.118    267543\n",
      "weighted avg      0.938     0.946     0.939    267543\n",
      "\n",
      "0.7375251029128395\n"
     ]
    },
    {
     "name": "stderr",
     "output_type": "stream",
     "text": [
      "/home/mariya/anaconda3/envs/masters/lib/python3.6/site-packages/sklearn/utils/validation.py:70: FutureWarning: Pass labels=[':', '!', ',', '?', ';', '.', '-', ',(', '\"', '\").', '(', ')', '?-', '.-', ':)', '!-', ':\"', '.\"', ':(', '?)', '\"?', '\".', '\";', '\"-', ').', '!,', '-\"', ')!', '\",', '.\")', '!;', ';(', '),', '?;', '?\"', ');', '.)', '?,', ';\"', '):', '[', ']', '...', '],', '\"(', ',[', ',\"', ']\",', ')-', '\":', '(\"', '\"),', '\"-[', '...,', '\")', '..', '\",\"', '?\".', '\"[', '\"(\"', '),\"', '\"\"', '-.', '.,', '].', ')\"', '!\"', '?\"-', '\":\"', '):\"', '\")-', '\"-\"', '-,', ')\".', '?\",', ']\".', '!\",', ']?', '...[', '];', '...\".', '!\"-', '\"!', '!\".', '!?', '?!', ',-', '!...', '!).', ')?', '?...', '.?'] as keyword args. From version 0.25 passing these as positional arguments will result in an error\n",
      "  FutureWarning)\n"
     ]
    },
    {
     "name": "stdout",
     "output_type": "stream",
     "text": [
      "              precision    recall  f1-score   support\n",
      "\n",
      "           :      0.916     0.705     0.797       923\n",
      "           !      0.523     0.199     0.288       347\n",
      "           ,      0.807     0.630     0.708     18592\n",
      "           ?      0.870     0.679     0.763       443\n",
      "           ;      0.280     0.042     0.073       622\n",
      "           .      0.933     0.988     0.960     11401\n",
      "           -      0.591     0.100     0.171       882\n",
      "          ,(      0.000     0.000     0.000         5\n",
      "           \"      0.620     0.128     0.212      1596\n",
      "         \").      0.000     0.000     0.000         0\n",
      "           (      0.973     0.872     0.920      1656\n",
      "           )      0.879     0.831     0.855      1001\n",
      "          ?-      0.000     0.000     0.000         4\n",
      "          .-      0.000     0.000     0.000         2\n",
      "          :)      0.000     0.000     0.000         0\n",
      "          !-      0.000     0.000     0.000        20\n",
      "          :\"      0.667     0.090     0.158        67\n",
      "          .\"      0.333     0.043     0.077        23\n",
      "          :(      0.000     0.000     0.000         1\n",
      "          ?)      0.000     0.000     0.000         0\n",
      "          \"?      0.000     0.000     0.000         1\n",
      "          \".      0.575     0.078     0.138       293\n",
      "          \";      0.000     0.000     0.000         5\n",
      "          \"-      1.000     0.036     0.069        28\n",
      "          ).      0.972     0.911     0.941       271\n",
      "          !,      0.000     0.000     0.000         0\n",
      "          -\"      0.000     0.000     0.000         7\n",
      "          )!      0.000     0.000     0.000         1\n",
      "          \",      0.738     0.510     0.603       829\n",
      "         .\")      0.000     0.000     0.000         1\n",
      "          !;      0.000     0.000     0.000         1\n",
      "          ;(      0.000     0.000     0.000         0\n",
      "          ),      0.846     0.635     0.726       381\n",
      "          ?;      0.000     0.000     0.000         0\n",
      "          ?\"      0.000     0.000     0.000         0\n",
      "          );      0.000     0.000     0.000         0\n",
      "          .)      0.000     0.000     0.000         1\n",
      "          ?,      0.000     0.000     0.000         1\n",
      "          ;\"      0.000     0.000     0.000         0\n",
      "          ):      1.000     0.636     0.778        11\n",
      "           [      0.000     0.000     0.000        45\n",
      "           ]      0.000     0.000     0.000        43\n",
      "         ...      0.000     0.000     0.000        61\n",
      "          ],      0.000     0.000     0.000         3\n",
      "          \"(      0.692     0.290     0.409        31\n",
      "          ,[      0.000     0.000     0.000         1\n",
      "          ,\"      0.000     0.000     0.000        44\n",
      "         ]\",      0.000     0.000     0.000         5\n",
      "          )-      0.000     0.000     0.000        17\n",
      "          \":      0.000     0.000     0.000         0\n",
      "          (\"      0.000     0.000     0.000         0\n",
      "         \"),      0.000     0.000     0.000         1\n",
      "         \"-[      0.000     0.000     0.000         0\n",
      "        ...,      0.000     0.000     0.000         3\n",
      "          \")      0.000     0.000     0.000         2\n",
      "          ..      0.500     0.333     0.400         3\n",
      "         \",\"      0.000     0.000     0.000        10\n",
      "         ?\".      0.000     0.000     0.000         2\n",
      "          \"[      0.000     0.000     0.000         0\n",
      "         \"(\"      0.000     0.000     0.000         2\n",
      "         ),\"      0.000     0.000     0.000         2\n",
      "          \"\"      0.000     0.000     0.000         2\n",
      "          -.      0.000     0.000     0.000         0\n",
      "          .,      0.000     0.000     0.000         0\n",
      "          ].      0.000     0.000     0.000         2\n",
      "          )\"      0.000     0.000     0.000         0\n",
      "          !\"      0.000     0.000     0.000         0\n",
      "         ?\"-      0.000     0.000     0.000         2\n",
      "         \":\"      0.000     0.000     0.000         1\n",
      "         ):\"      0.000     0.000     0.000         0\n",
      "         \")-      0.000     0.000     0.000         1\n",
      "         \"-\"      0.000     0.000     0.000         0\n",
      "          -,      0.000     0.000     0.000         1\n",
      "         )\".      0.000     0.000     0.000         1\n",
      "         ?\",      0.000     0.000     0.000         1\n",
      "         ]\".      0.000     0.000     0.000         0\n",
      "         !\",      0.000     0.000     0.000         1\n",
      "          ]?      0.000     0.000     0.000         0\n",
      "        ...[      0.000     0.000     0.000         2\n",
      "          ];      0.000     0.000     0.000         0\n",
      "       ...\".      0.000     0.000     0.000         0\n",
      "         !\"-      0.000     0.000     0.000         2\n",
      "          \"!      0.000     0.000     0.000         0\n",
      "         !\".      0.000     0.000     0.000         3\n",
      "          !?      0.000     0.000     0.000         0\n",
      "          ?!      0.000     0.000     0.000         0\n",
      "          ,-      0.000     0.000     0.000         4\n",
      "        !...      0.000     0.000     0.000         1\n",
      "         !).      0.000     0.000     0.000         0\n",
      "          )?      0.000     0.000     0.000         3\n",
      "        ?...      0.000     0.000     0.000         0\n",
      "          .?      0.000     0.000     0.000         0\n",
      "\n",
      "   micro avg      0.862     0.694     0.769     39718\n",
      "   macro avg      0.160     0.095     0.109     39718\n",
      "weighted avg      0.824     0.694     0.738     39718\n",
      "\n",
      "['Но синовете им не умъртви, защото постъпи според писаното в закона в книгата на Мойсей, където ГОСПОД заповяда и каза: Бащите да не умират заради синовете и синовете да не умират заради бащите, а всеки да умира за собствения си грях.', 'Но когато ти говоря ще отворя устата ти и ти им кажи: Така казва Господ БОГ: Който слуша, нека слуша, а който не слуша, нека не слуша, защото са бунтовен дом.', 'Защото кой е по-голям този, който седи на трапезата ли или онзи, който слугува?', 'А след това ще се насели, както в предишните дни, заявява ГОСПОД.', 'А Той беше на задната част, заспал на възглавница.', 'Ефрем е като птица славата му ще отлети.', 'И така той си отиде от него на известно разстояние.', 'Не бягам при халдейците.', 'И израилевите синове излязоха от египетската земя строени.', 'А когато Ахитофел видя, че съветът му не се изпълни оседла магарето си и стана и отиде у дома си в своя град и нареди домашните си работи и се обеси.', 'Ако умре някое животно от добитъка, който можете да ядете, който се допре до мършата му ще бъде нечист до вечерта.', 'Но помощник съответен на Адам не се намери.', 'Който задържа жито, народът ще го проклина, а благословение ще почива на главата на този, който го продава.', 'Този човек беше праведен и благочестив и чакаше Утехата на Израил и Светият Дух беше на него.', 'Всичко е възможно за този, който вярва.', 'И видях височината на дома околовръст основите на страничните стаи бяха една цяла тръстика от шест големи лакътя.', 'После да вземеш тлъстината на овена, опашката и тлъстината, която покрива вътрешностите, булото на дроба двата бъбрека с тлъстината, която е около тях и дясното бедро, защото е овен на посвещение и един хляб, една пита хляб, месен с маслинено масло и една кора от коша на безквасните хлябове, които са пред ГОСПОДА.', 'И от дима излязоха скакалци по земята и им се даде власт като властта, която имат земните скорпиони.', 'Ти си, ГОСПОДИ, само Ти!', 'И ще предаде Израил заради греховете на Еровоам, с които съгреши и с които въведе Израил в грях.', 'Синове на Елифаз: Теман и Омар, Сефи и Готом Кенез, и Тамна и Амалик.', 'А гладът в Самария беше страшен.', 'Затова казах в сърцето си, че и това е суета.', 'Насладих се на сянката му и седнах и плодът му бе сладък в устата ми.', 'Защото така ми каза ГОСПОД, Както ръмжи над лова си, лъвът младият лъв срещу когото се свикват множество овчари и не се плаши от гласа им, и не се отдръпва пред шума им, така ГОСПОД на Войнствата, ще слезе за да воюва за хълма Сион и за неговото възвишение.', 'Отче, свети, опази ги в Името Си, което си Ми дал за да бъдат едно, както сме и Ние.', 'И да правите разлика между чистите животни и нечистите и между нечистите птици и чистите и да не осквернявате себе си с животно, или с птица или с каквото и да е, което пълзи по земята, което Аз съм ви отделил като нечисто.', 'И ГОСПОД укрепи моавския цар Еглон против Израил, защото вършиха зло пред ГОСПОДА.', 'И Духът ми каза да отида с тях, без да се двоумя.', 'В двадесет и седмата година на израилевия цар Еровоам се възцари Азария, синът на юдовия цар Амасия.', 'Защото вашата послушност е известна на всички, затова се радвам за вас.', 'Той изтегля всички с въдица влачи ги в мрежата си и ги събира в рибарската си мрежа- затова се радва и се весели.', 'Благословен да е ГОСПОД Бог Богът на Израил, който единствен върши чудеса.', 'И които влязоха мъжко и женско от всяка плът, влязоха, както Бог му беше заповядал, и ГОСПОД затвори след него.', 'Тогава царят каза на Божия човек: Ела с мен у дома и се подкрепи и ще ти дам подарък.', 'И ето, въпреки че е посадена ще успее ли?', 'От дома Тогарма, даваха за стоките ти коне бойни коне и мулета.', 'Затова заповядай гробът да се пази здраво до третия ден да не би учениците Му да дойдат и да Го откраднат, и да кажат на народа Възкръсна от мъртвите.', 'И когато отвори петия печат видях под олтара, душите на онези, които са били заклани за Божието слово и за свидетелството, което държаха.', 'И свещениците, които служат на ГОСПОДА са синовете на Аарон и левитите са в службата.', 'Той тича след тях с умолителни думи, но тях ги няма.', 'И измери дължината му четиридесет лакътя и ширината му- двадесет лакътя.', 'Затова, така казва ГОСПОД Бог на Войнствата, Израилевият Бог: Ето, Аз ще докарам върху Юда и върху всичките ерусалимски жители цялото зло, което говорих против тях, защото им говорих, но не слушаха и ги виках, но не отговаряха.', 'Сине мой, слушай наставлението на баща си и не отхвърляй закона на майка си, защото те ще бъдат благодатен венец за главата ти и огърлица за шията ти.', 'Тогава облакът започна да се издига от града в димен стълб и Вениамин се обърна и ето, целият град се издигаше в пламъци към небето.', 'В онзи ден няма да се срамуваш от всичките си дела, с които си отстъпил от Мен, защото тогава ще отнема отсред теб, твоите, които горделиво тържествуват и ти няма вече да се държиш надменно на светия Ми хълм.', 'А свинарите, като видяха станалото, избягаха и разказаха за това в града и в селата.', 'И Илий благослови Елкана и жена му и каза: ГОСПОД да ти даде потомство от тази жена, вместо заетото, което беше посветено на ГОСПОДА.', 'И ако живее във вас, Духът на Този, който възкреси Иисус от мъртвите то Този, който възкреси Христос от мъртвите ще съживи и вашите смъртни тела чрез Духа Си, който живее във вас.', 'А ГОСПОД си извърши, както беше говорил чрез мен и ГОСПОД откъсна царството от ръката ти и го даде на ближния ти на Давид.', 'Даде и храна за магаретата им.', 'Книгата на видението на елкусеянина Наум.', 'И направи олтара за всеизгаряне от акациево дърво, пет лакътя беше дължината му и пет лакътя беше ширината му; четвъртит и три лакътя беше височината му.', 'Те ми казаха: Направи ни богове, които да ходят пред нас, защото на този Мойсей човека, който ни изведе от египетската земя не знаем какво му стана.', 'Тогава Мардохей каза да отговорят на Естир: Не мисли в себе си, че от всичките юдеи само ти ще се избавиш в царския дом.', 'Но аз не бих познал греха освен чрез закона, защото не бих знаел пожелание, ако законът не беше казал: Не пожелавай.', 'Тогава народът Му си спомни за древните дни на Мойсей: Къде е Онзи, който ги изведе от морето с пастирите на стадото Си?', 'И три пъти в годината Соломон принасяше всеизгаряния и примирителни жертви върху олтара, който построи на ГОСПОДА и кадеше върху олтара, който беше пред ГОСПОДА.', 'И след като им поставиха старейшини във всяка църква и се помолиха с пост ги препоръчаха на Господа, в когото бяха повярвали.', 'С нея Той подейства в Христос, като Го възкреси от мъртвите и Го сложи да седне от дясната Си страна на небесата далеч над всяко началство и власт и сила и господство и всяко име, с което се наименуват не само в този свят, но и в бъдещия.', 'Стрелец срещу стрелец да опъва лъка си и срещу онзи, който се надига в бронята си.', 'Затова онази нива е, наречена и до днес Кръвна нива.', 'И така слугите на цар Езекия отидоха при Исая.', 'И никой свещеник да не пие вино, когато влиза във вътрешния двор.', 'И Охозия, падна през решетката на горната си, стая в Самария и се разболя.', 'Защо не разбирате Моето говорене?', 'А Лаван в отговор каза на Яков: Тези дъщери са мои дъщери и синовете са мои синове и стадата, са мои стада.', 'А чуждият, който се приближи да се умъртви.', 'И двамата сина на Илий, Офний и Финеес бяха там с ковчега на Божия завет.', 'Иисус му каза: Лисиците си имат леговища и небесните птици гнезда, а Човешкият Син няма къде глава да подслони.', 'От кръвта на убитите от тлъстината на силните лъкът на Йонатан не се обръщаше назад и мечът на Саул не се връщаше празен.', 'Станах за присмех на целия си народ и за тяхна подигравателна песен цял ден.', 'Да учите на тях синовете си, като говорите за тях, когато седиш в къщата си, когато ходиш по пътя, когато лягаш и когато ставаш.', 'И ГОСПОД се разкая за злото, което беше казал, че ще направи на народа Си.', 'А Юда изпрати ярето чрез ръката на приятеля си одоламеца, за да вземе залога от ръката на жената, но той не я намери.', 'И царят заповяда и доведоха онези мъже, които бяха издали, Даниил, и хвърлиха тях децата им и жените им в рова на лъвовете и още преди да стигнат до дъното на рова лъвовете ги сграбчиха и строшиха всичките им кости.', 'И Йоав и народът, който беше с него настъпиха за битката против арамейците; и те побягнаха пред него.', 'И като го повикаха Тертил, започна да обвинява като казваше: Понеже чрез теб честити Феликсе, се радваме на голямо спокойствие и понеже чрез твоята предвидливост има подобрения за този народ, то ние с пълна благодарност винаги и навсякъде посрещаме това.', 'Защото Йоан казваше на Ирод: Не ти е позволено да имаш жената на брат си.', 'А в първия ден на седмицата много рано сутринта те дойдоха на гроба, като носеха благоуханните масла, които бяха приготвили.', 'Ще бъде ли добре да ви изпита Той?', 'След това Яков каза на Лаван: Дай жена ми, защото дойде време да вляза при нея.', 'А посветените дарове бяха шестстотин говеда и три хиляди овце.', 'Кога ще се събудя за да продължа да го потърся пак.', 'Изнемогвам от викането си гърлото ми е пресъхнало очите ми чезнат, докато чакам своя Бог.', 'Това са родовете на Мерарий.', 'На следващия ден едно голямо множество, което беше дошло на празника, като чуха, че Иисус идвал в Ерусалим, взеха палмови клони и излязоха да Го посрещнат, викайки Осанна.', 'И той каза: Имам нещо да ти кажа.', 'Ако някой, който е престъпил закона на Мойсей умира безпощадно при думата на двама или трима свидетели, то колко по-тежко наказание мислите ще заслужи онзи, който е потъпкал Божия Син и е счел за просто нещо, кръвта на завета, с която е бил осветен и е оскърбил Духа на благодатта.', 'Върни се, сине мой, Давиде, защото няма вече да ти сторя зло, понеже днес животът ми беше скъпоценен пред очите ти!', 'Ще дойдат големци от Египет, Етиопия бързо ще протегне ръцете си към Бога.', 'Затова хората Му се боят и Той не гледа на никого от мъдрите по сърце.', 'И Го следваше голямо множество от народ и жени, които плачеха за Него.', 'Ето ви семе засейте земята!', 'И Давид дойде във Ваал-Ферасим и Давид ги разби там, и каза ГОСПОД разсече пред мен враговете ми, както водите правят пролом.', 'Кадилниците на тези мъже, които съгрешиха против живота си, нека ги направят на плочи за обковаване на олтара, защото те ги принесоха пред ГОСПОДА и затова са свети и те ще бъдат за знамение на израилевите синове.', 'И когато фараонът отказваше да ни пусне, ГОСПОД, уби всяко първородно в египетската земя от първородно на човек до първородно на животно, затова жертвам на ГОСПОДА всяко първородно, което е мъжко, а всеки първороден от синовете си изкупувам.', 'А без вяра не е възможно да се угоди на Бога, защото, който идва при Бога, трябва да вярва, че Той съществува и че възнаграждава тези, които Го търсят.', 'И докато още говореше с тях, ето, пратеникът слезе при него и каза: Ето, това зло е от ГОСПОДА.', 'А вие сами ли ще продадете братята си?']\n"
     ]
    }
   ],
   "source": [
    "labels = list(crf.classes_)\n",
    "y_pred = crf.predict(X_dev_without_pos)\n",
    "print(metrics.flat_f1_score(y_dev, y_pred, average='weighted', labels=labels))\n",
    "print(metrics.flat_classification_report(y_dev, y_pred, labels=labels, digits=3))\n",
    "labels.remove('')\n",
    "print(metrics.flat_f1_score(y_dev, y_pred, average='weighted', labels=labels))\n",
    "print(metrics.flat_classification_report(y_dev, y_pred, labels=labels, digits=3))\n",
    "punctuated_sentences = punctuate(X_dev_without_pos, y_pred)\n",
    "print(punctuated_sentences[:100])"
   ]
  },
  {
   "cell_type": "code",
   "execution_count": 49,
   "id": "336dcd21",
   "metadata": {},
   "outputs": [
    {
     "name": "stdout",
     "output_type": "stream",
     "text": [
      "CPU times: user 26min 55s, sys: 721 ms, total: 26min 56s\n",
      "Wall time: 26min 53s\n"
     ]
    }
   ],
   "source": [
    "%%time\n",
    "crf = sklearn_crfsuite.CRF(\n",
    "    algorithm='lbfgs',\n",
    "    c1=0.1,\n",
    "    c2=0.1,\n",
    "    max_iterations=100,\n",
    "    all_possible_transitions=True\n",
    ")\n",
    "crf.fit(X_train_without_upos, y_train)"
   ]
  },
  {
   "cell_type": "code",
   "execution_count": 50,
   "id": "52692e7b",
   "metadata": {},
   "outputs": [
    {
     "name": "stderr",
     "output_type": "stream",
     "text": [
      "/home/mariya/anaconda3/envs/masters/lib/python3.6/site-packages/sklearn/metrics/_classification.py:1465: UndefinedMetricWarning: F-score is ill-defined and being set to 0.0 in labels with no true nor predicted samples. Use `zero_division` parameter to control this behavior.\n",
      "  average, \"true nor predicted\", 'F-score is', len(true_sum)\n",
      "/home/mariya/anaconda3/envs/masters/lib/python3.6/site-packages/sklearn/utils/validation.py:70: FutureWarning: Pass labels=['', ':', '!', ',', '?', ';', '.', '-', ',(', '\"', '\").', '(', ')', '?-', '.-', ':)', '!-', ':\"', '.\"', ':(', '?)', '\"?', '\".', '\";', '\"-', ').', '!,', '-\"', ')!', '\",', '.\")', '!;', ';(', '),', '?;', '?\"', ');', '.)', '?,', ';\"', '):', '[', ']', '...', '],', '\"(', ',[', ',\"', ']\",', ')-', '\":', '(\"', '\"),', '\"-[', '...,', '\")', '..', '\",\"', '?\".', '\"[', '\"(\"', '),\"', '\"\"', '-.', '.,', '].', ')\"', '!\"', '?\"-', '\":\"', '):\"', '\")-', '\"-\"', '-,', ')\".', '?\",', ']\".', '!\",', ']?', '...[', '];', '...\".', '!\"-', '\"!', '!\".', '!?', '?!', ',-', '!...', '!).', ')?', '?...', '.?'] as keyword args. From version 0.25 passing these as positional arguments will result in an error\n",
      "  FutureWarning)\n"
     ]
    },
    {
     "name": "stdout",
     "output_type": "stream",
     "text": [
      "0.9388912093385249\n"
     ]
    },
    {
     "name": "stderr",
     "output_type": "stream",
     "text": [
      "/home/mariya/anaconda3/envs/masters/lib/python3.6/site-packages/sklearn/metrics/_classification.py:1221: UndefinedMetricWarning: Precision and F-score are ill-defined and being set to 0.0 in labels with no predicted samples. Use `zero_division` parameter to control this behavior.\n",
      "  _warn_prf(average, modifier, msg_start, len(result))\n",
      "/home/mariya/anaconda3/envs/masters/lib/python3.6/site-packages/sklearn/metrics/_classification.py:1221: UndefinedMetricWarning: Recall and F-score are ill-defined and being set to 0.0 in labels with no true samples. Use `zero_division` parameter to control this behavior.\n",
      "  _warn_prf(average, modifier, msg_start, len(result))\n"
     ]
    },
    {
     "name": "stdout",
     "output_type": "stream",
     "text": [
      "              precision    recall  f1-score   support\n",
      "\n",
      "                  0.959     0.989     0.974    227825\n",
      "           :      0.915     0.711     0.800       923\n",
      "           !      0.522     0.202     0.291       347\n",
      "           ,      0.797     0.640     0.710     18592\n",
      "           ?      0.860     0.679     0.759       443\n",
      "           ;      0.237     0.045     0.076       622\n",
      "           .      0.934     0.988     0.960     11401\n",
      "           -      0.574     0.101     0.172       882\n",
      "          ,(      0.000     0.000     0.000         5\n",
      "           \"      0.614     0.128     0.212      1596\n",
      "         \").      0.000     0.000     0.000         0\n",
      "           (      0.968     0.869     0.916      1656\n",
      "           )      0.874     0.829     0.851      1001\n",
      "          ?-      0.143     0.250     0.182         4\n",
      "          .-      0.000     0.000     0.000         2\n",
      "          :)      0.000     0.000     0.000         0\n",
      "          !-      0.000     0.000     0.000        20\n",
      "          :\"      0.700     0.104     0.182        67\n",
      "          .\"      0.333     0.043     0.077        23\n",
      "          :(      0.000     0.000     0.000         1\n",
      "          ?)      0.000     0.000     0.000         0\n",
      "          \"?      0.000     0.000     0.000         1\n",
      "          \".      0.615     0.082     0.145       293\n",
      "          \";      0.000     0.000     0.000         5\n",
      "          \"-      0.000     0.000     0.000        28\n",
      "          ).      0.969     0.911     0.939       271\n",
      "          !,      0.000     0.000     0.000         0\n",
      "          -\"      0.000     0.000     0.000         7\n",
      "          )!      1.000     1.000     1.000         1\n",
      "          \",      0.747     0.540     0.627       829\n",
      "         .\")      0.000     0.000     0.000         1\n",
      "          !;      0.000     0.000     0.000         1\n",
      "          ;(      0.000     0.000     0.000         0\n",
      "          ),      0.848     0.630     0.723       381\n",
      "          ?;      0.000     0.000     0.000         0\n",
      "          ?\"      0.000     0.000     0.000         0\n",
      "          );      0.000     0.000     0.000         0\n",
      "          .)      0.000     0.000     0.000         1\n",
      "          ?,      0.000     0.000     0.000         1\n",
      "          ;\"      0.000     0.000     0.000         0\n",
      "          ):      1.000     0.636     0.778        11\n",
      "           [      0.000     0.000     0.000        45\n",
      "           ]      0.000     0.000     0.000        43\n",
      "         ...      0.000     0.000     0.000        61\n",
      "          ],      0.000     0.000     0.000         3\n",
      "          \"(      0.583     0.226     0.326        31\n",
      "          ,[      0.000     0.000     0.000         1\n",
      "          ,\"      0.000     0.000     0.000        44\n",
      "         ]\",      0.000     0.000     0.000         5\n",
      "          )-      0.000     0.000     0.000        17\n",
      "          \":      0.000     0.000     0.000         0\n",
      "          (\"      0.000     0.000     0.000         0\n",
      "         \"),      0.000     0.000     0.000         1\n",
      "         \"-[      0.000     0.000     0.000         0\n",
      "        ...,      0.000     0.000     0.000         3\n",
      "          \")      0.000     0.000     0.000         2\n",
      "          ..      0.500     0.333     0.400         3\n",
      "         \",\"      0.000     0.000     0.000        10\n",
      "         ?\".      0.000     0.000     0.000         2\n",
      "          \"[      0.000     0.000     0.000         0\n",
      "         \"(\"      0.000     0.000     0.000         2\n",
      "         ),\"      0.000     0.000     0.000         2\n",
      "          \"\"      0.000     0.000     0.000         2\n",
      "          -.      0.000     0.000     0.000         0\n",
      "          .,      0.000     0.000     0.000         0\n",
      "          ].      0.000     0.000     0.000         2\n",
      "          )\"      0.000     0.000     0.000         0\n",
      "          !\"      0.000     0.000     0.000         0\n",
      "         ?\"-      0.000     0.000     0.000         2\n",
      "         \":\"      0.000     0.000     0.000         1\n",
      "         ):\"      0.000     0.000     0.000         0\n",
      "         \")-      0.000     0.000     0.000         1\n",
      "         \"-\"      0.000     0.000     0.000         0\n",
      "          -,      0.000     0.000     0.000         1\n",
      "         )\".      0.000     0.000     0.000         1\n",
      "         ?\",      0.000     0.000     0.000         1\n",
      "         ]\".      0.000     0.000     0.000         0\n",
      "         !\",      0.000     0.000     0.000         1\n",
      "          ]?      0.000     0.000     0.000         0\n",
      "        ...[      0.000     0.000     0.000         2\n",
      "          ];      0.000     0.000     0.000         0\n",
      "       ...\".      0.000     0.000     0.000         0\n",
      "         !\"-      0.000     0.000     0.000         2\n",
      "          \"!      0.000     0.000     0.000         0\n",
      "         !\".      0.000     0.000     0.000         3\n",
      "          !?      0.000     0.000     0.000         0\n",
      "          ?!      0.000     0.000     0.000         0\n",
      "          ,-      0.000     0.000     0.000         4\n",
      "        !...      0.000     0.000     0.000         1\n",
      "         !).      0.000     0.000     0.000         0\n",
      "          )?      0.000     0.000     0.000         3\n",
      "        ?...      0.000     0.000     0.000         0\n",
      "          .?      0.000     0.000     0.000         0\n",
      "\n",
      "   micro avg      0.946     0.946     0.946    267543\n",
      "   macro avg      0.169     0.118     0.130    267543\n",
      "weighted avg      0.938     0.946     0.939    267543\n",
      "\n",
      "0.7390215348033173\n"
     ]
    },
    {
     "name": "stderr",
     "output_type": "stream",
     "text": [
      "/home/mariya/anaconda3/envs/masters/lib/python3.6/site-packages/sklearn/utils/validation.py:70: FutureWarning: Pass labels=[':', '!', ',', '?', ';', '.', '-', ',(', '\"', '\").', '(', ')', '?-', '.-', ':)', '!-', ':\"', '.\"', ':(', '?)', '\"?', '\".', '\";', '\"-', ').', '!,', '-\"', ')!', '\",', '.\")', '!;', ';(', '),', '?;', '?\"', ');', '.)', '?,', ';\"', '):', '[', ']', '...', '],', '\"(', ',[', ',\"', ']\",', ')-', '\":', '(\"', '\"),', '\"-[', '...,', '\")', '..', '\",\"', '?\".', '\"[', '\"(\"', '),\"', '\"\"', '-.', '.,', '].', ')\"', '!\"', '?\"-', '\":\"', '):\"', '\")-', '\"-\"', '-,', ')\".', '?\",', ']\".', '!\",', ']?', '...[', '];', '...\".', '!\"-', '\"!', '!\".', '!?', '?!', ',-', '!...', '!).', ')?', '?...', '.?'] as keyword args. From version 0.25 passing these as positional arguments will result in an error\n",
      "  FutureWarning)\n"
     ]
    },
    {
     "name": "stdout",
     "output_type": "stream",
     "text": [
      "              precision    recall  f1-score   support\n",
      "\n",
      "           :      0.915     0.711     0.800       923\n",
      "           !      0.522     0.202     0.291       347\n",
      "           ,      0.797     0.640     0.710     18592\n",
      "           ?      0.860     0.679     0.759       443\n",
      "           ;      0.237     0.045     0.076       622\n",
      "           .      0.934     0.988     0.960     11401\n",
      "           -      0.574     0.101     0.172       882\n",
      "          ,(      0.000     0.000     0.000         5\n",
      "           \"      0.614     0.128     0.212      1596\n",
      "         \").      0.000     0.000     0.000         0\n",
      "           (      0.968     0.869     0.916      1656\n",
      "           )      0.874     0.829     0.851      1001\n",
      "          ?-      0.143     0.250     0.182         4\n",
      "          .-      0.000     0.000     0.000         2\n",
      "          :)      0.000     0.000     0.000         0\n",
      "          !-      0.000     0.000     0.000        20\n",
      "          :\"      0.700     0.104     0.182        67\n",
      "          .\"      0.333     0.043     0.077        23\n",
      "          :(      0.000     0.000     0.000         1\n",
      "          ?)      0.000     0.000     0.000         0\n",
      "          \"?      0.000     0.000     0.000         1\n",
      "          \".      0.615     0.082     0.145       293\n",
      "          \";      0.000     0.000     0.000         5\n",
      "          \"-      0.000     0.000     0.000        28\n",
      "          ).      0.969     0.911     0.939       271\n",
      "          !,      0.000     0.000     0.000         0\n",
      "          -\"      0.000     0.000     0.000         7\n",
      "          )!      1.000     1.000     1.000         1\n",
      "          \",      0.747     0.540     0.627       829\n",
      "         .\")      0.000     0.000     0.000         1\n",
      "          !;      0.000     0.000     0.000         1\n",
      "          ;(      0.000     0.000     0.000         0\n",
      "          ),      0.848     0.630     0.723       381\n",
      "          ?;      0.000     0.000     0.000         0\n",
      "          ?\"      0.000     0.000     0.000         0\n",
      "          );      0.000     0.000     0.000         0\n",
      "          .)      0.000     0.000     0.000         1\n",
      "          ?,      0.000     0.000     0.000         1\n",
      "          ;\"      0.000     0.000     0.000         0\n",
      "          ):      1.000     0.636     0.778        11\n",
      "           [      0.000     0.000     0.000        45\n",
      "           ]      0.000     0.000     0.000        43\n",
      "         ...      0.000     0.000     0.000        61\n",
      "          ],      0.000     0.000     0.000         3\n",
      "          \"(      0.583     0.226     0.326        31\n",
      "          ,[      0.000     0.000     0.000         1\n",
      "          ,\"      0.000     0.000     0.000        44\n",
      "         ]\",      0.000     0.000     0.000         5\n",
      "          )-      0.000     0.000     0.000        17\n",
      "          \":      0.000     0.000     0.000         0\n",
      "          (\"      0.000     0.000     0.000         0\n",
      "         \"),      0.000     0.000     0.000         1\n",
      "         \"-[      0.000     0.000     0.000         0\n",
      "        ...,      0.000     0.000     0.000         3\n",
      "          \")      0.000     0.000     0.000         2\n",
      "          ..      0.500     0.333     0.400         3\n",
      "         \",\"      0.000     0.000     0.000        10\n",
      "         ?\".      0.000     0.000     0.000         2\n",
      "          \"[      0.000     0.000     0.000         0\n",
      "         \"(\"      0.000     0.000     0.000         2\n",
      "         ),\"      0.000     0.000     0.000         2\n",
      "          \"\"      0.000     0.000     0.000         2\n",
      "          -.      0.000     0.000     0.000         0\n",
      "          .,      0.000     0.000     0.000         0\n",
      "          ].      0.000     0.000     0.000         2\n",
      "          )\"      0.000     0.000     0.000         0\n",
      "          !\"      0.000     0.000     0.000         0\n",
      "         ?\"-      0.000     0.000     0.000         2\n",
      "         \":\"      0.000     0.000     0.000         1\n",
      "         ):\"      0.000     0.000     0.000         0\n",
      "         \")-      0.000     0.000     0.000         1\n",
      "         \"-\"      0.000     0.000     0.000         0\n",
      "          -,      0.000     0.000     0.000         1\n",
      "         )\".      0.000     0.000     0.000         1\n",
      "         ?\",      0.000     0.000     0.000         1\n",
      "         ]\".      0.000     0.000     0.000         0\n",
      "         !\",      0.000     0.000     0.000         1\n",
      "          ]?      0.000     0.000     0.000         0\n",
      "        ...[      0.000     0.000     0.000         2\n",
      "          ];      0.000     0.000     0.000         0\n",
      "       ...\".      0.000     0.000     0.000         0\n",
      "         !\"-      0.000     0.000     0.000         2\n",
      "          \"!      0.000     0.000     0.000         0\n",
      "         !\".      0.000     0.000     0.000         3\n",
      "          !?      0.000     0.000     0.000         0\n",
      "          ?!      0.000     0.000     0.000         0\n",
      "          ,-      0.000     0.000     0.000         4\n",
      "        !...      0.000     0.000     0.000         1\n",
      "         !).      0.000     0.000     0.000         0\n",
      "          )?      0.000     0.000     0.000         3\n",
      "        ?...      0.000     0.000     0.000         0\n",
      "          .?      0.000     0.000     0.000         0\n",
      "\n",
      "   micro avg      0.855     0.699     0.769     39718\n",
      "   macro avg      0.160     0.108     0.121     39718\n",
      "weighted avg      0.817     0.699     0.739     39718\n",
      "\n",
      "['Но синовете им не умъртви, защото постъпи според писаното в закона в книгата на Мойсей, където ГОСПОД заповяда и каза: Бащите да не умират заради синовете и синовете да не умират заради бащите, а всеки да умира за собствения си грях.', 'Но когато ти говоря ще отворя устата ти и ти им кажи: Така казва Господ БОГ: Който слуша, нека слуша, а който не слуша нека не слуша, защото са бунтовен дом.', 'Защото кой е по-голям този, който седи на трапезата ли или онзи, който слугува?', 'А след това ще се насели, както в предишните дни, заявява ГОСПОД.', 'А Той беше на задната част, заспал на възглавница.', 'Ефрем е като птица славата му ще отлети.', 'И така той си отиде от него на известно разстояние.', 'Не бягам при халдейците.', 'И израилевите синове излязоха от египетската земя строени.', 'А когато Ахитофел видя, че съветът му не се изпълни оседла магарето си и стана и отиде у дома си в своя град и нареди домашните си работи и се обеси.', 'Ако умре някое животно от добитъка, който можете да ядете, който се допре до мършата му, ще бъде нечист до вечерта.', 'Но помощник съответен на Адам не се намери.', 'Който задържа жито, народът ще го проклина, а благословение ще почива на главата на този, който го продава.', 'Този човек беше праведен и благочестив и чакаше Утехата на Израил и Светият Дух беше на него.', 'Всичко е възможно за този, който вярва.', 'И видях височината на дома околовръст, основите на страничните стаи бяха една цяла тръстика от шест големи лакътя.', 'После да вземеш тлъстината на овена, опашката и тлъстината, която покрива вътрешностите, булото на дроба двата бъбрека с тлъстината, която е около тях и дясното бедро, защото е овен на посвещение и един хляб, една пита хляб, месен с маслинено масло и една кора от коша на безквасните хлябове, които са пред ГОСПОДА.', 'И от дима излязоха скакалци по земята и им се даде власт като властта, която имат земните скорпиони.', 'Ти си, ГОСПОДИ, само Ти.', 'И ще предаде Израил заради греховете на Еровоам, с които съгреши и с които въведе Израил в грях.', 'Синове на Елифаз: Теман и Омар Сефи и Готом Кенез, и Тамна и Амалик.', 'А гладът в Самария беше страшен.', 'Затова казах в сърцето си, че и това е суета.', 'Насладих се на сянката му и седнах и плодът му бе сладък в устата ми.', 'Защото така ми каза ГОСПОД: Както ръмжи над лова си, лъвът младият лъв срещу когото се свикват множество овчари и не се плаши от гласа им, и не се отдръпва пред шума им; така ГОСПОД на Войнствата ще слезе за да воюва за хълма Сион и за неговото възвишение.', 'Отче свети, опази ги в Името Си, което си Ми дал за да бъдат едно, както сме и Ние.', 'И да правите разлика между чистите животни и нечистите и между нечистите птици и чистите и да не осквернявате себе си с животно, или с птица или с каквото и да е което пълзи по земята, което Аз съм ви отделил като нечисто.', 'И ГОСПОД укрепи моавския цар Еглон против Израил, защото вършиха зло пред ГОСПОДА.', 'И Духът ми каза да отида с тях, без да се двоумя.', 'В двадесет и седмата година на израилевия цар Еровоам се възцари Азария, синът на юдовия цар Амасия.', 'Защото вашата послушност е известна на всички; затова се радвам за вас.', 'Той изтегля всички с въдица влачи ги в мрежата си и ги събира в рибарската си мрежа, затова се радва и се весели.', 'Благословен да е ГОСПОД Бог Богът на Израил, който единствен върши чудеса.', 'И които влязоха мъжко и женско от всяка плът, влязоха, както Бог му беше заповядал, и ГОСПОД, затвори след него.', 'Тогава царят каза на Божия човек: Ела с мен у дома и се подкрепи и ще ти дам подарък.', 'И ето, въпреки че е посадена ще успее ли?', 'От дома Тогарма, даваха за стоките ти коне бойни коне и мулета.', 'Затова заповядай гробът да се пази здраво до третия ден да не би учениците Му да дойдат и да Го откраднат, и да кажат на народа Възкръсна от мъртвите.', 'И когато отвори петия печат видях под олтара, душите на онези, които са били заклани за Божието слово и за свидетелството, което държаха.', 'И свещениците, които служат на ГОСПОДА са синовете на Аарон и левитите са в службата.', 'Той тича след тях с умолителни думи, но тях ги няма.', 'И измери дължината му четиридесет лакътя и ширината му- двадесет лакътя.', 'Затова, така казва ГОСПОД: Бог на Войнствата, Израилевият Бог: Ето, Аз ще докарам върху Юда и върху всичките ерусалимски жители цялото зло, което говорих против тях, защото им говорих, но не слушаха и ги виках, но не отговаряха.', 'Сине мой, слушай наставлението на баща си и не отхвърляй закона на майка си, защото те ще бъдат благодатен венец за главата ти и огърлица за шията ти.', 'Тогава облакът започна да се издига от града в димен стълб и Вениамин се обърна и ето, целият град се издигаше в пламъци към небето.', 'В онзи ден няма да се срамуваш от всичките си дела, с които си отстъпил от Мен, защото тогава ще отнема отсред теб, твоите, които горделиво тържествуват и ти няма вече да се държиш надменно на светия Ми хълм.', 'А свинарите, като видяха станалото, избягаха и разказаха за това в града и в селата.', 'И Илий благослови Елкана и жена му и каза: ГОСПОД да ти даде потомство от тази жена, вместо заетото, което беше посветено на ГОСПОДА.', 'И ако живее във вас, Духът на Този, който възкреси Иисус от мъртвите то Този, който възкреси Христос от мъртвите ще съживи и вашите смъртни тела чрез Духа Си, който живее във вас.', 'А ГОСПОД си извърши, както беше говорил чрез мен и ГОСПОД откъсна царството от ръката ти и го даде на ближния ти на Давид.', 'Даде и храна, за магаретата им.', 'Книгата на видението на елкусеянина Наум.', 'И направи олтара за всеизгаряне от акациево дърво, пет лакътя беше дължината му и пет лакътя беше ширината му, четвъртит и три лакътя беше височината му.', 'Те ми казаха: Направи ни богове, които да ходят пред нас, защото на този Мойсей човека, който ни изведе от египетската земя не знаем какво му стана.', 'Тогава Мардохей каза да отговорят на Естир: Не мисли в себе си, че от всичките юдеи само ти ще се избавиш в царския дом.', 'Но аз не бих познал греха, освен чрез закона, защото не бих знаел пожелание, ако законът не беше казал:\" Не пожелавай.', 'Тогава народът Му си спомни за древните дни на Мойсей: Къде е Онзи, който ги изведе от морето с пастирите на стадото Си?', 'И три пъти в годината Соломон принасяше всеизгаряния и примирителни жертви върху олтара, който построи на ГОСПОДА и кадеше върху олтара, който беше пред ГОСПОДА.', 'И след като им поставиха старейшини във всяка църква и се помолиха с пост ги препоръчаха на Господа, в когото бяха повярвали.', 'С нея Той подейства в Христос, като Го възкреси от мъртвите и Го сложи да седне от дясната Си страна на небесата далеч над всяко началство и власт и сила и господство и всяко име, с което се наименуват не само в този свят, но и в бъдещия.', 'Стрелец срещу стрелец да опъва лъка си и срещу онзи, който се надига в бронята си.', 'Затова онази нива е, наречена и до днес Кръвна нива.', 'И така слугите на цар Езекия отидоха при Исая.', 'И никой свещеник да не пие вино, когато влиза във вътрешния двор.', 'И Охозия, падна през решетката на горната си, стая в Самария и се разболя.', 'Защо не разбирате Моето говорене?', 'А Лаван в отговор каза на Яков: Тези дъщери са мои дъщери и синовете са мои синове и стадата: са мои стада.', 'А чуждият, който се приближи да се умъртви.', 'И двамата сина на Илий, Офний и Финеес бяха там с ковчега на Божия завет.', 'Иисус му каза: Лисиците си имат леговища и небесните птици гнезда, а Човешкият Син няма къде глава да подслони.', 'От кръвта на убитите от тлъстината на силните лъкът на Йонатан не се обръщаше назад, и мечът на Саул не се връщаше празен.', 'Станах за присмех на целия си народ и за тяхна подигравателна песен цял ден.', 'Да учите на тях синовете си, като говорите за тях, когато седиш в къщата си, когато ходиш по пътя, когато лягаш и когато ставаш.', 'И ГОСПОД се разкая за злото, което беше казал, че ще направи на народа Си.', 'А Юда изпрати ярето чрез ръката на приятеля си одоламеца за да вземе залога от ръката на жената, но той не я намери.', 'И царят заповяда и доведоха онези мъже, които бяха издали, Даниил, и хвърлиха тях децата им и жените им в рова на лъвовете и още преди да стигнат до дъното на рова, лъвовете ги сграбчиха и строшиха всичките им кости.', 'И Йоав и народът, който беше с него настъпиха за битката против арамейците; и те побягнаха пред него.', 'И като го повикаха Тертил, започна да обвинява, като казваше: Понеже чрез теб честити Феликсе, се радваме на голямо спокойствие и понеже чрез твоята предвидливост има подобрения за този народ, то ние с пълна благодарност винаги и навсякъде посрещаме това.', 'Защото Йоан казваше на Ирод: Не ти е позволено да имаш жената на брат си.', 'А в първия ден на седмицата много рано сутринта те дойдоха на гроба, като носеха благоуханните масла, които бяха приготвили.', 'Ще бъде ли добре да ви изпита Той?', 'След това Яков каза на Лаван: Дай жена ми, защото дойде време да вляза при нея.', 'А посветените дарове бяха шестстотин говеда и три хиляди овце.', 'Кога ще се събудя за да продължа да го потърся пак.', 'Изнемогвам от викането си гърлото ми е пресъхнало очите ми чезнат, докато чакам своя Бог.', 'Това са родовете на Мерарий.', 'На следващия ден едно голямо множество, което беше дошло на празника, като чуха, че Иисус идвал в Ерусалим, взеха палмови клони и излязоха да Го посрещнат, викайки Осанна.', 'И той каза: Имам нещо да ти кажа.', 'Ако някой, който е престъпил закона на Мойсей умира безпощадно при думата на двама или трима свидетели, то колко по-тежко наказание мислите ще заслужи онзи, който е потъпкал Божия Син и е счел за просто нещо, кръвта на завета, с която е бил осветен и е оскърбил Духа на благодатта.', 'Върни се, сине мой, Давиде, защото няма вече да ти сторя зло, понеже днес животът ми беше скъпоценен пред очите ти.', 'Ще дойдат големци от Египет Етиопия бързо ще протегне ръцете си към Бога.', 'Затова хората Му се боят и Той не гледа на никого от мъдрите по сърце.', 'И Го следваше голямо множество от народ и жени, които плачеха за Него.', 'Ето ви семе засейте земята!', 'И Давид дойде във Ваал-Ферасим и Давид ги разби там, и каза: ГОСПОД разсече пред мен, враговете ми, както водите правят пролом.', 'Кадилниците на тези мъже, които съгрешиха против живота си, нека ги направят на плочи за обковаване на олтара, защото те ги принесоха пред ГОСПОДА и затова са свети и те ще бъдат за знамение на израилевите синове.', 'И когато фараонът отказваше да ни пусне, ГОСПОД, уби всяко първородно в египетската земя от първородно на човек до първородно на животно, затова жертвам на ГОСПОДА всяко първородно, което е мъжко, а всеки първороден от синовете си изкупувам.', 'А без вяра не е възможно да се угоди на Бога, защото, който идва при Бога, трябва да вярва, че Той съществува и че възнаграждава тези, които Го търсят.', 'И докато още говореше с тях, ето, пратеникът слезе при него и каза: Ето, това зло е от ГОСПОДА.', 'А вие сами ли ще продадете братята си?']\n"
     ]
    }
   ],
   "source": [
    "labels = list(crf.classes_)\n",
    "y_pred = crf.predict(X_dev_without_upos)\n",
    "print(metrics.flat_f1_score(y_dev, y_pred, average='weighted', labels=labels))\n",
    "print(metrics.flat_classification_report(y_dev, y_pred, labels=labels, digits=3))\n",
    "labels.remove('')\n",
    "print(metrics.flat_f1_score(y_dev, y_pred, average='weighted', labels=labels))\n",
    "print(metrics.flat_classification_report(y_dev, y_pred, labels=labels, digits=3))\n",
    "punctuated_sentences = punctuate(X_dev_without_upos, y_pred)\n",
    "print(punctuated_sentences[:100])"
   ]
  },
  {
   "cell_type": "markdown",
   "id": "2dc12401",
   "metadata": {},
   "source": [
    "### Try out a model with verb count for the whole word window"
   ]
  },
  {
   "cell_type": "code",
   "execution_count": 23,
   "id": "39f41cff",
   "metadata": {},
   "outputs": [],
   "source": [
    "# input - sentence (list of dictionaries) and an index of a word (dictionary)\n",
    "# output - list of dictionaries (features, for each word)\n",
    "def word2features(sentence, i):\n",
    "    sentence_contains_interrogative_word, interrogative_word_position = contains_interrogative_word(sentence)\n",
    "    sentence_contains_interrogative_particle, interrogative_particle_position = contains_interrogative_particle(sentence)\n",
    "    sentence_contains_imperative_verb, imperative_verb_position = contains_imperative_verb(sentence)\n",
    "    sentence_contains_repetitive_word_before, repetitive_word_tag = contains_repetitive_word_before(sentence, i)\n",
    "\n",
    "    features = {\n",
    "        'word': sentence[i]['text'],\n",
    "        'sent_len': len(sentence),\n",
    "        'pos_in_sent': i,\n",
    "        'upos': sentence[i]['upos'],\n",
    "        'xpos': sentence[i]['xpos'],\n",
    "        'first_word_in_sent': sentence[0]['text'],\n",
    "        'contains_interrogative_word': sentence_contains_interrogative_word,\n",
    "        'interrogative_word_position': interrogative_word_position,\n",
    "        'contains_interrogative_particle': sentence_contains_interrogative_particle,\n",
    "        'interrogative_particle_position': interrogative_particle_position,\n",
    "        'contains_imperative_verb': sentence_contains_imperative_verb,\n",
    "        'imperative_verb_position': imperative_verb_position,\n",
    "        'starts_with_capital_letter': sentence[i]['text'][0].isupper(),\n",
    "        'contains_repetitive_word_before': sentence_contains_repetitive_word_before,\n",
    "        'repetitive_word_tag': repetitive_word_tag,\n",
    "        'count_of_verbs_before': count_of_verbs_before(sentence, i)\n",
    "    }\n",
    "\n",
    "    if i > 0:\n",
    "        features.update({\n",
    "            'prev_word': sentence[i-1]['text'],\n",
    "            'prev_word_upos': sentence[i-1]['upos'],\n",
    "            'prev_word_xpos': sentence[i-1]['xpos'],\n",
    "            'prev_word_starts_with_capital_letter': sentence[i-1]['text'][0].isupper(),\n",
    "            'count_of_verbs_before_prev_word': count_of_verbs_before(sentence, i-1)\n",
    "        })\n",
    "    else:\n",
    "        features.update({\n",
    "            'BOS': True\n",
    "        })\n",
    "\n",
    "    if i > 1:\n",
    "        features.update({\n",
    "            'word_before_prev_word': sentence[i-2]['text'],\n",
    "            'word_before_prev_word_upos': sentence[i-2]['upos'],\n",
    "            'word_before_prev_word_xpos': sentence[i-2]['xpos'],\n",
    "            'word_before_prev_word_starts_with_capital_letter': sentence[i-2]['text'][0].isupper(),\n",
    "            'count_of_verbs_before_word_before_prev_word': count_of_verbs_before(sentence, i-2)\n",
    "        })\n",
    "\n",
    "    if i < len(sentence)-1:\n",
    "        features.update({\n",
    "            'next_word': sentence[i+1]['text'],\n",
    "            'next_word_upos': sentence[i+1]['upos'],\n",
    "            'next_word_xpos': sentence[i+1]['xpos'],\n",
    "            'next_word_starts_with_capital_letter': sentence[i+1]['text'][0].isupper(),\n",
    "            'count_of_verbs_before_next_word': count_of_verbs_before(sentence, i+1)\n",
    "        })\n",
    "    else:\n",
    "        features.update({\n",
    "            'EOS': True\n",
    "        })\n",
    "        \n",
    "    if i < len(sentence)-2:\n",
    "        features.update({\n",
    "            'word_after_next_word': sentence [i+2]['text'],\n",
    "            'word_after_next_word_upos': sentence[i+2]['upos'],\n",
    "            'word_after_next_word_xpos': sentence[i+2]['xpos'],\n",
    "            'word_after_next_word_starts_with_capital_letter': sentence[i+2]['text'][0].isupper(),\n",
    "            'count_of_verbs_before_word_after_next_word': count_of_verbs_before(sentence, i+2)\n",
    "        })\n",
    "\n",
    "    return features"
   ]
  },
  {
   "cell_type": "code",
   "execution_count": 24,
   "id": "86754e51",
   "metadata": {},
   "outputs": [
    {
     "name": "stderr",
     "output_type": "stream",
     "text": [
      "2021-10-01 12:09:48 INFO: Loading these models for language: bg (Bulgarian):\n",
      "========================\n",
      "| Processor | Package  |\n",
      "------------------------\n",
      "| tokenize  | standard |\n",
      "========================\n",
      "\n",
      "2021-10-01 12:09:48 INFO: Use device: gpu\n",
      "2021-10-01 12:09:48 INFO: Loading: tokenize\n",
      "2021-10-01 12:09:48 INFO: Done loading processors!\n",
      "2021-10-01 12:10:02 INFO: Loading these models for language: bg (Bulgarian):\n",
      "========================\n",
      "| Processor | Package  |\n",
      "------------------------\n",
      "| tokenize  | standard |\n",
      "| pos       | standard |\n",
      "========================\n",
      "\n",
      "2021-10-01 12:10:02 INFO: Use device: gpu\n",
      "2021-10-01 12:10:02 INFO: Loading: tokenize\n",
      "2021-10-01 12:10:02 INFO: Loading: pos\n",
      "2021-10-01 12:10:05 INFO: Done loading processors!\n"
     ]
    },
    {
     "name": "stdout",
     "output_type": "stream",
     "text": [
      "CPU times: user 20min 40s, sys: 2.47 s, total: 20min 43s\n",
      "Wall time: 20min 42s\n"
     ]
    }
   ],
   "source": [
    "%%time\n",
    "X_train, y_train = data_prep('../../data/Train.txt')"
   ]
  },
  {
   "cell_type": "code",
   "execution_count": 25,
   "id": "76cf25cb",
   "metadata": {},
   "outputs": [],
   "source": [
    "verify_prepped_data(X_train, y_train)"
   ]
  },
  {
   "cell_type": "code",
   "execution_count": 26,
   "id": "575b760a",
   "metadata": {},
   "outputs": [
    {
     "name": "stderr",
     "output_type": "stream",
     "text": [
      "2021-10-01 12:30:31 INFO: Loading these models for language: bg (Bulgarian):\n",
      "========================\n",
      "| Processor | Package  |\n",
      "------------------------\n",
      "| tokenize  | standard |\n",
      "========================\n",
      "\n",
      "2021-10-01 12:30:31 INFO: Use device: gpu\n",
      "2021-10-01 12:30:31 INFO: Loading: tokenize\n",
      "2021-10-01 12:30:31 INFO: Done loading processors!\n",
      "2021-10-01 12:30:44 INFO: Loading these models for language: bg (Bulgarian):\n",
      "========================\n",
      "| Processor | Package  |\n",
      "------------------------\n",
      "| tokenize  | standard |\n",
      "| pos       | standard |\n",
      "========================\n",
      "\n",
      "2021-10-01 12:30:44 INFO: Use device: gpu\n",
      "2021-10-01 12:30:44 INFO: Loading: tokenize\n",
      "2021-10-01 12:30:44 INFO: Loading: pos\n",
      "2021-10-01 12:30:46 INFO: Done loading processors!\n"
     ]
    },
    {
     "name": "stdout",
     "output_type": "stream",
     "text": [
      "CPU times: user 11min 31s, sys: 1.28 s, total: 11min 32s\n",
      "Wall time: 11min 31s\n"
     ]
    }
   ],
   "source": [
    "%%time\n",
    "X_dev, y_dev = data_prep('../../data/Dev.txt')"
   ]
  },
  {
   "cell_type": "code",
   "execution_count": 27,
   "id": "33c88a1b",
   "metadata": {},
   "outputs": [],
   "source": [
    "verify_prepped_data(X_dev, y_dev)"
   ]
  },
  {
   "cell_type": "code",
   "execution_count": 28,
   "id": "7a028691",
   "metadata": {},
   "outputs": [
    {
     "name": "stdout",
     "output_type": "stream",
     "text": [
      "CPU times: user 29min 33s, sys: 1.04 s, total: 29min 34s\n",
      "Wall time: 29min 31s\n"
     ]
    }
   ],
   "source": [
    "%%time\n",
    "crf = sklearn_crfsuite.CRF(\n",
    "    algorithm='lbfgs',\n",
    "    c1=0.1,\n",
    "    c2=0.1,\n",
    "    max_iterations=100,\n",
    "    all_possible_transitions=True\n",
    ")\n",
    "crf.fit(X_train, y_train)"
   ]
  },
  {
   "cell_type": "code",
   "execution_count": null,
   "id": "a4b769d1",
   "metadata": {},
   "outputs": [],
   "source": [
    "labels = list(crf.classes_)\n",
    "y_pred = crf.predict(X_dev)\n",
    "print(metrics.flat_f1_score(y_dev, y_pred, average='weighted', labels=labels))\n",
    "print(metrics.flat_classification_report(y_dev, y_pred, labels=labels, digits=3))\n",
    "labels.remove('')\n",
    "print(metrics.flat_f1_score(y_dev, y_pred, average='weighted', labels=labels))\n",
    "print(metrics.flat_classification_report(y_dev, y_pred, labels=labels, digits=3))\n",
    "punctuated_sentences = punctuate(X_dev, y_pred)\n",
    "print(punctuated_sentences[:100])"
   ]
  },
  {
   "cell_type": "markdown",
   "id": "2ace0a2f",
   "metadata": {},
   "source": [
    "### Try out algorithm with higher number of max_iterations"
   ]
  },
  {
   "cell_type": "code",
   "execution_count": 23,
   "id": "a6f732fc",
   "metadata": {},
   "outputs": [],
   "source": [
    "# input - sentence (list of dictionaries) and an index of a word (dictionary)\n",
    "# output - list of dictionaries (features, for each word)\n",
    "def word2features(sentence, i):\n",
    "    sentence_contains_interrogative_word = contains_interrogative_word(sentence)\n",
    "    sentence_contains_interrogative_particle = contains_interrogative_particle(sentence)\n",
    "    sentence_contains_imperative_verb = contains_imperative_verb(sentence)\n",
    "    sentence_contains_repetitive_word_before, repetitive_word_tag = contains_repetitive_word_before(sentence, i)\n",
    "\n",
    "    features = {\n",
    "        'word': sentence[i]['text'],\n",
    "        'sent_len': len(sentence),\n",
    "        'upos': sentence[i]['upos'],\n",
    "        'xpos': sentence[i]['xpos'],\n",
    "        'first_word_in_sent': sentence[0]['text'],\n",
    "        'contains_interrogative_word': sentence_contains_interrogative_word,\n",
    "        'contains_interrogative_particle': sentence_contains_interrogative_particle,\n",
    "        'contains_imperative_verb': sentence_contains_imperative_verb,\n",
    "        'starts_with_capital_letter': sentence[i]['text'][0].isupper(),\n",
    "        'contains_repetitive_word_before': sentence_contains_repetitive_word_before,\n",
    "        'repetitive_word_tag': repetitive_word_tag\n",
    "    }\n",
    "\n",
    "    if i > 0:\n",
    "        features.update({\n",
    "            'prev_word': sentence[i-1]['text'],\n",
    "            'prev_word_upos': sentence[i-1]['upos'],\n",
    "            'prev_word_xpos': sentence[i-1]['xpos'],\n",
    "            'prev_word_starts_with_capital_letter': sentence[i-1]['text'][0].isupper()\n",
    "        })\n",
    "    else:\n",
    "        features.update({\n",
    "            'BOS': True\n",
    "        })\n",
    "\n",
    "    if i > 1:\n",
    "        features.update({\n",
    "            'word_before_prev_word': sentence[i-2]['text'],\n",
    "            'word_before_prev_word_upos': sentence[i-2]['upos'],\n",
    "            'word_before_prev_word_xpos': sentence[i-2]['xpos'],\n",
    "            'word_before_prev_word_starts_with_capital_letter': sentence[i-2]['text'][0].isupper()\n",
    "        })\n",
    "\n",
    "    if i < len(sentence)-1:\n",
    "        features.update({\n",
    "            'next_word': sentence[i+1]['text'],\n",
    "            'next_word_upos': sentence[i+1]['upos'],\n",
    "            'next_word_xpos': sentence[i+1]['xpos'],\n",
    "            'next_word_starts_with_capital_letter': sentence[i+1]['text'][0].isupper()\n",
    "        })\n",
    "    else:\n",
    "        features.update({\n",
    "            'EOS': True\n",
    "        })\n",
    "        \n",
    "    if i < len(sentence)-2:\n",
    "        features.update({\n",
    "            'word_after_next_word': sentence [i+2]['text'],\n",
    "            'word_after_next_word_upos': sentence[i+2]['upos'],\n",
    "            'word_after_next_word_xpos': sentence[i+2]['xpos'],\n",
    "            'word_after_next_word_starts_with_capital_letter': sentence[i+2]['text'][0].isupper()\n",
    "        })\n",
    "\n",
    "    return features"
   ]
  },
  {
   "cell_type": "code",
   "execution_count": 24,
   "id": "4c4bac8a",
   "metadata": {},
   "outputs": [
    {
     "name": "stderr",
     "output_type": "stream",
     "text": [
      "2021-10-02 12:54:53 INFO: Loading these models for language: bg (Bulgarian):\n",
      "========================\n",
      "| Processor | Package  |\n",
      "------------------------\n",
      "| tokenize  | standard |\n",
      "========================\n",
      "\n",
      "2021-10-02 12:54:53 INFO: Use device: gpu\n",
      "2021-10-02 12:54:53 INFO: Loading: tokenize\n",
      "2021-10-02 12:54:53 INFO: Done loading processors!\n",
      "2021-10-02 12:55:10 INFO: Loading these models for language: bg (Bulgarian):\n",
      "========================\n",
      "| Processor | Package  |\n",
      "------------------------\n",
      "| tokenize  | standard |\n",
      "| pos       | standard |\n",
      "========================\n",
      "\n",
      "2021-10-02 12:55:10 INFO: Use device: gpu\n",
      "2021-10-02 12:55:10 INFO: Loading: tokenize\n",
      "2021-10-02 12:55:10 INFO: Loading: pos\n",
      "2021-10-02 12:55:13 INFO: Done loading processors!\n"
     ]
    },
    {
     "name": "stdout",
     "output_type": "stream",
     "text": [
      "CPU times: user 21min 49s, sys: 2.81 s, total: 21min 52s\n",
      "Wall time: 21min 51s\n"
     ]
    }
   ],
   "source": [
    "%%time\n",
    "X_train, y_train = data_prep('../../data/Train.txt')"
   ]
  },
  {
   "cell_type": "code",
   "execution_count": 25,
   "id": "b64d1f9c",
   "metadata": {},
   "outputs": [],
   "source": [
    "verify_prepped_data(X_train, y_train)"
   ]
  },
  {
   "cell_type": "code",
   "execution_count": 26,
   "id": "c383be85",
   "metadata": {},
   "outputs": [
    {
     "name": "stderr",
     "output_type": "stream",
     "text": [
      "2021-10-02 13:16:45 INFO: Loading these models for language: bg (Bulgarian):\n",
      "========================\n",
      "| Processor | Package  |\n",
      "------------------------\n",
      "| tokenize  | standard |\n",
      "========================\n",
      "\n",
      "2021-10-02 13:16:45 INFO: Use device: gpu\n",
      "2021-10-02 13:16:45 INFO: Loading: tokenize\n",
      "2021-10-02 13:16:45 INFO: Done loading processors!\n",
      "2021-10-02 13:16:58 INFO: Loading these models for language: bg (Bulgarian):\n",
      "========================\n",
      "| Processor | Package  |\n",
      "------------------------\n",
      "| tokenize  | standard |\n",
      "| pos       | standard |\n",
      "========================\n",
      "\n",
      "2021-10-02 13:16:58 INFO: Use device: gpu\n",
      "2021-10-02 13:16:58 INFO: Loading: tokenize\n",
      "2021-10-02 13:16:58 INFO: Loading: pos\n",
      "2021-10-02 13:17:00 INFO: Done loading processors!\n"
     ]
    },
    {
     "name": "stdout",
     "output_type": "stream",
     "text": [
      "CPU times: user 11min 32s, sys: 1.24 s, total: 11min 34s\n",
      "Wall time: 11min 33s\n"
     ]
    }
   ],
   "source": [
    "%%time\n",
    "X_dev, y_dev = data_prep('../../data/Dev.txt')"
   ]
  },
  {
   "cell_type": "code",
   "execution_count": 27,
   "id": "16ced37d",
   "metadata": {},
   "outputs": [],
   "source": [
    "verify_prepped_data(X_dev, y_dev)"
   ]
  },
  {
   "cell_type": "code",
   "execution_count": 28,
   "id": "120a6730",
   "metadata": {},
   "outputs": [
    {
     "name": "stdout",
     "output_type": "stream",
     "text": [
      "CPU times: user 52min 20s, sys: 2.58 s, total: 52min 23s\n",
      "Wall time: 52min 17s\n"
     ]
    }
   ],
   "source": [
    "%%time\n",
    "crf = sklearn_crfsuite.CRF(\n",
    "    algorithm='lbfgs',\n",
    "    c1=0.1,\n",
    "    c2=0.1,\n",
    "    max_iterations=200,\n",
    "    all_possible_transitions=True\n",
    ")\n",
    "crf.fit(X_train, y_train)"
   ]
  },
  {
   "cell_type": "code",
   "execution_count": 29,
   "id": "5b5daf3b",
   "metadata": {},
   "outputs": [
    {
     "name": "stderr",
     "output_type": "stream",
     "text": [
      "/home/mariya/anaconda3/envs/masters/lib/python3.6/site-packages/sklearn/metrics/_classification.py:1465: UndefinedMetricWarning: F-score is ill-defined and being set to 0.0 in labels with no true nor predicted samples. Use `zero_division` parameter to control this behavior.\n",
      "  average, \"true nor predicted\", 'F-score is', len(true_sum)\n",
      "/home/mariya/anaconda3/envs/masters/lib/python3.6/site-packages/sklearn/utils/validation.py:70: FutureWarning: Pass labels=['', ':', '!', ',', '?', ';', '.', '-', ',(', '\"', '\").', '(', ')', '?-', '.-', ':)', '!-', ':\"', '.\"', ':(', '?)', '\"?', '\".', '\";', '\"-', ').', '!,', '-\"', ')!', '\",', '.\")', '!;', ';(', '),', '?;', '?\"', ');', '.)', '?,', ';\"', '):', '[', ']', '...', '],', '\"(', ',[', ',\"', ']\",', ')-', '\":', '(\"', '\"),', '\"-[', '...,', '\")', '..', '\",\"', '?\".', '\"[', '\"(\"', '),\"', '\"\"', '-.', '.,', '].', ')\"', '!\"', '?\"-', '\":\"', '):\"', '\")-', '\"-\"', '-,', ')\".', '?\",', ']\".', '!\",', ']?', '...[', '];', '...\".', '!\"-', '\"!', '!\".', '!?', '?!', ',-', '!...', '!).', ')?', '?...', '.?'] as keyword args. From version 0.25 passing these as positional arguments will result in an error\n",
      "  FutureWarning)\n"
     ]
    },
    {
     "name": "stdout",
     "output_type": "stream",
     "text": [
      "0.9399461413799953\n"
     ]
    },
    {
     "name": "stderr",
     "output_type": "stream",
     "text": [
      "/home/mariya/anaconda3/envs/masters/lib/python3.6/site-packages/sklearn/metrics/_classification.py:1221: UndefinedMetricWarning: Precision and F-score are ill-defined and being set to 0.0 in labels with no predicted samples. Use `zero_division` parameter to control this behavior.\n",
      "  _warn_prf(average, modifier, msg_start, len(result))\n",
      "/home/mariya/anaconda3/envs/masters/lib/python3.6/site-packages/sklearn/metrics/_classification.py:1221: UndefinedMetricWarning: Recall and F-score are ill-defined and being set to 0.0 in labels with no true samples. Use `zero_division` parameter to control this behavior.\n",
      "  _warn_prf(average, modifier, msg_start, len(result))\n"
     ]
    },
    {
     "name": "stdout",
     "output_type": "stream",
     "text": [
      "              precision    recall  f1-score   support\n",
      "\n",
      "                  0.961     0.988     0.974    227825\n",
      "           :      0.899     0.739     0.811       923\n",
      "           !      0.493     0.210     0.295       347\n",
      "           ,      0.784     0.654     0.713     18592\n",
      "           ?      0.839     0.707     0.767       443\n",
      "           ;      0.235     0.056     0.091       622\n",
      "           .      0.936     0.987     0.961     11401\n",
      "           -      0.530     0.109     0.181       882\n",
      "          ,(      0.000     0.000     0.000         5\n",
      "           \"      0.632     0.145     0.236      1596\n",
      "         \").      0.000     0.000     0.000         0\n",
      "           (      0.961     0.883     0.920      1656\n",
      "           )      0.884     0.843     0.863      1001\n",
      "          ?-      0.000     0.000     0.000         4\n",
      "          .-      0.000     0.000     0.000         2\n",
      "          :)      0.000     0.000     0.000         0\n",
      "          !-      1.000     0.050     0.095        20\n",
      "          :\"      0.762     0.239     0.364        67\n",
      "          .\"      0.500     0.043     0.080        23\n",
      "          :(      0.000     0.000     0.000         1\n",
      "          ?)      0.000     0.000     0.000         0\n",
      "          \"?      0.000     0.000     0.000         1\n",
      "          \".      0.595     0.085     0.149       293\n",
      "          \";      0.000     0.000     0.000         5\n",
      "          \"-      0.500     0.036     0.067        28\n",
      "          ).      0.965     0.923     0.943       271\n",
      "          !,      0.000     0.000     0.000         0\n",
      "          -\"      0.000     0.000     0.000         7\n",
      "          )!      0.000     0.000     0.000         1\n",
      "          \",      0.730     0.551     0.628       829\n",
      "         .\")      0.000     0.000     0.000         1\n",
      "          !;      0.000     0.000     0.000         1\n",
      "          ;(      0.000     0.000     0.000         0\n",
      "          ),      0.824     0.661     0.734       381\n",
      "          ?;      0.000     0.000     0.000         0\n",
      "          ?\"      0.000     0.000     0.000         0\n",
      "          );      0.000     0.000     0.000         0\n",
      "          .)      0.000     0.000     0.000         1\n",
      "          ?,      0.000     0.000     0.000         1\n",
      "          ;\"      0.000     0.000     0.000         0\n",
      "          ):      1.000     0.727     0.842        11\n",
      "           [      0.000     0.000     0.000        45\n",
      "           ]      0.000     0.000     0.000        43\n",
      "         ...      0.000     0.000     0.000        61\n",
      "          ],      0.000     0.000     0.000         3\n",
      "          \"(      0.600     0.290     0.391        31\n",
      "          ,[      0.000     0.000     0.000         1\n",
      "          ,\"      0.000     0.000     0.000        44\n",
      "         ]\",      0.000     0.000     0.000         5\n",
      "          )-      0.000     0.000     0.000        17\n",
      "          \":      0.000     0.000     0.000         0\n",
      "          (\"      0.000     0.000     0.000         0\n",
      "         \"),      0.000     0.000     0.000         1\n",
      "         \"-[      0.000     0.000     0.000         0\n",
      "        ...,      0.000     0.000     0.000         3\n",
      "          \")      0.000     0.000     0.000         2\n",
      "          ..      0.500     0.333     0.400         3\n",
      "         \",\"      0.000     0.000     0.000        10\n",
      "         ?\".      0.000     0.000     0.000         2\n",
      "          \"[      0.000     0.000     0.000         0\n",
      "         \"(\"      0.000     0.000     0.000         2\n",
      "         ),\"      0.000     0.000     0.000         2\n",
      "          \"\"      0.000     0.000     0.000         2\n",
      "          -.      0.000     0.000     0.000         0\n",
      "          .,      0.000     0.000     0.000         0\n",
      "          ].      0.000     0.000     0.000         2\n",
      "          )\"      0.000     0.000     0.000         0\n",
      "          !\"      0.000     0.000     0.000         0\n",
      "         ?\"-      0.000     0.000     0.000         2\n",
      "         \":\"      0.000     0.000     0.000         1\n",
      "         ):\"      0.000     0.000     0.000         0\n",
      "         \")-      0.000     0.000     0.000         1\n",
      "         \"-\"      0.000     0.000     0.000         0\n",
      "          -,      0.000     0.000     0.000         1\n",
      "         )\".      0.000     0.000     0.000         1\n",
      "         ?\",      0.000     0.000     0.000         1\n",
      "         ]\".      0.000     0.000     0.000         0\n",
      "         !\",      0.000     0.000     0.000         1\n",
      "          ]?      0.000     0.000     0.000         0\n",
      "        ...[      0.000     0.000     0.000         2\n",
      "          ];      0.000     0.000     0.000         0\n",
      "       ...\".      0.000     0.000     0.000         0\n",
      "         !\"-      0.000     0.000     0.000         2\n",
      "          \"!      0.000     0.000     0.000         0\n",
      "         !\".      0.000     0.000     0.000         3\n",
      "          !?      0.000     0.000     0.000         0\n",
      "          ?!      0.000     0.000     0.000         0\n",
      "          ,-      0.000     0.000     0.000         4\n",
      "        !...      0.000     0.000     0.000         1\n",
      "         !).      0.000     0.000     0.000         0\n",
      "          )?      0.000     0.000     0.000         3\n",
      "        ?...      0.000     0.000     0.000         0\n",
      "          .?      0.000     0.000     0.000         0\n",
      "\n",
      "   micro avg      0.947     0.947     0.947    267543\n",
      "   macro avg      0.173     0.110     0.124    267543\n",
      "weighted avg      0.938     0.947     0.940    267543\n",
      "\n",
      "0.7437072675445471\n"
     ]
    },
    {
     "name": "stderr",
     "output_type": "stream",
     "text": [
      "/home/mariya/anaconda3/envs/masters/lib/python3.6/site-packages/sklearn/utils/validation.py:70: FutureWarning: Pass labels=[':', '!', ',', '?', ';', '.', '-', ',(', '\"', '\").', '(', ')', '?-', '.-', ':)', '!-', ':\"', '.\"', ':(', '?)', '\"?', '\".', '\";', '\"-', ').', '!,', '-\"', ')!', '\",', '.\")', '!;', ';(', '),', '?;', '?\"', ');', '.)', '?,', ';\"', '):', '[', ']', '...', '],', '\"(', ',[', ',\"', ']\",', ')-', '\":', '(\"', '\"),', '\"-[', '...,', '\")', '..', '\",\"', '?\".', '\"[', '\"(\"', '),\"', '\"\"', '-.', '.,', '].', ')\"', '!\"', '?\"-', '\":\"', '):\"', '\")-', '\"-\"', '-,', ')\".', '?\",', ']\".', '!\",', ']?', '...[', '];', '...\".', '!\"-', '\"!', '!\".', '!?', '?!', ',-', '!...', '!).', ')?', '?...', '.?'] as keyword args. From version 0.25 passing these as positional arguments will result in an error\n",
      "  FutureWarning)\n"
     ]
    },
    {
     "name": "stdout",
     "output_type": "stream",
     "text": [
      "              precision    recall  f1-score   support\n",
      "\n",
      "           :      0.899     0.739     0.811       923\n",
      "           !      0.493     0.210     0.295       347\n",
      "           ,      0.784     0.654     0.713     18592\n",
      "           ?      0.839     0.707     0.767       443\n",
      "           ;      0.235     0.056     0.091       622\n",
      "           .      0.936     0.987     0.961     11401\n",
      "           -      0.530     0.109     0.181       882\n",
      "          ,(      0.000     0.000     0.000         5\n",
      "           \"      0.632     0.145     0.236      1596\n",
      "         \").      0.000     0.000     0.000         0\n",
      "           (      0.961     0.883     0.920      1656\n",
      "           )      0.884     0.843     0.863      1001\n",
      "          ?-      0.000     0.000     0.000         4\n",
      "          .-      0.000     0.000     0.000         2\n",
      "          :)      0.000     0.000     0.000         0\n",
      "          !-      1.000     0.050     0.095        20\n",
      "          :\"      0.762     0.239     0.364        67\n",
      "          .\"      0.500     0.043     0.080        23\n",
      "          :(      0.000     0.000     0.000         1\n",
      "          ?)      0.000     0.000     0.000         0\n",
      "          \"?      0.000     0.000     0.000         1\n",
      "          \".      0.595     0.085     0.149       293\n",
      "          \";      0.000     0.000     0.000         5\n",
      "          \"-      0.500     0.036     0.067        28\n",
      "          ).      0.965     0.923     0.943       271\n",
      "          !,      0.000     0.000     0.000         0\n",
      "          -\"      0.000     0.000     0.000         7\n",
      "          )!      0.000     0.000     0.000         1\n",
      "          \",      0.730     0.551     0.628       829\n",
      "         .\")      0.000     0.000     0.000         1\n",
      "          !;      0.000     0.000     0.000         1\n",
      "          ;(      0.000     0.000     0.000         0\n",
      "          ),      0.824     0.661     0.734       381\n",
      "          ?;      0.000     0.000     0.000         0\n",
      "          ?\"      0.000     0.000     0.000         0\n",
      "          );      0.000     0.000     0.000         0\n",
      "          .)      0.000     0.000     0.000         1\n",
      "          ?,      0.000     0.000     0.000         1\n",
      "          ;\"      0.000     0.000     0.000         0\n",
      "          ):      1.000     0.727     0.842        11\n",
      "           [      0.000     0.000     0.000        45\n",
      "           ]      0.000     0.000     0.000        43\n",
      "         ...      0.000     0.000     0.000        61\n",
      "          ],      0.000     0.000     0.000         3\n",
      "          \"(      0.600     0.290     0.391        31\n",
      "          ,[      0.000     0.000     0.000         1\n",
      "          ,\"      0.000     0.000     0.000        44\n",
      "         ]\",      0.000     0.000     0.000         5\n",
      "          )-      0.000     0.000     0.000        17\n",
      "          \":      0.000     0.000     0.000         0\n",
      "          (\"      0.000     0.000     0.000         0\n",
      "         \"),      0.000     0.000     0.000         1\n",
      "         \"-[      0.000     0.000     0.000         0\n",
      "        ...,      0.000     0.000     0.000         3\n",
      "          \")      0.000     0.000     0.000         2\n",
      "          ..      0.500     0.333     0.400         3\n",
      "         \",\"      0.000     0.000     0.000        10\n",
      "         ?\".      0.000     0.000     0.000         2\n",
      "          \"[      0.000     0.000     0.000         0\n",
      "         \"(\"      0.000     0.000     0.000         2\n",
      "         ),\"      0.000     0.000     0.000         2\n",
      "          \"\"      0.000     0.000     0.000         2\n",
      "          -.      0.000     0.000     0.000         0\n",
      "          .,      0.000     0.000     0.000         0\n",
      "          ].      0.000     0.000     0.000         2\n",
      "          )\"      0.000     0.000     0.000         0\n",
      "          !\"      0.000     0.000     0.000         0\n",
      "         ?\"-      0.000     0.000     0.000         2\n",
      "         \":\"      0.000     0.000     0.000         1\n",
      "         ):\"      0.000     0.000     0.000         0\n",
      "         \")-      0.000     0.000     0.000         1\n",
      "         \"-\"      0.000     0.000     0.000         0\n",
      "          -,      0.000     0.000     0.000         1\n",
      "         )\".      0.000     0.000     0.000         1\n",
      "         ?\",      0.000     0.000     0.000         1\n",
      "         ]\".      0.000     0.000     0.000         0\n",
      "         !\",      0.000     0.000     0.000         1\n",
      "          ]?      0.000     0.000     0.000         0\n",
      "        ...[      0.000     0.000     0.000         2\n",
      "          ];      0.000     0.000     0.000         0\n",
      "       ...\".      0.000     0.000     0.000         0\n",
      "         !\"-      0.000     0.000     0.000         2\n",
      "          \"!      0.000     0.000     0.000         0\n",
      "         !\".      0.000     0.000     0.000         3\n",
      "          !?      0.000     0.000     0.000         0\n",
      "          ?!      0.000     0.000     0.000         0\n",
      "          ,-      0.000     0.000     0.000         4\n",
      "        !...      0.000     0.000     0.000         1\n",
      "         !).      0.000     0.000     0.000         0\n",
      "          )?      0.000     0.000     0.000         3\n",
      "        ?...      0.000     0.000     0.000         0\n",
      "          .?      0.000     0.000     0.000         0\n",
      "\n",
      "   micro avg      0.847     0.709     0.772     39718\n",
      "   macro avg      0.165     0.101     0.114     39718\n",
      "weighted avg      0.811     0.709     0.744     39718\n",
      "\n",
      "0.7547148202592848\n"
     ]
    },
    {
     "name": "stderr",
     "output_type": "stream",
     "text": [
      "/home/mariya/anaconda3/envs/masters/lib/python3.6/site-packages/sklearn/utils/validation.py:70: FutureWarning: Pass labels=[',', '(', ')', '\"', '[', ']', ';', '.', '?', '!', ':', '-', '...'] as keyword args. From version 0.25 passing these as positional arguments will result in an error\n",
      "  FutureWarning)\n"
     ]
    },
    {
     "name": "stdout",
     "output_type": "stream",
     "text": [
      "              precision    recall  f1-score   support\n",
      "\n",
      "           ,      0.784     0.654     0.713     18592\n",
      "           (      0.961     0.883     0.920      1656\n",
      "           )      0.884     0.843     0.863      1001\n",
      "           \"      0.632     0.145     0.236      1596\n",
      "           [      0.000     0.000     0.000        45\n",
      "           ]      0.000     0.000     0.000        43\n",
      "           ;      0.235     0.056     0.091       622\n",
      "           .      0.936     0.987     0.961     11401\n",
      "           ?      0.839     0.707     0.767       443\n",
      "           !      0.493     0.210     0.295       347\n",
      "           :      0.899     0.739     0.811       923\n",
      "           -      0.530     0.109     0.181       882\n",
      "         ...      0.000     0.000     0.000        61\n",
      "\n",
      "   micro avg      0.849     0.722     0.780     37612\n",
      "   macro avg      0.553     0.410     0.449     37612\n",
      "weighted avg      0.817     0.722     0.755     37612\n",
      "\n",
      "['Но синовете им не умъртви, защото постъпи според писаното в закона в книгата на Мойсей, където ГОСПОД заповяда и каза: Бащите да не умират заради синовете и синовете да не умират заради бащите, а всеки да умира за собствения си грях.', 'Но когато ти говоря ще отворя устата ти и ти им кажи: Така казва Господ БОГ: Който слуша, нека слуша, а който не слуша, нека не слуша, защото са бунтовен дом.', 'Защото кой е по-голям този, който седи на трапезата ли или онзи, който слугува?', 'А след това ще се насели, както в предишните дни, заявява ГОСПОД.', 'А Той беше на задната част, заспал на възглавница.', 'Ефрем е като птица славата му ще отлети.', 'И така той си отиде от него на известно разстояние.', 'Не бягам при халдейците.', 'И израилевите синове излязоха от египетската земя, строени.', 'А когато Ахитофел видя, че съветът му не се изпълни оседла магарето си и стана и отиде у дома си в своя град, и нареди домашните си работи и се обеси.', 'Ако умре някое животно от добитъка, който можете да ядете, който се допре до мършата му, ще бъде нечист до вечерта.', 'Но помощник съответен на Адам не се намери.', 'Който задържа жито, народът ще го проклина, а благословение ще почива на главата на този, който го продава.', 'Този човек беше праведен и благочестив и чакаше Утехата на Израил и Светият Дух беше на него.', 'Всичко е възможно за този, който вярва.', 'И видях височината на дома околовръст, основите на страничните стаи бяха една цяла тръстика от шест големи лакътя.', 'После да вземеш тлъстината на овена, опашката и тлъстината, която покрива вътрешностите, булото на дроба двата бъбрека с тлъстината, която е около тях и дясното бедро, защото е овен на посвещение и един хляб, една пита хляб, месен с маслинено масло и една кора от коша на безквасните хлябове, които са пред ГОСПОДА.', 'И от дима излязоха скакалци по земята и им се даде власт като властта, която имат земните скорпиони.', 'Ти си, ГОСПОДИ, само Ти.', 'И ще предаде Израил заради греховете на Еровоам, с които съгреши и с които въведе Израил в грях.', 'Синове на Елифаз: Теман и Омар, Сефи и Готом Кенез, и Тамна, и Амалик.', 'А гладът в Самария беше страшен.', 'Затова казах в сърцето си, че и това е суета.', 'Насладих се на сянката му и седнах и плодът му бе сладък в устата ми.', 'Защото така ми каза ГОСПОД: Както ръмжи над лова си лъвът младият лъв срещу когото се свикват множество овчари и не се плаши от гласа им, и не се отдръпва пред шума им, така ГОСПОД на Войнствата, ще слезе за да воюва за хълма Сион и за неговото възвишение.', 'Отче, свети, опази ги в Името Си, което си Ми дал, за да бъдат едно, както сме и Ние.', 'И да правите разлика между чистите животни и нечистите и между нечистите птици и чистите и да не осквернявате себе си с животно, или с птица, или с каквото и да е, което пълзи по земята, което Аз съм ви отделил като нечисто.', 'И ГОСПОД укрепи моавския цар Еглон против Израил, защото вършиха зло пред ГОСПОДА.', 'И Духът ми каза да отида с тях, без да се двоумя.', 'В двадесет и седмата година на израилевия цар Еровоам се възцари Азария, синът на юдовия цар Амасия.', 'Защото вашата послушност е известна на всички; затова се радвам за вас.', 'Той изтегля всички с въдица влачи ги в мрежата си и ги събира в рибарската си мрежа- затова се радва и се весели.', 'Благословен да е ГОСПОД Бог Богът на Израил, който единствен върши чудеса.', 'И които влязоха мъжко и женско от всяка плът, влязоха, както Бог му беше заповядал, и ГОСПОД затвори след него.', 'Тогава царят каза на Божия човек: Ела с мен у дома и се подкрепи и ще ти дам подарък.', 'И ето, въпреки че е посадена ще успее ли?', 'От дома Тогарма, даваха за стоките ти коне бойни коне и мулета.', 'Затова заповядай гробът да се пази здраво до третия ден да не би учениците Му да дойдат и да Го откраднат и да кажат на народа Възкръсна от мъртвите.', 'И когато отвори петия печат, видях под олтара, душите на онези, които са били заклани за Божието слово и за свидетелството, което държаха.', 'И свещениците, които служат на ГОСПОДА са синовете на Аарон и левитите са в службата.', 'Той тича след тях с умолителни думи, но тях ги няма.', 'И измери дължината му четиридесет лакътя и ширината му- двадесет лакътя.', 'Затова, така казва ГОСПОД, Бог на Войнствата, Израилевият Бог: Ето, Аз ще докарам върху Юда и върху всичките ерусалимски жители цялото зло, което говорих против тях, защото им говорих, но не слушаха и ги виках, но не отговаряха.', 'Сине мой, слушай наставлението на баща си и не отхвърляй закона на майка си, защото те ще бъдат благодатен венец за главата ти и огърлица за шията ти.', 'Тогава облакът започна да се издига от града в димен стълб и Вениамин, се обърна и ето, целият град се издигаше в пламъци към небето.', 'В онзи ден няма да се срамуваш от всичките си дела, с които си отстъпил от Мен, защото тогава ще отнема отсред теб, твоите, които горделиво тържествуват и ти няма вече да се държиш надменно на светия Ми хълм.', 'А свинарите, като видяха станалото, избягаха и разказаха за това в града и в селата.', 'И Илий благослови Елкана и жена му и каза: ГОСПОД да ти даде потомство от тази жена, вместо заетото, което беше посветено на ГОСПОДА.', 'И ако живее във вас, Духът на Този, който възкреси Иисус от мъртвите то Този, който възкреси Христос от мъртвите ще съживи и вашите смъртни тела чрез Духа Си, който живее във вас.', 'А ГОСПОД си извърши, както беше говорил чрез мен и ГОСПОД откъсна царството от ръката ти и го даде на ближния ти на Давид.', 'Даде и храна, за магаретата им.', 'Книгата на видението на елкусеянина Наум.', 'И направи олтара за всеизгаряне от акациево дърво, пет лакътя беше дължината му и пет лакътя беше ширината му, четвъртит и три лакътя беше височината му.', 'Те ми казаха: Направи ни богове, които да ходят пред нас, защото на този Мойсей човека, който ни изведе от египетската земя не знаем какво му стана.', 'Тогава Мардохей каза да отговорят на Естир: Не мисли в себе си, че от всичките юдеи само ти ще се избавиш в царския дом.', 'Но аз не бих познал греха освен чрез закона, защото не бих знаел пожелание, ако законът не беше казал: Не пожелавай.', 'Тогава народът Му си спомни за древните дни на Мойсей: Къде е Онзи, който ги изведе от морето с пастирите на стадото Си?', 'И три пъти в годината Соломон принасяше всеизгаряния и примирителни жертви върху олтара, който построи на ГОСПОДА и кадеше върху олтара, който беше пред ГОСПОДА.', 'И след като им поставиха старейшини във всяка църква и се помолиха с пост ги препоръчаха на Господа, в когото бяха повярвали.', 'С нея Той подейства в Христос, като Го възкреси от мъртвите и Го сложи да седне от дясната Си страна на небесата далеч над всяко началство и власт и сила и господство и всяко име, с което се наименуват не само в този свят, но и в бъдещия.', 'Стрелец срещу стрелец да опъва лъка си и срещу онзи, който се надига в бронята си.', 'Затова онази нива е, наречена и до днес Кръвна нива.', 'И така слугите на цар Езекия отидоха при Исая.', 'И никой свещеник да не пие вино, когато влиза във вътрешния двор.', 'И Охозия, падна през решетката на горната си, стая в Самария и се разболя.', 'Защо не разбирате Моето говорене?', 'А Лаван в отговор каза на Яков: Тези дъщери са мои дъщери и синовете са мои синове и стадата, са мои стада.', 'А чуждият, който се приближи да се умъртви.', 'И двамата сина на Илий, Офний и Финеес бяха там с ковчега на Божия завет.', 'Иисус му каза: Лисиците си имат леговища и небесните птици гнезда, а Човешкият Син няма къде глава да подслони.', 'От кръвта на убитите от тлъстината на силните, лъкът на Йонатан не се обръщаше назад и мечът на Саул не се връщаше празен.', 'Станах за присмех на целия си народ и за тяхна подигравателна песен цял ден.', 'Да учите на тях синовете си, като говорите за тях, когато седиш в къщата си, когато ходиш по пътя, когато лягаш и когато ставаш.', 'И ГОСПОД се разкая за злото, което беше казал, че ще направи на народа Си.', 'А Юда изпрати ярето чрез ръката на приятеля си одоламеца, за да вземе залога от ръката на жената, но той не я намери.', 'И царят заповяда и доведоха онези мъже, които бяха издали Даниил, и хвърлиха тях децата им и жените им в рова на лъвовете и още преди да стигнат до дъното на рова, лъвовете ги сграбчиха и строшиха всичките им кости.', 'И Йоав и народът, който беше с него настъпиха за битката против арамейците; и те побягнаха пред него.', 'И като го повикаха Тертил, започна да обвинява като казваше: Понеже чрез теб честити Феликсе, се радваме на голямо спокойствие и понеже чрез твоята предвидливост има подобрения за този народ, то ние с пълна благодарност винаги и навсякъде посрещаме това.', 'Защото Йоан казваше на Ирод: Не ти е позволено да имаш жената на брат си.', 'А в първия ден на седмицата много рано сутринта те дойдоха на гроба, като носеха благоуханните масла, които бяха приготвили.', 'Ще бъде ли добре да ви изпита Той?', 'След това Яков каза на Лаван: Дай жена ми, защото дойде време да вляза при нея.', 'А посветените дарове, бяха шестстотин говеда и три хиляди овце.', 'Кога ще се събудя за да продължа да го потърся пак.', 'Изнемогвам от викането си гърлото ми е пресъхнало очите ми чезнат, докато чакам своя Бог.', 'Това са родовете на Мерарий.', 'На следващия ден едно голямо множество, което беше дошло на празника, като чуха, че Иисус идвал в Ерусалим, взеха палмови клони и излязоха да Го посрещнат, викайки Осанна.', 'И той каза: Имам нещо да ти кажа.', 'Ако някой, който е престъпил закона на Мойсей умира безпощадно при думата на двама или трима свидетели, то колко по-тежко наказание мислите ще заслужи онзи, който е потъпкал Божия Син и е счел за просто нещо, кръвта на завета, с която е бил осветен и е оскърбил Духа на благодатта.', 'Върни се, сине мой, Давиде, защото няма вече да ти сторя зло, понеже днес животът ми беше скъпоценен пред очите ти.', 'Ще дойдат големци от Египет Етиопия бързо ще протегне ръцете си към Бога.', 'Затова хората Му се боят и Той не гледа на никого от мъдрите по сърце.', 'И Го следваше голямо множество от народ и жени, които плачеха за Него.', 'Ето ви семе засейте земята!', 'И Давид дойде във Ваал-Ферасим и Давид ги разби там, и каза: ГОСПОД разсече пред мен, враговете ми, както водите правят пролом.', 'Кадилниците на тези мъже, които съгрешиха против живота си, нека ги направят на плочи за обковаване на олтара, защото те ги принесоха пред ГОСПОДА и затова са свети и те ще бъдат за знамение на израилевите синове.', 'И когато фараонът отказваше да ни пусне, ГОСПОД, уби всяко първородно в египетската земя от първородно на човек до първородно на животно, затова жертвам на ГОСПОДА всяко първородно, което е мъжко, а всеки първороден от синовете си изкупувам.', 'А без вяра не е възможно да се угоди на Бога, защото, който идва при Бога, трябва да вярва, че Той съществува и че възнаграждава тези, които Го търсят.', 'И докато още говореше с тях, ето, пратеникът слезе при него и каза: Ето, това зло е от ГОСПОДА.', 'А вие сами ли ще продадете братята си?']\n"
     ]
    }
   ],
   "source": [
    "labels = list(crf.classes_)\n",
    "y_pred = crf.predict(X_dev)\n",
    "print(metrics.flat_f1_score(y_dev, y_pred, average='weighted', labels=labels))\n",
    "print(metrics.flat_classification_report(y_dev, y_pred, labels=labels, digits=3))\n",
    "labels.remove('')\n",
    "print(metrics.flat_f1_score(y_dev, y_pred, average='weighted', labels=labels))\n",
    "print(metrics.flat_classification_report(y_dev, y_pred, labels=labels, digits=3))\n",
    "labels = [',','(',')','\"','[',']',';','.','?','!',':','-', '...']\n",
    "print(metrics.flat_f1_score(y_dev, y_pred, average='weighted', labels=labels))\n",
    "print(metrics.flat_classification_report(y_dev, y_pred, labels=labels, digits=3))\n",
    "punctuated_sentences = punctuate(X_dev, y_pred)\n",
    "print(punctuated_sentences[:100])"
   ]
  },
  {
   "cell_type": "markdown",
   "id": "d3115787",
   "metadata": {},
   "source": [
    "### Try out another learning algorithm"
   ]
  },
  {
   "cell_type": "code",
   "execution_count": 30,
   "id": "fcd3d285",
   "metadata": {},
   "outputs": [
    {
     "name": "stdout",
     "output_type": "stream",
     "text": [
      "CPU times: user 5min 49s, sys: 220 ms, total: 5min 49s\n",
      "Wall time: 5min 48s\n"
     ]
    }
   ],
   "source": [
    "%%time\n",
    "crf = sklearn_crfsuite.CRF(\n",
    "    algorithm='l2sgd',\n",
    "    c2=0.1,\n",
    "    max_iterations=200,\n",
    "    all_possible_transitions=True\n",
    ")\n",
    "crf.fit(X_train, y_train)"
   ]
  },
  {
   "cell_type": "code",
   "execution_count": 31,
   "id": "15e69c8d",
   "metadata": {},
   "outputs": [
    {
     "name": "stderr",
     "output_type": "stream",
     "text": [
      "/home/mariya/anaconda3/envs/masters/lib/python3.6/site-packages/sklearn/metrics/_classification.py:1465: UndefinedMetricWarning: F-score is ill-defined and being set to 0.0 in labels with no true nor predicted samples. Use `zero_division` parameter to control this behavior.\n",
      "  average, \"true nor predicted\", 'F-score is', len(true_sum)\n",
      "/home/mariya/anaconda3/envs/masters/lib/python3.6/site-packages/sklearn/utils/validation.py:70: FutureWarning: Pass labels=['', ':', '!', ',', '?', ';', '.', '-', ',(', '\"', '\").', '(', ')', '?-', '.-', ':)', '!-', ':\"', '.\"', ':(', '?)', '\"?', '\".', '\";', '\"-', ').', '!,', '-\"', ')!', '\",', '.\")', '!;', ';(', '),', '?;', '?\"', ');', '.)', '?,', ';\"', '):', '[', ']', '...', '],', '\"(', ',[', ',\"', ']\",', ')-', '\":', '(\"', '\"),', '\"-[', '...,', '\")', '..', '\",\"', '?\".', '\"[', '\"(\"', '),\"', '\"\"', '-.', '.,', '].', ')\"', '!\"', '?\"-', '\":\"', '):\"', '\")-', '\"-\"', '-,', ')\".', '?\",', ']\".', '!\",', ']?', '...[', '];', '...\".', '!\"-', '\"!', '!\".', '!?', '?!', ',-', '!...', '!).', ')?', '?...', '.?'] as keyword args. From version 0.25 passing these as positional arguments will result in an error\n",
      "  FutureWarning)\n"
     ]
    },
    {
     "name": "stdout",
     "output_type": "stream",
     "text": [
      "0.9164711351052118\n"
     ]
    },
    {
     "name": "stderr",
     "output_type": "stream",
     "text": [
      "/home/mariya/anaconda3/envs/masters/lib/python3.6/site-packages/sklearn/metrics/_classification.py:1221: UndefinedMetricWarning: Precision and F-score are ill-defined and being set to 0.0 in labels with no predicted samples. Use `zero_division` parameter to control this behavior.\n",
      "  _warn_prf(average, modifier, msg_start, len(result))\n",
      "/home/mariya/anaconda3/envs/masters/lib/python3.6/site-packages/sklearn/metrics/_classification.py:1221: UndefinedMetricWarning: Recall and F-score are ill-defined and being set to 0.0 in labels with no true samples. Use `zero_division` parameter to control this behavior.\n",
      "  _warn_prf(average, modifier, msg_start, len(result))\n"
     ]
    },
    {
     "name": "stdout",
     "output_type": "stream",
     "text": [
      "              precision    recall  f1-score   support\n",
      "\n",
      "                  0.943     0.992     0.967    227825\n",
      "           :      0.957     0.358     0.521       923\n",
      "           !      0.000     0.000     0.000       347\n",
      "           ,      0.791     0.507     0.618     18592\n",
      "           ?      1.000     0.023     0.044       443\n",
      "           ;      0.045     0.002     0.003       622\n",
      "           .      0.866     0.990     0.924     11401\n",
      "           -      0.000     0.000     0.000       882\n",
      "          ,(      0.000     0.000     0.000         5\n",
      "           \"      0.167     0.001     0.001      1596\n",
      "         \").      0.000     0.000     0.000         0\n",
      "           (      0.922     0.712     0.803      1656\n",
      "           )      0.793     0.670     0.727      1001\n",
      "          ?-      0.000     0.000     0.000         4\n",
      "          .-      0.000     0.000     0.000         2\n",
      "          :)      0.000     0.000     0.000         0\n",
      "          !-      0.000     0.000     0.000        20\n",
      "          :\"      0.000     0.000     0.000        67\n",
      "          .\"      0.000     0.000     0.000        23\n",
      "          :(      0.000     0.000     0.000         1\n",
      "          ?)      0.000     0.000     0.000         0\n",
      "          \"?      0.000     0.000     0.000         1\n",
      "          \".      0.000     0.000     0.000       293\n",
      "          \";      0.000     0.000     0.000         5\n",
      "          \"-      0.000     0.000     0.000        28\n",
      "          ).      1.000     0.007     0.015       271\n",
      "          !,      0.000     0.000     0.000         0\n",
      "          -\"      0.000     0.000     0.000         7\n",
      "          )!      0.000     0.000     0.000         1\n",
      "          \",      0.719     0.355     0.475       829\n",
      "         .\")      0.000     0.000     0.000         1\n",
      "          !;      0.000     0.000     0.000         1\n",
      "          ;(      0.000     0.000     0.000         0\n",
      "          ),      1.000     0.013     0.026       381\n",
      "          ?;      0.000     0.000     0.000         0\n",
      "          ?\"      0.000     0.000     0.000         0\n",
      "          );      0.000     0.000     0.000         0\n",
      "          .)      0.000     0.000     0.000         1\n",
      "          ?,      0.000     0.000     0.000         1\n",
      "          ;\"      0.000     0.000     0.000         0\n",
      "          ):      0.000     0.000     0.000        11\n",
      "           [      0.000     0.000     0.000        45\n",
      "           ]      0.000     0.000     0.000        43\n",
      "         ...      0.000     0.000     0.000        61\n",
      "          ],      0.000     0.000     0.000         3\n",
      "          \"(      0.000     0.000     0.000        31\n",
      "          ,[      0.000     0.000     0.000         1\n",
      "          ,\"      0.000     0.000     0.000        44\n",
      "         ]\",      0.000     0.000     0.000         5\n",
      "          )-      0.000     0.000     0.000        17\n",
      "          \":      0.000     0.000     0.000         0\n",
      "          (\"      0.000     0.000     0.000         0\n",
      "         \"),      0.000     0.000     0.000         1\n",
      "         \"-[      0.000     0.000     0.000         0\n",
      "        ...,      0.000     0.000     0.000         3\n",
      "          \")      0.000     0.000     0.000         2\n",
      "          ..      0.000     0.000     0.000         3\n",
      "         \",\"      0.000     0.000     0.000        10\n",
      "         ?\".      0.000     0.000     0.000         2\n",
      "          \"[      0.000     0.000     0.000         0\n",
      "         \"(\"      0.000     0.000     0.000         2\n",
      "         ),\"      0.000     0.000     0.000         2\n",
      "          \"\"      0.000     0.000     0.000         2\n",
      "          -.      0.000     0.000     0.000         0\n",
      "          .,      0.000     0.000     0.000         0\n",
      "          ].      0.000     0.000     0.000         2\n",
      "          )\"      0.000     0.000     0.000         0\n",
      "          !\"      0.000     0.000     0.000         0\n",
      "         ?\"-      0.000     0.000     0.000         2\n",
      "         \":\"      0.000     0.000     0.000         1\n",
      "         ):\"      0.000     0.000     0.000         0\n",
      "         \")-      0.000     0.000     0.000         1\n",
      "         \"-\"      0.000     0.000     0.000         0\n",
      "          -,      0.000     0.000     0.000         1\n",
      "         )\".      0.000     0.000     0.000         1\n",
      "         ?\",      0.000     0.000     0.000         1\n",
      "         ]\".      0.000     0.000     0.000         0\n",
      "         !\",      0.000     0.000     0.000         1\n",
      "          ]?      0.000     0.000     0.000         0\n",
      "        ...[      0.000     0.000     0.000         2\n",
      "          ];      0.000     0.000     0.000         0\n",
      "       ...\".      0.000     0.000     0.000         0\n",
      "         !\"-      0.000     0.000     0.000         2\n",
      "          \"!      0.000     0.000     0.000         0\n",
      "         !\".      0.000     0.000     0.000         3\n",
      "          !?      0.000     0.000     0.000         0\n",
      "          ?!      0.000     0.000     0.000         0\n",
      "          ,-      0.000     0.000     0.000         4\n",
      "        !...      0.000     0.000     0.000         1\n",
      "         !).      0.000     0.000     0.000         0\n",
      "          )?      0.000     0.000     0.000         3\n",
      "        ?...      0.000     0.000     0.000         0\n",
      "          .?      0.000     0.000     0.000         0\n",
      "\n",
      "   micro avg      0.931     0.931     0.931    267543\n",
      "   macro avg      0.099     0.050     0.055    267543\n",
      "weighted avg      0.914     0.931     0.916    267543\n",
      "\n",
      "0.6290514254952139\n"
     ]
    },
    {
     "name": "stderr",
     "output_type": "stream",
     "text": [
      "/home/mariya/anaconda3/envs/masters/lib/python3.6/site-packages/sklearn/utils/validation.py:70: FutureWarning: Pass labels=[':', '!', ',', '?', ';', '.', '-', ',(', '\"', '\").', '(', ')', '?-', '.-', ':)', '!-', ':\"', '.\"', ':(', '?)', '\"?', '\".', '\";', '\"-', ').', '!,', '-\"', ')!', '\",', '.\")', '!;', ';(', '),', '?;', '?\"', ');', '.)', '?,', ';\"', '):', '[', ']', '...', '],', '\"(', ',[', ',\"', ']\",', ')-', '\":', '(\"', '\"),', '\"-[', '...,', '\")', '..', '\",\"', '?\".', '\"[', '\"(\"', '),\"', '\"\"', '-.', '.,', '].', ')\"', '!\"', '?\"-', '\":\"', '):\"', '\")-', '\"-\"', '-,', ')\".', '?\",', ']\".', '!\",', ']?', '...[', '];', '...\".', '!\"-', '\"!', '!\".', '!?', '?!', ',-', '!...', '!).', ')?', '?...', '.?'] as keyword args. From version 0.25 passing these as positional arguments will result in an error\n",
      "  FutureWarning)\n"
     ]
    },
    {
     "name": "stdout",
     "output_type": "stream",
     "text": [
      "              precision    recall  f1-score   support\n",
      "\n",
      "           :      0.957     0.358     0.521       923\n",
      "           !      0.000     0.000     0.000       347\n",
      "           ,      0.791     0.507     0.618     18592\n",
      "           ?      1.000     0.023     0.044       443\n",
      "           ;      0.045     0.002     0.003       622\n",
      "           .      0.866     0.990     0.924     11401\n",
      "           -      0.000     0.000     0.000       882\n",
      "          ,(      0.000     0.000     0.000         5\n",
      "           \"      0.167     0.001     0.001      1596\n",
      "         \").      0.000     0.000     0.000         0\n",
      "           (      0.922     0.712     0.803      1656\n",
      "           )      0.793     0.670     0.727      1001\n",
      "          ?-      0.000     0.000     0.000         4\n",
      "          .-      0.000     0.000     0.000         2\n",
      "          :)      0.000     0.000     0.000         0\n",
      "          !-      0.000     0.000     0.000        20\n",
      "          :\"      0.000     0.000     0.000        67\n",
      "          .\"      0.000     0.000     0.000        23\n",
      "          :(      0.000     0.000     0.000         1\n",
      "          ?)      0.000     0.000     0.000         0\n",
      "          \"?      0.000     0.000     0.000         1\n",
      "          \".      0.000     0.000     0.000       293\n",
      "          \";      0.000     0.000     0.000         5\n",
      "          \"-      0.000     0.000     0.000        28\n",
      "          ).      1.000     0.007     0.015       271\n",
      "          !,      0.000     0.000     0.000         0\n",
      "          -\"      0.000     0.000     0.000         7\n",
      "          )!      0.000     0.000     0.000         1\n",
      "          \",      0.719     0.355     0.475       829\n",
      "         .\")      0.000     0.000     0.000         1\n",
      "          !;      0.000     0.000     0.000         1\n",
      "          ;(      0.000     0.000     0.000         0\n",
      "          ),      1.000     0.013     0.026       381\n",
      "          ?;      0.000     0.000     0.000         0\n",
      "          ?\"      0.000     0.000     0.000         0\n",
      "          );      0.000     0.000     0.000         0\n",
      "          .)      0.000     0.000     0.000         1\n",
      "          ?,      0.000     0.000     0.000         1\n",
      "          ;\"      0.000     0.000     0.000         0\n",
      "          ):      0.000     0.000     0.000        11\n",
      "           [      0.000     0.000     0.000        45\n",
      "           ]      0.000     0.000     0.000        43\n",
      "         ...      0.000     0.000     0.000        61\n",
      "          ],      0.000     0.000     0.000         3\n",
      "          \"(      0.000     0.000     0.000        31\n",
      "          ,[      0.000     0.000     0.000         1\n",
      "          ,\"      0.000     0.000     0.000        44\n",
      "         ]\",      0.000     0.000     0.000         5\n",
      "          )-      0.000     0.000     0.000        17\n",
      "          \":      0.000     0.000     0.000         0\n",
      "          (\"      0.000     0.000     0.000         0\n",
      "         \"),      0.000     0.000     0.000         1\n",
      "         \"-[      0.000     0.000     0.000         0\n",
      "        ...,      0.000     0.000     0.000         3\n",
      "          \")      0.000     0.000     0.000         2\n",
      "          ..      0.000     0.000     0.000         3\n",
      "         \",\"      0.000     0.000     0.000        10\n",
      "         ?\".      0.000     0.000     0.000         2\n",
      "          \"[      0.000     0.000     0.000         0\n",
      "         \"(\"      0.000     0.000     0.000         2\n",
      "         ),\"      0.000     0.000     0.000         2\n",
      "          \"\"      0.000     0.000     0.000         2\n",
      "          -.      0.000     0.000     0.000         0\n",
      "          .,      0.000     0.000     0.000         0\n",
      "          ].      0.000     0.000     0.000         2\n",
      "          )\"      0.000     0.000     0.000         0\n",
      "          !\"      0.000     0.000     0.000         0\n",
      "         ?\"-      0.000     0.000     0.000         2\n",
      "         \":\"      0.000     0.000     0.000         1\n",
      "         ):\"      0.000     0.000     0.000         0\n",
      "         \")-      0.000     0.000     0.000         1\n",
      "         \"-\"      0.000     0.000     0.000         0\n",
      "          -,      0.000     0.000     0.000         1\n",
      "         )\".      0.000     0.000     0.000         1\n",
      "         ?\",      0.000     0.000     0.000         1\n",
      "         ]\".      0.000     0.000     0.000         0\n",
      "         !\",      0.000     0.000     0.000         1\n",
      "          ]?      0.000     0.000     0.000         0\n",
      "        ...[      0.000     0.000     0.000         2\n",
      "          ];      0.000     0.000     0.000         0\n",
      "       ...\".      0.000     0.000     0.000         0\n",
      "         !\"-      0.000     0.000     0.000         2\n",
      "          \"!      0.000     0.000     0.000         0\n",
      "         !\".      0.000     0.000     0.000         3\n",
      "          !?      0.000     0.000     0.000         0\n",
      "          ?!      0.000     0.000     0.000         0\n",
      "          ,-      0.000     0.000     0.000         4\n",
      "        !...      0.000     0.000     0.000         1\n",
      "         !).      0.000     0.000     0.000         0\n",
      "          )?      0.000     0.000     0.000         3\n",
      "        ?...      0.000     0.000     0.000         0\n",
      "          .?      0.000     0.000     0.000         0\n",
      "\n",
      "   micro avg      0.832     0.584     0.686     39718\n",
      "   macro avg      0.090     0.040     0.045     39718\n",
      "weighted avg      0.749     0.584     0.629     39718\n",
      "\n",
      "0.6534372497327611\n"
     ]
    },
    {
     "name": "stderr",
     "output_type": "stream",
     "text": [
      "/home/mariya/anaconda3/envs/masters/lib/python3.6/site-packages/sklearn/utils/validation.py:70: FutureWarning: Pass labels=[',', '(', ')', '\"', '[', ']', ';', '.', '?', '!', ':', '-', '...'] as keyword args. From version 0.25 passing these as positional arguments will result in an error\n",
      "  FutureWarning)\n"
     ]
    },
    {
     "name": "stdout",
     "output_type": "stream",
     "text": [
      "              precision    recall  f1-score   support\n",
      "\n",
      "           ,      0.791     0.507     0.618     18592\n",
      "           (      0.922     0.712     0.803      1656\n",
      "           )      0.793     0.670     0.727      1001\n",
      "           \"      0.167     0.001     0.001      1596\n",
      "           [      0.000     0.000     0.000        45\n",
      "           ]      0.000     0.000     0.000        43\n",
      "           ;      0.045     0.002     0.003       622\n",
      "           .      0.866     0.990     0.924     11401\n",
      "           ?      1.000     0.023     0.044       443\n",
      "           !      0.000     0.000     0.000       347\n",
      "           :      0.957     0.358     0.521       923\n",
      "           -      0.000     0.000     0.000       882\n",
      "         ...      0.000     0.000     0.000        61\n",
      "\n",
      "   micro avg      0.834     0.609     0.704     37612\n",
      "   macro avg      0.426     0.251     0.280     37612\n",
      "weighted avg      0.758     0.609     0.653     37612\n",
      "\n",
      "['Но синовете им не умъртви, защото постъпи според писаното в закона в книгата на Мойсей, където ГОСПОД заповяда и каза: Бащите да не умират заради синовете и синовете да не умират заради бащите, а всеки да умира за собствения си грях.', 'Но когато ти говоря ще отворя устата, ти и ти им кажи: Така казва Господ БОГ, Който слуша нека слуша, а който не слуша, нека не слуша, защото са бунтовен дом.', 'Защото кой е по-голям този, който седи на трапезата ли или онзи, който слугува?', 'А след това ще се насели, както в предишните дни, заявява ГОСПОД.', 'А Той беше на задната част заспал на възглавница.', 'Ефрем е като птица славата му ще отлети.', 'И така той си отиде от него на известно разстояние.', 'Не бягам при халдейците.', 'И израилевите синове излязоха от египетската земя строени.', 'А когато Ахитофел видя, че съветът му не се изпълни оседла магарето си и стана и отиде у дома си в своя град и нареди домашните си работи, и се обеси.', 'Ако умре някое животно от добитъка, който можете да ядете, който се допре до мършата му ще бъде нечист до вечерта.', 'Но помощник съответен на Адам не се намери.', 'Който задържа жито, народът ще го проклина, а благословение ще почива на главата на този, който го продава.', 'Този човек беше праведен и благочестив и чакаше Утехата на Израил и Светият Дух беше на него.', 'Всичко е възможно за този, който вярва.', 'И видях височината на дома околовръст основите на страничните стаи бяха една цяла тръстика от шест големи лакътя.', 'После да вземеш тлъстината на овена опашката и тлъстината, която покрива вътрешностите булото на дроба двата бъбрека с тлъстината, която е около тях и дясното бедро, защото е овен на посвещение и един хляб, една пита хляб, месен с маслинено масло и една кора от коша на безквасните хлябове, които са пред ГОСПОДА.', 'И от дима излязоха скакалци по земята и им се даде власт като властта, която имат земните скорпиони.', 'Ти си ГОСПОДИ, само Ти.', 'И ще предаде Израил заради греховете на Еровоам, с които съгреши и с които въведе Израил в грях.', 'Синове на Елифаз Теман и Омар Сефи и Готом Кенез и Тамна и Амалик.', 'А гладът в Самария беше страшен.', 'Затова казах в сърцето си, че и това е суета.', 'Насладих се на сянката му и седнах и плодът му бе сладък в устата ми.', 'Защото така ми каза ГОСПОД, Както ръмжи над лова си лъвът младият лъв срещу когото се свикват множество овчари и не се плаши от гласа им и не се отдръпва пред шума им, така ГОСПОД на Войнствата ще слезе за да воюва за хълма Сион и за неговото възвишение.', 'Отче свети опази ги в Името Си, което си Ми дал за да бъдат едно, както сме и Ние.', 'И да правите разлика между чистите животни и нечистите и между нечистите птици и чистите и да не осквернявате себе си с животно, или с птица, или с каквото и да е което пълзи по земята, което Аз съм ви отделил като нечисто.', 'И ГОСПОД укрепи моавския цар Еглон против Израил, защото вършиха зло пред ГОСПОДА.', 'И Духът ми каза да отида с тях без да се двоумя.', 'В двадесет и седмата година на израилевия цар Еровоам се възцари Азария, синът на юдовия цар Амасия.', 'Защото вашата послушност е известна на всички затова се радвам за вас.', 'Той изтегля всички с въдица влачи ги в мрежата си и ги събира в рибарската си мрежа, затова се радва и се весели.', 'Благословен да е ГОСПОД Бог, Богът на Израил, който единствен върши чудеса.', 'И които влязоха мъжко и женско от всяка плът влязоха, както Бог му беше заповядал и ГОСПОД затвори след него.', 'Тогава царят каза на Божия човек Ела с мен у дома и се подкрепи и ще ти дам подарък.', 'И ето въпреки че е посадена ще успее ли.', 'От дома Тогарма даваха за стоките ти коне бойни коне и мулета.', 'Затова заповядай гробът да се пази здраво до третия ден да не би учениците Му да дойдат и да Го откраднат и да кажат на народа Възкръсна от мъртвите.', 'И когато отвори петия печат видях под олтара душите на онези, които са били заклани за Божието слово и за свидетелството, което държаха.', 'И свещениците, които служат на ГОСПОДА са синовете на Аарон и левитите са в службата.', 'Той тича след тях с умолителни думи, но тях ги няма.', 'И измери дължината му четиридесет лакътя и ширината му двадесет лакътя.', 'Затова така казва ГОСПОД Бог на Войнствата, Израилевият Бог Ето, Аз ще докарам върху Юда и върху всичките ерусалимски жители, цялото зло, което говорих против тях, защото им говорих, но не слушаха и ги виках, но не отговаряха.', 'Сине мой слушай наставлението на баща си и не отхвърляй закона на майка си, защото те ще бъдат благодатен венец за главата ти и огърлица за шията ти.', 'Тогава облакът започна да се издига от града в димен стълб и Вениамин се обърна и ето целият град се издигаше в пламъци към небето.', 'В онзи ден няма да се срамуваш от всичките си дела, с които си отстъпил от Мен, защото тогава ще отнема отсред теб твоите, които горделиво тържествуват и ти няма вече да се държиш надменно на светия Ми хълм.', 'А свинарите като видяха станалото избягаха и разказаха за това в града и в селата.', 'И Илий благослови Елкана и жена му и каза: ГОСПОД да ти даде потомство от тази жена вместо заетото, което беше посветено на ГОСПОДА.', 'И ако живее във вас Духът на Този, който възкреси Иисус от мъртвите то Този, който възкреси Христос от мъртвите ще съживи и вашите смъртни тела чрез Духа Си, който живее във вас.', 'А ГОСПОД си извърши, както беше говорил чрез мен и ГОСПОД откъсна царството от ръката ти и го даде на ближния ти на Давид.', 'Даде и храна за магаретата им.', 'Книгата на видението на елкусеянина Наум.', 'И направи олтара за всеизгаряне от акациево дърво пет лакътя беше дължината му и пет лакътя беше ширината му четвъртит и три лакътя беше височината му.', 'Те ми казаха Направи ни богове, които да ходят пред нас, защото на този Мойсей човека, който ни изведе от египетската земя не знаем какво му стана.', 'Тогава Мардохей, каза да отговорят на Естир, Не мисли в себе си, че от всичките юдеи, само ти ще се избавиш в царския дом.', 'Но аз не бих познал греха освен чрез закона, защото не бих знаел пожелание, ако законът не беше казал: Не пожелавай.', 'Тогава народът Му си спомни за древните дни на Мойсей, Къде е Онзи, който ги изведе от морето с пастирите на стадото Си.', 'И три пъти в годината Соломон принасяше всеизгаряния и примирителни жертви върху олтара, който построи на ГОСПОДА, и кадеше върху олтара, който беше пред ГОСПОДА.', 'И след като им поставиха старейшини във всяка църква и се помолиха с пост ги препоръчаха на Господа, в когото бяха повярвали.', 'С нея Той подейства в Христос, като Го възкреси от мъртвите и Го сложи да седне от дясната Си страна на небесата далеч над всяко началство и власт и сила и господство и всяко име, с което се наименуват не само в този свят, но и в бъдещия.', 'Стрелец срещу стрелец да опъва лъка си и срещу онзи, който се надига в бронята си.', 'Затова онази нива е наречена и до днес Кръвна нива.', 'И така слугите на цар Езекия отидоха при Исая.', 'И никой свещеник да не пие вино, когато влиза във вътрешния двор.', 'И Охозия падна през решетката на горната си стая в Самария и се разболя.', 'Защо не разбирате Моето говорене.', 'А Лаван в отговор, каза на Яков Тези дъщери са мои дъщери и синовете са мои синове и стадата са мои стада.', 'А чуждият, който се приближи да се умъртви.', 'И двамата сина на Илий Офний и Финеес бяха там с ковчега на Божия завет.', 'Иисус му каза: Лисиците си имат леговища и небесните птици гнезда, а Човешкият Син няма къде глава да подслони.', 'От кръвта на убитите от тлъстината на силните лъкът на Йонатан не се обръщаше назад и мечът на Саул не се връщаше празен.', 'Станах за присмех на целия си народ и за тяхна подигравателна песен цял ден.', 'Да учите на тях синовете си, като говорите за тях, когато седиш в къщата си, когато ходиш по пътя, когато лягаш и когато ставаш.', 'И ГОСПОД се разкая за злото, което беше казал, че ще направи на народа Си.', 'А Юда изпрати ярето чрез ръката на приятеля си одоламеца, за да вземе залога от ръката на жената, но той не я намери.', 'И царят заповяда и доведоха онези мъже, които бяха издали Даниил, и хвърлиха тях децата им и жените им в рова на лъвовете и още преди да стигнат до дъното на рова, лъвовете ги сграбчиха и строшиха всичките им кости.', 'И Йоав и народът, който беше с него настъпиха за битката против арамейците, и те побягнаха пред него.', 'И като го повикаха Тертил, започна да обвинява, като казваше, Понеже чрез теб честити Феликсе се радваме на голямо спокойствие и понеже чрез твоята предвидливост има подобрения за този народ, то ние с пълна благодарност, винаги и навсякъде посрещаме това.', 'Защото Йоан казваше на Ирод, Не ти е позволено да имаш жената на брат си.', 'А в първия ден на седмицата, много рано сутринта те дойдоха на гроба, като носеха благоуханните масла, които бяха приготвили.', 'Ще бъде ли добре да ви изпита Той.', 'След това Яков, каза на Лаван Дай жена ми, защото дойде време да вляза при нея.', 'А посветените дарове бяха шестстотин говеда и три хиляди овце.', 'Кога ще се събудя за да продължа да го потърся пак.', 'Изнемогвам от викането си гърлото ми е пресъхнало очите ми чезнат, докато чакам своя Бог.', 'Това са родовете на Мерарий.', 'На следващия ден едно голямо множество, което беше дошло на празника като чуха, че Иисус идвал в Ерусалим взеха палмови клони и излязоха да Го посрещнат викайки Осанна.', 'И той каза: Имам нещо да ти кажа.', 'Ако някой, който е престъпил закона на Мойсей умира безпощадно при думата на двама или трима свидетели, то колко по-тежко наказание, мислите ще заслужи онзи, който е потъпкал Божия Син и е счел за просто нещо кръвта на завета, с която е бил осветен и е оскърбил Духа на благодатта.', 'Върни се сине мой Давиде, защото няма вече да ти сторя зло, понеже днес животът ми беше скъпоценен пред очите ти.', 'Ще дойдат големци от Египет Етиопия, бързо ще протегне ръцете си към Бога.', 'Затова хората Му се боят и Той не гледа на никого от мъдрите по сърце.', 'И Го следваше голямо множество от народ и жени, които плачеха за Него.', 'Ето ви семе засейте земята.', 'И Давид дойде във Ваал-Ферасим и Давид ги разби там и каза ГОСПОД разсече пред мен враговете ми, както водите правят пролом.', 'Кадилниците на тези мъже, които съгрешиха против живота си, нека ги направят на плочи за обковаване на олтара, защото те ги принесоха пред ГОСПОДА и затова са свети и те ще бъдат за знамение на израилевите синове.', 'И когато фараонът отказваше да ни пусне ГОСПОД уби всяко първородно в египетската земя от първородно на човек до първородно на животно, затова жертвам на ГОСПОДА, всяко първородно, което е мъжко, а всеки първороден от синовете си изкупувам.', 'А без вяра не е възможно да се угоди на Бога, защото който идва при Бога трябва да вярва, че Той съществува и, че възнаграждава тези, които Го търсят.', 'И докато още говореше с тях, ето пратеникът слезе при него и каза: Ето това зло е от ГОСПОДА.', 'А вие сами ли ще продадете братята си.']\n"
     ]
    }
   ],
   "source": [
    "labels = list(crf.classes_)\n",
    "y_pred = crf.predict(X_dev)\n",
    "print(metrics.flat_f1_score(y_dev, y_pred, average='weighted', labels=labels))\n",
    "print(metrics.flat_classification_report(y_dev, y_pred, labels=labels, digits=3))\n",
    "labels.remove('')\n",
    "print(metrics.flat_f1_score(y_dev, y_pred, average='weighted', labels=labels))\n",
    "print(metrics.flat_classification_report(y_dev, y_pred, labels=labels, digits=3))\n",
    "labels = [',','(',')','\"','[',']',';','.','?','!',':','-', '...']\n",
    "print(metrics.flat_f1_score(y_dev, y_pred, average='weighted', labels=labels))\n",
    "print(metrics.flat_classification_report(y_dev, y_pred, labels=labels, digits=3))\n",
    "punctuated_sentences = punctuate(X_dev, y_pred)\n",
    "print(punctuated_sentences[:100])"
   ]
  },
  {
   "cell_type": "code",
   "execution_count": 32,
   "id": "6c083585",
   "metadata": {},
   "outputs": [
    {
     "name": "stdout",
     "output_type": "stream",
     "text": [
      "CPU times: user 16min 39s, sys: 593 ms, total: 16min 39s\n",
      "Wall time: 16min 38s\n"
     ]
    }
   ],
   "source": [
    "%%time\n",
    "crf = sklearn_crfsuite.CRF(\n",
    "    algorithm='ap',\n",
    "    all_possible_transitions=True\n",
    ")\n",
    "crf.fit(X_train, y_train)"
   ]
  },
  {
   "cell_type": "code",
   "execution_count": 33,
   "id": "f9300943",
   "metadata": {},
   "outputs": [
    {
     "name": "stderr",
     "output_type": "stream",
     "text": [
      "/home/mariya/anaconda3/envs/masters/lib/python3.6/site-packages/sklearn/metrics/_classification.py:1465: UndefinedMetricWarning: F-score is ill-defined and being set to 0.0 in labels with no true nor predicted samples. Use `zero_division` parameter to control this behavior.\n",
      "  average, \"true nor predicted\", 'F-score is', len(true_sum)\n",
      "/home/mariya/anaconda3/envs/masters/lib/python3.6/site-packages/sklearn/utils/validation.py:70: FutureWarning: Pass labels=['', ':', '!', ',', '?', ';', '.', '-', ',(', '\"', '\").', '(', ')', '?-', '.-', ':)', '!-', ':\"', '.\"', ':(', '?)', '\"?', '\".', '\";', '\"-', ').', '!,', '-\"', ')!', '\",', '.\")', '!;', ';(', '),', '?;', '?\"', ');', '.)', '?,', ';\"', '):', '[', ']', '...', '],', '\"(', ',[', ',\"', ']\",', ')-', '\":', '(\"', '\"),', '\"-[', '...,', '\")', '..', '\",\"', '?\".', '\"[', '\"(\"', '),\"', '\"\"', '-.', '.,', '].', ')\"', '!\"', '?\"-', '\":\"', '):\"', '\")-', '\"-\"', '-,', ')\".', '?\",', ']\".', '!\",', ']?', '...[', '];', '...\".', '!\"-', '\"!', '!\".', '!?', '?!', ',-', '!...', '!).', ')?', '?...', '.?'] as keyword args. From version 0.25 passing these as positional arguments will result in an error\n",
      "  FutureWarning)\n"
     ]
    },
    {
     "name": "stdout",
     "output_type": "stream",
     "text": [
      "0.9156361748152937\n"
     ]
    },
    {
     "name": "stderr",
     "output_type": "stream",
     "text": [
      "/home/mariya/anaconda3/envs/masters/lib/python3.6/site-packages/sklearn/metrics/_classification.py:1221: UndefinedMetricWarning: Precision and F-score are ill-defined and being set to 0.0 in labels with no predicted samples. Use `zero_division` parameter to control this behavior.\n",
      "  _warn_prf(average, modifier, msg_start, len(result))\n",
      "/home/mariya/anaconda3/envs/masters/lib/python3.6/site-packages/sklearn/metrics/_classification.py:1221: UndefinedMetricWarning: Recall and F-score are ill-defined and being set to 0.0 in labels with no true samples. Use `zero_division` parameter to control this behavior.\n",
      "  _warn_prf(average, modifier, msg_start, len(result))\n"
     ]
    },
    {
     "name": "stdout",
     "output_type": "stream",
     "text": [
      "              precision    recall  f1-score   support\n",
      "\n",
      "                  0.935     0.997     0.965    227825\n",
      "           :      0.925     0.403     0.562       923\n",
      "           !      0.395     0.086     0.142       347\n",
      "           ,      0.896     0.444     0.594     18592\n",
      "           ?      0.869     0.526     0.655       443\n",
      "           ;      0.000     0.000     0.000       622\n",
      "           .      0.905     0.988     0.945     11401\n",
      "           -      0.000     0.000     0.000       882\n",
      "          ,(      0.000     0.000     0.000         5\n",
      "           \"      0.250     0.001     0.001      1596\n",
      "         \").      0.000     0.000     0.000         0\n",
      "           (      0.969     0.643     0.773      1656\n",
      "           )      0.908     0.486     0.633      1001\n",
      "          ?-      0.000     0.000     0.000         4\n",
      "          .-      0.000     0.000     0.000         2\n",
      "          :)      0.000     0.000     0.000         0\n",
      "          !-      0.000     0.000     0.000        20\n",
      "          :\"      0.000     0.000     0.000        67\n",
      "          .\"      0.000     0.000     0.000        23\n",
      "          :(      0.000     0.000     0.000         1\n",
      "          ?)      0.000     0.000     0.000         0\n",
      "          \"?      0.000     0.000     0.000         1\n",
      "          \".      0.000     0.000     0.000       293\n",
      "          \";      0.000     0.000     0.000         5\n",
      "          \"-      0.000     0.000     0.000        28\n",
      "          ).      1.000     0.207     0.343       271\n",
      "          !,      0.000     0.000     0.000         0\n",
      "          -\"      0.000     0.000     0.000         7\n",
      "          )!      0.000     0.000     0.000         1\n",
      "          \",      0.756     0.123     0.212       829\n",
      "         .\")      0.000     0.000     0.000         1\n",
      "          !;      0.000     0.000     0.000         1\n",
      "          ;(      0.000     0.000     0.000         0\n",
      "          ),      0.885     0.504     0.642       381\n",
      "          ?;      0.000     0.000     0.000         0\n",
      "          ?\"      0.000     0.000     0.000         0\n",
      "          );      0.000     0.000     0.000         0\n",
      "          .)      0.000     0.000     0.000         1\n",
      "          ?,      0.000     0.000     0.000         1\n",
      "          ;\"      0.000     0.000     0.000         0\n",
      "          ):      0.000     0.000     0.000        11\n",
      "           [      0.000     0.000     0.000        45\n",
      "           ]      0.000     0.000     0.000        43\n",
      "         ...      0.000     0.000     0.000        61\n",
      "          ],      0.000     0.000     0.000         3\n",
      "          \"(      0.000     0.000     0.000        31\n",
      "          ,[      0.000     0.000     0.000         1\n",
      "          ,\"      0.000     0.000     0.000        44\n",
      "         ]\",      0.000     0.000     0.000         5\n",
      "          )-      0.000     0.000     0.000        17\n",
      "          \":      0.000     0.000     0.000         0\n",
      "          (\"      0.000     0.000     0.000         0\n",
      "         \"),      0.000     0.000     0.000         1\n",
      "         \"-[      0.000     0.000     0.000         0\n",
      "        ...,      0.000     0.000     0.000         3\n",
      "          \")      0.000     0.000     0.000         2\n",
      "          ..      0.000     0.000     0.000         3\n",
      "         \",\"      0.000     0.000     0.000        10\n",
      "         ?\".      0.000     0.000     0.000         2\n",
      "          \"[      0.000     0.000     0.000         0\n",
      "         \"(\"      0.000     0.000     0.000         2\n",
      "         ),\"      0.000     0.000     0.000         2\n",
      "          \"\"      0.000     0.000     0.000         2\n",
      "          -.      0.000     0.000     0.000         0\n",
      "          .,      0.000     0.000     0.000         0\n",
      "          ].      0.000     0.000     0.000         2\n",
      "          )\"      0.000     0.000     0.000         0\n",
      "          !\"      0.000     0.000     0.000         0\n",
      "         ?\"-      0.000     0.000     0.000         2\n",
      "         \":\"      0.000     0.000     0.000         1\n",
      "         ):\"      0.000     0.000     0.000         0\n",
      "         \")-      0.000     0.000     0.000         1\n",
      "         \"-\"      0.000     0.000     0.000         0\n",
      "          -,      0.000     0.000     0.000         1\n",
      "         )\".      0.000     0.000     0.000         1\n",
      "         ?\",      0.000     0.000     0.000         1\n",
      "         ]\".      0.000     0.000     0.000         0\n",
      "         !\",      0.000     0.000     0.000         1\n",
      "          ]?      0.000     0.000     0.000         0\n",
      "        ...[      0.000     0.000     0.000         2\n",
      "          ];      0.000     0.000     0.000         0\n",
      "       ...\".      0.000     0.000     0.000         0\n",
      "         !\"-      0.000     0.000     0.000         2\n",
      "          \"!      0.000     0.000     0.000         0\n",
      "         !\".      0.000     0.000     0.000         3\n",
      "          !?      0.000     0.000     0.000         0\n",
      "          ?!      0.000     0.000     0.000         0\n",
      "          ,-      0.000     0.000     0.000         4\n",
      "        !...      0.000     0.000     0.000         1\n",
      "         !).      0.000     0.000     0.000         0\n",
      "          )?      0.000     0.000     0.000         3\n",
      "        ?...      0.000     0.000     0.000         0\n",
      "          .?      0.000     0.000     0.000         0\n",
      "\n",
      "   micro avg      0.932     0.932     0.932    267543\n",
      "   macro avg      0.104     0.058     0.070    267543\n",
      "weighted avg      0.917     0.932     0.916    267543\n",
      "\n",
      "0.6317807012378766\n"
     ]
    },
    {
     "name": "stderr",
     "output_type": "stream",
     "text": [
      "/home/mariya/anaconda3/envs/masters/lib/python3.6/site-packages/sklearn/utils/validation.py:70: FutureWarning: Pass labels=[':', '!', ',', '?', ';', '.', '-', ',(', '\"', '\").', '(', ')', '?-', '.-', ':)', '!-', ':\"', '.\"', ':(', '?)', '\"?', '\".', '\";', '\"-', ').', '!,', '-\"', ')!', '\",', '.\")', '!;', ';(', '),', '?;', '?\"', ');', '.)', '?,', ';\"', '):', '[', ']', '...', '],', '\"(', ',[', ',\"', ']\",', ')-', '\":', '(\"', '\"),', '\"-[', '...,', '\")', '..', '\",\"', '?\".', '\"[', '\"(\"', '),\"', '\"\"', '-.', '.,', '].', ')\"', '!\"', '?\"-', '\":\"', '):\"', '\")-', '\"-\"', '-,', ')\".', '?\",', ']\".', '!\",', ']?', '...[', '];', '...\".', '!\"-', '\"!', '!\".', '!?', '?!', ',-', '!...', '!).', ')?', '?...', '.?'] as keyword args. From version 0.25 passing these as positional arguments will result in an error\n",
      "  FutureWarning)\n"
     ]
    },
    {
     "name": "stdout",
     "output_type": "stream",
     "text": [
      "              precision    recall  f1-score   support\n",
      "\n",
      "           :      0.925     0.403     0.562       923\n",
      "           !      0.395     0.086     0.142       347\n",
      "           ,      0.896     0.444     0.594     18592\n",
      "           ?      0.869     0.526     0.655       443\n",
      "           ;      0.000     0.000     0.000       622\n",
      "           .      0.905     0.988     0.945     11401\n",
      "           -      0.000     0.000     0.000       882\n",
      "          ,(      0.000     0.000     0.000         5\n",
      "           \"      0.250     0.001     0.001      1596\n",
      "         \").      0.000     0.000     0.000         0\n",
      "           (      0.969     0.643     0.773      1656\n",
      "           )      0.908     0.486     0.633      1001\n",
      "          ?-      0.000     0.000     0.000         4\n",
      "          .-      0.000     0.000     0.000         2\n",
      "          :)      0.000     0.000     0.000         0\n",
      "          !-      0.000     0.000     0.000        20\n",
      "          :\"      0.000     0.000     0.000        67\n",
      "          .\"      0.000     0.000     0.000        23\n",
      "          :(      0.000     0.000     0.000         1\n",
      "          ?)      0.000     0.000     0.000         0\n",
      "          \"?      0.000     0.000     0.000         1\n",
      "          \".      0.000     0.000     0.000       293\n",
      "          \";      0.000     0.000     0.000         5\n",
      "          \"-      0.000     0.000     0.000        28\n",
      "          ).      1.000     0.207     0.343       271\n",
      "          !,      0.000     0.000     0.000         0\n",
      "          -\"      0.000     0.000     0.000         7\n",
      "          )!      0.000     0.000     0.000         1\n",
      "          \",      0.756     0.123     0.212       829\n",
      "         .\")      0.000     0.000     0.000         1\n",
      "          !;      0.000     0.000     0.000         1\n",
      "          ;(      0.000     0.000     0.000         0\n",
      "          ),      0.885     0.504     0.642       381\n",
      "          ?;      0.000     0.000     0.000         0\n",
      "          ?\"      0.000     0.000     0.000         0\n",
      "          );      0.000     0.000     0.000         0\n",
      "          .)      0.000     0.000     0.000         1\n",
      "          ?,      0.000     0.000     0.000         1\n",
      "          ;\"      0.000     0.000     0.000         0\n",
      "          ):      0.000     0.000     0.000        11\n",
      "           [      0.000     0.000     0.000        45\n",
      "           ]      0.000     0.000     0.000        43\n",
      "         ...      0.000     0.000     0.000        61\n",
      "          ],      0.000     0.000     0.000         3\n",
      "          \"(      0.000     0.000     0.000        31\n",
      "          ,[      0.000     0.000     0.000         1\n",
      "          ,\"      0.000     0.000     0.000        44\n",
      "         ]\",      0.000     0.000     0.000         5\n",
      "          )-      0.000     0.000     0.000        17\n",
      "          \":      0.000     0.000     0.000         0\n",
      "          (\"      0.000     0.000     0.000         0\n",
      "         \"),      0.000     0.000     0.000         1\n",
      "         \"-[      0.000     0.000     0.000         0\n",
      "        ...,      0.000     0.000     0.000         3\n",
      "          \")      0.000     0.000     0.000         2\n",
      "          ..      0.000     0.000     0.000         3\n",
      "         \",\"      0.000     0.000     0.000        10\n",
      "         ?\".      0.000     0.000     0.000         2\n",
      "          \"[      0.000     0.000     0.000         0\n",
      "         \"(\"      0.000     0.000     0.000         2\n",
      "         ),\"      0.000     0.000     0.000         2\n",
      "          \"\"      0.000     0.000     0.000         2\n",
      "          -.      0.000     0.000     0.000         0\n",
      "          .,      0.000     0.000     0.000         0\n",
      "          ].      0.000     0.000     0.000         2\n",
      "          )\"      0.000     0.000     0.000         0\n",
      "          !\"      0.000     0.000     0.000         0\n",
      "         ?\"-      0.000     0.000     0.000         2\n",
      "         \":\"      0.000     0.000     0.000         1\n",
      "         ):\"      0.000     0.000     0.000         0\n",
      "         \")-      0.000     0.000     0.000         1\n",
      "         \"-\"      0.000     0.000     0.000         0\n",
      "          -,      0.000     0.000     0.000         1\n",
      "         )\".      0.000     0.000     0.000         1\n",
      "         ?\",      0.000     0.000     0.000         1\n",
      "         ]\".      0.000     0.000     0.000         0\n",
      "         !\",      0.000     0.000     0.000         1\n",
      "          ]?      0.000     0.000     0.000         0\n",
      "        ...[      0.000     0.000     0.000         2\n",
      "          ];      0.000     0.000     0.000         0\n",
      "       ...\".      0.000     0.000     0.000         0\n",
      "         !\"-      0.000     0.000     0.000         2\n",
      "          \"!      0.000     0.000     0.000         0\n",
      "         !\".      0.000     0.000     0.000         3\n",
      "          !?      0.000     0.000     0.000         0\n",
      "          ?!      0.000     0.000     0.000         0\n",
      "          ,-      0.000     0.000     0.000         4\n",
      "        !...      0.000     0.000     0.000         1\n",
      "         !).      0.000     0.000     0.000         0\n",
      "          )?      0.000     0.000     0.000         3\n",
      "        ?...      0.000     0.000     0.000         0\n",
      "          .?      0.000     0.000     0.000         0\n",
      "\n",
      "   micro avg      0.902     0.555     0.687     39718\n",
      "   macro avg      0.095     0.048     0.060     39718\n",
      "weighted avg      0.818     0.555     0.632     39718\n",
      "\n",
      "0.6535190701434698\n"
     ]
    },
    {
     "name": "stderr",
     "output_type": "stream",
     "text": [
      "/home/mariya/anaconda3/envs/masters/lib/python3.6/site-packages/sklearn/utils/validation.py:70: FutureWarning: Pass labels=[',', '(', ')', '\"', '[', ']', ';', '.', '?', '!', ':', '-', '...'] as keyword args. From version 0.25 passing these as positional arguments will result in an error\n",
      "  FutureWarning)\n"
     ]
    },
    {
     "name": "stdout",
     "output_type": "stream",
     "text": [
      "              precision    recall  f1-score   support\n",
      "\n",
      "           ,      0.896     0.444     0.594     18592\n",
      "           (      0.969     0.643     0.773      1656\n",
      "           )      0.908     0.486     0.633      1001\n",
      "           \"      0.250     0.001     0.001      1596\n",
      "           [      0.000     0.000     0.000        45\n",
      "           ]      0.000     0.000     0.000        43\n",
      "           ;      0.000     0.000     0.000       622\n",
      "           .      0.905     0.988     0.945     11401\n",
      "           ?      0.869     0.526     0.655       443\n",
      "           !      0.395     0.086     0.142       347\n",
      "           :      0.925     0.403     0.562       923\n",
      "           -      0.000     0.000     0.000       882\n",
      "         ...      0.000     0.000     0.000        61\n",
      "\n",
      "   micro avg      0.903     0.577     0.704     37612\n",
      "   macro avg      0.471     0.275     0.331     37612\n",
      "weighted avg      0.831     0.577     0.654     37612\n",
      "\n",
      "['Но синовете им не умъртви защото постъпи според писаното в закона в книгата на Мойсей, където ГОСПОД заповяда и каза Бащите да не умират заради синовете и синовете да не умират заради бащите, а всеки да умира за собствения си грях.', 'Но когато ти говоря ще отворя устата ти и ти им кажи: Така казва Господ БОГ, Който слуша нека слуша, а който не слуша нека не слуша, защото са бунтовен дом.', 'Защото кой е по-голям този, който седи на трапезата ли или онзи, който слугува?', 'А след това ще се насели, както в предишните дни, заявява ГОСПОД.', 'А Той беше на задната част заспал на възглавница.', 'Ефрем е като птица славата му ще отлети.', 'И така той си отиде от него на известно разстояние.', 'Не бягам при халдейците.', 'И израилевите синове излязоха от египетската земя строени.', 'А когато Ахитофел видя, че съветът му не се изпълни оседла магарето си и стана и отиде у дома си в своя град и нареди домашните си работи и се обеси.', 'Ако умре някое животно от добитъка, който можете да ядете, който се допре до мършата му ще бъде нечист до вечерта.', 'Но помощник съответен на Адам не се намери.', 'Който задържа жито, народът ще го проклина, а благословение ще почива на главата на този, който го продава.', 'Този човек беше праведен и благочестив и чакаше Утехата на Израил и Светият Дух беше на него.', 'Всичко е възможно за този, който вярва.', 'И видях височината на дома околовръст основите на страничните стаи бяха една цяла тръстика от шест големи лакътя.', 'После да вземеш тлъстината на овена опашката и тлъстината, която покрива вътрешностите булото на дроба двата бъбрека с тлъстината, която е около тях и дясното бедро, защото е овен на посвещение и един хляб една пита хляб месен с маслинено масло и една кора от коша на безквасните хлябове, които са пред ГОСПОДА.', 'И от дима излязоха скакалци по земята и им се даде власт като властта, която имат земните скорпиони.', 'Ти си ГОСПОДИ, само Ти.', 'И ще предаде Израил заради греховете на Еровоам, с които съгреши и с които въведе Израил в грях.', 'Синове на Елифаз Теман и Омар Сефи и Готом Кенез и Тамна и Амалик.', 'А гладът в Самария беше страшен.', 'Затова казах в сърцето си, че и това е суета.', 'Насладих се на сянката му и седнах и плодът му бе сладък в устата ми.', 'Защото така ми каза ГОСПОД Както ръмжи над лова си лъвът младият лъв срещу когото се свикват множество овчари и не се плаши от гласа им и не се отдръпва пред шума им така ГОСПОД на Войнствата ще слезе за да воюва за хълма Сион и за неговото възвишение.', 'Отче свети опази ги в Името Си, което си Ми дал за да бъдат едно, както сме и Ние.', 'И да правите разлика между чистите животни и нечистите и между нечистите птици и чистите и да не осквернявате себе си с животно или с птица или с каквото и да е което пълзи по земята, което Аз съм ви отделил като нечисто.', 'И ГОСПОД укрепи моавския цар Еглон против Израил, защото вършиха зло пред ГОСПОДА.', 'И Духът ми каза да отида с тях, без да се двоумя.', 'В двадесет и седмата година на израилевия цар Еровоам се възцари Азария, синът на юдовия цар Амасия.', 'Защото вашата послушност е известна на всички, затова се радвам за вас.', 'Той изтегля всички с въдица влачи ги в мрежата си и ги събира в рибарската си мрежа, затова се радва и се весели.', 'Благословен да е ГОСПОД Бог, Богът на Израил, който единствен върши чудеса.', 'И които влязоха мъжко и женско от всяка плът влязоха, както Бог му беше заповядал и ГОСПОД затвори след него.', 'Тогава царят каза на Божия човек Ела с мен у дома и се подкрепи и ще ти дам подарък.', 'И ето, въпреки че е посадена ще успее ли?', 'От дома Тогарма даваха за стоките ти коне бойни коне и мулета.', 'Затова заповядай гробът да се пази здраво до третия ден да не би учениците Му да дойдат и да Го откраднат и да кажат на народа Възкръсна от мъртвите.', 'И когато отвори петия печат видях под олтара душите на онези, които са били заклани за Божието слово и за свидетелството, което държаха.', 'И свещениците, които служат на ГОСПОДА са синовете на Аарон и левитите са в службата.', 'Той тича след тях с умолителни думи, но тях ги няма.', 'И измери дължината му четиридесет лакътя и ширината му двадесет лакътя.', 'Затова така казва ГОСПОД Бог на Войнствата, Израилевият Бог Ето, Аз ще докарам върху Юда и върху всичките ерусалимски жители цялото зло, което говорих против тях, защото им говорих, но не слушаха и ги виках, но не отговаряха.', 'Сине мой слушай наставлението на баща си и не отхвърляй закона на майка си, защото те ще бъдат благодатен венец за главата ти и огърлица за шията ти.', 'Тогава облакът започна да се издига от града в димен стълб и Вениамин се обърна и ето, целият град се издигаше в пламъци към небето.', 'В онзи ден няма да се срамуваш от всичките си дела с които си отстъпил от Мен, защото тогава ще отнема отсред теб твоите, които горделиво тържествуват и ти няма вече да се държиш надменно на светия Ми хълм.', 'А свинарите като видяха станалото избягаха и разказаха за това в града и в селата.', 'И Илий благослови Елкана и жена му и каза: ГОСПОД да ти даде потомство от тази жена вместо заетото, което беше посветено на ГОСПОДА.', 'И ако живее във вас Духът на Този, който възкреси Иисус от мъртвите то Този, който възкреси Христос от мъртвите ще съживи и вашите смъртни тела чрез Духа Си, който живее във вас.', 'А ГОСПОД си извърши, както беше говорил чрез мен и ГОСПОД откъсна царството от ръката ти и го даде на ближния ти на Давид.', 'Даде и храна за магаретата им.', 'Книгата на видението на елкусеянина Наум.', 'И направи олтара за всеизгаряне от акациево дърво пет лакътя беше дължината му и пет лакътя беше ширината му четвъртит и три лакътя беше височината му.', 'Те ми казаха Направи ни богове, които да ходят пред нас, защото на този Мойсей човека, който ни изведе от египетската земя не знаем какво му стана.', 'Тогава Мардохей каза да отговорят на Естир: Не мисли в себе си, че от всичките юдеи само ти ще се избавиш в царския дом.', 'Но аз не бих познал греха освен чрез закона, защото не бих знаел пожелание, ако законът не беше казал: Не пожелавай.', 'Тогава народът Му си спомни за древните дни на Мойсей: Къде е Онзи, който ги изведе от морето с пастирите на стадото Си.', 'И три пъти в годината Соломон принасяше всеизгаряния и примирителни жертви върху олтара, който построи на ГОСПОДА и кадеше върху олтара, който беше пред ГОСПОДА.', 'И след като им поставиха старейшини във всяка църква и се помолиха с пост ги препоръчаха на Господа, в когото бяха повярвали.', 'С нея Той подейства в Христос, като Го възкреси от мъртвите и Го сложи да седне от дясната Си страна на небесата далеч над всяко началство и власт и сила и господство и всяко име с което се наименуват не само в този свят, но и в бъдещия.', 'Стрелец срещу стрелец да опъва лъка си и срещу онзи, който се надига в бронята си.', 'Затова онази нива е наречена и до днес Кръвна нива.', 'И така слугите на цар Езекия отидоха при Исая.', 'И никой свещеник да не пие вино, когато влиза във вътрешния двор.', 'И Охозия падна през решетката на горната си стая в Самария и се разболя.', 'Защо не разбирате Моето говорене?', 'А Лаван в отговор каза на Яков Тези дъщери са мои дъщери и синовете са мои синове и стадата са мои стада.', 'А чуждият, който се приближи да се умъртви.', 'И двамата сина на Илий Офний и Финеес бяха там с ковчега на Божия завет.', 'Иисус му каза: Лисиците си имат леговища и небесните птици гнезда, а Човешкият Син няма къде глава да подслони.', 'От кръвта на убитите от тлъстината на силните лъкът на Йонатан не се обръщаше назад и мечът на Саул не се връщаше празен.', 'Станах за присмех на целия си народ и за тяхна подигравателна песен цял ден.', 'Да учите на тях синовете си, като говорите за тях, когато седиш в къщата си, когато ходиш по пътя, когато лягаш и когато ставаш.', 'И ГОСПОД се разкая за злото, което беше казал, че ще направи на народа Си.', 'А Юда изпрати ярето чрез ръката на приятеля си одоламеца за да вземе залога от ръката на жената, но той не я намери.', 'И царят заповяда и доведоха онези мъже, които бяха издали Даниил и хвърлиха тях децата им и жените им в рова на лъвовете и още преди да стигнат до дъното на рова лъвовете ги сграбчиха и строшиха всичките им кости.', 'И Йоав и народът, който беше с него настъпиха за битката против арамейците и те побягнаха пред него.', 'И като го повикаха Тертил започна да обвинява, като казваше, Понеже чрез теб честити Феликсе се радваме на голямо спокойствие и понеже чрез твоята предвидливост има подобрения за този народ то ние с пълна благодарност винаги и навсякъде посрещаме това.', 'Защото Йоан казваше на Ирод: Не ти е позволено да имаш жената на брат си.', 'А в първия ден на седмицата много рано сутринта те дойдоха на гроба, като носеха благоуханните масла, които бяха приготвили.', 'Ще бъде ли добре да ви изпита Той?', 'След това Яков каза на Лаван: Дай жена ми, защото дойде време да вляза при нея.', 'А посветените дарове бяха шестстотин говеда и три хиляди овце.', 'Кога ще се събудя за да продължа да го потърся пак.', 'Изнемогвам от викането си гърлото ми е пресъхнало очите ми чезнат, докато чакам своя Бог.', 'Това са родовете на Мерарий.', 'На следващия ден едно голямо множество, което беше дошло на празника като чуха, че Иисус идвал в Ерусалим взеха палмови клони и излязоха да Го посрещнат, викайки Осанна.', 'И той каза: Имам нещо да ти кажа.', 'Ако някой, който е престъпил закона на Мойсей умира безпощадно при думата на двама или трима свидетели то колко по-тежко наказание мислите ще заслужи онзи, който е потъпкал Божия Син и е счел за просто нещо кръвта на завета с която е бил осветен и е оскърбил Духа на благодатта.', 'Върни се сине мой Давиде, защото няма вече да ти сторя зло, понеже днес животът ми беше скъпоценен пред очите ти.', 'Ще дойдат големци от Египет Етиопия, бързо ще протегне ръцете си към Бога.', 'Затова хората Му се боят и Той не гледа на никого от мъдрите по сърце.', 'И Го следваше голямо множество от народ и жени, които плачеха за Него.', 'Ето ви семе, засейте земята.', 'И Давид дойде във Ваал-Ферасим и Давид ги разби там и каза ГОСПОД разсече пред мен враговете ми, както водите правят пролом.', 'Кадилниците на тези мъже, които съгрешиха против живота си нека ги направят на плочи за обковаване на олтара, защото те ги принесоха пред ГОСПОДА и затова са свети и те ще бъдат за знамение на израилевите синове.', 'И когато фараонът отказваше да ни пусне ГОСПОД уби всяко първородно в египетската земя от първородно на човек до първородно на животно затова жертвам на ГОСПОДА всяко първородно, което е мъжко, а всеки първороден от синовете си изкупувам.', 'А без вяра не е възможно да се угоди на Бога, защото, който идва при Бога трябва да вярва, че Той съществува и че възнаграждава тези, които Го търсят.', 'И докато още говореше с тях, ето пратеникът слезе при него и каза: Ето това зло е от ГОСПОДА.', 'А вие сами ли ще продадете братята си?']\n"
     ]
    }
   ],
   "source": [
    "labels = list(crf.classes_)\n",
    "y_pred = crf.predict(X_dev)\n",
    "print(metrics.flat_f1_score(y_dev, y_pred, average='weighted', labels=labels))\n",
    "print(metrics.flat_classification_report(y_dev, y_pred, labels=labels, digits=3))\n",
    "labels.remove('')\n",
    "print(metrics.flat_f1_score(y_dev, y_pred, average='weighted', labels=labels))\n",
    "print(metrics.flat_classification_report(y_dev, y_pred, labels=labels, digits=3))\n",
    "labels = [',','(',')','\"','[',']',';','.','?','!',':','-', '...']\n",
    "print(metrics.flat_f1_score(y_dev, y_pred, average='weighted', labels=labels))\n",
    "print(metrics.flat_classification_report(y_dev, y_pred, labels=labels, digits=3))\n",
    "punctuated_sentences = punctuate(X_dev, y_pred)\n",
    "print(punctuated_sentences[:100])"
   ]
  },
  {
   "cell_type": "code",
   "execution_count": 34,
   "id": "e8ec35b2",
   "metadata": {},
   "outputs": [
    {
     "name": "stdout",
     "output_type": "stream",
     "text": [
      "CPU times: user 17min 11s, sys: 681 ms, total: 17min 12s\n",
      "Wall time: 17min 10s\n"
     ]
    }
   ],
   "source": [
    "%%time\n",
    "crf = sklearn_crfsuite.CRF(\n",
    "    algorithm='pa',\n",
    "    all_possible_transitions=True\n",
    ")\n",
    "crf.fit(X_train, y_train)"
   ]
  },
  {
   "cell_type": "code",
   "execution_count": 35,
   "id": "dbdf2e07",
   "metadata": {},
   "outputs": [
    {
     "name": "stderr",
     "output_type": "stream",
     "text": [
      "/home/mariya/anaconda3/envs/masters/lib/python3.6/site-packages/sklearn/metrics/_classification.py:1465: UndefinedMetricWarning: F-score is ill-defined and being set to 0.0 in labels with no true nor predicted samples. Use `zero_division` parameter to control this behavior.\n",
      "  average, \"true nor predicted\", 'F-score is', len(true_sum)\n",
      "/home/mariya/anaconda3/envs/masters/lib/python3.6/site-packages/sklearn/utils/validation.py:70: FutureWarning: Pass labels=['', ':', '!', ',', '?', ';', '.', '-', ',(', '\"', '\").', '(', ')', '?-', '.-', ':)', '!-', ':\"', '.\"', ':(', '?)', '\"?', '\".', '\";', '\"-', ').', '!,', '-\"', ')!', '\",', '.\")', '!;', ';(', '),', '?;', '?\"', ');', '.)', '?,', ';\"', '):', '[', ']', '...', '],', '\"(', ',[', ',\"', ']\",', ')-', '\":', '(\"', '\"),', '\"-[', '...,', '\")', '..', '\",\"', '?\".', '\"[', '\"(\"', '),\"', '\"\"', '-.', '.,', '].', ')\"', '!\"', '?\"-', '\":\"', '):\"', '\")-', '\"-\"', '-,', ')\".', '?\",', ']\".', '!\",', ']?', '...[', '];', '...\".', '!\"-', '\"!', '!\".', '!?', '?!', ',-', '!...', '!).', ')?', '?...', '.?'] as keyword args. From version 0.25 passing these as positional arguments will result in an error\n",
      "  FutureWarning)\n"
     ]
    },
    {
     "name": "stdout",
     "output_type": "stream",
     "text": [
      "0.9342884963579355\n"
     ]
    },
    {
     "name": "stderr",
     "output_type": "stream",
     "text": [
      "/home/mariya/anaconda3/envs/masters/lib/python3.6/site-packages/sklearn/metrics/_classification.py:1221: UndefinedMetricWarning: Precision and F-score are ill-defined and being set to 0.0 in labels with no predicted samples. Use `zero_division` parameter to control this behavior.\n",
      "  _warn_prf(average, modifier, msg_start, len(result))\n",
      "/home/mariya/anaconda3/envs/masters/lib/python3.6/site-packages/sklearn/metrics/_classification.py:1221: UndefinedMetricWarning: Recall and F-score are ill-defined and being set to 0.0 in labels with no true samples. Use `zero_division` parameter to control this behavior.\n",
      "  _warn_prf(average, modifier, msg_start, len(result))\n"
     ]
    },
    {
     "name": "stdout",
     "output_type": "stream",
     "text": [
      "              precision    recall  f1-score   support\n",
      "\n",
      "                  0.964     0.979     0.971    227825\n",
      "           :      0.859     0.680     0.759       923\n",
      "           !      0.517     0.173     0.259       347\n",
      "           ,      0.691     0.697     0.694     18592\n",
      "           ?      0.861     0.700     0.772       443\n",
      "           ;      0.308     0.013     0.025       622\n",
      "           .      0.928     0.989     0.958     11401\n",
      "           -      0.579     0.075     0.133       882\n",
      "          ,(      0.000     0.000     0.000         5\n",
      "           \"      0.588     0.094     0.162      1596\n",
      "         \").      0.000     0.000     0.000         0\n",
      "           (      0.927     0.866     0.895      1656\n",
      "           )      0.823     0.837     0.830      1001\n",
      "          ?-      0.000     0.000     0.000         4\n",
      "          .-      0.000     0.000     0.000         2\n",
      "          :)      0.000     0.000     0.000         0\n",
      "          !-      0.000     0.000     0.000        20\n",
      "          :\"      0.417     0.075     0.127        67\n",
      "          .\"      0.000     0.000     0.000        23\n",
      "          :(      0.000     0.000     0.000         1\n",
      "          ?)      0.000     0.000     0.000         0\n",
      "          \"?      0.000     0.000     0.000         1\n",
      "          \".      0.545     0.020     0.039       293\n",
      "          \";      0.000     0.000     0.000         5\n",
      "          \"-      0.000     0.000     0.000        28\n",
      "          ).      0.953     0.889     0.920       271\n",
      "          !,      0.000     0.000     0.000         0\n",
      "          -\"      0.000     0.000     0.000         7\n",
      "          )!      0.000     0.000     0.000         1\n",
      "          \",      0.732     0.510     0.601       829\n",
      "         .\")      0.000     0.000     0.000         1\n",
      "          !;      0.000     0.000     0.000         1\n",
      "          ;(      0.000     0.000     0.000         0\n",
      "          ),      0.850     0.551     0.669       381\n",
      "          ?;      0.000     0.000     0.000         0\n",
      "          ?\"      0.000     0.000     0.000         0\n",
      "          );      0.000     0.000     0.000         0\n",
      "          .)      0.000     0.000     0.000         1\n",
      "          ?,      0.000     0.000     0.000         1\n",
      "          ;\"      0.000     0.000     0.000         0\n",
      "          ):      1.000     0.818     0.900        11\n",
      "           [      0.000     0.000     0.000        45\n",
      "           ]      0.000     0.000     0.000        43\n",
      "         ...      0.000     0.000     0.000        61\n",
      "          ],      0.000     0.000     0.000         3\n",
      "          \"(      0.000     0.000     0.000        31\n",
      "          ,[      0.000     0.000     0.000         1\n",
      "          ,\"      0.000     0.000     0.000        44\n",
      "         ]\",      0.000     0.000     0.000         5\n",
      "          )-      0.000     0.000     0.000        17\n",
      "          \":      0.000     0.000     0.000         0\n",
      "          (\"      0.000     0.000     0.000         0\n",
      "         \"),      0.000     0.000     0.000         1\n",
      "         \"-[      0.000     0.000     0.000         0\n",
      "        ...,      0.000     0.000     0.000         3\n",
      "          \")      0.000     0.000     0.000         2\n",
      "          ..      0.000     0.000     0.000         3\n",
      "         \",\"      0.000     0.000     0.000        10\n",
      "         ?\".      0.000     0.000     0.000         2\n",
      "          \"[      0.000     0.000     0.000         0\n",
      "         \"(\"      0.000     0.000     0.000         2\n",
      "         ),\"      0.000     0.000     0.000         2\n",
      "          \"\"      0.000     0.000     0.000         2\n",
      "          -.      0.000     0.000     0.000         0\n",
      "          .,      0.000     0.000     0.000         0\n",
      "          ].      0.000     0.000     0.000         2\n",
      "          )\"      0.000     0.000     0.000         0\n",
      "          !\"      0.000     0.000     0.000         0\n",
      "         ?\"-      0.000     0.000     0.000         2\n",
      "         \":\"      0.000     0.000     0.000         1\n",
      "         ):\"      0.000     0.000     0.000         0\n",
      "         \")-      0.000     0.000     0.000         1\n",
      "         \"-\"      0.000     0.000     0.000         0\n",
      "          -,      0.000     0.000     0.000         1\n",
      "         )\".      0.000     0.000     0.000         1\n",
      "         ?\",      0.000     0.000     0.000         1\n",
      "         ]\".      0.000     0.000     0.000         0\n",
      "         !\",      0.000     0.000     0.000         1\n",
      "          ]?      0.000     0.000     0.000         0\n",
      "        ...[      0.000     0.000     0.000         2\n",
      "          ];      0.000     0.000     0.000         0\n",
      "       ...\".      0.000     0.000     0.000         0\n",
      "         !\"-      0.000     0.000     0.000         2\n",
      "          \"!      0.000     0.000     0.000         0\n",
      "         !\".      0.000     0.000     0.000         3\n",
      "          !?      0.000     0.000     0.000         0\n",
      "          ?!      0.000     0.000     0.000         0\n",
      "          ,-      0.000     0.000     0.000         4\n",
      "        !...      0.000     0.000     0.000         1\n",
      "         !).      0.000     0.000     0.000         0\n",
      "          )?      0.000     0.000     0.000         3\n",
      "        ?...      0.000     0.000     0.000         0\n",
      "          .?      0.000     0.000     0.000         0\n",
      "\n",
      "   micro avg      0.940     0.940     0.940    267543\n",
      "   macro avg      0.135     0.096     0.104    267543\n",
      "weighted avg      0.933     0.940     0.934    267543\n",
      "\n",
      "0.7222999194384147\n"
     ]
    },
    {
     "name": "stderr",
     "output_type": "stream",
     "text": [
      "/home/mariya/anaconda3/envs/masters/lib/python3.6/site-packages/sklearn/utils/validation.py:70: FutureWarning: Pass labels=[':', '!', ',', '?', ';', '.', '-', ',(', '\"', '\").', '(', ')', '?-', '.-', ':)', '!-', ':\"', '.\"', ':(', '?)', '\"?', '\".', '\";', '\"-', ').', '!,', '-\"', ')!', '\",', '.\")', '!;', ';(', '),', '?;', '?\"', ');', '.)', '?,', ';\"', '):', '[', ']', '...', '],', '\"(', ',[', ',\"', ']\",', ')-', '\":', '(\"', '\"),', '\"-[', '...,', '\")', '..', '\",\"', '?\".', '\"[', '\"(\"', '),\"', '\"\"', '-.', '.,', '].', ')\"', '!\"', '?\"-', '\":\"', '):\"', '\")-', '\"-\"', '-,', ')\".', '?\",', ']\".', '!\",', ']?', '...[', '];', '...\".', '!\"-', '\"!', '!\".', '!?', '?!', ',-', '!...', '!).', ')?', '?...', '.?'] as keyword args. From version 0.25 passing these as positional arguments will result in an error\n",
      "  FutureWarning)\n"
     ]
    },
    {
     "name": "stdout",
     "output_type": "stream",
     "text": [
      "              precision    recall  f1-score   support\n",
      "\n",
      "           :      0.859     0.680     0.759       923\n",
      "           !      0.517     0.173     0.259       347\n",
      "           ,      0.691     0.697     0.694     18592\n",
      "           ?      0.861     0.700     0.772       443\n",
      "           ;      0.308     0.013     0.025       622\n",
      "           .      0.928     0.989     0.958     11401\n",
      "           -      0.579     0.075     0.133       882\n",
      "          ,(      0.000     0.000     0.000         5\n",
      "           \"      0.588     0.094     0.162      1596\n",
      "         \").      0.000     0.000     0.000         0\n",
      "           (      0.927     0.866     0.895      1656\n",
      "           )      0.823     0.837     0.830      1001\n",
      "          ?-      0.000     0.000     0.000         4\n",
      "          .-      0.000     0.000     0.000         2\n",
      "          :)      0.000     0.000     0.000         0\n",
      "          !-      0.000     0.000     0.000        20\n",
      "          :\"      0.417     0.075     0.127        67\n",
      "          .\"      0.000     0.000     0.000        23\n",
      "          :(      0.000     0.000     0.000         1\n",
      "          ?)      0.000     0.000     0.000         0\n",
      "          \"?      0.000     0.000     0.000         1\n",
      "          \".      0.545     0.020     0.039       293\n",
      "          \";      0.000     0.000     0.000         5\n",
      "          \"-      0.000     0.000     0.000        28\n",
      "          ).      0.953     0.889     0.920       271\n",
      "          !,      0.000     0.000     0.000         0\n",
      "          -\"      0.000     0.000     0.000         7\n",
      "          )!      0.000     0.000     0.000         1\n",
      "          \",      0.732     0.510     0.601       829\n",
      "         .\")      0.000     0.000     0.000         1\n",
      "          !;      0.000     0.000     0.000         1\n",
      "          ;(      0.000     0.000     0.000         0\n",
      "          ),      0.850     0.551     0.669       381\n",
      "          ?;      0.000     0.000     0.000         0\n",
      "          ?\"      0.000     0.000     0.000         0\n",
      "          );      0.000     0.000     0.000         0\n",
      "          .)      0.000     0.000     0.000         1\n",
      "          ?,      0.000     0.000     0.000         1\n",
      "          ;\"      0.000     0.000     0.000         0\n",
      "          ):      1.000     0.818     0.900        11\n",
      "           [      0.000     0.000     0.000        45\n",
      "           ]      0.000     0.000     0.000        43\n",
      "         ...      0.000     0.000     0.000        61\n",
      "          ],      0.000     0.000     0.000         3\n",
      "          \"(      0.000     0.000     0.000        31\n",
      "          ,[      0.000     0.000     0.000         1\n",
      "          ,\"      0.000     0.000     0.000        44\n",
      "         ]\",      0.000     0.000     0.000         5\n",
      "          )-      0.000     0.000     0.000        17\n",
      "          \":      0.000     0.000     0.000         0\n",
      "          (\"      0.000     0.000     0.000         0\n",
      "         \"),      0.000     0.000     0.000         1\n",
      "         \"-[      0.000     0.000     0.000         0\n",
      "        ...,      0.000     0.000     0.000         3\n",
      "          \")      0.000     0.000     0.000         2\n",
      "          ..      0.000     0.000     0.000         3\n",
      "         \",\"      0.000     0.000     0.000        10\n",
      "         ?\".      0.000     0.000     0.000         2\n",
      "          \"[      0.000     0.000     0.000         0\n",
      "         \"(\"      0.000     0.000     0.000         2\n",
      "         ),\"      0.000     0.000     0.000         2\n",
      "          \"\"      0.000     0.000     0.000         2\n",
      "          -.      0.000     0.000     0.000         0\n",
      "          .,      0.000     0.000     0.000         0\n",
      "          ].      0.000     0.000     0.000         2\n",
      "          )\"      0.000     0.000     0.000         0\n",
      "          !\"      0.000     0.000     0.000         0\n",
      "         ?\"-      0.000     0.000     0.000         2\n",
      "         \":\"      0.000     0.000     0.000         1\n",
      "         ):\"      0.000     0.000     0.000         0\n",
      "         \")-      0.000     0.000     0.000         1\n",
      "         \"-\"      0.000     0.000     0.000         0\n",
      "          -,      0.000     0.000     0.000         1\n",
      "         )\".      0.000     0.000     0.000         1\n",
      "         ?\",      0.000     0.000     0.000         1\n",
      "         ]\".      0.000     0.000     0.000         0\n",
      "         !\",      0.000     0.000     0.000         1\n",
      "          ]?      0.000     0.000     0.000         0\n",
      "        ...[      0.000     0.000     0.000         2\n",
      "          ];      0.000     0.000     0.000         0\n",
      "       ...\".      0.000     0.000     0.000         0\n",
      "         !\"-      0.000     0.000     0.000         2\n",
      "          \"!      0.000     0.000     0.000         0\n",
      "         !\".      0.000     0.000     0.000         3\n",
      "          !?      0.000     0.000     0.000         0\n",
      "          ?!      0.000     0.000     0.000         0\n",
      "          ,-      0.000     0.000     0.000         4\n",
      "        !...      0.000     0.000     0.000         1\n",
      "         !).      0.000     0.000     0.000         0\n",
      "          )?      0.000     0.000     0.000         3\n",
      "        ?...      0.000     0.000     0.000         0\n",
      "          .?      0.000     0.000     0.000         0\n",
      "\n",
      "   micro avg      0.791     0.721     0.754     39718\n",
      "   macro avg      0.126     0.087     0.095     39718\n",
      "weighted avg      0.760     0.721     0.722     39718\n",
      "\n",
      "0.7352922817345632\n"
     ]
    },
    {
     "name": "stderr",
     "output_type": "stream",
     "text": [
      "/home/mariya/anaconda3/envs/masters/lib/python3.6/site-packages/sklearn/utils/validation.py:70: FutureWarning: Pass labels=[',', '(', ')', '\"', '[', ']', ';', '.', '?', '!', ':', '-', '...'] as keyword args. From version 0.25 passing these as positional arguments will result in an error\n",
      "  FutureWarning)\n"
     ]
    },
    {
     "name": "stdout",
     "output_type": "stream",
     "text": [
      "              precision    recall  f1-score   support\n",
      "\n",
      "           ,      0.691     0.697     0.694     18592\n",
      "           (      0.927     0.866     0.895      1656\n",
      "           )      0.823     0.837     0.830      1001\n",
      "           \"      0.588     0.094     0.162      1596\n",
      "           [      0.000     0.000     0.000        45\n",
      "           ]      0.000     0.000     0.000        43\n",
      "           ;      0.308     0.013     0.025       622\n",
      "           .      0.928     0.989     0.958     11401\n",
      "           ?      0.861     0.700     0.772       443\n",
      "           !      0.517     0.173     0.259       347\n",
      "           :      0.859     0.680     0.759       923\n",
      "           -      0.579     0.075     0.133       882\n",
      "         ...      0.000     0.000     0.000        61\n",
      "\n",
      "   micro avg      0.791     0.737     0.763     37612\n",
      "   macro avg      0.545     0.394     0.422     37612\n",
      "weighted avg      0.765     0.737     0.735     37612\n",
      "\n",
      "['Но синовете им не умъртви, защото постъпи според писаното в закона в книгата на Мойсей, където ГОСПОД заповяда и каза: Бащите да не умират заради синовете, и синовете да не умират заради бащите, а всеки да умира за собствения си грях.', 'Но когато ти говоря, ще отворя устата ти и ти им кажи: Така казва Господ БОГ: Който слуша, нека слуша, а който не слуша, нека не слуша, защото са бунтовен дом.', 'Защото кой е по-голям този, който седи на трапезата ли или онзи, който слугува?', 'А след това ще се насели, както в предишните дни, заявява ГОСПОД.', 'А Той беше на задната част заспал на възглавница.', 'Ефрем е като птица- славата му ще отлети.', 'И така той си отиде от него на известно разстояние.', 'Не бягам при халдейците.', 'И израилевите синове излязоха от египетската земя строени.', 'А когато Ахитофел видя, че съветът му не се изпълни оседла магарето си и стана и отиде у дома си в своя град, и нареди домашните си работи, и се обеси.', 'Ако умре някое животно от добитъка, който, можете да ядете, който се допре до мършата му ще бъде нечист до вечерта.', 'Но помощник съответен на Адам не се намери.', 'Който задържа жито, народът ще го проклина, а благословение ще почива на главата на този, който го продава.', 'Този човек беше праведен и благочестив и чакаше Утехата на Израил и Светият Дух беше на него.', 'Всичко е възможно за този, който вярва.', 'И видях височината на дома околовръст, основите на страничните стаи бяха една цяла тръстика от шест големи лакътя.', 'После да вземеш тлъстината на овена, опашката и тлъстината, която покрива вътрешностите, булото на дроба, двата бъбрека с тлъстината, която е около тях и дясното бедро, защото е овен на посвещение и един хляб, една пита хляб, месен с маслинено масло, и една кора от коша на безквасните хлябове, които са пред ГОСПОДА.', 'И от дима излязоха скакалци по земята и им се даде власт, като властта, която имат земните скорпиони.', 'Ти си, ГОСПОДИ, само Ти!', 'И ще предаде Израил заради греховете на Еровоам, с които съгреши и с които въведе Израил в грях.', 'Синове на Елифаз: Теман и Омар Сефи, и Готом Кенез, и Тамна и Амалик.', 'А гладът в Самария беше страшен.', 'Затова казах в сърцето си, че и това е суета.', 'Насладих се на сянката му и седнах, и плодът му бе сладък в устата ми.', 'Защото, така ми каза ГОСПОД, Както ръмжи над лова си, лъвът младият лъв, срещу когото се свикват множество овчари, и не се плаши от гласа им, и не се отдръпва пред шума им, така ГОСПОД на Войнствата, ще слезе, за да воюва за хълма Сион, и за неговото възвишение.', 'Отче свети, опази ги в Името Си, което си Ми дал за да бъдат едно, както сме и Ние.', 'И да правите разлика между чистите животни и нечистите и между нечистите птици и чистите и да не осквернявате себе си с животно, или с птица, или с каквото и да е, което пълзи по земята, което Аз съм ви отделил като нечисто.', 'И ГОСПОД укрепи моавския цар Еглон против Израил, защото вършиха зло пред ГОСПОДА.', 'И Духът ми каза да отида с тях, без да се двоумя.', 'В двадесет и седмата година на израилевия цар Еровоам се възцари Азария, синът на юдовия цар Амасия.', 'Защото вашата послушност е известна на всички, затова се радвам за вас.', 'Той изтегля всички с въдица влачи ги в мрежата си и ги събира в рибарската си мрежа, затова се радва и се весели.', 'Благословен да е ГОСПОД, Бог Богът на Израил, който единствен върши чудеса.', 'И които влязоха мъжко и женско от всяка плът влязоха, както Бог му беше заповядал, и ГОСПОД, затвори след него.', 'Тогава царят каза на Божия човек: Ела с мен у дома и се подкрепи и ще ти дам подарък.', 'И ето, въпреки че е посадена ще успее ли?', 'От дома Тогарма даваха за стоките ти коне бойни коне и мулета.', 'Затова, заповядай гробът да се пази здраво до третия ден да не би учениците Му да дойдат и да Го откраднат, и да кажат на народа, Възкръсна от мъртвите.', 'И когато отвори петия печат, видях под олтара, душите на онези, които са били заклани за Божието слово и за свидетелството, което държаха.', 'И свещениците, които служат на ГОСПОДА са синовете на Аарон и левитите са в службата.', 'Той тича след тях с умолителни думи, но тях ги няма.', 'И измери дължината му четиридесет лакътя и ширината му- двадесет лакътя.', 'Затова, така казва ГОСПОД, Бог на Войнствата, Израилевият Бог: Ето, Аз ще докарам върху Юда и върху всичките ерусалимски жители, цялото зло, което говорих против тях, защото им говорих, но не слушаха и ги виках, но не отговаряха.', 'Сине мой, слушай наставлението на баща си и не отхвърляй закона на майка си, защото те ще бъдат благодатен венец за главата ти и огърлица за шията ти.', 'Тогава облакът започна да се издига от града в димен стълб и Вениамин се обърна, и ето, целият град се издигаше в пламъци към небето.', 'В онзи ден няма да се срамуваш от всичките си дела, с които си отстъпил от Мен, защото тогава ще отнема отсред теб, твоите, които горделиво тържествуват и ти няма вече да се държиш надменно на светия Ми хълм.', 'А свинарите, като видяха станалото, избягаха и разказаха за това в града и в селата.', 'И Илий благослови Елкана и жена му и каза: ГОСПОД да ти даде потомство от тази жена, вместо заетото, което беше посветено на ГОСПОДА.', 'И ако живее във вас, Духът на Този, който възкреси Иисус от мъртвите, то Този, който възкреси Христос, от мъртвите ще съживи и вашите смъртни тела чрез Духа Си, който живее във вас.', 'А ГОСПОД си извърши, както беше говорил чрез мен и ГОСПОД откъсна царството от ръката ти, и го даде на ближния ти на Давид.', 'Даде и храна за магаретата им.', 'Книгата на видението на елкусеянина Наум.', 'И направи олтара за всеизгаряне от акациево дърво, пет лакътя беше дължината му и пет лакътя беше ширината му, четвъртит и три лакътя беше височината му.', 'Те ми казаха: Направи ни богове, които да ходят пред нас, защото на този Мойсей човека, който ни изведе от египетската земя, не знаем какво му стана.', 'Тогава Мардохей каза да отговорят на Естир: Не мисли в себе си, че от всичките юдеи само ти ще се избавиш в царския дом.', 'Но аз не бих познал греха освен чрез закона, защото не бих знаел пожелание, ако законът не беше казал: Не пожелавай.', 'Тогава народът Му си спомни за древните дни на Мойсей: Къде е Онзи, който ги изведе от морето с пастирите на стадото Си?', 'И три пъти в годината, Соломон принасяше всеизгаряния и примирителни жертви върху олтара, който построи на ГОСПОДА и кадеше върху олтара, който беше пред ГОСПОДА.', 'И след като им поставиха старейшини във всяка църква и се помолиха с пост ги препоръчаха на Господа, в когото бяха повярвали.', 'С нея, Той подейства в Христос, като Го възкреси от мъртвите и Го сложи да седне от дясната Си страна на небесата далеч над всяко началство и власт и сила и господство и всяко име, с което се наименуват не само в този свят, но и в бъдещия.', 'Стрелец срещу стрелец да опъва лъка си и срещу онзи, който се надига в бронята си.', 'Затова онази нива е наречена и до днес Кръвна нива.', 'И така слугите на цар Езекия отидоха при Исая.', 'И никой свещеник да не пие вино, когато влиза във вътрешния двор.', 'И Охозия, падна през решетката на горната си стая в Самария и се разболя.', 'Защо не разбирате Моето говорене?', 'А Лаван в отговор каза на Яков: Тези дъщери са мои дъщери и синовете са мои синове и стадата, са мои стада.', 'А чуждият, който се приближи да се умъртви.', 'И двамата сина на Илий, Офний и Финеес бяха там с ковчега на Божия завет.', 'Иисус му каза: Лисиците си имат леговища и небесните птици гнезда, а Човешкият Син- няма къде глава да подслони.', 'От кръвта на убитите от тлъстината на силните лъкът на Йонатан не се обръщаше назад и мечът на Саул не се връщаше празен.', 'Станах за присмех на целия си народ и за тяхна подигравателна песен цял ден.', 'Да, учите на тях синовете си, като говорите за тях, когато седиш в къщата си, когато ходиш по пътя, когато лягаш и когато ставаш.', 'И ГОСПОД се разкая за злото, което беше казал, че ще направи на народа Си.', 'А Юда изпрати ярето чрез ръката на приятеля си одоламеца, за да вземе залога от ръката на жената, но той не я намери.', 'И царят заповяда и доведоха онези мъже, които бяха издали Даниил, и хвърлиха тях, децата им, и жените им в рова на лъвовете и още преди да стигнат до дъното на рова, лъвовете ги сграбчиха, и строшиха всичките им кости.', 'И Йоав и народът, който беше с него, настъпиха за битката против арамейците и те побягнаха пред него.', 'И като го повикаха, Тертил започна да обвинява, като казваше: Понеже чрез теб честити, Феликсе се радваме на голямо спокойствие и понеже чрез твоята предвидливост има подобрения за този народ, то ние с пълна благодарност, винаги и навсякъде посрещаме това.', 'Защото Йоан казваше на Ирод: Не ти е позволено да имаш жената на брат си.', 'А в първия ден на седмицата, много рано сутринта, те дойдоха на гроба, като носеха благоуханните масла, които бяха приготвили.', 'Ще бъде ли добре да ви изпита Той?', 'След това Яков каза на Лаван: Дай жена ми, защото дойде време да вляза при нея.', 'А посветените дарове бяха шестстотин говеда и три хиляди овце.', 'Кога ще се събудя за да продължа да го потърся пак.', 'Изнемогвам от викането си гърлото ми е пресъхнало очите ми чезнат, докато чакам своя Бог.', 'Това са родовете на Мерарий.', 'На следващия ден едно голямо множество, което беше дошло на празника, като чуха, че Иисус идвал в Ерусалим взеха палмови клони и излязоха да Го посрещнат, викайки Осанна.', 'И той каза: Имам нещо да ти кажа.', 'Ако някой, който е престъпил, закона на Мойсей, умира безпощадно при думата на двама или трима свидетели, то колко по-тежко наказание, мислите ще заслужи онзи, който е потъпкал, Божия Син, и е счел, за просто нещо, кръвта на завета, с която е бил осветен и е оскърбил, Духа на благодатта.', 'Върни се, сине мой, Давиде, защото няма вече да ти сторя зло, понеже днес животът ми беше скъпоценен пред очите ти.', 'Ще дойдат големци от Египет Етиопия, бързо ще протегне ръцете си към Бога.', 'Затова хората Му се боят и Той не гледа на никого от мъдрите по сърце.', 'И Го следваше голямо множество от народ и жени, които плачеха за Него.', 'Ето ви семе: засейте земята!', 'И Давид дойде във Ваал-Ферасим и Давид ги разби там, и каза: ГОСПОД разсече пред мен, враговете ми, както водите правят пролом.', 'Кадилниците на тези мъже, които съгрешиха против живота си, нека ги направят на плочи за обковаване на олтара, защото те ги принесоха пред ГОСПОДА и затова са свети и те ще бъдат за знамение на израилевите синове.', 'И когато фараонът отказваше да ни пусне, ГОСПОД уби всяко първородно в египетската земя от първородно на човек до първородно на животно, затова жертвам на ГОСПОДА, всяко първородно, което е мъжко, а всеки първороден от синовете си, изкупувам.', 'А без вяра, не е възможно да се угоди на Бога, защото, който идва при Бога, трябва да вярва, че Той съществува и че възнаграждава тези, които Го търсят.', 'И докато още говореше с тях, ето, пратеникът слезе при него и каза: Ето, това зло е от ГОСПОДА.', 'А вие сами ли ще продадете братята си?']\n"
     ]
    }
   ],
   "source": [
    "labels = list(crf.classes_)\n",
    "y_pred = crf.predict(X_dev)\n",
    "print(metrics.flat_f1_score(y_dev, y_pred, average='weighted', labels=labels))\n",
    "print(metrics.flat_classification_report(y_dev, y_pred, labels=labels, digits=3))\n",
    "labels.remove('')\n",
    "print(metrics.flat_f1_score(y_dev, y_pred, average='weighted', labels=labels))\n",
    "print(metrics.flat_classification_report(y_dev, y_pred, labels=labels, digits=3))\n",
    "labels = [',','(',')','\"','[',']',';','.','?','!',':','-', '...']\n",
    "print(metrics.flat_f1_score(y_dev, y_pred, average='weighted', labels=labels))\n",
    "print(metrics.flat_classification_report(y_dev, y_pred, labels=labels, digits=3))\n",
    "punctuated_sentences = punctuate(X_dev, y_pred)\n",
    "print(punctuated_sentences[:100])"
   ]
  },
  {
   "cell_type": "code",
   "execution_count": 36,
   "id": "3e5b207a",
   "metadata": {},
   "outputs": [
    {
     "name": "stdout",
     "output_type": "stream",
     "text": [
      "CPU times: user 16min 27s, sys: 777 ms, total: 16min 28s\n",
      "Wall time: 16min 26s\n"
     ]
    }
   ],
   "source": [
    "%%time\n",
    "crf = sklearn_crfsuite.CRF(\n",
    "    algorithm='arow',\n",
    "    all_possible_transitions=True\n",
    ")\n",
    "crf.fit(X_train, y_train)"
   ]
  },
  {
   "cell_type": "code",
   "execution_count": 37,
   "id": "aaa3f724",
   "metadata": {},
   "outputs": [
    {
     "name": "stderr",
     "output_type": "stream",
     "text": [
      "/home/mariya/anaconda3/envs/masters/lib/python3.6/site-packages/sklearn/metrics/_classification.py:1465: UndefinedMetricWarning: F-score is ill-defined and being set to 0.0 in labels with no true nor predicted samples. Use `zero_division` parameter to control this behavior.\n",
      "  average, \"true nor predicted\", 'F-score is', len(true_sum)\n",
      "/home/mariya/anaconda3/envs/masters/lib/python3.6/site-packages/sklearn/utils/validation.py:70: FutureWarning: Pass labels=['', ':', '!', ',', '?', ';', '.', '-', ',(', '\"', '\").', '(', ')', '?-', '.-', ':)', '!-', ':\"', '.\"', ':(', '?)', '\"?', '\".', '\";', '\"-', ').', '!,', '-\"', ')!', '\",', '.\")', '!;', ';(', '),', '?;', '?\"', ');', '.)', '?,', ';\"', '):', '[', ']', '...', '],', '\"(', ',[', ',\"', ']\",', ')-', '\":', '(\"', '\"),', '\"-[', '...,', '\")', '..', '\",\"', '?\".', '\"[', '\"(\"', '),\"', '\"\"', '-.', '.,', '].', ')\"', '!\"', '?\"-', '\":\"', '):\"', '\")-', '\"-\"', '-,', ')\".', '?\",', ']\".', '!\",', ']?', '...[', '];', '...\".', '!\"-', '\"!', '!\".', '!?', '?!', ',-', '!...', '!).', ')?', '?...', '.?'] as keyword args. From version 0.25 passing these as positional arguments will result in an error\n",
      "  FutureWarning)\n"
     ]
    },
    {
     "name": "stdout",
     "output_type": "stream",
     "text": [
      "0.9071222729325642\n"
     ]
    },
    {
     "name": "stderr",
     "output_type": "stream",
     "text": [
      "/home/mariya/anaconda3/envs/masters/lib/python3.6/site-packages/sklearn/metrics/_classification.py:1221: UndefinedMetricWarning: Precision and F-score are ill-defined and being set to 0.0 in labels with no predicted samples. Use `zero_division` parameter to control this behavior.\n",
      "  _warn_prf(average, modifier, msg_start, len(result))\n",
      "/home/mariya/anaconda3/envs/masters/lib/python3.6/site-packages/sklearn/metrics/_classification.py:1221: UndefinedMetricWarning: Recall and F-score are ill-defined and being set to 0.0 in labels with no true samples. Use `zero_division` parameter to control this behavior.\n",
      "  _warn_prf(average, modifier, msg_start, len(result))\n"
     ]
    },
    {
     "name": "stdout",
     "output_type": "stream",
     "text": [
      "              precision    recall  f1-score   support\n",
      "\n",
      "                  0.958     0.949     0.954    227825\n",
      "           :      0.601     0.618     0.609       923\n",
      "           !      0.216     0.213     0.215       347\n",
      "           ,      0.560     0.618     0.588     18592\n",
      "           ?      0.530     0.445     0.483       443\n",
      "           ;      0.083     0.096     0.089       622\n",
      "           .      0.909     0.902     0.906     11401\n",
      "           -      0.111     0.121     0.116       882\n",
      "          ,(      0.000     0.000     0.000         5\n",
      "           \"      0.155     0.130     0.141      1596\n",
      "         \").      0.000     0.000     0.000         0\n",
      "           (      0.917     0.790     0.849      1656\n",
      "           )      0.816     0.650     0.724      1001\n",
      "          ?-      0.000     0.000     0.000         4\n",
      "          .-      0.000     0.000     0.000         2\n",
      "          :)      0.000     0.000     0.000         0\n",
      "          !-      0.067     0.050     0.057        20\n",
      "          :\"      0.143     0.060     0.084        67\n",
      "          .\"      0.000     0.000     0.000        23\n",
      "          :(      0.000     0.000     0.000         1\n",
      "          ?)      0.000     0.000     0.000         0\n",
      "          \"?      0.000     0.000     0.000         1\n",
      "          \".      0.105     0.113     0.109       293\n",
      "          \";      0.000     0.000     0.000         5\n",
      "          \"-      0.000     0.000     0.000        28\n",
      "          ).      0.907     0.753     0.823       271\n",
      "          !,      0.000     0.000     0.000         0\n",
      "          -\"      0.000     0.000     0.000         7\n",
      "          )!      0.000     0.000     0.000         1\n",
      "          \",      0.506     0.310     0.384       829\n",
      "         .\")      0.000     0.000     0.000         1\n",
      "          !;      0.000     0.000     0.000         1\n",
      "          ;(      0.000     0.000     0.000         0\n",
      "          ),      0.552     0.517     0.534       381\n",
      "          ?;      0.000     0.000     0.000         0\n",
      "          ?\"      0.000     0.000     0.000         0\n",
      "          );      0.000     0.000     0.000         0\n",
      "          .)      0.000     0.000     0.000         1\n",
      "          ?,      0.000     0.000     0.000         1\n",
      "          ;\"      0.000     0.000     0.000         0\n",
      "          ):      1.000     0.636     0.778        11\n",
      "           [      0.000     0.000     0.000        45\n",
      "           ]      0.000     0.000     0.000        43\n",
      "         ...      0.000     0.000     0.000        61\n",
      "          ],      0.000     0.000     0.000         3\n",
      "          \"(      0.471     0.258     0.333        31\n",
      "          ,[      0.000     0.000     0.000         1\n",
      "          ,\"      0.000     0.000     0.000        44\n",
      "         ]\",      0.000     0.000     0.000         5\n",
      "          )-      0.000     0.000     0.000        17\n",
      "          \":      0.000     0.000     0.000         0\n",
      "          (\"      0.000     0.000     0.000         0\n",
      "         \"),      0.000     0.000     0.000         1\n",
      "         \"-[      0.000     0.000     0.000         0\n",
      "        ...,      0.000     0.000     0.000         3\n",
      "          \")      0.000     0.000     0.000         2\n",
      "          ..      0.077     0.333     0.125         3\n",
      "         \",\"      0.000     0.000     0.000        10\n",
      "         ?\".      0.000     0.000     0.000         2\n",
      "          \"[      0.000     0.000     0.000         0\n",
      "         \"(\"      0.000     0.000     0.000         2\n",
      "         ),\"      0.200     0.500     0.286         2\n",
      "          \"\"      0.000     0.000     0.000         2\n",
      "          -.      0.000     0.000     0.000         0\n",
      "          .,      0.000     0.000     0.000         0\n",
      "          ].      0.000     0.000     0.000         2\n",
      "          )\"      0.000     0.000     0.000         0\n",
      "          !\"      0.000     0.000     0.000         0\n",
      "         ?\"-      0.000     0.000     0.000         2\n",
      "         \":\"      0.000     0.000     0.000         1\n",
      "         ):\"      0.000     0.000     0.000         0\n",
      "         \")-      0.000     0.000     0.000         1\n",
      "         \"-\"      0.000     0.000     0.000         0\n",
      "          -,      0.000     0.000     0.000         1\n",
      "         )\".      0.000     0.000     0.000         1\n",
      "         ?\",      0.000     0.000     0.000         1\n",
      "         ]\".      0.000     0.000     0.000         0\n",
      "         !\",      0.000     0.000     0.000         1\n",
      "          ]?      0.000     0.000     0.000         0\n",
      "        ...[      0.000     0.000     0.000         2\n",
      "          ];      0.000     0.000     0.000         0\n",
      "       ...\".      0.000     0.000     0.000         0\n",
      "         !\"-      0.000     0.000     0.000         2\n",
      "          \"!      0.000     0.000     0.000         0\n",
      "         !\".      0.000     0.000     0.000         3\n",
      "          !?      0.000     0.000     0.000         0\n",
      "          ?!      0.000     0.000     0.000         0\n",
      "          ,-      0.000     0.000     0.000         4\n",
      "        !...      0.000     0.000     0.000         1\n",
      "         !).      0.000     0.000     0.000         0\n",
      "          )?      0.000     0.000     0.000         3\n",
      "        ?...      0.000     0.000     0.000         0\n",
      "          .?      0.000     0.000     0.000         0\n",
      "\n",
      "   micro avg      0.904     0.904     0.904    267543\n",
      "   macro avg      0.106     0.097     0.099    267543\n",
      "weighted avg      0.911     0.904     0.907    267543\n",
      "\n",
      "0.640043682291575\n"
     ]
    },
    {
     "name": "stderr",
     "output_type": "stream",
     "text": [
      "/home/mariya/anaconda3/envs/masters/lib/python3.6/site-packages/sklearn/utils/validation.py:70: FutureWarning: Pass labels=[':', '!', ',', '?', ';', '.', '-', ',(', '\"', '\").', '(', ')', '?-', '.-', ':)', '!-', ':\"', '.\"', ':(', '?)', '\"?', '\".', '\";', '\"-', ').', '!,', '-\"', ')!', '\",', '.\")', '!;', ';(', '),', '?;', '?\"', ');', '.)', '?,', ';\"', '):', '[', ']', '...', '],', '\"(', ',[', ',\"', ']\",', ')-', '\":', '(\"', '\"),', '\"-[', '...,', '\")', '..', '\",\"', '?\".', '\"[', '\"(\"', '),\"', '\"\"', '-.', '.,', '].', ')\"', '!\"', '?\"-', '\":\"', '):\"', '\")-', '\"-\"', '-,', ')\".', '?\",', ']\".', '!\",', ']?', '...[', '];', '...\".', '!\"-', '\"!', '!\".', '!?', '?!', ',-', '!...', '!).', ')?', '?...', '.?'] as keyword args. From version 0.25 passing these as positional arguments will result in an error\n",
      "  FutureWarning)\n"
     ]
    },
    {
     "name": "stdout",
     "output_type": "stream",
     "text": [
      "              precision    recall  f1-score   support\n",
      "\n",
      "           :      0.601     0.618     0.609       923\n",
      "           !      0.216     0.213     0.215       347\n",
      "           ,      0.560     0.618     0.588     18592\n",
      "           ?      0.530     0.445     0.483       443\n",
      "           ;      0.083     0.096     0.089       622\n",
      "           .      0.909     0.902     0.906     11401\n",
      "           -      0.111     0.121     0.116       882\n",
      "          ,(      0.000     0.000     0.000         5\n",
      "           \"      0.155     0.130     0.141      1596\n",
      "         \").      0.000     0.000     0.000         0\n",
      "           (      0.917     0.790     0.849      1656\n",
      "           )      0.816     0.650     0.724      1001\n",
      "          ?-      0.000     0.000     0.000         4\n",
      "          .-      0.000     0.000     0.000         2\n",
      "          :)      0.000     0.000     0.000         0\n",
      "          !-      0.067     0.050     0.057        20\n",
      "          :\"      0.143     0.060     0.084        67\n",
      "          .\"      0.000     0.000     0.000        23\n",
      "          :(      0.000     0.000     0.000         1\n",
      "          ?)      0.000     0.000     0.000         0\n",
      "          \"?      0.000     0.000     0.000         1\n",
      "          \".      0.105     0.113     0.109       293\n",
      "          \";      0.000     0.000     0.000         5\n",
      "          \"-      0.000     0.000     0.000        28\n",
      "          ).      0.907     0.753     0.823       271\n",
      "          !,      0.000     0.000     0.000         0\n",
      "          -\"      0.000     0.000     0.000         7\n",
      "          )!      0.000     0.000     0.000         1\n",
      "          \",      0.506     0.310     0.384       829\n",
      "         .\")      0.000     0.000     0.000         1\n",
      "          !;      0.000     0.000     0.000         1\n",
      "          ;(      0.000     0.000     0.000         0\n",
      "          ),      0.552     0.517     0.534       381\n",
      "          ?;      0.000     0.000     0.000         0\n",
      "          ?\"      0.000     0.000     0.000         0\n",
      "          );      0.000     0.000     0.000         0\n",
      "          .)      0.000     0.000     0.000         1\n",
      "          ?,      0.000     0.000     0.000         1\n",
      "          ;\"      0.000     0.000     0.000         0\n",
      "          ):      1.000     0.636     0.778        11\n",
      "           [      0.000     0.000     0.000        45\n",
      "           ]      0.000     0.000     0.000        43\n",
      "         ...      0.000     0.000     0.000        61\n",
      "          ],      0.000     0.000     0.000         3\n",
      "          \"(      0.471     0.258     0.333        31\n",
      "          ,[      0.000     0.000     0.000         1\n",
      "          ,\"      0.000     0.000     0.000        44\n",
      "         ]\",      0.000     0.000     0.000         5\n",
      "          )-      0.000     0.000     0.000        17\n",
      "          \":      0.000     0.000     0.000         0\n",
      "          (\"      0.000     0.000     0.000         0\n",
      "         \"),      0.000     0.000     0.000         1\n",
      "         \"-[      0.000     0.000     0.000         0\n",
      "        ...,      0.000     0.000     0.000         3\n",
      "          \")      0.000     0.000     0.000         2\n",
      "          ..      0.077     0.333     0.125         3\n",
      "         \",\"      0.000     0.000     0.000        10\n",
      "         ?\".      0.000     0.000     0.000         2\n",
      "          \"[      0.000     0.000     0.000         0\n",
      "         \"(\"      0.000     0.000     0.000         2\n",
      "         ),\"      0.200     0.500     0.286         2\n",
      "          \"\"      0.000     0.000     0.000         2\n",
      "          -.      0.000     0.000     0.000         0\n",
      "          .,      0.000     0.000     0.000         0\n",
      "          ].      0.000     0.000     0.000         2\n",
      "          )\"      0.000     0.000     0.000         0\n",
      "          !\"      0.000     0.000     0.000         0\n",
      "         ?\"-      0.000     0.000     0.000         2\n",
      "         \":\"      0.000     0.000     0.000         1\n",
      "         ):\"      0.000     0.000     0.000         0\n",
      "         \")-      0.000     0.000     0.000         1\n",
      "         \"-\"      0.000     0.000     0.000         0\n",
      "          -,      0.000     0.000     0.000         1\n",
      "         )\".      0.000     0.000     0.000         1\n",
      "         ?\",      0.000     0.000     0.000         1\n",
      "         ]\".      0.000     0.000     0.000         0\n",
      "         !\",      0.000     0.000     0.000         1\n",
      "          ]?      0.000     0.000     0.000         0\n",
      "        ...[      0.000     0.000     0.000         2\n",
      "          ];      0.000     0.000     0.000         0\n",
      "       ...\".      0.000     0.000     0.000         0\n",
      "         !\"-      0.000     0.000     0.000         2\n",
      "          \"!      0.000     0.000     0.000         0\n",
      "         !\".      0.000     0.000     0.000         3\n",
      "          !?      0.000     0.000     0.000         0\n",
      "          ?!      0.000     0.000     0.000         0\n",
      "          ,-      0.000     0.000     0.000         4\n",
      "        !...      0.000     0.000     0.000         1\n",
      "         !).      0.000     0.000     0.000         0\n",
      "          )?      0.000     0.000     0.000         3\n",
      "        ?...      0.000     0.000     0.000         0\n",
      "          .?      0.000     0.000     0.000         0\n",
      "\n",
      "   micro avg      0.612     0.646     0.629     39718\n",
      "   macro avg      0.097     0.088     0.089     39718\n",
      "weighted avg      0.638     0.646     0.640     39718\n",
      "\n",
      "0.6545184368902249\n"
     ]
    },
    {
     "name": "stderr",
     "output_type": "stream",
     "text": [
      "/home/mariya/anaconda3/envs/masters/lib/python3.6/site-packages/sklearn/utils/validation.py:70: FutureWarning: Pass labels=[',', '(', ')', '\"', '[', ']', ';', '.', '?', '!', ':', '-', '...'] as keyword args. From version 0.25 passing these as positional arguments will result in an error\n",
      "  FutureWarning)\n"
     ]
    },
    {
     "name": "stdout",
     "output_type": "stream",
     "text": [
      "              precision    recall  f1-score   support\n",
      "\n",
      "           ,      0.560     0.618     0.588     18592\n",
      "           (      0.917     0.790     0.849      1656\n",
      "           )      0.816     0.650     0.724      1001\n",
      "           \"      0.155     0.130     0.141      1596\n",
      "           [      0.000     0.000     0.000        45\n",
      "           ]      0.000     0.000     0.000        43\n",
      "           ;      0.083     0.096     0.089       622\n",
      "           .      0.909     0.902     0.906     11401\n",
      "           ?      0.530     0.445     0.483       443\n",
      "           !      0.216     0.213     0.215       347\n",
      "           :      0.601     0.618     0.609       923\n",
      "           -      0.111     0.121     0.116       882\n",
      "         ...      0.000     0.000     0.000        61\n",
      "\n",
      "   micro avg      0.642     0.663     0.653     37612\n",
      "   macro avg      0.377     0.353     0.363     37612\n",
      "weighted avg      0.648     0.663     0.655     37612\n",
      "\n",
      "['Но синовете им не умъртви, защото постъпи според писаното в закона в книгата на Мойсей, където: ГОСПОД заповяда и каза: Бащите да не умират заради синовете, и синовете да не умират заради бащите, а всеки да умира за собствения си грях.', 'Но когато ти говоря, ще отворя устата ти и ти им кажи: Така казва Господ БОГ: Който слуша, нека слуша, а който не слуша, нека не слуша, защото са бунтовен дом.', 'Защото кой е по-голям този който седи на трапезата ли или онзи, който слугува', 'А след това ще се насели, както в предишните дни, заявява ГОСПОД.', 'А Той беше на задната част, заспал на възглавница.', 'Ефрем е като птица, славата му ще отлети.', 'И така той си отиде от него, на известно разстояние.', 'Не бягам при халдейците.', 'И израилевите синове излязоха от египетската земя, строени', 'А когато Ахитофел видя, че съветът му не се изпълни, оседла магарето си и стана и отиде у дома си в своя град, и нареди домашните си работи, и се обеси.', 'Ако умре някое животно, от добитъка който можете да ядете, който се допре до мършата му, ще бъде нечист до вечерта.', 'Но помощник съответен на( Адам не се намери.', 'Който задържа жито народът, ще го проклина; а благословение ще почива на главата, на този, който го продава.', 'Този човек беше праведен, и благочестив и чакаше Утехата на Израил, и Светият Дух беше на него.', 'Всичко е възможно за този, който вярва,', 'И видях, височината на дома околовръст основите на страничните стаи, бяха една цяла тръстика от шест големи лакътя.', 'После да вземеш тлъстината, на овена, опашката, и тлъстината, която покрива вътрешностите, булото на дроба, двата бъбрека с тлъстината, която е около тях; и дясното бедро- защото е овен на посвещение и един хляб, една пита хляб, месен с маслинено масло; и една кора, от коша на безквасните, хлябове, които са пред ГОСПОДА.', 'И от дима излязоха скакалци по земята и им се даде власт като властта, която имат земните скорпиони.', 'Ти си, ГОСПОДИ, само Ти?', 'И ще предаде Израил заради греховете, на Еровоам с, които съгреши и с, които въведе Израил в грях.', 'Синове на Елифаз: Теман и Омар, Сефи, и Готом, Кенез, и Тамна, и Амалик.', 'А гладът в Самария беше страшен.', 'Затова казах в сърцето си, че и това е суета.', 'Насладих се на сянката му и седнах и плодът му, бе сладък в устата ми.', 'Защото, така ми каза ГОСПОД, Както ръмжи над лова си, лъвът младият лъв, срещу когото се свикват множество, овчари и не се плаши от гласа им, и не се отдръпва пред шума им; така ГОСПОД на Войнствата, ще слезе за да воюва за хълма Сион, и за неговото възвишение.', 'Отче, свети- опази ги в Името Си, което си Ми, дал- за да бъдат едно- както сме и Ние.', 'И да правите разлика между чистите животни и нечистите и между нечистите птици, и чистите и да не осквернявате себе си с животно, или с птица или с каквото и да е, което пълзи по земята, което Аз съм ви отделил като нечисто.', 'И ГОСПОД, укрепи моавския цар Еглон против Израил, защото вършиха зло пред ГОСПОДА.', 'И Духът ми каза, да отида с тях без да се двоумя.', 'В двадесет и седмата година на израилевия цар: Еровоам се възцари, Азария синът на юдовия цар Амасия.', 'Защото вашата послушност е известна на всички, затова се радвам за вас.', 'Той изтегля всички с въдица влачи ги в мрежата си и ги събира в рибарската си, мрежа- затова се радва и се весели.', 'Благословен да е ГОСПОД Бог Богът на Израил, който единствен върши чудеса', 'И които влязоха мъжко и женско от всяка плът, влязоха, както Бог му беше заповядал и ГОСПОД: затвори след него.', 'Тогава царят каза на Божия човек: Ела с мен у дома, и се подкрепи и ще ти дам подарък.', 'И ето, въпреки че е посадена ще успее ли?', 'От дома Тогарма даваха за стоките ти коне бойни коне и мулета.', 'Затова заповядай гробът да се пази, здраво до третия ден да не би учениците Му да дойдат и да Го откраднат, и да кажат на народа Възкръсна от мъртвите.', 'И когато отвори петия печат, видях под олтара душите на онези, които са били заклани за Божието слово и за свидетелството, което държаха.', 'И свещениците, които служат на ГОСПОДА са синовете на Аарон и левитите са в службата.', 'Той тича след тях. с умолителни думи, но тях ги няма', 'И измери: дължината му четиридесет лакътя и ширината му- двадесет лакътя.', 'Затова, така казва ГОСПОД Бог на Войнствата, Израилевият Бог: Ето, Аз, ще докарам върху Юда и върху всичките ерусалимски жители, цялото зло, което говорих против тях, защото им говорих, но не слушаха, и ги виках, но не отговаряха.', 'Сине мой, слушай наставлението на баща си и не отхвърляй закона на майка си, защото те ще бъдат благодатен венец, за главата, ти, и огърлица за шията ти.', 'Тогава облакът започна да се издига от града, в димен стълб и Вениамин се обърна и ето, целият град се издигаше в пламъци към небето.', 'В онзи ден няма да се срамуваш от всичките си дела, с които си отстъпил от Мен; защото тогава ще отнема отсред теб твоите, които горделиво тържествуват и ти няма вече да се държиш надменно на светия Ми хълм.', 'А свинарите, като видяха станалото, избягаха и разказаха, за това в града, и в селата.', 'И Илий благослови Елкана и жена му и каза: ГОСПОД да ти даде потомство от тази жена вместо заетото, което беше посветено на ГОСПОДА.', 'И ако живее във вас, Духът на Този, който възкреси Иисус, от мъртвите то Този, който възкреси Христос, от мъртвите, ще съживи и вашите смъртни тела чрез Духа Си който живее във вас.', 'А ГОСПОД си извърши, както беше говорил, чрез мен и ГОСПОД откъсна царството от ръката ти и го даде на ближния ти на Давид.', 'Даде и храна, за магаретата им.', 'Книгата на видението на елкусеянина\". Наум?', 'И направи олтара за всеизгаряне от акациево дърво пет лакътя беше дължината му и пет лакътя беше ширината му- четвъртит; и три лакътя беше височината му.', 'Те ми казаха: Направи ни богове, които да ходят пред нас, защото на този Мойсей човека, който ни изведе от египетската земя не знаем какво му стана?', 'Тогава Мардохей, каза да отговорят на Естир: Не мисли в себе си, че от всичките юдеи само ти ще се избавиш в царския дом.', 'Но аз не бих познал греха освен чрез закона, защото не бих знаел пожелание, ако законът не беше казал: Не пожелавай.', 'Тогава народът Му си спомни за древните дни на Мойсей: Къде е Онзи, който ги изведе от морето с пастирите на стадото Си.', 'И три пъти в годината, Соломон принасяше всеизгаряния, и примирителни жертви върху олтара, който построи на ГОСПОДА и кадеше върху олтара, който беше пред ГОСПОДА.', 'И след като им поставиха старейшини във всяка църква и се помолиха с пост, ги препоръчаха на Господа, в когото бяха повярвали.', 'С нея Той подейства в Христос, като Го възкреси от мъртвите и Го сложи да седне, от дясната Си страна на небесата далеч над всяко началство и власт и сила и господство и всяко име с което се наименуват не само в този свят, но и в бъдещия.', 'Стрелец срещу стрелец да опъва лъка си и срещу онзи, който се надига в бронята си.', 'Затова, онази нива е наречена, и до днес, Кръвна нива.', 'И така слугите на цар Езекия отидоха при Исая.', 'И никой свещеник да не пие вино когато влиза във вътрешния двор.', 'И Охозия, падна през решетката на горната си, стая в Самария, и се разболя.', 'Защо не разбирате Моето говорене.', 'А Лаван в отговор каза на Яков: Тези дъщери са мои дъщери и синовете са мои, синове и стадата са мои стада.', 'А чуждият, който се приближи да се умъртви.', 'И двамата, сина на Илий: Офний и Финеес, бяха там, с ковчега на Божия завет.', 'Иисус му каза: Лисиците си имат леговища и небесните птици гнезда, а Човешкият Син няма къде глава да подслони,', 'От кръвта на убитите от тлъстината, на силните лъкът на Йонатан не се обръщаше назад, и мечът на Саул не се връщаше празен.', 'Станах за присмех на целия си народ; и за тяхна подигравателна песен цял ден.', 'Да учите на тях, синовете си, като говорите за тях, когато седиш в къщата си, когато ходиш по пътя, когато лягаш и когато ставаш', 'И ГОСПОД се разкая за злото, което беше казал, че ще направи на народа Си.', 'А Юда изпрати ярето чрез ръката на приятеля си, одоламеца за да вземе залога от ръката на жената, но той не я намери.', 'И царят заповяда и доведоха онези мъже, които бяха издали, Даниил, и хвърлиха тях, децата им и жените им в рова на лъвовете и още преди да стигнат до дъното на рова лъвовете ги сграбчиха и строшиха, всичките им кости.', 'И Йоав и народът, който беше с него, настъпиха за битката против арамейците и те побягнаха пред него.', 'И като го повикаха, Тертил започна да обвинява, като казваше: Понеже чрез теб, честити Феликсе, се радваме на голямо спокойствие; и понеже, чрез твоята, предвидливост има подобрения за този народ то ние с пълна благодарност винаги и навсякъде посрещаме това.', 'Защото Йоан, казваше на Ирод: Не ти е позволено да имаш, жената на брат си.\"', 'А в първия ден на седмицата много- рано сутринта те дойдоха на гроба, като носеха благоуханните масла, които бяха приготвили.', 'Ще бъде ли добре да ви изпита Той?', 'След това Яков каза на Лаван Дай жена ми, защото дойде време да вляза при нея.', 'А посветените дарове, бяха шестстотин говеда, и три хиляди овце.', 'Кога ще се събудя за да продължа да го потърся пак.', 'Изнемогвам от викането си: гърлото ми е пресъхнало очите ми чезнат, докато чакам своя Бог.', 'Това са родовете на Мерарий.', 'На следващия ден едно голямо множество, което беше дошло на празника, като чуха че Иисус, идвал в Ерусалим, взеха палмови клони и излязоха да Го посрещнат, викайки Осанна.', 'И той каза Имам нещо да ти кажа.', 'Ако някой, който е престъпил закона на Мойсей умира безпощадно при думата на двама или трима свидетели: то колко по-тежко, наказание мислите ще заслужи онзи, който е потъпкал Божия Син; и е счел\" за просто нещо, кръвта на завета, с която е бил осветен; и е оскърбил Духа на благодатта', 'Върни се, сине мой, Давиде, защото няма вече да ти сторя зло, понеже днес животът ми беше скъпоценен, пред очите ти!', 'Ще дойдат големци от Египет, Етиопия бързо ще протегне ръцете си към Бога.', 'Затова хората Му се боят и Той не гледа на никого, от мъдрите, по сърце.', 'И Го следваше, голямо множество от народ, и жени, които плачеха за Него.', 'Ето, ви семе засейте земята!', 'И Давид дойде във Ваал-Ферасим и Давид ги разби там и каза: ГОСПОД разсече пред мен враговете ми, както водите правят пролом.', 'Кадилниците на тези мъже, които съгрешиха против живота си, нека ги направят на плочи за обковаване на олтара, защото те ги принесоха пред ГОСПОДА, и затова са свети и те ще бъдат за знамение на израилевите синове.', 'И когато фараонът отказваше да ни пусне: ГОСПОД, уби всяко първородно в египетската земя от първородно на човек до първородно на животно, затова жертвам на ГОСПОДА всяко първородно, което е мъжко; а всеки първороден от синовете си изкупувам.', 'А без вяра не е възможно да се угоди на Бога, защото който идва при Бога, трябва да вярва, че Той съществува и че възнаграждава тези, които Го търсят.', 'И докато още говореше с тях, ето, пратеникът слезе при него и каза: Ето, това зло е от ГОСПОДА.', 'А вие сами ли ще продадете братята си?']\n"
     ]
    }
   ],
   "source": [
    "labels = list(crf.classes_)\n",
    "y_pred = crf.predict(X_dev)\n",
    "print(metrics.flat_f1_score(y_dev, y_pred, average='weighted', labels=labels))\n",
    "print(metrics.flat_classification_report(y_dev, y_pred, labels=labels, digits=3))\n",
    "labels.remove('')\n",
    "print(metrics.flat_f1_score(y_dev, y_pred, average='weighted', labels=labels))\n",
    "print(metrics.flat_classification_report(y_dev, y_pred, labels=labels, digits=3))\n",
    "labels = [',','(',')','\"','[',']',';','.','?','!',':','-', '...']\n",
    "print(metrics.flat_f1_score(y_dev, y_pred, average='weighted', labels=labels))\n",
    "print(metrics.flat_classification_report(y_dev, y_pred, labels=labels, digits=3))\n",
    "punctuated_sentences = punctuate(X_dev, y_pred)\n",
    "print(punctuated_sentences[:100])"
   ]
  },
  {
   "cell_type": "markdown",
   "id": "9b7db31a",
   "metadata": {},
   "source": [
    "### Experiment further adjusting algorithm parameters"
   ]
  },
  {
   "cell_type": "code",
   "execution_count": 23,
   "id": "2bcf99b4",
   "metadata": {},
   "outputs": [],
   "source": [
    "X_train = load_json('../../data/X_train.json')"
   ]
  },
  {
   "cell_type": "code",
   "execution_count": 24,
   "id": "84fa736c",
   "metadata": {},
   "outputs": [],
   "source": [
    "y_train = load_json('../../data/y_train.json')"
   ]
  },
  {
   "cell_type": "code",
   "execution_count": 25,
   "id": "40a16158",
   "metadata": {},
   "outputs": [],
   "source": [
    "X_dev = load_json('../../data/X_dev.json')"
   ]
  },
  {
   "cell_type": "code",
   "execution_count": 26,
   "id": "2669ae80",
   "metadata": {},
   "outputs": [],
   "source": [
    "y_dev = load_json('../../data/y_dev.json')"
   ]
  },
  {
   "cell_type": "code",
   "execution_count": 27,
   "id": "3ee304a9",
   "metadata": {},
   "outputs": [],
   "source": [
    "verify_prepped_data(X_train, y_train)"
   ]
  },
  {
   "cell_type": "code",
   "execution_count": 28,
   "id": "1ab2dc28",
   "metadata": {},
   "outputs": [],
   "source": [
    "verify_prepped_data(X_dev, y_dev)"
   ]
  },
  {
   "cell_type": "code",
   "execution_count": 30,
   "id": "a561a44c",
   "metadata": {},
   "outputs": [
    {
     "name": "stdout",
     "output_type": "stream",
     "text": [
      "CPU times: user 34min 23s, sys: 1.61 s, total: 34min 25s\n",
      "Wall time: 34min 22s\n"
     ]
    }
   ],
   "source": [
    "%%time\n",
    "crf = sklearn_crfsuite.CRF(\n",
    "    algorithm='pa',\n",
    "    max_iterations=200,\n",
    "    all_possible_transitions=True\n",
    ")\n",
    "crf.fit(X_train, y_train)"
   ]
  },
  {
   "cell_type": "code",
   "execution_count": 31,
   "id": "999b802e",
   "metadata": {},
   "outputs": [
    {
     "name": "stderr",
     "output_type": "stream",
     "text": [
      "/home/mariya/anaconda3/envs/masters/lib/python3.6/site-packages/sklearn/metrics/_classification.py:1465: UndefinedMetricWarning: F-score is ill-defined and being set to 0.0 in labels with no true nor predicted samples. Use `zero_division` parameter to control this behavior.\n",
      "  average, \"true nor predicted\", 'F-score is', len(true_sum)\n",
      "/home/mariya/anaconda3/envs/masters/lib/python3.6/site-packages/sklearn/utils/validation.py:70: FutureWarning: Pass labels=['', ':', '!', ',', '?', ';', '.', '-', ',(', '\"', '\").', '(', ')', '?-', '.-', ':)', '!-', ':\"', '.\"', ':(', '?)', '\"?', '\".', '\";', '\"-', ').', '!,', '-\"', ')!', '\",', '.\")', '!;', ';(', '),', '?;', '?\"', ');', '.)', '?,', ';\"', '):', '[', ']', '...', '],', '\"(', ',[', ',\"', ']\",', ')-', '\":', '(\"', '\"),', '\"-[', '...,', '\")', '..', '\",\"', '?\".', '\"[', '\"(\"', '),\"', '\"\"', '-.', '.,', '].', ')\"', '!\"', '?\"-', '\":\"', '):\"', '\")-', '\"-\"', '-,', ')\".', '?\",', ']\".', '!\",', ']?', '...[', '];', '...\".', '!\"-', '\"!', '!\".', '!?', '?!', ',-', '!...', '!).', ')?', '?...', '.?'] as keyword args. From version 0.25 passing these as positional arguments will result in an error\n",
      "  FutureWarning)\n"
     ]
    },
    {
     "name": "stdout",
     "output_type": "stream",
     "text": [
      "0.9356300161705335\n"
     ]
    },
    {
     "name": "stderr",
     "output_type": "stream",
     "text": [
      "/home/mariya/anaconda3/envs/masters/lib/python3.6/site-packages/sklearn/metrics/_classification.py:1221: UndefinedMetricWarning: Precision and F-score are ill-defined and being set to 0.0 in labels with no predicted samples. Use `zero_division` parameter to control this behavior.\n",
      "  _warn_prf(average, modifier, msg_start, len(result))\n",
      "/home/mariya/anaconda3/envs/masters/lib/python3.6/site-packages/sklearn/metrics/_classification.py:1221: UndefinedMetricWarning: Recall and F-score are ill-defined and being set to 0.0 in labels with no true samples. Use `zero_division` parameter to control this behavior.\n",
      "  _warn_prf(average, modifier, msg_start, len(result))\n"
     ]
    },
    {
     "name": "stdout",
     "output_type": "stream",
     "text": [
      "              precision    recall  f1-score   support\n",
      "\n",
      "                  0.964     0.979     0.972    227825\n",
      "           :      0.859     0.705     0.775       923\n",
      "           !      0.520     0.190     0.278       347\n",
      "           ,      0.695     0.699     0.697     18592\n",
      "           ?      0.845     0.711     0.772       443\n",
      "           ;      0.278     0.024     0.044       622\n",
      "           .      0.932     0.988     0.959     11401\n",
      "           -      0.562     0.087     0.151       882\n",
      "          ,(      0.000     0.000     0.000         5\n",
      "           \"      0.616     0.125     0.207      1596\n",
      "         \").      0.000     0.000     0.000         0\n",
      "           (      0.935     0.876     0.905      1656\n",
      "           )      0.840     0.842     0.841      1001\n",
      "          ?-      0.000     0.000     0.000         4\n",
      "          .-      0.000     0.000     0.000         2\n",
      "          :)      0.000     0.000     0.000         0\n",
      "          !-      0.000     0.000     0.000        20\n",
      "          :\"      0.500     0.164     0.247        67\n",
      "          .\"      0.000     0.000     0.000        23\n",
      "          :(      0.000     0.000     0.000         1\n",
      "          ?)      0.000     0.000     0.000         0\n",
      "          \"?      0.000     0.000     0.000         1\n",
      "          \".      0.607     0.058     0.106       293\n",
      "          \";      0.000     0.000     0.000         5\n",
      "          \"-      0.000     0.000     0.000        28\n",
      "          ).      0.957     0.908     0.932       271\n",
      "          !,      0.000     0.000     0.000         0\n",
      "          -\"      0.000     0.000     0.000         7\n",
      "          )!      0.000     0.000     0.000         1\n",
      "          \",      0.740     0.522     0.612       829\n",
      "         .\")      0.000     0.000     0.000         1\n",
      "          !;      0.000     0.000     0.000         1\n",
      "          ;(      0.000     0.000     0.000         0\n",
      "          ),      0.847     0.609     0.708       381\n",
      "          ?;      0.000     0.000     0.000         0\n",
      "          ?\"      0.000     0.000     0.000         0\n",
      "          );      0.000     0.000     0.000         0\n",
      "          .)      0.000     0.000     0.000         1\n",
      "          ?,      0.000     0.000     0.000         1\n",
      "          ;\"      0.000     0.000     0.000         0\n",
      "          ):      1.000     0.818     0.900        11\n",
      "           [      0.000     0.000     0.000        45\n",
      "           ]      0.000     0.000     0.000        43\n",
      "         ...      0.000     0.000     0.000        61\n",
      "          ],      0.000     0.000     0.000         3\n",
      "          \"(      0.750     0.097     0.171        31\n",
      "          ,[      0.000     0.000     0.000         1\n",
      "          ,\"      0.000     0.000     0.000        44\n",
      "         ]\",      0.000     0.000     0.000         5\n",
      "          )-      0.000     0.000     0.000        17\n",
      "          \":      0.000     0.000     0.000         0\n",
      "          (\"      0.000     0.000     0.000         0\n",
      "         \"),      0.000     0.000     0.000         1\n",
      "         \"-[      0.000     0.000     0.000         0\n",
      "        ...,      0.000     0.000     0.000         3\n",
      "          \")      0.000     0.000     0.000         2\n",
      "          ..      0.333     0.333     0.333         3\n",
      "         \",\"      0.000     0.000     0.000        10\n",
      "         ?\".      0.000     0.000     0.000         2\n",
      "          \"[      0.000     0.000     0.000         0\n",
      "         \"(\"      0.000     0.000     0.000         2\n",
      "         ),\"      0.000     0.000     0.000         2\n",
      "          \"\"      0.000     0.000     0.000         2\n",
      "          -.      0.000     0.000     0.000         0\n",
      "          .,      0.000     0.000     0.000         0\n",
      "          ].      0.000     0.000     0.000         2\n",
      "          )\"      0.000     0.000     0.000         0\n",
      "          !\"      0.000     0.000     0.000         0\n",
      "         ?\"-      0.000     0.000     0.000         2\n",
      "         \":\"      0.000     0.000     0.000         1\n",
      "         ):\"      0.000     0.000     0.000         0\n",
      "         \")-      0.000     0.000     0.000         1\n",
      "         \"-\"      0.000     0.000     0.000         0\n",
      "          -,      0.000     0.000     0.000         1\n",
      "         )\".      0.000     0.000     0.000         1\n",
      "         ?\",      0.000     0.000     0.000         1\n",
      "         ]\".      0.000     0.000     0.000         0\n",
      "         !\",      0.000     0.000     0.000         1\n",
      "          ]?      0.000     0.000     0.000         0\n",
      "        ...[      0.000     0.000     0.000         2\n",
      "          ];      0.000     0.000     0.000         0\n",
      "       ...\".      0.000     0.000     0.000         0\n",
      "         !\"-      0.000     0.000     0.000         2\n",
      "          \"!      0.000     0.000     0.000         0\n",
      "         !\".      0.000     0.000     0.000         3\n",
      "          !?      0.000     0.000     0.000         0\n",
      "          ?!      0.000     0.000     0.000         0\n",
      "          ,-      0.000     0.000     0.000         4\n",
      "        !...      0.000     0.000     0.000         1\n",
      "         !).      0.000     0.000     0.000         0\n",
      "          )?      0.000     0.000     0.000         3\n",
      "        ?...      0.000     0.000     0.000         0\n",
      "          .?      0.000     0.000     0.000         0\n",
      "\n",
      "   micro avg      0.941     0.941     0.941    267543\n",
      "   macro avg      0.148     0.105     0.114    267543\n",
      "weighted avg      0.935     0.941     0.936    267543\n",
      "\n",
      "0.7294375915952163\n"
     ]
    },
    {
     "name": "stderr",
     "output_type": "stream",
     "text": [
      "/home/mariya/anaconda3/envs/masters/lib/python3.6/site-packages/sklearn/utils/validation.py:70: FutureWarning: Pass labels=[':', '!', ',', '?', ';', '.', '-', ',(', '\"', '\").', '(', ')', '?-', '.-', ':)', '!-', ':\"', '.\"', ':(', '?)', '\"?', '\".', '\";', '\"-', ').', '!,', '-\"', ')!', '\",', '.\")', '!;', ';(', '),', '?;', '?\"', ');', '.)', '?,', ';\"', '):', '[', ']', '...', '],', '\"(', ',[', ',\"', ']\",', ')-', '\":', '(\"', '\"),', '\"-[', '...,', '\")', '..', '\",\"', '?\".', '\"[', '\"(\"', '),\"', '\"\"', '-.', '.,', '].', ')\"', '!\"', '?\"-', '\":\"', '):\"', '\")-', '\"-\"', '-,', ')\".', '?\",', ']\".', '!\",', ']?', '...[', '];', '...\".', '!\"-', '\"!', '!\".', '!?', '?!', ',-', '!...', '!).', ')?', '?...', '.?'] as keyword args. From version 0.25 passing these as positional arguments will result in an error\n",
      "  FutureWarning)\n"
     ]
    },
    {
     "name": "stdout",
     "output_type": "stream",
     "text": [
      "              precision    recall  f1-score   support\n",
      "\n",
      "           :      0.859     0.705     0.775       923\n",
      "           !      0.520     0.190     0.278       347\n",
      "           ,      0.695     0.699     0.697     18592\n",
      "           ?      0.845     0.711     0.772       443\n",
      "           ;      0.278     0.024     0.044       622\n",
      "           .      0.932     0.988     0.959     11401\n",
      "           -      0.562     0.087     0.151       882\n",
      "          ,(      0.000     0.000     0.000         5\n",
      "           \"      0.616     0.125     0.207      1596\n",
      "         \").      0.000     0.000     0.000         0\n",
      "           (      0.935     0.876     0.905      1656\n",
      "           )      0.840     0.842     0.841      1001\n",
      "          ?-      0.000     0.000     0.000         4\n",
      "          .-      0.000     0.000     0.000         2\n",
      "          :)      0.000     0.000     0.000         0\n",
      "          !-      0.000     0.000     0.000        20\n",
      "          :\"      0.500     0.164     0.247        67\n",
      "          .\"      0.000     0.000     0.000        23\n",
      "          :(      0.000     0.000     0.000         1\n",
      "          ?)      0.000     0.000     0.000         0\n",
      "          \"?      0.000     0.000     0.000         1\n",
      "          \".      0.607     0.058     0.106       293\n",
      "          \";      0.000     0.000     0.000         5\n",
      "          \"-      0.000     0.000     0.000        28\n",
      "          ).      0.957     0.908     0.932       271\n",
      "          !,      0.000     0.000     0.000         0\n",
      "          -\"      0.000     0.000     0.000         7\n",
      "          )!      0.000     0.000     0.000         1\n",
      "          \",      0.740     0.522     0.612       829\n",
      "         .\")      0.000     0.000     0.000         1\n",
      "          !;      0.000     0.000     0.000         1\n",
      "          ;(      0.000     0.000     0.000         0\n",
      "          ),      0.847     0.609     0.708       381\n",
      "          ?;      0.000     0.000     0.000         0\n",
      "          ?\"      0.000     0.000     0.000         0\n",
      "          );      0.000     0.000     0.000         0\n",
      "          .)      0.000     0.000     0.000         1\n",
      "          ?,      0.000     0.000     0.000         1\n",
      "          ;\"      0.000     0.000     0.000         0\n",
      "          ):      1.000     0.818     0.900        11\n",
      "           [      0.000     0.000     0.000        45\n",
      "           ]      0.000     0.000     0.000        43\n",
      "         ...      0.000     0.000     0.000        61\n",
      "          ],      0.000     0.000     0.000         3\n",
      "          \"(      0.750     0.097     0.171        31\n",
      "          ,[      0.000     0.000     0.000         1\n",
      "          ,\"      0.000     0.000     0.000        44\n",
      "         ]\",      0.000     0.000     0.000         5\n",
      "          )-      0.000     0.000     0.000        17\n",
      "          \":      0.000     0.000     0.000         0\n",
      "          (\"      0.000     0.000     0.000         0\n",
      "         \"),      0.000     0.000     0.000         1\n",
      "         \"-[      0.000     0.000     0.000         0\n",
      "        ...,      0.000     0.000     0.000         3\n",
      "          \")      0.000     0.000     0.000         2\n",
      "          ..      0.333     0.333     0.333         3\n",
      "         \",\"      0.000     0.000     0.000        10\n",
      "         ?\".      0.000     0.000     0.000         2\n",
      "          \"[      0.000     0.000     0.000         0\n",
      "         \"(\"      0.000     0.000     0.000         2\n",
      "         ),\"      0.000     0.000     0.000         2\n",
      "          \"\"      0.000     0.000     0.000         2\n",
      "          -.      0.000     0.000     0.000         0\n",
      "          .,      0.000     0.000     0.000         0\n",
      "          ].      0.000     0.000     0.000         2\n",
      "          )\"      0.000     0.000     0.000         0\n",
      "          !\"      0.000     0.000     0.000         0\n",
      "         ?\"-      0.000     0.000     0.000         2\n",
      "         \":\"      0.000     0.000     0.000         1\n",
      "         ):\"      0.000     0.000     0.000         0\n",
      "         \")-      0.000     0.000     0.000         1\n",
      "         \"-\"      0.000     0.000     0.000         0\n",
      "          -,      0.000     0.000     0.000         1\n",
      "         )\".      0.000     0.000     0.000         1\n",
      "         ?\",      0.000     0.000     0.000         1\n",
      "         ]\".      0.000     0.000     0.000         0\n",
      "         !\",      0.000     0.000     0.000         1\n",
      "          ]?      0.000     0.000     0.000         0\n",
      "        ...[      0.000     0.000     0.000         2\n",
      "          ];      0.000     0.000     0.000         0\n",
      "       ...\".      0.000     0.000     0.000         0\n",
      "         !\"-      0.000     0.000     0.000         2\n",
      "          \"!      0.000     0.000     0.000         0\n",
      "         !\".      0.000     0.000     0.000         3\n",
      "          !?      0.000     0.000     0.000         0\n",
      "          ?!      0.000     0.000     0.000         0\n",
      "          ,-      0.000     0.000     0.000         4\n",
      "        !...      0.000     0.000     0.000         1\n",
      "         !).      0.000     0.000     0.000         0\n",
      "          )?      0.000     0.000     0.000         3\n",
      "        ?...      0.000     0.000     0.000         0\n",
      "          .?      0.000     0.000     0.000         0\n",
      "\n",
      "   micro avg      0.794     0.726     0.758     39718\n",
      "   macro avg      0.139     0.095     0.105     39718\n",
      "weighted avg      0.765     0.726     0.729     39718\n",
      "\n",
      "0.7411956667736154\n"
     ]
    },
    {
     "name": "stderr",
     "output_type": "stream",
     "text": [
      "/home/mariya/anaconda3/envs/masters/lib/python3.6/site-packages/sklearn/utils/validation.py:70: FutureWarning: Pass labels=[',', '(', ')', '\"', '[', ']', ';', '.', '?', '!', ':', '-', '...'] as keyword args. From version 0.25 passing these as positional arguments will result in an error\n",
      "  FutureWarning)\n"
     ]
    },
    {
     "name": "stdout",
     "output_type": "stream",
     "text": [
      "              precision    recall  f1-score   support\n",
      "\n",
      "           ,      0.695     0.699     0.697     18592\n",
      "           (      0.935     0.876     0.905      1656\n",
      "           )      0.840     0.842     0.841      1001\n",
      "           \"      0.616     0.125     0.207      1596\n",
      "           [      0.000     0.000     0.000        45\n",
      "           ]      0.000     0.000     0.000        43\n",
      "           ;      0.278     0.024     0.044       622\n",
      "           .      0.932     0.988     0.959     11401\n",
      "           ?      0.845     0.711     0.772       443\n",
      "           !      0.520     0.190     0.278       347\n",
      "           :      0.859     0.705     0.775       923\n",
      "           -      0.562     0.087     0.151       882\n",
      "         ...      0.000     0.000     0.000        61\n",
      "\n",
      "   micro avg      0.794     0.741     0.767     37612\n",
      "   macro avg      0.545     0.404     0.433     37612\n",
      "weighted avg      0.769     0.741     0.741     37612\n",
      "\n",
      "['Но синовете им не умъртви, защото постъпи според писаното в закона в книгата на Мойсей, където ГОСПОД заповяда и каза: Бащите да не умират заради синовете и синовете да не умират заради бащите, а всеки да умира за собствения си грях.', 'Но когато ти говоря, ще отворя устата ти и ти им кажи: Така казва Господ БОГ: Който слуша, нека слуша, а който не слуша, нека не слуша, защото са бунтовен дом.', 'Защото кой е по-голям този, който седи на трапезата ли или онзи, който слугува?', 'А след това ще се насели, както в предишните дни, заявява ГОСПОД.', 'А Той беше на задната част заспал на възглавница.', 'Ефрем е като птица- славата му ще отлети.', 'И така той си отиде от него на известно разстояние.', 'Не бягам при халдейците.', 'И израилевите синове излязоха от египетската земя, строени.', 'А когато Ахитофел видя, че съветът му не се изпълни оседла магарето си и стана и отиде у дома си в своя град, и нареди домашните си работи и се обеси.', 'Ако умре някое животно от добитъка, който, можете да ядете, който се допре до мършата му ще бъде нечист до вечерта.', 'Но помощник съответен на Адам не се намери.', 'Който задържа жито, народът ще го проклина, а благословение ще почива на главата на този, който го продава.', 'Този човек беше праведен и благочестив и чакаше: Утехата на Израил и Светият Дух беше на него.', 'Всичко е възможно за този, който вярва.', 'И видях височината на дома околовръст, основите на страничните стаи бяха една цяла тръстика от шест големи лакътя.', 'После да вземеш тлъстината на овена, опашката и тлъстината, която покрива вътрешностите, булото на дроба двата бъбрека с тлъстината, която е около тях и дясното бедро, защото е овен на посвещение и един хляб, една пита хляб, месен с маслинено масло и една кора от коша на безквасните хлябове, които са пред ГОСПОДА.', 'И от дима излязоха скакалци по земята и им се даде власт като властта, която имат земните скорпиони.', 'Ти си, ГОСПОДИ, само Ти!', 'И ще предаде Израил заради греховете на Еровоам, с които съгреши и с които въведе Израил в грях.', 'Синове на Елифаз: Теман и Омар, Сефи и Готом Кенез, и Тамна и Амалик.', 'А гладът в Самария беше страшен.', 'Затова казах в сърцето си, че и това е суета.', 'Насладих се на сянката му и седнах и плодът му бе сладък в устата ми.', 'Защото, така ми каза ГОСПОД, Както ръмжи над лова си, лъвът младият лъв, срещу когото се свикват множество овчари, и не се плаши от гласа им, и не се отдръпва пред шума им, така ГОСПОД на Войнствата ще слезе, за да воюва за хълма Сион, и за неговото възвишение.', 'Отче свети, опази ги в Името Си, което си Ми дал за да бъдат едно, както сме и Ние.', 'И да правите разлика между чистите животни и нечистите и между нечистите птици и чистите и да не осквернявате себе си с животно, или с птица, или с каквото и да е, което пълзи по земята, което Аз съм ви отделил като нечисто.', 'И ГОСПОД укрепи моавския цар Еглон против Израил, защото вършиха зло пред ГОСПОДА.', 'И Духът ми каза да отида с тях, без да се двоумя.', 'В двадесет и седмата година на израилевия цар Еровоам се възцари Азария, синът на юдовия цар Амасия.', 'Защото вашата послушност е известна на всички, затова се радвам за вас.', 'Той изтегля всички с въдица влачи ги в мрежата си и ги събира в рибарската си мрежа, затова се радва и се весели.', 'Благословен да е ГОСПОД, Бог Богът на Израил, който единствен върши чудеса.', 'И които влязоха мъжко и женско от всяка плът влязоха, както Бог му беше заповядал, и ГОСПОД, затвори след него.', 'Тогава царят каза на Божия човек: Ела с мен у дома и се подкрепи и ще ти дам подарък.', 'И ето, въпреки че е посадена ще успее ли?', 'От дома Тогарма, даваха за стоките ти коне бойни коне и мулета.', 'Затова, заповядай гробът да се пази здраво до третия ден да не би учениците Му да дойдат и да Го откраднат, и да кажат на народа: Възкръсна от мъртвите.', 'И когато отвори петия печат, видях под олтара, душите на онези, които са били заклани за Божието слово и за свидетелството, което държаха.', 'И свещениците, които служат на ГОСПОДА са синовете на Аарон и левитите са в службата.', 'Той тича след тях с умолителни думи, но тях ги няма.', 'И измери дължината му четиридесет лакътя и ширината му- двадесет лакътя.', 'Затова, така казва ГОСПОД, Бог на Войнствата, Израилевият Бог: Ето, Аз ще докарам върху Юда и върху всичките ерусалимски жители, цялото зло, което говорих против тях, защото им говорих, но не слушаха и ги виках, но не отговаряха.', 'Сине мой, слушай наставлението на баща си и не отхвърляй закона на майка си, защото те ще бъдат благодатен венец, за главата ти и огърлица за шията ти.', 'Тогава облакът започна да се издига от града в димен стълб и Вениамин се обърна и ето, целият град се издигаше в пламъци към небето.', 'В онзи ден няма да се срамуваш от всичките си дела, с които си отстъпил от Мен, защото тогава ще отнема отсред теб, твоите, които горделиво тържествуват и ти няма вече да се държиш надменно на светия Ми хълм.', 'А свинарите, като видяха станалото, избягаха и разказаха за това в града и в селата.', 'И Илий благослови Елкана и жена му и каза: ГОСПОД да ти даде потомство от тази жена, вместо заетото, което беше посветено на ГОСПОДА.', 'И ако живее във вас, Духът на Този, който възкреси Иисус от мъртвите, то Този, който възкреси Христос, от мъртвите ще съживи и вашите смъртни тела чрез Духа Си, който живее във вас.', 'А ГОСПОД си извърши, както беше говорил чрез мен и ГОСПОД откъсна царството от ръката ти, и го даде на ближния ти на Давид.', 'Даде и храна за магаретата им.', 'Книгата на видението на елкусеянина Наум.', 'И направи олтара за всеизгаряне от акациево дърво, пет лакътя беше дължината му и пет лакътя беше ширината му, четвъртит и три лакътя беше височината му.', 'Те ми казаха: Направи ни богове, които да ходят пред нас, защото на този Мойсей човека, който ни изведе от египетската земя, не знаем какво му стана.', 'Тогава Мардохей каза да отговорят на Естир: Не мисли в себе си, че от всичките юдеи само ти ще се избавиш в царския дом.', 'Но аз не бих познал греха освен чрез закона, защото не бих знаел пожелание, ако законът не беше казал: Не пожелавай.', 'Тогава народът Му си спомни за древните дни на Мойсей: Къде е Онзи, който ги изведе от морето с пастирите на стадото Си?', 'И три пъти в годината, Соломон принасяше всеизгаряния и примирителни жертви върху олтара, който построи на ГОСПОДА и кадеше върху олтара, който беше пред ГОСПОДА.', 'И след като им поставиха старейшини във всяка църква и се помолиха с пост ги препоръчаха на Господа, в когото бяха повярвали.', 'С нея, Той подейства в Христос, като Го възкреси от мъртвите и Го сложи да седне от дясната Си страна на небесата далеч над всяко началство и власт и сила и господство и всяко име, с което се наименуват не само в този свят, но и в бъдещия.', 'Стрелец срещу стрелец да опъва лъка си и срещу онзи, който се надига в бронята си.', 'Затова онази нива е наречена и до днес Кръвна нива.', 'И така слугите на цар Езекия отидоха при Исая.', 'И никой свещеник да не пие вино, когато влиза във вътрешния двор.', 'И Охозия, падна през решетката на горната си стая в Самария и се разболя.', 'Защо не разбирате Моето говорене?', 'А Лаван в отговор каза на Яков: Тези дъщери са мои дъщери и синовете са мои синове и стадата, са мои стада.', 'А чуждият, който се приближи да се умъртви.', 'И двамата сина на Илий, Офний и Финеес бяха там с ковчега на Божия завет.', 'Иисус му каза: Лисиците си имат леговища и небесните птици гнезда, а Човешкият Син- няма къде глава да подслони.', 'От кръвта на убитите от тлъстината на силните лъкът на Йонатан не се обръщаше назад и мечът на Саул не се връщаше празен.', 'Станах за присмех на целия си народ и за тяхна подигравателна песен цял ден.', 'Да, учите на тях синовете си, като говорите за тях, когато седиш в къщата си, когато ходиш по пътя, когато лягаш и когато ставаш.', 'И ГОСПОД се разкая за злото, което беше казал, че ще направи на народа Си.', 'А Юда изпрати ярето чрез ръката на приятеля си одоламеца, за да вземе залога от ръката на жената, но той не я намери.', 'И царят заповяда и доведоха онези мъже, които бяха издали Даниил, и хвърлиха тях, децата им, и жените им в рова на лъвовете и още преди да стигнат до дъното на рова, лъвовете ги сграбчиха и строшиха всичките им кости.', 'И Йоав и народът, който беше с него, настъпиха за битката против арамейците; и те побягнаха пред него.', 'И като го повикаха, Тертил започна да обвинява, като казваше: Понеже чрез теб честити, Феликсе се радваме на голямо спокойствие и понеже чрез твоята предвидливост има подобрения за този народ, то ние с пълна благодарност, винаги и навсякъде посрещаме това.', 'Защото Йоан казваше на Ирод: Не ти е позволено да имаш, жената на брат си.', 'А в първия ден на седмицата, много рано сутринта, те дойдоха на гроба, като носеха благоуханните масла, които бяха приготвили.', 'Ще бъде ли добре да ви изпита Той?', 'След това Яков каза на Лаван: Дай жена ми, защото дойде време да вляза при нея.', 'А посветените дарове бяха шестстотин говеда и три хиляди овце.', 'Кога ще се събудя за да продължа да го потърся пак.', 'Изнемогвам от викането си гърлото ми е пресъхнало очите ми чезнат, докато чакам своя Бог.', 'Това са родовете на Мерарий.', 'На следващия ден едно голямо множество, което беше дошло на празника, като чуха, че Иисус идвал в Ерусалим взеха палмови клони и излязоха да Го посрещнат, викайки Осанна.', 'И той каза: Имам нещо да ти кажа.', 'Ако някой, който е престъпил, закона на Мойсей, умира безпощадно при думата на двама или трима свидетели, то колко по-тежко наказание, мислите ще заслужи онзи, който е потъпкал, Божия Син, и е счел за просто нещо, кръвта на завета, с която е бил осветен и е оскърбил, Духа на благодатта.', 'Върни се, сине мой, Давиде, защото няма вече да ти сторя зло, понеже днес животът ми беше скъпоценен пред очите ти.', 'Ще дойдат големци от Египет Етиопия, бързо ще протегне ръцете си към Бога.', 'Затова хората Му се боят и Той не гледа на никого от мъдрите по сърце.', 'И Го следваше голямо множество от народ и жени, които плачеха за Него.', 'Ето ви семе: засейте земята!', 'И Давид дойде във Ваал-Ферасим и Давид ги разби там, и каза: ГОСПОД разсече пред мен, враговете ми, както водите правят пролом.', 'Кадилниците на тези мъже, които съгрешиха против живота си, нека ги направят на плочи за обковаване на олтара, защото те ги принесоха пред ГОСПОДА и затова са свети и те ще бъдат за знамение на израилевите синове.', 'И когато фараонът отказваше да ни пусне, ГОСПОД уби всяко първородно в египетската земя, от първородно на човек до първородно на животно, затова жертвам на ГОСПОДА всяко първородно, което е мъжко, а всеки първороден от синовете си, изкупувам.', 'А без вяра, не е възможно да се угоди на Бога, защото, който идва при Бога, трябва да вярва, че Той съществува и че възнаграждава тези, които Го търсят.', 'И докато още говореше с тях, ето, пратеникът слезе при него и каза: Ето, това зло е от ГОСПОДА.', 'А вие сами ли ще продадете братята си?']\n"
     ]
    }
   ],
   "source": [
    "labels = list(crf.classes_)\n",
    "y_pred = crf.predict(X_dev)\n",
    "print(metrics.flat_f1_score(y_dev, y_pred, average='weighted', labels=labels))\n",
    "print(metrics.flat_classification_report(y_dev, y_pred, labels=labels, digits=3))\n",
    "labels.remove('')\n",
    "print(metrics.flat_f1_score(y_dev, y_pred, average='weighted', labels=labels))\n",
    "print(metrics.flat_classification_report(y_dev, y_pred, labels=labels, digits=3))\n",
    "labels = [',','(',')','\"','[',']',';','.','?','!',':','-', '...']\n",
    "print(metrics.flat_f1_score(y_dev, y_pred, average='weighted', labels=labels))\n",
    "print(metrics.flat_classification_report(y_dev, y_pred, labels=labels, digits=3))\n",
    "punctuated_sentences = punctuate(X_dev, y_pred)\n",
    "print(punctuated_sentences[:100])"
   ]
  },
  {
   "cell_type": "code",
   "execution_count": 32,
   "id": "145f555b",
   "metadata": {},
   "outputs": [
    {
     "name": "stdout",
     "output_type": "stream",
     "text": [
      "CPU times: user 52min 13s, sys: 2.14 s, total: 52min 15s\n",
      "Wall time: 52min 11s\n"
     ]
    }
   ],
   "source": [
    "%%time\n",
    "crf = sklearn_crfsuite.CRF(\n",
    "    algorithm='pa',\n",
    "    max_iterations=300,\n",
    "    all_possible_transitions=True\n",
    ")\n",
    "crf.fit(X_train, y_train)"
   ]
  },
  {
   "cell_type": "code",
   "execution_count": 33,
   "id": "bd6ad8e9",
   "metadata": {},
   "outputs": [
    {
     "name": "stderr",
     "output_type": "stream",
     "text": [
      "/home/mariya/anaconda3/envs/masters/lib/python3.6/site-packages/sklearn/metrics/_classification.py:1465: UndefinedMetricWarning: F-score is ill-defined and being set to 0.0 in labels with no true nor predicted samples. Use `zero_division` parameter to control this behavior.\n",
      "  average, \"true nor predicted\", 'F-score is', len(true_sum)\n",
      "/home/mariya/anaconda3/envs/masters/lib/python3.6/site-packages/sklearn/utils/validation.py:70: FutureWarning: Pass labels=['', ':', '!', ',', '?', ';', '.', '-', ',(', '\"', '\").', '(', ')', '?-', '.-', ':)', '!-', ':\"', '.\"', ':(', '?)', '\"?', '\".', '\";', '\"-', ').', '!,', '-\"', ')!', '\",', '.\")', '!;', ';(', '),', '?;', '?\"', ');', '.)', '?,', ';\"', '):', '[', ']', '...', '],', '\"(', ',[', ',\"', ']\",', ')-', '\":', '(\"', '\"),', '\"-[', '...,', '\")', '..', '\",\"', '?\".', '\"[', '\"(\"', '),\"', '\"\"', '-.', '.,', '].', ')\"', '!\"', '?\"-', '\":\"', '):\"', '\")-', '\"-\"', '-,', ')\".', '?\",', ']\".', '!\",', ']?', '...[', '];', '...\".', '!\"-', '\"!', '!\".', '!?', '?!', ',-', '!...', '!).', ')?', '?...', '.?'] as keyword args. From version 0.25 passing these as positional arguments will result in an error\n",
      "  FutureWarning)\n"
     ]
    },
    {
     "name": "stdout",
     "output_type": "stream",
     "text": [
      "0.9359619480955952\n"
     ]
    },
    {
     "name": "stderr",
     "output_type": "stream",
     "text": [
      "/home/mariya/anaconda3/envs/masters/lib/python3.6/site-packages/sklearn/metrics/_classification.py:1221: UndefinedMetricWarning: Precision and F-score are ill-defined and being set to 0.0 in labels with no predicted samples. Use `zero_division` parameter to control this behavior.\n",
      "  _warn_prf(average, modifier, msg_start, len(result))\n",
      "/home/mariya/anaconda3/envs/masters/lib/python3.6/site-packages/sklearn/metrics/_classification.py:1221: UndefinedMetricWarning: Recall and F-score are ill-defined and being set to 0.0 in labels with no true samples. Use `zero_division` parameter to control this behavior.\n",
      "  _warn_prf(average, modifier, msg_start, len(result))\n"
     ]
    },
    {
     "name": "stdout",
     "output_type": "stream",
     "text": [
      "              precision    recall  f1-score   support\n",
      "\n",
      "                  0.964     0.979     0.972    227825\n",
      "           :      0.858     0.718     0.782       923\n",
      "           !      0.514     0.207     0.296       347\n",
      "           ,      0.697     0.696     0.696     18592\n",
      "           ?      0.845     0.716     0.775       443\n",
      "           ;      0.222     0.029     0.051       622\n",
      "           .      0.933     0.987     0.960     11401\n",
      "           -      0.533     0.092     0.157       882\n",
      "          ,(      0.000     0.000     0.000         5\n",
      "           \"      0.625     0.137     0.224      1596\n",
      "         \").      0.000     0.000     0.000         0\n",
      "           (      0.939     0.880     0.909      1656\n",
      "           )      0.849     0.850     0.850      1001\n",
      "          ?-      0.000     0.000     0.000         4\n",
      "          .-      0.000     0.000     0.000         2\n",
      "          :)      0.000     0.000     0.000         0\n",
      "          !-      0.000     0.000     0.000        20\n",
      "          :\"      0.545     0.179     0.270        67\n",
      "          .\"      1.000     0.043     0.083        23\n",
      "          :(      0.000     0.000     0.000         1\n",
      "          ?)      0.000     0.000     0.000         0\n",
      "          \"?      0.000     0.000     0.000         1\n",
      "          \".      0.567     0.058     0.105       293\n",
      "          \";      0.000     0.000     0.000         5\n",
      "          \"-      0.000     0.000     0.000        28\n",
      "          ).      0.965     0.915     0.939       271\n",
      "          !,      0.000     0.000     0.000         0\n",
      "          -\"      0.000     0.000     0.000         7\n",
      "          )!      0.000     0.000     0.000         1\n",
      "          \",      0.739     0.532     0.619       829\n",
      "         .\")      0.000     0.000     0.000         1\n",
      "          !;      0.000     0.000     0.000         1\n",
      "          ;(      0.000     0.000     0.000         0\n",
      "          ),      0.855     0.619     0.718       381\n",
      "          ?;      0.000     0.000     0.000         0\n",
      "          ?\"      0.000     0.000     0.000         0\n",
      "          );      0.000     0.000     0.000         0\n",
      "          .)      0.000     0.000     0.000         1\n",
      "          ?,      0.000     0.000     0.000         1\n",
      "          ;\"      0.000     0.000     0.000         0\n",
      "          ):      1.000     0.818     0.900        11\n",
      "           [      0.000     0.000     0.000        45\n",
      "           ]      0.000     0.000     0.000        43\n",
      "         ...      0.000     0.000     0.000        61\n",
      "          ],      0.000     0.000     0.000         3\n",
      "          \"(      0.600     0.097     0.167        31\n",
      "          ,[      0.000     0.000     0.000         1\n",
      "          ,\"      0.000     0.000     0.000        44\n",
      "         ]\",      0.000     0.000     0.000         5\n",
      "          )-      0.000     0.000     0.000        17\n",
      "          \":      0.000     0.000     0.000         0\n",
      "          (\"      0.000     0.000     0.000         0\n",
      "         \"),      0.000     0.000     0.000         1\n",
      "         \"-[      0.000     0.000     0.000         0\n",
      "        ...,      0.000     0.000     0.000         3\n",
      "          \")      0.000     0.000     0.000         2\n",
      "          ..      0.333     0.333     0.333         3\n",
      "         \",\"      0.000     0.000     0.000        10\n",
      "         ?\".      0.000     0.000     0.000         2\n",
      "          \"[      0.000     0.000     0.000         0\n",
      "         \"(\"      0.000     0.000     0.000         2\n",
      "         ),\"      0.000     0.000     0.000         2\n",
      "          \"\"      0.000     0.000     0.000         2\n",
      "          -.      0.000     0.000     0.000         0\n",
      "          .,      0.000     0.000     0.000         0\n",
      "          ].      0.000     0.000     0.000         2\n",
      "          )\"      0.000     0.000     0.000         0\n",
      "          !\"      0.000     0.000     0.000         0\n",
      "         ?\"-      0.000     0.000     0.000         2\n",
      "         \":\"      0.000     0.000     0.000         1\n",
      "         ):\"      0.000     0.000     0.000         0\n",
      "         \")-      0.000     0.000     0.000         1\n",
      "         \"-\"      0.000     0.000     0.000         0\n",
      "          -,      0.000     0.000     0.000         1\n",
      "         )\".      0.000     0.000     0.000         1\n",
      "         ?\",      0.000     0.000     0.000         1\n",
      "         ]\".      0.000     0.000     0.000         0\n",
      "         !\",      0.000     0.000     0.000         1\n",
      "          ]?      0.000     0.000     0.000         0\n",
      "        ...[      0.000     0.000     0.000         2\n",
      "          ];      0.000     0.000     0.000         0\n",
      "       ...\".      0.000     0.000     0.000         0\n",
      "         !\"-      0.000     0.000     0.000         2\n",
      "          \"!      0.000     0.000     0.000         0\n",
      "         !\".      0.000     0.000     0.000         3\n",
      "          !?      0.000     0.000     0.000         0\n",
      "          ?!      0.000     0.000     0.000         0\n",
      "          ,-      0.000     0.000     0.000         4\n",
      "        !...      0.000     0.000     0.000         1\n",
      "         !).      0.000     0.000     0.000         0\n",
      "          )?      0.000     0.000     0.000         3\n",
      "        ?...      0.000     0.000     0.000         0\n",
      "          .?      0.000     0.000     0.000         0\n",
      "\n",
      "   micro avg      0.941     0.941     0.941    267543\n",
      "   macro avg      0.157     0.106     0.116    267543\n",
      "weighted avg      0.935     0.941     0.936    267543\n",
      "\n",
      "0.7313501620540603\n"
     ]
    },
    {
     "name": "stderr",
     "output_type": "stream",
     "text": [
      "/home/mariya/anaconda3/envs/masters/lib/python3.6/site-packages/sklearn/utils/validation.py:70: FutureWarning: Pass labels=[':', '!', ',', '?', ';', '.', '-', ',(', '\"', '\").', '(', ')', '?-', '.-', ':)', '!-', ':\"', '.\"', ':(', '?)', '\"?', '\".', '\";', '\"-', ').', '!,', '-\"', ')!', '\",', '.\")', '!;', ';(', '),', '?;', '?\"', ');', '.)', '?,', ';\"', '):', '[', ']', '...', '],', '\"(', ',[', ',\"', ']\",', ')-', '\":', '(\"', '\"),', '\"-[', '...,', '\")', '..', '\",\"', '?\".', '\"[', '\"(\"', '),\"', '\"\"', '-.', '.,', '].', ')\"', '!\"', '?\"-', '\":\"', '):\"', '\")-', '\"-\"', '-,', ')\".', '?\",', ']\".', '!\",', ']?', '...[', '];', '...\".', '!\"-', '\"!', '!\".', '!?', '?!', ',-', '!...', '!).', ')?', '?...', '.?'] as keyword args. From version 0.25 passing these as positional arguments will result in an error\n",
      "  FutureWarning)\n"
     ]
    },
    {
     "name": "stdout",
     "output_type": "stream",
     "text": [
      "              precision    recall  f1-score   support\n",
      "\n",
      "           :      0.858     0.718     0.782       923\n",
      "           !      0.514     0.207     0.296       347\n",
      "           ,      0.697     0.696     0.696     18592\n",
      "           ?      0.845     0.716     0.775       443\n",
      "           ;      0.222     0.029     0.051       622\n",
      "           .      0.933     0.987     0.960     11401\n",
      "           -      0.533     0.092     0.157       882\n",
      "          ,(      0.000     0.000     0.000         5\n",
      "           \"      0.625     0.137     0.224      1596\n",
      "         \").      0.000     0.000     0.000         0\n",
      "           (      0.939     0.880     0.909      1656\n",
      "           )      0.849     0.850     0.850      1001\n",
      "          ?-      0.000     0.000     0.000         4\n",
      "          .-      0.000     0.000     0.000         2\n",
      "          :)      0.000     0.000     0.000         0\n",
      "          !-      0.000     0.000     0.000        20\n",
      "          :\"      0.545     0.179     0.270        67\n",
      "          .\"      1.000     0.043     0.083        23\n",
      "          :(      0.000     0.000     0.000         1\n",
      "          ?)      0.000     0.000     0.000         0\n",
      "          \"?      0.000     0.000     0.000         1\n",
      "          \".      0.567     0.058     0.105       293\n",
      "          \";      0.000     0.000     0.000         5\n",
      "          \"-      0.000     0.000     0.000        28\n",
      "          ).      0.965     0.915     0.939       271\n",
      "          !,      0.000     0.000     0.000         0\n",
      "          -\"      0.000     0.000     0.000         7\n",
      "          )!      0.000     0.000     0.000         1\n",
      "          \",      0.739     0.532     0.619       829\n",
      "         .\")      0.000     0.000     0.000         1\n",
      "          !;      0.000     0.000     0.000         1\n",
      "          ;(      0.000     0.000     0.000         0\n",
      "          ),      0.855     0.619     0.718       381\n",
      "          ?;      0.000     0.000     0.000         0\n",
      "          ?\"      0.000     0.000     0.000         0\n",
      "          );      0.000     0.000     0.000         0\n",
      "          .)      0.000     0.000     0.000         1\n",
      "          ?,      0.000     0.000     0.000         1\n",
      "          ;\"      0.000     0.000     0.000         0\n",
      "          ):      1.000     0.818     0.900        11\n",
      "           [      0.000     0.000     0.000        45\n",
      "           ]      0.000     0.000     0.000        43\n",
      "         ...      0.000     0.000     0.000        61\n",
      "          ],      0.000     0.000     0.000         3\n",
      "          \"(      0.600     0.097     0.167        31\n",
      "          ,[      0.000     0.000     0.000         1\n",
      "          ,\"      0.000     0.000     0.000        44\n",
      "         ]\",      0.000     0.000     0.000         5\n",
      "          )-      0.000     0.000     0.000        17\n",
      "          \":      0.000     0.000     0.000         0\n",
      "          (\"      0.000     0.000     0.000         0\n",
      "         \"),      0.000     0.000     0.000         1\n",
      "         \"-[      0.000     0.000     0.000         0\n",
      "        ...,      0.000     0.000     0.000         3\n",
      "          \")      0.000     0.000     0.000         2\n",
      "          ..      0.333     0.333     0.333         3\n",
      "         \",\"      0.000     0.000     0.000        10\n",
      "         ?\".      0.000     0.000     0.000         2\n",
      "          \"[      0.000     0.000     0.000         0\n",
      "         \"(\"      0.000     0.000     0.000         2\n",
      "         ),\"      0.000     0.000     0.000         2\n",
      "          \"\"      0.000     0.000     0.000         2\n",
      "          -.      0.000     0.000     0.000         0\n",
      "          .,      0.000     0.000     0.000         0\n",
      "          ].      0.000     0.000     0.000         2\n",
      "          )\"      0.000     0.000     0.000         0\n",
      "          !\"      0.000     0.000     0.000         0\n",
      "         ?\"-      0.000     0.000     0.000         2\n",
      "         \":\"      0.000     0.000     0.000         1\n",
      "         ):\"      0.000     0.000     0.000         0\n",
      "         \")-      0.000     0.000     0.000         1\n",
      "         \"-\"      0.000     0.000     0.000         0\n",
      "          -,      0.000     0.000     0.000         1\n",
      "         )\".      0.000     0.000     0.000         1\n",
      "         ?\",      0.000     0.000     0.000         1\n",
      "         ]\".      0.000     0.000     0.000         0\n",
      "         !\",      0.000     0.000     0.000         1\n",
      "          ]?      0.000     0.000     0.000         0\n",
      "        ...[      0.000     0.000     0.000         2\n",
      "          ];      0.000     0.000     0.000         0\n",
      "       ...\".      0.000     0.000     0.000         0\n",
      "         !\"-      0.000     0.000     0.000         2\n",
      "          \"!      0.000     0.000     0.000         0\n",
      "         !\".      0.000     0.000     0.000         3\n",
      "          !?      0.000     0.000     0.000         0\n",
      "          ?!      0.000     0.000     0.000         0\n",
      "          ,-      0.000     0.000     0.000         4\n",
      "        !...      0.000     0.000     0.000         1\n",
      "         !).      0.000     0.000     0.000         0\n",
      "          )?      0.000     0.000     0.000         3\n",
      "        ?...      0.000     0.000     0.000         0\n",
      "          .?      0.000     0.000     0.000         0\n",
      "\n",
      "   micro avg      0.795     0.726     0.759     39718\n",
      "   macro avg      0.148     0.097     0.107     39718\n",
      "weighted avg      0.766     0.726     0.731     39718\n",
      "\n",
      "0.7428435787514985\n"
     ]
    },
    {
     "name": "stderr",
     "output_type": "stream",
     "text": [
      "/home/mariya/anaconda3/envs/masters/lib/python3.6/site-packages/sklearn/utils/validation.py:70: FutureWarning: Pass labels=[',', '(', ')', '\"', '[', ']', ';', '.', '?', '!', ':', '-', '...'] as keyword args. From version 0.25 passing these as positional arguments will result in an error\n",
      "  FutureWarning)\n"
     ]
    },
    {
     "name": "stdout",
     "output_type": "stream",
     "text": [
      "              precision    recall  f1-score   support\n",
      "\n",
      "           ,      0.697     0.696     0.696     18592\n",
      "           (      0.939     0.880     0.909      1656\n",
      "           )      0.849     0.850     0.850      1001\n",
      "           \"      0.625     0.137     0.224      1596\n",
      "           [      0.000     0.000     0.000        45\n",
      "           ]      0.000     0.000     0.000        43\n",
      "           ;      0.222     0.029     0.051       622\n",
      "           .      0.933     0.987     0.960     11401\n",
      "           ?      0.845     0.716     0.775       443\n",
      "           !      0.514     0.207     0.296       347\n",
      "           :      0.858     0.718     0.782       923\n",
      "           -      0.533     0.092     0.157       882\n",
      "         ...      0.000     0.000     0.000        61\n",
      "\n",
      "   micro avg      0.795     0.741     0.767     37612\n",
      "   macro avg      0.540     0.409     0.438     37612\n",
      "weighted avg      0.770     0.741     0.743     37612\n",
      "\n",
      "['Но синовете им не умъртви, защото постъпи според писаното в закона в книгата на Мойсей, където ГОСПОД заповяда и каза: Бащите да не умират заради синовете и синовете да не умират заради бащите, а всеки да умира за собствения си грях.', 'Но когато ти говоря, ще отворя устата ти и ти им кажи: Така казва Господ БОГ: Който слуша, нека слуша, а който не слуша, нека не слуша, защото са бунтовен дом.', 'Защото кой е по-голям този, който седи на трапезата ли или онзи, който слугува?', 'А след това ще се насели, както в предишните дни, заявява ГОСПОД.', 'А Той беше на задната част заспал на възглавница.', 'Ефрем е като птица славата му ще отлети.', 'И така той си отиде от него на известно разстояние.', 'Не бягам при халдейците.', 'И израилевите синове излязоха от египетската земя, строени.', 'А когато Ахитофел видя, че съветът му не се изпълни оседла магарето си и стана и отиде у дома си в своя град, и нареди домашните си работи и се обеси.', 'Ако умре някое животно от добитъка, който можете да ядете, който се допре до мършата му ще бъде нечист до вечерта.', 'Но помощник съответен на Адам не се намери.', 'Който задържа жито, народът ще го проклина, а благословение ще почива на главата на този, който го продава.', 'Този човек беше праведен и благочестив и чакаше: Утехата на Израил и Светият Дух беше на него.', 'Всичко е възможно за този, който вярва.', 'И видях височината на дома околовръст, основите на страничните стаи бяха една цяла тръстика от шест големи лакътя.', 'После да вземеш тлъстината на овена, опашката и тлъстината, която покрива вътрешностите, булото на дроба, двата бъбрека с тлъстината, която е около тях и дясното бедро, защото е овен на посвещение и един хляб, една пита хляб, месен с маслинено масло и една кора от коша на безквасните хлябове, които са пред ГОСПОДА.', 'И от дима излязоха скакалци по земята и им се даде власт като властта, която имат земните скорпиони.', 'Ти си ГОСПОДИ, само Ти!', 'И ще предаде Израил заради греховете на Еровоам, с които съгреши и с които въведе Израил в грях.', 'Синове на Елифаз: Теман и Омар, Сефи и Готом Кенез, и Тамна и Амалик.', 'А гладът в Самария беше страшен.', 'Затова казах в сърцето си, че и това е суета.', 'Насладих се на сянката му и седнах и плодът му бе сладък в устата ми.', 'Защото, така ми каза: ГОСПОД, Както ръмжи над лова си, лъвът младият лъв, срещу когото се свикват множество овчари, и не се плаши от гласа им, и не се отдръпва пред шума им, така ГОСПОД на Войнствата ще слезе, за да воюва за хълма Сион, и за неговото възвишение.', 'Отче свети, опази ги в Името Си, което си Ми дал за да бъдат едно, както сме и Ние.', 'И да правите разлика между чистите животни и нечистите и между нечистите птици и чистите и да не осквернявате себе си с животно, или с птица, или с каквото и да е, което пълзи по земята, което Аз съм ви отделил като нечисто.', 'И ГОСПОД укрепи моавския цар Еглон против Израил, защото вършиха зло пред ГОСПОДА.', 'И Духът ми каза да отида с тях, без да се двоумя.', 'В двадесет и седмата година на израилевия цар Еровоам се възцари Азария, синът на юдовия цар Амасия.', 'Защото вашата послушност е известна на всички, затова се радвам за вас.', 'Той изтегля всички с въдица влачи ги в мрежата си и ги събира в рибарската си мрежа, затова се радва и се весели.', 'Благословен да е ГОСПОД Бог Богът на Израил, който единствен върши чудеса.', 'И които влязоха мъжко и женско от всяка плът влязоха, както Бог му беше заповядал, и ГОСПОД, затвори след него.', 'Тогава царят каза на Божия човек: Ела с мен у дома и се подкрепи и ще ти дам подарък.', 'И ето, въпреки че е посадена ще успее ли?', 'От дома Тогарма, даваха за стоките ти коне бойни коне и мулета.', 'Затова заповядай гробът да се пази здраво до третия ден да не би учениците Му да дойдат и да Го откраднат, и да кажат на народа: Възкръсна от мъртвите.', 'И когато отвори петия печат, видях под олтара, душите на онези, които са били заклани за Божието слово и за свидетелството, което държаха.', 'И свещениците, които служат на ГОСПОДА са синовете на Аарон и левитите са в службата.', 'Той тича след тях с умолителни думи, но тях ги няма.', 'И измери дължината му четиридесет лакътя и ширината му- двадесет лакътя.', 'Затова, така казва ГОСПОД, Бог на Войнствата, Израилевият Бог: Ето, Аз ще докарам върху Юда и върху всичките ерусалимски жители цялото зло, което говорих против тях, защото им говорих, но не слушаха и ги виках, но не отговаряха.', 'Сине мой, слушай наставлението на баща си и не отхвърляй закона на майка си, защото те ще бъдат благодатен венец, за главата ти и огърлица за шията ти.', 'Тогава облакът започна да се издига от града в димен стълб и Вениамин се обърна и ето, целият град се издигаше в пламъци към небето.', 'В онзи ден няма да се срамуваш от всичките си дела, с които си отстъпил от Мен, защото тогава ще отнема отсред теб, твоите, които горделиво тържествуват и ти няма вече да се държиш надменно на светия Ми хълм.', 'А свинарите, като видяха станалото, избягаха и разказаха за това в града и в селата.', 'И Илий благослови Елкана и жена му и каза: ГОСПОД да ти даде потомство от тази жена, вместо заетото, което беше посветено на ГОСПОДА.', 'И ако живее във вас, Духът на Този, който възкреси Иисус от мъртвите, то Този, който възкреси Христос, от мъртвите ще съживи и вашите смъртни тела чрез Духа Си, който живее във вас.', 'А ГОСПОД си извърши, както беше говорил чрез мен, и ГОСПОД откъсна царството от ръката ти, и го даде на ближния ти на Давид.', 'Даде и храна за магаретата им.', 'Книгата на видението на елкусеянина Наум.', 'И направи олтара за всеизгаряне от акациево дърво, пет лакътя беше дължината му и пет лакътя беше ширината му- четвъртит и три лакътя, беше височината му.', 'Те ми казаха: Направи ни богове, които да ходят пред нас, защото на този Мойсей човека, който ни изведе от египетската земя, не знаем какво му стана.', 'Тогава Мардохей каза да отговорят на Естир: Не мисли в себе си, че от всичките юдеи само ти ще се избавиш в царския дом.', 'Но аз не бих познал греха освен чрез закона, защото не бих знаел пожелание, ако законът не беше казал: Не пожелавай.', 'Тогава народът Му си спомни за древните дни на Мойсей: Къде е Онзи, който ги изведе от морето с пастирите на стадото Си?', 'И три пъти в годината, Соломон принасяше всеизгаряния и примирителни жертви върху олтара, който построи на ГОСПОДА и кадеше върху олтара, който беше пред ГОСПОДА.', 'И след като им поставиха старейшини във всяка църква и се помолиха с пост ги препоръчаха на Господа, в когото бяха повярвали.', 'С нея, Той подейства в Христос, като Го възкреси от мъртвите и Го сложи да седне от дясната Си страна на небесата далеч над всяко началство и власт и сила и господство и всяко име, с което се наименуват не само в този свят, но и в бъдещия.', 'Стрелец срещу стрелец да опъва лъка си и срещу онзи, който се надига в бронята си.', 'Затова онази нива е, наречена и до днес Кръвна нива.', 'И така слугите на цар Езекия отидоха при Исая.', 'И никой свещеник да не пие вино, когато влиза във вътрешния двор.', 'И Охозия, падна през решетката на горната си стая в Самария и се разболя.', 'Защо не разбирате Моето говорене?', 'А Лаван в отговор каза на Яков: Тези дъщери са мои дъщери и синовете са мои синове и стадата, са мои стада.', 'А чуждият, който се приближи да се умъртви.', 'И двамата сина на Илий, Офний и Финеес бяха там с ковчега на Божия завет.', 'Иисус му каза: Лисиците си имат леговища и небесните птици гнезда, а Човешкият Син- няма къде глава да подслони.', 'От кръвта на убитите от тлъстината на силните, лъкът на Йонатан не се обръщаше назад и мечът на Саул не се връщаше празен.', 'Станах за присмех на целия си народ и за тяхна подигравателна песен цял ден.', 'Да, учите на тях синовете си, като говорите за тях, когато седиш в къщата си, когато ходиш по пътя, когато лягаш и когато ставаш.', 'И ГОСПОД се разкая за злото, което беше казал, че ще направи на народа Си.', 'А Юда изпрати ярето чрез ръката на приятеля си одоламеца, за да вземе залога от ръката на жената, но той не я намери.', 'И царят заповяда и доведоха онези мъже, които бяха издали Даниил, и хвърлиха тях, децата им, и жените им в рова на лъвовете и още преди да стигнат до дъното на рова, лъвовете ги сграбчиха и строшиха всичките им кости.', 'И Йоав и народът, който беше с него, настъпиха за битката против арамейците; и те побягнаха пред него.', 'И като го повикаха Тертил, започна да обвинява, като казваше: Понеже чрез теб честити, Феликсе се радваме на голямо спокойствие и понеже чрез твоята предвидливост има подобрения за този народ, то ние с пълна благодарност, винаги и навсякъде посрещаме това.', 'Защото Йоан казваше на Ирод: Не ти е позволено да имаш, жената на брат си.', 'А в първия ден на седмицата, много рано сутринта, те дойдоха на гроба, като носеха благоуханните масла, които бяха приготвили.', 'Ще бъде ли добре да ви изпита Той?', 'След това Яков каза на Лаван: Дай жена ми, защото дойде време да вляза при нея.', 'А посветените дарове, бяха шестстотин говеда и три хиляди овце.', 'Кога ще се събудя за да продължа да го потърся пак.', 'Изнемогвам от викането си гърлото ми е пресъхнало очите ми чезнат, докато чакам своя Бог.', 'Това са родовете на Мерарий.', 'На следващия ден едно голямо множество, което беше дошло на празника, като чуха, че Иисус идвал в Ерусалим взеха палмови клони и излязоха да Го посрещнат, викайки Осанна.', 'И той каза: Имам нещо да ти кажа.', 'Ако някой, който е престъпил, закона на Мойсей, умира безпощадно при думата на двама или трима свидетели, то колко по-тежко наказание, мислите ще заслужи онзи, който е потъпкал, Божия Син, и е счел за просто нещо, кръвта на завета, с която е бил осветен и е оскърбил, Духа на благодатта.', 'Върни се, сине мой, Давиде, защото няма вече да ти сторя зло, понеже днес животът ми беше скъпоценен пред очите ти.', 'Ще дойдат големци от Египет Етиопия, бързо ще протегне ръцете си към Бога.', 'Затова хората Му се боят и Той не гледа на никого от мъдрите по сърце.', 'И Го следваше голямо множество от народ и жени, които плачеха за Него.', 'Ето ви семе засейте земята!', 'И Давид дойде във Ваал-Ферасим и Давид ги разби там, и каза: ГОСПОД разсече пред мен, враговете ми, както водите правят пролом.', 'Кадилниците на тези мъже, които съгрешиха против живота си, нека ги направят на плочи за обковаване на олтара, защото те ги принесоха пред ГОСПОДА и затова са свети и те ще бъдат за знамение на израилевите синове.', 'И когато фараонът отказваше да ни пусне, ГОСПОД уби всяко първородно в египетската земя, от първородно на човек до първородно на животно, затова жертвам на ГОСПОДА всяко първородно, което е мъжко, а всеки първороден от синовете си, изкупувам.', 'А без вяра, не е възможно да се угоди на Бога, защото, който идва при Бога, трябва да вярва, че Той съществува и че възнаграждава тези, които Го търсят.', 'И докато още говореше с тях, ето, пратеникът слезе при него и каза: Ето, това зло е от ГОСПОДА.', 'А вие сами ли ще продадете братята си?']\n"
     ]
    }
   ],
   "source": [
    "labels = list(crf.classes_)\n",
    "y_pred = crf.predict(X_dev)\n",
    "print(metrics.flat_f1_score(y_dev, y_pred, average='weighted', labels=labels))\n",
    "print(metrics.flat_classification_report(y_dev, y_pred, labels=labels, digits=3))\n",
    "labels.remove('')\n",
    "print(metrics.flat_f1_score(y_dev, y_pred, average='weighted', labels=labels))\n",
    "print(metrics.flat_classification_report(y_dev, y_pred, labels=labels, digits=3))\n",
    "labels = [',','(',')','\"','[',']',';','.','?','!',':','-', '...']\n",
    "print(metrics.flat_f1_score(y_dev, y_pred, average='weighted', labels=labels))\n",
    "print(metrics.flat_classification_report(y_dev, y_pred, labels=labels, digits=3))\n",
    "punctuated_sentences = punctuate(X_dev, y_pred)\n",
    "print(punctuated_sentences[:100])"
   ]
  },
  {
   "cell_type": "code",
   "execution_count": 34,
   "id": "d8e9adee",
   "metadata": {},
   "outputs": [
    {
     "name": "stdout",
     "output_type": "stream",
     "text": [
      "CPU times: user 33min 7s, sys: 969 ms, total: 33min 8s\n",
      "Wall time: 33min 5s\n"
     ]
    }
   ],
   "source": [
    "%%time\n",
    "crf = sklearn_crfsuite.CRF(\n",
    "    algorithm='arow',\n",
    "    max_iterations=200,\n",
    "    all_possible_transitions=True\n",
    ")\n",
    "crf.fit(X_train, y_train)"
   ]
  },
  {
   "cell_type": "code",
   "execution_count": 35,
   "id": "13379e76",
   "metadata": {},
   "outputs": [
    {
     "name": "stderr",
     "output_type": "stream",
     "text": [
      "/home/mariya/anaconda3/envs/masters/lib/python3.6/site-packages/sklearn/metrics/_classification.py:1465: UndefinedMetricWarning: F-score is ill-defined and being set to 0.0 in labels with no true nor predicted samples. Use `zero_division` parameter to control this behavior.\n",
      "  average, \"true nor predicted\", 'F-score is', len(true_sum)\n",
      "/home/mariya/anaconda3/envs/masters/lib/python3.6/site-packages/sklearn/utils/validation.py:70: FutureWarning: Pass labels=['', ':', '!', ',', '?', ';', '.', '-', ',(', '\"', '\").', '(', ')', '?-', '.-', ':)', '!-', ':\"', '.\"', ':(', '?)', '\"?', '\".', '\";', '\"-', ').', '!,', '-\"', ')!', '\",', '.\")', '!;', ';(', '),', '?;', '?\"', ');', '.)', '?,', ';\"', '):', '[', ']', '...', '],', '\"(', ',[', ',\"', ']\",', ')-', '\":', '(\"', '\"),', '\"-[', '...,', '\")', '..', '\",\"', '?\".', '\"[', '\"(\"', '),\"', '\"\"', '-.', '.,', '].', ')\"', '!\"', '?\"-', '\":\"', '):\"', '\")-', '\"-\"', '-,', ')\".', '?\",', ']\".', '!\",', ']?', '...[', '];', '...\".', '!\"-', '\"!', '!\".', '!?', '?!', ',-', '!...', '!).', ')?', '?...', '.?'] as keyword args. From version 0.25 passing these as positional arguments will result in an error\n",
      "  FutureWarning)\n"
     ]
    },
    {
     "name": "stdout",
     "output_type": "stream",
     "text": [
      "0.9047636440834411\n"
     ]
    },
    {
     "name": "stderr",
     "output_type": "stream",
     "text": [
      "/home/mariya/anaconda3/envs/masters/lib/python3.6/site-packages/sklearn/metrics/_classification.py:1221: UndefinedMetricWarning: Precision and F-score are ill-defined and being set to 0.0 in labels with no predicted samples. Use `zero_division` parameter to control this behavior.\n",
      "  _warn_prf(average, modifier, msg_start, len(result))\n",
      "/home/mariya/anaconda3/envs/masters/lib/python3.6/site-packages/sklearn/metrics/_classification.py:1221: UndefinedMetricWarning: Recall and F-score are ill-defined and being set to 0.0 in labels with no true samples. Use `zero_division` parameter to control this behavior.\n",
      "  _warn_prf(average, modifier, msg_start, len(result))\n"
     ]
    },
    {
     "name": "stdout",
     "output_type": "stream",
     "text": [
      "              precision    recall  f1-score   support\n",
      "\n",
      "                  0.958     0.944     0.951    227825\n",
      "           :      0.602     0.615     0.609       923\n",
      "           !      0.227     0.207     0.217       347\n",
      "           ,      0.560     0.608     0.583     18592\n",
      "           ?      0.597     0.381     0.466       443\n",
      "           ;      0.072     0.085     0.078       622\n",
      "           .      0.918     0.892     0.905     11401\n",
      "           -      0.078     0.095     0.086       882\n",
      "          ,(      0.000     0.000     0.000         5\n",
      "           \"      0.169     0.146     0.157      1596\n",
      "         \").      0.000     0.000     0.000         0\n",
      "           (      0.904     0.807     0.853      1656\n",
      "           )      0.824     0.656     0.731      1001\n",
      "          ?-      0.000     0.000     0.000         4\n",
      "          .-      0.000     0.000     0.000         2\n",
      "          :)      0.000     0.000     0.000         0\n",
      "          !-      0.016     0.050     0.024        20\n",
      "          :\"      0.171     0.090     0.118        67\n",
      "          .\"      0.000     0.000     0.000        23\n",
      "          :(      0.000     0.000     0.000         1\n",
      "          ?)      0.000     0.000     0.000         0\n",
      "          \"?      0.000     0.000     0.000         1\n",
      "          \".      0.100     0.099     0.100       293\n",
      "          \";      0.000     0.000     0.000         5\n",
      "          \"-      0.031     0.036     0.033        28\n",
      "          ).      0.888     0.819     0.852       271\n",
      "          !,      0.000     0.000     0.000         0\n",
      "          -\"      0.000     0.000     0.000         7\n",
      "          )!      0.000     0.000     0.000         1\n",
      "          \",      0.506     0.384     0.437       829\n",
      "         .\")      0.000     0.000     0.000         1\n",
      "          !;      0.000     0.000     0.000         1\n",
      "          ;(      0.000     0.000     0.000         0\n",
      "          ),      0.574     0.549     0.561       381\n",
      "          ?;      0.000     0.000     0.000         0\n",
      "          ?\"      0.000     0.000     0.000         0\n",
      "          );      0.000     0.000     0.000         0\n",
      "          .)      0.000     0.000     0.000         1\n",
      "          ?,      0.000     0.000     0.000         1\n",
      "          ;\"      0.000     0.000     0.000         0\n",
      "          ):      1.000     0.545     0.706        11\n",
      "           [      0.000     0.000     0.000        45\n",
      "           ]      0.000     0.000     0.000        43\n",
      "         ...      0.000     0.000     0.000        61\n",
      "          ],      0.000     0.000     0.000         3\n",
      "          \"(      0.381     0.258     0.308        31\n",
      "          ,[      0.000     0.000     0.000         1\n",
      "          ,\"      0.000     0.000     0.000        44\n",
      "         ]\",      0.000     0.000     0.000         5\n",
      "          )-      0.000     0.000     0.000        17\n",
      "          \":      0.000     0.000     0.000         0\n",
      "          (\"      0.000     0.000     0.000         0\n",
      "         \"),      0.000     0.000     0.000         1\n",
      "         \"-[      0.000     0.000     0.000         0\n",
      "        ...,      0.000     0.000     0.000         3\n",
      "          \")      0.000     0.000     0.000         2\n",
      "          ..      0.053     0.333     0.091         3\n",
      "         \",\"      0.000     0.000     0.000        10\n",
      "         ?\".      0.000     0.000     0.000         2\n",
      "          \"[      0.000     0.000     0.000         0\n",
      "         \"(\"      0.000     0.000     0.000         2\n",
      "         ),\"      0.000     0.000     0.000         2\n",
      "          \"\"      0.000     0.000     0.000         2\n",
      "          -.      0.000     0.000     0.000         0\n",
      "          .,      0.000     0.000     0.000         0\n",
      "          ].      0.000     0.000     0.000         2\n",
      "          )\"      0.000     0.000     0.000         0\n",
      "          !\"      0.000     0.000     0.000         0\n",
      "         ?\"-      0.000     0.000     0.000         2\n",
      "         \":\"      0.000     0.000     0.000         1\n",
      "         ):\"      0.000     0.000     0.000         0\n",
      "         \")-      0.000     0.000     0.000         1\n",
      "         \"-\"      0.000     0.000     0.000         0\n",
      "          -,      0.000     0.000     0.000         1\n",
      "         )\".      0.000     0.000     0.000         1\n",
      "         ?\",      0.000     0.000     0.000         1\n",
      "         ]\".      0.000     0.000     0.000         0\n",
      "         !\",      0.000     0.000     0.000         1\n",
      "          ]?      0.000     0.000     0.000         0\n",
      "        ...[      0.000     0.000     0.000         2\n",
      "          ];      0.000     0.000     0.000         0\n",
      "       ...\".      0.000     0.000     0.000         0\n",
      "         !\"-      0.000     0.000     0.000         2\n",
      "          \"!      0.000     0.000     0.000         0\n",
      "         !\".      0.000     0.000     0.000         3\n",
      "          !?      0.000     0.000     0.000         0\n",
      "          ?!      0.000     0.000     0.000         0\n",
      "          ,-      0.000     0.000     0.000         4\n",
      "        !...      0.000     0.000     0.000         1\n",
      "         !).      0.000     0.000     0.000         0\n",
      "          )?      0.000     0.000     0.000         3\n",
      "        ?...      0.000     0.000     0.000         0\n",
      "          .?      0.000     0.000     0.000         0\n",
      "\n",
      "   micro avg      0.899     0.899     0.899    267543\n",
      "   macro avg      0.104     0.092     0.095    267543\n",
      "weighted avg      0.911     0.899     0.905    267543\n",
      "\n",
      "0.6391383474478051\n"
     ]
    },
    {
     "name": "stderr",
     "output_type": "stream",
     "text": [
      "/home/mariya/anaconda3/envs/masters/lib/python3.6/site-packages/sklearn/utils/validation.py:70: FutureWarning: Pass labels=[':', '!', ',', '?', ';', '.', '-', ',(', '\"', '\").', '(', ')', '?-', '.-', ':)', '!-', ':\"', '.\"', ':(', '?)', '\"?', '\".', '\";', '\"-', ').', '!,', '-\"', ')!', '\",', '.\")', '!;', ';(', '),', '?;', '?\"', ');', '.)', '?,', ';\"', '):', '[', ']', '...', '],', '\"(', ',[', ',\"', ']\",', ')-', '\":', '(\"', '\"),', '\"-[', '...,', '\")', '..', '\",\"', '?\".', '\"[', '\"(\"', '),\"', '\"\"', '-.', '.,', '].', ')\"', '!\"', '?\"-', '\":\"', '):\"', '\")-', '\"-\"', '-,', ')\".', '?\",', ']\".', '!\",', ']?', '...[', '];', '...\".', '!\"-', '\"!', '!\".', '!?', '?!', ',-', '!...', '!).', ')?', '?...', '.?'] as keyword args. From version 0.25 passing these as positional arguments will result in an error\n",
      "  FutureWarning)\n"
     ]
    },
    {
     "name": "stdout",
     "output_type": "stream",
     "text": [
      "              precision    recall  f1-score   support\n",
      "\n",
      "           :      0.602     0.615     0.609       923\n",
      "           !      0.227     0.207     0.217       347\n",
      "           ,      0.560     0.608     0.583     18592\n",
      "           ?      0.597     0.381     0.466       443\n",
      "           ;      0.072     0.085     0.078       622\n",
      "           .      0.918     0.892     0.905     11401\n",
      "           -      0.078     0.095     0.086       882\n",
      "          ,(      0.000     0.000     0.000         5\n",
      "           \"      0.169     0.146     0.157      1596\n",
      "         \").      0.000     0.000     0.000         0\n",
      "           (      0.904     0.807     0.853      1656\n",
      "           )      0.824     0.656     0.731      1001\n",
      "          ?-      0.000     0.000     0.000         4\n",
      "          .-      0.000     0.000     0.000         2\n",
      "          :)      0.000     0.000     0.000         0\n",
      "          !-      0.016     0.050     0.024        20\n",
      "          :\"      0.171     0.090     0.118        67\n",
      "          .\"      0.000     0.000     0.000        23\n",
      "          :(      0.000     0.000     0.000         1\n",
      "          ?)      0.000     0.000     0.000         0\n",
      "          \"?      0.000     0.000     0.000         1\n",
      "          \".      0.100     0.099     0.100       293\n",
      "          \";      0.000     0.000     0.000         5\n",
      "          \"-      0.031     0.036     0.033        28\n",
      "          ).      0.888     0.819     0.852       271\n",
      "          !,      0.000     0.000     0.000         0\n",
      "          -\"      0.000     0.000     0.000         7\n",
      "          )!      0.000     0.000     0.000         1\n",
      "          \",      0.506     0.384     0.437       829\n",
      "         .\")      0.000     0.000     0.000         1\n",
      "          !;      0.000     0.000     0.000         1\n",
      "          ;(      0.000     0.000     0.000         0\n",
      "          ),      0.574     0.549     0.561       381\n",
      "          ?;      0.000     0.000     0.000         0\n",
      "          ?\"      0.000     0.000     0.000         0\n",
      "          );      0.000     0.000     0.000         0\n",
      "          .)      0.000     0.000     0.000         1\n",
      "          ?,      0.000     0.000     0.000         1\n",
      "          ;\"      0.000     0.000     0.000         0\n",
      "          ):      1.000     0.545     0.706        11\n",
      "           [      0.000     0.000     0.000        45\n",
      "           ]      0.000     0.000     0.000        43\n",
      "         ...      0.000     0.000     0.000        61\n",
      "          ],      0.000     0.000     0.000         3\n",
      "          \"(      0.381     0.258     0.308        31\n",
      "          ,[      0.000     0.000     0.000         1\n",
      "          ,\"      0.000     0.000     0.000        44\n",
      "         ]\",      0.000     0.000     0.000         5\n",
      "          )-      0.000     0.000     0.000        17\n",
      "          \":      0.000     0.000     0.000         0\n",
      "          (\"      0.000     0.000     0.000         0\n",
      "         \"),      0.000     0.000     0.000         1\n",
      "         \"-[      0.000     0.000     0.000         0\n",
      "        ...,      0.000     0.000     0.000         3\n",
      "          \")      0.000     0.000     0.000         2\n",
      "          ..      0.053     0.333     0.091         3\n",
      "         \",\"      0.000     0.000     0.000        10\n",
      "         ?\".      0.000     0.000     0.000         2\n",
      "          \"[      0.000     0.000     0.000         0\n",
      "         \"(\"      0.000     0.000     0.000         2\n",
      "         ),\"      0.000     0.000     0.000         2\n",
      "          \"\"      0.000     0.000     0.000         2\n",
      "          -.      0.000     0.000     0.000         0\n",
      "          .,      0.000     0.000     0.000         0\n",
      "          ].      0.000     0.000     0.000         2\n",
      "          )\"      0.000     0.000     0.000         0\n",
      "          !\"      0.000     0.000     0.000         0\n",
      "         ?\"-      0.000     0.000     0.000         2\n",
      "         \":\"      0.000     0.000     0.000         1\n",
      "         ):\"      0.000     0.000     0.000         0\n",
      "         \")-      0.000     0.000     0.000         1\n",
      "         \"-\"      0.000     0.000     0.000         0\n",
      "          -,      0.000     0.000     0.000         1\n",
      "         )\".      0.000     0.000     0.000         1\n",
      "         ?\",      0.000     0.000     0.000         1\n",
      "         ]\".      0.000     0.000     0.000         0\n",
      "         !\",      0.000     0.000     0.000         1\n",
      "          ]?      0.000     0.000     0.000         0\n",
      "        ...[      0.000     0.000     0.000         2\n",
      "          ];      0.000     0.000     0.000         0\n",
      "       ...\".      0.000     0.000     0.000         0\n",
      "         !\"-      0.000     0.000     0.000         2\n",
      "          \"!      0.000     0.000     0.000         0\n",
      "         !\".      0.000     0.000     0.000         3\n",
      "          !?      0.000     0.000     0.000         0\n",
      "          ?!      0.000     0.000     0.000         0\n",
      "          ,-      0.000     0.000     0.000         4\n",
      "        !...      0.000     0.000     0.000         1\n",
      "         !).      0.000     0.000     0.000         0\n",
      "          )?      0.000     0.000     0.000         3\n",
      "        ?...      0.000     0.000     0.000         0\n",
      "          .?      0.000     0.000     0.000         0\n",
      "\n",
      "   micro avg      0.593     0.641     0.616     39718\n",
      "   macro avg      0.094     0.083     0.086     39718\n",
      "weighted avg      0.640     0.641     0.639     39718\n",
      "\n",
      "0.6519898676117807\n"
     ]
    },
    {
     "name": "stderr",
     "output_type": "stream",
     "text": [
      "/home/mariya/anaconda3/envs/masters/lib/python3.6/site-packages/sklearn/utils/validation.py:70: FutureWarning: Pass labels=[',', '(', ')', '\"', '[', ']', ';', '.', '?', '!', ':', '-', '...'] as keyword args. From version 0.25 passing these as positional arguments will result in an error\n",
      "  FutureWarning)\n"
     ]
    },
    {
     "name": "stdout",
     "output_type": "stream",
     "text": [
      "              precision    recall  f1-score   support\n",
      "\n",
      "           ,      0.560     0.608     0.583     18592\n",
      "           (      0.904     0.807     0.853      1656\n",
      "           )      0.824     0.656     0.731      1001\n",
      "           \"      0.169     0.146     0.157      1596\n",
      "           [      0.000     0.000     0.000        45\n",
      "           ]      0.000     0.000     0.000        43\n",
      "           ;      0.072     0.085     0.078       622\n",
      "           .      0.918     0.892     0.905     11401\n",
      "           ?      0.597     0.381     0.466       443\n",
      "           !      0.227     0.207     0.217       347\n",
      "           :      0.602     0.615     0.609       923\n",
      "           -      0.078     0.095     0.086       882\n",
      "         ...      0.000     0.000     0.000        61\n",
      "\n",
      "   micro avg      0.640     0.656     0.648     37612\n",
      "   macro avg      0.381     0.346     0.360     37612\n",
      "weighted avg      0.651     0.656     0.652     37612\n",
      "\n",
      "['Но синовете им не умъртви, защото постъпи според писаното в закона в книгата на Мойсей, където: ГОСПОД заповяда и каза: Бащите да не умират заради синовете, и синовете да не умират заради бащите, а всеки да умира за собствения си грях.', 'Но когато ти говоря ще отворя устата ти и ти им кажи: Така казва Господ БОГ: Който слуша, нека слуша, а който не слуша нека не слуша, защото са бунтовен дом.', 'Защото кой е по-голям този който седи на трапезата ли или онзи, който слугува', 'А след това ще се насели, както в предишните дни, заявява ГОСПОД.', 'А Той беше на задната част; заспал на възглавница.', 'Ефрем е като птица, славата му ще отлети.', 'И така той си отиде от него на известно разстояние.', 'Не бягам при халдейците.', 'И израилевите синове излязоха от египетската земя строени:', 'А когато Ахитофел видя, че съветът му не се изпълни оседла магарето си и стана и отиде у дома си в своя град; и нареди домашните си работи и се обеси.', 'Ако умре някое животно, от добитъка, който можете да ядете, който се допре до мършата му, ще бъде нечист до вечерта.', 'Но помощник, съответен на Адам,\" не се намери.', 'Който задържа жито, народът, ще го проклина, а благословение ще почива на главата- на този, който го продава.', 'Този човек беше праведен, и благочестив и чакаше Утехата на Израил, и Светият Дух беше на него.', 'Всичко е възможно за този, който вярва', 'И видях височината на дома околовръст основите на страничните стаи, бяха една цяла тръстика, от шест големи лакътя.', 'После да вземеш тлъстината на овена, опашката и тлъстината, която покрива вътрешностите, булото на дроба, двата бъбрека с тлъстината, която е около тях и дясното бедро, защото е овен на посвещение и един хляб, една пита хляб, месен с маслинено масло- и една кора от коша на безквасните, хлябове, които са пред ГОСПОДА.', 'И от дима излязоха скакалци по земята, и им се даде власт като властта, която имат земните скорпиони.', 'Ти си, ГОСПОДИ, само Ти?', 'И ще предаде Израил заради греховете, на Еровоам, с които съгреши и с, които въведе Израил в грях.', 'Синове на Елифаз: Теман, и Омар, Сефи и Готом, Кенез, и Тамна, и Амалик.', 'А гладът в Самария беше страшен.', 'Затова казах, в сърцето си!- че и това е суета.', 'Насладих се на сянката му и седнах и плодът му, бе сладък в устата ми.', 'Защото, така ми каза ГОСПОД: Както ръмжи над лова си, лъвът младият лъв срещу когото се свикват множество, овчари и не се плаши от гласа им, и не се отдръпва пред шума им; така ГОСПОД на Войнствата, ще слезе за да воюва за хълма Сион, и за неговото възвишение.', 'Отче, свети, опази ги в Името Си, което си Ми дал, за да бъдат едно както сме и Ние.', 'И да правите разлика: между чистите животни и нечистите и между нечистите птици, и чистите и да не осквернявате себе си с животно, или с птица или с каквото и да е, което пълзи по земята, което Аз съм ви отделил като нечисто.', 'И ГОСПОД укрепи моавския цар Еглон против Израил, защото вършиха зло пред ГОСПОДА.', 'И Духът ми каза, да отида с тях без да се двоумя.', 'В двадесет и седмата година на израилевия цар: Еровоам се възцари, Азария, синът на юдовия цар Амасия.', 'Защото вашата послушност е, известна на всички; затова се радвам за вас.', 'Той изтегля всички с въдица влачи ги в мрежата си и ги събира в рибарската си мрежа, затова се радва и се весели.', 'Благословен да е ГОСПОД Бог Богът на Израил, който единствен върши чудеса;', 'И които влязоха мъжко и женско от всяка плът, влязоха, както Бог му беше заповядал, и ГОСПОД: затвори след него.', 'Тогава царят каза на Божия човек, Ела с мен у дома, и се подкрепи и ще ти дам подарък.', 'И ето, въпреки че е посадена ще успее ли?', 'От дома Тогарма, даваха за стоките ти коне бойни коне и мулета.', 'Затова заповядай гробът да се пази, здраво до третия ден да не би учениците Му да дойдат и да Го откраднат и да кажат на народа Възкръсна от мъртвите.', 'И когато отвори петия печат видях под олтара душите на онези, които са били заклани за Божието слово и за свидетелството, което държаха.', 'И свещениците, които служат на ГОСПОДА са синовете на Аарон и левитите са в службата.', 'Той тича след тях с умолителни думи; но тях ги няма;', 'И измери дължината му четиридесет лакътя и ширината му- двадесет лакътя.', 'Затова, така казва ГОСПОД, Бог на Войнствата, Израилевият Бог: Ето, Аз, ще докарам върху Юда и върху всичките ерусалимски жители цялото зло, което говорих против тях, защото им говорих, но не слушаха, и ги виках, но не отговаряха.', 'Сине мой, слушай наставлението на баща си и не отхвърляй закона на майка си, защото те ще бъдат благодатен венец, за главата: ти, и огърлица за шията ти.', 'Тогава облакът започна да се издига от града, в димен стълб, и Вениамин се обърна и ето, целият град се издигаше в пламъци към небето.', 'В онзи ден няма да се срамуваш от всичките си дела, с които си отстъпил от Мен; защото тогава ще отнема отсред теб, твоите, които горделиво тържествуват и ти няма вече да се държиш надменно, на светия Ми хълм.', 'А свинарите, като видяха станалото, избягаха и разказаха за това в града, и в селата.', 'И Илий, благослови Елкана и жена му и каза: ГОСПОД да ти даде потомство от тази жена вместо заетото, което беше посветено на ГОСПОДА.', 'И ако живее във вас, Духът на Този, който възкреси Иисус, от мъртвите то Този, който възкреси Христос, от мъртвите, ще съживи и вашите смъртни тела чрез Духа Си, който живее във вас.', 'А ГОСПОД си извърши, както беше говорил, чрез мен и ГОСПОД откъсна царството от ръката ти и го даде на ближния ти на Давид.', 'Даде; и храна, за\" магаретата им.', 'Книгата на видението на елкусеянина Наум.', 'И направи олтара за всеизгаряне от акациево дърво пет лакътя беше дължината му и пет лакътя беше ширината му, четвъртит и три лакътя беше височината му.', 'Те ми казаха: Направи ни богове, които да ходят пред нас, защото на този Мойсей човека, който ни изведе от египетската земя не знаем какво му стана.', 'Тогава Мардохей, каза да отговорят на Естир: Не мисли в себе си, че от всичките юдеи само ти ще се избавиш в царския дом.', 'Но аз не бих познал греха освен чрез закона, защото не бих знаел пожелание, ако законът не беше казал: Не пожелавай.', 'Тогава народът Му си спомни, за древните дни на Мойсей: Къде е Онзи, който ги, изведе от морето с пастирите на стадото Си?', 'И три пъти в годината, Соломон принасяше всеизгаряния, и примирителни жертви върху олтара, който построи на ГОСПОДА и кадеше върху олтара, който беше пред ГОСПОДА.', 'И след като им поставиха старейшини във всяка църква; и се помолиха с пост, ги препоръчаха на Господа, в когото бяха повярвали.', 'С нея- Той подейства в Христос, като Го възкреси от мъртвите, и Го сложи да седне, от дясната Си страна на небесата далеч над всяко началство и власт и сила и господство и всяко име с което се наименуват не само в този свят, но и в бъдещия.', 'Стрелец срещу стрелец да опъва лъка си и срещу онзи, който се надига в бронята си.', 'Затова онази нива е наречена и до днес- Кръвна нива,', 'И така слугите на цар Езекия отидоха при Исая.', 'И никой свещеник да не пие вино когато влиза във вътрешния двор.', 'И Охозия, падна през решетката на горната си, стая в Самария и се разболя.', 'Защо не разбирате Моето говорене', 'А Лаван в отговор каза на Яков: Тези дъщери са мои дъщери; и синовете са мои синове и стадата са мои стада;', 'А чуждият, който се приближи да се умъртви.', 'И двамата, сина на Илий- Офний и Финеес, бяха там с ковчега на Божия завет.', 'Иисус му каза: Лисиците си имат леговища и небесните птици гнезда, а Човешкият Син няма къде глава да подслони,', 'От кръвта на убитите от тлъстината, на силните лъкът на Йонатан не се обръщаше назад, и мечът на Саул не се връщаше празен.', 'Станах за присмех на целия си народ; и за тяхна подигравателна песен цял ден.', 'Да учите на тях, синовете си, като говорите за тях, когато седиш в къщата си, когато ходиш по пътя, когато лягаш и когато ставаш', 'И ГОСПОД се разкая, за злото, което беше казал, че ще направи на народа Си.', 'А Юда изпрати ярето чрез ръката на приятеля си, одоламеца за да вземе залога от ръката на жената, но той не я намери.', 'И царят заповяда и доведоха онези мъже, които бяха издали, Даниил, и хвърлиха тях децата им и жените им в рова на лъвовете и още преди да стигнат до дъното на рова лъвовете ги сграбчиха и строшиха, всичките им кости.', 'И Йоав и народът, който беше с него, настъпиха за битката против арамейците; и\" те побягнаха пред него.', 'И като го повикаха Тертил, започна да обвинява, като казваше: Понеже чрез теб честити Феликсе, се радваме на голямо спокойствие и понеже чрез твоята предвидливост има подобрения за този народ, то ние с пълна благодарност винаги и навсякъде посрещаме това.', 'Защото Йоан казваше на Ирод: Не ти, е позволено да имаш жената на брат си.\"', 'А в първия ден на седмицата много рано сутринта те дойдоха на гроба, като носеха благоуханните масла, които бяха приготвили.', 'Ще бъде ли добре да ви изпита Той?', 'След това Яков каза на Лаван: Дай жена ми, защото дойде време да вляза при нея.', 'А посветените дарове, бяха шестстотин говеда, и три хиляди овце.', 'Кога ще се събудя за да продължа да го потърся!- пак', 'Изнемогвам от викането си гърлото ми е пресъхнало очите ми чезнат, докато чакам своя Бог.', 'Това са родовете на Мерарий.', 'На следващия ден едно голямо множество, което беше дошло на празника, като чуха че Иисус, идвал в Ерусалим, взеха палмови клони и излязоха да Го посрещнат, викайки Осанна.', 'И той каза: Имам нещо да ти кажа?', 'Ако някой, който е престъпил закона на Мойсей, умира, безпощадно при думата на двама или трима свидетели, то колко по-тежко, наказание мислите ще заслужи онзи, който е потъпкал Божия Син, и е счел за просто нещо, кръвта на завета, с, която е бил осветен и е оскърбил Духа, на благодатта.', 'Върни се, сине мой, Давиде, защото няма вече да ти сторя зло, понеже днес животът ми, беше скъпоценен, пред очите ти!', 'Ще дойдат големци от Египет, Етиопия бързо ще протегне ръцете си към Бога.', 'Затова хората Му се боят и Той не гледа на никого, от мъдрите, по сърце.', 'И Го следваше, голямо множество от народ и жени, които плачеха за Него.', 'Ето ви семе засейте земята!', 'И Давид дойде във Ваал-Ферасим и Давид ги разби там и каза: ГОСПОД разсече пред мен враговете ми, както водите правят пролом.', 'Кадилниците на тези мъже, които съгрешиха против живота си, нека ги направят на плочи за обковаване на олтара, защото те ги принесоха пред ГОСПОДА и затова са свети и те ще бъдат за знамение на израилевите синове.', 'И когато фараонът отказваше да ни пусне: ГОСПОД, уби всяко първородно в египетската земя от първородно, на човек до първородно на животно; затова жертвам на ГОСПОДА всяко първородно, което е мъжко, а всеки, първороден от синовете си изкупувам.', 'А без вяра не е възможно да се угоди на Бога, защото който идва при Бога, трябва да вярва, че Той съществува и че възнаграждава тези, които Го търсят.', 'И докато още говореше с тях, ето, пратеникът слезе при него и каза: Ето, това зло е от ГОСПОДА.', 'А вие сами ли ще продадете братята си!']\n"
     ]
    }
   ],
   "source": [
    "labels = list(crf.classes_)\n",
    "y_pred = crf.predict(X_dev)\n",
    "print(metrics.flat_f1_score(y_dev, y_pred, average='weighted', labels=labels))\n",
    "print(metrics.flat_classification_report(y_dev, y_pred, labels=labels, digits=3))\n",
    "labels.remove('')\n",
    "print(metrics.flat_f1_score(y_dev, y_pred, average='weighted', labels=labels))\n",
    "print(metrics.flat_classification_report(y_dev, y_pred, labels=labels, digits=3))\n",
    "labels = [',','(',')','\"','[',']',';','.','?','!',':','-', '...']\n",
    "print(metrics.flat_f1_score(y_dev, y_pred, average='weighted', labels=labels))\n",
    "print(metrics.flat_classification_report(y_dev, y_pred, labels=labels, digits=3))\n",
    "punctuated_sentences = punctuate(X_dev, y_pred)\n",
    "print(punctuated_sentences[:100])"
   ]
  },
  {
   "cell_type": "code",
   "execution_count": 36,
   "id": "61a7eb5f",
   "metadata": {},
   "outputs": [
    {
     "name": "stdout",
     "output_type": "stream",
     "text": [
      "CPU times: user 48min 11s, sys: 1.13 s, total: 48min 12s\n",
      "Wall time: 48min 8s\n"
     ]
    }
   ],
   "source": [
    "%%time\n",
    "crf = sklearn_crfsuite.CRF(\n",
    "    algorithm='arow',\n",
    "    max_iterations=300,\n",
    "    all_possible_transitions=True\n",
    ")\n",
    "crf.fit(X_train, y_train)"
   ]
  },
  {
   "cell_type": "code",
   "execution_count": 37,
   "id": "597c4c90",
   "metadata": {},
   "outputs": [
    {
     "name": "stderr",
     "output_type": "stream",
     "text": [
      "/home/mariya/anaconda3/envs/masters/lib/python3.6/site-packages/sklearn/metrics/_classification.py:1465: UndefinedMetricWarning: F-score is ill-defined and being set to 0.0 in labels with no true nor predicted samples. Use `zero_division` parameter to control this behavior.\n",
      "  average, \"true nor predicted\", 'F-score is', len(true_sum)\n",
      "/home/mariya/anaconda3/envs/masters/lib/python3.6/site-packages/sklearn/utils/validation.py:70: FutureWarning: Pass labels=['', ':', '!', ',', '?', ';', '.', '-', ',(', '\"', '\").', '(', ')', '?-', '.-', ':)', '!-', ':\"', '.\"', ':(', '?)', '\"?', '\".', '\";', '\"-', ').', '!,', '-\"', ')!', '\",', '.\")', '!;', ';(', '),', '?;', '?\"', ');', '.)', '?,', ';\"', '):', '[', ']', '...', '],', '\"(', ',[', ',\"', ']\",', ')-', '\":', '(\"', '\"),', '\"-[', '...,', '\")', '..', '\",\"', '?\".', '\"[', '\"(\"', '),\"', '\"\"', '-.', '.,', '].', ')\"', '!\"', '?\"-', '\":\"', '):\"', '\")-', '\"-\"', '-,', ')\".', '?\",', ']\".', '!\",', ']?', '...[', '];', '...\".', '!\"-', '\"!', '!\".', '!?', '?!', ',-', '!...', '!).', ')?', '?...', '.?'] as keyword args. From version 0.25 passing these as positional arguments will result in an error\n",
      "  FutureWarning)\n"
     ]
    },
    {
     "name": "stdout",
     "output_type": "stream",
     "text": [
      "0.9058672396568239\n"
     ]
    },
    {
     "name": "stderr",
     "output_type": "stream",
     "text": [
      "/home/mariya/anaconda3/envs/masters/lib/python3.6/site-packages/sklearn/metrics/_classification.py:1221: UndefinedMetricWarning: Precision and F-score are ill-defined and being set to 0.0 in labels with no predicted samples. Use `zero_division` parameter to control this behavior.\n",
      "  _warn_prf(average, modifier, msg_start, len(result))\n",
      "/home/mariya/anaconda3/envs/masters/lib/python3.6/site-packages/sklearn/metrics/_classification.py:1221: UndefinedMetricWarning: Recall and F-score are ill-defined and being set to 0.0 in labels with no true samples. Use `zero_division` parameter to control this behavior.\n",
      "  _warn_prf(average, modifier, msg_start, len(result))\n"
     ]
    },
    {
     "name": "stdout",
     "output_type": "stream",
     "text": [
      "              precision    recall  f1-score   support\n",
      "\n",
      "                  0.957     0.946     0.952    227825\n",
      "           :      0.592     0.601     0.597       923\n",
      "           !      0.273     0.219     0.243       347\n",
      "           ,      0.564     0.611     0.586     18592\n",
      "           ?      0.587     0.388     0.467       443\n",
      "           ;      0.082     0.092     0.087       622\n",
      "           .      0.920     0.898     0.909     11401\n",
      "           -      0.109     0.108     0.108       882\n",
      "          ,(      0.000     0.000     0.000         5\n",
      "           \"      0.184     0.148     0.164      1596\n",
      "         \").      0.000     0.000     0.000         0\n",
      "           (      0.919     0.806     0.859      1656\n",
      "           )      0.810     0.671     0.734      1001\n",
      "          ?-      0.000     0.000     0.000         4\n",
      "          .-      0.000     0.000     0.000         2\n",
      "          :)      0.000     0.000     0.000         0\n",
      "          !-      0.062     0.050     0.056        20\n",
      "          :\"      0.132     0.075     0.095        67\n",
      "          .\"      0.000     0.000     0.000        23\n",
      "          :(      0.000     0.000     0.000         1\n",
      "          ?)      0.000     0.000     0.000         0\n",
      "          \"?      0.000     0.000     0.000         1\n",
      "          \".      0.140     0.089     0.109       293\n",
      "          \";      0.000     0.000     0.000         5\n",
      "          \"-      0.000     0.000     0.000        28\n",
      "          ).      0.910     0.742     0.817       271\n",
      "          !,      0.000     0.000     0.000         0\n",
      "          -\"      0.000     0.000     0.000         7\n",
      "          )!      0.000     0.000     0.000         1\n",
      "          \",      0.476     0.329     0.389       829\n",
      "         .\")      0.000     0.000     0.000         1\n",
      "          !;      0.000     0.000     0.000         1\n",
      "          ;(      0.000     0.000     0.000         0\n",
      "          ),      0.594     0.533     0.562       381\n",
      "          ?;      0.000     0.000     0.000         0\n",
      "          ?\"      0.000     0.000     0.000         0\n",
      "          );      0.000     0.000     0.000         0\n",
      "          .)      0.000     0.000     0.000         1\n",
      "          ?,      0.000     0.000     0.000         1\n",
      "          ;\"      0.000     0.000     0.000         0\n",
      "          ):      0.500     0.545     0.522        11\n",
      "           [      0.000     0.000     0.000        45\n",
      "           ]      0.000     0.000     0.000        43\n",
      "         ...      0.000     0.000     0.000        61\n",
      "          ],      0.000     0.000     0.000         3\n",
      "          \"(      0.292     0.226     0.255        31\n",
      "          ,[      0.000     0.000     0.000         1\n",
      "          ,\"      0.000     0.000     0.000        44\n",
      "         ]\",      0.000     0.000     0.000         5\n",
      "          )-      0.000     0.000     0.000        17\n",
      "          \":      0.000     0.000     0.000         0\n",
      "          (\"      0.000     0.000     0.000         0\n",
      "         \"),      0.000     0.000     0.000         1\n",
      "         \"-[      0.000     0.000     0.000         0\n",
      "        ...,      0.000     0.000     0.000         3\n",
      "          \")      0.000     0.000     0.000         2\n",
      "          ..      0.071     0.333     0.118         3\n",
      "         \",\"      0.000     0.000     0.000        10\n",
      "         ?\".      0.000     0.000     0.000         2\n",
      "          \"[      0.000     0.000     0.000         0\n",
      "         \"(\"      0.000     0.000     0.000         2\n",
      "         ),\"      0.000     0.000     0.000         2\n",
      "          \"\"      0.000     0.000     0.000         2\n",
      "          -.      0.000     0.000     0.000         0\n",
      "          .,      0.000     0.000     0.000         0\n",
      "          ].      0.000     0.000     0.000         2\n",
      "          )\"      0.000     0.000     0.000         0\n",
      "          !\"      0.000     0.000     0.000         0\n",
      "         ?\"-      0.000     0.000     0.000         2\n",
      "         \":\"      0.000     0.000     0.000         1\n",
      "         ):\"      0.000     0.000     0.000         0\n",
      "         \")-      0.000     0.000     0.000         1\n",
      "         \"-\"      0.000     0.000     0.000         0\n",
      "          -,      0.000     0.000     0.000         1\n",
      "         )\".      0.000     0.000     0.000         1\n",
      "         ?\",      0.000     0.000     0.000         1\n",
      "         ]\".      0.000     0.000     0.000         0\n",
      "         !\",      0.000     0.000     0.000         1\n",
      "          ]?      0.000     0.000     0.000         0\n",
      "        ...[      0.000     0.000     0.000         2\n",
      "          ];      0.000     0.000     0.000         0\n",
      "       ...\".      0.000     0.000     0.000         0\n",
      "         !\"-      0.000     0.000     0.000         2\n",
      "          \"!      0.000     0.000     0.000         0\n",
      "         !\".      0.000     0.000     0.000         3\n",
      "          !?      0.000     0.000     0.000         0\n",
      "          ?!      0.000     0.000     0.000         0\n",
      "          ,-      0.000     0.000     0.000         4\n",
      "        !...      0.000     0.000     0.000         1\n",
      "         !).      0.000     0.000     0.000         0\n",
      "          )?      0.000     0.000     0.000         3\n",
      "        ?...      0.000     0.000     0.000         0\n",
      "          .?      0.000     0.000     0.000         0\n",
      "\n",
      "   micro avg      0.901     0.901     0.901    267543\n",
      "   macro avg      0.099     0.090     0.093    267543\n",
      "weighted avg      0.911     0.901     0.906    267543\n",
      "\n",
      "0.6417035809809518\n"
     ]
    },
    {
     "name": "stderr",
     "output_type": "stream",
     "text": [
      "/home/mariya/anaconda3/envs/masters/lib/python3.6/site-packages/sklearn/utils/validation.py:70: FutureWarning: Pass labels=[':', '!', ',', '?', ';', '.', '-', ',(', '\"', '\").', '(', ')', '?-', '.-', ':)', '!-', ':\"', '.\"', ':(', '?)', '\"?', '\".', '\";', '\"-', ').', '!,', '-\"', ')!', '\",', '.\")', '!;', ';(', '),', '?;', '?\"', ');', '.)', '?,', ';\"', '):', '[', ']', '...', '],', '\"(', ',[', ',\"', ']\",', ')-', '\":', '(\"', '\"),', '\"-[', '...,', '\")', '..', '\",\"', '?\".', '\"[', '\"(\"', '),\"', '\"\"', '-.', '.,', '].', ')\"', '!\"', '?\"-', '\":\"', '):\"', '\")-', '\"-\"', '-,', ')\".', '?\",', ']\".', '!\",', ']?', '...[', '];', '...\".', '!\"-', '\"!', '!\".', '!?', '?!', ',-', '!...', '!).', ')?', '?...', '.?'] as keyword args. From version 0.25 passing these as positional arguments will result in an error\n",
      "  FutureWarning)\n"
     ]
    },
    {
     "name": "stdout",
     "output_type": "stream",
     "text": [
      "              precision    recall  f1-score   support\n",
      "\n",
      "           :      0.592     0.601     0.597       923\n",
      "           !      0.273     0.219     0.243       347\n",
      "           ,      0.564     0.611     0.586     18592\n",
      "           ?      0.587     0.388     0.467       443\n",
      "           ;      0.082     0.092     0.087       622\n",
      "           .      0.920     0.898     0.909     11401\n",
      "           -      0.109     0.108     0.108       882\n",
      "          ,(      0.000     0.000     0.000         5\n",
      "           \"      0.184     0.148     0.164      1596\n",
      "         \").      0.000     0.000     0.000         0\n",
      "           (      0.919     0.806     0.859      1656\n",
      "           )      0.810     0.671     0.734      1001\n",
      "          ?-      0.000     0.000     0.000         4\n",
      "          .-      0.000     0.000     0.000         2\n",
      "          :)      0.000     0.000     0.000         0\n",
      "          !-      0.062     0.050     0.056        20\n",
      "          :\"      0.132     0.075     0.095        67\n",
      "          .\"      0.000     0.000     0.000        23\n",
      "          :(      0.000     0.000     0.000         1\n",
      "          ?)      0.000     0.000     0.000         0\n",
      "          \"?      0.000     0.000     0.000         1\n",
      "          \".      0.140     0.089     0.109       293\n",
      "          \";      0.000     0.000     0.000         5\n",
      "          \"-      0.000     0.000     0.000        28\n",
      "          ).      0.910     0.742     0.817       271\n",
      "          !,      0.000     0.000     0.000         0\n",
      "          -\"      0.000     0.000     0.000         7\n",
      "          )!      0.000     0.000     0.000         1\n",
      "          \",      0.476     0.329     0.389       829\n",
      "         .\")      0.000     0.000     0.000         1\n",
      "          !;      0.000     0.000     0.000         1\n",
      "          ;(      0.000     0.000     0.000         0\n",
      "          ),      0.594     0.533     0.562       381\n",
      "          ?;      0.000     0.000     0.000         0\n",
      "          ?\"      0.000     0.000     0.000         0\n",
      "          );      0.000     0.000     0.000         0\n",
      "          .)      0.000     0.000     0.000         1\n",
      "          ?,      0.000     0.000     0.000         1\n",
      "          ;\"      0.000     0.000     0.000         0\n",
      "          ):      0.500     0.545     0.522        11\n",
      "           [      0.000     0.000     0.000        45\n",
      "           ]      0.000     0.000     0.000        43\n",
      "         ...      0.000     0.000     0.000        61\n",
      "          ],      0.000     0.000     0.000         3\n",
      "          \"(      0.292     0.226     0.255        31\n",
      "          ,[      0.000     0.000     0.000         1\n",
      "          ,\"      0.000     0.000     0.000        44\n",
      "         ]\",      0.000     0.000     0.000         5\n",
      "          )-      0.000     0.000     0.000        17\n",
      "          \":      0.000     0.000     0.000         0\n",
      "          (\"      0.000     0.000     0.000         0\n",
      "         \"),      0.000     0.000     0.000         1\n",
      "         \"-[      0.000     0.000     0.000         0\n",
      "        ...,      0.000     0.000     0.000         3\n",
      "          \")      0.000     0.000     0.000         2\n",
      "          ..      0.071     0.333     0.118         3\n",
      "         \",\"      0.000     0.000     0.000        10\n",
      "         ?\".      0.000     0.000     0.000         2\n",
      "          \"[      0.000     0.000     0.000         0\n",
      "         \"(\"      0.000     0.000     0.000         2\n",
      "         ),\"      0.000     0.000     0.000         2\n",
      "          \"\"      0.000     0.000     0.000         2\n",
      "          -.      0.000     0.000     0.000         0\n",
      "          .,      0.000     0.000     0.000         0\n",
      "          ].      0.000     0.000     0.000         2\n",
      "          )\"      0.000     0.000     0.000         0\n",
      "          !\"      0.000     0.000     0.000         0\n",
      "         ?\"-      0.000     0.000     0.000         2\n",
      "         \":\"      0.000     0.000     0.000         1\n",
      "         ):\"      0.000     0.000     0.000         0\n",
      "         \")-      0.000     0.000     0.000         1\n",
      "         \"-\"      0.000     0.000     0.000         0\n",
      "          -,      0.000     0.000     0.000         1\n",
      "         )\".      0.000     0.000     0.000         1\n",
      "         ?\",      0.000     0.000     0.000         1\n",
      "         ]\".      0.000     0.000     0.000         0\n",
      "         !\",      0.000     0.000     0.000         1\n",
      "          ]?      0.000     0.000     0.000         0\n",
      "        ...[      0.000     0.000     0.000         2\n",
      "          ];      0.000     0.000     0.000         0\n",
      "       ...\".      0.000     0.000     0.000         0\n",
      "         !\"-      0.000     0.000     0.000         2\n",
      "          \"!      0.000     0.000     0.000         0\n",
      "         !\".      0.000     0.000     0.000         3\n",
      "          !?      0.000     0.000     0.000         0\n",
      "          ?!      0.000     0.000     0.000         0\n",
      "          ,-      0.000     0.000     0.000         4\n",
      "        !...      0.000     0.000     0.000         1\n",
      "         !).      0.000     0.000     0.000         0\n",
      "          )?      0.000     0.000     0.000         3\n",
      "        ?...      0.000     0.000     0.000         0\n",
      "          .?      0.000     0.000     0.000         0\n",
      "\n",
      "   micro avg      0.603     0.642     0.622     39718\n",
      "   macro avg      0.089     0.081     0.083     39718\n",
      "weighted avg      0.644     0.642     0.642     39718\n",
      "\n",
      "0.6560585458850736\n"
     ]
    },
    {
     "name": "stderr",
     "output_type": "stream",
     "text": [
      "/home/mariya/anaconda3/envs/masters/lib/python3.6/site-packages/sklearn/utils/validation.py:70: FutureWarning: Pass labels=[',', '(', ')', '\"', '[', ']', ';', '.', '?', '!', ':', '-', '...'] as keyword args. From version 0.25 passing these as positional arguments will result in an error\n",
      "  FutureWarning)\n"
     ]
    },
    {
     "name": "stdout",
     "output_type": "stream",
     "text": [
      "              precision    recall  f1-score   support\n",
      "\n",
      "           ,      0.564     0.611     0.586     18592\n",
      "           (      0.919     0.806     0.859      1656\n",
      "           )      0.810     0.671     0.734      1001\n",
      "           \"      0.184     0.148     0.164      1596\n",
      "           [      0.000     0.000     0.000        45\n",
      "           ]      0.000     0.000     0.000        43\n",
      "           ;      0.082     0.092     0.087       622\n",
      "           .      0.920     0.898     0.909     11401\n",
      "           ?      0.587     0.388     0.467       443\n",
      "           !      0.273     0.219     0.243       347\n",
      "           :      0.592     0.601     0.597       923\n",
      "           -      0.109     0.108     0.108       882\n",
      "         ...      0.000     0.000     0.000        61\n",
      "\n",
      "   micro avg      0.652     0.659     0.655     37612\n",
      "   macro avg      0.388     0.349     0.366     37612\n",
      "weighted avg      0.655     0.659     0.656     37612\n",
      "\n",
      "['Но синовете им не умъртви, защото постъпи според писаното в закона в книгата на Мойсей, където: ГОСПОД заповяда и каза: Бащите да не умират заради синовете, и синовете да не умират заради бащите а всеки да умира за собствения си грях.', 'Но когато ти говоря, ще отворя устата ти и ти им кажи: Така казва Господ БОГ: Който слуша, нека слуша; а който не слуша, нека не слуша, защото са бунтовен дом.', 'Защото\" кой е по-голям този който седи на трапезата ли или онзи, който слугува', 'А след това ще се насели, както в предишните дни?- заявява ГОСПОД.', 'А Той беше на задната част, заспал на възглавница.', 'Ефрем е като птица славата му ще отлети.', 'И така той си отиде от него, на известно разстояние.', 'Не бягам при халдейците.', 'И израилевите синове излязоха от египетската земя, строени', 'А когато Ахитофел видя, че съветът му не се изпълни, оседла магарето си, и стана и отиде у дома си, в своя град; и нареди домашните си работи и се обеси.', 'Ако умре някое животно, от добитъка, който можете да ядете, който се допре до мършата му, ще бъде нечист до вечерта.', 'Но помощник съответен на Адам,\" не се намери.', 'Който задържа жито народът, ще го проклина, а благословение ще почива на главата, на този, който го продава.', 'Този човек беше праведен и благочестив и чакаше Утехата на Израил, и Светият Дух беше на него.', 'Всичко е възможно за този, който вярва,', 'И видях, височината на дома околовръст основите на... страничните стаи, бяха една цяла тръстика от шест големи лакътя.', 'После да вземеш тлъстината на овена, опашката и тлъстината, която покрива вътрешностите, булото на дроба двата бъбрека с тлъстината, която е около тях и дясното бедро, защото е овен на посвещение и един хляб- една пита хляб, месен с маслинено масло и една кора от коша на безквасните хлябове, които са пред ГОСПОДА.', 'И от дима излязоха скакалци по земята, и им се даде власт като властта, която имат земните скорпиони.', 'Ти си, ГОСПОДИ, само Ти', 'И ще предаде Израил заради греховете, на Еровоам с, които съгреши и с, които въведе Израил: в грях.', 'Синове на Елифаз: Теман и Омар, Сефи и Готом, Кенез и Тамна и Амалик.', 'А гладът в Самария беше страшен.', 'Затова казах в сърцето си, че и това е суета.', 'Насладих се на сянката му и седнах и плодът му, бе сладък в устата ми.', 'Защото, така ми каза ГОСПОД: Както ръмжи над лова си- лъвът младият лъв, срещу когото се свикват множество овчари и не се плаши от гласа им, и не се отдръпва пред шума им; така ГОСПОД на Войнствата, ще слезе за да воюва за хълма Сион и за неговото възвишение.', 'Отче, свети, опази ги в Името Си, което си Ми дал, за да бъдат едно, както сме и Ние.', 'И да правите разлика между чистите животни и нечистите и между нечистите птици, и чистите и да не осквернявате себе си с животно, или с птица или с каквото и да е, което пълзи по земята, което Аз съм ви отделил като нечисто.', 'И ГОСПОД укрепи моавския цар Еглон против Израил, защото вършиха зло пред ГОСПОДА.', 'И Духът ми каза, да отида с тях без да се двоумя.', 'В двадесет и седмата година на израилевия цар Еровоам се възцари, Азария, синът на юдовия цар Амасия.', 'Защото вашата послушност е, известна на всички; затова се радвам за вас.', 'Той изтегля всички с въдица влачи ги в мрежата си и ги събира в рибарската си- мрежа; затова се радва и се весели.', 'Благословен да е ГОСПОД Бог Богът на Израил, който единствен върши чудеса;', 'И които влязоха мъжко и женско от всяка плът, влязоха, както Бог му беше заповядал и ГОСПОД: затвори след него.', 'Тогава царят каза на Божия човек: Ела с мен у дома, и се подкрепи и ще ти дам подарък.', 'И ето, въпреки че е посадена ще успее ли?', 'От дома, Тогарма даваха за стоките ти коне бойни коне и мулета.', 'Затова заповядай гробът да се пази, здраво до третия ден да не би учениците Му да дойдат и да Го откраднат, и да кажат\" на народа, Възкръсна от мъртвите.', 'И когато отвори петия печат видях под олтара душите на онези, които са били заклани за Божието слово и за свидетелството, което държаха.', 'И свещениците, които служат на ГОСПОДА са синовете на Аарон и левитите са в службата.', 'Той тича след тях. с умолителни думи; но тях ги няма;', 'И измери дължината му четиридесет лакътя; и ширината му- двадесет лакътя.', 'Затова, така казва ГОСПОД, Бог на Войнствата, Израилевият Бог: Ето, Аз ще докарам върху Юда и върху всичките ерусалимски жители, цялото зло, което говорих против тях, защото им говорих, но не слушаха, и ги виках, но не отговаряха.', 'Сине мой, слушай наставлението на баща си и не отхвърляй закона на майка си, защото те ще бъдат благодатен венец за главата ти, и огърлица за шията ти.', 'Тогава облакът започна да се издига от града, в димен стълб, и Вениамин се обърна и ето, целият град се издигаше в пламъци към небето.', 'В онзи ден няма да се срамуваш от всичките си дела, с които си отстъпил от Мен, защото тогава ще отнема отсред теб твоите, които горделиво тържествуват и ти няма вече да се държиш надменно на светия Ми хълм.', 'А свинарите, като видяха станалото, избягаха и разказаха, за това в града, и в селата,', 'И Илий благослови Елкана и жена му и каза: ГОСПОД: да ти даде потомство от тази жена- вместо заетото, което беше посветено на ГОСПОДА.', 'И ако живее във вас, Духът на Този, който възкреси Иисус, от мъртвите то Този, който възкреси Христос, от мъртвите, ще съживи и вашите смъртни тела чрез Духа Си, който живее във вас.', 'А ГОСПОД си извърши, както беше говорил, чрез мен и ГОСПОД: откъсна царството от ръката ти и го даде на ближния ти на Давид.', 'Даде; и храна, за магаретата им.', 'Книгата на видението на елкусеянина Наум.', 'И направи олтара за всеизгаряне от акациево дърво пет, лакътя беше дължината му и пет лакътя беше ширината му, четвъртит и три лакътя беше височината му.', 'Те ми казаха: Направи ни богове, които да ходят пред нас, защото на този Мойсей човека, който ни изведе от египетската земя не знаем какво му стана.', 'Тогава Мардохей каза да отговорят на Естир: Не мисли в себе си, че от всичките юдеи само ти ще се избавиш в царския дом.', 'Но аз не бих познал греха освен чрез закона, защото не бих знаел пожелание, ако законът не беше казал: Не пожелавай.', 'Тогава народът Му си спомни за древните дни на Мойсей: Къде е Онзи, който ги, изведе от морето с пастирите на стадото Си?', 'И три пъти в годината Соломон принасяше всеизгаряния, и примирителни жертви върху олтара, който построи на ГОСПОДА и кадеше върху олтара, който беше пред ГОСПОДА.', 'И след като им поставиха старейшини във всяка църква и се помолиха с пост ги препоръчаха на Господа, в когото бяха повярвали.', 'С нея, Той подейства в Христос, като Го възкреси от мъртвите и Го сложи да седне, от дясната Си страна на небесата; далеч над всяко началство и власт и сила и господство и всяко име с което се наименуват не само в този свят, но и в бъдещия.', 'Стрелец срещу стрелец да опъва лъка си и срещу онзи, който се надига в бронята си.', 'Затова онази нива е наречена, и до днес Кръвна нива,', 'И така слугите на цар Езекия отидоха при Исая.', 'И никой свещеник да не пие вино когато влиза във вътрешния двор.', 'И Охозия, падна през решетката на горната си, стая в Самария, и се разболя.', 'Защо не разбирате Моето говорене?', 'А Лаван в отговор каза на Яков Тези дъщери са мои дъщери; и синовете са мои, синове и стадата са мои стада.', 'А чуждият, който се приближи да се умъртви.', 'И двамата сина на Илий: Офний и Финеес, бяха там, с ковчега на Божия завет.', 'Иисус му каза: Лисиците си имат леговища и небесните птици гнезда, а Човешкият Син няма къде глава да подслони,', 'От кръвта на убитите от тлъстината, на силните лъкът на Йонатан не се обръщаше назад, и мечът на Саул не се връщаше празен.', 'Станах за присмех на целия си народ; и за тяхна подигравателна песен цял ден.', 'Да учите на тях, синовете си, като говорите за тях, когато седиш в къщата си, когато ходиш по пътя, когато лягаш и когато ставаш', 'И ГОСПОД се разкая за злото, което беше казал, че ще направи на народа Си.', 'А Юда изпрати ярето чрез ръката на приятеля си, одоламеца за да вземе залога от ръката на жената, но той не я намери.', 'И царят заповяда и доведоха онези мъже, които бяха издали, Даниил, и хвърлиха тях, децата им и жените им в рова на лъвовете и още преди да стигнат до дъното на рова лъвовете ги сграбчиха и строшиха всичките им кости.', 'И Йоав и народът, който беше с него, настъпиха за битката против арамейците; и те побягнаха пред него.', 'И като го повикаха Тертил започна, да обвинява, като казваше: Понеже чрез теб, честити: Феликсе, се радваме на голямо спокойствие и понеже чрез твоята предвидливост има подобрения за този народ, то ние с пълна благодарност винаги и навсякъде посрещаме това.', 'Защото Йоан казваше на Ирод: Не ти е позволено да имаш жената на брат си.\"', 'А в първия ден на седмицата много рано сутринта, те дойдоха на гроба, като носеха благоуханните масла, които бяха приготвили.', 'Ще бъде ли добре да ви изпита Той.', 'След това Яков каза на Лаван: Дай жена ми, защото дойде време да вляза при нея.', 'А посветените дарове, бяха шестстотин говеда, и три хиляди овце.', 'Кога ще се събудя за да продължа да го потърся пак', 'Изнемогвам от викането си, гърлото ми е пресъхнало очите ми чезнат- докато чакам своя Бог.', 'Това са родовете на Мерарий.', 'На следващия ден едно голямо множество, което беше дошло на празника, като чуха че Иисус, идвал в Ерусалим, взеха палмови клони и излязоха да Го посрещнат, викайки Осанна.', 'И той каза: Имам нещо да ти кажа.', 'Ако някой, който е престъпил закона на Мойсей, умира безпощадно при думата на двама или трима- свидетели, то колко по-тежко наказание мислите ще заслужи онзи, който е потъпкал Божия Син; и е счел\" за просто нещо, кръвта на завета, с която е бил осветен; и е оскърбил Духа на благодатта.', 'Върни се, сине мой, Давиде, защото няма вече да ти сторя зло, понеже днес животът ми, беше скъпоценен, пред очите ти!', 'Ще дойдат големци от Египет, Етиопия бързо ще протегне ръцете си към Бога.', 'Затова хората Му се боят и Той не гледа на никого, от мъдрите, по сърце.', 'И Го следваше, голямо множество от народ и жени, които плачеха за Него.', 'Ето ви семе засейте земята!', 'И Давид дойде във Ваал-Ферасим и Давид ги разби там и каза: ГОСПОД разсече пред мен враговете ми, както водите правят пролом.', 'Кадилниците на тези мъже, които съгрешиха против живота си, нека ги направят на плочи за обковаване на олтара, защото те ги принесоха пред ГОСПОДА и затова са свети и те ще бъдат за знамение на израилевите синове?', 'И когато фараонът отказваше да ни пусне: ГОСПОД, уби всяко първородно в египетската земя от първородно на човек до първородно на животно; затова жертвам на ГОСПОДА всяко първородно, което е мъжко; а всеки първороден от синовете си изкупувам.', 'А без вяра не е възможно да се угоди на Бога, защото който идва при Бога, трябва да вярва, че Той съществува и че възнаграждава тези, които Го търсят.', 'И докато още говореше с тях: ето, пратеникът слезе при него и каза: Ето, това зло е от ГОСПОДА.', 'А вие сами ли ще продадете братята си?']\n"
     ]
    }
   ],
   "source": [
    "labels = list(crf.classes_)\n",
    "y_pred = crf.predict(X_dev)\n",
    "print(metrics.flat_f1_score(y_dev, y_pred, average='weighted', labels=labels))\n",
    "print(metrics.flat_classification_report(y_dev, y_pred, labels=labels, digits=3))\n",
    "labels.remove('')\n",
    "print(metrics.flat_f1_score(y_dev, y_pred, average='weighted', labels=labels))\n",
    "print(metrics.flat_classification_report(y_dev, y_pred, labels=labels, digits=3))\n",
    "labels = [',','(',')','\"','[',']',';','.','?','!',':','-', '...']\n",
    "print(metrics.flat_f1_score(y_dev, y_pred, average='weighted', labels=labels))\n",
    "print(metrics.flat_classification_report(y_dev, y_pred, labels=labels, digits=3))\n",
    "punctuated_sentences = punctuate(X_dev, y_pred)\n",
    "print(punctuated_sentences[:100])"
   ]
  },
  {
   "cell_type": "code",
   "execution_count": 38,
   "id": "9dd0fa5c",
   "metadata": {},
   "outputs": [
    {
     "name": "stdout",
     "output_type": "stream",
     "text": [
      "CPU times: user 6h 45min 59s, sys: 11.2 s, total: 6h 46min 10s\n",
      "Wall time: 6h 45min 34s\n"
     ]
    }
   ],
   "source": [
    "%%time\n",
    "crf = sklearn_crfsuite.CRF(\n",
    "    algorithm='lbfgs',\n",
    "    c1=0.1,\n",
    "    c2=0.1,\n",
    "    all_possible_transitions=True\n",
    ")\n",
    "crf.fit(X_train, y_train)"
   ]
  },
  {
   "cell_type": "code",
   "execution_count": 39,
   "id": "05342026",
   "metadata": {},
   "outputs": [
    {
     "name": "stderr",
     "output_type": "stream",
     "text": [
      "/home/mariya/anaconda3/envs/masters/lib/python3.6/site-packages/sklearn/metrics/_classification.py:1465: UndefinedMetricWarning: F-score is ill-defined and being set to 0.0 in labels with no true nor predicted samples. Use `zero_division` parameter to control this behavior.\n",
      "  average, \"true nor predicted\", 'F-score is', len(true_sum)\n",
      "/home/mariya/anaconda3/envs/masters/lib/python3.6/site-packages/sklearn/utils/validation.py:70: FutureWarning: Pass labels=['', ':', '!', ',', '?', ';', '.', '-', ',(', '\"', '\").', '(', ')', '?-', '.-', ':)', '!-', ':\"', '.\"', ':(', '?)', '\"?', '\".', '\";', '\"-', ').', '!,', '-\"', ')!', '\",', '.\")', '!;', ';(', '),', '?;', '?\"', ');', '.)', '?,', ';\"', '):', '[', ']', '...', '],', '\"(', ',[', ',\"', ']\",', ')-', '\":', '(\"', '\"),', '\"-[', '...,', '\")', '..', '\",\"', '?\".', '\"[', '\"(\"', '),\"', '\"\"', '-.', '.,', '].', ')\"', '!\"', '?\"-', '\":\"', '):\"', '\")-', '\"-\"', '-,', ')\".', '?\",', ']\".', '!\",', ']?', '...[', '];', '...\".', '!\"-', '\"!', '!\".', '!?', '?!', ',-', '!...', '!).', ')?', '?...', '.?'] as keyword args. From version 0.25 passing these as positional arguments will result in an error\n",
      "  FutureWarning)\n"
     ]
    },
    {
     "name": "stdout",
     "output_type": "stream",
     "text": [
      "0.9400507737000229\n"
     ]
    },
    {
     "name": "stderr",
     "output_type": "stream",
     "text": [
      "/home/mariya/anaconda3/envs/masters/lib/python3.6/site-packages/sklearn/metrics/_classification.py:1221: UndefinedMetricWarning: Precision and F-score are ill-defined and being set to 0.0 in labels with no predicted samples. Use `zero_division` parameter to control this behavior.\n",
      "  _warn_prf(average, modifier, msg_start, len(result))\n",
      "/home/mariya/anaconda3/envs/masters/lib/python3.6/site-packages/sklearn/metrics/_classification.py:1221: UndefinedMetricWarning: Recall and F-score are ill-defined and being set to 0.0 in labels with no true samples. Use `zero_division` parameter to control this behavior.\n",
      "  _warn_prf(average, modifier, msg_start, len(result))\n"
     ]
    },
    {
     "name": "stdout",
     "output_type": "stream",
     "text": [
      "              precision    recall  f1-score   support\n",
      "\n",
      "                  0.961     0.988     0.974    227825\n",
      "           :      0.885     0.736     0.804       923\n",
      "           !      0.490     0.219     0.303       347\n",
      "           ,      0.786     0.653     0.714     18592\n",
      "           ?      0.834     0.702     0.762       443\n",
      "           ;      0.235     0.061     0.097       622\n",
      "           .      0.936     0.987     0.961     11401\n",
      "           -      0.536     0.111     0.184       882\n",
      "          ,(      0.000     0.000     0.000         5\n",
      "           \"      0.646     0.148     0.241      1596\n",
      "         \").      0.000     0.000     0.000         0\n",
      "           (      0.959     0.881     0.918      1656\n",
      "           )      0.880     0.834     0.856      1001\n",
      "          ?-      0.000     0.000     0.000         4\n",
      "          .-      0.000     0.000     0.000         2\n",
      "          :)      0.000     0.000     0.000         0\n",
      "          !-      0.667     0.100     0.174        20\n",
      "          :\"      0.667     0.269     0.383        67\n",
      "          .\"      0.500     0.043     0.080        23\n",
      "          :(      0.000     0.000     0.000         1\n",
      "          ?)      0.000     0.000     0.000         0\n",
      "          \"?      0.000     0.000     0.000         1\n",
      "          \".      0.600     0.092     0.160       293\n",
      "          \";      0.000     0.000     0.000         5\n",
      "          \"-      1.000     0.036     0.069        28\n",
      "          ).      0.965     0.923     0.943       271\n",
      "          !,      0.000     0.000     0.000         0\n",
      "          -\"      0.000     0.000     0.000         7\n",
      "          )!      0.000     0.000     0.000         1\n",
      "          \",      0.736     0.554     0.632       829\n",
      "         .\")      0.000     0.000     0.000         1\n",
      "          !;      0.000     0.000     0.000         1\n",
      "          ;(      0.000     0.000     0.000         0\n",
      "          ),      0.798     0.664     0.725       381\n",
      "          ?;      0.000     0.000     0.000         0\n",
      "          ?\"      0.000     0.000     0.000         0\n",
      "          );      0.000     0.000     0.000         0\n",
      "          .)      0.000     0.000     0.000         1\n",
      "          ?,      0.000     0.000     0.000         1\n",
      "          ;\"      0.000     0.000     0.000         0\n",
      "          ):      1.000     0.727     0.842        11\n",
      "           [      0.000     0.000     0.000        45\n",
      "           ]      0.000     0.000     0.000        43\n",
      "         ...      0.000     0.000     0.000        61\n",
      "          ],      0.000     0.000     0.000         3\n",
      "          \"(      0.533     0.258     0.348        31\n",
      "          ,[      0.000     0.000     0.000         1\n",
      "          ,\"      0.000     0.000     0.000        44\n",
      "         ]\",      0.000     0.000     0.000         5\n",
      "          )-      0.000     0.000     0.000        17\n",
      "          \":      0.000     0.000     0.000         0\n",
      "          (\"      0.000     0.000     0.000         0\n",
      "         \"),      0.000     0.000     0.000         1\n",
      "         \"-[      0.000     0.000     0.000         0\n",
      "        ...,      0.000     0.000     0.000         3\n",
      "          \")      0.000     0.000     0.000         2\n",
      "          ..      0.500     0.333     0.400         3\n",
      "         \",\"      0.000     0.000     0.000        10\n",
      "         ?\".      0.000     0.000     0.000         2\n",
      "          \"[      0.000     0.000     0.000         0\n",
      "         \"(\"      0.000     0.000     0.000         2\n",
      "         ),\"      1.000     0.500     0.667         2\n",
      "          \"\"      0.000     0.000     0.000         2\n",
      "          -.      0.000     0.000     0.000         0\n",
      "          .,      0.000     0.000     0.000         0\n",
      "          ].      0.000     0.000     0.000         2\n",
      "          )\"      0.000     0.000     0.000         0\n",
      "          !\"      0.000     0.000     0.000         0\n",
      "         ?\"-      0.000     0.000     0.000         2\n",
      "         \":\"      0.000     0.000     0.000         1\n",
      "         ):\"      0.000     0.000     0.000         0\n",
      "         \")-      0.000     0.000     0.000         1\n",
      "         \"-\"      0.000     0.000     0.000         0\n",
      "          -,      0.000     0.000     0.000         1\n",
      "         )\".      0.000     0.000     0.000         1\n",
      "         ?\",      0.000     0.000     0.000         1\n",
      "         ]\".      0.000     0.000     0.000         0\n",
      "         !\",      0.000     0.000     0.000         1\n",
      "          ]?      0.000     0.000     0.000         0\n",
      "        ...[      0.000     0.000     0.000         2\n",
      "          ];      0.000     0.000     0.000         0\n",
      "       ...\".      0.000     0.000     0.000         0\n",
      "         !\"-      0.000     0.000     0.000         2\n",
      "          \"!      0.000     0.000     0.000         0\n",
      "         !\".      0.000     0.000     0.000         3\n",
      "          !?      0.000     0.000     0.000         0\n",
      "          ?!      0.000     0.000     0.000         0\n",
      "          ,-      0.000     0.000     0.000         4\n",
      "        !...      0.000     0.000     0.000         1\n",
      "         !).      0.000     0.000     0.000         0\n",
      "          )?      0.000     0.000     0.000         3\n",
      "        ?...      0.000     0.000     0.000         0\n",
      "          .?      0.000     0.000     0.000         0\n",
      "\n",
      "   micro avg      0.947     0.947     0.947    267543\n",
      "   macro avg      0.184     0.116     0.132    267543\n",
      "weighted avg      0.939     0.947     0.940    267543\n",
      "\n",
      "0.7439721917749045\n"
     ]
    },
    {
     "name": "stderr",
     "output_type": "stream",
     "text": [
      "/home/mariya/anaconda3/envs/masters/lib/python3.6/site-packages/sklearn/utils/validation.py:70: FutureWarning: Pass labels=[':', '!', ',', '?', ';', '.', '-', ',(', '\"', '\").', '(', ')', '?-', '.-', ':)', '!-', ':\"', '.\"', ':(', '?)', '\"?', '\".', '\";', '\"-', ').', '!,', '-\"', ')!', '\",', '.\")', '!;', ';(', '),', '?;', '?\"', ');', '.)', '?,', ';\"', '):', '[', ']', '...', '],', '\"(', ',[', ',\"', ']\",', ')-', '\":', '(\"', '\"),', '\"-[', '...,', '\")', '..', '\",\"', '?\".', '\"[', '\"(\"', '),\"', '\"\"', '-.', '.,', '].', ')\"', '!\"', '?\"-', '\":\"', '):\"', '\")-', '\"-\"', '-,', ')\".', '?\",', ']\".', '!\",', ']?', '...[', '];', '...\".', '!\"-', '\"!', '!\".', '!?', '?!', ',-', '!...', '!).', ')?', '?...', '.?'] as keyword args. From version 0.25 passing these as positional arguments will result in an error\n",
      "  FutureWarning)\n"
     ]
    },
    {
     "name": "stdout",
     "output_type": "stream",
     "text": [
      "              precision    recall  f1-score   support\n",
      "\n",
      "           :      0.885     0.736     0.804       923\n",
      "           !      0.490     0.219     0.303       347\n",
      "           ,      0.786     0.653     0.714     18592\n",
      "           ?      0.834     0.702     0.762       443\n",
      "           ;      0.235     0.061     0.097       622\n",
      "           .      0.936     0.987     0.961     11401\n",
      "           -      0.536     0.111     0.184       882\n",
      "          ,(      0.000     0.000     0.000         5\n",
      "           \"      0.646     0.148     0.241      1596\n",
      "         \").      0.000     0.000     0.000         0\n",
      "           (      0.959     0.881     0.918      1656\n",
      "           )      0.880     0.834     0.856      1001\n",
      "          ?-      0.000     0.000     0.000         4\n",
      "          .-      0.000     0.000     0.000         2\n",
      "          :)      0.000     0.000     0.000         0\n",
      "          !-      0.667     0.100     0.174        20\n",
      "          :\"      0.667     0.269     0.383        67\n",
      "          .\"      0.500     0.043     0.080        23\n",
      "          :(      0.000     0.000     0.000         1\n",
      "          ?)      0.000     0.000     0.000         0\n",
      "          \"?      0.000     0.000     0.000         1\n",
      "          \".      0.600     0.092     0.160       293\n",
      "          \";      0.000     0.000     0.000         5\n",
      "          \"-      1.000     0.036     0.069        28\n",
      "          ).      0.965     0.923     0.943       271\n",
      "          !,      0.000     0.000     0.000         0\n",
      "          -\"      0.000     0.000     0.000         7\n",
      "          )!      0.000     0.000     0.000         1\n",
      "          \",      0.736     0.554     0.632       829\n",
      "         .\")      0.000     0.000     0.000         1\n",
      "          !;      0.000     0.000     0.000         1\n",
      "          ;(      0.000     0.000     0.000         0\n",
      "          ),      0.798     0.664     0.725       381\n",
      "          ?;      0.000     0.000     0.000         0\n",
      "          ?\"      0.000     0.000     0.000         0\n",
      "          );      0.000     0.000     0.000         0\n",
      "          .)      0.000     0.000     0.000         1\n",
      "          ?,      0.000     0.000     0.000         1\n",
      "          ;\"      0.000     0.000     0.000         0\n",
      "          ):      1.000     0.727     0.842        11\n",
      "           [      0.000     0.000     0.000        45\n",
      "           ]      0.000     0.000     0.000        43\n",
      "         ...      0.000     0.000     0.000        61\n",
      "          ],      0.000     0.000     0.000         3\n",
      "          \"(      0.533     0.258     0.348        31\n",
      "          ,[      0.000     0.000     0.000         1\n",
      "          ,\"      0.000     0.000     0.000        44\n",
      "         ]\",      0.000     0.000     0.000         5\n",
      "          )-      0.000     0.000     0.000        17\n",
      "          \":      0.000     0.000     0.000         0\n",
      "          (\"      0.000     0.000     0.000         0\n",
      "         \"),      0.000     0.000     0.000         1\n",
      "         \"-[      0.000     0.000     0.000         0\n",
      "        ...,      0.000     0.000     0.000         3\n",
      "          \")      0.000     0.000     0.000         2\n",
      "          ..      0.500     0.333     0.400         3\n",
      "         \",\"      0.000     0.000     0.000        10\n",
      "         ?\".      0.000     0.000     0.000         2\n",
      "          \"[      0.000     0.000     0.000         0\n",
      "         \"(\"      0.000     0.000     0.000         2\n",
      "         ),\"      1.000     0.500     0.667         2\n",
      "          \"\"      0.000     0.000     0.000         2\n",
      "          -.      0.000     0.000     0.000         0\n",
      "          .,      0.000     0.000     0.000         0\n",
      "          ].      0.000     0.000     0.000         2\n",
      "          )\"      0.000     0.000     0.000         0\n",
      "          !\"      0.000     0.000     0.000         0\n",
      "         ?\"-      0.000     0.000     0.000         2\n",
      "         \":\"      0.000     0.000     0.000         1\n",
      "         ):\"      0.000     0.000     0.000         0\n",
      "         \")-      0.000     0.000     0.000         1\n",
      "         \"-\"      0.000     0.000     0.000         0\n",
      "          -,      0.000     0.000     0.000         1\n",
      "         )\".      0.000     0.000     0.000         1\n",
      "         ?\",      0.000     0.000     0.000         1\n",
      "         ]\".      0.000     0.000     0.000         0\n",
      "         !\",      0.000     0.000     0.000         1\n",
      "          ]?      0.000     0.000     0.000         0\n",
      "        ...[      0.000     0.000     0.000         2\n",
      "          ];      0.000     0.000     0.000         0\n",
      "       ...\".      0.000     0.000     0.000         0\n",
      "         !\"-      0.000     0.000     0.000         2\n",
      "          \"!      0.000     0.000     0.000         0\n",
      "         !\".      0.000     0.000     0.000         3\n",
      "          !?      0.000     0.000     0.000         0\n",
      "          ?!      0.000     0.000     0.000         0\n",
      "          ,-      0.000     0.000     0.000         4\n",
      "        !...      0.000     0.000     0.000         1\n",
      "         !).      0.000     0.000     0.000         0\n",
      "          )?      0.000     0.000     0.000         3\n",
      "        ?...      0.000     0.000     0.000         0\n",
      "          .?      0.000     0.000     0.000         0\n",
      "\n",
      "   micro avg      0.847     0.709     0.772     39718\n",
      "   macro avg      0.176     0.107     0.122     39718\n",
      "weighted avg      0.812     0.709     0.744     39718\n",
      "\n",
      "0.7548434459248394\n"
     ]
    },
    {
     "name": "stderr",
     "output_type": "stream",
     "text": [
      "/home/mariya/anaconda3/envs/masters/lib/python3.6/site-packages/sklearn/utils/validation.py:70: FutureWarning: Pass labels=[',', '(', ')', '\"', '[', ']', ';', '.', '?', '!', ':', '-', '...'] as keyword args. From version 0.25 passing these as positional arguments will result in an error\n",
      "  FutureWarning)\n"
     ]
    },
    {
     "name": "stdout",
     "output_type": "stream",
     "text": [
      "              precision    recall  f1-score   support\n",
      "\n",
      "           ,      0.786     0.653     0.714     18592\n",
      "           (      0.959     0.881     0.918      1656\n",
      "           )      0.880     0.834     0.856      1001\n",
      "           \"      0.646     0.148     0.241      1596\n",
      "           [      0.000     0.000     0.000        45\n",
      "           ]      0.000     0.000     0.000        43\n",
      "           ;      0.235     0.061     0.097       622\n",
      "           .      0.936     0.987     0.961     11401\n",
      "           ?      0.834     0.702     0.762       443\n",
      "           !      0.490     0.219     0.303       347\n",
      "           :      0.885     0.736     0.804       923\n",
      "           -      0.536     0.111     0.184       882\n",
      "         ...      0.000     0.000     0.000        61\n",
      "\n",
      "   micro avg      0.849     0.721     0.780     37612\n",
      "   macro avg      0.553     0.410     0.449     37612\n",
      "weighted avg      0.818     0.721     0.755     37612\n",
      "\n",
      "['Но синовете им не умъртви, защото постъпи според писаното в закона в книгата на Мойсей, където ГОСПОД заповяда и каза: Бащите да не умират заради синовете и синовете да не умират заради бащите, а всеки да умира за собствения си грях.', 'Но когато ти говоря ще отворя устата ти и ти им кажи: Така казва Господ БОГ: Който слуша, нека слуша, а който не слуша, нека не слуша, защото са бунтовен дом.', 'Защото кой е по-голям този, който седи на трапезата ли или онзи, който слугува?', 'А след това ще се насели, както в предишните дни, заявява ГОСПОД.', 'А Той беше на задната част, заспал на възглавница.', 'Ефрем е като птица славата му ще отлети.', 'И така той си отиде от него на известно разстояние.', 'Не бягам при халдейците.', 'И израилевите синове излязоха от египетската земя строени.', 'А когато Ахитофел видя, че съветът му не се изпълни оседла магарето си и стана и отиде у дома си в своя град, и нареди домашните си работи и се обеси.', 'Ако умре някое животно от добитъка, който можете да ядете, който се допре до мършата му, ще бъде нечист до вечерта.', 'Но помощник съответен на Адам не се намери.', 'Който задържа жито, народът ще го проклина, а благословение ще почива на главата на този, който го продава.', 'Този човек беше праведен и благочестив и чакаше Утехата на Израил и Светият Дух беше на него.', 'Всичко е възможно за този, който вярва.', 'И видях височината на дома околовръст, основите на страничните стаи бяха една цяла тръстика от шест големи лакътя.', 'После да вземеш тлъстината на овена, опашката и тлъстината, която покрива вътрешностите, булото на дроба двата бъбрека с тлъстината, която е около тях и дясното бедро, защото е овен на посвещение и един хляб, една пита хляб, месен с маслинено масло и една кора от коша на безквасните хлябове, които са пред ГОСПОДА.', 'И от дима излязоха скакалци по земята и им се даде власт като властта, която имат земните скорпиони.', 'Ти си, ГОСПОДИ, само Ти.', 'И ще предаде Израил заради греховете на Еровоам, с които съгреши и с които въведе Израил в грях.', 'Синове на Елифаз: Теман и Омар, Сефи и Готом Кенез, и Тамна, и Амалик.', 'А гладът в Самария беше страшен.', 'Затова казах в сърцето си, че и това е суета.', 'Насладих се на сянката му и седнах и плодът му бе сладък в устата ми.', 'Защото така ми каза ГОСПОД: Както ръмжи над лова си лъвът младият лъв срещу когото се свикват множество овчари и не се плаши от гласа им, и не се отдръпва пред шума им, така ГОСПОД на Войнствата, ще слезе за да воюва за хълма Сион и за неговото възвишение.', 'Отче свети, опази ги в Името Си, което си Ми дал, за да бъдат едно, както сме и Ние.', 'И да правите разлика между чистите животни и нечистите и между нечистите птици и чистите и да не осквернявате себе си с животно, или с птица, или с каквото и да е, което пълзи по земята, което Аз съм ви отделил като нечисто.', 'И ГОСПОД укрепи моавския цар Еглон против Израил, защото вършиха зло пред ГОСПОДА.', 'И Духът ми каза да отида с тях, без да се двоумя.', 'В двадесет и седмата година на израилевия цар Еровоам се възцари Азария, синът на юдовия цар Амасия.', 'Защото вашата послушност е известна на всички; затова се радвам за вас.', 'Той изтегля всички с въдица влачи ги в мрежата си и ги събира в рибарската си мрежа- затова се радва и се весели.', 'Благословен да е ГОСПОД Бог Богът на Израил, който единствен върши чудеса.', 'И които влязоха мъжко и женско от всяка плът, влязоха, както Бог му беше заповядал, и ГОСПОД затвори след него.', 'Тогава царят каза на Божия човек: Ела с мен у дома и се подкрепи и ще ти дам подарък.', 'И ето, въпреки че е посадена ще успее ли?', 'От дома Тогарма, даваха за стоките ти коне бойни коне и мулета.', 'Затова заповядай гробът да се пази здраво до третия ден да не би учениците Му да дойдат и да Го откраднат и да кажат на народа Възкръсна от мъртвите.', 'И когато отвори петия печат, видях под олтара, душите на онези, които са били заклани за Божието слово и за свидетелството, което държаха.', 'И свещениците, които служат на ГОСПОДА са синовете на Аарон и левитите са в службата.', 'Той тича след тях с умолителни думи, но тях ги няма.', 'И измери дължината му четиридесет лакътя и ширината му- двадесет лакътя.', 'Затова, така казва ГОСПОД, Бог на Войнствата, Израилевият Бог: Ето, Аз ще докарам върху Юда и върху всичките ерусалимски жители цялото зло, което говорих против тях, защото им говорих, но не слушаха и ги виках, но не отговаряха.', 'Сине мой, слушай наставлението на баща си и не отхвърляй закона на майка си, защото те ще бъдат благодатен венец за главата ти и огърлица за шията ти.', 'Тогава облакът започна да се издига от града в димен стълб и Вениамин, се обърна и ето, целият град се издигаше в пламъци към небето.', 'В онзи ден няма да се срамуваш от всичките си дела, с които си отстъпил от Мен, защото тогава ще отнема отсред теб, твоите, които горделиво тържествуват и ти няма вече да се държиш надменно на светия Ми хълм.', 'А свинарите, като видяха станалото, избягаха и разказаха за това в града и в селата.', 'И Илий благослови Елкана и жена му и каза: ГОСПОД да ти даде потомство от тази жена, вместо заетото, което беше посветено на ГОСПОДА.', 'И ако живее във вас: Духът на Този, който възкреси Иисус от мъртвите то Този, който възкреси Христос от мъртвите ще съживи и вашите смъртни тела чрез Духа Си, който живее във вас.', 'А ГОСПОД си извърши, както беше говорил чрез мен и ГОСПОД откъсна царството от ръката ти и го даде на ближния ти на Давид.', 'Даде и храна, за магаретата им.', 'Книгата на видението на елкусеянина Наум.', 'И направи олтара за всеизгаряне от акациево дърво, пет лакътя беше дължината му и пет лакътя беше ширината му, четвъртит и три лакътя беше височината му.', 'Те ми казаха: Направи ни богове, които да ходят пред нас, защото на този Мойсей човека, който ни изведе от египетската земя не знаем какво му стана.', 'Тогава Мардохей каза да отговорят на Естир: Не мисли в себе си, че от всичките юдеи само ти ще се избавиш в царския дом.', 'Но аз не бих познал греха освен чрез закона, защото не бих знаел пожелание, ако законът не беше казал: Не пожелавай.', 'Тогава народът Му си спомни за древните дни на Мойсей: Къде е Онзи, който ги изведе от морето с пастирите на стадото Си?', 'И три пъти в годината Соломон принасяше всеизгаряния и примирителни жертви върху олтара, който построи на ГОСПОДА и кадеше върху олтара, който беше пред ГОСПОДА.', 'И след като им поставиха старейшини във всяка църква и се помолиха с пост ги препоръчаха на Господа, в когото бяха повярвали.', 'С нея Той подейства в Христос, като Го възкреси от мъртвите и Го сложи да седне от дясната Си страна на небесата далеч над всяко началство и власт и сила и господство и всяко име, с което се наименуват не само в този свят, но и в бъдещия.', 'Стрелец срещу стрелец да опъва лъка си и срещу онзи, който се надига в бронята си.', 'Затова онази нива е, наречена и до днес Кръвна нива.', 'И така слугите на цар Езекия отидоха при Исая.', 'И никой свещеник да не пие вино, когато влиза във вътрешния двор.', 'И Охозия, падна през решетката на горната си, стая в Самария и се разболя.', 'Защо не разбирате Моето говорене?', 'А Лаван в отговор каза на Яков: Тези дъщери са мои дъщери и синовете са мои синове и стадата, са мои стада.', 'А чуждият, който се приближи да се умъртви.', 'И двамата сина на Илий, Офний и Финеес бяха там с ковчега на Божия завет.', 'Иисус му каза: Лисиците си имат леговища и небесните птици гнезда, а Човешкият Син няма къде глава да подслони.', 'От кръвта на убитите от тлъстината на силните, лъкът на Йонатан не се обръщаше назад и мечът на Саул не се връщаше празен.', 'Станах за присмех на целия си народ и за тяхна подигравателна песен цял ден.', 'Да учите на тях синовете си, като говорите за тях, когато седиш в къщата си, когато ходиш по пътя, когато лягаш и когато ставаш.', 'И ГОСПОД се разкая за злото, което беше казал, че ще направи на народа Си.', 'А Юда изпрати ярето чрез ръката на приятеля си одоламеца, за да вземе залога от ръката на жената, но той не я намери.', 'И царят заповяда и доведоха онези мъже, които бяха издали Даниил, и хвърлиха тях децата им и жените им в рова на лъвовете и още преди да стигнат до дъното на рова, лъвовете ги сграбчиха и строшиха всичките им кости.', 'И Йоав и народът, който беше с него настъпиха за битката против арамейците; и те побягнаха пред него.', 'И като го повикаха Тертил, започна да обвинява като казваше: Понеже чрез теб честити Феликсе, се радваме на голямо спокойствие и понеже чрез твоята предвидливост има подобрения за този народ, то ние с пълна благодарност, винаги и навсякъде посрещаме това.', 'Защото Йоан казваше на Ирод: Не ти е позволено да имаш жената на брат си.', 'А в първия ден на седмицата много рано сутринта, те дойдоха на гроба, като носеха благоуханните масла, които бяха приготвили.', 'Ще бъде ли добре да ви изпита Той?', 'След това Яков каза на Лаван: Дай жена ми, защото дойде време да вляза при нея.', 'А посветените дарове, бяха шестстотин говеда и три хиляди овце.', 'Кога ще се събудя за да продължа да го потърся пак.', 'Изнемогвам от викането си гърлото ми е пресъхнало очите ми чезнат, докато чакам своя Бог.', 'Това са родовете на Мерарий.', 'На следващия ден едно голямо множество, което беше дошло на празника, като чуха, че Иисус идвал в Ерусалим, взеха палмови клони и излязоха да Го посрещнат, викайки Осанна.', 'И той каза: Имам нещо да ти кажа.', 'Ако някой, който е престъпил закона на Мойсей умира безпощадно при думата на двама или трима свидетели, то колко по-тежко наказание мислите ще заслужи онзи, който е потъпкал Божия Син и е счел за просто нещо, кръвта на завета, с която е бил осветен и е оскърбил Духа на благодатта.', 'Върни се, сине мой, Давиде, защото няма вече да ти сторя зло, понеже днес животът ми беше скъпоценен пред очите ти.', 'Ще дойдат големци от Египет Етиопия бързо ще протегне ръцете си към Бога.', 'Затова хората Му се боят и Той не гледа на никого от мъдрите по сърце.', 'И Го следваше голямо множество от народ и жени, които плачеха за Него.', 'Ето ви семе засейте земята!', 'И Давид дойде във Ваал-Ферасим и Давид ги разби там, и каза: ГОСПОД разсече пред мен, враговете ми, както водите правят пролом.', 'Кадилниците на тези мъже, които съгрешиха против живота си, нека ги направят на плочи за обковаване на олтара, защото те ги принесоха пред ГОСПОДА и затова са свети и те ще бъдат за знамение на израилевите синове.', 'И когато фараонът отказваше да ни пусне, ГОСПОД, уби всяко първородно в египетската земя от първородно на човек до първородно на животно, затова жертвам на ГОСПОДА всяко първородно, което е мъжко, а всеки първороден от синовете си изкупувам.', 'А без вяра не е възможно да се угоди на Бога, защото, който идва при Бога, трябва да вярва, че Той съществува и че възнаграждава тези, които Го търсят.', 'И докато още говореше с тях, ето, пратеникът слезе при него и каза: Ето, това зло е от ГОСПОДА.', 'А вие сами ли ще продадете братята си?']\n"
     ]
    }
   ],
   "source": [
    "labels = list(crf.classes_)\n",
    "y_pred = crf.predict(X_dev)\n",
    "print(metrics.flat_f1_score(y_dev, y_pred, average='weighted', labels=labels))\n",
    "print(metrics.flat_classification_report(y_dev, y_pred, labels=labels, digits=3))\n",
    "labels.remove('')\n",
    "print(metrics.flat_f1_score(y_dev, y_pred, average='weighted', labels=labels))\n",
    "print(metrics.flat_classification_report(y_dev, y_pred, labels=labels, digits=3))\n",
    "labels = [',','(',')','\"','[',']',';','.','?','!',':','-', '...']\n",
    "print(metrics.flat_f1_score(y_dev, y_pred, average='weighted', labels=labels))\n",
    "print(metrics.flat_classification_report(y_dev, y_pred, labels=labels, digits=3))\n",
    "punctuated_sentences = punctuate(X_dev, y_pred)\n",
    "print(punctuated_sentences[:100])"
   ]
  },
  {
   "cell_type": "markdown",
   "id": "c881b00f",
   "metadata": {},
   "source": [
    "### Do Grid Search on half of the train set"
   ]
  },
  {
   "cell_type": "code",
   "execution_count": 32,
   "id": "442d5cd9",
   "metadata": {},
   "outputs": [],
   "source": [
    "from sklearn.metrics import make_scorer\n",
    "import scipy.stats\n",
    "from sklearn.model_selection import RandomizedSearchCV"
   ]
  },
  {
   "cell_type": "code",
   "execution_count": 33,
   "id": "f3a07eb0",
   "metadata": {},
   "outputs": [],
   "source": [
    "labels = [',','(',')','\"','[',']',';','.','?','!',':','-', '...']"
   ]
  },
  {
   "cell_type": "code",
   "execution_count": 34,
   "id": "f0a224a0",
   "metadata": {},
   "outputs": [
    {
     "name": "stdout",
     "output_type": "stream",
     "text": [
      "CPU times: user 4.41 ms, sys: 51 µs, total: 4.46 ms\n",
      "Wall time: 4.33 ms\n"
     ]
    }
   ],
   "source": [
    "%%time\n",
    "# define fixed parameters and parameters to search\n",
    "crf = sklearn_crfsuite.CRF(\n",
    "    algorithm='lbfgs',\n",
    "    max_iterations=100,\n",
    "    all_possible_transitions=True,\n",
    "    linesearch='MoreThuente'\n",
    "    \n",
    ")\n",
    "params_space = {\n",
    "    'c1': scipy.stats.expon(scale=0.5),\n",
    "    'c2': scipy.stats.expon(scale=0.05),\n",
    "#     'all_possible_transitions': [True, False],\n",
    "#     'linesearch': ['MoreThuente', 'Backtracking', 'StrongBacktracking'],\n",
    "    'num_memories': [4, 6, 8],\n",
    "    'period': [8, 10, 12],\n",
    "    'epsilon': scipy.stats.loguniform(1e-6, 1e-4),\n",
    "    'delta': scipy.stats.loguniform(1e-6, 1e-4)\n",
    "}"
   ]
  },
  {
   "cell_type": "code",
   "execution_count": 35,
   "id": "d458c496",
   "metadata": {},
   "outputs": [
    {
     "name": "stdout",
     "output_type": "stream",
     "text": [
      "Fitting 3 folds for each of 50 candidates, totalling 150 fits\n"
     ]
    },
    {
     "name": "stderr",
     "output_type": "stream",
     "text": [
      "/home/mariya/anaconda3/envs/masters/lib/python3.6/site-packages/sklearn/base.py:213: FutureWarning: From version 0.24, get_params will raise an AttributeError if a parameter cannot be retrieved as an instance attribute. Previously it would return None.\n",
      "  FutureWarning)\n",
      "[Parallel(n_jobs=-1)]: Using backend LokyBackend with 8 concurrent workers.\n",
      "[Parallel(n_jobs=-1)]: Done  34 tasks      | elapsed:  3.1min\n",
      "[Parallel(n_jobs=-1)]: Done 150 out of 150 | elapsed: 12.8min finished\n"
     ]
    },
    {
     "name": "stdout",
     "output_type": "stream",
     "text": [
      "CPU times: user 12min 48s, sys: 5.63 s, total: 12min 53s\n",
      "Wall time: 13min 7s\n"
     ]
    }
   ],
   "source": [
    "%%time\n",
    "# use the same metric for evaluation\n",
    "f1_scorer = make_scorer(metrics.flat_f1_score,\n",
    "                        average='weighted', labels=labels)\n",
    "\n",
    "# search\n",
    "rs = RandomizedSearchCV(crf, params_space,\n",
    "                        cv=3,\n",
    "                        verbose=1,\n",
    "                        n_jobs=-1,\n",
    "                        n_iter=50,\n",
    "                        scoring=f1_scorer)\n",
    "rs.fit(X_train[:2000], y_train[:2000])"
   ]
  },
  {
   "cell_type": "code",
   "execution_count": 36,
   "id": "1b2d2783",
   "metadata": {},
   "outputs": [
    {
     "name": "stdout",
     "output_type": "stream",
     "text": [
      "best params: {'c1': 0.3952681242447892, 'c2': 0.05986417647894812, 'delta': 2.023975781529585e-06, 'epsilon': 1.797571535000269e-06, 'num_memories': 6, 'period': 12}\n",
      "best CV score: 0.6694467873383076\n"
     ]
    },
    {
     "name": "stderr",
     "output_type": "stream",
     "text": [
      "/home/mariya/anaconda3/envs/masters/lib/python3.6/site-packages/sklearn/utils/validation.py:70: FutureWarning: Pass labels=[',', '(', ')', '\"', '[', ']', ';', '.', '?', '!', ':', '-', '...'] as keyword args. From version 0.25 passing these as positional arguments will result in an error\n",
      "  FutureWarning)\n",
      "/home/mariya/anaconda3/envs/masters/lib/python3.6/site-packages/sklearn/metrics/_classification.py:1221: UndefinedMetricWarning: Precision and F-score are ill-defined and being set to 0.0 in labels with no predicted samples. Use `zero_division` parameter to control this behavior.\n",
      "  _warn_prf(average, modifier, msg_start, len(result))\n"
     ]
    },
    {
     "name": "stdout",
     "output_type": "stream",
     "text": [
      "              precision    recall  f1-score   support\n",
      "\n",
      "           ,      0.604     0.577     0.590     18592\n",
      "           (      0.000     0.000     0.000      1656\n",
      "           )      0.000     0.000     0.000      1001\n",
      "           \"      0.000     0.000     0.000      1596\n",
      "           [      0.000     0.000     0.000        45\n",
      "           ]      0.000     0.000     0.000        43\n",
      "           ;      0.165     0.034     0.056       622\n",
      "           .      0.895     0.967     0.930     11401\n",
      "           ?      0.615     0.828     0.706       443\n",
      "           !      0.347     0.095     0.149       347\n",
      "           :      0.336     0.684     0.451       923\n",
      "           -      0.158     0.018     0.033       882\n",
      "         ...      0.000     0.000     0.000        61\n",
      "\n",
      "   micro avg      0.694     0.607     0.647     37612\n",
      "   macro avg      0.240     0.246     0.224     37612\n",
      "weighted avg      0.595     0.607     0.596     37612\n",
      "\n",
      "['Но синовете им не умъртви, защото постъпи според писаното в закона в книгата на Мойсей, където ГОСПОД заповяда и каза: Бащите да не умират заради синовете, и синовете да не умират заради бащите, а всеки да умира за собствения си грях.', 'Но когато ти говоря ще отворя устата ти и ти им кажи: Така казва Господ БОГ: Който слуша, нека слуша, а който не слуша, нека не слуша, защото са бунтовен дом.', 'Защото кой е по-голям? този, който седи на трапезата ли или онзи, който слугува?', 'А след това ще се насели, както в предишните дни, заявява ГОСПОД.', 'А Той беше на задната част; заспал на възглавница.', 'Ефрем е като птица, славата му ще отлети.', 'И така той си отиде от него на известно разстояние.', 'Не бягам при халдейците.', 'И израилевите синове излязоха от египетската земя строени.', 'А когато Ахитофел видя, че съветът му не се изпълни оседла магарето си и стана и отиде у дома си в своя град, и нареди домашните си работи, и се обеси.', 'Ако умре някое животно от добитъка, който можете да ядете, който се допре до мършата му ще бъде нечист до вечерта.', 'Но помощник съответен на Адам, не се намери.', 'Който задържа жито, народът ще го проклина, а благословение ще почива на главата на този, който го продава.', 'Този човек беше праведен и благочестив и чакаше: Утехата на Израил и Светият Дух беше на него.', 'Всичко е възможно за този, който вярва.', 'И видях височината на дома околовръст основите на страничните стаи бяха една цяла тръстика от шест големи лакътя.', 'После да вземеш тлъстината на овена, опашката и тлъстината, която покрива вътрешностите булото на дроба двата бъбрека с тлъстината, която е около тях и дясното бедро, защото е овен на посвещение и един хляб една пита хляб месен с маслинено масло и една кора от коша на безквасните хлябове, които са пред ГОСПОДА.', 'И от дима излязоха скакалци по земята и им се даде власт като властта, която имат земните скорпиони.', 'Ти си, ГОСПОДИ, само Ти.', 'И ще предаде Израил заради греховете на Еровоам, с които съгреши и с които въведе Израил в грях.', 'Синове на Елифаз, Теман и Омар, Сефи и Готом, Кенез и Тамна, и Амалик.', 'А гладът в Самария беше страшен.', 'Затова казах в сърцето си, че и това е суета.', 'Насладих се на сянката му и седнах и плодът му бе сладък в устата ми.', 'Защото, така ми каза: ГОСПОД, Както ръмжи над лова си, лъвът младият лъв, срещу когото се свикват множество овчари и не се плаши от гласа им и не се отдръпва пред шума им; така ГОСПОД на Войнствата ще слезе за да воюва за хълма Сион и за неговото възвишение.', 'Отче свети, опази ги в Името Си, което си Ми дал, за да бъдат едно, както сме и Ние.', 'И да правите разлика между чистите животни и нечистите и между нечистите птици и чистите и да не осквернявате себе си с животно, или с птица, или с каквото и да е, което пълзи по земята, което Аз съм ви отделил като нечисто.', 'И ГОСПОД укрепи моавския цар Еглон против Израил, защото вършиха зло пред ГОСПОДА.', 'И Духът ми каза да отида с тях без да се двоумя.', 'В двадесет и седмата година на израилевия цар Еровоам се възцари Азария, синът на юдовия, цар Амасия.', 'Защото вашата послушност е известна на всички, затова се радвам за вас.', 'Той изтегля всички с въдица влачи ги в мрежата си и ги събира в рибарската си мрежа, затова се радва и се весели.', 'Благословен да е ГОСПОД, Бог Богът на Израил, който единствен върши чудеса.', 'И които влязоха мъжко и женско от всяка плът влязоха, както Бог му беше заповядал и ГОСПОД затвори след него.', 'Тогава царят каза на Божия човек: Ела с мен у дома и се подкрепи и ще ти дам подарък.', 'И ето, въпреки че е посадена ще успее ли?', 'От дома Тогарма даваха за стоките ти коне бойни коне и мулета.', 'Затова заповядай гробът да се пази здраво до третия ден да не би учениците Му да дойдат и да Го откраднат, и да кажат на народа Възкръсна от мъртвите.', 'И когато отвори петия печат видях под олтара душите на онези, които са били заклани за Божието слово и за свидетелството, което държаха.', 'И свещениците, които служат на ГОСПОДА са синовете на Аарон и левитите са в службата.', 'Той тича след тях с умолителни думи, но тях ги няма.', 'И измери дължината му четиридесет лакътя и ширината му- двадесет лакътя.', 'Затова, така казва ГОСПОД Бог на Войнствата, Израилевият Бог: Ето, Аз ще докарам върху Юда и върху всичките ерусалимски жители, цялото зло, което говорих против тях, защото им говорих, но не слушаха и ги виках, но не отговаряха.', 'Сине мой, слушай наставлението на баща си и не отхвърляй закона на майка си, защото те ще бъдат благодатен венец за главата ти и огърлица за шията ти.', 'Тогава облакът започна да се издига от града в димен стълб и Вениамин се обърна, и ето, целият град се издигаше в пламъци към небето.', 'В онзи ден няма да се срамуваш от всичките си дела, с които си отстъпил от Мен, защото тогава ще отнема отсред теб твоите, които горделиво тържествуват и ти, няма вече да се държиш надменно на светия Ми хълм.', 'А свинарите, като видяха станалото, избягаха и разказаха за това в града и в селата.', 'И Илий благослови Елкана и жена му и каза: ГОСПОД да ти даде потомство от тази жена вместо заетото, което беше посветено на ГОСПОДА.', 'И ако живее във вас: Духът на Този, който възкреси Иисус от мъртвите то Този, който възкреси Христос от мъртвите ще съживи и вашите смъртни тела чрез Духа Си, който живее във вас.', 'А ГОСПОД си извърши, както беше говорил чрез мен и ГОСПОД откъсна царството от ръката ти, и го даде на ближния ти на Давид.', 'Даде и храна за магаретата им.', 'Книгата на видението на елкусеянина Наум.', 'И направи олтара за всеизгаряне от акациево дърво пет лакътя беше дължината му и пет лакътя беше ширината му, четвъртит и три лакътя беше височината му.', 'Те ми казаха: Направи ни богове, които да ходят пред нас, защото на този Мойсей човека, който ни изведе от египетската земя не знаем какво му стана?', 'Тогава Мардохей каза да отговорят на Естир: Не мисли в себе си, че от всичките юдеи само ти ще се избавиш в царския дом.', 'Но аз не бих познал греха освен чрез закона, защото не бих знаел пожелание, ако законът не беше казал: Не пожелавай.', 'Тогава народът Му си спомни за древните дни на Мойсей: Къде е Онзи, който ги изведе от морето с пастирите на стадото Си?', 'И три пъти в годината Соломон принасяше всеизгаряния и примирителни жертви върху олтара, който построи на ГОСПОДА, и кадеше върху олтара, който беше пред ГОСПОДА.', 'И след като им поставиха старейшини във всяка църква и се помолиха с пост ги препоръчаха на Господа, в когото бяха повярвали.', 'С нея Той подейства в Христос, като Го възкреси от мъртвите и Го сложи да седне от дясната Си страна на небесата далеч над всяко началство и власт и сила и господство и всяко име с което се наименуват; не само в този свят, но и в бъдещия.', 'Стрелец срещу стрелец да опъва лъка си и срещу онзи, който се надига в бронята си.', 'Затова онази нива е наречена и до днес Кръвна нива.', 'И така слугите на цар Езекия отидоха при Исая.', 'И никой свещеник да не пие вино, когато влиза във вътрешния двор.', 'И Охозия, падна през решетката на горната си стая в Самария и се разболя.', 'Защо не разбирате Моето говорене?', 'А Лаван в отговор каза на Яков: Тези дъщери са мои дъщери; и синовете са мои синове и стадата са мои стада.', 'А чуждият, който се приближи да се умъртви.', 'И двамата сина на Илий, Офний и Финеес бяха там с ковчега на Божия завет.', 'Иисус му каза: Лисиците си имат леговища и небесните птици гнезда, а Човешкият Син няма къде глава да подслони?', 'От кръвта на убитите от тлъстината на силните лъкът на Йонатан, не се обръщаше назад и мечът на Саул, не се връщаше празен.', 'Станах за присмех на целия си народ и за тяхна подигравателна песен цял ден.', 'Да учите на тях синовете си, като говорите за тях, когато седиш в къщата си, когато ходиш по пътя, когато лягаш и когато ставаш.', 'И ГОСПОД се разкая за злото, което беше казал, че ще направи на народа Си.', 'А Юда изпрати ярето чрез ръката на приятеля си одоламеца, за да вземе залога от ръката на жената, но той не я намери.', 'И царят заповяда и доведоха онези мъже, които бяха издали, Даниил, и хвърлиха тях децата им и жените им в рова на лъвовете и още преди да стигнат до дъното на рова, лъвовете ги сграбчиха и строшиха всичките им кости.', 'И Йоав и народът, който беше с него настъпиха за битката против арамейците; и те побягнаха пред него.', 'И като го повикаха Тертил, започна да обвинява, като казваше: Понеже чрез теб честити, Феликсе се радваме на голямо спокойствие и понеже чрез твоята предвидливост, има подобрения, за този народ, то ние с пълна благодарност винаги и навсякъде посрещаме това.', 'Защото Йоан казваше на Ирод: Не ти е позволено да имаш жената на брат си.', 'А в първия ден на седмицата много рано сутринта, те дойдоха на гроба, като носеха благоуханните масла, които бяха приготвили.', 'Ще бъде ли добре да ви изпита Той?', 'След това Яков каза на Лаван: Дай жена ми, защото дойде време да вляза при нея.', 'А посветените дарове бяха шестстотин говеда и три хиляди овце.', 'Кога ще се събудя за да продължа да го потърся пак?', 'Изнемогвам от викането си гърлото ми е пресъхнало, очите ми чезнат, докато чакам, своя Бог.', 'Това са родовете на Мерарий.', 'На следващия ден едно голямо множество, което беше дошло на празника, като чуха, че Иисус идвал в Ерусалим, взеха палмови клони и излязоха да Го посрещнат, викайки Осанна.', 'И той каза: Имам нещо да ти кажа.', 'Ако някой, който е престъпил закона на Мойсей умира безпощадно при думата на двама или трима свидетели, то колко по-тежко наказание мислите ще заслужи онзи, който е потъпкал Божия Син, и е счел за просто нещо кръвта на завета с която е бил осветен и е оскърбил Духа на благодатта.', 'Върни се, сине мой Давиде, защото няма вече да ти сторя зло, понеже днес животът ми беше скъпоценен пред очите ти!', 'Ще дойдат големци от Египет Етиопия бързо ще протегне ръцете си към Бога.', 'Затова хората Му се боят и Той не гледа на никого от мъдрите по сърце.', 'И Го следваше голямо множество от народ и жени, които плачеха за Него.', 'Ето ви семе засейте земята.', 'И Давид дойде във Ваал-Ферасим и Давид ги разби там, и каза: ГОСПОД разсече пред мен, враговете ми, както водите правят пролом.', 'Кадилниците на тези мъже, които съгрешиха против живота си, нека ги направят на плочи за обковаване на олтара, защото те ги принесоха пред ГОСПОДА и затова са свети и те ще бъдат за знамение на израилевите синове.', 'И когато фараонът отказваше да ни пусне ГОСПОД уби всяко първородно в египетската земя от първородно на човек до първородно на животно, затова жертвам на ГОСПОДА, всяко първородно, което е мъжко, а всеки първороден от синовете си изкупувам.', 'А без вяра не е възможно да се угоди на Бога, защото който идва при Бога, трябва да вярва, че Той съществува и че възнаграждава тези, които Го търсят.', 'И докато още говореше с тях, ето, пратеникът слезе при него и каза: Ето, това зло е от ГОСПОДА.', 'А вие сами ли ще продадете братята си?']\n"
     ]
    }
   ],
   "source": [
    "crf = rs.best_estimator_\n",
    "print('best params:', rs.best_params_)\n",
    "print('best CV score:', rs.best_score_)\n",
    "\n",
    "crf = rs.best_estimator_\n",
    "y_pred = crf.predict(X_dev)\n",
    "\n",
    "print(metrics.flat_classification_report(y_dev, y_pred, labels=labels, digits=3))\n",
    "punctuated_sentences = punctuate(X_dev, y_pred)\n",
    "print(punctuated_sentences[:100])"
   ]
  },
  {
   "cell_type": "code",
   "execution_count": 38,
   "id": "2141412b",
   "metadata": {},
   "outputs": [
    {
     "name": "stdout",
     "output_type": "stream",
     "text": [
      "Fitting 3 folds for each of 50 candidates, totalling 150 fits\n"
     ]
    },
    {
     "name": "stderr",
     "output_type": "stream",
     "text": [
      "/home/mariya/anaconda3/envs/masters/lib/python3.6/site-packages/sklearn/base.py:213: FutureWarning: From version 0.24, get_params will raise an AttributeError if a parameter cannot be retrieved as an instance attribute. Previously it would return None.\n",
      "  FutureWarning)\n",
      "[Parallel(n_jobs=-1)]: Using backend LokyBackend with 8 concurrent workers.\n",
      "[Parallel(n_jobs=-1)]: Done  34 tasks      | elapsed: 10.1min\n",
      "[Parallel(n_jobs=-1)]: Done 150 out of 150 | elapsed: 44.3min finished\n"
     ]
    },
    {
     "name": "stdout",
     "output_type": "stream",
     "text": [
      "CPU times: user 44min 20s, sys: 19.9 s, total: 44min 40s\n",
      "Wall time: 45min 38s\n"
     ]
    }
   ],
   "source": [
    "%%time\n",
    "# use the same metric for evaluation\n",
    "f1_scorer = make_scorer(metrics.flat_f1_score,\n",
    "                        average='weighted', labels=labels)\n",
    "\n",
    "# search\n",
    "rs = RandomizedSearchCV(crf, params_space,\n",
    "                        cv=3,\n",
    "                        verbose=1,\n",
    "                        n_jobs=-1,\n",
    "                        n_iter=50,\n",
    "                        scoring=f1_scorer)\n",
    "rs.fit(X_train[:5000], y_train[:5000])"
   ]
  },
  {
   "cell_type": "code",
   "execution_count": 39,
   "id": "eab56145",
   "metadata": {},
   "outputs": [
    {
     "name": "stdout",
     "output_type": "stream",
     "text": [
      "best params: {'c1': 0.6107718063593071, 'c2': 0.018728827768043445, 'delta': 1.0572740284119278e-05, 'epsilon': 2.1145487936128027e-05, 'num_memories': 8, 'period': 12}\n",
      "best CV score: 0.698636789224719\n"
     ]
    },
    {
     "name": "stderr",
     "output_type": "stream",
     "text": [
      "/home/mariya/anaconda3/envs/masters/lib/python3.6/site-packages/sklearn/utils/validation.py:70: FutureWarning: Pass labels=[',', '(', ')', '\"', '[', ']', ';', '.', '?', '!', ':', '-', '...'] as keyword args. From version 0.25 passing these as positional arguments will result in an error\n",
      "  FutureWarning)\n",
      "/home/mariya/anaconda3/envs/masters/lib/python3.6/site-packages/sklearn/metrics/_classification.py:1221: UndefinedMetricWarning: Precision and F-score are ill-defined and being set to 0.0 in labels with no predicted samples. Use `zero_division` parameter to control this behavior.\n",
      "  _warn_prf(average, modifier, msg_start, len(result))\n"
     ]
    },
    {
     "name": "stdout",
     "output_type": "stream",
     "text": [
      "              precision    recall  f1-score   support\n",
      "\n",
      "           ,      0.581     0.614     0.597     18592\n",
      "           (      0.000     0.000     0.000      1656\n",
      "           )      0.000     0.000     0.000      1001\n",
      "           \"      0.000     0.000     0.000      1596\n",
      "           [      0.000     0.000     0.000        45\n",
      "           ]      0.000     0.000     0.000        43\n",
      "           ;      0.164     0.047     0.073       622\n",
      "           .      0.897     0.963     0.929     11401\n",
      "           ?      0.655     0.833     0.734       443\n",
      "           !      0.298     0.184     0.228       347\n",
      "           :      0.479     0.729     0.578       923\n",
      "           -      0.173     0.026     0.045       882\n",
      "         ...      0.000     0.000     0.000        61\n",
      "\n",
      "   micro avg      0.685     0.626     0.655     37612\n",
      "   macro avg      0.250     0.261     0.245     37612\n",
      "weighted avg      0.588     0.626     0.604     37612\n",
      "\n",
      "['Но синовете им не умъртви, защото постъпи според писаното в закона в книгата на Мойсей, където ГОСПОД заповяда и каза: Бащите да не умират заради синовете и синовете да не умират заради бащите, а всеки да умира за собствения си грях.', 'Но когато ти говоря ще отворя устата ти и ти им кажи: Така казва Господ БОГ: Който слуша нека слуша; а който не слуша, нека не слуша, защото са бунтовен дом.', 'Защото кой е по-голям този, който седи на трапезата ли или онзи, който слугува?', 'А след това ще се насели, както в предишните дни, заявява ГОСПОД.', 'А Той беше на задната част; заспал на възглавница.', 'Ефрем е като птица славата му ще отлети.', 'И така той си отиде от него на известно разстояние.', 'Не бягам при халдейците.', 'И израилевите синове излязоха от египетската земя строени.', 'А когато Ахитофел видя, че съветът му не се изпълни оседла магарето си и стана и отиде у дома си в своя град, и нареди домашните си работи, и се обеси.', 'Ако умре някое животно от добитъка, който можете да ядете, който се допре до мършата му ще бъде нечист до вечерта.', 'Но помощник съответен на Адам, не се намери.', 'Който задържа жито, народът ще го проклина, а благословение ще почива на главата на този, който го продава.', 'Този човек беше праведен и благочестив и чакаше: Утехата на Израил и Светият Дух беше на него.', 'Всичко е възможно, за този, който вярва.', 'И видях височината на дома околовръст основите на страничните стаи бяха една цяла тръстика от шест големи лакътя.', 'После да вземеш тлъстината на овена, опашката и тлъстината, която покрива вътрешностите, булото на дроба двата бъбрека с тлъстината, която е около тях и дясното бедро, защото е овен на посвещение и един хляб една пита хляб месен с маслинено масло и една кора от коша на безквасните хлябове, които са пред ГОСПОДА.', 'И от дима излязоха скакалци по земята и им се даде власт като властта, която имат земните скорпиони.', 'Ти си, ГОСПОДИ, само Ти.', 'И ще предаде Израил заради греховете на Еровоам, с които съгреши и с които въведе Израил в грях.', 'Синове на Елифаз: Теман и Омар, Сефи и Готом, Кенез и Тамна, и Амалик.', 'А гладът в Самария беше страшен.', 'Затова казах в сърцето си, че и това е суета.', 'Насладих се на сянката му и седнах и плодът му, бе сладък в устата ми.', 'Защото така ми каза ГОСПОД: Както ръмжи над лова си, лъвът младият лъв, срещу когото се свикват множество овчари и не се плаши от гласа им, и не се отдръпва пред шума им; така ГОСПОД на Войнствата, ще слезе за да воюва за хълма Сион и за неговото възвишение.', 'Отче свети, опази ги в Името Си, което си Ми дал, за да бъдат едно, както сме и Ние.', 'И да правите разлика между чистите животни и нечистите и между нечистите птици и чистите и да не осквернявате себе си с животно, или с птица, или с каквото и да е, което пълзи по земята, което Аз съм ви отделил като нечисто.', 'И ГОСПОД укрепи моавския цар Еглон против Израил, защото вършиха зло пред ГОСПОДА.', 'И Духът ми каза да отида с тях, без да се двоумя.', 'В двадесет и седмата година на израилевия цар Еровоам се възцари Азария, синът на юдовия цар Амасия.', 'Защото вашата послушност е известна на всички, затова се радвам за вас.', 'Той изтегля всички с въдица влачи ги в мрежата си и ги събира в рибарската си мрежа, затова се радва и се весели.', 'Благословен да е ГОСПОД Бог Богът на Израил, който единствен върши чудеса.', 'И които влязоха мъжко и женско от всяка плът, влязоха, както Бог му беше заповядал, и ГОСПОД затвори след него.', 'Тогава царят каза на Божия човек: Ела с мен у дома и се подкрепи и ще ти дам подарък.', 'И ето, въпреки че е посадена ще успее ли?', 'От дома Тогарма даваха за стоките ти коне бойни коне и мулета.', 'Затова заповядай гробът да се пази здраво до третия ден да не би учениците Му да дойдат и да Го откраднат, и да кажат на народа Възкръсна от мъртвите.', 'И когато отвори петия печат видях под олтара душите на онези, които са били заклани за Божието слово и за свидетелството, което държаха.', 'И свещениците, които служат на ГОСПОДА са синовете на Аарон и левитите са в службата.', 'Той тича след тях с умолителни думи, но тях ги няма.', 'И измери дължината му четиридесет лакътя и ширината му- двадесет лакътя.', 'Затова, така казва ГОСПОД Бог на Войнствата, Израилевият Бог: Ето, Аз ще докарам върху Юда и върху всичките ерусалимски жители цялото зло, което говорих против тях, защото им говорих, но не слушаха и ги виках, но не отговаряха.', 'Сине мой, слушай наставлението на баща си и не отхвърляй закона на майка си, защото те ще бъдат благодатен венец за главата ти и огърлица за шията ти.', 'Тогава облакът започна да се издига от града в димен стълб и Вениамин се обърна, и ето, целият град се издигаше в пламъци към небето.', 'В онзи ден няма да се срамуваш от всичките си дела, с които си отстъпил от Мен, защото тогава ще отнема отсред теб, твоите, които горделиво тържествуват и ти, няма вече да се държиш надменно на светия Ми хълм.', 'А свинарите, като видяха станалото, избягаха и разказаха за това в града и в селата.', 'И Илий благослови Елкана и жена му и каза: ГОСПОД да ти даде потомство от тази жена вместо заетото, което беше посветено на ГОСПОДА.', 'И ако живее във вас: Духът на Този, който възкреси Иисус от мъртвите, то Този, който възкреси Христос от мъртвите ще съживи и вашите смъртни тела чрез Духа Си, който живее във вас.', 'А ГОСПОД си извърши, както беше говорил чрез мен и ГОСПОД откъсна царството от ръката ти, и го даде на ближния ти на Давид.', 'Даде и храна за магаретата им.', 'Книгата на видението на елкусеянина Наум.', 'И направи олтара за всеизгаряне от акациево дърво, пет лакътя беше дължината му и пет лакътя беше ширината му- четвъртит и три лакътя беше височината му.', 'Те ми казаха: Направи ни богове, които да ходят пред нас, защото на този Мойсей човека, който ни изведе от египетската земя не знаем какво му стана.', 'Тогава Мардохей каза да отговорят на Естир: Не мисли в себе си, че от всичките юдеи само ти ще се избавиш в царския дом.', 'Но аз не бих познал греха освен чрез закона, защото не бих знаел пожелание, ако законът не беше казал: Не пожелавай.', 'Тогава народът Му си спомни за древните дни на Мойсей: Къде е Онзи, който ги изведе от морето с пастирите на стадото Си?', 'И три пъти в годината Соломон принасяше всеизгаряния и примирителни жертви върху олтара, който построи на ГОСПОДА, и кадеше върху олтара, който беше пред ГОСПОДА.', 'И след като им поставиха старейшини във всяка църква и се помолиха с пост ги препоръчаха на Господа, в когото бяха повярвали.', 'С нея, Той подейства в Христос, като Го възкреси от мъртвите и Го, сложи да седне от дясната Си страна на небесата далеч над всяко началство и власт и сила и господство и всяко име с което се наименуват не само в този свят, но и в бъдещия.', 'Стрелец срещу стрелец да опъва лъка си и срещу онзи, който се надига в бронята си.', 'Затова онази нива е наречена и до днес Кръвна нива.', 'И така слугите на цар Езекия отидоха при Исая.', 'И никой свещеник да не пие вино, когато влиза във вътрешния двор.', 'И Охозия, падна през решетката на горната си стая в Самария и се разболя.', 'Защо не разбирате Моето говорене?', 'А Лаван в отговор каза на Яков: Тези дъщери са мои дъщери и синовете са мои синове и стадата са мои стада.', 'А чуждият, който се приближи да се умъртви.', 'И двамата сина на Илий, Офний и Финеес бяха там с ковчега на Божия завет.', 'Иисус му каза: Лисиците си имат леговища и небесните птици гнезда, а Човешкият Син няма къде глава да подслони?', 'От кръвта на убитите от тлъстината на силните, лъкът на Йонатан, не се обръщаше назад, и мечът на Саул, не се връщаше празен.', 'Станах за присмех на целия си народ и за тяхна подигравателна песен цял ден.', 'Да учите на тях синовете си, като говорите за тях, когато седиш в къщата си, когато ходиш по пътя, когато лягаш и когато ставаш.', 'И ГОСПОД се разкая за злото, което беше казал, че ще направи на народа Си.', 'А Юда изпрати ярето чрез ръката на приятеля си одоламеца, за да вземе залога от ръката на жената, но той не я намери.', 'И царят заповяда и доведоха онези мъже, които бяха издали Даниил, и хвърлиха тях децата им и жените им в рова на лъвовете и още преди да стигнат до дъното на рова, лъвовете ги сграбчиха и строшиха всичките им кости.', 'И Йоав и народът, който беше с него настъпиха за битката против арамейците; и те побягнаха пред него.', 'И като го повикаха Тертил, започна да обвинява, като казваше: Понеже чрез теб честити, Феликсе се радваме на голямо спокойствие и понеже чрез твоята предвидливост има подобрения, за този народ, то ние с пълна благодарност винаги и навсякъде посрещаме това.', 'Защото Йоан казваше на Ирод: Не ти е позволено да имаш жената на брат си.', 'А в първия ден на седмицата много рано сутринта те дойдоха на гроба, като носеха благоуханните масла, които бяха приготвили.', 'Ще бъде ли добре да ви изпита Той?', 'След това Яков каза на Лаван: Дай жена ми, защото дойде време да вляза при нея.', 'А посветените дарове бяха шестстотин говеда и три хиляди овце.', 'Кога ще се събудя за да продължа да го потърся пак?', 'Изнемогвам от викането си гърлото ми е пресъхнало очите ми чезнат, докато чакам, своя Бог.', 'Това са родовете на Мерарий.', 'На следващия ден едно голямо множество, което беше дошло на празника, като чуха, че Иисус идвал в Ерусалим, взеха палмови клони и излязоха да Го посрещнат, викайки Осанна.', 'И той каза: Имам нещо да ти кажа.', 'Ако някой, който е престъпил закона на Мойсей умира безпощадно при думата на двама или трима свидетели, то колко по-тежко наказание, мислите ще заслужи онзи, който е потъпкал Божия Син, и е счел за просто нещо кръвта на завета, с която е бил осветен и е оскърбил Духа на благодатта.', 'Върни се, сине мой, Давиде, защото няма вече да ти сторя зло, понеже днес животът ми беше скъпоценен пред очите ти.', 'Ще дойдат големци от Египет Етиопия, бързо ще протегне ръцете си към Бога.', 'Затова хората Му се боят и Той не гледа на никого от мъдрите по сърце.', 'И Го следваше голямо множество от народ и жени, които плачеха за Него.', 'Ето ви семе засейте земята!', 'И Давид дойде във Ваал-Ферасим и Давид ги разби там, и каза: ГОСПОД разсече пред мен, враговете ми, както водите правят пролом.', 'Кадилниците на тези мъже, които съгрешиха против живота си, нека ги направят на плочи за обковаване на олтара, защото те ги принесоха пред ГОСПОДА и затова са свети; и те ще бъдат за знамение на израилевите синове.', 'И когато фараонът отказваше да ни пусне ГОСПОД уби всяко първородно в египетската земя от първородно на човек до първородно на животно, затова жертвам на ГОСПОДА, всяко първородно, което е мъжко, а всеки първороден от синовете си изкупувам.', 'А без вяра не е възможно да се угоди на Бога, защото който идва при Бога, трябва да вярва, че Той съществува и че възнаграждава тези, които Го търсят.', 'И докато още говореше с тях, ето, пратеникът слезе при него и каза: Ето, това зло е от ГОСПОДА.', 'А вие сами ли ще продадете братята си?']\n"
     ]
    }
   ],
   "source": [
    "crf = rs.best_estimator_\n",
    "print('best params:', rs.best_params_)\n",
    "print('best CV score:', rs.best_score_)\n",
    "\n",
    "crf = rs.best_estimator_\n",
    "y_pred = crf.predict(X_dev)\n",
    "\n",
    "print(metrics.flat_classification_report(y_dev, y_pred, labels=labels, digits=3))\n",
    "punctuated_sentences = punctuate(X_dev, y_pred)\n",
    "print(punctuated_sentences[:100])"
   ]
  },
  {
   "cell_type": "code",
   "execution_count": 46,
   "id": "1fed7748",
   "metadata": {},
   "outputs": [
    {
     "name": "stdout",
     "output_type": "stream",
     "text": [
      "CPU times: user 2.13 ms, sys: 0 ns, total: 2.13 ms\n",
      "Wall time: 2.12 ms\n"
     ]
    }
   ],
   "source": [
    "%%time\n",
    "# define fixed parameters and parameters to search\n",
    "crf = sklearn_crfsuite.CRF(\n",
    "    algorithm='lbfgs',\n",
    "    max_iterations=100,\n",
    "    all_possible_transitions=True,\n",
    "    linesearch='Backtracking'\n",
    "    \n",
    ")\n",
    "params_space = {\n",
    "    'c1': scipy.stats.expon(scale=0.5),\n",
    "    'c2': scipy.stats.expon(scale=0.05),\n",
    "#     'all_possible_transitions': [True, False],\n",
    "#     'linesearch': ['MoreThuente', 'Backtracking', 'StrongBacktracking'],\n",
    "    'num_memories': [4, 6, 8],\n",
    "    'period': [8, 10, 12],\n",
    "    'epsilon': scipy.stats.loguniform(1e-6, 1e-4),\n",
    "    'delta': scipy.stats.loguniform(1e-6, 1e-4)\n",
    "}"
   ]
  },
  {
   "cell_type": "code",
   "execution_count": 47,
   "id": "4e053890",
   "metadata": {},
   "outputs": [
    {
     "name": "stdout",
     "output_type": "stream",
     "text": [
      "Fitting 3 folds for each of 50 candidates, totalling 150 fits\n"
     ]
    },
    {
     "name": "stderr",
     "output_type": "stream",
     "text": [
      "/home/mariya/anaconda3/envs/masters/lib/python3.6/site-packages/sklearn/base.py:213: FutureWarning: From version 0.24, get_params will raise an AttributeError if a parameter cannot be retrieved as an instance attribute. Previously it would return None.\n",
      "  FutureWarning)\n",
      "[Parallel(n_jobs=-1)]: Using backend LokyBackend with 8 concurrent workers.\n",
      "[Parallel(n_jobs=-1)]: Done  34 tasks      | elapsed: 10.1min\n",
      "[Parallel(n_jobs=-1)]: Done 150 out of 150 | elapsed: 43.7min finished\n"
     ]
    },
    {
     "name": "stdout",
     "output_type": "stream",
     "text": [
      "CPU times: user 44min, sys: 17.4 s, total: 44min 17s\n",
      "Wall time: 45min 10s\n"
     ]
    }
   ],
   "source": [
    "%%time\n",
    "# use the same metric for evaluation\n",
    "f1_scorer = make_scorer(metrics.flat_f1_score,\n",
    "                        average='weighted', labels=labels)\n",
    "\n",
    "# search\n",
    "rs = RandomizedSearchCV(crf, params_space,\n",
    "                        cv=3,\n",
    "                        verbose=1,\n",
    "                        n_jobs=-1,\n",
    "                        n_iter=50,\n",
    "                        scoring=f1_scorer)\n",
    "rs.fit(X_train[:5000], y_train[:5000])"
   ]
  },
  {
   "cell_type": "code",
   "execution_count": 48,
   "id": "0ddface8",
   "metadata": {},
   "outputs": [
    {
     "name": "stdout",
     "output_type": "stream",
     "text": [
      "best params: {'c1': 0.5323290430655947, 'c2': 0.09804313996988119, 'delta': 9.061729324618556e-06, 'epsilon': 3.2230632072995785e-05, 'num_memories': 8, 'period': 10}\n",
      "best CV score: 0.6995873649879396\n"
     ]
    },
    {
     "name": "stderr",
     "output_type": "stream",
     "text": [
      "/home/mariya/anaconda3/envs/masters/lib/python3.6/site-packages/sklearn/utils/validation.py:70: FutureWarning: Pass labels=[',', '(', ')', '\"', '[', ']', ';', '.', '?', '!', ':', '-', '...'] as keyword args. From version 0.25 passing these as positional arguments will result in an error\n",
      "  FutureWarning)\n",
      "/home/mariya/anaconda3/envs/masters/lib/python3.6/site-packages/sklearn/metrics/_classification.py:1221: UndefinedMetricWarning: Precision and F-score are ill-defined and being set to 0.0 in labels with no predicted samples. Use `zero_division` parameter to control this behavior.\n",
      "  _warn_prf(average, modifier, msg_start, len(result))\n"
     ]
    },
    {
     "name": "stdout",
     "output_type": "stream",
     "text": [
      "              precision    recall  f1-score   support\n",
      "\n",
      "           ,      0.566     0.627     0.595     18592\n",
      "           (      0.000     0.000     0.000      1656\n",
      "           )      0.000     0.000     0.000      1001\n",
      "           \"      0.000     0.000     0.000      1596\n",
      "           [      0.000     0.000     0.000        45\n",
      "           ]      0.000     0.000     0.000        43\n",
      "           ;      0.162     0.040     0.064       622\n",
      "           .      0.897     0.965     0.930     11401\n",
      "           ?      0.643     0.849     0.732       443\n",
      "           !      0.339     0.176     0.231       347\n",
      "           :      0.487     0.728     0.584       923\n",
      "           -      0.219     0.028     0.050       882\n",
      "         ...      0.000     0.000     0.000        61\n",
      "\n",
      "   micro avg      0.675     0.633     0.654     37612\n",
      "   macro avg      0.255     0.263     0.245     37612\n",
      "weighted avg      0.582     0.633     0.603     37612\n",
      "\n",
      "['Но синовете им не умъртви, защото постъпи според писаното в закона в книгата на Мойсей, където ГОСПОД заповяда и каза: Бащите да не умират заради синовете и синовете да не умират заради бащите, а всеки да умира за собствения си грях.', 'Но когато ти говоря, ще отворя устата ти и ти им кажи: Така казва Господ БОГ: Който слуша, нека слуша; а който не слуша, нека не слуша, защото са бунтовен дом.', 'Защото кой е по-голям този, който седи на трапезата ли или онзи, който слугува?', 'А след това ще се насели, както в предишните дни, заявява ГОСПОД.', 'А Той беше на задната част, заспал на възглавница.', 'Ефрем е като птица славата му ще отлети.', 'И така той си отиде от него на известно разстояние.', 'Не бягам при халдейците.', 'И израилевите синове излязоха от египетската земя строени.', 'А когато Ахитофел видя, че съветът му не се изпълни оседла магарето си и стана и отиде у дома си в своя град, и нареди домашните си работи, и се обеси.', 'Ако умре някое животно от добитъка, който можете да ядете, който се допре до мършата му ще бъде нечист до вечерта.', 'Но помощник съответен на Адам, не се намери.', 'Който задържа жито, народът ще го проклина, а благословение ще почива на главата на този, който го продава.', 'Този човек беше праведен и благочестив и чакаше: Утехата на Израил и Светият Дух беше на него.', 'Всичко е възможно за този, който вярва.', 'И видях височината на дома околовръст основите на страничните стаи бяха една цяла тръстика от шест големи лакътя.', 'После да вземеш тлъстината на овена, опашката и тлъстината, която покрива вътрешностите, булото на дроба двата бъбрека с тлъстината, която е около тях и дясното бедро, защото е овен на посвещение и един хляб една пита хляб месен с маслинено масло и една кора от коша на безквасните хлябове, които са пред ГОСПОДА.', 'И от дима излязоха скакалци по земята и им се даде власт като властта, която имат земните скорпиони.', 'Ти си, ГОСПОДИ, само Ти!', 'И ще предаде Израил заради греховете на Еровоам, с които съгреши и с които въведе Израил в грях.', 'Синове на Елифаз: Теман и Омар, Сефи и Готом, Кенез и Тамна, и Амалик.', 'А гладът в Самария беше страшен.', 'Затова казах в сърцето си, че и това е суета.', 'Насладих се на сянката му и седнах и плодът му бе сладък в устата ми.', 'Защото така ми каза ГОСПОД: Както ръмжи над лова си, лъвът младият лъв, срещу когото се свикват множество овчари и не се плаши от гласа им, и не се отдръпва пред шума им; така ГОСПОД на Войнствата, ще слезе за да воюва за хълма Сион и за неговото възвишение.', 'Отче свети, опази ги в Името Си, което си Ми дал, за да бъдат едно, както сме и Ние.', 'И да правите разлика между чистите животни и нечистите и между нечистите птици и чистите и да не осквернявате себе си с животно, или с птица, или с каквото и да е, което пълзи по земята, което Аз съм ви отделил като нечисто.', 'И ГОСПОД укрепи моавския цар Еглон против Израил, защото вършиха зло пред ГОСПОДА.', 'И Духът ми каза да отида с тях, без да се двоумя.', 'В двадесет и седмата година на израилевия цар Еровоам се възцари Азария, синът на юдовия цар Амасия.', 'Защото вашата послушност е известна на всички, затова се радвам за вас.', 'Той изтегля всички с въдица влачи ги в мрежата си и ги събира в рибарската си мрежа, затова се радва и се весели.', 'Благословен да е ГОСПОД Бог Богът на Израил, който единствен върши чудеса.', 'И които влязоха мъжко и женско от всяка плът, влязоха, както Бог му беше заповядал, и ГОСПОД затвори след него.', 'Тогава царят каза на Божия човек: Ела с мен у дома и се подкрепи и ще ти дам подарък.', 'И ето, въпреки че е посадена ще успее ли?', 'От дома: Тогарма даваха за стоките ти коне бойни коне и мулета.', 'Затова заповядай гробът да се пази здраво до третия ден да не би учениците Му да дойдат и да Го откраднат, и да кажат на народа Възкръсна от мъртвите.', 'И когато отвори петия печат видях под олтара душите на онези, които са били заклани за Божието слово и за свидетелството, което държаха.', 'И свещениците, които служат на ГОСПОДА са синовете на Аарон и левитите са в службата.', 'Той тича след тях с умолителни думи, но тях ги няма.', 'И измери дължината му четиридесет лакътя и ширината му- двадесет лакътя.', 'Затова, така казва ГОСПОД, Бог на Войнствата, Израилевият Бог: Ето, Аз ще докарам върху Юда и върху всичките ерусалимски жители цялото зло, което говорих против тях, защото им говорих, но не слушаха и ги виках, но не отговаряха.', 'Сине мой, слушай наставлението на баща си и не отхвърляй закона на майка си, защото те ще бъдат благодатен венец за главата ти и огърлица за шията ти.', 'Тогава облакът започна да се издига от града в димен стълб и Вениамин се обърна, и ето, целият град се издигаше в пламъци към небето.', 'В онзи ден няма да се срамуваш от всичките си дела, с които си отстъпил от Мен, защото тогава ще отнема отсред теб, твоите, които горделиво тържествуват и ти, няма вече да се държиш надменно на светия Ми хълм.', 'А свинарите, като видяха станалото, избягаха и разказаха за това в града и в селата.', 'И Илий благослови Елкана и жена му и каза: ГОСПОД да ти даде потомство от тази жена вместо заетото, което беше посветено на ГОСПОДА.', 'И ако живее във вас: Духът на Този, който възкреси Иисус от мъртвите, то Този, който възкреси Христос от мъртвите ще съживи и вашите смъртни тела чрез Духа Си, който живее във вас.', 'А ГОСПОД си извърши, както беше говорил чрез мен и ГОСПОД откъсна царството от ръката ти, и го даде на ближния ти на Давид.', 'Даде и храна за магаретата им.', 'Книгата на видението на елкусеянина Наум.', 'И направи олтара за всеизгаряне от акациево дърво, пет лакътя беше дължината му и пет лакътя беше ширината му- четвъртит и три лакътя беше височината му.', 'Те ми казаха: Направи ни богове, които да ходят пред нас, защото на този Мойсей човека, който ни изведе от египетската земя не знаем какво му стана.', 'Тогава Мардохей каза да отговорят на Естир: Не мисли в себе си, че от всичките юдеи само ти ще се избавиш в царския дом.', 'Но аз не бих познал греха освен чрез закона, защото не бих знаел пожелание, ако законът не беше казал: Не пожелавай.', 'Тогава народът Му си спомни за древните дни на Мойсей: Къде е Онзи, който ги изведе от морето с пастирите на стадото Си?', 'И три пъти в годината Соломон принасяше всеизгаряния и примирителни жертви върху олтара, който построи на ГОСПОДА и кадеше върху олтара, който беше пред ГОСПОДА.', 'И след като им поставиха старейшини във всяка църква и се помолиха с пост ги препоръчаха на Господа, в когото бяха повярвали.', 'С нея Той подейства в Христос, като Го възкреси от мъртвите и Го сложи да седне от дясната Си страна на небесата далеч над всяко началство и власт и сила и господство и всяко име с което се наименуват не само в този свят, но и в бъдещия.', 'Стрелец срещу стрелец да опъва лъка си и срещу онзи, който се надига в бронята си.', 'Затова онази нива е наречена и до днес Кръвна нива.', 'И така слугите на цар Езекия отидоха при Исая.', 'И никой свещеник да не пие вино, когато влиза във вътрешния двор.', 'И Охозия, падна през решетката на горната си стая в Самария и се разболя.', 'Защо не разбирате Моето говорене?', 'А Лаван в отговор каза на Яков: Тези дъщери са мои дъщери и синовете са мои синове и стадата са мои стада.', 'А чуждият, който се приближи да се умъртви.', 'И двамата сина на Илий, Офний и Финеес бяха там с ковчега на Божия завет.', 'Иисус му каза: Лисиците си имат леговища и небесните птици гнезда, а Човешкият Син няма къде глава да подслони?', 'От кръвта на убитите от тлъстината на силните лъкът на Йонатан, не се обръщаше назад и мечът на Саул, не се връщаше празен.', 'Станах за присмех на целия си народ и за тяхна подигравателна песен цял ден.', 'Да учите на тях синовете си, като говорите за тях, когато седиш в къщата си, когато ходиш по пътя, когато лягаш и когато ставаш.', 'И ГОСПОД се разкая за злото, което беше казал, че ще направи на народа Си.', 'А Юда изпрати ярето чрез ръката на приятеля си одоламеца, за да вземе залога от ръката на жената, но той не я намери.', 'И царят заповяда и доведоха онези мъже, които бяха издали Даниил, и хвърлиха тях децата им и жените им в рова на лъвовете и още преди да стигнат до дъното на рова, лъвовете ги сграбчиха и строшиха всичките им кости.', 'И Йоав и народът, който беше с него настъпиха за битката против арамейците; и те побягнаха пред него.', 'И като го повикаха Тертил, започна да обвинява, като казваше: Понеже чрез теб честити, Феликсе се радваме на голямо спокойствие и понеже чрез твоята предвидливост има подобрения, за този народ, то ние с пълна благодарност винаги и навсякъде посрещаме това.', 'Защото Йоан казваше на Ирод: Не ти е позволено да имаш жената на брат си.', 'А в първия ден на седмицата много рано сутринта, те дойдоха на гроба, като носеха благоуханните масла, които бяха приготвили.', 'Ще бъде ли добре да ви изпита Той?', 'След това Яков каза на Лаван: Дай жена ми, защото дойде време да вляза при нея.', 'А посветените дарове бяха шестстотин говеда и три хиляди овце.', 'Кога ще се събудя за да продължа да го потърся пак?', 'Изнемогвам от викането си гърлото ми е пресъхнало очите ми чезнат, докато чакам, своя Бог.', 'Това са родовете на Мерарий.', 'На следващия ден едно голямо множество, което беше дошло на празника, като чуха, че Иисус идвал в Ерусалим, взеха палмови клони и излязоха да Го посрещнат, викайки Осанна.', 'И той каза: Имам нещо да ти кажа.', 'Ако някой, който е престъпил закона на Мойсей умира безпощадно при думата на двама или трима свидетели, то колко по-тежко наказание, мислите ще заслужи онзи, който е потъпкал Божия Син, и е счел за просто нещо, кръвта на завета, с която е бил осветен и е оскърбил Духа на благодатта.', 'Върни се, сине мой, Давиде, защото няма вече да ти сторя зло, понеже днес животът ми беше скъпоценен пред очите ти.', 'Ще дойдат големци от Египет, Етиопия бързо ще протегне ръцете си към Бога.', 'Затова хората Му се боят и Той не гледа на никого от мъдрите по сърце.', 'И Го следваше голямо множество от народ и жени, които плачеха за Него.', 'Ето ви семе засейте земята.', 'И Давид дойде във Ваал-Ферасим и Давид ги разби там, и каза: ГОСПОД разсече пред мен, враговете ми, както водите правят пролом.', 'Кадилниците на тези мъже, които съгрешиха против живота си, нека ги направят на плочи за обковаване на олтара, защото те ги принесоха пред ГОСПОДА и затова са свети; и те ще бъдат за знамение на израилевите синове.', 'И когато фараонът отказваше да ни пусне ГОСПОД уби всяко първородно в египетската земя от първородно на човек до първородно на животно, затова жертвам на ГОСПОДА, всяко първородно, което е мъжко, а всеки първороден от синовете си изкупувам.', 'А без вяра, не е възможно да се угоди на Бога, защото който идва при Бога, трябва да вярва, че Той съществува и че възнаграждава тези, които Го търсят.', 'И докато още говореше с тях, ето, пратеникът слезе при него и каза: Ето, това зло е от ГОСПОДА.', 'А вие сами ли ще продадете братята си?']\n"
     ]
    }
   ],
   "source": [
    "crf = rs.best_estimator_\n",
    "print('best params:', rs.best_params_)\n",
    "print('best CV score:', rs.best_score_)\n",
    "\n",
    "crf = rs.best_estimator_\n",
    "y_pred = crf.predict(X_dev)\n",
    "\n",
    "print(metrics.flat_classification_report(y_dev, y_pred, labels=labels, digits=3))\n",
    "punctuated_sentences = punctuate(X_dev, y_pred)\n",
    "print(punctuated_sentences[:100])"
   ]
  },
  {
   "cell_type": "code",
   "execution_count": 49,
   "id": "d15cb23c",
   "metadata": {},
   "outputs": [
    {
     "name": "stdout",
     "output_type": "stream",
     "text": [
      "CPU times: user 3.62 ms, sys: 0 ns, total: 3.62 ms\n",
      "Wall time: 2.92 ms\n"
     ]
    }
   ],
   "source": [
    "%%time\n",
    "# define fixed parameters and parameters to search\n",
    "crf = sklearn_crfsuite.CRF(\n",
    "    algorithm='lbfgs',\n",
    "    max_iterations=100,\n",
    "    all_possible_transitions=True,\n",
    "    linesearch='StrongBacktracking'\n",
    "    \n",
    ")\n",
    "params_space = {\n",
    "    'c1': scipy.stats.expon(scale=0.5),\n",
    "    'c2': scipy.stats.expon(scale=0.05),\n",
    "#     'all_possible_transitions': [True, False],\n",
    "#     'linesearch': ['MoreThuente', 'Backtracking', 'StrongBacktracking'],\n",
    "    'num_memories': [4, 6, 8],\n",
    "    'period': [8, 10, 12],\n",
    "    'epsilon': scipy.stats.loguniform(1e-6, 1e-4),\n",
    "    'delta': scipy.stats.loguniform(1e-6, 1e-4)\n",
    "}"
   ]
  },
  {
   "cell_type": "code",
   "execution_count": 50,
   "id": "771dd995",
   "metadata": {},
   "outputs": [
    {
     "name": "stdout",
     "output_type": "stream",
     "text": [
      "Fitting 3 folds for each of 50 candidates, totalling 150 fits\n"
     ]
    },
    {
     "name": "stderr",
     "output_type": "stream",
     "text": [
      "/home/mariya/anaconda3/envs/masters/lib/python3.6/site-packages/sklearn/base.py:213: FutureWarning: From version 0.24, get_params will raise an AttributeError if a parameter cannot be retrieved as an instance attribute. Previously it would return None.\n",
      "  FutureWarning)\n",
      "[Parallel(n_jobs=-1)]: Using backend LokyBackend with 8 concurrent workers.\n",
      "[Parallel(n_jobs=-1)]: Done  34 tasks      | elapsed: 10.1min\n",
      "[Parallel(n_jobs=-1)]: Done 150 out of 150 | elapsed: 41.7min finished\n"
     ]
    },
    {
     "name": "stdout",
     "output_type": "stream",
     "text": [
      "CPU times: user 42min, sys: 14.9 s, total: 42min 15s\n",
      "Wall time: 43min 9s\n"
     ]
    }
   ],
   "source": [
    "%%time\n",
    "# use the same metric for evaluation\n",
    "f1_scorer = make_scorer(metrics.flat_f1_score,\n",
    "                        average='weighted', labels=labels)\n",
    "\n",
    "# search\n",
    "rs = RandomizedSearchCV(crf, params_space,\n",
    "                        cv=3,\n",
    "                        verbose=1,\n",
    "                        n_jobs=-1,\n",
    "                        n_iter=50,\n",
    "                        scoring=f1_scorer)\n",
    "rs.fit(X_train[:5000], y_train[:5000])"
   ]
  },
  {
   "cell_type": "code",
   "execution_count": 51,
   "id": "159db2bd",
   "metadata": {},
   "outputs": [
    {
     "name": "stdout",
     "output_type": "stream",
     "text": [
      "best params: {'c1': 0.5627689794744889, 'c2': 0.08851643184326857, 'delta': 1.756419310822094e-05, 'epsilon': 2.408864673024824e-06, 'num_memories': 8, 'period': 12}\n",
      "best CV score: 0.6989675133908441\n"
     ]
    },
    {
     "name": "stderr",
     "output_type": "stream",
     "text": [
      "/home/mariya/anaconda3/envs/masters/lib/python3.6/site-packages/sklearn/utils/validation.py:70: FutureWarning: Pass labels=[',', '(', ')', '\"', '[', ']', ';', '.', '?', '!', ':', '-', '...'] as keyword args. From version 0.25 passing these as positional arguments will result in an error\n",
      "  FutureWarning)\n",
      "/home/mariya/anaconda3/envs/masters/lib/python3.6/site-packages/sklearn/metrics/_classification.py:1221: UndefinedMetricWarning: Precision and F-score are ill-defined and being set to 0.0 in labels with no predicted samples. Use `zero_division` parameter to control this behavior.\n",
      "  _warn_prf(average, modifier, msg_start, len(result))\n"
     ]
    },
    {
     "name": "stdout",
     "output_type": "stream",
     "text": [
      "              precision    recall  f1-score   support\n",
      "\n",
      "           ,      0.582     0.614     0.598     18592\n",
      "           (      0.000     0.000     0.000      1656\n",
      "           )      0.000     0.000     0.000      1001\n",
      "           \"      0.000     0.000     0.000      1596\n",
      "           [      0.000     0.000     0.000        45\n",
      "           ]      0.000     0.000     0.000        43\n",
      "           ;      0.168     0.039     0.063       622\n",
      "           .      0.898     0.964     0.929     11401\n",
      "           ?      0.632     0.862     0.730       443\n",
      "           !      0.326     0.170     0.223       347\n",
      "           :      0.513     0.718     0.599       923\n",
      "           -      0.208     0.028     0.050       882\n",
      "         ...      0.000     0.000     0.000        61\n",
      "\n",
      "   micro avg      0.689     0.626     0.656     37612\n",
      "   macro avg      0.256     0.261     0.246     37612\n",
      "weighted avg      0.591     0.626     0.605     37612\n",
      "\n",
      "['Но синовете им не умъртви, защото постъпи според писаното в закона в книгата на Мойсей, където ГОСПОД заповяда и каза: Бащите да не умират заради синовете и синовете да не умират заради бащите, а всеки да умира за собствения си грях.', 'Но когато ти говоря ще отворя устата ти и ти им кажи: Така казва Господ БОГ: Който слуша, нека слуша; а който не слуша, нека не слуша, защото са бунтовен дом.', 'Защото кой е по-голям този, който седи на трапезата ли или онзи, който слугува?', 'А след това ще се насели, както в предишните дни, заявява ГОСПОД.', 'А Той беше на задната част, заспал на възглавница.', 'Ефрем е като птица славата му ще отлети.', 'И така той си отиде от него на известно разстояние.', 'Не бягам при халдейците.', 'И израилевите синове излязоха от египетската земя строени.', 'А когато Ахитофел видя, че съветът му не се изпълни оседла магарето си и стана и отиде у дома си в своя град, и нареди домашните си работи, и се обеси.', 'Ако умре някое животно от добитъка, който можете да ядете, който се допре до мършата му ще бъде нечист до вечерта.', 'Но помощник съответен на Адам, не се намери.', 'Който задържа жито, народът ще го проклина, а благословение ще почива на главата на този, който го продава.', 'Този човек беше праведен и благочестив и чакаше: Утехата на Израил и Светият Дух беше на него.', 'Всичко е възможно за този, който вярва.', 'И видях височината на дома околовръст основите на страничните стаи бяха една цяла тръстика от шест големи лакътя.', 'После да вземеш тлъстината на овена, опашката и тлъстината, която покрива вътрешностите, булото на дроба двата бъбрека с тлъстината, която е около тях и дясното бедро, защото е овен на посвещение и един хляб една пита хляб месен с маслинено масло и една кора от коша на безквасните хлябове, които са пред ГОСПОДА.', 'И от дима излязоха скакалци по земята и им се даде власт като властта, която имат земните скорпиони.', 'Ти си, ГОСПОДИ, само Ти.', 'И ще предаде Израил заради греховете на Еровоам, с които съгреши и с които въведе Израил в грях.', 'Синове на Елифаз: Теман и Омар, Сефи и Готом, Кенез и Тамна, и Амалик.', 'А гладът в Самария беше страшен.', 'Затова казах в сърцето си, че и това е суета.', 'Насладих се на сянката му и седнах и плодът му бе сладък в устата ми.', 'Защото така ми каза ГОСПОД: Както ръмжи над лова си, лъвът младият лъв, срещу когото се свикват множество овчари и не се плаши от гласа им, и не се отдръпва пред шума им; така ГОСПОД на Войнствата, ще слезе за да воюва за хълма Сион и за неговото възвишение.', 'Отче свети, опази ги в Името Си, което си Ми дал, за да бъдат едно, както сме и Ние.', 'И да правите разлика между чистите животни и нечистите и между нечистите птици и чистите и да не осквернявате себе си с животно, или с птица, или с каквото и да е, което пълзи по земята, което Аз съм ви отделил като нечисто.', 'И ГОСПОД укрепи моавския цар Еглон против Израил, защото вършиха зло пред ГОСПОДА.', 'И Духът ми каза да отида с тях, без да се двоумя.', 'В двадесет и седмата година на израилевия цар Еровоам се възцари Азария, синът на юдовия цар Амасия.', 'Защото вашата послушност е известна на всички, затова се радвам за вас.', 'Той изтегля всички с въдица влачи ги в мрежата си и ги събира в рибарската си мрежа, затова се радва и се весели.', 'Благословен да е ГОСПОД Бог Богът на Израил, който единствен върши чудеса.', 'И които влязоха мъжко и женско от всяка плът, влязоха, както Бог му беше заповядал, и ГОСПОД затвори след него.', 'Тогава царят каза на Божия човек: Ела с мен у дома и се подкрепи и ще ти дам подарък.', 'И ето, въпреки че е посадена ще успее ли?', 'От дома: Тогарма даваха за стоките ти коне бойни коне и мулета.', 'Затова заповядай гробът да се пази здраво до третия ден да не би учениците Му да дойдат и да Го откраднат, и да кажат на народа Възкръсна от мъртвите.', 'И когато отвори петия печат видях под олтара душите на онези, които са били заклани за Божието слово и за свидетелството, което държаха.', 'И свещениците, които служат на ГОСПОДА са синовете на Аарон и левитите са в службата.', 'Той тича след тях с умолителни думи, но тях ги няма.', 'И измери дължината му четиридесет лакътя и ширината му- двадесет лакътя.', 'Затова, така казва ГОСПОД Бог на Войнствата, Израилевият Бог: Ето, Аз ще докарам върху Юда и върху всичките ерусалимски жители цялото зло, което говорих против тях, защото им говорих, но не слушаха и ги виках, но не отговаряха.', 'Сине мой, слушай наставлението на баща си и не отхвърляй закона на майка си, защото те ще бъдат благодатен венец за главата ти и огърлица за шията ти.', 'Тогава облакът започна да се издига от града в димен стълб и Вениамин се обърна, и ето, целият град се издигаше в пламъци към небето.', 'В онзи ден няма да се срамуваш от всичките си дела, с които си отстъпил от Мен, защото тогава ще отнема отсред теб, твоите, които горделиво тържествуват и ти, няма вече да се държиш надменно на светия Ми хълм.', 'А свинарите, като видяха станалото, избягаха и разказаха за това в града и в селата.', 'И Илий благослови Елкана и жена му и каза: ГОСПОД да ти даде потомство от тази жена вместо заетото, което беше посветено на ГОСПОДА.', 'И ако живее във вас: Духът на Този, който възкреси Иисус от мъртвите, то Този, който възкреси Христос от мъртвите ще съживи и вашите смъртни тела чрез Духа Си, който живее във вас.', 'А ГОСПОД си извърши, както беше говорил чрез мен и ГОСПОД откъсна царството от ръката ти, и го даде на ближния ти на Давид.', 'Даде и храна за магаретата им.', 'Книгата на видението на елкусеянина Наум.', 'И направи олтара за всеизгаряне от акациево дърво, пет лакътя беше дължината му и пет лакътя беше ширината му- четвъртит и три лакътя беше височината му.', 'Те ми казаха: Направи ни богове, които да ходят пред нас, защото на този Мойсей човека, който ни изведе от египетската земя не знаем какво му стана.', 'Тогава Мардохей каза да отговорят на Естир: Не мисли в себе си, че от всичките юдеи само ти ще се избавиш в царския дом.', 'Но аз не бих познал греха освен чрез закона, защото не бих знаел пожелание, ако законът не беше казал: Не пожелавай.', 'Тогава народът Му си спомни за древните дни на Мойсей: Къде е Онзи, който ги изведе от морето с пастирите на стадото Си?', 'И три пъти в годината Соломон принасяше всеизгаряния и примирителни жертви върху олтара, който построи на ГОСПОДА, и кадеше върху олтара, който беше пред ГОСПОДА.', 'И след като им поставиха старейшини във всяка църква и се помолиха с пост ги препоръчаха на Господа, в когото бяха повярвали.', 'С нея Той подейства в Христос, като Го възкреси от мъртвите и Го сложи да седне от дясната Си страна на небесата далеч над всяко началство и власт и сила и господство и всяко име с което се наименуват не само в този свят, но и в бъдещия.', 'Стрелец срещу стрелец да опъва лъка си и срещу онзи, който се надига в бронята си.', 'Затова онази нива е наречена и до днес Кръвна нива.', 'И така слугите на цар Езекия отидоха при Исая.', 'И никой свещеник да не пие вино, когато влиза във вътрешния двор.', 'И Охозия, падна през решетката на горната си стая в Самария и се разболя.', 'Защо не разбирате Моето говорене?', 'А Лаван в отговор каза на Яков: Тези дъщери са мои дъщери и синовете са мои синове и стадата са мои стада.', 'А чуждият, който се приближи да се умъртви.', 'И двамата сина на Илий, Офний и Финеес бяха там с ковчега на Божия завет.', 'Иисус му каза: Лисиците си имат леговища и небесните птици гнезда, а Човешкият Син няма къде глава да подслони?', 'От кръвта на убитите от тлъстината на силните лъкът на Йонатан, не се обръщаше назад и мечът на Саул, не се връщаше празен.', 'Станах за присмех на целия си народ и за тяхна подигравателна песен цял ден.', 'Да учите на тях синовете си, като говорите за тях, когато седиш в къщата си, когато ходиш по пътя, когато лягаш и когато ставаш.', 'И ГОСПОД се разкая за злото, което беше казал, че ще направи на народа Си.', 'А Юда изпрати ярето чрез ръката на приятеля си одоламеца, за да вземе залога от ръката на жената, но той не я намери.', 'И царят заповяда и доведоха онези мъже, които бяха издали Даниил, и хвърлиха тях децата им и жените им в рова на лъвовете и още преди да стигнат до дъното на рова, лъвовете ги сграбчиха и строшиха всичките им кости.', 'И Йоав и народът, който беше с него настъпиха за битката против арамейците; и те побягнаха пред него.', 'И като го повикаха Тертил, започна да обвинява, като казваше: Понеже чрез теб честити, Феликсе се радваме на голямо спокойствие и понеже чрез твоята предвидливост има подобрения за този народ, то ние с пълна благодарност винаги и навсякъде посрещаме това.', 'Защото Йоан казваше на Ирод: Не ти е позволено да имаш жената на брат си.', 'А в първия ден на седмицата много рано сутринта, те дойдоха на гроба, като носеха благоуханните масла, които бяха приготвили.', 'Ще бъде ли добре да ви изпита Той?', 'След това Яков каза на Лаван: Дай жена ми, защото дойде време да вляза при нея.', 'А посветените дарове бяха шестстотин говеда и три хиляди овце.', 'Кога ще се събудя за да продължа да го потърся пак?', 'Изнемогвам от викането си гърлото ми е пресъхнало очите ми чезнат, докато чакам, своя Бог.', 'Това са родовете на Мерарий.', 'На следващия ден едно голямо множество, което беше дошло на празника, като чуха, че Иисус идвал в Ерусалим взеха палмови клони и излязоха да Го посрещнат, викайки Осанна.', 'И той каза: Имам нещо да ти кажа.', 'Ако някой, който е престъпил закона на Мойсей умира безпощадно при думата на двама или трима свидетели, то колко по-тежко наказание, мислите ще заслужи онзи, който е потъпкал Божия Син, и е счел за просто нещо кръвта на завета, с която е бил осветен и е оскърбил Духа на благодатта.', 'Върни се, сине мой, Давиде, защото няма вече да ти сторя зло, понеже днес животът ми беше скъпоценен пред очите ти.', 'Ще дойдат големци от Египет, Етиопия бързо ще протегне ръцете си към Бога.', 'Затова хората Му се боят и Той не гледа на никого от мъдрите по сърце.', 'И Го следваше голямо множество от народ и жени, които плачеха за Него.', 'Ето ви семе засейте земята.', 'И Давид дойде във Ваал-Ферасим и Давид ги разби там и каза: ГОСПОД разсече пред мен, враговете ми, както водите правят пролом.', 'Кадилниците на тези мъже, които съгрешиха против живота си, нека ги направят на плочи за обковаване на олтара, защото те ги принесоха пред ГОСПОДА и затова са свети; и те ще бъдат за знамение на израилевите синове.', 'И когато фараонът отказваше да ни пусне ГОСПОД уби всяко първородно в египетската земя от първородно на човек до първородно на животно, затова жертвам на ГОСПОДА, всяко първородно, което е мъжко, а всеки първороден от синовете си изкупувам.', 'А без вяра не е възможно да се угоди на Бога, защото който идва при Бога, трябва да вярва, че Той съществува и че възнаграждава тези, които Го търсят.', 'И докато още говореше с тях, ето, пратеникът слезе при него и каза: Ето, това зло е от ГОСПОДА.', 'А вие сами ли ще продадете братята си?']\n"
     ]
    }
   ],
   "source": [
    "crf = rs.best_estimator_\n",
    "print('best params:', rs.best_params_)\n",
    "print('best CV score:', rs.best_score_)\n",
    "\n",
    "crf = rs.best_estimator_\n",
    "y_pred = crf.predict(X_dev)\n",
    "\n",
    "print(metrics.flat_classification_report(y_dev, y_pred, labels=labels, digits=3))\n",
    "punctuated_sentences = punctuate(X_dev, y_pred)\n",
    "print(punctuated_sentences[:100])"
   ]
  },
  {
   "cell_type": "code",
   "execution_count": 52,
   "id": "bf568bb7",
   "metadata": {},
   "outputs": [
    {
     "name": "stdout",
     "output_type": "stream",
     "text": [
      "CPU times: user 4.04 ms, sys: 0 ns, total: 4.04 ms\n",
      "Wall time: 3.99 ms\n"
     ]
    }
   ],
   "source": [
    "%%time\n",
    "# define fixed parameters and parameters to search\n",
    "crf = sklearn_crfsuite.CRF(\n",
    "    algorithm='lbfgs',\n",
    "    max_iterations=100,\n",
    "    all_possible_transitions=False,\n",
    "    linesearch='MoreThuente'\n",
    "    \n",
    ")\n",
    "params_space = {\n",
    "    'c1': scipy.stats.expon(scale=0.5),\n",
    "    'c2': scipy.stats.expon(scale=0.05),\n",
    "#     'all_possible_transitions': [True, False],\n",
    "#     'linesearch': ['MoreThuente', 'Backtracking', 'StrongBacktracking'],\n",
    "    'num_memories': [4, 6, 8],\n",
    "    'period': [8, 10, 12],\n",
    "    'epsilon': scipy.stats.loguniform(1e-6, 1e-4),\n",
    "    'delta': scipy.stats.loguniform(1e-6, 1e-4)\n",
    "}"
   ]
  },
  {
   "cell_type": "code",
   "execution_count": 53,
   "id": "71f0d744",
   "metadata": {},
   "outputs": [
    {
     "name": "stdout",
     "output_type": "stream",
     "text": [
      "Fitting 3 folds for each of 50 candidates, totalling 150 fits\n"
     ]
    },
    {
     "name": "stderr",
     "output_type": "stream",
     "text": [
      "/home/mariya/anaconda3/envs/masters/lib/python3.6/site-packages/sklearn/base.py:213: FutureWarning: From version 0.24, get_params will raise an AttributeError if a parameter cannot be retrieved as an instance attribute. Previously it would return None.\n",
      "  FutureWarning)\n",
      "[Parallel(n_jobs=-1)]: Using backend LokyBackend with 8 concurrent workers.\n",
      "[Parallel(n_jobs=-1)]: Done  34 tasks      | elapsed: 11.2min\n",
      "[Parallel(n_jobs=-1)]: Done 150 out of 150 | elapsed: 50.8min finished\n"
     ]
    },
    {
     "name": "stdout",
     "output_type": "stream",
     "text": [
      "CPU times: user 50min 46s, sys: 20.2 s, total: 51min 6s\n",
      "Wall time: 52min 3s\n"
     ]
    }
   ],
   "source": [
    "%%time\n",
    "# use the same metric for evaluation\n",
    "f1_scorer = make_scorer(metrics.flat_f1_score,\n",
    "                        average='weighted', labels=labels)\n",
    "\n",
    "# search\n",
    "rs = RandomizedSearchCV(crf, params_space,\n",
    "                        cv=3,\n",
    "                        verbose=1,\n",
    "                        n_jobs=-1,\n",
    "                        n_iter=50,\n",
    "                        scoring=f1_scorer)\n",
    "rs.fit(X_train[:5000], y_train[:5000])"
   ]
  },
  {
   "cell_type": "code",
   "execution_count": 54,
   "id": "023e0733",
   "metadata": {},
   "outputs": [
    {
     "name": "stdout",
     "output_type": "stream",
     "text": [
      "best params: {'c1': 0.49652630456506613, 'c2': 0.12057673150182804, 'delta': 1.7295250925683704e-05, 'epsilon': 4.6501223090121836e-05, 'num_memories': 8, 'period': 8}\n",
      "best CV score: 0.6985161971603957\n"
     ]
    },
    {
     "name": "stderr",
     "output_type": "stream",
     "text": [
      "/home/mariya/anaconda3/envs/masters/lib/python3.6/site-packages/sklearn/utils/validation.py:70: FutureWarning: Pass labels=[',', '(', ')', '\"', '[', ']', ';', '.', '?', '!', ':', '-', '...'] as keyword args. From version 0.25 passing these as positional arguments will result in an error\n",
      "  FutureWarning)\n",
      "/home/mariya/anaconda3/envs/masters/lib/python3.6/site-packages/sklearn/metrics/_classification.py:1221: UndefinedMetricWarning: Precision and F-score are ill-defined and being set to 0.0 in labels with no predicted samples. Use `zero_division` parameter to control this behavior.\n",
      "  _warn_prf(average, modifier, msg_start, len(result))\n"
     ]
    },
    {
     "name": "stdout",
     "output_type": "stream",
     "text": [
      "              precision    recall  f1-score   support\n",
      "\n",
      "           ,      0.564     0.621     0.591     18592\n",
      "           (      0.000     0.000     0.000      1656\n",
      "           )      0.000     0.000     0.000      1001\n",
      "           \"      0.000     0.000     0.000      1596\n",
      "           [      0.000     0.000     0.000        45\n",
      "           ]      0.000     0.000     0.000        43\n",
      "           ;      0.144     0.035     0.057       622\n",
      "           .      0.896     0.965     0.929     11401\n",
      "           ?      0.651     0.856     0.740       443\n",
      "           !      0.304     0.141     0.193       347\n",
      "           :      0.459     0.722     0.561       923\n",
      "           -      0.216     0.028     0.050       882\n",
      "         ...      0.000     0.000     0.000        61\n",
      "\n",
      "   micro avg      0.673     0.630     0.651     37612\n",
      "   macro avg      0.249     0.259     0.240     37612\n",
      "weighted avg      0.580     0.630     0.600     37612\n",
      "\n",
      "['Но синовете им не умъртви, защото постъпи според писаното в закона в книгата на Мойсей, където ГОСПОД заповяда и каза: Бащите да не умират заради синовете и синовете да не умират заради бащите, а всеки да умира за собствения си грях.', 'Но когато ти говоря, ще отворя устата ти и ти им кажи: Така казва Господ БОГ: Който слуша нека слуша, а който не слуша, нека не слуша, защото са бунтовен дом.', 'Защото кой е по-голям? този, който седи на трапезата ли или онзи, който слугува?', 'А след това ще се насели, както в предишните дни, заявява ГОСПОД.', 'А Той беше на задната част, заспал на възглавница.', 'Ефрем е като птица славата му ще отлети.', 'И така той си отиде от него на известно разстояние.', 'Не бягам при халдейците.', 'И израилевите синове излязоха от египетската земя строени.', 'А когато Ахитофел видя, че съветът му не се изпълни оседла магарето си и стана и отиде у дома си в своя град, и нареди домашните си работи, и се обеси.', 'Ако умре някое животно от добитъка, който можете да ядете, който се допре до мършата му ще бъде нечист до вечерта.', 'Но помощник съответен на Адам, не се намери.', 'Който задържа жито, народът ще го проклина, а благословение ще почива на главата на този, който го продава.', 'Този човек беше праведен и благочестив и чакаше: Утехата на Израил и Светият Дух беше на него.', 'Всичко е възможно за този, който вярва.', 'И видях височината на дома околовръст основите на страничните стаи бяха една цяла тръстика от шест големи лакътя.', 'После да вземеш тлъстината на овена, опашката и тлъстината, която покрива вътрешностите, булото на дроба двата бъбрека с тлъстината, която е около тях и дясното бедро, защото е овен на посвещение и един хляб една пита хляб месен с маслинено масло и една кора от коша на безквасните хлябове, които са пред ГОСПОДА.', 'И от дима излязоха скакалци по земята и им се даде власт като властта, която имат земните скорпиони.', 'Ти си, ГОСПОДИ, само Ти!', 'И ще предаде Израил заради греховете на Еровоам, с които съгреши и с които въведе Израил в грях.', 'Синове на Елифаз: Теман и Омар, Сефи и Готом, Кенез и Тамна, и Амалик.', 'А гладът в Самария беше страшен.', 'Затова казах в сърцето си, че и това е суета.', 'Насладих се на сянката му и седнах и плодът му бе сладък в устата ми.', 'Защото така ми каза ГОСПОД: Както ръмжи над лова си, лъвът младият лъв, срещу когото се свикват множество овчари и не се плаши от гласа им, и не се отдръпва пред шума им; така ГОСПОД на Войнствата, ще слезе за да воюва за хълма Сион и за неговото възвишение.', 'Отче свети, опази ги в Името Си, което си Ми дал, за да бъдат едно, както сме и Ние.', 'И да правите разлика между чистите животни и нечистите и между нечистите птици и чистите и да не осквернявате себе си с животно, или с птица, или с каквото и да е, което пълзи по земята, което Аз съм ви отделил като нечисто.', 'И ГОСПОД укрепи моавския цар Еглон против Израил, защото вършиха зло пред ГОСПОДА.', 'И Духът ми каза да отида с тях, без да се двоумя.', 'В двадесет и седмата година на израилевия цар Еровоам се възцари Азария, синът на юдовия цар Амасия.', 'Защото вашата послушност е известна на всички, затова се радвам за вас.', 'Той изтегля всички с въдица влачи ги в мрежата си и ги събира в рибарската си мрежа, затова се радва и се весели.', 'Благословен да е ГОСПОД Бог Богът на Израил, който единствен върши чудеса.', 'И които влязоха мъжко и женско от всяка плът, влязоха, както Бог му беше заповядал, и ГОСПОД, затвори след него.', 'Тогава царят каза на Божия човек: Ела с мен у дома и се подкрепи и ще ти дам подарък.', 'И ето, въпреки че е посадена ще успее ли?', 'От дома Тогарма даваха за стоките ти коне бойни коне и мулета.', 'Затова заповядай гробът да се пази здраво до третия ден да не би учениците Му да дойдат и да Го откраднат, и да кажат на народа Възкръсна от мъртвите.', 'И когато отвори петия печат видях под олтара душите на онези, които са били заклани за Божието слово и за свидетелството, което държаха.', 'И свещениците, които служат на ГОСПОДА са синовете на Аарон и левитите са в службата.', 'Той тича след тях с умолителни думи, но тях ги няма.', 'И измери дължината му четиридесет лакътя и ширината му- двадесет лакътя.', 'Затова, така казва ГОСПОД, Бог на Войнствата, Израилевият Бог: Ето, Аз ще докарам върху Юда и върху всичките ерусалимски жители цялото зло, което говорих против тях, защото им говорих, но не слушаха и ги виках, но не отговаряха.', 'Сине мой, слушай наставлението на баща си и не отхвърляй закона на майка си, защото те ще бъдат благодатен венец за главата ти и огърлица за шията ти.', 'Тогава облакът започна да се издига от града в димен стълб и Вениамин се обърна, и ето, целият град се издигаше в пламъци към небето.', 'В онзи ден няма да се срамуваш от всичките си дела, с които си отстъпил от Мен, защото тогава ще отнема отсред теб, твоите, които горделиво тържествуват и ти, няма вече да се държиш надменно на светия Ми хълм.', 'А свинарите, като видяха станалото, избягаха и разказаха за това в града и в селата.', 'И Илий благослови Елкана и жена му и каза: ГОСПОД да ти даде потомство от тази жена вместо заетото, което беше посветено на ГОСПОДА.', 'И ако живее във вас: Духът на Този, който възкреси Иисус от мъртвите, то Този, който възкреси Христос от мъртвите ще съживи и вашите смъртни тела чрез Духа Си, който живее във вас.', 'А ГОСПОД си извърши, както беше говорил чрез мен и ГОСПОД откъсна царството от ръката ти, и го даде на ближния ти на Давид.', 'Даде и храна за магаретата им.', 'Книгата на видението на елкусеянина Наум.', 'И направи олтара за всеизгаряне от акациево дърво, пет лакътя беше дължината му и пет лакътя беше ширината му- четвъртит и три лакътя беше височината му.', 'Те ми казаха: Направи ни богове, които да ходят пред нас, защото на този Мойсей човека, който ни изведе от египетската земя не знаем какво му стана.', 'Тогава Мардохей каза да отговорят на Естир: Не мисли в себе си, че от всичките юдеи само ти ще се избавиш в царския дом.', 'Но аз не бих познал греха освен чрез закона, защото не бих знаел пожелание, ако законът не беше казал: Не пожелавай.', 'Тогава народът Му си спомни за древните дни на Мойсей: Къде е Онзи, който ги изведе от морето с пастирите на стадото Си?', 'И три пъти в годината Соломон принасяше всеизгаряния и примирителни жертви върху олтара, който построи на ГОСПОДА и кадеше върху олтара, който беше пред ГОСПОДА.', 'И след като им поставиха старейшини във всяка църква и се помолиха с пост ги препоръчаха на Господа, в когото бяха повярвали.', 'С нея, Той подейства в Христос, като Го възкреси от мъртвите и Го сложи да седне от дясната Си страна на небесата далеч над всяко началство и власт и сила и господство и всяко име с което се наименуват не само в този свят, но и в бъдещия.', 'Стрелец срещу стрелец да опъва лъка си и срещу онзи, който се надига в бронята си.', 'Затова онази нива е наречена и до днес Кръвна нива.', 'И така слугите на цар Езекия отидоха при Исая.', 'И никой свещеник да не пие вино, когато влиза във вътрешния двор.', 'И Охозия, падна през решетката на горната си стая в Самария и се разболя.', 'Защо не разбирате Моето говорене?', 'А Лаван в отговор каза на Яков: Тези дъщери са мои дъщери и синовете са мои синове и стадата са мои стада.', 'А чуждият, който се приближи да се умъртви.', 'И двамата сина на Илий, Офний и Финеес бяха там с ковчега на Божия завет.', 'Иисус му каза: Лисиците си имат леговища и небесните птици гнезда, а Човешкият Син няма къде глава да подслони?', 'От кръвта на убитите от тлъстината на силните лъкът на Йонатан, не се обръщаше назад, и мечът на Саул, не се връщаше празен.', 'Станах за присмех на целия си народ и за тяхна подигравателна песен цял ден.', 'Да учите на тях синовете си, като говорите за тях, когато седиш в къщата си, когато ходиш по пътя, когато лягаш и когато ставаш.', 'И ГОСПОД се разкая за злото, което беше казал, че ще направи на народа Си.', 'А Юда изпрати ярето чрез ръката на приятеля си одоламеца, за да вземе залога от ръката на жената, но той не я намери.', 'И царят заповяда и доведоха онези мъже, които бяха издали Даниил, и хвърлиха тях децата им и жените им в рова на лъвовете и още преди да стигнат до дъното на рова, лъвовете ги сграбчиха и строшиха всичките им кости.', 'И Йоав и народът, който беше с него настъпиха за битката против арамейците; и те побягнаха пред него.', 'И като го повикаха Тертил, започна да обвинява, като казваше: Понеже чрез теб честити, Феликсе се радваме на голямо спокойствие и понеже чрез твоята предвидливост има подобрения, за този народ, то ние с пълна благодарност, винаги и навсякъде посрещаме това.', 'Защото Йоан казваше на Ирод: Не ти е позволено да имаш жената на брат си.', 'А в първия ден на седмицата много рано сутринта, те дойдоха на гроба, като носеха благоуханните масла, които бяха приготвили.', 'Ще бъде ли добре да ви изпита Той?', 'След това Яков каза на Лаван: Дай жена ми, защото дойде време да вляза при нея.', 'А посветените дарове бяха шестстотин говеда и три хиляди овце.', 'Кога ще се събудя за да продължа да го потърся пак?', 'Изнемогвам от викането си гърлото ми е пресъхнало очите ми чезнат, докато чакам, своя Бог.', 'Това са родовете на Мерарий.', 'На следващия ден едно голямо множество, което беше дошло на празника, като чуха, че Иисус идвал в Ерусалим взеха палмови клони и излязоха да Го посрещнат, викайки Осанна.', 'И той каза: Имам нещо да ти кажа.', 'Ако някой, който е престъпил закона на Мойсей умира безпощадно при думата на двама или трима свидетели, то колко по-тежко наказание, мислите ще заслужи онзи, който е потъпкал Божия Син, и е счел за просто нещо кръвта на завета, с която е бил осветен и е оскърбил Духа на благодатта.', 'Върни се, сине мой, Давиде, защото няма вече да ти сторя зло, понеже днес животът ми беше скъпоценен пред очите ти.', 'Ще дойдат големци от Египет Етиопия, бързо ще протегне ръцете си към Бога.', 'Затова хората Му се боят и Той не гледа на никого от мъдрите по сърце.', 'И Го следваше голямо множество от народ и жени, които плачеха за Него.', 'Ето ви семе засейте земята!', 'И Давид дойде във Ваал-Ферасим и Давид ги разби там, и каза: ГОСПОД разсече пред мен, враговете ми, както водите правят пролом.', 'Кадилниците на тези мъже, които съгрешиха против живота си, нека ги направят на плочи за обковаване на олтара, защото те ги принесоха пред ГОСПОДА и затова са свети; и те ще бъдат за знамение на израилевите синове.', 'И когато фараонът отказваше да ни пусне ГОСПОД уби всяко първородно в египетската земя от първородно на човек до първородно на животно, затова жертвам на ГОСПОДА, всяко първородно, което е мъжко, а всеки първороден от синовете си изкупувам.', 'А без вяра не е възможно да се угоди на Бога, защото който идва при Бога, трябва да вярва, че Той съществува и че възнаграждава тези, които Го търсят.', 'И докато още говореше с тях, ето, пратеникът слезе при него и каза: Ето, това зло е от ГОСПОДА.', 'А вие сами ли ще продадете братята си?']\n"
     ]
    }
   ],
   "source": [
    "crf = rs.best_estimator_\n",
    "print('best params:', rs.best_params_)\n",
    "print('best CV score:', rs.best_score_)\n",
    "\n",
    "crf = rs.best_estimator_\n",
    "y_pred = crf.predict(X_dev)\n",
    "\n",
    "print(metrics.flat_classification_report(y_dev, y_pred, labels=labels, digits=3))\n",
    "punctuated_sentences = punctuate(X_dev, y_pred)\n",
    "print(punctuated_sentences[:100])"
   ]
  },
  {
   "cell_type": "code",
   "execution_count": 55,
   "id": "d13bffe7",
   "metadata": {},
   "outputs": [
    {
     "name": "stdout",
     "output_type": "stream",
     "text": [
      "CPU times: user 1min 19s, sys: 32 ms, total: 1min 19s\n",
      "Wall time: 1min 19s\n"
     ]
    }
   ],
   "source": [
    "%%time\n",
    "crf = sklearn_crfsuite.CRF(\n",
    "    algorithm='lbfgs',\n",
    "    c1=0.1,\n",
    "    c2=0.1,\n",
    "    max_iterations=100,\n",
    "    all_possible_transitions=True\n",
    ")\n",
    "crf.fit(X_train[:5000], y_train[:5000])"
   ]
  },
  {
   "cell_type": "code",
   "execution_count": 56,
   "id": "e07dc4c7",
   "metadata": {},
   "outputs": [
    {
     "name": "stderr",
     "output_type": "stream",
     "text": [
      "/home/mariya/anaconda3/envs/masters/lib/python3.6/site-packages/sklearn/utils/validation.py:70: FutureWarning: Pass labels=[',', '(', ')', '\"', '[', ']', ';', '.', '?', '!', ':', '-', '...'] as keyword args. From version 0.25 passing these as positional arguments will result in an error\n",
      "  FutureWarning)\n",
      "/home/mariya/anaconda3/envs/masters/lib/python3.6/site-packages/sklearn/metrics/_classification.py:1221: UndefinedMetricWarning: Precision and F-score are ill-defined and being set to 0.0 in labels with no predicted samples. Use `zero_division` parameter to control this behavior.\n",
      "  _warn_prf(average, modifier, msg_start, len(result))\n"
     ]
    },
    {
     "name": "stdout",
     "output_type": "stream",
     "text": [
      "              precision    recall  f1-score   support\n",
      "\n",
      "           ,      0.638     0.576     0.605     18592\n",
      "           (      0.000     0.000     0.000      1656\n",
      "           )      0.000     0.000     0.000      1001\n",
      "           \"      0.000     0.000     0.000      1596\n",
      "           [      0.000     0.000     0.000        45\n",
      "           ]      0.000     0.000     0.000        43\n",
      "           ;      0.141     0.045     0.068       622\n",
      "           .      0.895     0.969     0.931     11401\n",
      "           ?      0.681     0.810     0.740       443\n",
      "           !      0.362     0.170     0.231       347\n",
      "           :      0.514     0.717     0.599       923\n",
      "           -      0.165     0.026     0.045       882\n",
      "         ...      0.000     0.000     0.000        61\n",
      "\n",
      "   micro avg      0.728     0.608     0.663     37612\n",
      "   macro avg      0.261     0.255     0.248     37612\n",
      "weighted avg      0.617     0.608     0.609     37612\n",
      "\n",
      "['Но синовете им не умъртви, защото постъпи според писаното в закона в книгата на Мойсей, където ГОСПОД заповяда и каза: Бащите да не умират заради синовете и синовете да не умират заради бащите, а всеки да умира за собствения си грях.', 'Но когато ти говоря, ще отворя устата ти и ти им кажи: Така казва Господ БОГ: Който слуша нека слуша, а който не слуша, нека не слуша, защото са бунтовен дом.', 'Защото кой е по-голям? този, който седи на трапезата ли или онзи, който слугува?', 'А след това ще се насели, както в предишните дни, заявява ГОСПОД.', 'А Той беше на задната част, заспал на възглавница.', 'Ефрем е като птица славата му ще отлети.', 'И така, той си отиде от него на известно разстояние.', 'Не бягам при халдейците.', 'И израилевите синове излязоха от египетската земя строени.', 'А когато Ахитофел видя, че съветът му не се изпълни оседла магарето си и стана и отиде у дома си в своя град, и нареди домашните си работи, и се обеси.', 'Ако умре някое животно, от добитъка, който можете да ядете, който се допре до мършата му ще бъде нечист до вечерта.', 'Но помощник съответен на Адам не се намери.', 'Който задържа жито, народът ще го проклина, а благословение ще почива на главата на този, който го продава.', 'Този човек беше праведен и благочестив и чакаше: Утехата на Израил и Светият Дух беше на него.', 'Всичко е възможно за този, който вярва.', 'И видях височината на дома околовръст основите на страничните стаи бяха една цяла тръстика от шест големи лакътя.', 'После да вземеш тлъстината на овена, опашката и тлъстината, която покрива вътрешностите, булото на дроба двата бъбрека с тлъстината, която е около тях и дясното бедро, защото е овен на посвещение и един хляб една пита хляб месен с маслинено масло и една кора от коша на безквасните хлябове, които са пред ГОСПОДА.', 'И от дима излязоха скакалци по земята и им се даде власт като властта, която имат земните скорпиони.', 'Ти си, ГОСПОДИ, само Ти!', 'И ще предаде Израил заради греховете на Еровоам, с които съгреши и с които въведе Израил в грях.', 'Синове на Елифаз: Теман и Омар, Сефи и Готом, Кенез и Тамна, и Амалик.', 'А гладът в Самария беше страшен.', 'Затова казах в сърцето си, че и това е суета.', 'Насладих се на сянката му и седнах и плодът му бе сладък в устата ми.', 'Защото така ми каза ГОСПОД: Както ръмжи над лова си, лъвът младият лъв, срещу когото се свикват множество овчари и не се плаши от гласа им, и не се отдръпва пред шума им; така ГОСПОД на Войнствата, ще слезе за да воюва за хълма Сион и за неговото възвишение.', 'Отче свети, опази ги в Името Си, което си Ми дал, за да бъдат едно, както сме и Ние.', 'И да правите разлика между чистите животни и нечистите и между нечистите птици и чистите и да не осквернявате себе си с животно, или с птица, или с каквото и да е, което пълзи по земята, което Аз съм ви отделил като нечисто.', 'И ГОСПОД укрепи моавския цар Еглон против Израил, защото вършиха зло пред ГОСПОДА.', 'И Духът ми каза да отида с тях, без да се двоумя.', 'В двадесет и седмата година на израилевия цар Еровоам се възцари Азария, синът на юдовия цар Амасия.', 'Защото вашата послушност е известна на всички, затова се радвам за вас.', 'Той изтегля всички с въдица влачи ги в мрежата си и ги събира в рибарската си мрежа, затова се радва и се весели.', 'Благословен да е ГОСПОД Бог Богът на Израил, който единствен върши чудеса.', 'И които влязоха мъжко и женско от всяка плът; влязоха, както Бог му беше заповядал, и ГОСПОД, затвори след него.', 'Тогава царят каза на Божия човек: Ела с мен у дома и се подкрепи и ще ти дам подарък.', 'И ето, въпреки че е посадена ще успее ли?', 'От дома Тогарма даваха за стоките ти коне бойни коне и мулета.', 'Затова заповядай гробът да се пази здраво до третия ден да не би учениците Му да дойдат и да Го откраднат, и да кажат на народа Възкръсна от мъртвите.', 'И когато отвори петия печат видях под олтара душите на онези, които са били заклани за Божието слово и за свидетелството, което държаха.', 'И свещениците, които служат на ГОСПОДА са синовете на Аарон и левитите са в службата.', 'Той тича след тях с умолителни думи, но тях ги няма.', 'И измери дължината му четиридесет лакътя и ширината му- двадесет лакътя.', 'Затова, така казва ГОСПОД, Бог на Войнствата, Израилевият Бог: Ето, Аз ще докарам върху Юда и върху всичките ерусалимски жители цялото зло, което говорих против тях, защото им говорих, но не слушаха и ги виках, но не отговаряха.', 'Сине мой, слушай наставлението на баща си и не отхвърляй закона на майка си; защото те ще бъдат благодатен венец за главата ти и огърлица за шията ти.', 'Тогава облакът започна да се издига от града в димен стълб и Вениамин се обърна, и ето, целият град се издигаше в пламъци към небето.', 'В онзи ден няма да се срамуваш от всичките си дела, с които си отстъпил от Мен, защото тогава ще отнема отсред теб, твоите, които горделиво тържествуват и ти, няма вече да се държиш надменно на светия Ми хълм!', 'А свинарите, като видяха станалото, избягаха и разказаха за това в града и в селата.', 'И Илий благослови Елкана и жена му и каза: ГОСПОД да ти даде потомство от тази жена вместо заетото, което беше посветено на ГОСПОДА.', 'И ако живее във вас, Духът на Този, който възкреси Иисус от мъртвите, то Този, който възкреси Христос от мъртвите ще съживи и вашите смъртни тела чрез Духа Си, който живее във вас.', 'А ГОСПОД си извърши, както беше говорил чрез мен и ГОСПОД откъсна царството от ръката ти и го даде на ближния ти на Давид.', 'Даде и храна за магаретата им.', 'Книгата на видението на елкусеянина Наум.', 'И направи олтара за всеизгаряне от акациево дърво пет лакътя беше дължината му и пет лакътя беше ширината му, четвъртит и три лакътя беше височината му.', 'Те ми казаха: Направи ни богове, които да ходят пред нас, защото на този Мойсей човека, който ни изведе от египетската земя не знаем какво му стана.', 'Тогава Мардохей каза да отговорят на Естир: Не мисли в себе си, че от всичките юдеи само ти ще се избавиш в царския дом.', 'Но аз не бих познал греха освен чрез закона, защото не бих знаел пожелание, ако законът не беше казал: Не пожелавай.', 'Тогава народът Му си спомни за древните дни на Мойсей: Къде е Онзи, който ги изведе от морето с пастирите на стадото Си?', 'И три пъти в годината Соломон принасяше всеизгаряния и примирителни жертви върху олтара, който построи на ГОСПОДА и кадеше върху олтара, който беше пред ГОСПОДА.', 'И след като им поставиха старейшини във всяка църква и се помолиха с пост ги препоръчаха на Господа, в когото бяха повярвали.', 'С нея Той подейства в Христос, като Го възкреси от мъртвите и Го, сложи да седне от дясната Си страна на небесата далеч над всяко началство и власт и сила и господство и всяко име с което се наименуват не само в този свят, но и в бъдещия.', 'Стрелец срещу стрелец да опъва лъка си и срещу онзи, който се надига в бронята си.', 'Затова онази нива е наречена и до днес Кръвна нива.', 'И така слугите на цар Езекия отидоха при Исая.', 'И никой свещеник да не пие вино, когато влиза във вътрешния двор.', 'И Охозия, падна през решетката на горната си стая в Самария и се разболя.', 'Защо не разбирате Моето говорене?', 'А Лаван в отговор каза на Яков: Тези дъщери са мои дъщери и синовете са мои синове и стадата са мои стада.', 'А чуждият, който се приближи да се умъртви.', 'И двамата сина на Илий, Офний и Финеес бяха там с ковчега на Божия завет.', 'Иисус му каза: Лисиците си имат леговища и небесните птици гнезда, а Човешкият Син няма къде глава, да подслони?', 'От кръвта на убитите от тлъстината на силните лъкът на Йонатан не се обръщаше назад, и мечът на Саул, не се връщаше празен.', 'Станах за присмех на целия си народ и за тяхна подигравателна песен цял ден.', 'Да учите на тях синовете си, като говорите за тях, когато седиш в къщата си, когато ходиш по пътя, когато лягаш и когато ставаш.', 'И ГОСПОД се разкая за злото, което беше казал, че ще направи на народа Си.', 'А Юда изпрати ярето чрез ръката на приятеля си одоламеца, за да вземе залога от ръката на жената, но той не я намери.', 'И царят заповяда и доведоха онези мъже, които бяха издали Даниил, и хвърлиха тях децата им и жените им в рова на лъвовете и още преди да стигнат до дъното на рова, лъвовете ги сграбчиха и строшиха всичките им кости.', 'И Йоав и народът, който беше с него настъпиха за битката против арамейците; и те побягнаха пред него.', 'И като го повикаха Тертил, започна да обвинява, като казваше: Понеже чрез теб честити Феликсе се радваме на голямо спокойствие и понеже чрез твоята предвидливост има подобрения за този народ, то ние с пълна благодарност винаги и навсякъде посрещаме това.', 'Защото Йоан казваше на Ирод: Не ти е позволено да имаш жената на брат си.', 'А в първия ден на седмицата много рано сутринта, те дойдоха на гроба, като носеха благоуханните масла, които бяха приготвили.', 'Ще бъде ли добре да ви изпита Той?', 'След това Яков каза на Лаван: Дай жена ми, защото дойде време да вляза при нея.', 'А посветените дарове бяха шестстотин говеда и три хиляди овце.', 'Кога ще се събудя за да продължа да го потърся пак?', 'Изнемогвам от викането си гърлото ми е пресъхнало, очите ми чезнат, докато чакам своя Бог.', 'Това са родовете на Мерарий.', 'На следващия ден едно голямо множество, което беше дошло на празника, като чуха, че Иисус идвал в Ерусалим, взеха палмови клони и излязоха да Го посрещнат, викайки Осанна.', 'И той каза: Имам нещо да ти кажа.', 'Ако някой, който е престъпил закона на Мойсей, умира безпощадно при думата на двама или трима свидетели, то колко по-тежко наказание мислите ще заслужи онзи, който е потъпкал Божия Син, и е счел за просто нещо кръвта на завета, с която е бил осветен и е оскърбил Духа на благодатта.', 'Върни се, сине мой, Давиде, защото няма вече да ти сторя зло, понеже днес животът ми беше скъпоценен пред очите ти!', 'Ще дойдат големци от Египет Етиопия бързо ще протегне ръцете си към Бога.', 'Затова хората Му се боят и Той не гледа на никого от мъдрите по сърце.', 'И Го следваше голямо множество от народ и жени, които плачеха за Него.', 'Ето ви семе засейте земята!', 'И Давид дойде във Ваал-Ферасим и Давид ги разби там и каза: ГОСПОД разсече пред мен, враговете ми, както водите правят пролом.', 'Кадилниците на тези мъже, които съгрешиха против живота си, нека ги направят на плочи за обковаване на олтара, защото те ги принесоха пред ГОСПОДА и затова са свети; и те ще бъдат за знамение на израилевите синове.', 'И когато фараонът отказваше да ни пусне ГОСПОД уби всяко първородно в египетската земя от първородно на човек до първородно на животно, затова жертвам на ГОСПОДА всяко първородно, което е мъжко, а всеки първороден от синовете си изкупувам.', 'А без вяра не е възможно да се угоди на Бога, защото който идва при Бога, трябва да вярва, че Той съществува и че възнаграждава тези, които Го търсят.', 'И докато още говореше с тях, ето, пратеникът слезе при него и каза: Ето, това зло е от ГОСПОДА.', 'А вие сами ли ще продадете братята си?']\n"
     ]
    }
   ],
   "source": [
    "y_pred = crf.predict(X_dev)\n",
    "\n",
    "print(metrics.flat_classification_report(y_dev, y_pred, labels=labels, digits=3))\n",
    "punctuated_sentences = punctuate(X_dev, y_pred)\n",
    "print(punctuated_sentences[:100])"
   ]
  },
  {
   "cell_type": "markdown",
   "id": "a507692f",
   "metadata": {},
   "source": [
    "### Try out optimal algorithm with fine-tuned parameters"
   ]
  },
  {
   "cell_type": "code",
   "execution_count": 29,
   "id": "55428b12",
   "metadata": {},
   "outputs": [
    {
     "name": "stdout",
     "output_type": "stream",
     "text": [
      "CPU times: user 6h 55min 46s, sys: 16.8 s, total: 6h 56min 3s\n",
      "Wall time: 6h 55min 24s\n"
     ]
    }
   ],
   "source": [
    "%%time\n",
    "crf = sklearn_crfsuite.CRF(\n",
    "    algorithm='lbfgs',\n",
    "    c1=0.1,\n",
    "    c2=0.1,\n",
    "    all_possible_transitions=True,\n",
    "    linesearch='MoreThuente',\n",
    "    num_memories=8,\n",
    "    period=12,\n",
    "    epsilon=2e-6,\n",
    "    delta=1.5e-5  \n",
    ")\n",
    "crf.fit(X_train, y_train)"
   ]
  },
  {
   "cell_type": "code",
   "execution_count": 30,
   "id": "9daa541f",
   "metadata": {},
   "outputs": [
    {
     "name": "stderr",
     "output_type": "stream",
     "text": [
      "/home/mariya/anaconda3/envs/masters/lib/python3.6/site-packages/sklearn/metrics/_classification.py:1465: UndefinedMetricWarning: F-score is ill-defined and being set to 0.0 in labels with no true nor predicted samples. Use `zero_division` parameter to control this behavior.\n",
      "  average, \"true nor predicted\", 'F-score is', len(true_sum)\n",
      "/home/mariya/anaconda3/envs/masters/lib/python3.6/site-packages/sklearn/utils/validation.py:70: FutureWarning: Pass labels=['', ':', '!', ',', '?', ';', '.', '-', ',(', '\"', '\").', '(', ')', '?-', '.-', ':)', '!-', ':\"', '.\"', ':(', '?)', '\"?', '\".', '\";', '\"-', ').', '!,', '-\"', ')!', '\",', '.\")', '!;', ';(', '),', '?;', '?\"', ');', '.)', '?,', ';\"', '):', '[', ']', '...', '],', '\"(', ',[', ',\"', ']\",', ')-', '\":', '(\"', '\"),', '\"-[', '...,', '\")', '..', '\",\"', '?\".', '\"[', '\"(\"', '),\"', '\"\"', '-.', '.,', '].', ')\"', '!\"', '?\"-', '\":\"', '):\"', '\")-', '\"-\"', '-,', ')\".', '?\",', ']\".', '!\",', ']?', '...[', '];', '...\".', '!\"-', '\"!', '!\".', '!?', '?!', ',-', '!...', '!).', ')?', '?...', '.?'] as keyword args. From version 0.25 passing these as positional arguments will result in an error\n",
      "  FutureWarning)\n"
     ]
    },
    {
     "name": "stdout",
     "output_type": "stream",
     "text": [
      "0.9400177135473814\n"
     ]
    },
    {
     "name": "stderr",
     "output_type": "stream",
     "text": [
      "/home/mariya/anaconda3/envs/masters/lib/python3.6/site-packages/sklearn/metrics/_classification.py:1221: UndefinedMetricWarning: Precision and F-score are ill-defined and being set to 0.0 in labels with no predicted samples. Use `zero_division` parameter to control this behavior.\n",
      "  _warn_prf(average, modifier, msg_start, len(result))\n",
      "/home/mariya/anaconda3/envs/masters/lib/python3.6/site-packages/sklearn/metrics/_classification.py:1221: UndefinedMetricWarning: Recall and F-score are ill-defined and being set to 0.0 in labels with no true samples. Use `zero_division` parameter to control this behavior.\n",
      "  _warn_prf(average, modifier, msg_start, len(result))\n"
     ]
    },
    {
     "name": "stdout",
     "output_type": "stream",
     "text": [
      "              precision    recall  f1-score   support\n",
      "\n",
      "                  0.961     0.988     0.974    227825\n",
      "           :      0.889     0.736     0.805       923\n",
      "           !      0.497     0.222     0.307       347\n",
      "           ,      0.787     0.653     0.714     18592\n",
      "           ?      0.834     0.702     0.762       443\n",
      "           ;      0.219     0.056     0.090       622\n",
      "           .      0.936     0.987     0.961     11401\n",
      "           -      0.527     0.111     0.184       882\n",
      "          ,(      0.000     0.000     0.000         5\n",
      "           \"      0.639     0.145     0.237      1596\n",
      "         \").      0.000     0.000     0.000         0\n",
      "           (      0.957     0.881     0.918      1656\n",
      "           )      0.878     0.835     0.856      1001\n",
      "          ?-      0.000     0.000     0.000         4\n",
      "          .-      0.000     0.000     0.000         2\n",
      "          :)      0.000     0.000     0.000         0\n",
      "          !-      0.667     0.100     0.174        20\n",
      "          :\"      0.679     0.284     0.400        67\n",
      "          .\"      0.500     0.043     0.080        23\n",
      "          :(      0.000     0.000     0.000         1\n",
      "          ?)      0.000     0.000     0.000         0\n",
      "          \"?      0.000     0.000     0.000         1\n",
      "          \".      0.578     0.089     0.154       293\n",
      "          \";      0.000     0.000     0.000         5\n",
      "          \"-      1.000     0.036     0.069        28\n",
      "          ).      0.965     0.923     0.943       271\n",
      "          !,      0.000     0.000     0.000         0\n",
      "          -\"      0.000     0.000     0.000         7\n",
      "          )!      0.000     0.000     0.000         1\n",
      "          \",      0.738     0.554     0.633       829\n",
      "         .\")      0.000     0.000     0.000         1\n",
      "          !;      0.000     0.000     0.000         1\n",
      "          ;(      0.000     0.000     0.000         0\n",
      "          ),      0.801     0.664     0.726       381\n",
      "          ?;      0.000     0.000     0.000         0\n",
      "          ?\"      0.000     0.000     0.000         0\n",
      "          );      0.000     0.000     0.000         0\n",
      "          .)      0.000     0.000     0.000         1\n",
      "          ?,      0.000     0.000     0.000         1\n",
      "          ;\"      0.000     0.000     0.000         0\n",
      "          ):      1.000     0.727     0.842        11\n",
      "           [      0.000     0.000     0.000        45\n",
      "           ]      0.000     0.000     0.000        43\n",
      "         ...      0.000     0.000     0.000        61\n",
      "          ],      0.000     0.000     0.000         3\n",
      "          \"(      0.533     0.258     0.348        31\n",
      "          ,[      0.000     0.000     0.000         1\n",
      "          ,\"      0.000     0.000     0.000        44\n",
      "         ]\",      0.000     0.000     0.000         5\n",
      "          )-      0.000     0.000     0.000        17\n",
      "          \":      0.000     0.000     0.000         0\n",
      "          (\"      0.000     0.000     0.000         0\n",
      "         \"),      0.000     0.000     0.000         1\n",
      "         \"-[      0.000     0.000     0.000         0\n",
      "        ...,      0.000     0.000     0.000         3\n",
      "          \")      0.000     0.000     0.000         2\n",
      "          ..      0.500     0.333     0.400         3\n",
      "         \",\"      0.000     0.000     0.000        10\n",
      "         ?\".      0.000     0.000     0.000         2\n",
      "          \"[      0.000     0.000     0.000         0\n",
      "         \"(\"      0.000     0.000     0.000         2\n",
      "         ),\"      1.000     0.500     0.667         2\n",
      "          \"\"      0.000     0.000     0.000         2\n",
      "          -.      0.000     0.000     0.000         0\n",
      "          .,      0.000     0.000     0.000         0\n",
      "          ].      0.000     0.000     0.000         2\n",
      "          )\"      0.000     0.000     0.000         0\n",
      "          !\"      0.000     0.000     0.000         0\n",
      "         ?\"-      0.000     0.000     0.000         2\n",
      "         \":\"      0.000     0.000     0.000         1\n",
      "         ):\"      0.000     0.000     0.000         0\n",
      "         \")-      0.000     0.000     0.000         1\n",
      "         \"-\"      0.000     0.000     0.000         0\n",
      "          -,      0.000     0.000     0.000         1\n",
      "         )\".      0.000     0.000     0.000         1\n",
      "         ?\",      0.000     0.000     0.000         1\n",
      "         ]\".      0.000     0.000     0.000         0\n",
      "         !\",      0.000     0.000     0.000         1\n",
      "          ]?      0.000     0.000     0.000         0\n",
      "        ...[      0.000     0.000     0.000         2\n",
      "          ];      0.000     0.000     0.000         0\n",
      "       ...\".      0.000     0.000     0.000         0\n",
      "         !\"-      0.000     0.000     0.000         2\n",
      "          \"!      0.000     0.000     0.000         0\n",
      "         !\".      0.000     0.000     0.000         3\n",
      "          !?      0.000     0.000     0.000         0\n",
      "          ?!      0.000     0.000     0.000         0\n",
      "          ,-      0.000     0.000     0.000         4\n",
      "        !...      0.000     0.000     0.000         1\n",
      "         !).      0.000     0.000     0.000         0\n",
      "          )?      0.000     0.000     0.000         3\n",
      "        ?...      0.000     0.000     0.000         0\n",
      "          .?      0.000     0.000     0.000         0\n",
      "\n",
      "   micro avg      0.947     0.947     0.947    267543\n",
      "   macro avg      0.184     0.116     0.132    267543\n",
      "weighted avg      0.939     0.947     0.940    267543\n",
      "\n",
      "0.7437609493113997\n"
     ]
    },
    {
     "name": "stderr",
     "output_type": "stream",
     "text": [
      "/home/mariya/anaconda3/envs/masters/lib/python3.6/site-packages/sklearn/utils/validation.py:70: FutureWarning: Pass labels=[':', '!', ',', '?', ';', '.', '-', ',(', '\"', '\").', '(', ')', '?-', '.-', ':)', '!-', ':\"', '.\"', ':(', '?)', '\"?', '\".', '\";', '\"-', ').', '!,', '-\"', ')!', '\",', '.\")', '!;', ';(', '),', '?;', '?\"', ');', '.)', '?,', ';\"', '):', '[', ']', '...', '],', '\"(', ',[', ',\"', ']\",', ')-', '\":', '(\"', '\"),', '\"-[', '...,', '\")', '..', '\",\"', '?\".', '\"[', '\"(\"', '),\"', '\"\"', '-.', '.,', '].', ')\"', '!\"', '?\"-', '\":\"', '):\"', '\")-', '\"-\"', '-,', ')\".', '?\",', ']\".', '!\",', ']?', '...[', '];', '...\".', '!\"-', '\"!', '!\".', '!?', '?!', ',-', '!...', '!).', ')?', '?...', '.?'] as keyword args. From version 0.25 passing these as positional arguments will result in an error\n",
      "  FutureWarning)\n"
     ]
    },
    {
     "name": "stdout",
     "output_type": "stream",
     "text": [
      "              precision    recall  f1-score   support\n",
      "\n",
      "           :      0.889     0.736     0.805       923\n",
      "           !      0.497     0.222     0.307       347\n",
      "           ,      0.787     0.653     0.714     18592\n",
      "           ?      0.834     0.702     0.762       443\n",
      "           ;      0.219     0.056     0.090       622\n",
      "           .      0.936     0.987     0.961     11401\n",
      "           -      0.527     0.111     0.184       882\n",
      "          ,(      0.000     0.000     0.000         5\n",
      "           \"      0.639     0.145     0.237      1596\n",
      "         \").      0.000     0.000     0.000         0\n",
      "           (      0.957     0.881     0.918      1656\n",
      "           )      0.878     0.835     0.856      1001\n",
      "          ?-      0.000     0.000     0.000         4\n",
      "          .-      0.000     0.000     0.000         2\n",
      "          :)      0.000     0.000     0.000         0\n",
      "          !-      0.667     0.100     0.174        20\n",
      "          :\"      0.679     0.284     0.400        67\n",
      "          .\"      0.500     0.043     0.080        23\n",
      "          :(      0.000     0.000     0.000         1\n",
      "          ?)      0.000     0.000     0.000         0\n",
      "          \"?      0.000     0.000     0.000         1\n",
      "          \".      0.578     0.089     0.154       293\n",
      "          \";      0.000     0.000     0.000         5\n",
      "          \"-      1.000     0.036     0.069        28\n",
      "          ).      0.965     0.923     0.943       271\n",
      "          !,      0.000     0.000     0.000         0\n",
      "          -\"      0.000     0.000     0.000         7\n",
      "          )!      0.000     0.000     0.000         1\n",
      "          \",      0.738     0.554     0.633       829\n",
      "         .\")      0.000     0.000     0.000         1\n",
      "          !;      0.000     0.000     0.000         1\n",
      "          ;(      0.000     0.000     0.000         0\n",
      "          ),      0.801     0.664     0.726       381\n",
      "          ?;      0.000     0.000     0.000         0\n",
      "          ?\"      0.000     0.000     0.000         0\n",
      "          );      0.000     0.000     0.000         0\n",
      "          .)      0.000     0.000     0.000         1\n",
      "          ?,      0.000     0.000     0.000         1\n",
      "          ;\"      0.000     0.000     0.000         0\n",
      "          ):      1.000     0.727     0.842        11\n",
      "           [      0.000     0.000     0.000        45\n",
      "           ]      0.000     0.000     0.000        43\n",
      "         ...      0.000     0.000     0.000        61\n",
      "          ],      0.000     0.000     0.000         3\n",
      "          \"(      0.533     0.258     0.348        31\n",
      "          ,[      0.000     0.000     0.000         1\n",
      "          ,\"      0.000     0.000     0.000        44\n",
      "         ]\",      0.000     0.000     0.000         5\n",
      "          )-      0.000     0.000     0.000        17\n",
      "          \":      0.000     0.000     0.000         0\n",
      "          (\"      0.000     0.000     0.000         0\n",
      "         \"),      0.000     0.000     0.000         1\n",
      "         \"-[      0.000     0.000     0.000         0\n",
      "        ...,      0.000     0.000     0.000         3\n",
      "          \")      0.000     0.000     0.000         2\n",
      "          ..      0.500     0.333     0.400         3\n",
      "         \",\"      0.000     0.000     0.000        10\n",
      "         ?\".      0.000     0.000     0.000         2\n",
      "          \"[      0.000     0.000     0.000         0\n",
      "         \"(\"      0.000     0.000     0.000         2\n",
      "         ),\"      1.000     0.500     0.667         2\n",
      "          \"\"      0.000     0.000     0.000         2\n",
      "          -.      0.000     0.000     0.000         0\n",
      "          .,      0.000     0.000     0.000         0\n",
      "          ].      0.000     0.000     0.000         2\n",
      "          )\"      0.000     0.000     0.000         0\n",
      "          !\"      0.000     0.000     0.000         0\n",
      "         ?\"-      0.000     0.000     0.000         2\n",
      "         \":\"      0.000     0.000     0.000         1\n",
      "         ):\"      0.000     0.000     0.000         0\n",
      "         \")-      0.000     0.000     0.000         1\n",
      "         \"-\"      0.000     0.000     0.000         0\n",
      "          -,      0.000     0.000     0.000         1\n",
      "         )\".      0.000     0.000     0.000         1\n",
      "         ?\",      0.000     0.000     0.000         1\n",
      "         ]\".      0.000     0.000     0.000         0\n",
      "         !\",      0.000     0.000     0.000         1\n",
      "          ]?      0.000     0.000     0.000         0\n",
      "        ...[      0.000     0.000     0.000         2\n",
      "          ];      0.000     0.000     0.000         0\n",
      "       ...\".      0.000     0.000     0.000         0\n",
      "         !\"-      0.000     0.000     0.000         2\n",
      "          \"!      0.000     0.000     0.000         0\n",
      "         !\".      0.000     0.000     0.000         3\n",
      "          !?      0.000     0.000     0.000         0\n",
      "          ?!      0.000     0.000     0.000         0\n",
      "          ,-      0.000     0.000     0.000         4\n",
      "        !...      0.000     0.000     0.000         1\n",
      "         !).      0.000     0.000     0.000         0\n",
      "          )?      0.000     0.000     0.000         3\n",
      "        ?...      0.000     0.000     0.000         0\n",
      "          .?      0.000     0.000     0.000         0\n",
      "\n",
      "   micro avg      0.847     0.709     0.772     39718\n",
      "   macro avg      0.175     0.107     0.122     39718\n",
      "weighted avg      0.811     0.709     0.744     39718\n",
      "\n",
      "0.7546064199540111\n"
     ]
    },
    {
     "name": "stderr",
     "output_type": "stream",
     "text": [
      "/home/mariya/anaconda3/envs/masters/lib/python3.6/site-packages/sklearn/utils/validation.py:70: FutureWarning: Pass labels=[',', '(', ')', '\"', '[', ']', ';', '.', '?', '!', ':', '-', '...'] as keyword args. From version 0.25 passing these as positional arguments will result in an error\n",
      "  FutureWarning)\n"
     ]
    },
    {
     "name": "stdout",
     "output_type": "stream",
     "text": [
      "              precision    recall  f1-score   support\n",
      "\n",
      "           ,      0.787     0.653     0.714     18592\n",
      "           (      0.957     0.881     0.918      1656\n",
      "           )      0.878     0.835     0.856      1001\n",
      "           \"      0.639     0.145     0.237      1596\n",
      "           [      0.000     0.000     0.000        45\n",
      "           ]      0.000     0.000     0.000        43\n",
      "           ;      0.219     0.056     0.090       622\n",
      "           .      0.936     0.987     0.961     11401\n",
      "           ?      0.834     0.702     0.762       443\n",
      "           !      0.497     0.222     0.307       347\n",
      "           :      0.889     0.736     0.805       923\n",
      "           -      0.527     0.111     0.184       882\n",
      "         ...      0.000     0.000     0.000        61\n",
      "\n",
      "   micro avg      0.849     0.721     0.780     37612\n",
      "   macro avg      0.551     0.410     0.449     37612\n",
      "weighted avg      0.817     0.721     0.755     37612\n",
      "\n",
      "['Но синовете им не умъртви, защото постъпи според писаното в закона в книгата на Мойсей, където ГОСПОД заповяда и каза: Бащите да не умират заради синовете и синовете да не умират заради бащите, а всеки да умира за собствения си грях.', 'Но когато ти говоря ще отворя устата ти и ти им кажи: Така казва Господ БОГ: Който слуша, нека слуша, а който не слуша, нека не слуша, защото са бунтовен дом.', 'Защото кой е по-голям този, който седи на трапезата ли или онзи, който слугува?', 'А след това ще се насели, както в предишните дни, заявява ГОСПОД.', 'А Той беше на задната част, заспал на възглавница.', 'Ефрем е като птица славата му ще отлети.', 'И така той си отиде от него на известно разстояние.', 'Не бягам при халдейците.', 'И израилевите синове излязоха от египетската земя строени.', 'А когато Ахитофел видя, че съветът му не се изпълни оседла магарето си и стана и отиде у дома си в своя град, и нареди домашните си работи и се обеси.', 'Ако умре някое животно от добитъка, който можете да ядете, който се допре до мършата му, ще бъде нечист до вечерта.', 'Но помощник съответен на Адам не се намери.', 'Който задържа жито, народът ще го проклина, а благословение ще почива на главата на този, който го продава.', 'Този човек беше праведен и благочестив и чакаше Утехата на Израил и Светият Дух беше на него.', 'Всичко е възможно за този, който вярва.', 'И видях височината на дома околовръст, основите на страничните стаи бяха една цяла тръстика от шест големи лакътя.', 'После да вземеш тлъстината на овена, опашката и тлъстината, която покрива вътрешностите, булото на дроба двата бъбрека с тлъстината, която е около тях и дясното бедро, защото е овен на посвещение и един хляб, една пита хляб, месен с маслинено масло и една кора от коша на безквасните хлябове, които са пред ГОСПОДА.', 'И от дима излязоха скакалци по земята и им се даде власт като властта, която имат земните скорпиони.', 'Ти си, ГОСПОДИ, само Ти.', 'И ще предаде Израил заради греховете на Еровоам, с които съгреши и с които въведе Израил в грях.', 'Синове на Елифаз: Теман и Омар, Сефи и Готом Кенез, и Тамна, и Амалик.', 'А гладът в Самария беше страшен.', 'Затова казах в сърцето си, че и това е суета.', 'Насладих се на сянката му и седнах и плодът му бе сладък в устата ми.', 'Защото така ми каза ГОСПОД: Както ръмжи над лова си лъвът младият лъв срещу когото се свикват множество овчари и не се плаши от гласа им, и не се отдръпва пред шума им, така ГОСПОД на Войнствата, ще слезе за да воюва за хълма Сион и за неговото възвишение.', 'Отче свети, опази ги в Името Си, което си Ми дал, за да бъдат едно, както сме и Ние.', 'И да правите разлика между чистите животни и нечистите и между нечистите птици и чистите и да не осквернявате себе си с животно, или с птица, или с каквото и да е, което пълзи по земята, което Аз съм ви отделил като нечисто.', 'И ГОСПОД укрепи моавския цар Еглон против Израил, защото вършиха зло пред ГОСПОДА.', 'И Духът ми каза да отида с тях, без да се двоумя.', 'В двадесет и седмата година на израилевия цар Еровоам се възцари Азария, синът на юдовия цар Амасия.', 'Защото вашата послушност е известна на всички; затова се радвам за вас.', 'Той изтегля всички с въдица влачи ги в мрежата си и ги събира в рибарската си мрежа- затова се радва и се весели.', 'Благословен да е ГОСПОД Бог Богът на Израил, който единствен върши чудеса.', 'И които влязоха мъжко и женско от всяка плът, влязоха, както Бог му беше заповядал, и ГОСПОД затвори след него.', 'Тогава царят каза на Божия човек: Ела с мен у дома и се подкрепи и ще ти дам подарък.', 'И ето, въпреки че е посадена ще успее ли?', 'От дома Тогарма, даваха за стоките ти коне бойни коне и мулета.', 'Затова заповядай гробът да се пази здраво до третия ден да не би учениците Му да дойдат и да Го откраднат и да кажат на народа Възкръсна от мъртвите.', 'И когато отвори петия печат, видях под олтара, душите на онези, които са били заклани за Божието слово и за свидетелството, което държаха.', 'И свещениците, които служат на ГОСПОДА са синовете на Аарон и левитите са в службата.', 'Той тича след тях с умолителни думи, но тях ги няма.', 'И измери дължината му четиридесет лакътя и ширината му- двадесет лакътя.', 'Затова, така казва ГОСПОД, Бог на Войнствата, Израилевият Бог: Ето, Аз ще докарам върху Юда и върху всичките ерусалимски жители цялото зло, което говорих против тях, защото им говорих, но не слушаха и ги виках, но не отговаряха.', 'Сине мой, слушай наставлението на баща си и не отхвърляй закона на майка си, защото те ще бъдат благодатен венец за главата ти и огърлица за шията ти.', 'Тогава облакът започна да се издига от града в димен стълб и Вениамин, се обърна и ето, целият град се издигаше в пламъци към небето.', 'В онзи ден няма да се срамуваш от всичките си дела, с които си отстъпил от Мен, защото тогава ще отнема отсред теб, твоите, които горделиво тържествуват и ти няма вече да се държиш надменно на светия Ми хълм.', 'А свинарите, като видяха станалото, избягаха и разказаха за това в града и в селата.', 'И Илий благослови Елкана и жена му и каза: ГОСПОД да ти даде потомство от тази жена, вместо заетото, което беше посветено на ГОСПОДА.', 'И ако живее във вас: Духът на Този, който възкреси Иисус от мъртвите то Този, който възкреси Христос от мъртвите ще съживи и вашите смъртни тела чрез Духа Си, който живее във вас.', 'А ГОСПОД си извърши, както беше говорил чрез мен и ГОСПОД откъсна царството от ръката ти и го даде на ближния ти на Давид.', 'Даде и храна, за магаретата им.', 'Книгата на видението на елкусеянина Наум.', 'И направи олтара за всеизгаряне от акациево дърво, пет лакътя беше дължината му и пет лакътя беше ширината му, четвъртит и три лакътя беше височината му.', 'Те ми казаха: Направи ни богове, които да ходят пред нас, защото на този Мойсей човека, който ни изведе от египетската земя не знаем какво му стана.', 'Тогава Мардохей каза да отговорят на Естир: Не мисли в себе си, че от всичките юдеи само ти ще се избавиш в царския дом.', 'Но аз не бих познал греха освен чрез закона, защото не бих знаел пожелание, ако законът не беше казал: Не пожелавай.', 'Тогава народът Му си спомни за древните дни на Мойсей: Къде е Онзи, който ги изведе от морето с пастирите на стадото Си?', 'И три пъти в годината Соломон принасяше всеизгаряния и примирителни жертви върху олтара, който построи на ГОСПОДА и кадеше върху олтара, който беше пред ГОСПОДА.', 'И след като им поставиха старейшини във всяка църква и се помолиха с пост ги препоръчаха на Господа, в когото бяха повярвали.', 'С нея Той подейства в Христос, като Го възкреси от мъртвите и Го сложи да седне от дясната Си страна на небесата далеч над всяко началство и власт и сила и господство и всяко име, с което се наименуват не само в този свят, но и в бъдещия.', 'Стрелец срещу стрелец да опъва лъка си и срещу онзи, който се надига в бронята си.', 'Затова онази нива е, наречена и до днес Кръвна нива.', 'И така слугите на цар Езекия отидоха при Исая.', 'И никой свещеник да не пие вино, когато влиза във вътрешния двор.', 'И Охозия, падна през решетката на горната си, стая в Самария и се разболя.', 'Защо не разбирате Моето говорене?', 'А Лаван в отговор каза на Яков: Тези дъщери са мои дъщери и синовете са мои синове и стадата, са мои стада.', 'А чуждият, който се приближи да се умъртви.', 'И двамата сина на Илий, Офний и Финеес бяха там с ковчега на Божия завет.', 'Иисус му каза: Лисиците си имат леговища и небесните птици гнезда, а Човешкият Син няма къде глава да подслони.', 'От кръвта на убитите от тлъстината на силните, лъкът на Йонатан не се обръщаше назад и мечът на Саул не се връщаше празен.', 'Станах за присмех на целия си народ и за тяхна подигравателна песен цял ден.', 'Да учите на тях синовете си, като говорите за тях, когато седиш в къщата си, когато ходиш по пътя, когато лягаш и когато ставаш.', 'И ГОСПОД се разкая за злото, което беше казал, че ще направи на народа Си.', 'А Юда изпрати ярето чрез ръката на приятеля си одоламеца, за да вземе залога от ръката на жената, но той не я намери.', 'И царят заповяда и доведоха онези мъже, които бяха издали Даниил, и хвърлиха тях децата им и жените им в рова на лъвовете и още преди да стигнат до дъното на рова, лъвовете ги сграбчиха и строшиха всичките им кости.', 'И Йоав и народът, който беше с него настъпиха за битката против арамейците; и те побягнаха пред него.', 'И като го повикаха Тертил, започна да обвинява като казваше: Понеже чрез теб честити Феликсе, се радваме на голямо спокойствие и понеже чрез твоята предвидливост има подобрения за този народ, то ние с пълна благодарност, винаги и навсякъде посрещаме това.', 'Защото Йоан казваше на Ирод: Не ти е позволено да имаш жената на брат си.', 'А в първия ден на седмицата много рано сутринта, те дойдоха на гроба, като носеха благоуханните масла, които бяха приготвили.', 'Ще бъде ли добре да ви изпита Той?', 'След това Яков каза на Лаван: Дай жена ми, защото дойде време да вляза при нея.', 'А посветените дарове, бяха шестстотин говеда и три хиляди овце.', 'Кога ще се събудя за да продължа да го потърся пак.', 'Изнемогвам от викането си гърлото ми е пресъхнало очите ми чезнат, докато чакам своя Бог.', 'Това са родовете на Мерарий.', 'На следващия ден едно голямо множество, което беше дошло на празника, като чуха, че Иисус идвал в Ерусалим, взеха палмови клони и излязоха да Го посрещнат, викайки Осанна.', 'И той каза: Имам нещо да ти кажа.', 'Ако някой, който е престъпил закона на Мойсей умира безпощадно при думата на двама или трима свидетели, то колко по-тежко наказание мислите ще заслужи онзи, който е потъпкал Божия Син и е счел за просто нещо, кръвта на завета, с която е бил осветен и е оскърбил Духа на благодатта.', 'Върни се, сине мой, Давиде, защото няма вече да ти сторя зло, понеже днес животът ми беше скъпоценен пред очите ти.', 'Ще дойдат големци от Египет Етиопия бързо ще протегне ръцете си към Бога.', 'Затова хората Му се боят и Той не гледа на никого от мъдрите по сърце.', 'И Го следваше голямо множество от народ и жени, които плачеха за Него.', 'Ето ви семе засейте земята!', 'И Давид дойде във Ваал-Ферасим и Давид ги разби там, и каза: ГОСПОД разсече пред мен, враговете ми, както водите правят пролом.', 'Кадилниците на тези мъже, които съгрешиха против живота си, нека ги направят на плочи за обковаване на олтара, защото те ги принесоха пред ГОСПОДА и затова са свети и те ще бъдат за знамение на израилевите синове.', 'И когато фараонът отказваше да ни пусне, ГОСПОД, уби всяко първородно в египетската земя от първородно на човек до първородно на животно, затова жертвам на ГОСПОДА всяко първородно, което е мъжко, а всеки първороден от синовете си изкупувам.', 'А без вяра не е възможно да се угоди на Бога, защото, който идва при Бога, трябва да вярва, че Той съществува и че възнаграждава тези, които Го търсят.', 'И докато още говореше с тях, ето, пратеникът слезе при него и каза: Ето, това зло е от ГОСПОДА.', 'А вие сами ли ще продадете братята си?']\n"
     ]
    }
   ],
   "source": [
    "labels = list(crf.classes_)\n",
    "y_pred = crf.predict(X_dev)\n",
    "print(metrics.flat_f1_score(y_dev, y_pred, average='weighted', labels=labels))\n",
    "print(metrics.flat_classification_report(y_dev, y_pred, labels=labels, digits=3))\n",
    "labels.remove('')\n",
    "print(metrics.flat_f1_score(y_dev, y_pred, average='weighted', labels=labels))\n",
    "print(metrics.flat_classification_report(y_dev, y_pred, labels=labels, digits=3))\n",
    "labels = [',','(',')','\"','[',']',';','.','?','!',':','-', '...']\n",
    "print(metrics.flat_f1_score(y_dev, y_pred, average='weighted', labels=labels))\n",
    "print(metrics.flat_classification_report(y_dev, y_pred, labels=labels, digits=3))\n",
    "punctuated_sentences = punctuate(X_dev, y_pred)\n",
    "print(punctuated_sentences[:100])"
   ]
  }
 ],
 "metadata": {
  "kernelspec": {
   "display_name": "Python 3",
   "language": "python",
   "name": "python3"
  },
  "language_info": {
   "codemirror_mode": {
    "name": "ipython",
    "version": 3
   },
   "file_extension": ".py",
   "mimetype": "text/x-python",
   "name": "python",
   "nbconvert_exporter": "python",
   "pygments_lexer": "ipython3",
   "version": "3.6.13"
  }
 },
 "nbformat": 4,
 "nbformat_minor": 5
}
