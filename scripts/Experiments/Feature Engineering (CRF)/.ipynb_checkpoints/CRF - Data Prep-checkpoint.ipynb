{
 "cells": [
  {
   "cell_type": "markdown",
   "id": "b9c0c11e",
   "metadata": {},
   "source": [
    "### Import Functions"
   ]
  },
  {
   "cell_type": "code",
   "execution_count": 1,
   "id": "932eb933",
   "metadata": {},
   "outputs": [],
   "source": [
    "from ipynb.fs.full.utilities import *"
   ]
  },
  {
   "cell_type": "markdown",
   "id": "b1957d6f",
   "metadata": {},
   "source": [
    "### Data Prep Train Set - 60% of Data"
   ]
  },
  {
   "cell_type": "code",
   "execution_count": 4,
   "id": "4f27505b",
   "metadata": {},
   "outputs": [
    {
     "name": "stderr",
     "output_type": "stream",
     "text": [
      "2021-10-12 12:52:28 INFO: Loading these models for language: bg (Bulgarian):\n",
      "========================\n",
      "| Processor | Package  |\n",
      "------------------------\n",
      "| tokenize  | standard |\n",
      "========================\n",
      "\n",
      "2021-10-12 12:52:28 INFO: Use device: gpu\n",
      "2021-10-12 12:52:28 INFO: Loading: tokenize\n",
      "2021-10-12 12:52:28 INFO: Done loading processors!\n",
      "2021-10-12 12:53:14 INFO: Loading these models for language: bg (Bulgarian):\n",
      "========================\n",
      "| Processor | Package  |\n",
      "------------------------\n",
      "| tokenize  | standard |\n",
      "| pos       | standard |\n",
      "========================\n",
      "\n",
      "2021-10-12 12:53:14 INFO: Use device: gpu\n",
      "2021-10-12 12:53:14 INFO: Loading: tokenize\n",
      "2021-10-12 12:53:14 INFO: Loading: pos\n",
      "2021-10-12 12:53:15 INFO: Done loading processors!\n"
     ]
    },
    {
     "name": "stdout",
     "output_type": "stream",
     "text": [
      "CPU times: user 1h 8min 37s, sys: 7.36 s, total: 1h 8min 44s\n",
      "Wall time: 1h 8min 43s\n"
     ]
    }
   ],
   "source": [
    "%%time\n",
    "X_train_60, y_train_60 = data_prep('../../data/Train_60.txt', json_serialize=True)"
   ]
  },
  {
   "cell_type": "code",
   "execution_count": 6,
   "id": "a5d9d9a1",
   "metadata": {},
   "outputs": [],
   "source": [
    "verify_prepped_data(X_train_60, y_train_60)"
   ]
  },
  {
   "cell_type": "markdown",
   "id": "018536dd",
   "metadata": {},
   "source": [
    "### Data Prep Dev Set - 10% of Data"
   ]
  },
  {
   "cell_type": "code",
   "execution_count": 5,
   "id": "0d34fb3c",
   "metadata": {},
   "outputs": [
    {
     "name": "stderr",
     "output_type": "stream",
     "text": [
      "2021-10-12 14:01:12 INFO: Loading these models for language: bg (Bulgarian):\n",
      "========================\n",
      "| Processor | Package  |\n",
      "------------------------\n",
      "| tokenize  | standard |\n",
      "========================\n",
      "\n",
      "2021-10-12 14:01:12 INFO: Use device: gpu\n",
      "2021-10-12 14:01:12 INFO: Loading: tokenize\n",
      "2021-10-12 14:01:12 INFO: Done loading processors!\n",
      "2021-10-12 14:01:24 INFO: Loading these models for language: bg (Bulgarian):\n",
      "========================\n",
      "| Processor | Package  |\n",
      "------------------------\n",
      "| tokenize  | standard |\n",
      "| pos       | standard |\n",
      "========================\n",
      "\n",
      "2021-10-12 14:01:24 INFO: Use device: gpu\n",
      "2021-10-12 14:01:24 INFO: Loading: tokenize\n",
      "2021-10-12 14:01:24 INFO: Loading: pos\n",
      "2021-10-12 14:01:26 INFO: Done loading processors!\n"
     ]
    },
    {
     "name": "stdout",
     "output_type": "stream",
     "text": [
      "CPU times: user 11min 33s, sys: 1.38 s, total: 11min 35s\n",
      "Wall time: 11min 34s\n"
     ]
    }
   ],
   "source": [
    "%%time\n",
    "X_dev, y_dev = data_prep('../../data/Dev.txt')"
   ]
  },
  {
   "cell_type": "code",
   "execution_count": 7,
   "id": "27a109b7",
   "metadata": {},
   "outputs": [],
   "source": [
    "verify_prepped_data(X_dev, y_dev)"
   ]
  },
  {
   "cell_type": "markdown",
   "id": "ad0b902b",
   "metadata": {},
   "source": [
    "### Data Prep Dev Set - 20% of Data"
   ]
  },
  {
   "cell_type": "code",
   "execution_count": 2,
   "id": "7984c90e",
   "metadata": {},
   "outputs": [
    {
     "name": "stderr",
     "output_type": "stream",
     "text": [
      "2021-11-01 19:35:50 INFO: Loading these models for language: bg (Bulgarian):\n",
      "========================\n",
      "| Processor | Package  |\n",
      "------------------------\n",
      "| tokenize  | standard |\n",
      "========================\n",
      "\n",
      "2021-11-01 19:35:50 INFO: Use device: cpu\n",
      "2021-11-01 19:35:50 INFO: Loading: tokenize\n",
      "2021-11-01 19:35:51 INFO: Done loading processors!\n",
      "2021-11-01 19:36:04 INFO: Loading these models for language: bg (Bulgarian):\n",
      "========================\n",
      "| Processor | Package  |\n",
      "------------------------\n",
      "| tokenize  | standard |\n",
      "| pos       | standard |\n",
      "========================\n",
      "\n",
      "2021-11-01 19:36:04 INFO: Use device: cpu\n",
      "2021-11-01 19:36:04 INFO: Loading: tokenize\n",
      "2021-11-01 19:36:04 INFO: Loading: pos\n",
      "2021-11-01 19:36:05 INFO: Done loading processors!\n"
     ]
    },
    {
     "name": "stdout",
     "output_type": "stream",
     "text": [
      "CPU times: user 29min 4s, sys: 13min 46s, total: 42min 51s\n",
      "Wall time: 31min 2s\n"
     ]
    }
   ],
   "source": [
    "%%time\n",
    "X_dev, y_dev = data_prep('../../data/Dev_20.txt', json_serialize=True)"
   ]
  },
  {
   "cell_type": "code",
   "execution_count": 3,
   "id": "a6c29e73",
   "metadata": {},
   "outputs": [],
   "source": [
    "verify_prepped_data(X_dev, y_dev)"
   ]
  },
  {
   "cell_type": "markdown",
   "id": "47845952",
   "metadata": {},
   "source": [
    "### Data Prep Test Set - 20% of Data"
   ]
  },
  {
   "cell_type": "code",
   "execution_count": 2,
   "id": "b73f2fb0",
   "metadata": {},
   "outputs": [
    {
     "name": "stderr",
     "output_type": "stream",
     "text": [
      "2021-11-01 20:24:49 INFO: Loading these models for language: bg (Bulgarian):\n",
      "========================\n",
      "| Processor | Package  |\n",
      "------------------------\n",
      "| tokenize  | standard |\n",
      "========================\n",
      "\n",
      "2021-11-01 20:24:49 INFO: Use device: cpu\n",
      "2021-11-01 20:24:49 INFO: Loading: tokenize\n",
      "2021-11-01 20:24:49 INFO: Done loading processors!\n",
      "2021-11-01 20:25:02 INFO: Loading these models for language: bg (Bulgarian):\n",
      "========================\n",
      "| Processor | Package  |\n",
      "------------------------\n",
      "| tokenize  | standard |\n",
      "| pos       | standard |\n",
      "========================\n",
      "\n",
      "2021-11-01 20:25:02 INFO: Use device: cpu\n",
      "2021-11-01 20:25:02 INFO: Loading: tokenize\n",
      "2021-11-01 20:25:02 INFO: Loading: pos\n",
      "2021-11-01 20:25:03 INFO: Done loading processors!\n"
     ]
    },
    {
     "name": "stdout",
     "output_type": "stream",
     "text": [
      "CPU times: user 27min 44s, sys: 12min 55s, total: 40min 40s\n",
      "Wall time: 29min 38s\n"
     ]
    }
   ],
   "source": [
    "%%time\n",
    "X_test, y_test = data_prep('../../data/Test_20.txt', json_serialize=True)"
   ]
  },
  {
   "cell_type": "code",
   "execution_count": 3,
   "id": "f07c14ce",
   "metadata": {},
   "outputs": [],
   "source": [
    "verify_prepped_data(X_test, y_test)"
   ]
  }
 ],
 "metadata": {
  "kernelspec": {
   "display_name": "Python 3",
   "language": "python",
   "name": "python3"
  },
  "language_info": {
   "codemirror_mode": {
    "name": "ipython",
    "version": 3
   },
   "file_extension": ".py",
   "mimetype": "text/x-python",
   "name": "python",
   "nbconvert_exporter": "python",
   "pygments_lexer": "ipython3",
   "version": "3.6.13"
  }
 },
 "nbformat": 4,
 "nbformat_minor": 5
}
