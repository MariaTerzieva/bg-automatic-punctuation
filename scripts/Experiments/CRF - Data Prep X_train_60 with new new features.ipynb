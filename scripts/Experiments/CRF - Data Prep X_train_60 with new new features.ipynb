{
 "cells": [
  {
   "cell_type": "markdown",
   "id": "b9c0c11e",
   "metadata": {},
   "source": [
    "### Import Functions"
   ]
  },
  {
   "cell_type": "code",
   "execution_count": 1,
   "id": "932eb933",
   "metadata": {},
   "outputs": [],
   "source": [
    "from ipynb.fs.full.utilities import *"
   ]
  },
  {
   "cell_type": "markdown",
   "id": "b1957d6f",
   "metadata": {},
   "source": [
    "### Data Prep"
   ]
  },
  {
   "cell_type": "code",
   "execution_count": 4,
   "id": "4f27505b",
   "metadata": {},
   "outputs": [
    {
     "name": "stderr",
     "output_type": "stream",
     "text": [
      "2021-10-12 12:52:28 INFO: Loading these models for language: bg (Bulgarian):\n",
      "========================\n",
      "| Processor | Package  |\n",
      "------------------------\n",
      "| tokenize  | standard |\n",
      "========================\n",
      "\n",
      "2021-10-12 12:52:28 INFO: Use device: gpu\n",
      "2021-10-12 12:52:28 INFO: Loading: tokenize\n",
      "2021-10-12 12:52:28 INFO: Done loading processors!\n",
      "2021-10-12 12:53:14 INFO: Loading these models for language: bg (Bulgarian):\n",
      "========================\n",
      "| Processor | Package  |\n",
      "------------------------\n",
      "| tokenize  | standard |\n",
      "| pos       | standard |\n",
      "========================\n",
      "\n",
      "2021-10-12 12:53:14 INFO: Use device: gpu\n",
      "2021-10-12 12:53:14 INFO: Loading: tokenize\n",
      "2021-10-12 12:53:14 INFO: Loading: pos\n",
      "2021-10-12 12:53:15 INFO: Done loading processors!\n"
     ]
    },
    {
     "name": "stdout",
     "output_type": "stream",
     "text": [
      "CPU times: user 1h 8min 37s, sys: 7.36 s, total: 1h 8min 44s\n",
      "Wall time: 1h 8min 43s\n"
     ]
    }
   ],
   "source": [
    "%%time\n",
    "X_train_60, y_train_60 = data_prep('../../data/Train_60.txt')"
   ]
  },
  {
   "cell_type": "code",
   "execution_count": 5,
   "id": "0d34fb3c",
   "metadata": {},
   "outputs": [
    {
     "name": "stderr",
     "output_type": "stream",
     "text": [
      "2021-10-12 14:01:12 INFO: Loading these models for language: bg (Bulgarian):\n",
      "========================\n",
      "| Processor | Package  |\n",
      "------------------------\n",
      "| tokenize  | standard |\n",
      "========================\n",
      "\n",
      "2021-10-12 14:01:12 INFO: Use device: gpu\n",
      "2021-10-12 14:01:12 INFO: Loading: tokenize\n",
      "2021-10-12 14:01:12 INFO: Done loading processors!\n",
      "2021-10-12 14:01:24 INFO: Loading these models for language: bg (Bulgarian):\n",
      "========================\n",
      "| Processor | Package  |\n",
      "------------------------\n",
      "| tokenize  | standard |\n",
      "| pos       | standard |\n",
      "========================\n",
      "\n",
      "2021-10-12 14:01:24 INFO: Use device: gpu\n",
      "2021-10-12 14:01:24 INFO: Loading: tokenize\n",
      "2021-10-12 14:01:24 INFO: Loading: pos\n",
      "2021-10-12 14:01:26 INFO: Done loading processors!\n"
     ]
    },
    {
     "name": "stdout",
     "output_type": "stream",
     "text": [
      "CPU times: user 11min 33s, sys: 1.38 s, total: 11min 35s\n",
      "Wall time: 11min 34s\n"
     ]
    }
   ],
   "source": [
    "%%time\n",
    "X_dev, y_dev = data_prep('../../data/Dev.txt')"
   ]
  },
  {
   "cell_type": "code",
   "execution_count": 6,
   "id": "a5d9d9a1",
   "metadata": {},
   "outputs": [],
   "source": [
    "verify_prepped_data(X_train_60, y_train_60)"
   ]
  },
  {
   "cell_type": "code",
   "execution_count": 7,
   "id": "27a109b7",
   "metadata": {},
   "outputs": [],
   "source": [
    "verify_prepped_data(X_dev, y_dev)"
   ]
  },
  {
   "cell_type": "code",
   "execution_count": 8,
   "id": "5d734266",
   "metadata": {},
   "outputs": [],
   "source": [
    "save_as_json(X_train_60, '../../data/X_train_60_2.json')"
   ]
  },
  {
   "cell_type": "code",
   "execution_count": 9,
   "id": "b8551b42",
   "metadata": {},
   "outputs": [],
   "source": [
    "save_as_json(y_train_60, '../../data/y_train_60_2.json')"
   ]
  },
  {
   "cell_type": "code",
   "execution_count": 10,
   "id": "4f8f67b1",
   "metadata": {},
   "outputs": [],
   "source": [
    "save_as_json(X_dev, '../../data/X_dev_2.json')"
   ]
  },
  {
   "cell_type": "code",
   "execution_count": 11,
   "id": "f4724bec",
   "metadata": {},
   "outputs": [],
   "source": [
    "save_as_json(y_dev, '../../data/y_dev_2.json')"
   ]
  }
 ],
 "metadata": {
  "kernelspec": {
   "display_name": "Python 3",
   "language": "python",
   "name": "python3"
  },
  "language_info": {
   "codemirror_mode": {
    "name": "ipython",
    "version": 3
   },
   "file_extension": ".py",
   "mimetype": "text/x-python",
   "name": "python",
   "nbconvert_exporter": "python",
   "pygments_lexer": "ipython3",
   "version": "3.6.13"
  }
 },
 "nbformat": 4,
 "nbformat_minor": 5
}
