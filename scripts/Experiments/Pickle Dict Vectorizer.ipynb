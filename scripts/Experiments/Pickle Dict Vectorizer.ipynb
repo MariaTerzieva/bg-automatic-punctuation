{
 "cells": [
  {
   "cell_type": "markdown",
   "id": "7a0e6814",
   "metadata": {},
   "source": [
    "### Import Functions"
   ]
  },
  {
   "cell_type": "code",
   "execution_count": 1,
   "id": "f85ba4f0",
   "metadata": {},
   "outputs": [],
   "source": [
    "from ipynb.fs.full.utilities import *\n",
    "from sklearn.feature_extraction import DictVectorizer\n",
    "import pickle"
   ]
  },
  {
   "cell_type": "markdown",
   "id": "e37319bb",
   "metadata": {},
   "source": [
    "### Export Dict Vectorizer as Pickle"
   ]
  },
  {
   "cell_type": "code",
   "execution_count": 5,
   "id": "134a5f8e",
   "metadata": {},
   "outputs": [],
   "source": [
    "X_train_60 = load_json('../../data/Train_60_X.json')\n",
    "X_train_60_flat = [word for sentence in X_train_60 for word in sentence]"
   ]
  },
  {
   "cell_type": "code",
   "execution_count": 6,
   "id": "43665575",
   "metadata": {},
   "outputs": [],
   "source": [
    "v = DictVectorizer()\n",
    "X_train_60_svm = v.fit_transform(X_train_60_flat)"
   ]
  },
  {
   "cell_type": "code",
   "execution_count": 7,
   "id": "336af174",
   "metadata": {},
   "outputs": [],
   "source": [
    "pkl_filename = '../../data/dict_vectorizer.pkl'\n",
    "with open(pkl_filename, 'wb') as file:\n",
    "    pickle.dump(v, file)"
   ]
  },
  {
   "cell_type": "markdown",
   "id": "2e76dd15",
   "metadata": {},
   "source": [
    "### Test Pickle Export"
   ]
  },
  {
   "cell_type": "code",
   "execution_count": 2,
   "id": "fd07c856",
   "metadata": {},
   "outputs": [],
   "source": [
    "pkl_filename = '../../data/dict_vectorizer.pkl'\n",
    "with open(pkl_filename, 'rb') as file:\n",
    "    v = pickle.load(file)"
   ]
  },
  {
   "cell_type": "code",
   "execution_count": 3,
   "id": "c983628b",
   "metadata": {},
   "outputs": [],
   "source": [
    "X_dev_20 = load_json('../../data/Dev_20_X.json')\n",
    "X_dev_20_flat = [word for sentence in X_dev_20 for word in sentence]"
   ]
  },
  {
   "cell_type": "code",
   "execution_count": 4,
   "id": "ac789f2a",
   "metadata": {},
   "outputs": [],
   "source": [
    "X_dev_20_svm = v.transform(X_dev_20_flat)"
   ]
  }
 ],
 "metadata": {
  "kernelspec": {
   "display_name": "Python 3",
   "language": "python",
   "name": "python3"
  },
  "language_info": {
   "codemirror_mode": {
    "name": "ipython",
    "version": 3
   },
   "file_extension": ".py",
   "mimetype": "text/x-python",
   "name": "python",
   "nbconvert_exporter": "python",
   "pygments_lexer": "ipython3",
   "version": "3.6.13"
  }
 },
 "nbformat": 4,
 "nbformat_minor": 5
}
