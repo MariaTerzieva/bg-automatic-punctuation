{
 "cells": [
  {
   "cell_type": "code",
   "execution_count": 1,
   "id": "49f0a35d",
   "metadata": {},
   "outputs": [],
   "source": [
    "import json\n",
    "import sklearn_crfsuite\n",
    "from sklearn_crfsuite import metrics\n",
    "import classla\n",
    "import json"
   ]
  },
  {
   "cell_type": "code",
   "execution_count": 95,
   "id": "0fc30793",
   "metadata": {},
   "outputs": [],
   "source": [
    "import re"
   ]
  },
  {
   "cell_type": "code",
   "execution_count": 9,
   "id": "31a74497",
   "metadata": {},
   "outputs": [
    {
     "name": "stderr",
     "output_type": "stream",
     "text": [
      "2021-09-11 22:49:23 INFO: Loading these models for language: bg (Bulgarian):\n",
      "========================\n",
      "| Processor | Package  |\n",
      "------------------------\n",
      "| tokenize  | standard |\n",
      "| pos       | standard |\n",
      "========================\n",
      "\n",
      "2021-09-11 22:49:23 INFO: Use device: cpu\n",
      "2021-09-11 22:49:23 INFO: Loading: tokenize\n",
      "2021-09-11 22:49:23 INFO: Loading: pos\n",
      "2021-09-11 22:49:24 INFO: Done loading processors!\n"
     ]
    }
   ],
   "source": [
    "nlp = classla.Pipeline('bg', processors='tokenize,pos')"
   ]
  },
  {
   "cell_type": "code",
   "execution_count": 11,
   "id": "f5146176",
   "metadata": {},
   "outputs": [
    {
     "name": "stderr",
     "output_type": "stream",
     "text": [
      "2021-09-11 22:49:42 INFO: Loading these models for language: bg (Bulgarian):\n",
      "========================\n",
      "| Processor | Package  |\n",
      "------------------------\n",
      "| tokenize  | standard |\n",
      "========================\n",
      "\n",
      "2021-09-11 22:49:42 INFO: Use device: cpu\n",
      "2021-09-11 22:49:42 INFO: Loading: tokenize\n",
      "2021-09-11 22:49:42 INFO: Done loading processors!\n"
     ]
    }
   ],
   "source": [
    "nlp_tokenize = classla.Pipeline('bg', processors='tokenize')"
   ]
  },
  {
   "cell_type": "code",
   "execution_count": 4,
   "id": "744a6483",
   "metadata": {},
   "outputs": [],
   "source": [
    "def read_file_as_list_of_sentences(input_file_name):\n",
    "    with open(input_file_name, \"r\") as input_file:\n",
    "        return input_file.read().splitlines()"
   ]
  },
  {
   "cell_type": "code",
   "execution_count": 5,
   "id": "8bee954c",
   "metadata": {},
   "outputs": [],
   "source": [
    "def pos_tokenize(list_of_sentences, pos_tokenize_pipeline):\n",
    "    return [pos_tokenize_pipeline(sentence).to_dict()[0][0] for sentence in list_of_sentences]"
   ]
  },
  {
   "cell_type": "code",
   "execution_count": 6,
   "id": "c0f67be1",
   "metadata": {},
   "outputs": [],
   "source": [
    "def save_pos_tokenized_sentences_as_json(pos_tokenized_sentences, output_file_name):\n",
    "    with open(output_file_name, \"w\") as output_file:\n",
    "        json.dump(pos_tokenized_sentences, output_file) "
   ]
  },
  {
   "cell_type": "code",
   "execution_count": 16,
   "id": "2f1f7fe8",
   "metadata": {},
   "outputs": [],
   "source": [
    "def remove_punctuation(sent):\n",
    "    new_sent = ''\n",
    "\n",
    "    for i in range(len(sent)):\n",
    "        if sent[i]['text'] not in ',()\"[];.?!:-':\n",
    "            new_sent = new_sent + sent[i]['text'] + ' '\n",
    "    \n",
    "    return new_sent"
   ]
  },
  {
   "cell_type": "code",
   "execution_count": 25,
   "id": "cdaf90e5",
   "metadata": {},
   "outputs": [],
   "source": [
    "def word2features(sent, i):\n",
    "    features = {\n",
    "        'word': sent[i]['text'],\n",
    "        'sent_len': len(sent),\n",
    "        'pos_in_sent': i,\n",
    "        'upos': sent[i]['upos'],\n",
    "        'xpos': sent[i]['xpos'],\n",
    "        'first_word_in_sent': sent[0]['text']\n",
    "    }\n",
    "\n",
    "    if i > 0:\n",
    "        features.update({\n",
    "            'prev_word': sent[i-1]['text']\n",
    "        })\n",
    "    else:\n",
    "        features.update({\n",
    "            'BOS': True\n",
    "        })\n",
    "\n",
    "    if i < len(sent)-1:\n",
    "        features.update({\n",
    "            'next_word': sent[i+1]['text']\n",
    "        })\n",
    "    else:\n",
    "        features.update({\n",
    "            'EOS': True\n",
    "        })\n",
    "\n",
    "    return features"
   ]
  },
  {
   "cell_type": "code",
   "execution_count": 26,
   "id": "c2a093df",
   "metadata": {},
   "outputs": [],
   "source": [
    "def sent2features(sent):\n",
    "    return [word2features(sent, i) for i in range(len(sent))]"
   ]
  },
  {
   "cell_type": "code",
   "execution_count": 27,
   "id": "53f8f945",
   "metadata": {},
   "outputs": [],
   "source": [
    "#Add support for when multiple punct signs are one after another\n",
    "def word2label(sent, i):\n",
    "    if i < len(sent) - 1:\n",
    "        if sent[i+1]['text'] in ',()\"[];.?!:-':\n",
    "            return sent[i+1]['text']\n",
    "        else:\n",
    "            return ''\n",
    "    else:\n",
    "        return ''"
   ]
  },
  {
   "cell_type": "code",
   "execution_count": 28,
   "id": "2ed05a5c",
   "metadata": {},
   "outputs": [],
   "source": [
    "def sent2labels(sent):\n",
    "    return [word2label(sent, i) for i in range(len(sent))]"
   ]
  },
  {
   "cell_type": "code",
   "execution_count": 29,
   "id": "d6807ff6",
   "metadata": {},
   "outputs": [],
   "source": [
    "f = open('../data/Bible/processed/Bibliia_clean_dev.json', \"r\", encoding=\"utf-8\")"
   ]
  },
  {
   "cell_type": "code",
   "execution_count": 30,
   "id": "a8ff7528",
   "metadata": {},
   "outputs": [],
   "source": [
    "f2 = open('../data/Bible/processed/Bibliia_clean_test.json', \"r\", encoding=\"utf-8\")"
   ]
  },
  {
   "cell_type": "code",
   "execution_count": 31,
   "id": "3eb137fa",
   "metadata": {},
   "outputs": [],
   "source": [
    "data = json.load(f)"
   ]
  },
  {
   "cell_type": "code",
   "execution_count": 32,
   "id": "4b811527",
   "metadata": {},
   "outputs": [],
   "source": [
    "test_data = json.load(f2)"
   ]
  },
  {
   "cell_type": "code",
   "execution_count": 45,
   "id": "473d0ae4",
   "metadata": {},
   "outputs": [],
   "source": [
    "f3 = open('../data/Bible/processed/Bibliia_clean_one_sent.json', \"r\", encoding=\"utf-8\")"
   ]
  },
  {
   "cell_type": "code",
   "execution_count": 46,
   "id": "31b520e7",
   "metadata": {},
   "outputs": [],
   "source": [
    "f3_data = json.load(f3)"
   ]
  },
  {
   "cell_type": "code",
   "execution_count": 36,
   "id": "1be957d1",
   "metadata": {},
   "outputs": [
    {
     "name": "stdout",
     "output_type": "stream",
     "text": [
      "CPU times: user 264 ms, sys: 0 ns, total: 264 ms\n",
      "Wall time: 265 ms\n"
     ]
    }
   ],
   "source": [
    "%%time\n",
    "X_train = [sent2features(sent) for sent in data]\n",
    "y_train = [sent2labels(sent) for sent in data]\n",
    "\n",
    "X_test = [sent2features(sent) for sent in test_data]\n",
    "y_test = [sent2labels(sent) for sent in test_data]"
   ]
  },
  {
   "cell_type": "code",
   "execution_count": 37,
   "id": "1b055193",
   "metadata": {},
   "outputs": [
    {
     "name": "stdout",
     "output_type": "stream",
     "text": [
      "CPU times: user 9.18 s, sys: 18.4 ms, total: 9.19 s\n",
      "Wall time: 9.2 s\n"
     ]
    }
   ],
   "source": [
    "%%time\n",
    "crf = sklearn_crfsuite.CRF(\n",
    "    algorithm='lbfgs',\n",
    "    c1=0.1,\n",
    "    c2=0.1,\n",
    "    max_iterations=100,\n",
    "    all_possible_transitions=True\n",
    ")\n",
    "crf.fit(X_train, y_train)"
   ]
  },
  {
   "cell_type": "code",
   "execution_count": 38,
   "id": "a0f0c375",
   "metadata": {},
   "outputs": [],
   "source": [
    "labels = list(crf.classes_)"
   ]
  },
  {
   "cell_type": "code",
   "execution_count": 39,
   "id": "80536204",
   "metadata": {},
   "outputs": [
    {
     "data": {
      "text/plain": [
       "['', ',', ';', '.', '-', '!', '?', ':', '\"', '(', ')']"
      ]
     },
     "execution_count": 39,
     "metadata": {},
     "output_type": "execute_result"
    }
   ],
   "source": [
    "labels"
   ]
  },
  {
   "cell_type": "code",
   "execution_count": 40,
   "id": "392346a7",
   "metadata": {},
   "outputs": [],
   "source": [
    "labels.remove('')"
   ]
  },
  {
   "cell_type": "code",
   "execution_count": 41,
   "id": "02934f91",
   "metadata": {},
   "outputs": [
    {
     "data": {
      "text/plain": [
       "[',', ';', '.', '-', '!', '?', ':', '\"', '(', ')']"
      ]
     },
     "execution_count": 41,
     "metadata": {},
     "output_type": "execute_result"
    }
   ],
   "source": [
    "labels"
   ]
  },
  {
   "cell_type": "code",
   "execution_count": 42,
   "id": "4675c932",
   "metadata": {},
   "outputs": [],
   "source": [
    "y_pred = crf.predict(X_test)"
   ]
  },
  {
   "cell_type": "code",
   "execution_count": 44,
   "id": "c123899d",
   "metadata": {},
   "outputs": [
    {
     "data": {
      "text/plain": [
       "0.998892383556009"
      ]
     },
     "execution_count": 44,
     "metadata": {},
     "output_type": "execute_result"
    }
   ],
   "source": [
    "metrics.flat_f1_score(y_test, y_pred,\n",
    "                      average='weighted', labels=labels)"
   ]
  }
 ],
 "metadata": {
  "kernelspec": {
   "display_name": "Python 3",
   "language": "python",
   "name": "python3"
  },
  "language_info": {
   "codemirror_mode": {
    "name": "ipython",
    "version": 3
   },
   "file_extension": ".py",
   "mimetype": "text/x-python",
   "name": "python",
   "nbconvert_exporter": "python",
   "pygments_lexer": "ipython3",
   "version": "3.6.13"
  }
 },
 "nbformat": 4,
 "nbformat_minor": 5
}
