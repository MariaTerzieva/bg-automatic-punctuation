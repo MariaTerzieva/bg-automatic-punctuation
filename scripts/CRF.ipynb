{
 "cells": [
  {
   "cell_type": "markdown",
   "id": "e25ced69",
   "metadata": {},
   "source": [
    "### Function Definitions"
   ]
  },
  {
   "cell_type": "code",
   "execution_count": 1,
   "id": "49f0a35d",
   "metadata": {},
   "outputs": [],
   "source": [
    "import json\n",
    "import sklearn_crfsuite\n",
    "from sklearn_crfsuite import metrics\n",
    "import classla\n",
    "import json\n",
    "import re"
   ]
  },
  {
   "cell_type": "code",
   "execution_count": 2,
   "id": "744a6483",
   "metadata": {},
   "outputs": [],
   "source": [
    "# input - name of a text file with one sentence per line\n",
    "# output - list of sentences (strings)\n",
    "def read_file_as_list_of_sentences(input_file_name):\n",
    "    with open(input_file_name, \"r\") as input_file:\n",
    "        return input_file.read().splitlines()"
   ]
  },
  {
   "cell_type": "code",
   "execution_count": 3,
   "id": "8bee954c",
   "metadata": {},
   "outputs": [],
   "source": [
    "# input - list of sentences (strings) and a classla pipeline (POS tokenize or tokenize)\n",
    "# output - list of dictionaries ((POS) tokenized sentences) \n",
    "def run_through_classla_pipeline(list_of_sentences, pipeline):\n",
    "    return [pipeline(sentence).to_dict()[0][0] for sentence in list_of_sentences]"
   ]
  },
  {
   "cell_type": "code",
   "execution_count": 4,
   "id": "2500246d",
   "metadata": {},
   "outputs": [],
   "source": [
    "# input - list of dictionaries (a dictionary for each word - the tokenized version of the sentence)\n",
    "# output - list of dictionaries (dictionaries that contain punctuation one after another are squashed into one)\n",
    "def squash_punctuation(sentence):\n",
    "    new_sentence = []\n",
    "\n",
    "    for i in range(len(sentence)):\n",
    "        if sentence[i]['text'] in ',()\"[];.?!:-':\n",
    "            if len(new_sentence) > 0 and all(character in ',()\"[];.?!:-' for character in new_sentence[-1]['text']):\n",
    "                new_sentence[-1]['text'] += sentence[i]['text']\n",
    "            else:\n",
    "                new_sentence.append(sentence[i])\n",
    "        else:\n",
    "            new_sentence.append(sentence[i])\n",
    "            \n",
    "    return new_sentence"
   ]
  },
  {
   "cell_type": "code",
   "execution_count": 5,
   "id": "53f8f945",
   "metadata": {},
   "outputs": [],
   "source": [
    "# input - sentence and an index of a word (dictionary) - assigns a label to each word based on the punctuation after\n",
    "# output - a label - None for punctuation, punctuation for words followed by punctuation and empty for words if they are not\n",
    "def word2label(sentence, i):\n",
    "    if all(character in ',()\"[];.?!:-' for character in sentence[i]['text']):\n",
    "        return None\n",
    "\n",
    "    if i < len(sentence) - 1:\n",
    "        if all(character in ',()\"[];.?!:-' for character in sentence[i+1]['text']):\n",
    "            label = sentence[i+1]['text']\n",
    "            return label\n",
    "    \n",
    "    return ''"
   ]
  },
  {
   "cell_type": "code",
   "execution_count": 6,
   "id": "2ed05a5c",
   "metadata": {},
   "outputs": [],
   "source": [
    "# input - sentence (list of dictionaries)\n",
    "# output - list of labels (strings) with None labels for punctuation being filtered out\n",
    "def sent2labels(sentence):\n",
    "    return [label for label in (word2label(sentence, i) for i in range(len(sentence))) if label != None]"
   ]
  },
  {
   "cell_type": "code",
   "execution_count": 7,
   "id": "2f1f7fe8",
   "metadata": {},
   "outputs": [],
   "source": [
    "# input - list of dictionaries (a dictionary for each word - the tokenized version of the sentence)\n",
    "# output - new sentence (string) with the punctuation removed\n",
    "def remove_punctuation(sentence):\n",
    "    new_sentence = ''\n",
    "\n",
    "    for i in range(len(sentence)):\n",
    "        if all(character in ',()\"[];.?!:-' for character in sentence[i]['text']):\n",
    "            pass\n",
    "        else:\n",
    "            new_sentence = new_sentence + sentence[i]['text'] + ' '\n",
    "    \n",
    "    return new_sentence"
   ]
  },
  {
   "cell_type": "code",
   "execution_count": 8,
   "id": "5d20ba10",
   "metadata": {},
   "outputs": [],
   "source": [
    "def contains_interrogative_word(sentence):\n",
    "    for i in range(len(sentence)):\n",
    "        if sentence[i]['xpos'].startswith('Pi'):\n",
    "            return True\n",
    "    \n",
    "    return False"
   ]
  },
  {
   "cell_type": "code",
   "execution_count": 9,
   "id": "e4c0a448",
   "metadata": {},
   "outputs": [],
   "source": [
    "def contains_interrogative_particle(sentence):\n",
    "    for i in range(len(sentence)):\n",
    "        if sentence[i]['xpos'] == 'Ti':\n",
    "            return True\n",
    "    \n",
    "    return False"
   ]
  },
  {
   "cell_type": "code",
   "execution_count": 10,
   "id": "42ec59f8",
   "metadata": {},
   "outputs": [],
   "source": [
    "def contains_imperative_verb(sentence):\n",
    "    for i in range(len(sentence)):\n",
    "        if sentence[i]['xpos'][0] == 'V' and sentence[i]['xpos'][4] == 'z':\n",
    "            return True\n",
    "    \n",
    "    return False"
   ]
  },
  {
   "cell_type": "code",
   "execution_count": 11,
   "id": "2e9f26e2",
   "metadata": {},
   "outputs": [],
   "source": [
    "def contains_relative_pronoun_before(sentence, i):\n",
    "    for word_i in range(len(sentence[:i])):\n",
    "        if sentence[word_i]['xpos'].startswith('Pr'):\n",
    "            return True, word_i\n",
    "    \n",
    "    return False, -1"
   ]
  },
  {
   "cell_type": "code",
   "execution_count": 12,
   "id": "65709a09",
   "metadata": {},
   "outputs": [],
   "source": [
    "def contains_conj_before(sentence, i):\n",
    "    for word_i in range(len(sentence[:i])):\n",
    "        if sentence[word_i]['xpos'].startswith('C'):\n",
    "            return True, word_i\n",
    "    \n",
    "    return False, -1"
   ]
  },
  {
   "cell_type": "code",
   "execution_count": 13,
   "id": "38a8a827",
   "metadata": {},
   "outputs": [],
   "source": [
    "def contains_repetitive_coord_conj_before(sentence, i):\n",
    "    for word_i in range(len(sentence[:i])):\n",
    "        if sentence[word_i]['xpos'] in ('Cr', 'Cp'):\n",
    "            return True, word_i\n",
    "    \n",
    "    return False, -1"
   ]
  },
  {
   "cell_type": "code",
   "execution_count": 14,
   "id": "1a6d66fa",
   "metadata": {},
   "outputs": [],
   "source": [
    "def contains_repetitive_word_before(sentence, i):\n",
    "    for word_i in range(len(sentence[:i])):\n",
    "        if i < len(sentence)-1 and sentence[word_i]['text'] == sentence[i+1]['text']:\n",
    "            return True, sentence[word_i]['xpos']\n",
    "    \n",
    "    return False, ''"
   ]
  },
  {
   "cell_type": "code",
   "execution_count": 15,
   "id": "bef6931e",
   "metadata": {},
   "outputs": [],
   "source": [
    "def count_of_verbs_before(sentence, i):\n",
    "    verbs_count = 0\n",
    "\n",
    "    for word_i in range(len(sentence[:i])):\n",
    "        if sentence[word_i]['upos'] == 'VERB':\n",
    "            verbs_count += 1\n",
    "    \n",
    "    return verbs_count"
   ]
  },
  {
   "cell_type": "code",
   "execution_count": 16,
   "id": "cdaf90e5",
   "metadata": {},
   "outputs": [],
   "source": [
    "# input - sentence (list of dictionaries) and an index of a word (dictionary)\n",
    "# output - list of dictionaries (features, for each word)\n",
    "def word2features(sentence, i):\n",
    "    sentence_contains_interrogative_word, interrogative_word_position = contains_interrogative_word(sentence)\n",
    "    sentence_contains_interrogative_particle, interrogative_particle_position = contains_interrogative_particle(sentence)\n",
    "    sentence_contains_imperative_verb, imperative_verb_position = contains_imperative_verb(sentence)\n",
    "    sentence_contains_repetitive_word_before, repetitive_word_tag = contains_repetitive_word_before(sentence, i)\n",
    "\n",
    "    features = {\n",
    "        'word': sentence[i]['text'],\n",
    "        'sent_len': len(sentence),\n",
    "        'pos_in_sent': i,\n",
    "        'upos': sentence[i]['upos'],\n",
    "        'xpos': sentence[i]['xpos'],\n",
    "        'first_word_in_sent': sentence[0]['text'],\n",
    "        'contains_interrogative_word': sentence_contains_interrogative_word,\n",
    "        'interrogative_word_position': interrogative_word_position,\n",
    "        'contains_interrogative_particle': sentence_contains_interrogative_particle,\n",
    "        'interrogative_particle_position': interrogative_particle_position,\n",
    "        'contains_imperative_verb': sentence_contains_imperative_verb,\n",
    "        'imperative_verb_position': imperative_verb_position,\n",
    "        'starts_with_capital_letter': sentence[i]['text'][0].isupper(),\n",
    "        'contains_repetitive_word_before': sentence_contains_repetitive_word_before,\n",
    "        'repetitive_word_tag': repetitive_word_tag\n",
    "    }\n",
    "\n",
    "    if i > 0:\n",
    "        features.update({\n",
    "            'prev_word': sentence[i-1]['text'],\n",
    "            'prev_word_upos': sentence[i-1]['upos'],\n",
    "            'prev_word_xpos': sentence[i-1]['xpos'],\n",
    "            'prev_word_starts_with_capital_letter': sentence[i-1]['text'][0].isupper()\n",
    "        })\n",
    "    else:\n",
    "        features.update({\n",
    "            'BOS': True\n",
    "        })\n",
    "\n",
    "    if i > 1:\n",
    "        features.update({\n",
    "            'word_before_prev_word': sentence[i-2]['text'],\n",
    "            'word_before_prev_word_upos': sentence[i-2]['upos'],\n",
    "            'word_before_prev_word_xpos': sentence[i-2]['xpos'],\n",
    "            'word_before_prev_word_starts_with_capital_letter': sentence[i-2]['text'][0].isupper()\n",
    "        })\n",
    "\n",
    "    if i < len(sentence)-1:\n",
    "        features.update({\n",
    "            'next_word': sentence[i+1]['text'],\n",
    "            'next_word_upos': sentence[i+1]['upos'],\n",
    "            'next_word_xpos': sentence[i+1]['xpos'],\n",
    "            'next_word_starts_with_capital_letter': sentence[i+1]['text'][0].isupper()\n",
    "        })\n",
    "    else:\n",
    "        features.update({\n",
    "            'EOS': True\n",
    "        })\n",
    "        \n",
    "    if i < len(sentence)-2:\n",
    "        features.update({\n",
    "            'word_after_next_word': sentence [i+2]['text'],\n",
    "            'word_after_next_word_upos': sentence[i+2]['upos'],\n",
    "            'word_after_next_word_xpos': sentence[i+2]['xpos'],\n",
    "            'word_after_next_word_starts_with_capital_letter': sentence[i+2]['text'][0].isupper()\n",
    "        })\n",
    "\n",
    "    return features"
   ]
  },
  {
   "cell_type": "code",
   "execution_count": 17,
   "id": "c2a093df",
   "metadata": {},
   "outputs": [],
   "source": [
    "# input - sentence (list of dictionaries)\n",
    "# output - list of features (dictionaries, for each word)\n",
    "def sent2features(sentence):\n",
    "    return [word2features(sentence, i) for i in range(len(sentence))]"
   ]
  },
  {
   "cell_type": "code",
   "execution_count": 18,
   "id": "c0f67be1",
   "metadata": {},
   "outputs": [],
   "source": [
    "# input - JSON-serializable data and name of the output JSON file\n",
    "# output - None, saves the sentences to a JSON file\n",
    "def save_as_json(data, output_file_name):\n",
    "    with open(output_file_name, \"w\") as output_file:\n",
    "        json.dump(data, output_file) "
   ]
  },
  {
   "cell_type": "code",
   "execution_count": 19,
   "id": "a99e17f2",
   "metadata": {},
   "outputs": [],
   "source": [
    "# input - JSON file\n",
    "# output - the contents of the JSON file as an object\n",
    "def load_json(json_file_name):\n",
    "    with open(json_file_name, \"r\") as json_file:\n",
    "        return json.load(json_file)"
   ]
  },
  {
   "cell_type": "code",
   "execution_count": 20,
   "id": "14f2771f",
   "metadata": {},
   "outputs": [],
   "source": [
    "# input - name of a text file with one sentence per line and a variable indicating whether or not to save X and y to JSON\n",
    "# output - X and y - features and labels\n",
    "def data_prep(input_file_name, json_serialize=False):\n",
    "    data = read_file_as_list_of_sentences(input_file_name)\n",
    "    nlp_tokenize = classla.Pipeline('bg', processors='tokenize')\n",
    "    tokenized_data = run_through_classla_pipeline(data, nlp_tokenize)\n",
    "    \n",
    "    if len(data) != len(tokenized_data):\n",
    "        print(\"Warning: Mismatch in the count of the data and tokenized data\")\n",
    "\n",
    "    squashed_tokenized_data = [squash_punctuation(sentence) for sentence in tokenized_data]\n",
    "\n",
    "    if len(tokenized_data) != len(squashed_tokenized_data):\n",
    "        print(\"Warning: Mismatch in the count of the tokenized and squashed tokenized data\")\n",
    "    \n",
    "    y = [sent2labels(sentence) for sentence in squashed_tokenized_data]\n",
    "    \n",
    "    if len(squashed_tokenized_data) != len(y):\n",
    "        print(\"Warning: Mismatch in the count of the squashed tokenized data and labeled data\")\n",
    "    \n",
    "    data_without_punctuation = [remove_punctuation(sentence) for sentence in squashed_tokenized_data]\n",
    "    \n",
    "    if len(data_without_punctuation) != len(y):\n",
    "        print(\"Warning: Mismatch in the count of the data without punctuation and labeled data\")\n",
    "    \n",
    "    nlp_pos_tokenize = classla.Pipeline('bg', processors='tokenize,pos')   \n",
    "    pos_tokenized_data = run_through_classla_pipeline(data_without_punctuation, nlp_pos_tokenize)\n",
    "    \n",
    "    if len(data_without_punctuation) != len(pos_tokenized_data):\n",
    "        print(\"Warning: Mismatch in the count of the data without punctuation and POS tokenized data\")\n",
    "    \n",
    "    X = [sent2features(sentence) for sentence in pos_tokenized_data]\n",
    "    \n",
    "    if len(X) != len(pos_tokenized_data):\n",
    "        print(\"Warning: Mismatch in the count of the prepped data and POS tokenized data\")\n",
    "    \n",
    "    if json_serialize:\n",
    "        save_as_json(X, re.sub('\\.txt', '_X.json', input_file_name))\n",
    "        save_as_json(y, re.sub('\\.txt', '_y.json', input_file_name))\n",
    "        \n",
    "    return X, y"
   ]
  },
  {
   "cell_type": "code",
   "execution_count": 21,
   "id": "e0b29aaf",
   "metadata": {},
   "outputs": [],
   "source": [
    "# input - X and y - features and labels\n",
    "# output - None, prints on the screen the features-labels pairs that have length mismatch\n",
    "def verify_prepped_data(X, y):\n",
    "    for feat, label in zip(X, y):\n",
    "        if len(feat) != len(label):\n",
    "            print(feat, label)"
   ]
  },
  {
   "cell_type": "code",
   "execution_count": 22,
   "id": "eacf6b48",
   "metadata": {},
   "outputs": [],
   "source": [
    "# input - X and y - features and labels\n",
    "# output - list of punctuated sentences (strings; y labels applied to X)\n",
    "def punctuate(X, y):\n",
    "    punctuated_sentences = []\n",
    "\n",
    "    for feat, label in zip(X, y):\n",
    "        sentence = ''\n",
    "\n",
    "        for i in range(len(feat)):\n",
    "            sentence = sentence + feat[i]['word'] + label[i] + ' '\n",
    "        \n",
    "        punctuated_sentences.append(sentence.rstrip())\n",
    "    \n",
    "    return punctuated_sentences"
   ]
  },
  {
   "cell_type": "markdown",
   "id": "2c4cb81a",
   "metadata": {},
   "source": [
    "### Data Prep"
   ]
  },
  {
   "cell_type": "code",
   "execution_count": 23,
   "id": "ccfe02a2",
   "metadata": {},
   "outputs": [
    {
     "name": "stderr",
     "output_type": "stream",
     "text": [
      "2021-09-28 15:09:41 INFO: Loading these models for language: bg (Bulgarian):\n",
      "========================\n",
      "| Processor | Package  |\n",
      "------------------------\n",
      "| tokenize  | standard |\n",
      "========================\n",
      "\n",
      "2021-09-28 15:09:41 INFO: Use device: gpu\n",
      "2021-09-28 15:09:41 INFO: Loading: tokenize\n",
      "2021-09-28 15:09:41 INFO: Done loading processors!\n",
      "2021-09-28 15:10:02 INFO: Loading these models for language: bg (Bulgarian):\n",
      "========================\n",
      "| Processor | Package  |\n",
      "------------------------\n",
      "| tokenize  | standard |\n",
      "| pos       | standard |\n",
      "========================\n",
      "\n",
      "2021-09-28 15:10:02 INFO: Use device: gpu\n",
      "2021-09-28 15:10:02 INFO: Loading: tokenize\n",
      "2021-09-28 15:10:02 INFO: Loading: pos\n",
      "2021-09-28 15:10:08 INFO: Done loading processors!\n"
     ]
    },
    {
     "name": "stdout",
     "output_type": "stream",
     "text": [
      "CPU times: user 23min 47s, sys: 3.55 s, total: 23min 51s\n",
      "Wall time: 23min 50s\n"
     ]
    }
   ],
   "source": [
    "%%time\n",
    "X_train, y_train = data_prep('../data/Train.txt')"
   ]
  },
  {
   "cell_type": "code",
   "execution_count": 19,
   "id": "cb210480",
   "metadata": {},
   "outputs": [],
   "source": [
    "verify_prepped_data(X_train, y_train)"
   ]
  },
  {
   "cell_type": "code",
   "execution_count": 26,
   "id": "a8ff7528",
   "metadata": {},
   "outputs": [
    {
     "name": "stderr",
     "output_type": "stream",
     "text": [
      "2021-09-28 16:53:08 INFO: Loading these models for language: bg (Bulgarian):\n",
      "========================\n",
      "| Processor | Package  |\n",
      "------------------------\n",
      "| tokenize  | standard |\n",
      "========================\n",
      "\n",
      "2021-09-28 16:53:08 INFO: Use device: gpu\n",
      "2021-09-28 16:53:08 INFO: Loading: tokenize\n",
      "2021-09-28 16:53:08 INFO: Done loading processors!\n",
      "2021-09-28 16:53:16 INFO: Loading these models for language: bg (Bulgarian):\n",
      "========================\n",
      "| Processor | Package  |\n",
      "------------------------\n",
      "| tokenize  | standard |\n",
      "| pos       | standard |\n",
      "========================\n",
      "\n",
      "2021-09-28 16:53:16 INFO: Use device: gpu\n",
      "2021-09-28 16:53:16 INFO: Loading: tokenize\n",
      "2021-09-28 16:53:16 INFO: Loading: pos\n",
      "2021-09-28 16:53:17 INFO: Done loading processors!\n"
     ]
    },
    {
     "name": "stdout",
     "output_type": "stream",
     "text": [
      "CPU times: user 11min 46s, sys: 1.19 s, total: 11min 47s\n",
      "Wall time: 11min 46s\n"
     ]
    }
   ],
   "source": [
    "%%time\n",
    "X_dev, y_dev = data_prep('../data/Dev.txt')"
   ]
  },
  {
   "cell_type": "code",
   "execution_count": 21,
   "id": "8ca1566b",
   "metadata": {},
   "outputs": [],
   "source": [
    "verify_prepped_data(X_dev, y_dev)"
   ]
  },
  {
   "cell_type": "markdown",
   "id": "3dad520b",
   "metadata": {},
   "source": [
    "### CRF Model"
   ]
  },
  {
   "cell_type": "code",
   "execution_count": 24,
   "id": "1b055193",
   "metadata": {},
   "outputs": [
    {
     "name": "stdout",
     "output_type": "stream",
     "text": [
      "CPU times: user 48min 25s, sys: 2.73 s, total: 48min 28s\n",
      "Wall time: 48min 21s\n"
     ]
    }
   ],
   "source": [
    "%%time\n",
    "crf = sklearn_crfsuite.CRF(\n",
    "    algorithm='lbfgs',\n",
    "    c1=0.1,\n",
    "    c2=0.1,\n",
    "    max_iterations=100,\n",
    "    all_possible_transitions=True\n",
    ")\n",
    "crf.fit(X_train, y_train)"
   ]
  },
  {
   "cell_type": "code",
   "execution_count": 27,
   "id": "a0f0c375",
   "metadata": {},
   "outputs": [],
   "source": [
    "labels = list(crf.classes_)"
   ]
  },
  {
   "cell_type": "code",
   "execution_count": null,
   "id": "80536204",
   "metadata": {},
   "outputs": [],
   "source": [
    "labels"
   ]
  },
  {
   "cell_type": "code",
   "execution_count": 29,
   "id": "4675c932",
   "metadata": {},
   "outputs": [],
   "source": [
    "y_pred = crf.predict(X_dev)"
   ]
  },
  {
   "cell_type": "code",
   "execution_count": null,
   "id": "c123899d",
   "metadata": {},
   "outputs": [],
   "source": [
    "metrics.flat_f1_score(y_dev, y_pred,\n",
    "                      average='weighted', labels=labels)"
   ]
  },
  {
   "cell_type": "code",
   "execution_count": null,
   "id": "968347ff",
   "metadata": {},
   "outputs": [],
   "source": [
    "# show all metrics\n",
    "# sorted_labels = sorted(\n",
    "#     labels,\n",
    "#     key=lambda name: (name[1:], name[0])\n",
    "# )\n",
    "print(metrics.flat_classification_report(\n",
    "    y_dev, y_pred, labels=labels, digits=3\n",
    "))"
   ]
  },
  {
   "cell_type": "code",
   "execution_count": 32,
   "id": "392346a7",
   "metadata": {},
   "outputs": [],
   "source": [
    "labels.remove('')"
   ]
  },
  {
   "cell_type": "code",
   "execution_count": 33,
   "id": "da36fe71",
   "metadata": {},
   "outputs": [],
   "source": [
    "y_pred = crf.predict(X_dev)"
   ]
  },
  {
   "cell_type": "code",
   "execution_count": null,
   "id": "30bb1d0d",
   "metadata": {},
   "outputs": [],
   "source": [
    "metrics.flat_f1_score(y_dev, y_pred,\n",
    "                      average='weighted', labels=labels)"
   ]
  },
  {
   "cell_type": "code",
   "execution_count": null,
   "id": "b777efe4",
   "metadata": {},
   "outputs": [],
   "source": [
    "print(metrics.flat_classification_report(\n",
    "    y_dev, y_pred, labels=labels, digits=3\n",
    "))"
   ]
  },
  {
   "cell_type": "code",
   "execution_count": 31,
   "id": "3e6ca8bd",
   "metadata": {},
   "outputs": [],
   "source": [
    "punctuated_sentences = punctuate(X_dev, y_pred)"
   ]
  },
  {
   "cell_type": "code",
   "execution_count": null,
   "id": "a8e22e42",
   "metadata": {},
   "outputs": [],
   "source": [
    "punctuated_sentences[:100]"
   ]
  },
  {
   "cell_type": "code",
   "execution_count": null,
   "id": "f0e66d0f",
   "metadata": {},
   "outputs": [],
   "source": [
    "punctuated_sentences[:100]"
   ]
  },
  {
   "cell_type": "code",
   "execution_count": 49,
   "id": "dbc45511",
   "metadata": {},
   "outputs": [],
   "source": [
    "correct_punctuated_sentences = punctuate(X_dev, y_dev)"
   ]
  },
  {
   "cell_type": "code",
   "execution_count": 50,
   "id": "92e6ffcb",
   "metadata": {},
   "outputs": [
    {
     "data": {
      "text/plain": [
       "['Но синовете им не умъртви, защото постъпи, според писаното в закона, в книгата на Мойсей, където ГОСПОД заповяда и каза: Бащите да не умират заради синовете и синовете да не умират заради бащите, а всеки да умира за собствения си грях.',\n",
       " 'Но когато ти говоря, ще отворя устата ти и ти им кажи: Така казва Господ БОГ: Който слуша, нека слуша, а който не слуша, нека не слуша- защото са бунтовен дом.',\n",
       " 'Защото кой е по-голям: този, който седи на трапезата ли, или онзи, който слугува?',\n",
       " 'А след това ще се насели както в предишните дни, заявява ГОСПОД.',\n",
       " 'А Той беше на задната част, заспал на възглавница.',\n",
       " 'Ефрем е като птица, славата му ще отлети.',\n",
       " 'И така, той си отиде от него на известно разстояние.',\n",
       " 'Не бягам при халдейците.',\n",
       " 'И израилевите синове излязоха от египетската земя строени.',\n",
       " 'А когато Ахитофел видя, че съветът му не се изпълни, оседла магарето си и стана, и отиде у дома си, в своя град, и нареди домашните си работи, и се обеси.',\n",
       " 'Ако умре някое животно от добитъка, който можете да ядете, който се допре до мършата му, ще бъде нечист до вечерта.',\n",
       " 'Но помощник, съответен на Адам, не се намери.',\n",
       " 'Който задържа жито, народът ще го проклина, а благословение ще почива на главата на този, който го продава.',\n",
       " 'Този човек беше праведен и благочестив и чакаше Утехата на Израил, и Светият Дух беше на него.',\n",
       " 'Всичко е възможно за този, който вярва.',\n",
       " 'И видях височината на дома околовръст; основите на страничните стаи бяха една цяла тръстика от шест големи лакътя.',\n",
       " 'После да вземеш тлъстината на овена, опашката и тлъстината, която покрива вътрешностите, булото на дроба, двата бъбрека с тлъстината, която е около тях, и дясното бедро- защото е овен на посвещение- и един хляб, една пита хляб, месен с маслинено масло, и една кора от коша на безквасните хлябове, които са пред ГОСПОДА.',\n",
       " 'И от дима излязоха скакалци по земята; и им се даде власт, като властта, която имат земните скорпиони.',\n",
       " 'Ти си ГОСПОДИ, само Ти!',\n",
       " 'И ще предаде Израил заради греховете на Еровоам, с които съгреши и с които въведе Израил в грях.',\n",
       " 'Синове на Елифаз: Теман и Омар, Сефи и Готом, Кенез и Тамна, и Амалик.',\n",
       " 'А гладът в Самария беше страшен.',\n",
       " 'Затова казах в сърцето си, че и това е суета.',\n",
       " 'Насладих се на сянката му и седнах, и плодът му бе сладък в устата ми.',\n",
       " 'Защото така ми каза ГОСПОД: Както ръмжи над лова си лъвът, младият лъв, срещу когото се свикват множество овчари, и не се плаши от гласа им, и не се отдръпва пред шума им, така ГОСПОД на Войнствата ще слезе, за да воюва за хълма Сион и за неговото възвишение.',\n",
       " 'Отче свети, опази ги в Името Си, което си Ми дал, за да бъдат едно, както сме и Ние.',\n",
       " 'И да правите разлика между чистите животни и нечистите и между нечистите птици и чистите; и да не осквернявате себе си с животно или с птица, или с каквото и да е, което пълзи по земята, което Аз съм ви отделил като нечисто.',\n",
       " 'И ГОСПОД укрепи моавския цар Еглон против Израил, защото вършиха зло пред ГОСПОДА.',\n",
       " 'И Духът ми каза да отида с тях, без да се двоумя.',\n",
       " 'В двадесет и седмата година на израилевия цар Еровоам се възцари Азария, синът на юдовия цар Амасия.',\n",
       " 'Защото вашата послушност е известна на всички, затова се радвам за вас.',\n",
       " 'Той изтегля всички с въдица, влачи ги в мрежата си и ги събира в рибарската си мрежа, затова се радва и се весели.',\n",
       " 'Благословен да е ГОСПОД Бог, Богът на Израил, който единствен върши чудеса!',\n",
       " 'И които влязоха, мъжко и женско от всяка плът, влязоха, както Бог му беше заповядал; и ГОСПОД затвори след него.',\n",
       " 'Тогава царят каза на Божия човек: Ела с мен у дома и се подкрепи, и ще ти дам подарък.',\n",
       " 'И ето, въпреки че е посадена, ще успее ли?',\n",
       " 'От дома Тогарма даваха за стоките ти коне, бойни коне и мулета.',\n",
       " 'Затова заповядай гробът да се пази здраво до третия ден, да не би учениците Му да дойдат и да Го откраднат, и да кажат на народа: Възкръсна от мъртвите.',\n",
       " 'И когато отвори петия печат, видях под олтара душите на онези, които са били заклани за Божието слово и за свидетелството, което държаха.',\n",
       " 'И свещениците, които служат на ГОСПОДА, са синовете на Аарон, и левитите са в службата.',\n",
       " 'Той тича след тях с умолителни думи, но тях ги няма.',\n",
       " 'И измери дължината му- четиридесет лакътя, и ширината му- двадесет лакътя.',\n",
       " 'Затова, така казва ГОСПОД, Бог на Войнствата, Израилевият Бог: Ето, Аз ще докарам върху Юда и върху всичките ерусалимски жители цялото зло, което говорих против тях- защото им говорих, но не слушаха, и ги виках, но не отговаряха.',\n",
       " 'Сине мой, слушай наставлението на баща си и не отхвърляй закона на майка си, защото те ще бъдат благодатен венец за главата ти и огърлица за шията ти.',\n",
       " 'Тогава облакът започна да се издига от града в димен стълб и Вениамин се обърна, и ето, целият град се издигаше в пламъци към небето.',\n",
       " 'В онзи ден няма да се срамуваш от всичките си дела, с които си отстъпил от Мен, защото тогава ще отнема отсред теб твоите, които горделиво тържествуват, и ти няма вече да се държиш надменно на светия Ми хълм.',\n",
       " 'А свинарите, като видяха станалото, избягаха и разказаха за това в града и в селата.',\n",
       " 'И Илий благослови Елкана и жена му, и каза: ГОСПОД да ти даде потомство от тази жена вместо заетото, което беше посветено на ГОСПОДА.',\n",
       " 'И ако живее във вас Духът на Този, който възкреси Иисус от мъртвите, то Този, който възкреси Христос от мъртвите, ще съживи и вашите смъртни тела чрез Духа Си, който живее във вас.',\n",
       " 'А ГОСПОД си извърши, както беше говорил чрез мен, и ГОСПОД откъсна царството от ръката ти и го даде на ближния ти, на Давид.',\n",
       " 'Даде и храна за магаретата им.',\n",
       " 'Книгата на видението на елкусеянина Наум.',\n",
       " 'И направи олтара за всеизгаряне от акациево дърво, пет лакътя беше дължината му и пет лакътя беше ширината му, четвъртит, и три лакътя беше височината му.',\n",
       " 'Те ми казаха: Направи ни богове, които да ходят пред нас, защото на този Мойсей, човека, който ни изведе от египетската земя, не знаем какво му стана.',\n",
       " 'Тогава Мардохей каза да отговорят на Естир: Не мисли в себе си, че от всичките юдеи само ти ще се избавиш в царския дом!',\n",
       " 'Но аз не бих познал греха, освен чрез закона; защото не бих знаел пожелание, ако законът не беше казал:\" Не пожелавай.\"',\n",
       " 'Тогава народът Му си спомни за древните дни на Мойсей: Къде е Онзи, който ги изведе от морето с пастирите на стадото Си?',\n",
       " 'И три пъти в годината Соломон принасяше всеизгаряния и примирителни жертви върху олтара, който построи на ГОСПОДА, и кадеше върху олтара, който беше пред ГОСПОДА.',\n",
       " 'И след като им поставиха старейшини във всяка църква и се помолиха с пост, ги препоръчаха на Господа, в когото бяха повярвали.',\n",
       " 'С нея Той подейства в Христос, като Го възкреси от мъртвите и Го сложи да седне от дясната Си страна на небесата, далеч над всяко началство и власт, и сила, и господство, и всяко име, с което се наименуват, не само в този свят, но и в бъдещия.',\n",
       " 'Стрелец срещу стрелец да опъва лъка си и срещу онзи, който се надига в бронята си!',\n",
       " 'Затова онази нива е наречена и до днес Кръвна нива.',\n",
       " 'И така, слугите на цар Езекия отидоха при Исая.',\n",
       " 'И никой свещеник да не пие вино, когато влиза във вътрешния двор.',\n",
       " 'И Охозия падна през решетката на горната си стая в Самария и се разболя.',\n",
       " 'Защо не разбирате Моето говорене?',\n",
       " 'А Лаван в отговор каза на Яков: Тези дъщери са мои дъщери и синовете са мои синове и стадата са мои стада.',\n",
       " 'А чуждият, който се приближи, да се умъртви.',\n",
       " 'И двамата сина на Илий, Офний и Финеес, бяха там с ковчега на Божия завет.',\n",
       " 'Иисус му каза: Лисиците си имат леговища и небесните птици- гнезда, а Човешкият Син няма къде глава да подслони.',\n",
       " 'От кръвта на убитите, от тлъстината на силните лъкът на Йонатан не се обръщаше назад и мечът на Саул не се връщаше празен.',\n",
       " 'Станах за присмех на целия си народ и за тяхна подигравателна песен цял ден.',\n",
       " 'Да учите на тях синовете си, като говорите за тях- когато седиш в къщата си, когато ходиш по пътя, когато лягаш и когато ставаш.',\n",
       " 'И ГОСПОД се разкая за злото, което беше казал, че ще направи на народа Си.',\n",
       " 'А Юда изпрати ярето чрез ръката на приятеля си, одоламеца, за да вземе залога от ръката на жената, но той не я намери.',\n",
       " 'И царят заповяда и доведоха онези мъже, които бяха издали Даниил, и хвърлиха тях, децата им и жените им в рова на лъвовете; и още преди да стигнат до дъното на рова, лъвовете ги сграбчиха и строшиха всичките им кости.',\n",
       " 'И Йоав и народът, който беше с него, настъпиха за битката против арамейците; и те побягнаха пред него.',\n",
       " 'И като го повикаха, Тертил започна да обвинява, като казваше: Понеже чрез теб, честити Феликсе, се радваме на голямо спокойствие и понеже чрез твоята предвидливост има подобрения за този народ, то ние с пълна благодарност винаги и навсякъде посрещаме това.',\n",
       " 'Защото Йоан казваше на Ирод: Не ти е позволено да имаш жената на брат си!',\n",
       " 'А в първия ден на седмицата, много рано сутринта, те дойдоха на гроба, като носеха благоуханните масла, които бяха приготвили.',\n",
       " 'Ще бъде ли добре да ви изпита Той?',\n",
       " 'След това Яков каза на Лаван: Дай жена ми, защото дойде време да вляза при нея.',\n",
       " 'А посветените дарове бяха шестстотин говеда и три хиляди овце.',\n",
       " 'Кога ще се събудя, за да продължа, да го потърся пак?',\n",
       " 'Изнемогвам от викането си, гърлото ми е пресъхнало, очите ми чезнат, докато чакам своя Бог.',\n",
       " 'Това са родовете на Мерарий.',\n",
       " 'На следващия ден едно голямо множество, което беше дошло на празника, като чуха, че Иисус идвал в Ерусалим, взеха палмови клони и излязоха да Го посрещнат, викайки: Осанна!',\n",
       " 'И той каза: Имам нещо да ти кажа.',\n",
       " 'Ако някой, който е престъпил закона на Мойсей, умира безпощадно при думата на двама или трима свидетели, то колко по-тежко наказание, мислите, ще заслужи онзи, който е потъпкал Божия Син и е счел за просто нещо кръвта на завета, с която е бил осветен, и е оскърбил Духа на благодатта?',\n",
       " 'Върни се, сине мой, Давиде, защото няма вече да ти сторя зло, понеже днес животът ми беше скъпоценен пред очите ти.',\n",
       " 'Ще дойдат големци от Египет, Етиопия бързо ще протегне ръцете си към Бога.',\n",
       " 'Затова хората Му се боят; и Той не гледа на никого от мъдрите по сърце.',\n",
       " 'И Го следваше голямо множество от народ и жени, които плачеха за Него.',\n",
       " 'Ето ви семе, засейте земята.',\n",
       " 'И Давид дойде във Ваал-Ферасим и Давид ги разби там, и каза: ГОСПОД разсече пред мен враговете ми, както водите правят пролом.',\n",
       " 'Кадилниците на тези мъже, които съгрешиха против живота си- нека ги направят на плочи за обковаване на олтара, защото те ги принесоха пред ГОСПОДА и затова са свети; и те ще бъдат за знамение на израилевите синове.',\n",
       " 'И когато фараонът отказваше да ни пусне, ГОСПОД уби всяко първородно в египетската земя- от първородно на човек до първородно на животно- затова жертвам на ГОСПОДА всяко първородно, което е мъжко, а всеки първороден от синовете си изкупувам.',\n",
       " 'А без вяра не е възможно да се угоди на Бога, защото, който идва при Бога, трябва да вярва, че Той съществува, и че възнаграждава тези, които Го търсят.',\n",
       " 'И докато още говореше с тях, ето, пратеникът слезе при него и каза: Ето, това зло е от ГОСПОДА.',\n",
       " 'А вие сами ли ще продадете братята си?']"
      ]
     },
     "execution_count": 50,
     "metadata": {},
     "output_type": "execute_result"
    }
   ],
   "source": [
    "correct_punctuated_sentences[:100]"
   ]
  },
  {
   "cell_type": "markdown",
   "id": "1625baa9",
   "metadata": {},
   "source": [
    "### Grid Search Try - Worse Results"
   ]
  },
  {
   "cell_type": "code",
   "execution_count": null,
   "id": "fd8a7510",
   "metadata": {},
   "outputs": [],
   "source": [
    "# from sklearn.metrics import make_scorer\n",
    "# import scipy.stats\n",
    "# from sklearn.model_selection import RandomizedSearchCV"
   ]
  },
  {
   "cell_type": "code",
   "execution_count": null,
   "id": "c70add66",
   "metadata": {},
   "outputs": [],
   "source": [
    "# %%time\n",
    "# # define fixed parameters and parameters to search\n",
    "# crf = sklearn_crfsuite.CRF(\n",
    "#     algorithm='lbfgs',\n",
    "#     max_iterations=100,\n",
    "#     all_possible_transitions=True\n",
    "# )\n",
    "# params_space = {\n",
    "#     'c1': scipy.stats.expon(scale=0.5),\n",
    "#     'c2': scipy.stats.expon(scale=0.05),\n",
    "# }\n",
    "\n",
    "# # use the same metric for evaluation\n",
    "# f1_scorer = make_scorer(metrics.flat_f1_score,\n",
    "#                         average='weighted', labels=labels)\n",
    "\n",
    "# # search\n",
    "# rs = RandomizedSearchCV(crf, params_space,\n",
    "#                         cv=3,\n",
    "#                         verbose=1,\n",
    "#                         n_jobs=-1,\n",
    "#                         n_iter=50,\n",
    "#                         scoring=f1_scorer)\n",
    "# rs.fit(X, y)"
   ]
  },
  {
   "cell_type": "code",
   "execution_count": null,
   "id": "96d8f148",
   "metadata": {},
   "outputs": [],
   "source": [
    "# crf = rs.best_estimator_\n",
    "# print('best params:', rs.best_params_)\n",
    "# print('best CV score:', rs.best_score_)\n",
    "# print('model size: {:0.2f}M'.format(rs.best_estimator_.size_ / 1000000))"
   ]
  },
  {
   "cell_type": "code",
   "execution_count": null,
   "id": "6ac24a67",
   "metadata": {},
   "outputs": [],
   "source": [
    "# crf = rs.best_estimator_\n",
    "# y_pred = crf.predict(X_test)\n",
    "\n",
    "# sorted_labels = sorted(\n",
    "#     labels,\n",
    "#     key=lambda name: (name[1:], name[0])\n",
    "# )\n",
    "\n",
    "# print(metrics.flat_classification_report(\n",
    "#     y_test, y_pred, labels=sorted_labels, digits=3\n",
    "# ))"
   ]
  },
  {
   "cell_type": "markdown",
   "id": "48249ad5",
   "metadata": {},
   "source": [
    "### Sentence contains imperative verb"
   ]
  },
  {
   "cell_type": "code",
   "execution_count": 23,
   "id": "152e5020",
   "metadata": {},
   "outputs": [],
   "source": [
    "# input - sentence (list of dictionaries) and an index of a word (dictionary)\n",
    "# output - list of dictionaries (features, for each word)\n",
    "def word2features(sentence, i):\n",
    "    sentence_contains_interrogative_word, interrogative_word_position = contains_interrogative_word(sentence)\n",
    "    sentence_contains_interrogative_particle, interrogative_particle_position = contains_interrogative_particle(sentence)\n",
    "    sentence_contains_imperative_verb, imperative_verb_position = contains_imperative_verb(sentence)\n",
    "\n",
    "    features = {\n",
    "        'word': sentence[i]['text'],\n",
    "        'sent_len': len(sentence),\n",
    "        'pos_in_sent': i,\n",
    "        'upos': sentence[i]['upos'],\n",
    "        'xpos': sentence[i]['xpos'],\n",
    "        'first_word_in_sent': sentence[0]['text'],\n",
    "        'contains_interrogative_word': sentence_contains_interrogative_word,\n",
    "        'interrogative_word_position': interrogative_word_position,\n",
    "        'contains_interrogative_particle': sentence_contains_interrogative_particle,\n",
    "        'interrogative_particle_position': interrogative_particle_position,\n",
    "        'contains_imperative_verb': sentence_contains_imperative_verb,\n",
    "        'imperative_verb_position': imperative_verb_position\n",
    "    }\n",
    "\n",
    "    if i > 0:\n",
    "        features.update({\n",
    "            'prev_word': sentence[i-1]['text'],\n",
    "            'prev_word_upos': sentence[i-1]['upos'],\n",
    "            'prev_word_xpos': sentence[i-1]['xpos']\n",
    "        })\n",
    "    else:\n",
    "        features.update({\n",
    "            'BOS': True\n",
    "        })\n",
    "\n",
    "    if i < len(sentence)-1:\n",
    "        features.update({\n",
    "            'next_word': sentence[i+1]['text'],\n",
    "            'next_word_upos': sentence[i+1]['upos'],\n",
    "            'next_word_xpos': sentence[i+1]['xpos']\n",
    "        })\n",
    "    else:\n",
    "        features.update({\n",
    "            'EOS': True\n",
    "        })\n",
    "        \n",
    "    if i < len(sentence)-2:\n",
    "        features.update({\n",
    "            'word_after_next_word': sentence [i+2]['text'],\n",
    "            'word_after_next_word_upos': sentence[i+2]['upos'],\n",
    "            'word_after_next_word_xpos': sentence[i+2]['xpos']\n",
    "        })\n",
    "\n",
    "    return features"
   ]
  },
  {
   "cell_type": "code",
   "execution_count": 24,
   "id": "53dd0e76",
   "metadata": {},
   "outputs": [
    {
     "name": "stderr",
     "output_type": "stream",
     "text": [
      "2021-09-29 00:35:06 INFO: Loading these models for language: bg (Bulgarian):\n",
      "========================\n",
      "| Processor | Package  |\n",
      "------------------------\n",
      "| tokenize  | standard |\n",
      "========================\n",
      "\n",
      "2021-09-29 00:35:06 INFO: Use device: gpu\n",
      "2021-09-29 00:35:06 INFO: Loading: tokenize\n",
      "2021-09-29 00:35:06 INFO: Done loading processors!\n",
      "2021-09-29 00:35:30 INFO: Loading these models for language: bg (Bulgarian):\n",
      "========================\n",
      "| Processor | Package  |\n",
      "------------------------\n",
      "| tokenize  | standard |\n",
      "| pos       | standard |\n",
      "========================\n",
      "\n",
      "2021-09-29 00:35:30 INFO: Use device: gpu\n",
      "2021-09-29 00:35:30 INFO: Loading: tokenize\n",
      "2021-09-29 00:35:30 INFO: Loading: pos\n",
      "2021-09-29 00:35:36 INFO: Done loading processors!\n"
     ]
    },
    {
     "name": "stdout",
     "output_type": "stream",
     "text": [
      "CPU times: user 23min 14s, sys: 3.57 s, total: 23min 18s\n",
      "Wall time: 23min 17s\n"
     ]
    }
   ],
   "source": [
    "%%time\n",
    "X_train, y_train = data_prep('../data/Train.txt')"
   ]
  },
  {
   "cell_type": "code",
   "execution_count": 25,
   "id": "80effe7e",
   "metadata": {},
   "outputs": [],
   "source": [
    "verify_prepped_data(X_train, y_train)"
   ]
  },
  {
   "cell_type": "code",
   "execution_count": 26,
   "id": "dc79e2b1",
   "metadata": {},
   "outputs": [
    {
     "name": "stderr",
     "output_type": "stream",
     "text": [
      "2021-09-29 00:58:24 INFO: Loading these models for language: bg (Bulgarian):\n",
      "========================\n",
      "| Processor | Package  |\n",
      "------------------------\n",
      "| tokenize  | standard |\n",
      "========================\n",
      "\n",
      "2021-09-29 00:58:24 INFO: Use device: gpu\n",
      "2021-09-29 00:58:24 INFO: Loading: tokenize\n",
      "2021-09-29 00:58:24 INFO: Done loading processors!\n",
      "2021-09-29 00:58:37 INFO: Loading these models for language: bg (Bulgarian):\n",
      "========================\n",
      "| Processor | Package  |\n",
      "------------------------\n",
      "| tokenize  | standard |\n",
      "| pos       | standard |\n",
      "========================\n",
      "\n",
      "2021-09-29 00:58:37 INFO: Use device: gpu\n",
      "2021-09-29 00:58:37 INFO: Loading: tokenize\n",
      "2021-09-29 00:58:37 INFO: Loading: pos\n",
      "2021-09-29 00:58:38 INFO: Done loading processors!\n"
     ]
    },
    {
     "name": "stdout",
     "output_type": "stream",
     "text": [
      "CPU times: user 11min 49s, sys: 1.09 s, total: 11min 50s\n",
      "Wall time: 11min 49s\n"
     ]
    }
   ],
   "source": [
    "%%time\n",
    "X_dev, y_dev = data_prep('../data/Dev.txt')"
   ]
  },
  {
   "cell_type": "code",
   "execution_count": 27,
   "id": "df9842b5",
   "metadata": {},
   "outputs": [],
   "source": [
    "verify_prepped_data(X_dev, y_dev)"
   ]
  },
  {
   "cell_type": "code",
   "execution_count": 28,
   "id": "d9743758",
   "metadata": {},
   "outputs": [
    {
     "name": "stdout",
     "output_type": "stream",
     "text": [
      "CPU times: user 29min 3s, sys: 1.64 s, total: 29min 4s\n",
      "Wall time: 29min 1s\n"
     ]
    }
   ],
   "source": [
    "%%time\n",
    "crf = sklearn_crfsuite.CRF(\n",
    "    algorithm='lbfgs',\n",
    "    c1=0.1,\n",
    "    c2=0.1,\n",
    "    max_iterations=100,\n",
    "    all_possible_transitions=True\n",
    ")\n",
    "crf.fit(X_train, y_train)"
   ]
  },
  {
   "cell_type": "code",
   "execution_count": null,
   "id": "432bc917",
   "metadata": {},
   "outputs": [],
   "source": [
    "labels = list(crf.classes_)\n",
    "y_pred = crf.predict(X_dev)\n",
    "print(metrics.flat_f1_score(y_dev, y_pred, average='weighted', labels=labels))\n",
    "print(metrics.flat_classification_report(y_dev, y_pred, labels=labels, digits=3))\n",
    "labels.remove('')\n",
    "print(metrics.flat_f1_score(y_dev, y_pred, average='weighted', labels=labels))\n",
    "print(metrics.flat_classification_report(y_dev, y_pred, labels=labels, digits=3))\n",
    "punctuated_sentences = punctuate(X_dev, y_pred)\n",
    "print(punctuated_sentences[:100])"
   ]
  },
  {
   "cell_type": "markdown",
   "id": "6e1b5f85",
   "metadata": {},
   "source": [
    "### Sentence contains relative pronoun"
   ]
  },
  {
   "cell_type": "code",
   "execution_count": 30,
   "id": "d62d360b",
   "metadata": {},
   "outputs": [],
   "source": [
    "# input - sentence (list of dictionaries) and an index of a word (dictionary)\n",
    "# output - list of dictionaries (features, for each word)\n",
    "def word2features(sentence, i):\n",
    "    sentence_contains_interrogative_word, interrogative_word_position = contains_interrogative_word(sentence)\n",
    "    sentence_contains_interrogative_particle, interrogative_particle_position = contains_interrogative_particle(sentence)\n",
    "    sentence_contains_relative_pronoun, relative_pronoun_position = contains_relative_pronoun(sentence)\n",
    "\n",
    "    features = {\n",
    "        'word': sentence[i]['text'],\n",
    "        'sent_len': len(sentence),\n",
    "        'pos_in_sent': i,\n",
    "        'upos': sentence[i]['upos'],\n",
    "        'xpos': sentence[i]['xpos'],\n",
    "        'first_word_in_sent': sentence[0]['text'],\n",
    "        'contains_interrogative_word': sentence_contains_interrogative_word,\n",
    "        'interrogative_word_position': interrogative_word_position,\n",
    "        'contains_interrogative_particle': sentence_contains_interrogative_particle,\n",
    "        'interrogative_particle_position': interrogative_particle_position,\n",
    "        'contains_relative_pronoun': sentence_contains_relative_pronoun,\n",
    "        'relative_pronoun_position': relative_pronoun_position\n",
    "    }\n",
    "\n",
    "    if i > 0:\n",
    "        features.update({\n",
    "            'prev_word': sentence[i-1]['text'],\n",
    "            'prev_word_upos': sentence[i-1]['upos'],\n",
    "            'prev_word_xpos': sentence[i-1]['xpos']\n",
    "        })\n",
    "    else:\n",
    "        features.update({\n",
    "            'BOS': True\n",
    "        })\n",
    "\n",
    "    if i < len(sentence)-1:\n",
    "        features.update({\n",
    "            'next_word': sentence[i+1]['text'],\n",
    "            'next_word_upos': sentence[i+1]['upos'],\n",
    "            'next_word_xpos': sentence[i+1]['xpos']\n",
    "        })\n",
    "    else:\n",
    "        features.update({\n",
    "            'EOS': True\n",
    "        })\n",
    "        \n",
    "    if i < len(sentence)-2:\n",
    "        features.update({\n",
    "            'word_after_next_word': sentence [i+2]['text'],\n",
    "            'word_after_next_word_upos': sentence[i+2]['upos'],\n",
    "            'word_after_next_word_xpos': sentence[i+2]['xpos']\n",
    "        })\n",
    "\n",
    "    return features"
   ]
  },
  {
   "cell_type": "code",
   "execution_count": 31,
   "id": "b9a2e63f",
   "metadata": {},
   "outputs": [
    {
     "name": "stderr",
     "output_type": "stream",
     "text": [
      "2021-09-29 01:39:26 INFO: Loading these models for language: bg (Bulgarian):\n",
      "========================\n",
      "| Processor | Package  |\n",
      "------------------------\n",
      "| tokenize  | standard |\n",
      "========================\n",
      "\n",
      "2021-09-29 01:39:26 INFO: Use device: gpu\n",
      "2021-09-29 01:39:26 INFO: Loading: tokenize\n",
      "2021-09-29 01:39:26 INFO: Done loading processors!\n",
      "2021-09-29 01:39:44 INFO: Loading these models for language: bg (Bulgarian):\n",
      "========================\n",
      "| Processor | Package  |\n",
      "------------------------\n",
      "| tokenize  | standard |\n",
      "| pos       | standard |\n",
      "========================\n",
      "\n",
      "2021-09-29 01:39:44 INFO: Use device: gpu\n",
      "2021-09-29 01:39:44 INFO: Loading: tokenize\n",
      "2021-09-29 01:39:44 INFO: Loading: pos\n",
      "2021-09-29 01:39:45 INFO: Done loading processors!\n"
     ]
    },
    {
     "name": "stdout",
     "output_type": "stream",
     "text": [
      "CPU times: user 23min 16s, sys: 2.07 s, total: 23min 18s\n",
      "Wall time: 23min 17s\n"
     ]
    }
   ],
   "source": [
    "%%time\n",
    "X_train, y_train = data_prep('../data/Train.txt')"
   ]
  },
  {
   "cell_type": "code",
   "execution_count": 32,
   "id": "e060c909",
   "metadata": {},
   "outputs": [],
   "source": [
    "verify_prepped_data(X_train, y_train)"
   ]
  },
  {
   "cell_type": "code",
   "execution_count": 33,
   "id": "35071e3a",
   "metadata": {},
   "outputs": [
    {
     "name": "stderr",
     "output_type": "stream",
     "text": [
      "2021-09-29 02:02:44 INFO: Loading these models for language: bg (Bulgarian):\n",
      "========================\n",
      "| Processor | Package  |\n",
      "------------------------\n",
      "| tokenize  | standard |\n",
      "========================\n",
      "\n",
      "2021-09-29 02:02:44 INFO: Use device: gpu\n",
      "2021-09-29 02:02:44 INFO: Loading: tokenize\n",
      "2021-09-29 02:02:44 INFO: Done loading processors!\n",
      "2021-09-29 02:02:56 INFO: Loading these models for language: bg (Bulgarian):\n",
      "========================\n",
      "| Processor | Package  |\n",
      "------------------------\n",
      "| tokenize  | standard |\n",
      "| pos       | standard |\n",
      "========================\n",
      "\n",
      "2021-09-29 02:02:56 INFO: Use device: gpu\n",
      "2021-09-29 02:02:56 INFO: Loading: tokenize\n",
      "2021-09-29 02:02:56 INFO: Loading: pos\n",
      "2021-09-29 02:02:58 INFO: Done loading processors!\n"
     ]
    },
    {
     "name": "stdout",
     "output_type": "stream",
     "text": [
      "CPU times: user 11min 47s, sys: 1.06 s, total: 11min 48s\n",
      "Wall time: 11min 47s\n"
     ]
    }
   ],
   "source": [
    "%%time\n",
    "X_dev, y_dev = data_prep('../data/Dev.txt')"
   ]
  },
  {
   "cell_type": "code",
   "execution_count": 34,
   "id": "fe9e319e",
   "metadata": {},
   "outputs": [],
   "source": [
    "verify_prepped_data(X_dev, y_dev)"
   ]
  },
  {
   "cell_type": "code",
   "execution_count": 35,
   "id": "221937fa",
   "metadata": {},
   "outputs": [
    {
     "name": "stdout",
     "output_type": "stream",
     "text": [
      "CPU times: user 30min 24s, sys: 1.36 s, total: 30min 25s\n",
      "Wall time: 30min 22s\n"
     ]
    }
   ],
   "source": [
    "%%time\n",
    "crf = sklearn_crfsuite.CRF(\n",
    "    algorithm='lbfgs',\n",
    "    c1=0.1,\n",
    "    c2=0.1,\n",
    "    max_iterations=100,\n",
    "    all_possible_transitions=True\n",
    ")\n",
    "crf.fit(X_train, y_train)"
   ]
  },
  {
   "cell_type": "code",
   "execution_count": null,
   "id": "955943c9",
   "metadata": {},
   "outputs": [],
   "source": [
    "labels = list(crf.classes_)\n",
    "y_pred = crf.predict(X_dev)\n",
    "print(metrics.flat_f1_score(y_dev, y_pred, average='weighted', labels=labels))\n",
    "print(metrics.flat_classification_report(y_dev, y_pred, labels=labels, digits=3))\n",
    "labels.remove('')\n",
    "print(metrics.flat_f1_score(y_dev, y_pred, average='weighted', labels=labels))\n",
    "print(metrics.flat_classification_report(y_dev, y_pred, labels=labels, digits=3))\n",
    "punctuated_sentences = punctuate(X_dev, y_pred)\n",
    "print(punctuated_sentences[:100])"
   ]
  },
  {
   "cell_type": "markdown",
   "id": "f352d855",
   "metadata": {},
   "source": [
    "### Contains repetitive coordinative conjunction"
   ]
  },
  {
   "cell_type": "code",
   "execution_count": 24,
   "id": "45d921b6",
   "metadata": {},
   "outputs": [],
   "source": [
    "# input - sentence (list of dictionaries) and an index of a word (dictionary)\n",
    "# output - list of dictionaries (features, for each word)\n",
    "def word2features(sentence, i):\n",
    "    sentence_contains_interrogative_word, interrogative_word_position = contains_interrogative_word(sentence)\n",
    "    sentence_contains_interrogative_particle, interrogative_particle_position = contains_interrogative_particle(sentence)\n",
    "    sentence_contains_repetitive_coord_conj, repetitive_coord_conj_position = contains_repetitive_coord_conj_before(sentence, i)\n",
    "\n",
    "    features = {\n",
    "        'word': sentence[i]['text'],\n",
    "        'sent_len': len(sentence),\n",
    "        'pos_in_sent': i,\n",
    "        'upos': sentence[i]['upos'],\n",
    "        'xpos': sentence[i]['xpos'],\n",
    "        'first_word_in_sent': sentence[0]['text'],\n",
    "        'contains_interrogative_word': sentence_contains_interrogative_word,\n",
    "        'interrogative_word_position': interrogative_word_position,\n",
    "        'contains_interrogative_particle': sentence_contains_interrogative_particle,\n",
    "        'interrogative_particle_position': interrogative_particle_position,\n",
    "        'contains_repetitive_coord_conj_before': sentence_contains_repetitive_coord_conj,\n",
    "        'repetitive_coord_conj_position': repetitive_coord_conj_position\n",
    "    }\n",
    "\n",
    "    if i > 0:\n",
    "        features.update({\n",
    "            'prev_word': sentence[i-1]['text'],\n",
    "            'prev_word_upos': sentence[i-1]['upos'],\n",
    "            'prev_word_xpos': sentence[i-1]['xpos']\n",
    "        })\n",
    "    else:\n",
    "        features.update({\n",
    "            'BOS': True\n",
    "        })\n",
    "\n",
    "    if i < len(sentence)-1:\n",
    "        features.update({\n",
    "            'next_word': sentence[i+1]['text'],\n",
    "            'next_word_upos': sentence[i+1]['upos'],\n",
    "            'next_word_xpos': sentence[i+1]['xpos']\n",
    "        })\n",
    "    else:\n",
    "        features.update({\n",
    "            'EOS': True\n",
    "        })\n",
    "        \n",
    "    if i < len(sentence)-2:\n",
    "        features.update({\n",
    "            'word_after_next_word': sentence [i+2]['text'],\n",
    "            'word_after_next_word_upos': sentence[i+2]['upos'],\n",
    "            'word_after_next_word_xpos': sentence[i+2]['xpos']\n",
    "        })\n",
    "\n",
    "    return features"
   ]
  },
  {
   "cell_type": "code",
   "execution_count": 25,
   "id": "133a6b89",
   "metadata": {},
   "outputs": [
    {
     "name": "stderr",
     "output_type": "stream",
     "text": [
      "2021-09-29 09:46:52 INFO: Loading these models for language: bg (Bulgarian):\n",
      "========================\n",
      "| Processor | Package  |\n",
      "------------------------\n",
      "| tokenize  | standard |\n",
      "========================\n",
      "\n",
      "2021-09-29 09:46:52 INFO: Use device: gpu\n",
      "2021-09-29 09:46:52 INFO: Loading: tokenize\n",
      "2021-09-29 09:46:52 INFO: Done loading processors!\n",
      "2021-09-29 09:47:14 INFO: Loading these models for language: bg (Bulgarian):\n",
      "========================\n",
      "| Processor | Package  |\n",
      "------------------------\n",
      "| tokenize  | standard |\n",
      "| pos       | standard |\n",
      "========================\n",
      "\n",
      "2021-09-29 09:47:14 INFO: Use device: gpu\n",
      "2021-09-29 09:47:14 INFO: Loading: tokenize\n",
      "2021-09-29 09:47:14 INFO: Loading: pos\n",
      "2021-09-29 09:47:16 INFO: Done loading processors!\n"
     ]
    },
    {
     "name": "stdout",
     "output_type": "stream",
     "text": [
      "CPU times: user 23min 4s, sys: 3.16 s, total: 23min 7s\n",
      "Wall time: 23min 6s\n"
     ]
    }
   ],
   "source": [
    "%%time\n",
    "X_train, y_train = data_prep('../data/Train.txt')"
   ]
  },
  {
   "cell_type": "code",
   "execution_count": 26,
   "id": "513647cb",
   "metadata": {},
   "outputs": [],
   "source": [
    "verify_prepped_data(X_train, y_train)"
   ]
  },
  {
   "cell_type": "code",
   "execution_count": 27,
   "id": "98b55dc6",
   "metadata": {},
   "outputs": [
    {
     "name": "stderr",
     "output_type": "stream",
     "text": [
      "2021-09-29 10:09:58 INFO: Loading these models for language: bg (Bulgarian):\n",
      "========================\n",
      "| Processor | Package  |\n",
      "------------------------\n",
      "| tokenize  | standard |\n",
      "========================\n",
      "\n",
      "2021-09-29 10:09:58 INFO: Use device: gpu\n",
      "2021-09-29 10:09:58 INFO: Loading: tokenize\n",
      "2021-09-29 10:09:58 INFO: Done loading processors!\n",
      "2021-09-29 10:10:11 INFO: Loading these models for language: bg (Bulgarian):\n",
      "========================\n",
      "| Processor | Package  |\n",
      "------------------------\n",
      "| tokenize  | standard |\n",
      "| pos       | standard |\n",
      "========================\n",
      "\n",
      "2021-09-29 10:10:11 INFO: Use device: gpu\n",
      "2021-09-29 10:10:11 INFO: Loading: tokenize\n",
      "2021-09-29 10:10:11 INFO: Loading: pos\n",
      "2021-09-29 10:10:13 INFO: Done loading processors!\n"
     ]
    },
    {
     "name": "stdout",
     "output_type": "stream",
     "text": [
      "CPU times: user 11min 46s, sys: 1.33 s, total: 11min 48s\n",
      "Wall time: 11min 47s\n"
     ]
    }
   ],
   "source": [
    "%%time\n",
    "X_dev, y_dev = data_prep('../data/Dev.txt')"
   ]
  },
  {
   "cell_type": "code",
   "execution_count": 28,
   "id": "839a3121",
   "metadata": {},
   "outputs": [],
   "source": [
    "verify_prepped_data(X_dev, y_dev)"
   ]
  },
  {
   "cell_type": "code",
   "execution_count": 29,
   "id": "2d0e6c3c",
   "metadata": {},
   "outputs": [
    {
     "name": "stdout",
     "output_type": "stream",
     "text": [
      "CPU times: user 28min 59s, sys: 1.67 s, total: 29min 1s\n",
      "Wall time: 28min 57s\n"
     ]
    }
   ],
   "source": [
    "%%time\n",
    "crf = sklearn_crfsuite.CRF(\n",
    "    algorithm='lbfgs',\n",
    "    c1=0.1,\n",
    "    c2=0.1,\n",
    "    max_iterations=100,\n",
    "    all_possible_transitions=True\n",
    ")\n",
    "crf.fit(X_train, y_train)"
   ]
  },
  {
   "cell_type": "code",
   "execution_count": null,
   "id": "f95dbc59",
   "metadata": {},
   "outputs": [],
   "source": [
    "labels = list(crf.classes_)\n",
    "y_pred = crf.predict(X_dev)\n",
    "print(metrics.flat_f1_score(y_dev, y_pred, average='weighted', labels=labels))\n",
    "print(metrics.flat_classification_report(y_dev, y_pred, labels=labels, digits=3))\n",
    "labels.remove('')\n",
    "print(metrics.flat_f1_score(y_dev, y_pred, average='weighted', labels=labels))\n",
    "print(metrics.flat_classification_report(y_dev, y_pred, labels=labels, digits=3))\n",
    "punctuated_sentences = punctuate(X_dev, y_pred)\n",
    "print(punctuated_sentences[:100])"
   ]
  },
  {
   "cell_type": "markdown",
   "id": "d3513d7a",
   "metadata": {},
   "source": [
    "### Add more context of words before"
   ]
  },
  {
   "cell_type": "code",
   "execution_count": 31,
   "id": "ee8f07ff",
   "metadata": {},
   "outputs": [],
   "source": [
    "# input - sentence (list of dictionaries) and an index of a word (dictionary)\n",
    "# output - list of dictionaries (features, for each word)\n",
    "def word2features(sentence, i):\n",
    "    sentence_contains_interrogative_word, interrogative_word_position = contains_interrogative_word(sentence)\n",
    "    sentence_contains_interrogative_particle, interrogative_particle_position = contains_interrogative_particle(sentence)\n",
    "\n",
    "    features = {\n",
    "        'word': sentence[i]['text'],\n",
    "        'sent_len': len(sentence),\n",
    "        'pos_in_sent': i,\n",
    "        'upos': sentence[i]['upos'],\n",
    "        'xpos': sentence[i]['xpos'],\n",
    "        'first_word_in_sent': sentence[0]['text'],\n",
    "        'contains_interrogative_word': sentence_contains_interrogative_word,\n",
    "        'interrogative_word_position': interrogative_word_position,\n",
    "        'contains_interrogative_particle': sentence_contains_interrogative_particle,\n",
    "        'interrogative_particle_position': interrogative_particle_position\n",
    "    }\n",
    "\n",
    "    if i > 0:\n",
    "        features.update({\n",
    "            'prev_word': sentence[i-1]['text'],\n",
    "            'prev_word_upos': sentence[i-1]['upos'],\n",
    "            'prev_word_xpos': sentence[i-1]['xpos']\n",
    "        })\n",
    "    else:\n",
    "        features.update({\n",
    "            'BOS': True\n",
    "        })\n",
    "\n",
    "    if i > 1:\n",
    "        features.update({\n",
    "            'word_before_prev_word': sentence[i-2]['text'],\n",
    "            'word_before_prev_word_upos': sentence[i-2]['upos'],\n",
    "            'word_before_prev_word_xpos': sentence[i-2]['xpos']\n",
    "        })\n",
    "\n",
    "    if i < len(sentence)-1:\n",
    "        features.update({\n",
    "            'next_word': sentence[i+1]['text'],\n",
    "            'next_word_upos': sentence[i+1]['upos'],\n",
    "            'next_word_xpos': sentence[i+1]['xpos']\n",
    "        })\n",
    "    else:\n",
    "        features.update({\n",
    "            'EOS': True\n",
    "        })\n",
    "        \n",
    "    if i < len(sentence)-2:\n",
    "        features.update({\n",
    "            'word_after_next_word': sentence [i+2]['text'],\n",
    "            'word_after_next_word_upos': sentence[i+2]['upos'],\n",
    "            'word_after_next_word_xpos': sentence[i+2]['xpos']\n",
    "        })\n",
    "\n",
    "    return features"
   ]
  },
  {
   "cell_type": "code",
   "execution_count": 32,
   "id": "084a1f1c",
   "metadata": {},
   "outputs": [
    {
     "name": "stderr",
     "output_type": "stream",
     "text": [
      "2021-09-29 10:50:57 INFO: Loading these models for language: bg (Bulgarian):\n",
      "========================\n",
      "| Processor | Package  |\n",
      "------------------------\n",
      "| tokenize  | standard |\n",
      "========================\n",
      "\n",
      "2021-09-29 10:50:57 INFO: Use device: gpu\n",
      "2021-09-29 10:50:57 INFO: Loading: tokenize\n",
      "2021-09-29 10:50:57 INFO: Done loading processors!\n",
      "2021-09-29 10:51:14 INFO: Loading these models for language: bg (Bulgarian):\n",
      "========================\n",
      "| Processor | Package  |\n",
      "------------------------\n",
      "| tokenize  | standard |\n",
      "| pos       | standard |\n",
      "========================\n",
      "\n",
      "2021-09-29 10:51:14 INFO: Use device: gpu\n",
      "2021-09-29 10:51:14 INFO: Loading: tokenize\n",
      "2021-09-29 10:51:14 INFO: Loading: pos\n",
      "2021-09-29 10:51:15 INFO: Done loading processors!\n"
     ]
    },
    {
     "name": "stdout",
     "output_type": "stream",
     "text": [
      "CPU times: user 23min 14s, sys: 2.34 s, total: 23min 16s\n",
      "Wall time: 23min 15s\n"
     ]
    }
   ],
   "source": [
    "%%time\n",
    "X_train, y_train = data_prep('../data/Train.txt')"
   ]
  },
  {
   "cell_type": "code",
   "execution_count": 33,
   "id": "299fac36",
   "metadata": {},
   "outputs": [],
   "source": [
    "verify_prepped_data(X_train, y_train)"
   ]
  },
  {
   "cell_type": "code",
   "execution_count": 34,
   "id": "2cf0c14a",
   "metadata": {},
   "outputs": [
    {
     "name": "stderr",
     "output_type": "stream",
     "text": [
      "2021-09-29 11:14:12 INFO: Loading these models for language: bg (Bulgarian):\n",
      "========================\n",
      "| Processor | Package  |\n",
      "------------------------\n",
      "| tokenize  | standard |\n",
      "========================\n",
      "\n",
      "2021-09-29 11:14:12 INFO: Use device: gpu\n",
      "2021-09-29 11:14:12 INFO: Loading: tokenize\n",
      "2021-09-29 11:14:12 INFO: Done loading processors!\n",
      "2021-09-29 11:14:25 INFO: Loading these models for language: bg (Bulgarian):\n",
      "========================\n",
      "| Processor | Package  |\n",
      "------------------------\n",
      "| tokenize  | standard |\n",
      "| pos       | standard |\n",
      "========================\n",
      "\n",
      "2021-09-29 11:14:25 INFO: Use device: gpu\n",
      "2021-09-29 11:14:25 INFO: Loading: tokenize\n",
      "2021-09-29 11:14:25 INFO: Loading: pos\n",
      "2021-09-29 11:14:27 INFO: Done loading processors!\n"
     ]
    },
    {
     "name": "stdout",
     "output_type": "stream",
     "text": [
      "CPU times: user 11min 47s, sys: 1.13 s, total: 11min 48s\n",
      "Wall time: 11min 47s\n"
     ]
    }
   ],
   "source": [
    "%%time\n",
    "X_dev, y_dev = data_prep('../data/Dev.txt')"
   ]
  },
  {
   "cell_type": "code",
   "execution_count": 35,
   "id": "0b883f6f",
   "metadata": {},
   "outputs": [],
   "source": [
    "verify_prepped_data(X_dev, y_dev)"
   ]
  },
  {
   "cell_type": "code",
   "execution_count": 36,
   "id": "7aa8d4da",
   "metadata": {},
   "outputs": [
    {
     "name": "stdout",
     "output_type": "stream",
     "text": [
      "CPU times: user 33min 15s, sys: 2.07 s, total: 33min 18s\n",
      "Wall time: 33min 13s\n"
     ]
    }
   ],
   "source": [
    "%%time\n",
    "crf = sklearn_crfsuite.CRF(\n",
    "    algorithm='lbfgs',\n",
    "    c1=0.1,\n",
    "    c2=0.1,\n",
    "    max_iterations=100,\n",
    "    all_possible_transitions=True\n",
    ")\n",
    "crf.fit(X_train, y_train)"
   ]
  },
  {
   "cell_type": "code",
   "execution_count": null,
   "id": "7b3d54a3",
   "metadata": {},
   "outputs": [],
   "source": [
    "labels = list(crf.classes_)\n",
    "y_pred = crf.predict(X_dev)\n",
    "print(metrics.flat_f1_score(y_dev, y_pred, average='weighted', labels=labels))\n",
    "print(metrics.flat_classification_report(y_dev, y_pred, labels=labels, digits=3))\n",
    "labels.remove('')\n",
    "print(metrics.flat_f1_score(y_dev, y_pred, average='weighted', labels=labels))\n",
    "print(metrics.flat_classification_report(y_dev, y_pred, labels=labels, digits=3))\n",
    "punctuated_sentences = punctuate(X_dev, y_pred)\n",
    "print(punctuated_sentences[:100])"
   ]
  },
  {
   "cell_type": "code",
   "execution_count": 39,
   "id": "fb6c6e32",
   "metadata": {},
   "outputs": [],
   "source": [
    "# input - sentence (list of dictionaries) and an index of a word (dictionary)\n",
    "# output - list of dictionaries (features, for each word)\n",
    "def word2features(sentence, i):\n",
    "    sentence_contains_interrogative_word, interrogative_word_position = contains_interrogative_word(sentence)\n",
    "    sentence_contains_interrogative_particle, interrogative_particle_position = contains_interrogative_particle(sentence)\n",
    "\n",
    "    features = {\n",
    "        'word': sentence[i]['text'],\n",
    "        'sent_len': len(sentence),\n",
    "        'pos_in_sent': i,\n",
    "        'upos': sentence[i]['upos'],\n",
    "        'xpos': sentence[i]['xpos'],\n",
    "        'first_word_in_sent': sentence[0]['text'],\n",
    "        'contains_interrogative_word': sentence_contains_interrogative_word,\n",
    "        'interrogative_word_position': interrogative_word_position,\n",
    "        'contains_interrogative_particle': sentence_contains_interrogative_particle,\n",
    "        'interrogative_particle_position': interrogative_particle_position\n",
    "    }\n",
    "\n",
    "    if i > 0:\n",
    "        features.update({\n",
    "            'prev_word': sentence[i-1]['text'],\n",
    "            'prev_word_upos': sentence[i-1]['upos'],\n",
    "            'prev_word_xpos': sentence[i-1]['xpos']\n",
    "        })\n",
    "    else:\n",
    "        features.update({\n",
    "            'BOS': True\n",
    "        })\n",
    "\n",
    "    if i > 1:\n",
    "        features.update({\n",
    "            'word_before_prev_word': sentence[i-2]['text'],\n",
    "            'word_before_prev_word_upos': sentence[i-2]['upos'],\n",
    "            'word_before_prev_word_xpos': sentence[i-2]['xpos']\n",
    "        })\n",
    "\n",
    "    if i > 2:\n",
    "        features.update({\n",
    "            '2_words_before_prev_word': sentence[i-3]['text'],\n",
    "            '2_words_before_prev_word_upos': sentence[i-3]['upos'],\n",
    "            '2_words_before_prev_word_xpos': sentence[i-3]['xpos']\n",
    "        })\n",
    "\n",
    "    if i < len(sentence)-1:\n",
    "        features.update({\n",
    "            'next_word': sentence[i+1]['text'],\n",
    "            'next_word_upos': sentence[i+1]['upos'],\n",
    "            'next_word_xpos': sentence[i+1]['xpos']\n",
    "        })\n",
    "    else:\n",
    "        features.update({\n",
    "            'EOS': True\n",
    "        })\n",
    "        \n",
    "    if i < len(sentence)-2:\n",
    "        features.update({\n",
    "            'word_after_next_word': sentence [i+2]['text'],\n",
    "            'word_after_next_word_upos': sentence[i+2]['upos'],\n",
    "            'word_after_next_word_xpos': sentence[i+2]['xpos']\n",
    "        })\n",
    "\n",
    "    return features"
   ]
  },
  {
   "cell_type": "code",
   "execution_count": 40,
   "id": "522099dd",
   "metadata": {},
   "outputs": [
    {
     "name": "stderr",
     "output_type": "stream",
     "text": [
      "2021-09-29 12:16:15 INFO: Loading these models for language: bg (Bulgarian):\n",
      "========================\n",
      "| Processor | Package  |\n",
      "------------------------\n",
      "| tokenize  | standard |\n",
      "========================\n",
      "\n",
      "2021-09-29 12:16:15 INFO: Use device: gpu\n",
      "2021-09-29 12:16:15 INFO: Loading: tokenize\n",
      "2021-09-29 12:16:15 INFO: Done loading processors!\n",
      "2021-09-29 12:16:32 INFO: Loading these models for language: bg (Bulgarian):\n",
      "========================\n",
      "| Processor | Package  |\n",
      "------------------------\n",
      "| tokenize  | standard |\n",
      "| pos       | standard |\n",
      "========================\n",
      "\n",
      "2021-09-29 12:16:32 INFO: Use device: gpu\n",
      "2021-09-29 12:16:32 INFO: Loading: tokenize\n",
      "2021-09-29 12:16:32 INFO: Loading: pos\n",
      "2021-09-29 12:16:33 INFO: Done loading processors!\n"
     ]
    },
    {
     "name": "stdout",
     "output_type": "stream",
     "text": [
      "CPU times: user 23min 6s, sys: 2.15 s, total: 23min 9s\n",
      "Wall time: 23min 8s\n"
     ]
    }
   ],
   "source": [
    "%%time\n",
    "X_train, y_train = data_prep('../data/Train.txt')"
   ]
  },
  {
   "cell_type": "code",
   "execution_count": 41,
   "id": "51253038",
   "metadata": {},
   "outputs": [],
   "source": [
    "verify_prepped_data(X_train, y_train)"
   ]
  },
  {
   "cell_type": "code",
   "execution_count": 42,
   "id": "cfaaf967",
   "metadata": {},
   "outputs": [
    {
     "name": "stderr",
     "output_type": "stream",
     "text": [
      "2021-09-29 12:39:24 INFO: Loading these models for language: bg (Bulgarian):\n",
      "========================\n",
      "| Processor | Package  |\n",
      "------------------------\n",
      "| tokenize  | standard |\n",
      "========================\n",
      "\n",
      "2021-09-29 12:39:24 INFO: Use device: gpu\n",
      "2021-09-29 12:39:24 INFO: Loading: tokenize\n",
      "2021-09-29 12:39:24 INFO: Done loading processors!\n",
      "2021-09-29 12:39:36 INFO: Loading these models for language: bg (Bulgarian):\n",
      "========================\n",
      "| Processor | Package  |\n",
      "------------------------\n",
      "| tokenize  | standard |\n",
      "| pos       | standard |\n",
      "========================\n",
      "\n",
      "2021-09-29 12:39:36 INFO: Use device: gpu\n",
      "2021-09-29 12:39:36 INFO: Loading: tokenize\n",
      "2021-09-29 12:39:36 INFO: Loading: pos\n",
      "2021-09-29 12:39:38 INFO: Done loading processors!\n"
     ]
    },
    {
     "name": "stdout",
     "output_type": "stream",
     "text": [
      "CPU times: user 11min 58s, sys: 952 ms, total: 11min 59s\n",
      "Wall time: 11min 58s\n"
     ]
    }
   ],
   "source": [
    "%%time\n",
    "X_dev, y_dev = data_prep('../data/Dev.txt')"
   ]
  },
  {
   "cell_type": "code",
   "execution_count": 43,
   "id": "886dfbb5",
   "metadata": {},
   "outputs": [],
   "source": [
    "verify_prepped_data(X_dev, y_dev)"
   ]
  },
  {
   "cell_type": "code",
   "execution_count": 44,
   "id": "333a170c",
   "metadata": {},
   "outputs": [
    {
     "name": "stdout",
     "output_type": "stream",
     "text": [
      "CPU times: user 32min 9s, sys: 3.06 s, total: 32min 12s\n",
      "Wall time: 32min 8s\n"
     ]
    }
   ],
   "source": [
    "%%time\n",
    "crf = sklearn_crfsuite.CRF(\n",
    "    algorithm='lbfgs',\n",
    "    c1=0.1,\n",
    "    c2=0.1,\n",
    "    max_iterations=100,\n",
    "    all_possible_transitions=True\n",
    ")\n",
    "crf.fit(X_train, y_train)"
   ]
  },
  {
   "cell_type": "code",
   "execution_count": null,
   "id": "f23167d0",
   "metadata": {
    "scrolled": true
   },
   "outputs": [],
   "source": [
    "labels = list(crf.classes_)\n",
    "y_pred = crf.predict(X_dev)\n",
    "print(metrics.flat_f1_score(y_dev, y_pred, average='weighted', labels=labels))\n",
    "print(metrics.flat_classification_report(y_dev, y_pred, labels=labels, digits=3))\n",
    "labels.remove('')\n",
    "print(metrics.flat_f1_score(y_dev, y_pred, average='weighted', labels=labels))\n",
    "print(metrics.flat_classification_report(y_dev, y_pred, labels=labels, digits=3))\n",
    "punctuated_sentences = punctuate(X_dev, y_pred)\n",
    "print(punctuated_sentences[:100])"
   ]
  },
  {
   "cell_type": "markdown",
   "id": "48dfe99c",
   "metadata": {},
   "source": [
    "### Add more context of words after"
   ]
  },
  {
   "cell_type": "code",
   "execution_count": 46,
   "id": "c54806c5",
   "metadata": {},
   "outputs": [],
   "source": [
    "# input - sentence (list of dictionaries) and an index of a word (dictionary)\n",
    "# output - list of dictionaries (features, for each word)\n",
    "def word2features(sentence, i):\n",
    "    sentence_contains_interrogative_word, interrogative_word_position = contains_interrogative_word(sentence)\n",
    "    sentence_contains_interrogative_particle, interrogative_particle_position = contains_interrogative_particle(sentence)\n",
    "\n",
    "    features = {\n",
    "        'word': sentence[i]['text'],\n",
    "        'sent_len': len(sentence),\n",
    "        'pos_in_sent': i,\n",
    "        'upos': sentence[i]['upos'],\n",
    "        'xpos': sentence[i]['xpos'],\n",
    "        'first_word_in_sent': sentence[0]['text'],\n",
    "        'contains_interrogative_word': sentence_contains_interrogative_word,\n",
    "        'interrogative_word_position': interrogative_word_position,\n",
    "        'contains_interrogative_particle': sentence_contains_interrogative_particle,\n",
    "        'interrogative_particle_position': interrogative_particle_position\n",
    "    }\n",
    "\n",
    "    if i > 0:\n",
    "        features.update({\n",
    "            'prev_word': sentence[i-1]['text'],\n",
    "            'prev_word_upos': sentence[i-1]['upos'],\n",
    "            'prev_word_xpos': sentence[i-1]['xpos']\n",
    "        })\n",
    "    else:\n",
    "        features.update({\n",
    "            'BOS': True\n",
    "        })\n",
    "\n",
    "    if i < len(sentence)-1:\n",
    "        features.update({\n",
    "            'next_word': sentence[i+1]['text'],\n",
    "            'next_word_upos': sentence[i+1]['upos'],\n",
    "            'next_word_xpos': sentence[i+1]['xpos']\n",
    "        })\n",
    "    else:\n",
    "        features.update({\n",
    "            'EOS': True\n",
    "        })\n",
    "        \n",
    "    if i < len(sentence)-2:\n",
    "        features.update({\n",
    "            'word_after_next_word': sentence [i+2]['text'],\n",
    "            'word_after_next_word_upos': sentence[i+2]['upos'],\n",
    "            'word_after_next_word_xpos': sentence[i+2]['xpos']\n",
    "        })\n",
    "\n",
    "    if i < len(sentence)-3:\n",
    "        features.update({\n",
    "            '2_words_after_next_word': sentence [i+3]['text'],\n",
    "            '2_words_after_next_word_upos': sentence[i+3]['upos'],\n",
    "            '2_words_after_next_word_xpos': sentence[i+3]['xpos']\n",
    "        })\n",
    "\n",
    "    return features"
   ]
  },
  {
   "cell_type": "code",
   "execution_count": 47,
   "id": "8394f452",
   "metadata": {},
   "outputs": [
    {
     "name": "stderr",
     "output_type": "stream",
     "text": [
      "2021-09-29 13:23:51 INFO: Loading these models for language: bg (Bulgarian):\n",
      "========================\n",
      "| Processor | Package  |\n",
      "------------------------\n",
      "| tokenize  | standard |\n",
      "========================\n",
      "\n",
      "2021-09-29 13:23:51 INFO: Use device: gpu\n",
      "2021-09-29 13:23:51 INFO: Loading: tokenize\n",
      "2021-09-29 13:23:51 INFO: Done loading processors!\n",
      "2021-09-29 13:24:17 INFO: Loading these models for language: bg (Bulgarian):\n",
      "========================\n",
      "| Processor | Package  |\n",
      "------------------------\n",
      "| tokenize  | standard |\n",
      "| pos       | standard |\n",
      "========================\n",
      "\n",
      "2021-09-29 13:24:17 INFO: Use device: gpu\n",
      "2021-09-29 13:24:17 INFO: Loading: tokenize\n",
      "2021-09-29 13:24:17 INFO: Loading: pos\n",
      "2021-09-29 13:24:18 INFO: Done loading processors!\n"
     ]
    },
    {
     "name": "stdout",
     "output_type": "stream",
     "text": [
      "CPU times: user 24min 15s, sys: 2.66 s, total: 24min 17s\n",
      "Wall time: 24min 16s\n"
     ]
    }
   ],
   "source": [
    "%%time\n",
    "X_train, y_train = data_prep('../data/Train.txt')"
   ]
  },
  {
   "cell_type": "code",
   "execution_count": 48,
   "id": "9549df18",
   "metadata": {},
   "outputs": [],
   "source": [
    "verify_prepped_data(X_train, y_train)"
   ]
  },
  {
   "cell_type": "code",
   "execution_count": 49,
   "id": "d634f30d",
   "metadata": {},
   "outputs": [
    {
     "name": "stderr",
     "output_type": "stream",
     "text": [
      "2021-09-29 13:48:07 INFO: Loading these models for language: bg (Bulgarian):\n",
      "========================\n",
      "| Processor | Package  |\n",
      "------------------------\n",
      "| tokenize  | standard |\n",
      "========================\n",
      "\n",
      "2021-09-29 13:48:07 INFO: Use device: gpu\n",
      "2021-09-29 13:48:07 INFO: Loading: tokenize\n",
      "2021-09-29 13:48:07 INFO: Done loading processors!\n",
      "2021-09-29 13:48:20 INFO: Loading these models for language: bg (Bulgarian):\n",
      "========================\n",
      "| Processor | Package  |\n",
      "------------------------\n",
      "| tokenize  | standard |\n",
      "| pos       | standard |\n",
      "========================\n",
      "\n",
      "2021-09-29 13:48:20 INFO: Use device: gpu\n",
      "2021-09-29 13:48:20 INFO: Loading: tokenize\n",
      "2021-09-29 13:48:20 INFO: Loading: pos\n",
      "2021-09-29 13:48:22 INFO: Done loading processors!\n"
     ]
    },
    {
     "name": "stdout",
     "output_type": "stream",
     "text": [
      "CPU times: user 12min, sys: 896 ms, total: 12min 1s\n",
      "Wall time: 12min\n"
     ]
    }
   ],
   "source": [
    "%%time\n",
    "X_dev, y_dev = data_prep('../data/Dev.txt')"
   ]
  },
  {
   "cell_type": "code",
   "execution_count": 50,
   "id": "dbd6b0ef",
   "metadata": {},
   "outputs": [],
   "source": [
    "verify_prepped_data(X_dev, y_dev)"
   ]
  },
  {
   "cell_type": "code",
   "execution_count": 51,
   "id": "82c9c6d2",
   "metadata": {},
   "outputs": [
    {
     "name": "stdout",
     "output_type": "stream",
     "text": [
      "CPU times: user 29min 5s, sys: 1.5 s, total: 29min 7s\n",
      "Wall time: 29min 3s\n"
     ]
    }
   ],
   "source": [
    "%%time\n",
    "crf = sklearn_crfsuite.CRF(\n",
    "    algorithm='lbfgs',\n",
    "    c1=0.1,\n",
    "    c2=0.1,\n",
    "    max_iterations=100,\n",
    "    all_possible_transitions=True\n",
    ")\n",
    "crf.fit(X_train, y_train)"
   ]
  },
  {
   "cell_type": "code",
   "execution_count": null,
   "id": "e8a3f8c7",
   "metadata": {},
   "outputs": [],
   "source": [
    "labels = list(crf.classes_)\n",
    "y_pred = crf.predict(X_dev)\n",
    "print(metrics.flat_f1_score(y_dev, y_pred, average='weighted', labels=labels))\n",
    "print(metrics.flat_classification_report(y_dev, y_pred, labels=labels, digits=3))\n",
    "labels.remove('')\n",
    "print(metrics.flat_f1_score(y_dev, y_pred, average='weighted', labels=labels))\n",
    "print(metrics.flat_classification_report(y_dev, y_pred, labels=labels, digits=3))\n",
    "punctuated_sentences = punctuate(X_dev, y_pred)\n",
    "print(punctuated_sentences[:100])"
   ]
  },
  {
   "cell_type": "markdown",
   "id": "e5dcaf86",
   "metadata": {},
   "source": [
    "### Check if word is starts with capital letter"
   ]
  },
  {
   "cell_type": "code",
   "execution_count": 53,
   "id": "5d479020",
   "metadata": {},
   "outputs": [],
   "source": [
    "# input - sentence (list of dictionaries) and an index of a word (dictionary)\n",
    "# output - list of dictionaries (features, for each word)\n",
    "def word2features(sentence, i):\n",
    "    sentence_contains_interrogative_word, interrogative_word_position = contains_interrogative_word(sentence)\n",
    "    sentence_contains_interrogative_particle, interrogative_particle_position = contains_interrogative_particle(sentence)\n",
    "\n",
    "    features = {\n",
    "        'word': sentence[i]['text'],\n",
    "        'sent_len': len(sentence),\n",
    "        'pos_in_sent': i,\n",
    "        'upos': sentence[i]['upos'],\n",
    "        'xpos': sentence[i]['xpos'],\n",
    "        'first_word_in_sent': sentence[0]['text'],\n",
    "        'contains_interrogative_word': sentence_contains_interrogative_word,\n",
    "        'interrogative_word_position': interrogative_word_position,\n",
    "        'contains_interrogative_particle': sentence_contains_interrogative_particle,\n",
    "        'interrogative_particle_position': interrogative_particle_position,\n",
    "        'starts_with_capital_letter': sentence[i]['text'][0].isupper()\n",
    "    }\n",
    "\n",
    "    if i > 0:\n",
    "        features.update({\n",
    "            'prev_word': sentence[i-1]['text'],\n",
    "            'prev_word_upos': sentence[i-1]['upos'],\n",
    "            'prev_word_xpos': sentence[i-1]['xpos'],\n",
    "            'prev_word_starts_with_capital_letter': sentence[i-1]['text'][0].isupper()\n",
    "        })\n",
    "    else:\n",
    "        features.update({\n",
    "            'BOS': True\n",
    "        })\n",
    "\n",
    "    if i < len(sentence)-1:\n",
    "        features.update({\n",
    "            'next_word': sentence[i+1]['text'],\n",
    "            'next_word_upos': sentence[i+1]['upos'],\n",
    "            'next_word_xpos': sentence[i+1]['xpos'],\n",
    "            'next_word_starts_with_capital_letter': sentence[i+1]['text'][0].isupper()\n",
    "        })\n",
    "    else:\n",
    "        features.update({\n",
    "            'EOS': True\n",
    "        })\n",
    "        \n",
    "    if i < len(sentence)-2:\n",
    "        features.update({\n",
    "            'word_after_next_word': sentence [i+2]['text'],\n",
    "            'word_after_next_word_upos': sentence[i+2]['upos'],\n",
    "            'word_after_next_word_xpos': sentence[i+2]['xpos'],\n",
    "            'word_after_next_word_starts_with_capital_letter': sentence[i+2]['text'][0].isupper()\n",
    "        })\n",
    "\n",
    "    return features"
   ]
  },
  {
   "cell_type": "code",
   "execution_count": 54,
   "id": "73dbea56",
   "metadata": {},
   "outputs": [
    {
     "name": "stderr",
     "output_type": "stream",
     "text": [
      "2021-09-29 14:54:36 INFO: Loading these models for language: bg (Bulgarian):\n",
      "========================\n",
      "| Processor | Package  |\n",
      "------------------------\n",
      "| tokenize  | standard |\n",
      "========================\n",
      "\n",
      "2021-09-29 14:54:36 INFO: Use device: gpu\n",
      "2021-09-29 14:54:36 INFO: Loading: tokenize\n",
      "2021-09-29 14:54:36 INFO: Done loading processors!\n",
      "2021-09-29 14:54:52 INFO: Loading these models for language: bg (Bulgarian):\n",
      "========================\n",
      "| Processor | Package  |\n",
      "------------------------\n",
      "| tokenize  | standard |\n",
      "| pos       | standard |\n",
      "========================\n",
      "\n",
      "2021-09-29 14:54:52 INFO: Use device: gpu\n",
      "2021-09-29 14:54:52 INFO: Loading: tokenize\n",
      "2021-09-29 14:54:52 INFO: Loading: pos\n",
      "2021-09-29 14:54:53 INFO: Done loading processors!\n"
     ]
    },
    {
     "name": "stdout",
     "output_type": "stream",
     "text": [
      "CPU times: user 23min 40s, sys: 2.24 s, total: 23min 42s\n",
      "Wall time: 23min 41s\n"
     ]
    }
   ],
   "source": [
    "%%time\n",
    "X_train, y_train = data_prep('../data/Train.txt')"
   ]
  },
  {
   "cell_type": "code",
   "execution_count": 55,
   "id": "131f517b",
   "metadata": {},
   "outputs": [],
   "source": [
    "verify_prepped_data(X_train, y_train)"
   ]
  },
  {
   "cell_type": "code",
   "execution_count": 56,
   "id": "73064e9e",
   "metadata": {},
   "outputs": [
    {
     "name": "stderr",
     "output_type": "stream",
     "text": [
      "2021-09-29 15:18:18 INFO: Loading these models for language: bg (Bulgarian):\n",
      "========================\n",
      "| Processor | Package  |\n",
      "------------------------\n",
      "| tokenize  | standard |\n",
      "========================\n",
      "\n",
      "2021-09-29 15:18:18 INFO: Use device: gpu\n",
      "2021-09-29 15:18:18 INFO: Loading: tokenize\n",
      "2021-09-29 15:18:18 INFO: Done loading processors!\n",
      "2021-09-29 15:18:30 INFO: Loading these models for language: bg (Bulgarian):\n",
      "========================\n",
      "| Processor | Package  |\n",
      "------------------------\n",
      "| tokenize  | standard |\n",
      "| pos       | standard |\n",
      "========================\n",
      "\n",
      "2021-09-29 15:18:30 INFO: Use device: gpu\n",
      "2021-09-29 15:18:30 INFO: Loading: tokenize\n",
      "2021-09-29 15:18:30 INFO: Loading: pos\n",
      "2021-09-29 15:18:32 INFO: Done loading processors!\n"
     ]
    },
    {
     "name": "stdout",
     "output_type": "stream",
     "text": [
      "CPU times: user 11min 55s, sys: 996 ms, total: 11min 56s\n",
      "Wall time: 11min 55s\n"
     ]
    }
   ],
   "source": [
    "%%time\n",
    "X_dev, y_dev = data_prep('../data/Dev.txt')"
   ]
  },
  {
   "cell_type": "code",
   "execution_count": 57,
   "id": "99ab2f1e",
   "metadata": {},
   "outputs": [],
   "source": [
    "verify_prepped_data(X_dev, y_dev)"
   ]
  },
  {
   "cell_type": "code",
   "execution_count": 58,
   "id": "74bce854",
   "metadata": {},
   "outputs": [
    {
     "name": "stdout",
     "output_type": "stream",
     "text": [
      "CPU times: user 30min 15s, sys: 1.28 s, total: 30min 16s\n",
      "Wall time: 30min 13s\n"
     ]
    }
   ],
   "source": [
    "%%time\n",
    "crf = sklearn_crfsuite.CRF(\n",
    "    algorithm='lbfgs',\n",
    "    c1=0.1,\n",
    "    c2=0.1,\n",
    "    max_iterations=100,\n",
    "    all_possible_transitions=True\n",
    ")\n",
    "crf.fit(X_train, y_train)"
   ]
  },
  {
   "cell_type": "code",
   "execution_count": null,
   "id": "75b407c2",
   "metadata": {},
   "outputs": [],
   "source": [
    "labels = list(crf.classes_)\n",
    "y_pred = crf.predict(X_dev)\n",
    "print(metrics.flat_f1_score(y_dev, y_pred, average='weighted', labels=labels))\n",
    "print(metrics.flat_classification_report(y_dev, y_pred, labels=labels, digits=3))\n",
    "labels.remove('')\n",
    "print(metrics.flat_f1_score(y_dev, y_pred, average='weighted', labels=labels))\n",
    "print(metrics.flat_classification_report(y_dev, y_pred, labels=labels, digits=3))\n",
    "punctuated_sentences = punctuate(X_dev, y_pred)\n",
    "print(punctuated_sentences[:100])"
   ]
  },
  {
   "cell_type": "markdown",
   "id": "eaa4ddc2",
   "metadata": {},
   "source": [
    "### Contains relative pronoun before"
   ]
  },
  {
   "cell_type": "code",
   "execution_count": 77,
   "id": "e3694f62",
   "metadata": {},
   "outputs": [],
   "source": [
    "# input - sentence (list of dictionaries) and an index of a word (dictionary)\n",
    "# output - list of dictionaries (features, for each word)\n",
    "def word2features(sentence, i):\n",
    "    sentence_contains_interrogative_word, interrogative_word_position = contains_interrogative_word(sentence)\n",
    "    sentence_contains_interrogative_particle, interrogative_particle_position = contains_interrogative_particle(sentence)\n",
    "    sentence_contains_relative_pronoun_before, relative_pronoun_position = contains_relative_pronoun_before(sentence, i)\n",
    "    \n",
    "    features = {\n",
    "        'word': sentence[i]['text'],\n",
    "        'sent_len': len(sentence),\n",
    "        'pos_in_sent': i,\n",
    "        'upos': sentence[i]['upos'],\n",
    "        'xpos': sentence[i]['xpos'],\n",
    "        'first_word_in_sent': sentence[0]['text'],\n",
    "        'contains_interrogative_word': sentence_contains_interrogative_word,\n",
    "        'interrogative_word_position': interrogative_word_position,\n",
    "        'contains_interrogative_particle': sentence_contains_interrogative_particle,\n",
    "        'interrogative_particle_position': interrogative_particle_position,\n",
    "        'contains_relative_pronoun_before': sentence_contains_relative_pronoun_before,\n",
    "        'relative_pronoun_position': relative_pronoun_position\n",
    "    }\n",
    "\n",
    "    if i > 0:\n",
    "        features.update({\n",
    "            'prev_word': sentence[i-1]['text'],\n",
    "            'prev_word_upos': sentence[i-1]['upos'],\n",
    "            'prev_word_xpos': sentence[i-1]['xpos']\n",
    "        })\n",
    "    else:\n",
    "        features.update({\n",
    "            'BOS': True\n",
    "        })\n",
    "\n",
    "    if i < len(sentence)-1:\n",
    "        features.update({\n",
    "            'next_word': sentence[i+1]['text'],\n",
    "            'next_word_upos': sentence[i+1]['upos'],\n",
    "            'next_word_xpos': sentence[i+1]['xpos']\n",
    "        })\n",
    "    else:\n",
    "        features.update({\n",
    "            'EOS': True\n",
    "        })\n",
    "        \n",
    "    if i < len(sentence)-2:\n",
    "        features.update({\n",
    "            'word_after_next_word': sentence [i+2]['text'],\n",
    "            'word_after_next_word_upos': sentence[i+2]['upos'],\n",
    "            'word_after_next_word_xpos': sentence[i+2]['xpos']\n",
    "        })\n",
    "\n",
    "    return features"
   ]
  },
  {
   "cell_type": "code",
   "execution_count": 78,
   "id": "eccce1fe",
   "metadata": {},
   "outputs": [
    {
     "name": "stderr",
     "output_type": "stream",
     "text": [
      "2021-09-29 20:23:44 INFO: Loading these models for language: bg (Bulgarian):\n",
      "========================\n",
      "| Processor | Package  |\n",
      "------------------------\n",
      "| tokenize  | standard |\n",
      "========================\n",
      "\n",
      "2021-09-29 20:23:44 INFO: Use device: gpu\n",
      "2021-09-29 20:23:44 INFO: Loading: tokenize\n",
      "2021-09-29 20:23:44 INFO: Done loading processors!\n",
      "2021-09-29 20:24:01 INFO: Loading these models for language: bg (Bulgarian):\n",
      "========================\n",
      "| Processor | Package  |\n",
      "------------------------\n",
      "| tokenize  | standard |\n",
      "| pos       | standard |\n",
      "========================\n",
      "\n",
      "2021-09-29 20:24:01 INFO: Use device: gpu\n",
      "2021-09-29 20:24:01 INFO: Loading: tokenize\n",
      "2021-09-29 20:24:01 INFO: Loading: pos\n",
      "2021-09-29 20:24:01 INFO: Done loading processors!\n"
     ]
    },
    {
     "name": "stdout",
     "output_type": "stream",
     "text": [
      "CPU times: user 24min 45s, sys: 3.38 s, total: 24min 48s\n",
      "Wall time: 24min 47s\n"
     ]
    }
   ],
   "source": [
    "%%time\n",
    "X_train, y_train = data_prep('../data/Train.txt')"
   ]
  },
  {
   "cell_type": "code",
   "execution_count": 79,
   "id": "35e1dda1",
   "metadata": {},
   "outputs": [],
   "source": [
    "verify_prepped_data(X_train, y_train)"
   ]
  },
  {
   "cell_type": "code",
   "execution_count": 80,
   "id": "2dab5bea",
   "metadata": {},
   "outputs": [
    {
     "name": "stderr",
     "output_type": "stream",
     "text": [
      "2021-09-29 20:48:32 INFO: Loading these models for language: bg (Bulgarian):\n",
      "========================\n",
      "| Processor | Package  |\n",
      "------------------------\n",
      "| tokenize  | standard |\n",
      "========================\n",
      "\n",
      "2021-09-29 20:48:32 INFO: Use device: gpu\n",
      "2021-09-29 20:48:32 INFO: Loading: tokenize\n",
      "2021-09-29 20:48:32 INFO: Done loading processors!\n",
      "2021-09-29 20:48:45 INFO: Loading these models for language: bg (Bulgarian):\n",
      "========================\n",
      "| Processor | Package  |\n",
      "------------------------\n",
      "| tokenize  | standard |\n",
      "| pos       | standard |\n",
      "========================\n",
      "\n",
      "2021-09-29 20:48:45 INFO: Use device: gpu\n",
      "2021-09-29 20:48:45 INFO: Loading: tokenize\n",
      "2021-09-29 20:48:45 INFO: Loading: pos\n",
      "2021-09-29 20:48:47 INFO: Done loading processors!\n"
     ]
    },
    {
     "name": "stdout",
     "output_type": "stream",
     "text": [
      "CPU times: user 11min 57s, sys: 1.15 s, total: 11min 58s\n",
      "Wall time: 11min 57s\n"
     ]
    }
   ],
   "source": [
    "%%time\n",
    "X_dev, y_dev = data_prep('../data/Dev.txt')"
   ]
  },
  {
   "cell_type": "code",
   "execution_count": 81,
   "id": "4a6194f2",
   "metadata": {},
   "outputs": [],
   "source": [
    "verify_prepped_data(X_dev, y_dev)"
   ]
  },
  {
   "cell_type": "code",
   "execution_count": 82,
   "id": "b4217112",
   "metadata": {},
   "outputs": [
    {
     "name": "stdout",
     "output_type": "stream",
     "text": [
      "CPU times: user 38min 32s, sys: 2.04 s, total: 38min 34s\n",
      "Wall time: 38min 28s\n"
     ]
    }
   ],
   "source": [
    "%%time\n",
    "crf = sklearn_crfsuite.CRF(\n",
    "    algorithm='lbfgs',\n",
    "    c1=0.1,\n",
    "    c2=0.1,\n",
    "    max_iterations=100,\n",
    "    all_possible_transitions=True\n",
    ")\n",
    "crf.fit(X_train, y_train)"
   ]
  },
  {
   "cell_type": "code",
   "execution_count": null,
   "id": "ca27a775",
   "metadata": {},
   "outputs": [],
   "source": [
    "labels = list(crf.classes_)\n",
    "y_pred = crf.predict(X_dev)\n",
    "print(metrics.flat_f1_score(y_dev, y_pred, average='weighted', labels=labels))\n",
    "print(metrics.flat_classification_report(y_dev, y_pred, labels=labels, digits=3))\n",
    "labels.remove('')\n",
    "print(metrics.flat_f1_score(y_dev, y_pred, average='weighted', labels=labels))\n",
    "print(metrics.flat_classification_report(y_dev, y_pred, labels=labels, digits=3))\n",
    "punctuated_sentences = punctuate(X_dev, y_pred)\n",
    "print(punctuated_sentences[:100])"
   ]
  },
  {
   "cell_type": "markdown",
   "id": "51f51bd5",
   "metadata": {},
   "source": [
    "### Contains conjunction before"
   ]
  },
  {
   "cell_type": "code",
   "execution_count": 84,
   "id": "7667165e",
   "metadata": {},
   "outputs": [],
   "source": [
    "# input - sentence (list of dictionaries) and an index of a word (dictionary)\n",
    "# output - list of dictionaries (features, for each word)\n",
    "def word2features(sentence, i):\n",
    "    sentence_contains_interrogative_word, interrogative_word_position = contains_interrogative_word(sentence)\n",
    "    sentence_contains_interrogative_particle, interrogative_particle_position = contains_interrogative_particle(sentence)\n",
    "    sentence_contains_conj_before, conj_position = contains_conj_before(sentence, i)\n",
    "\n",
    "    features = {\n",
    "        'word': sentence[i]['text'],\n",
    "        'sent_len': len(sentence),\n",
    "        'pos_in_sent': i,\n",
    "        'upos': sentence[i]['upos'],\n",
    "        'xpos': sentence[i]['xpos'],\n",
    "        'first_word_in_sent': sentence[0]['text'],\n",
    "        'contains_interrogative_word': sentence_contains_interrogative_word,\n",
    "        'interrogative_word_position': interrogative_word_position,\n",
    "        'contains_interrogative_particle': sentence_contains_interrogative_particle,\n",
    "        'interrogative_particle_position': interrogative_particle_position,\n",
    "        'contains_conj_before': sentence_contains_conj_before,\n",
    "        'conj_position': conj_position\n",
    "    }\n",
    "\n",
    "    if i > 0:\n",
    "        features.update({\n",
    "            'prev_word': sentence[i-1]['text'],\n",
    "            'prev_word_upos': sentence[i-1]['upos'],\n",
    "            'prev_word_xpos': sentence[i-1]['xpos']\n",
    "        })\n",
    "    else:\n",
    "        features.update({\n",
    "            'BOS': True\n",
    "        })\n",
    "\n",
    "    if i < len(sentence)-1:\n",
    "        features.update({\n",
    "            'next_word': sentence[i+1]['text'],\n",
    "            'next_word_upos': sentence[i+1]['upos'],\n",
    "            'next_word_xpos': sentence[i+1]['xpos']\n",
    "        })\n",
    "    else:\n",
    "        features.update({\n",
    "            'EOS': True\n",
    "        })\n",
    "        \n",
    "    if i < len(sentence)-2:\n",
    "        features.update({\n",
    "            'word_after_next_word': sentence [i+2]['text'],\n",
    "            'word_after_next_word_upos': sentence[i+2]['upos'],\n",
    "            'word_after_next_word_xpos': sentence[i+2]['xpos']\n",
    "        })\n",
    "\n",
    "    return features"
   ]
  },
  {
   "cell_type": "code",
   "execution_count": 85,
   "id": "ecf8856b",
   "metadata": {},
   "outputs": [
    {
     "name": "stderr",
     "output_type": "stream",
     "text": [
      "2021-09-29 21:39:18 INFO: Loading these models for language: bg (Bulgarian):\n",
      "========================\n",
      "| Processor | Package  |\n",
      "------------------------\n",
      "| tokenize  | standard |\n",
      "========================\n",
      "\n",
      "2021-09-29 21:39:18 INFO: Use device: gpu\n",
      "2021-09-29 21:39:18 INFO: Loading: tokenize\n",
      "2021-09-29 21:39:18 INFO: Done loading processors!\n",
      "2021-09-29 21:39:44 INFO: Loading these models for language: bg (Bulgarian):\n",
      "========================\n",
      "| Processor | Package  |\n",
      "------------------------\n",
      "| tokenize  | standard |\n",
      "| pos       | standard |\n",
      "========================\n",
      "\n",
      "2021-09-29 21:39:44 INFO: Use device: gpu\n",
      "2021-09-29 21:39:44 INFO: Loading: tokenize\n",
      "2021-09-29 21:39:44 INFO: Loading: pos\n",
      "2021-09-29 21:39:46 INFO: Done loading processors!\n"
     ]
    },
    {
     "name": "stdout",
     "output_type": "stream",
     "text": [
      "CPU times: user 24min 54s, sys: 2.29 s, total: 24min 56s\n",
      "Wall time: 24min 56s\n"
     ]
    }
   ],
   "source": [
    "%%time\n",
    "X_train, y_train = data_prep('../data/Train.txt')"
   ]
  },
  {
   "cell_type": "code",
   "execution_count": 86,
   "id": "af22f3b8",
   "metadata": {},
   "outputs": [],
   "source": [
    "verify_prepped_data(X_train, y_train)"
   ]
  },
  {
   "cell_type": "code",
   "execution_count": 87,
   "id": "40a2087c",
   "metadata": {},
   "outputs": [
    {
     "name": "stderr",
     "output_type": "stream",
     "text": [
      "2021-09-29 22:04:14 INFO: Loading these models for language: bg (Bulgarian):\n",
      "========================\n",
      "| Processor | Package  |\n",
      "------------------------\n",
      "| tokenize  | standard |\n",
      "========================\n",
      "\n",
      "2021-09-29 22:04:14 INFO: Use device: gpu\n",
      "2021-09-29 22:04:14 INFO: Loading: tokenize\n",
      "2021-09-29 22:04:14 INFO: Done loading processors!\n",
      "2021-09-29 22:04:26 INFO: Loading these models for language: bg (Bulgarian):\n",
      "========================\n",
      "| Processor | Package  |\n",
      "------------------------\n",
      "| tokenize  | standard |\n",
      "| pos       | standard |\n",
      "========================\n",
      "\n",
      "2021-09-29 22:04:26 INFO: Use device: gpu\n",
      "2021-09-29 22:04:26 INFO: Loading: tokenize\n",
      "2021-09-29 22:04:26 INFO: Loading: pos\n",
      "2021-09-29 22:04:28 INFO: Done loading processors!\n"
     ]
    },
    {
     "name": "stdout",
     "output_type": "stream",
     "text": [
      "CPU times: user 12min 34s, sys: 1.11 s, total: 12min 35s\n",
      "Wall time: 12min 34s\n"
     ]
    }
   ],
   "source": [
    "%%time\n",
    "X_dev, y_dev = data_prep('../data/Dev.txt')"
   ]
  },
  {
   "cell_type": "code",
   "execution_count": 88,
   "id": "a528253c",
   "metadata": {},
   "outputs": [],
   "source": [
    "verify_prepped_data(X_dev, y_dev)"
   ]
  },
  {
   "cell_type": "code",
   "execution_count": 89,
   "id": "f21bd4c1",
   "metadata": {},
   "outputs": [
    {
     "name": "stdout",
     "output_type": "stream",
     "text": [
      "CPU times: user 41min 52s, sys: 3.25 s, total: 41min 55s\n",
      "Wall time: 41min 49s\n"
     ]
    }
   ],
   "source": [
    "%%time\n",
    "crf = sklearn_crfsuite.CRF(\n",
    "    algorithm='lbfgs',\n",
    "    c1=0.1,\n",
    "    c2=0.1,\n",
    "    max_iterations=100,\n",
    "    all_possible_transitions=True\n",
    ")\n",
    "crf.fit(X_train, y_train)"
   ]
  },
  {
   "cell_type": "code",
   "execution_count": null,
   "id": "165c9167",
   "metadata": {},
   "outputs": [],
   "source": [
    "labels = list(crf.classes_)\n",
    "y_pred = crf.predict(X_dev)\n",
    "print(metrics.flat_f1_score(y_dev, y_pred, average='weighted', labels=labels))\n",
    "print(metrics.flat_classification_report(y_dev, y_pred, labels=labels, digits=3))\n",
    "labels.remove('')\n",
    "print(metrics.flat_f1_score(y_dev, y_pred, average='weighted', labels=labels))\n",
    "print(metrics.flat_classification_report(y_dev, y_pred, labels=labels, digits=3))\n",
    "punctuated_sentences = punctuate(X_dev, y_pred)\n",
    "print(punctuated_sentences[:100])"
   ]
  },
  {
   "cell_type": "markdown",
   "id": "235f1290",
   "metadata": {},
   "source": [
    "### Model combining the best features"
   ]
  },
  {
   "cell_type": "code",
   "execution_count": 91,
   "id": "a8075d4d",
   "metadata": {},
   "outputs": [],
   "source": [
    "# input - sentence (list of dictionaries) and an index of a word (dictionary)\n",
    "# output - list of dictionaries (features, for each word)\n",
    "def word2features(sentence, i):\n",
    "    sentence_contains_interrogative_word, interrogative_word_position = contains_interrogative_word(sentence)\n",
    "    sentence_contains_interrogative_particle, interrogative_particle_position = contains_interrogative_particle(sentence)\n",
    "    sentence_contains_imperative_verb, imperative_verb_position = contains_imperative_verb(sentence)\n",
    "\n",
    "    features = {\n",
    "        'word': sentence[i]['text'],\n",
    "        'sent_len': len(sentence),\n",
    "        'pos_in_sent': i,\n",
    "        'upos': sentence[i]['upos'],\n",
    "        'xpos': sentence[i]['xpos'],\n",
    "        'first_word_in_sent': sentence[0]['text'],\n",
    "        'contains_interrogative_word': sentence_contains_interrogative_word,\n",
    "        'interrogative_word_position': interrogative_word_position,\n",
    "        'contains_interrogative_particle': sentence_contains_interrogative_particle,\n",
    "        'interrogative_particle_position': interrogative_particle_position,\n",
    "        'contains_imperative_verb': sentence_contains_imperative_verb,\n",
    "        'imperative_verb_position': imperative_verb_position,\n",
    "        'starts_with_capital_letter': sentence[i]['text'][0].isupper()\n",
    "    }\n",
    "\n",
    "    if i > 0:\n",
    "        features.update({\n",
    "            'prev_word': sentence[i-1]['text'],\n",
    "            'prev_word_upos': sentence[i-1]['upos'],\n",
    "            'prev_word_xpos': sentence[i-1]['xpos'],\n",
    "            'prev_word_starts_with_capital_letter': sentence[i-1]['text'][0].isupper()\n",
    "        })\n",
    "    else:\n",
    "        features.update({\n",
    "            'BOS': True\n",
    "        })\n",
    "\n",
    "    if i > 1:\n",
    "        features.update({\n",
    "            'word_before_prev_word': sentence[i-2]['text'],\n",
    "            'word_before_prev_word_upos': sentence[i-2]['upos'],\n",
    "            'word_before_prev_word_xpos': sentence[i-2]['xpos'],\n",
    "            'word_before_prev_word_starts_with_capital_letter': sentence[i-2]['text'][0].isupper()\n",
    "        })\n",
    "\n",
    "    if i < len(sentence)-1:\n",
    "        features.update({\n",
    "            'next_word': sentence[i+1]['text'],\n",
    "            'next_word_upos': sentence[i+1]['upos'],\n",
    "            'next_word_xpos': sentence[i+1]['xpos'],\n",
    "            'next_word_starts_with_capital_letter': sentence[i+1]['text'][0].isupper()\n",
    "        })\n",
    "    else:\n",
    "        features.update({\n",
    "            'EOS': True\n",
    "        })\n",
    "        \n",
    "    if i < len(sentence)-2:\n",
    "        features.update({\n",
    "            'word_after_next_word': sentence [i+2]['text'],\n",
    "            'word_after_next_word_upos': sentence[i+2]['upos'],\n",
    "            'word_after_next_word_xpos': sentence[i+2]['xpos'],\n",
    "            'word_after_next_word_starts_with_capital_letter': sentence[i+2]['text'][0].isupper()\n",
    "        })\n",
    "\n",
    "    return features"
   ]
  },
  {
   "cell_type": "code",
   "execution_count": 92,
   "id": "ea82b78e",
   "metadata": {},
   "outputs": [
    {
     "name": "stderr",
     "output_type": "stream",
     "text": [
      "2021-09-29 23:07:29 INFO: Loading these models for language: bg (Bulgarian):\n",
      "========================\n",
      "| Processor | Package  |\n",
      "------------------------\n",
      "| tokenize  | standard |\n",
      "========================\n",
      "\n",
      "2021-09-29 23:07:29 INFO: Use device: gpu\n",
      "2021-09-29 23:07:29 INFO: Loading: tokenize\n",
      "2021-09-29 23:07:29 INFO: Done loading processors!\n",
      "2021-09-29 23:07:52 INFO: Loading these models for language: bg (Bulgarian):\n",
      "========================\n",
      "| Processor | Package  |\n",
      "------------------------\n",
      "| tokenize  | standard |\n",
      "| pos       | standard |\n",
      "========================\n",
      "\n",
      "2021-09-29 23:07:52 INFO: Use device: gpu\n",
      "2021-09-29 23:07:52 INFO: Loading: tokenize\n",
      "2021-09-29 23:07:52 INFO: Loading: pos\n",
      "2021-09-29 23:07:54 INFO: Done loading processors!\n"
     ]
    },
    {
     "name": "stdout",
     "output_type": "stream",
     "text": [
      "CPU times: user 24min 40s, sys: 2.26 s, total: 24min 43s\n",
      "Wall time: 24min 42s\n"
     ]
    }
   ],
   "source": [
    "%%time\n",
    "X_train, y_train = data_prep('../data/Train.txt')"
   ]
  },
  {
   "cell_type": "code",
   "execution_count": 93,
   "id": "464759aa",
   "metadata": {},
   "outputs": [],
   "source": [
    "verify_prepped_data(X_train, y_train)"
   ]
  },
  {
   "cell_type": "code",
   "execution_count": 94,
   "id": "2b1775cf",
   "metadata": {},
   "outputs": [
    {
     "name": "stderr",
     "output_type": "stream",
     "text": [
      "2021-09-29 23:32:11 INFO: Loading these models for language: bg (Bulgarian):\n",
      "========================\n",
      "| Processor | Package  |\n",
      "------------------------\n",
      "| tokenize  | standard |\n",
      "========================\n",
      "\n",
      "2021-09-29 23:32:11 INFO: Use device: gpu\n",
      "2021-09-29 23:32:11 INFO: Loading: tokenize\n",
      "2021-09-29 23:32:11 INFO: Done loading processors!\n",
      "2021-09-29 23:32:24 INFO: Loading these models for language: bg (Bulgarian):\n",
      "========================\n",
      "| Processor | Package  |\n",
      "------------------------\n",
      "| tokenize  | standard |\n",
      "| pos       | standard |\n",
      "========================\n",
      "\n",
      "2021-09-29 23:32:24 INFO: Use device: gpu\n",
      "2021-09-29 23:32:24 INFO: Loading: tokenize\n",
      "2021-09-29 23:32:24 INFO: Loading: pos\n",
      "2021-09-29 23:32:26 INFO: Done loading processors!\n"
     ]
    },
    {
     "name": "stdout",
     "output_type": "stream",
     "text": [
      "CPU times: user 12min 27s, sys: 1.1 s, total: 12min 28s\n",
      "Wall time: 12min 27s\n"
     ]
    }
   ],
   "source": [
    "%%time\n",
    "X_dev, y_dev = data_prep('../data/Dev.txt')"
   ]
  },
  {
   "cell_type": "code",
   "execution_count": 95,
   "id": "d012d269",
   "metadata": {},
   "outputs": [
    {
     "name": "stdout",
     "output_type": "stream",
     "text": [
      "CPU times: user 45min 25s, sys: 2.87 s, total: 45min 28s\n",
      "Wall time: 45min 22s\n"
     ]
    }
   ],
   "source": [
    "%%time\n",
    "crf = sklearn_crfsuite.CRF(\n",
    "    algorithm='lbfgs',\n",
    "    c1=0.1,\n",
    "    c2=0.1,\n",
    "    max_iterations=100,\n",
    "    all_possible_transitions=True\n",
    ")\n",
    "crf.fit(X_train, y_train)"
   ]
  },
  {
   "cell_type": "code",
   "execution_count": null,
   "id": "5b48815a",
   "metadata": {},
   "outputs": [],
   "source": [
    "labels = list(crf.classes_)\n",
    "y_pred = crf.predict(X_dev)\n",
    "print(metrics.flat_f1_score(y_dev, y_pred, average='weighted', labels=labels))\n",
    "print(metrics.flat_classification_report(y_dev, y_pred, labels=labels, digits=3))\n",
    "labels.remove('')\n",
    "print(metrics.flat_f1_score(y_dev, y_pred, average='weighted', labels=labels))\n",
    "print(metrics.flat_classification_report(y_dev, y_pred, labels=labels, digits=3))\n",
    "punctuated_sentences = punctuate(X_dev, y_pred)\n",
    "print(punctuated_sentences[:100])"
   ]
  },
  {
   "cell_type": "code",
   "execution_count": 97,
   "id": "0b22e0c7",
   "metadata": {},
   "outputs": [],
   "source": [
    "save_as_json(X_dev, '../data/X_dev.json')"
   ]
  },
  {
   "cell_type": "code",
   "execution_count": 99,
   "id": "31c85a53",
   "metadata": {},
   "outputs": [],
   "source": [
    "save_as_json(y_dev, '../data/y_dev.json')"
   ]
  },
  {
   "cell_type": "markdown",
   "id": "7591bc05",
   "metadata": {},
   "source": [
    "### Expand train set"
   ]
  },
  {
   "cell_type": "code",
   "execution_count": 21,
   "id": "d1a75f08",
   "metadata": {},
   "outputs": [],
   "source": [
    "# input - sentence (list of dictionaries) and an index of a word (dictionary)\n",
    "# output - list of dictionaries (features, for each word)\n",
    "def word2features(sentence, i):\n",
    "    sentence_contains_interrogative_word, interrogative_word_position = contains_interrogative_word(sentence)\n",
    "    sentence_contains_interrogative_particle, interrogative_particle_position = contains_interrogative_particle(sentence)\n",
    "    sentence_contains_imperative_verb, imperative_verb_position = contains_imperative_verb(sentence)\n",
    "\n",
    "    features = {\n",
    "        'word': sentence[i]['text'],\n",
    "        'sent_len': len(sentence),\n",
    "        'pos_in_sent': i,\n",
    "        'upos': sentence[i]['upos'],\n",
    "        'xpos': sentence[i]['xpos'],\n",
    "        'first_word_in_sent': sentence[0]['text'],\n",
    "        'contains_interrogative_word': sentence_contains_interrogative_word,\n",
    "        'interrogative_word_position': interrogative_word_position,\n",
    "        'contains_interrogative_particle': sentence_contains_interrogative_particle,\n",
    "        'interrogative_particle_position': interrogative_particle_position,\n",
    "        'contains_imperative_verb': sentence_contains_imperative_verb,\n",
    "        'imperative_verb_position': imperative_verb_position,\n",
    "        'starts_with_capital_letter': sentence[i]['text'][0].isupper()\n",
    "    }\n",
    "\n",
    "    if i > 0:\n",
    "        features.update({\n",
    "            'prev_word': sentence[i-1]['text'],\n",
    "            'prev_word_upos': sentence[i-1]['upos'],\n",
    "            'prev_word_xpos': sentence[i-1]['xpos'],\n",
    "            'prev_word_starts_with_capital_letter': sentence[i-1]['text'][0].isupper()\n",
    "        })\n",
    "    else:\n",
    "        features.update({\n",
    "            'BOS': True\n",
    "        })\n",
    "\n",
    "    if i > 1:\n",
    "        features.update({\n",
    "            'word_before_prev_word': sentence[i-2]['text'],\n",
    "            'word_before_prev_word_upos': sentence[i-2]['upos'],\n",
    "            'word_before_prev_word_xpos': sentence[i-2]['xpos'],\n",
    "            'word_before_prev_word_starts_with_capital_letter': sentence[i-2]['text'][0].isupper()\n",
    "        })\n",
    "\n",
    "    if i < len(sentence)-1:\n",
    "        features.update({\n",
    "            'next_word': sentence[i+1]['text'],\n",
    "            'next_word_upos': sentence[i+1]['upos'],\n",
    "            'next_word_xpos': sentence[i+1]['xpos'],\n",
    "            'next_word_starts_with_capital_letter': sentence[i+1]['text'][0].isupper()\n",
    "        })\n",
    "    else:\n",
    "        features.update({\n",
    "            'EOS': True\n",
    "        })\n",
    "        \n",
    "    if i < len(sentence)-2:\n",
    "        features.update({\n",
    "            'word_after_next_word': sentence [i+2]['text'],\n",
    "            'word_after_next_word_upos': sentence[i+2]['upos'],\n",
    "            'word_after_next_word_xpos': sentence[i+2]['xpos'],\n",
    "            'word_after_next_word_starts_with_capital_letter': sentence[i+2]['text'][0].isupper()\n",
    "        })\n",
    "\n",
    "    return features"
   ]
  },
  {
   "cell_type": "code",
   "execution_count": 22,
   "id": "4a3938d7",
   "metadata": {},
   "outputs": [],
   "source": [
    "X_dev = load_json('../data/X_dev.json')"
   ]
  },
  {
   "cell_type": "code",
   "execution_count": 23,
   "id": "75f7772c",
   "metadata": {},
   "outputs": [],
   "source": [
    "y_dev = load_json('../data/y_dev.json')"
   ]
  },
  {
   "cell_type": "code",
   "execution_count": 24,
   "id": "8d859349",
   "metadata": {},
   "outputs": [],
   "source": [
    "verify_prepped_data(X_dev, y_dev)"
   ]
  },
  {
   "cell_type": "markdown",
   "id": "0033abcf",
   "metadata": {},
   "source": [
    "### Expand train set to 30% of data"
   ]
  },
  {
   "cell_type": "code",
   "execution_count": 26,
   "id": "abc72f85",
   "metadata": {},
   "outputs": [
    {
     "name": "stderr",
     "output_type": "stream",
     "text": [
      "2021-09-30 01:15:42 INFO: Loading these models for language: bg (Bulgarian):\n",
      "========================\n",
      "| Processor | Package  |\n",
      "------------------------\n",
      "| tokenize  | standard |\n",
      "========================\n",
      "\n",
      "2021-09-30 01:15:42 INFO: Use device: gpu\n",
      "2021-09-30 01:15:42 INFO: Loading: tokenize\n",
      "2021-09-30 01:15:42 INFO: Done loading processors!\n",
      "2021-09-30 01:16:13 INFO: Loading these models for language: bg (Bulgarian):\n",
      "========================\n",
      "| Processor | Package  |\n",
      "------------------------\n",
      "| tokenize  | standard |\n",
      "| pos       | standard |\n",
      "========================\n",
      "\n",
      "2021-09-30 01:16:13 INFO: Use device: gpu\n",
      "2021-09-30 01:16:13 INFO: Loading: tokenize\n",
      "2021-09-30 01:16:13 INFO: Loading: pos\n",
      "2021-09-30 01:16:18 INFO: Done loading processors!\n"
     ]
    },
    {
     "name": "stdout",
     "output_type": "stream",
     "text": [
      "CPU times: user 33min 54s, sys: 4.56 s, total: 33min 58s\n",
      "Wall time: 33min 58s\n"
     ]
    }
   ],
   "source": [
    "%%time\n",
    "X_train, y_train = data_prep('../data/Train_30.txt')"
   ]
  },
  {
   "cell_type": "code",
   "execution_count": 27,
   "id": "041a62bd",
   "metadata": {},
   "outputs": [],
   "source": [
    "verify_prepped_data(X_train, y_train)"
   ]
  },
  {
   "cell_type": "code",
   "execution_count": 28,
   "id": "0b050eb7",
   "metadata": {},
   "outputs": [
    {
     "name": "stdout",
     "output_type": "stream",
     "text": [
      "CPU times: user 58min 38s, sys: 2.54 s, total: 58min 41s\n",
      "Wall time: 58min 34s\n"
     ]
    }
   ],
   "source": [
    "%%time\n",
    "crf = sklearn_crfsuite.CRF(\n",
    "    algorithm='lbfgs',\n",
    "    c1=0.1,\n",
    "    c2=0.1,\n",
    "    max_iterations=100,\n",
    "    all_possible_transitions=True\n",
    ")\n",
    "crf.fit(X_train, y_train)"
   ]
  },
  {
   "cell_type": "code",
   "execution_count": null,
   "id": "a11a7463",
   "metadata": {},
   "outputs": [],
   "source": [
    "labels = list(crf.classes_)\n",
    "y_pred = crf.predict(X_dev)\n",
    "print(metrics.flat_f1_score(y_dev, y_pred, average='weighted', labels=labels))\n",
    "print(metrics.flat_classification_report(y_dev, y_pred, labels=labels, digits=3))\n",
    "labels.remove('')\n",
    "print(metrics.flat_f1_score(y_dev, y_pred, average='weighted', labels=labels))\n",
    "print(metrics.flat_classification_report(y_dev, y_pred, labels=labels, digits=3))\n",
    "punctuated_sentences = punctuate(X_dev, y_pred)\n",
    "print(punctuated_sentences[:100])"
   ]
  },
  {
   "cell_type": "markdown",
   "id": "f73a055b",
   "metadata": {},
   "source": [
    "### Expand train set to 50% of data"
   ]
  },
  {
   "cell_type": "code",
   "execution_count": 30,
   "id": "3520dddd",
   "metadata": {},
   "outputs": [
    {
     "name": "stderr",
     "output_type": "stream",
     "text": [
      "2021-09-30 02:48:30 INFO: Loading these models for language: bg (Bulgarian):\n",
      "========================\n",
      "| Processor | Package  |\n",
      "------------------------\n",
      "| tokenize  | standard |\n",
      "========================\n",
      "\n",
      "2021-09-30 02:48:30 INFO: Use device: gpu\n",
      "2021-09-30 02:48:30 INFO: Loading: tokenize\n",
      "2021-09-30 02:48:30 INFO: Done loading processors!\n",
      "2021-09-30 02:49:11 INFO: Loading these models for language: bg (Bulgarian):\n",
      "========================\n",
      "| Processor | Package  |\n",
      "------------------------\n",
      "| tokenize  | standard |\n",
      "| pos       | standard |\n",
      "========================\n",
      "\n",
      "2021-09-30 02:49:11 INFO: Use device: gpu\n",
      "2021-09-30 02:49:11 INFO: Loading: tokenize\n",
      "2021-09-30 02:49:11 INFO: Loading: pos\n",
      "2021-09-30 02:49:12 INFO: Done loading processors!\n"
     ]
    },
    {
     "name": "stdout",
     "output_type": "stream",
     "text": [
      "CPU times: user 57min 28s, sys: 6.39 s, total: 57min 34s\n",
      "Wall time: 57min 32s\n"
     ]
    }
   ],
   "source": [
    "%%time\n",
    "X_train, y_train = data_prep('../data/Train_50.txt')"
   ]
  },
  {
   "cell_type": "code",
   "execution_count": 31,
   "id": "f0fe7da7",
   "metadata": {},
   "outputs": [],
   "source": [
    "verify_prepped_data(X_train, y_train)"
   ]
  },
  {
   "cell_type": "code",
   "execution_count": 32,
   "id": "23a5c01f",
   "metadata": {},
   "outputs": [
    {
     "name": "stdout",
     "output_type": "stream",
     "text": [
      "CPU times: user 1h 55min 54s, sys: 3.86 s, total: 1h 55min 58s\n",
      "Wall time: 1h 55min 45s\n"
     ]
    }
   ],
   "source": [
    "%%time\n",
    "crf = sklearn_crfsuite.CRF(\n",
    "    algorithm='lbfgs',\n",
    "    c1=0.1,\n",
    "    c2=0.1,\n",
    "    max_iterations=100,\n",
    "    all_possible_transitions=True\n",
    ")\n",
    "crf.fit(X_train, y_train)"
   ]
  },
  {
   "cell_type": "code",
   "execution_count": null,
   "id": "f3a4a659",
   "metadata": {},
   "outputs": [],
   "source": [
    "labels = list(crf.classes_)\n",
    "y_pred = crf.predict(X_dev)\n",
    "print(metrics.flat_f1_score(y_dev, y_pred, average='weighted', labels=labels))\n",
    "print(metrics.flat_classification_report(y_dev, y_pred, labels=labels, digits=3))\n",
    "labels.remove('')\n",
    "print(metrics.flat_f1_score(y_dev, y_pred, average='weighted', labels=labels))\n",
    "print(metrics.flat_classification_report(y_dev, y_pred, labels=labels, digits=3))\n",
    "punctuated_sentences = punctuate(X_dev, y_pred)\n",
    "print(punctuated_sentences[:100])"
   ]
  },
  {
   "cell_type": "markdown",
   "id": "3a255493",
   "metadata": {},
   "source": [
    "### Expand train set to 60% of data"
   ]
  },
  {
   "cell_type": "code",
   "execution_count": 34,
   "id": "3aa40488",
   "metadata": {},
   "outputs": [
    {
     "name": "stderr",
     "output_type": "stream",
     "text": [
      "2021-09-30 05:42:06 INFO: Loading these models for language: bg (Bulgarian):\n",
      "========================\n",
      "| Processor | Package  |\n",
      "------------------------\n",
      "| tokenize  | standard |\n",
      "========================\n",
      "\n",
      "2021-09-30 05:42:06 INFO: Use device: gpu\n",
      "2021-09-30 05:42:06 INFO: Loading: tokenize\n",
      "2021-09-30 05:42:06 INFO: Done loading processors!\n",
      "2021-09-30 05:42:55 INFO: Loading these models for language: bg (Bulgarian):\n",
      "========================\n",
      "| Processor | Package  |\n",
      "------------------------\n",
      "| tokenize  | standard |\n",
      "| pos       | standard |\n",
      "========================\n",
      "\n",
      "2021-09-30 05:42:55 INFO: Use device: gpu\n",
      "2021-09-30 05:42:55 INFO: Loading: tokenize\n",
      "2021-09-30 05:42:55 INFO: Loading: pos\n",
      "2021-09-30 05:42:57 INFO: Done loading processors!\n"
     ]
    },
    {
     "name": "stdout",
     "output_type": "stream",
     "text": [
      "CPU times: user 1h 9min 9s, sys: 6.31 s, total: 1h 9min 15s\n",
      "Wall time: 1h 9min 14s\n"
     ]
    }
   ],
   "source": [
    "%%time\n",
    "X_train, y_train = data_prep('../data/Train_60.txt')"
   ]
  },
  {
   "cell_type": "code",
   "execution_count": 35,
   "id": "5e2365dc",
   "metadata": {},
   "outputs": [],
   "source": [
    "verify_prepped_data(X_train, y_train)"
   ]
  },
  {
   "cell_type": "code",
   "execution_count": 36,
   "id": "a332a6a2",
   "metadata": {},
   "outputs": [
    {
     "name": "stdout",
     "output_type": "stream",
     "text": [
      "CPU times: user 3h 2min 3s, sys: 6.58 s, total: 3h 2min 9s\n",
      "Wall time: 3h 1min 49s\n"
     ]
    }
   ],
   "source": [
    "%%time\n",
    "crf = sklearn_crfsuite.CRF(\n",
    "    algorithm='lbfgs',\n",
    "    c1=0.1,\n",
    "    c2=0.1,\n",
    "    max_iterations=100,\n",
    "    all_possible_transitions=True\n",
    ")\n",
    "crf.fit(X_train, y_train)"
   ]
  },
  {
   "cell_type": "code",
   "execution_count": null,
   "id": "baa03005",
   "metadata": {},
   "outputs": [],
   "source": [
    "labels = list(crf.classes_)\n",
    "y_pred = crf.predict(X_dev)\n",
    "print(metrics.flat_f1_score(y_dev, y_pred, average='weighted', labels=labels))\n",
    "print(metrics.flat_classification_report(y_dev, y_pred, labels=labels, digits=3))\n",
    "labels.remove('')\n",
    "print(metrics.flat_f1_score(y_dev, y_pred, average='weighted', labels=labels))\n",
    "print(metrics.flat_classification_report(y_dev, y_pred, labels=labels, digits=3))\n",
    "punctuated_sentences = punctuate(X_dev, y_pred)\n",
    "print(punctuated_sentences[:100])"
   ]
  },
  {
   "cell_type": "markdown",
   "id": "4e6d582d",
   "metadata": {},
   "source": [
    "### Expand train set to 70% of data"
   ]
  },
  {
   "cell_type": "code",
   "execution_count": 25,
   "id": "b2135e85",
   "metadata": {},
   "outputs": [
    {
     "name": "stderr",
     "output_type": "stream",
     "text": [
      "2021-09-30 12:02:25 INFO: Loading these models for language: bg (Bulgarian):\n",
      "========================\n",
      "| Processor | Package  |\n",
      "------------------------\n",
      "| tokenize  | standard |\n",
      "========================\n",
      "\n",
      "2021-09-30 12:02:25 INFO: Use device: gpu\n",
      "2021-09-30 12:02:25 INFO: Loading: tokenize\n",
      "2021-09-30 12:02:25 INFO: Done loading processors!\n",
      "2021-09-30 12:03:25 INFO: Loading these models for language: bg (Bulgarian):\n",
      "========================\n",
      "| Processor | Package  |\n",
      "------------------------\n",
      "| tokenize  | standard |\n",
      "| pos       | standard |\n",
      "========================\n",
      "\n",
      "2021-09-30 12:03:25 INFO: Use device: gpu\n",
      "2021-09-30 12:03:25 INFO: Loading: tokenize\n",
      "2021-09-30 12:03:25 INFO: Loading: pos\n",
      "2021-09-30 12:03:28 INFO: Done loading processors!\n"
     ]
    },
    {
     "name": "stdout",
     "output_type": "stream",
     "text": [
      "CPU times: user 1h 20min 57s, sys: 8.48 s, total: 1h 21min 6s\n",
      "Wall time: 1h 21min 4s\n"
     ]
    }
   ],
   "source": [
    "%%time\n",
    "X_train, y_train = data_prep('../data/Train_70.txt')"
   ]
  },
  {
   "cell_type": "code",
   "execution_count": 26,
   "id": "1b28aafd",
   "metadata": {},
   "outputs": [],
   "source": [
    "verify_prepped_data(X_train, y_train)"
   ]
  },
  {
   "cell_type": "code",
   "execution_count": 27,
   "id": "88f3eb0b",
   "metadata": {},
   "outputs": [
    {
     "name": "stdout",
     "output_type": "stream",
     "text": [
      "CPU times: user 3h 20min 38s, sys: 7.05 s, total: 3h 20min 45s\n",
      "Wall time: 3h 20min 24s\n"
     ]
    }
   ],
   "source": [
    "%%time\n",
    "crf = sklearn_crfsuite.CRF(\n",
    "    algorithm='lbfgs',\n",
    "    c1=0.1,\n",
    "    c2=0.1,\n",
    "    max_iterations=100,\n",
    "    all_possible_transitions=True\n",
    ")\n",
    "crf.fit(X_train, y_train)"
   ]
  },
  {
   "cell_type": "code",
   "execution_count": null,
   "id": "f9adc3c7",
   "metadata": {},
   "outputs": [],
   "source": [
    "labels = list(crf.classes_)\n",
    "y_pred = crf.predict(X_dev)\n",
    "print(metrics.flat_f1_score(y_dev, y_pred, average='weighted', labels=labels))\n",
    "print(metrics.flat_classification_report(y_dev, y_pred, labels=labels, digits=3))\n",
    "labels.remove('')\n",
    "print(metrics.flat_f1_score(y_dev, y_pred, average='weighted', labels=labels))\n",
    "print(metrics.flat_classification_report(y_dev, y_pred, labels=labels, digits=3))\n",
    "punctuated_sentences = punctuate(X_dev, y_pred)\n",
    "print(punctuated_sentences[:100])"
   ]
  },
  {
   "cell_type": "markdown",
   "id": "09b54e08",
   "metadata": {},
   "source": [
    "### Check for repetitive word before"
   ]
  },
  {
   "cell_type": "code",
   "execution_count": 25,
   "id": "6c127172",
   "metadata": {},
   "outputs": [
    {
     "name": "stderr",
     "output_type": "stream",
     "text": [
      "2021-09-30 20:21:14 INFO: Loading these models for language: bg (Bulgarian):\n",
      "========================\n",
      "| Processor | Package  |\n",
      "------------------------\n",
      "| tokenize  | standard |\n",
      "========================\n",
      "\n",
      "2021-09-30 20:21:14 INFO: Use device: gpu\n",
      "2021-09-30 20:21:14 INFO: Loading: tokenize\n",
      "2021-09-30 20:21:14 INFO: Done loading processors!\n",
      "2021-09-30 20:21:39 INFO: Loading these models for language: bg (Bulgarian):\n",
      "========================\n",
      "| Processor | Package  |\n",
      "------------------------\n",
      "| tokenize  | standard |\n",
      "| pos       | standard |\n",
      "========================\n",
      "\n",
      "2021-09-30 20:21:39 INFO: Use device: gpu\n",
      "2021-09-30 20:21:39 INFO: Loading: tokenize\n",
      "2021-09-30 20:21:39 INFO: Loading: pos\n",
      "2021-09-30 20:21:41 INFO: Done loading processors!\n"
     ]
    },
    {
     "name": "stdout",
     "output_type": "stream",
     "text": [
      "CPU times: user 23min 56s, sys: 3.09 s, total: 23min 59s\n",
      "Wall time: 23min 58s\n"
     ]
    }
   ],
   "source": [
    "%%time\n",
    "X_train, y_train = data_prep('../data/Train.txt')"
   ]
  },
  {
   "cell_type": "code",
   "execution_count": 27,
   "id": "19e6b83e",
   "metadata": {},
   "outputs": [],
   "source": [
    "verify_prepped_data(X_train, y_train)"
   ]
  },
  {
   "cell_type": "code",
   "execution_count": 28,
   "id": "828dde74",
   "metadata": {},
   "outputs": [
    {
     "name": "stderr",
     "output_type": "stream",
     "text": [
      "2021-09-30 20:49:20 INFO: Loading these models for language: bg (Bulgarian):\n",
      "========================\n",
      "| Processor | Package  |\n",
      "------------------------\n",
      "| tokenize  | standard |\n",
      "========================\n",
      "\n",
      "2021-09-30 20:49:20 INFO: Use device: gpu\n",
      "2021-09-30 20:49:20 INFO: Loading: tokenize\n",
      "2021-09-30 20:49:20 INFO: Done loading processors!\n",
      "2021-09-30 20:49:33 INFO: Loading these models for language: bg (Bulgarian):\n",
      "========================\n",
      "| Processor | Package  |\n",
      "------------------------\n",
      "| tokenize  | standard |\n",
      "| pos       | standard |\n",
      "========================\n",
      "\n",
      "2021-09-30 20:49:33 INFO: Use device: gpu\n",
      "2021-09-30 20:49:33 INFO: Loading: tokenize\n",
      "2021-09-30 20:49:33 INFO: Loading: pos\n",
      "2021-09-30 20:49:35 INFO: Done loading processors!\n"
     ]
    },
    {
     "name": "stdout",
     "output_type": "stream",
     "text": [
      "CPU times: user 11min 37s, sys: 1.31 s, total: 11min 38s\n",
      "Wall time: 11min 38s\n"
     ]
    }
   ],
   "source": [
    "%%time\n",
    "X_dev, y_dev = data_prep('../data/Dev.txt')"
   ]
  },
  {
   "cell_type": "code",
   "execution_count": 29,
   "id": "295dd44f",
   "metadata": {},
   "outputs": [],
   "source": [
    "verify_prepped_data(X_dev, y_dev)"
   ]
  },
  {
   "cell_type": "code",
   "execution_count": 30,
   "id": "53392f00",
   "metadata": {},
   "outputs": [
    {
     "name": "stdout",
     "output_type": "stream",
     "text": [
      "CPU times: user 37min 46s, sys: 2.11 s, total: 37min 48s\n",
      "Wall time: 37min 44s\n"
     ]
    }
   ],
   "source": [
    "%%time\n",
    "crf = sklearn_crfsuite.CRF(\n",
    "    algorithm='lbfgs',\n",
    "    c1=0.1,\n",
    "    c2=0.1,\n",
    "    max_iterations=100,\n",
    "    all_possible_transitions=True\n",
    ")\n",
    "crf.fit(X_train, y_train)"
   ]
  },
  {
   "cell_type": "code",
   "execution_count": null,
   "id": "50cfd753",
   "metadata": {},
   "outputs": [],
   "source": [
    "labels = list(crf.classes_)\n",
    "y_pred = crf.predict(X_dev)\n",
    "print(metrics.flat_f1_score(y_dev, y_pred, average='weighted', labels=labels))\n",
    "print(metrics.flat_classification_report(y_dev, y_pred, labels=labels, digits=3))\n",
    "labels.remove('')\n",
    "print(metrics.flat_f1_score(y_dev, y_pred, average='weighted', labels=labels))\n",
    "print(metrics.flat_classification_report(y_dev, y_pred, labels=labels, digits=3))\n",
    "punctuated_sentences = punctuate(X_dev, y_pred)\n",
    "print(punctuated_sentences[:100])"
   ]
  },
  {
   "cell_type": "markdown",
   "id": "c87aa515",
   "metadata": {},
   "source": [
    "### Check for number of verbs before"
   ]
  },
  {
   "cell_type": "code",
   "execution_count": 74,
   "id": "6e23b760",
   "metadata": {},
   "outputs": [],
   "source": [
    "# input - sentence (list of dictionaries) and an index of a word (dictionary)\n",
    "# output - list of dictionaries (features, for each word)\n",
    "def word2features(sentence, i):\n",
    "    sentence_contains_interrogative_word, interrogative_word_position = contains_interrogative_word(sentence)\n",
    "    sentence_contains_interrogative_particle, interrogative_particle_position = contains_interrogative_particle(sentence)\n",
    "    sentence_contains_imperative_verb, imperative_verb_position = contains_imperative_verb(sentence)\n",
    "    sentence_contains_repetitive_word_before, repetitive_word_tag = contains_repetitive_word_before(sentence, i)\n",
    "\n",
    "    features = {\n",
    "        'word': sentence[i]['text'],\n",
    "        'sent_len': len(sentence),\n",
    "        'pos_in_sent': i,\n",
    "        'upos': sentence[i]['upos'],\n",
    "        'xpos': sentence[i]['xpos'],\n",
    "        'first_word_in_sent': sentence[0]['text'],\n",
    "        'contains_interrogative_word': sentence_contains_interrogative_word,\n",
    "        'interrogative_word_position': interrogative_word_position,\n",
    "        'contains_interrogative_particle': sentence_contains_interrogative_particle,\n",
    "        'interrogative_particle_position': interrogative_particle_position,\n",
    "        'contains_imperative_verb': sentence_contains_imperative_verb,\n",
    "        'imperative_verb_position': imperative_verb_position,\n",
    "        'starts_with_capital_letter': sentence[i]['text'][0].isupper(),\n",
    "        'contains_repetitive_word_before': sentence_contains_repetitive_word_before,\n",
    "        'repetitive_word_tag': repetitive_word_tag,\n",
    "        'count_of_verbs_before': count_of_verbs_before(sentence, i)\n",
    "    }\n",
    "\n",
    "    if i > 0:\n",
    "        features.update({\n",
    "            'prev_word': sentence[i-1]['text'],\n",
    "            'prev_word_upos': sentence[i-1]['upos'],\n",
    "            'prev_word_xpos': sentence[i-1]['xpos'],\n",
    "            'prev_word_starts_with_capital_letter': sentence[i-1]['text'][0].isupper()\n",
    "        })\n",
    "    else:\n",
    "        features.update({\n",
    "            'BOS': True\n",
    "        })\n",
    "\n",
    "    if i > 1:\n",
    "        features.update({\n",
    "            'word_before_prev_word': sentence[i-2]['text'],\n",
    "            'word_before_prev_word_upos': sentence[i-2]['upos'],\n",
    "            'word_before_prev_word_xpos': sentence[i-2]['xpos'],\n",
    "            'word_before_prev_word_starts_with_capital_letter': sentence[i-2]['text'][0].isupper()\n",
    "        })\n",
    "\n",
    "    if i < len(sentence)-1:\n",
    "        features.update({\n",
    "            'next_word': sentence[i+1]['text'],\n",
    "            'next_word_upos': sentence[i+1]['upos'],\n",
    "            'next_word_xpos': sentence[i+1]['xpos'],\n",
    "            'next_word_starts_with_capital_letter': sentence[i+1]['text'][0].isupper()\n",
    "        })\n",
    "    else:\n",
    "        features.update({\n",
    "            'EOS': True\n",
    "        })\n",
    "        \n",
    "    if i < len(sentence)-2:\n",
    "        features.update({\n",
    "            'word_after_next_word': sentence [i+2]['text'],\n",
    "            'word_after_next_word_upos': sentence[i+2]['upos'],\n",
    "            'word_after_next_word_xpos': sentence[i+2]['xpos'],\n",
    "            'word_after_next_word_starts_with_capital_letter': sentence[i+2]['text'][0].isupper()\n",
    "        })\n",
    "\n",
    "    return features"
   ]
  },
  {
   "cell_type": "code",
   "execution_count": 75,
   "id": "9acaccf8",
   "metadata": {},
   "outputs": [
    {
     "name": "stderr",
     "output_type": "stream",
     "text": [
      "2021-09-30 22:35:58 INFO: Loading these models for language: bg (Bulgarian):\n",
      "========================\n",
      "| Processor | Package  |\n",
      "------------------------\n",
      "| tokenize  | standard |\n",
      "========================\n",
      "\n",
      "2021-09-30 22:35:58 INFO: Use device: gpu\n",
      "2021-09-30 22:35:58 INFO: Loading: tokenize\n",
      "2021-09-30 22:35:58 INFO: Done loading processors!\n",
      "2021-09-30 22:36:16 INFO: Loading these models for language: bg (Bulgarian):\n",
      "========================\n",
      "| Processor | Package  |\n",
      "------------------------\n",
      "| tokenize  | standard |\n",
      "| pos       | standard |\n",
      "========================\n",
      "\n",
      "2021-09-30 22:36:16 INFO: Use device: gpu\n",
      "2021-09-30 22:36:16 INFO: Loading: tokenize\n",
      "2021-09-30 22:36:16 INFO: Loading: pos\n",
      "2021-09-30 22:36:18 INFO: Done loading processors!\n"
     ]
    },
    {
     "name": "stdout",
     "output_type": "stream",
     "text": [
      "CPU times: user 24min 6s, sys: 2.42 s, total: 24min 8s\n",
      "Wall time: 24min 7s\n"
     ]
    }
   ],
   "source": [
    "%%time\n",
    "X_train, y_train = data_prep('../data/Train.txt')"
   ]
  },
  {
   "cell_type": "code",
   "execution_count": 76,
   "id": "e3f18ea3",
   "metadata": {},
   "outputs": [],
   "source": [
    "verify_prepped_data(X_train, y_train)"
   ]
  },
  {
   "cell_type": "code",
   "execution_count": 77,
   "id": "5fbe6253",
   "metadata": {},
   "outputs": [
    {
     "name": "stderr",
     "output_type": "stream",
     "text": [
      "2021-09-30 23:00:06 INFO: Loading these models for language: bg (Bulgarian):\n",
      "========================\n",
      "| Processor | Package  |\n",
      "------------------------\n",
      "| tokenize  | standard |\n",
      "========================\n",
      "\n",
      "2021-09-30 23:00:06 INFO: Use device: gpu\n",
      "2021-09-30 23:00:06 INFO: Loading: tokenize\n",
      "2021-09-30 23:00:06 INFO: Done loading processors!\n",
      "2021-09-30 23:00:19 INFO: Loading these models for language: bg (Bulgarian):\n",
      "========================\n",
      "| Processor | Package  |\n",
      "------------------------\n",
      "| tokenize  | standard |\n",
      "| pos       | standard |\n",
      "========================\n",
      "\n",
      "2021-09-30 23:00:19 INFO: Use device: gpu\n",
      "2021-09-30 23:00:19 INFO: Loading: tokenize\n",
      "2021-09-30 23:00:19 INFO: Loading: pos\n",
      "2021-09-30 23:00:21 INFO: Done loading processors!\n"
     ]
    },
    {
     "name": "stdout",
     "output_type": "stream",
     "text": [
      "CPU times: user 11min 58s, sys: 1.18 s, total: 11min 59s\n",
      "Wall time: 11min 59s\n"
     ]
    }
   ],
   "source": [
    "%%time\n",
    "X_dev, y_dev = data_prep('../data/Dev.txt')"
   ]
  },
  {
   "cell_type": "code",
   "execution_count": 78,
   "id": "61ff62fe",
   "metadata": {},
   "outputs": [],
   "source": [
    "verify_prepped_data(X_dev, y_dev)"
   ]
  },
  {
   "cell_type": "code",
   "execution_count": 79,
   "id": "a0371103",
   "metadata": {},
   "outputs": [
    {
     "name": "stdout",
     "output_type": "stream",
     "text": [
      "CPU times: user 46min 27s, sys: 2.71 s, total: 46min 30s\n",
      "Wall time: 46min 24s\n"
     ]
    }
   ],
   "source": [
    "%%time\n",
    "crf = sklearn_crfsuite.CRF(\n",
    "    algorithm='lbfgs',\n",
    "    c1=0.1,\n",
    "    c2=0.1,\n",
    "    max_iterations=100,\n",
    "    all_possible_transitions=True\n",
    ")\n",
    "crf.fit(X_train, y_train)"
   ]
  },
  {
   "cell_type": "code",
   "execution_count": null,
   "id": "820e49b5",
   "metadata": {},
   "outputs": [],
   "source": [
    "labels = list(crf.classes_)\n",
    "y_pred = crf.predict(X_dev)\n",
    "print(metrics.flat_f1_score(y_dev, y_pred, average='weighted', labels=labels))\n",
    "print(metrics.flat_classification_report(y_dev, y_pred, labels=labels, digits=3))\n",
    "labels.remove('')\n",
    "print(metrics.flat_f1_score(y_dev, y_pred, average='weighted', labels=labels))\n",
    "print(metrics.flat_classification_report(y_dev, y_pred, labels=labels, digits=3))\n",
    "punctuated_sentences = punctuate(X_dev, y_pred)\n",
    "print(punctuated_sentences[:100])"
   ]
  },
  {
   "cell_type": "markdown",
   "id": "f92b8433",
   "metadata": {},
   "source": [
    "### Check results with some features excluded"
   ]
  },
  {
   "cell_type": "code",
   "execution_count": 23,
   "id": "aa04b8a8",
   "metadata": {},
   "outputs": [],
   "source": [
    "X_train = load_json('../data/X_train.json')"
   ]
  },
  {
   "cell_type": "code",
   "execution_count": 24,
   "id": "3e596222",
   "metadata": {},
   "outputs": [],
   "source": [
    "y_train = load_json('../data/y_train.json')"
   ]
  },
  {
   "cell_type": "code",
   "execution_count": 25,
   "id": "ae1834e4",
   "metadata": {},
   "outputs": [],
   "source": [
    "X_dev = load_json('../data/X_dev.json')"
   ]
  },
  {
   "cell_type": "code",
   "execution_count": 26,
   "id": "627ce08b",
   "metadata": {},
   "outputs": [],
   "source": [
    "y_dev = load_json('../data/y_dev.json')"
   ]
  },
  {
   "cell_type": "code",
   "execution_count": 28,
   "id": "f48addfd",
   "metadata": {},
   "outputs": [],
   "source": [
    "X_dev_without_first_word_in_sent = [[{feature:word[feature] for feature in word if feature not in ('first_word_in_sent', 'count_of_verbs_before')} for word in sentence] for sentence in X_dev]\n",
    "X_dev_without_sent_len = [[{feature:word[feature] for feature in word if feature not in ('sent_len', 'count_of_verbs_before')} for word in sentence] for sentence in X_dev]\n",
    "X_dev_without_pos = [[{feature:word[feature] for feature in word if feature not in ('pos_in_sent', 'interrogative_word_position', 'interrogative_particle_position', 'imperative_verb_position', 'count_of_verbs_before')} for word in sentence] for sentence in X_dev]\n",
    "X_dev_without_upos = [[{feature:word[feature] for feature in word if feature not in ('upos', 'prev_word_upos', 'word_before_prev_word_upos', 'next_word_upos', 'word_after_next_word_upos', 'count_of_verbs_before')} for word in sentence] for sentence in X_dev]"
   ]
  },
  {
   "cell_type": "code",
   "execution_count": 29,
   "id": "8156512b",
   "metadata": {},
   "outputs": [],
   "source": [
    "X_train_without_first_word_in_sent = [[{feature:word[feature] for feature in word if feature not in ('first_word_in_sent', 'count_of_verbs_before')} for word in sentence] for sentence in X_train]\n",
    "X_train_without_sent_len = [[{feature:word[feature] for feature in word if feature not in ('sent_len', 'count_of_verbs_before')} for word in sentence] for sentence in X_train]\n",
    "X_train_without_pos = [[{feature:word[feature] for feature in word if feature not in ('pos_in_sent', 'interrogative_word_position', 'interrogative_particle_position', 'imperative_verb_position', 'count_of_verbs_before')} for word in sentence] for sentence in X_train]\n",
    "X_train_without_upos = [[{feature:word[feature] for feature in word if feature not in ('upos', 'prev_word_upos', 'word_before_prev_word_upos', 'next_word_upos', 'word_after_next_word_upos', 'count_of_verbs_before')} for word in sentence] for sentence in X_train]"
   ]
  },
  {
   "cell_type": "code",
   "execution_count": 38,
   "id": "6fada4f7",
   "metadata": {},
   "outputs": [],
   "source": [
    "verify_prepped_data(X_dev_without_first_word_in_sent, y_dev)"
   ]
  },
  {
   "cell_type": "code",
   "execution_count": 39,
   "id": "f278564e",
   "metadata": {},
   "outputs": [],
   "source": [
    "verify_prepped_data(X_dev_without_sent_len, y_dev)"
   ]
  },
  {
   "cell_type": "code",
   "execution_count": 41,
   "id": "1c3e660c",
   "metadata": {},
   "outputs": [],
   "source": [
    "verify_prepped_data(X_dev_without_pos, y_dev)"
   ]
  },
  {
   "cell_type": "code",
   "execution_count": 42,
   "id": "1918c628",
   "metadata": {},
   "outputs": [],
   "source": [
    "verify_prepped_data(X_dev_without_upos, y_dev)"
   ]
  },
  {
   "cell_type": "code",
   "execution_count": 43,
   "id": "0d06a5f5",
   "metadata": {},
   "outputs": [
    {
     "name": "stdout",
     "output_type": "stream",
     "text": [
      "CPU times: user 30min 59s, sys: 999 ms, total: 31min\n",
      "Wall time: 30min 58s\n"
     ]
    }
   ],
   "source": [
    "%%time\n",
    "crf = sklearn_crfsuite.CRF(\n",
    "    algorithm='lbfgs',\n",
    "    c1=0.1,\n",
    "    c2=0.1,\n",
    "    max_iterations=100,\n",
    "    all_possible_transitions=True\n",
    ")\n",
    "crf.fit(X_train_without_first_word_in_sent, y_train)"
   ]
  },
  {
   "cell_type": "code",
   "execution_count": 44,
   "id": "2d1226c4",
   "metadata": {},
   "outputs": [
    {
     "name": "stderr",
     "output_type": "stream",
     "text": [
      "/home/mariya/anaconda3/envs/masters/lib/python3.6/site-packages/sklearn/metrics/_classification.py:1465: UndefinedMetricWarning: F-score is ill-defined and being set to 0.0 in labels with no true nor predicted samples. Use `zero_division` parameter to control this behavior.\n",
      "  average, \"true nor predicted\", 'F-score is', len(true_sum)\n",
      "/home/mariya/anaconda3/envs/masters/lib/python3.6/site-packages/sklearn/utils/validation.py:70: FutureWarning: Pass labels=['', ':', '!', ',', '?', ';', '.', '-', ',(', '\"', '\").', '(', ')', '?-', '.-', ':)', '!-', ':\"', '.\"', ':(', '?)', '\"?', '\".', '\";', '\"-', ').', '!,', '-\"', ')!', '\",', '.\")', '!;', ';(', '),', '?;', '?\"', ');', '.)', '?,', ';\"', '):', '[', ']', '...', '],', '\"(', ',[', ',\"', ']\",', ')-', '\":', '(\"', '\"),', '\"-[', '...,', '\")', '..', '\",\"', '?\".', '\"[', '\"(\"', '),\"', '\"\"', '-.', '.,', '].', ')\"', '!\"', '?\"-', '\":\"', '):\"', '\")-', '\"-\"', '-,', ')\".', '?\",', ']\".', '!\",', ']?', '...[', '];', '...\".', '!\"-', '\"!', '!\".', '!?', '?!', ',-', '!...', '!).', ')?', '?...', '.?'] as keyword args. From version 0.25 passing these as positional arguments will result in an error\n",
      "  FutureWarning)\n"
     ]
    },
    {
     "name": "stdout",
     "output_type": "stream",
     "text": [
      "0.9390237683618073\n"
     ]
    },
    {
     "name": "stderr",
     "output_type": "stream",
     "text": [
      "/home/mariya/anaconda3/envs/masters/lib/python3.6/site-packages/sklearn/metrics/_classification.py:1221: UndefinedMetricWarning: Precision and F-score are ill-defined and being set to 0.0 in labels with no predicted samples. Use `zero_division` parameter to control this behavior.\n",
      "  _warn_prf(average, modifier, msg_start, len(result))\n",
      "/home/mariya/anaconda3/envs/masters/lib/python3.6/site-packages/sklearn/metrics/_classification.py:1221: UndefinedMetricWarning: Recall and F-score are ill-defined and being set to 0.0 in labels with no true samples. Use `zero_division` parameter to control this behavior.\n",
      "  _warn_prf(average, modifier, msg_start, len(result))\n"
     ]
    },
    {
     "name": "stdout",
     "output_type": "stream",
     "text": [
      "              precision    recall  f1-score   support\n",
      "\n",
      "                  0.959     0.989     0.974    227825\n",
      "           :      0.893     0.713     0.793       923\n",
      "           !      0.429     0.156     0.228       347\n",
      "           ,      0.799     0.639     0.710     18592\n",
      "           ?      0.828     0.630     0.715       443\n",
      "           ;      0.221     0.037     0.063       622\n",
      "           .      0.931     0.986     0.958     11401\n",
      "           -      0.563     0.111     0.186       882\n",
      "          ,(      0.000     0.000     0.000         5\n",
      "           \"      0.636     0.140     0.230      1596\n",
      "         \").      0.000     0.000     0.000         0\n",
      "           (      0.965     0.883     0.922      1656\n",
      "           )      0.880     0.846     0.863      1001\n",
      "          ?-      0.000     0.000     0.000         4\n",
      "          .-      0.000     0.000     0.000         2\n",
      "          :)      0.000     0.000     0.000         0\n",
      "          !-      0.000     0.000     0.000        20\n",
      "          :\"      0.636     0.104     0.179        67\n",
      "          .\"      0.167     0.043     0.069        23\n",
      "          :(      0.000     0.000     0.000         1\n",
      "          ?)      0.000     0.000     0.000         0\n",
      "          \"?      0.000     0.000     0.000         1\n",
      "          \".      0.675     0.092     0.162       293\n",
      "          \";      0.000     0.000     0.000         5\n",
      "          \"-      0.000     0.000     0.000        28\n",
      "          ).      0.973     0.923     0.947       271\n",
      "          !,      0.000     0.000     0.000         0\n",
      "          -\"      0.000     0.000     0.000         7\n",
      "          )!      1.000     1.000     1.000         1\n",
      "          \",      0.730     0.526     0.612       829\n",
      "         .\")      0.000     0.000     0.000         1\n",
      "          !;      0.000     0.000     0.000         1\n",
      "          ;(      0.000     0.000     0.000         0\n",
      "          ),      0.838     0.654     0.735       381\n",
      "          ?;      0.000     0.000     0.000         0\n",
      "          ?\"      0.000     0.000     0.000         0\n",
      "          );      0.000     0.000     0.000         0\n",
      "          .)      0.000     0.000     0.000         1\n",
      "          ?,      0.000     0.000     0.000         1\n",
      "          ;\"      0.000     0.000     0.000         0\n",
      "          ):      1.000     0.636     0.778        11\n",
      "           [      0.000     0.000     0.000        45\n",
      "           ]      0.000     0.000     0.000        43\n",
      "         ...      0.000     0.000     0.000        61\n",
      "          ],      0.000     0.000     0.000         3\n",
      "          \"(      0.500     0.226     0.311        31\n",
      "          ,[      0.000     0.000     0.000         1\n",
      "          ,\"      0.000     0.000     0.000        44\n",
      "         ]\",      0.000     0.000     0.000         5\n",
      "          )-      1.000     0.059     0.111        17\n",
      "          \":      0.000     0.000     0.000         0\n",
      "          (\"      0.000     0.000     0.000         0\n",
      "         \"),      0.000     0.000     0.000         1\n",
      "         \"-[      0.000     0.000     0.000         0\n",
      "        ...,      0.000     0.000     0.000         3\n",
      "          \")      0.000     0.000     0.000         2\n",
      "          ..      0.500     0.333     0.400         3\n",
      "         \",\"      0.000     0.000     0.000        10\n",
      "         ?\".      0.000     0.000     0.000         2\n",
      "          \"[      0.000     0.000     0.000         0\n",
      "         \"(\"      0.000     0.000     0.000         2\n",
      "         ),\"      0.000     0.000     0.000         2\n",
      "          \"\"      0.000     0.000     0.000         2\n",
      "          -.      0.000     0.000     0.000         0\n",
      "          .,      0.000     0.000     0.000         0\n",
      "          ].      0.000     0.000     0.000         2\n",
      "          )\"      0.000     0.000     0.000         0\n",
      "          !\"      0.000     0.000     0.000         0\n",
      "         ?\"-      0.000     0.000     0.000         2\n",
      "         \":\"      0.000     0.000     0.000         1\n",
      "         ):\"      0.000     0.000     0.000         0\n",
      "         \")-      0.000     0.000     0.000         1\n",
      "         \"-\"      0.000     0.000     0.000         0\n",
      "          -,      0.000     0.000     0.000         1\n",
      "         )\".      0.000     0.000     0.000         1\n",
      "         ?\",      0.000     0.000     0.000         1\n",
      "         ]\".      0.000     0.000     0.000         0\n",
      "         !\",      0.000     0.000     0.000         1\n",
      "          ]?      0.000     0.000     0.000         0\n",
      "        ...[      0.000     0.000     0.000         2\n",
      "          ];      0.000     0.000     0.000         0\n",
      "       ...\".      0.000     0.000     0.000         0\n",
      "         !\"-      0.000     0.000     0.000         2\n",
      "          \"!      0.000     0.000     0.000         0\n",
      "         !\".      0.000     0.000     0.000         3\n",
      "          !?      0.000     0.000     0.000         0\n",
      "          ?!      0.000     0.000     0.000         0\n",
      "          ,-      0.000     0.000     0.000         4\n",
      "        !...      0.000     0.000     0.000         1\n",
      "         !).      0.000     0.000     0.000         0\n",
      "          )?      0.000     0.000     0.000         3\n",
      "        ?...      0.000     0.000     0.000         0\n",
      "          .?      0.000     0.000     0.000         0\n",
      "\n",
      "   micro avg      0.946     0.946     0.946    267543\n",
      "   macro avg      0.173     0.115     0.128    267543\n",
      "weighted avg      0.938     0.946     0.939    267543\n",
      "\n",
      "0.738589741739182\n"
     ]
    },
    {
     "name": "stderr",
     "output_type": "stream",
     "text": [
      "/home/mariya/anaconda3/envs/masters/lib/python3.6/site-packages/sklearn/utils/validation.py:70: FutureWarning: Pass labels=[':', '!', ',', '?', ';', '.', '-', ',(', '\"', '\").', '(', ')', '?-', '.-', ':)', '!-', ':\"', '.\"', ':(', '?)', '\"?', '\".', '\";', '\"-', ').', '!,', '-\"', ')!', '\",', '.\")', '!;', ';(', '),', '?;', '?\"', ');', '.)', '?,', ';\"', '):', '[', ']', '...', '],', '\"(', ',[', ',\"', ']\",', ')-', '\":', '(\"', '\"),', '\"-[', '...,', '\")', '..', '\",\"', '?\".', '\"[', '\"(\"', '),\"', '\"\"', '-.', '.,', '].', ')\"', '!\"', '?\"-', '\":\"', '):\"', '\")-', '\"-\"', '-,', ')\".', '?\",', ']\".', '!\",', ']?', '...[', '];', '...\".', '!\"-', '\"!', '!\".', '!?', '?!', ',-', '!...', '!).', ')?', '?...', '.?'] as keyword args. From version 0.25 passing these as positional arguments will result in an error\n",
      "  FutureWarning)\n"
     ]
    },
    {
     "name": "stdout",
     "output_type": "stream",
     "text": [
      "              precision    recall  f1-score   support\n",
      "\n",
      "           :      0.893     0.713     0.793       923\n",
      "           !      0.429     0.156     0.228       347\n",
      "           ,      0.799     0.639     0.710     18592\n",
      "           ?      0.828     0.630     0.715       443\n",
      "           ;      0.221     0.037     0.063       622\n",
      "           .      0.931     0.986     0.958     11401\n",
      "           -      0.563     0.111     0.186       882\n",
      "          ,(      0.000     0.000     0.000         5\n",
      "           \"      0.636     0.140     0.230      1596\n",
      "         \").      0.000     0.000     0.000         0\n",
      "           (      0.965     0.883     0.922      1656\n",
      "           )      0.880     0.846     0.863      1001\n",
      "          ?-      0.000     0.000     0.000         4\n",
      "          .-      0.000     0.000     0.000         2\n",
      "          :)      0.000     0.000     0.000         0\n",
      "          !-      0.000     0.000     0.000        20\n",
      "          :\"      0.636     0.104     0.179        67\n",
      "          .\"      0.167     0.043     0.069        23\n",
      "          :(      0.000     0.000     0.000         1\n",
      "          ?)      0.000     0.000     0.000         0\n",
      "          \"?      0.000     0.000     0.000         1\n",
      "          \".      0.675     0.092     0.162       293\n",
      "          \";      0.000     0.000     0.000         5\n",
      "          \"-      0.000     0.000     0.000        28\n",
      "          ).      0.973     0.923     0.947       271\n",
      "          !,      0.000     0.000     0.000         0\n",
      "          -\"      0.000     0.000     0.000         7\n",
      "          )!      1.000     1.000     1.000         1\n",
      "          \",      0.730     0.526     0.612       829\n",
      "         .\")      0.000     0.000     0.000         1\n",
      "          !;      0.000     0.000     0.000         1\n",
      "          ;(      0.000     0.000     0.000         0\n",
      "          ),      0.838     0.654     0.735       381\n",
      "          ?;      0.000     0.000     0.000         0\n",
      "          ?\"      0.000     0.000     0.000         0\n",
      "          );      0.000     0.000     0.000         0\n",
      "          .)      0.000     0.000     0.000         1\n",
      "          ?,      0.000     0.000     0.000         1\n",
      "          ;\"      0.000     0.000     0.000         0\n",
      "          ):      1.000     0.636     0.778        11\n",
      "           [      0.000     0.000     0.000        45\n",
      "           ]      0.000     0.000     0.000        43\n",
      "         ...      0.000     0.000     0.000        61\n",
      "          ],      0.000     0.000     0.000         3\n",
      "          \"(      0.500     0.226     0.311        31\n",
      "          ,[      0.000     0.000     0.000         1\n",
      "          ,\"      0.000     0.000     0.000        44\n",
      "         ]\",      0.000     0.000     0.000         5\n",
      "          )-      1.000     0.059     0.111        17\n",
      "          \":      0.000     0.000     0.000         0\n",
      "          (\"      0.000     0.000     0.000         0\n",
      "         \"),      0.000     0.000     0.000         1\n",
      "         \"-[      0.000     0.000     0.000         0\n",
      "        ...,      0.000     0.000     0.000         3\n",
      "          \")      0.000     0.000     0.000         2\n",
      "          ..      0.500     0.333     0.400         3\n",
      "         \",\"      0.000     0.000     0.000        10\n",
      "         ?\".      0.000     0.000     0.000         2\n",
      "          \"[      0.000     0.000     0.000         0\n",
      "         \"(\"      0.000     0.000     0.000         2\n",
      "         ),\"      0.000     0.000     0.000         2\n",
      "          \"\"      0.000     0.000     0.000         2\n",
      "          -.      0.000     0.000     0.000         0\n",
      "          .,      0.000     0.000     0.000         0\n",
      "          ].      0.000     0.000     0.000         2\n",
      "          )\"      0.000     0.000     0.000         0\n",
      "          !\"      0.000     0.000     0.000         0\n",
      "         ?\"-      0.000     0.000     0.000         2\n",
      "         \":\"      0.000     0.000     0.000         1\n",
      "         ):\"      0.000     0.000     0.000         0\n",
      "         \")-      0.000     0.000     0.000         1\n",
      "         \"-\"      0.000     0.000     0.000         0\n",
      "          -,      0.000     0.000     0.000         1\n",
      "         )\".      0.000     0.000     0.000         1\n",
      "         ?\",      0.000     0.000     0.000         1\n",
      "         ]\".      0.000     0.000     0.000         0\n",
      "         !\",      0.000     0.000     0.000         1\n",
      "          ]?      0.000     0.000     0.000         0\n",
      "        ...[      0.000     0.000     0.000         2\n",
      "          ];      0.000     0.000     0.000         0\n",
      "       ...\".      0.000     0.000     0.000         0\n",
      "         !\"-      0.000     0.000     0.000         2\n",
      "          \"!      0.000     0.000     0.000         0\n",
      "         !\".      0.000     0.000     0.000         3\n",
      "          !?      0.000     0.000     0.000         0\n",
      "          ?!      0.000     0.000     0.000         0\n",
      "          ,-      0.000     0.000     0.000         4\n",
      "        !...      0.000     0.000     0.000         1\n",
      "         !).      0.000     0.000     0.000         0\n",
      "          )?      0.000     0.000     0.000         3\n",
      "        ?...      0.000     0.000     0.000         0\n",
      "          .?      0.000     0.000     0.000         0\n",
      "\n",
      "   micro avg      0.853     0.699     0.768     39718\n",
      "   macro avg      0.165     0.106     0.119     39718\n",
      "weighted avg      0.816     0.699     0.739     39718\n",
      "\n",
      "['Но синовете им не умъртви, защото постъпи според писаното в закона в книгата на Мойсей, където ГОСПОД заповяда и каза: Бащите да не умират заради синовете и синовете да не умират заради бащите, а всеки да умира за собствения си грях.', 'Но когато ти говоря ще отворя устата ти и ти им кажи: Така казва Господ БОГ: Който слуша, нека слуша, а който не слуша нека не слуша, защото са бунтовен дом.', 'Защото кой е по-голям този, който седи на трапезата ли или онзи, който слугува?', 'А след това ще се насели, както в предишните дни, заявява ГОСПОД.', 'А Той беше на задната част, заспал на възглавница.', 'Ефрем е като птица славата му ще отлети.', 'И така той си отиде от него на известно разстояние.', 'Не бягам при халдейците.', 'И израилевите синове излязоха от египетската земя строени.', 'А когато Ахитофел видя, че съветът му не се изпълни оседла магарето си и стана и отиде у дома си в своя град и нареди домашните си работи и се обеси.', 'Ако умре някое животно от добитъка, който можете да ядете, който се допре до мършата му, ще бъде нечист до вечерта.', 'Но помощник съответен на Адам не се намери.', 'Който задържа жито, народът ще го проклина, а благословение ще почива на главата на този, който го продава.', 'Този човек беше праведен и благочестив и чакаше Утехата на Израил и Светият Дух беше на него.', 'Всичко е възможно за този, който вярва.', 'И видях височината на дома околовръст основите на страничните стаи бяха една цяла тръстика от шест големи лакътя.', 'После да вземеш тлъстината на овена, опашката и тлъстината, която покрива вътрешностите, булото на дроба двата бъбрека с тлъстината, която е около тях и дясното бедро, защото е овен на посвещение и един хляб една пита хляб, месен с маслинено масло и една кора от коша на безквасните хлябове, които са пред ГОСПОДА.', 'И от дима излязоха скакалци по земята и им се даде власт като властта, която имат земните скорпиони.', 'Ти си, ГОСПОДИ, само Ти.', 'И ще предаде Израил заради греховете на Еровоам, с които съгреши и с които въведе Израил в грях.', 'Синове на Елифаз: Теман и Омар Сефи и Готом Кенез и Тамна и Амалик.', 'А гладът в Самария беше страшен.', 'Затова казах в сърцето си, че и това е суета.', 'Насладих се на сянката му и седнах и плодът му, бе сладък в устата ми.', 'Защото така ми каза: ГОСПОД, Както ръмжи над лова си, лъвът младият лъв срещу когото се свикват множество овчари и не се плаши от гласа им, и не се отдръпва пред шума им, така ГОСПОД на Войнствата ще слезе за да воюва за хълма Сион и за неговото възвишение.', 'Отче, свети, опази ги в Името Си, което си Ми дал, за да бъдат едно, както сме и Ние.', 'И да правите разлика между чистите животни и нечистите и между нечистите птици и чистите и да не осквернявате себе си с животно, или с птица или с каквото и да е, което пълзи по земята, което Аз съм ви отделил като нечисто.', 'И ГОСПОД укрепи моавския цар Еглон против Израил, защото вършиха зло пред ГОСПОДА.', 'И Духът ми каза да отида с тях, без да се двоумя.', 'В двадесет и седмата година на израилевия цар Еровоам се възцари Азария, синът на юдовия цар Амасия.', 'Защото вашата послушност е известна на всички, затова се радвам за вас.', 'Той изтегля всички с въдица влачи ги в мрежата си и ги събира в рибарската си мрежа, затова се радва и се весели.', 'Благословен да е ГОСПОД Бог Богът на Израил, който единствен върши чудеса.', 'И които влязоха мъжко и женско от всяка плът, влязоха, както Бог му беше заповядал, и ГОСПОД затвори след него.', 'Тогава царят каза на Божия човек: Ела с мен у дома и се подкрепи и ще ти дам подарък.', 'И ето, въпреки че е посадена ще успее ли?', 'От дома Тогарма, даваха за стоките ти коне бойни коне и мулета.', 'Затова заповядай гробът да се пази здраво до третия ден да не би учениците Му да дойдат и да Го откраднат, и да кажат на народа Възкръсна от мъртвите.', 'И когато отвори петия печат, видях под олтара, душите на онези, които са били заклани за Божието слово и за свидетелството, което държаха.', 'И свещениците, които служат на ГОСПОДА са синовете на Аарон и левитите са в службата.', 'Той тича след тях с умолителни думи, но тях ги няма.', 'И измери дължината му четиридесет лакътя и ширината му- двадесет лакътя.', 'Затова, така казва ГОСПОД, Бог на Войнствата, Израилевият Бог: Ето, Аз ще докарам върху Юда и върху всичките ерусалимски жители цялото зло, което говорих против тях, защото им говорих, но не слушаха и ги виках, но не отговаряха.', 'Сине мой, слушай наставлението на баща си и не отхвърляй закона на майка си, защото те ще бъдат благодатен венец за главата ти, и огърлица за шията ти.', 'Тогава облакът започна да се издига от града в димен стълб и Вениамин се обърна и ето, целият град се издигаше в пламъци към небето.', 'В онзи ден няма да се срамуваш от всичките си дела, с които си отстъпил от Мен, защото тогава ще отнема отсред теб, твоите, които горделиво тържествуват и ти няма вече да се държиш надменно на светия Ми хълм.', 'А свинарите, като видяха станалото, избягаха и разказаха за това в града и в селата.', 'И Илий благослови Елкана и жена му и каза: ГОСПОД да ти даде потомство от тази жена, вместо заетото, което беше посветено на ГОСПОДА.', 'И ако живее във вас, Духът на Този, който възкреси Иисус от мъртвите, то Този, който възкреси Христос от мъртвите ще съживи и вашите смъртни тела чрез Духа Си, който живее във вас.', 'А ГОСПОД си извърши, както беше говорил чрез мен и ГОСПОД откъсна царството от ръката ти и го даде на ближния ти на Давид.', 'Даде и храна за магаретата им.', 'Книгата на видението на елкусеянина Наум.', 'И направи олтара за всеизгаряне от акациево дърво, пет лакътя беше дължината му и пет лакътя беше ширината му, четвъртит и три лакътя беше височината му.', 'Те ми казаха: Направи ни богове, които да ходят пред нас, защото на този Мойсей човека, който ни изведе от египетската земя, не знаем какво му стана.', 'Тогава Мардохей каза да отговорят на Естир: Не мисли в себе си, че от всичките юдеи, само ти ще се избавиш в царския дом.', 'Но аз не бих познал греха освен чрез закона, защото не бих знаел пожелание, ако законът не беше казал:\" Не пожелавай.', 'Тогава народът Му си спомни за древните дни на Мойсей: Къде е Онзи, който ги изведе от морето с пастирите на стадото Си.', 'И три пъти в годината Соломон принасяше всеизгаряния и примирителни жертви върху олтара, който построи на ГОСПОДА и кадеше върху олтара, който беше пред ГОСПОДА.', 'И след като им поставиха старейшини във всяка църква и се помолиха с пост ги препоръчаха на Господа, в когото бяха повярвали.', 'С нея Той подейства в Христос, като Го възкреси от мъртвите и Го, сложи да седне от дясната Си страна на небесата далеч над всяко началство и власт и сила и господство и всяко име, с което се наименуват не само в този свят, но и в бъдещия.', 'Стрелец срещу стрелец да опъва лъка си и срещу онзи, който се надига в бронята си.', 'Затова онази нива е, наречена и до днес Кръвна нива.', 'И така слугите на цар Езекия отидоха при Исая.', 'И никой свещеник да не пие вино, когато влиза във вътрешния двор.', 'И Охозия, падна през решетката на горната си, стая в Самария и се разболя.', 'Защо не разбирате Моето говорене?', 'А Лаван в отговор каза на Яков: Тези дъщери са мои дъщери и синовете са мои синове и стадата, са мои стада.', 'А чуждият, който се приближи да се умъртви.', 'И двамата сина на Илий, Офний и Финеес бяха там с ковчега на Божия завет.', 'Иисус му каза: Лисиците си имат леговища и небесните птици гнезда, а Човешкият Син няма къде глава да подслони?', 'От кръвта на убитите от тлъстината на силните лъкът на Йонатан не се обръщаше назад, и мечът на Саул не се връщаше празен.', 'Станах за присмех на целия си народ и за тяхна подигравателна песен цял ден.', 'Да учите на тях синовете си, като говорите за тях, когато седиш в къщата си, когато ходиш по пътя, когато лягаш и когато ставаш.', 'И ГОСПОД се разкая за злото, което беше казал, че ще направи на народа Си.', 'А Юда изпрати ярето чрез ръката на приятеля си одоламеца за да вземе залога от ръката на жената, но той не я намери.', 'И царят заповяда и доведоха онези мъже, които бяха издали Даниил, и хвърлиха тях, децата им и жените им в рова на лъвовете и още преди да стигнат до дъното на рова, лъвовете ги сграбчиха и строшиха всичките им кости.', 'И Йоав и народът, който беше с него настъпиха за битката против арамейците; и те побягнаха пред него.', 'И като го повикаха Тертил, започна да обвинява, като казваше: Понеже чрез теб честити Феликсе, се радваме на голямо спокойствие и понеже чрез твоята предвидливост има подобрения за този народ, то ние с пълна благодарност винаги и навсякъде посрещаме това.', 'Защото Йоан казваше на Ирод: Не ти е позволено да имаш жената на брат си.', 'А в първия ден на седмицата много рано сутринта те дойдоха на гроба, като носеха благоуханните масла, които бяха приготвили.', 'Ще бъде ли добре да ви изпита Той?', 'След това Яков каза на Лаван: Дай жена ми, защото дойде време да вляза при нея.', 'А посветените дарове бяха шестстотин говеда и три хиляди овце.', 'Кога ще се събудя за да продължа да го потърся пак.', 'Изнемогвам от викането си гърлото ми е пресъхнало очите ми чезнат, докато чакам своя Бог.', 'Това са родовете на Мерарий.', 'На следващия ден едно голямо множество, което беше дошло на празника, като чуха, че Иисус идвал в Ерусалим, взеха палмови клони и излязоха да Го посрещнат, викайки Осанна.', 'И той каза: Имам нещо да ти кажа.', 'Ако някой, който е престъпил закона на Мойсей умира безпощадно при думата на двама или трима свидетели, то колко по-тежко наказание мислите ще заслужи онзи, който е потъпкал Божия Син, и е счел за просто нещо, кръвта на завета, с която е бил осветен и е оскърбил Духа на благодатта.', 'Върни се, сине мой, Давиде, защото няма вече да ти сторя зло, понеже днес животът ми беше скъпоценен пред очите ти.', 'Ще дойдат големци от Египет Етиопия бързо ще протегне ръцете си към Бога.', 'Затова хората Му се боят и Той не гледа на никого от мъдрите по сърце.', 'И Го следваше голямо множество от народ и жени, които плачеха за Него.', 'Ето ви семе засейте земята!', 'И Давид дойде във Ваал-Ферасим и Давид ги разби там, и каза: ГОСПОД разсече пред мен враговете ми, както водите правят пролом.', 'Кадилниците на тези мъже, които съгрешиха против живота си, нека ги направят на плочи за обковаване на олтара, защото те ги принесоха пред ГОСПОДА и затова са свети и те ще бъдат за знамение на израилевите синове.', 'И когато фараонът отказваше да ни пусне, ГОСПОД, уби всяко първородно в египетската земя от първородно на човек до първородно на животно, затова жертвам на ГОСПОДА всяко първородно, което е мъжко, а всеки първороден от синовете си изкупувам.', 'А без вяра не е възможно да се угоди на Бога, защото който идва при Бога трябва да вярва, че Той съществува и че възнаграждава тези, които Го търсят.', 'И докато още говореше с тях, ето, пратеникът слезе при него и каза: Ето, това зло е от ГОСПОДА.', 'А вие сами ли ще продадете братята си?']\n"
     ]
    }
   ],
   "source": [
    "labels = list(crf.classes_)\n",
    "y_pred = crf.predict(X_dev_without_first_word_in_sent)\n",
    "print(metrics.flat_f1_score(y_dev, y_pred, average='weighted', labels=labels))\n",
    "print(metrics.flat_classification_report(y_dev, y_pred, labels=labels, digits=3))\n",
    "labels.remove('')\n",
    "print(metrics.flat_f1_score(y_dev, y_pred, average='weighted', labels=labels))\n",
    "print(metrics.flat_classification_report(y_dev, y_pred, labels=labels, digits=3))\n",
    "punctuated_sentences = punctuate(X_dev_without_first_word_in_sent, y_pred)\n",
    "print(punctuated_sentences[:100])"
   ]
  },
  {
   "cell_type": "code",
   "execution_count": 45,
   "id": "026e63a0",
   "metadata": {},
   "outputs": [
    {
     "name": "stdout",
     "output_type": "stream",
     "text": [
      "CPU times: user 28min 13s, sys: 924 ms, total: 28min 14s\n",
      "Wall time: 28min 11s\n"
     ]
    }
   ],
   "source": [
    "%%time\n",
    "crf = sklearn_crfsuite.CRF(\n",
    "    algorithm='lbfgs',\n",
    "    c1=0.1,\n",
    "    c2=0.1,\n",
    "    max_iterations=100,\n",
    "    all_possible_transitions=True\n",
    ")\n",
    "crf.fit(X_train_without_sent_len, y_train)"
   ]
  },
  {
   "cell_type": "code",
   "execution_count": 46,
   "id": "b6628f38",
   "metadata": {},
   "outputs": [
    {
     "name": "stderr",
     "output_type": "stream",
     "text": [
      "/home/mariya/anaconda3/envs/masters/lib/python3.6/site-packages/sklearn/metrics/_classification.py:1465: UndefinedMetricWarning: F-score is ill-defined and being set to 0.0 in labels with no true nor predicted samples. Use `zero_division` parameter to control this behavior.\n",
      "  average, \"true nor predicted\", 'F-score is', len(true_sum)\n",
      "/home/mariya/anaconda3/envs/masters/lib/python3.6/site-packages/sklearn/utils/validation.py:70: FutureWarning: Pass labels=['', ':', '!', ',', '?', ';', '.', '-', ',(', '\"', '\").', '(', ')', '?-', '.-', ':)', '!-', ':\"', '.\"', ':(', '?)', '\"?', '\".', '\";', '\"-', ').', '!,', '-\"', ')!', '\",', '.\")', '!;', ';(', '),', '?;', '?\"', ');', '.)', '?,', ';\"', '):', '[', ']', '...', '],', '\"(', ',[', ',\"', ']\",', ')-', '\":', '(\"', '\"),', '\"-[', '...,', '\")', '..', '\",\"', '?\".', '\"[', '\"(\"', '),\"', '\"\"', '-.', '.,', '].', ')\"', '!\"', '?\"-', '\":\"', '):\"', '\")-', '\"-\"', '-,', ')\".', '?\",', ']\".', '!\",', ']?', '...[', '];', '...\".', '!\"-', '\"!', '!\".', '!?', '?!', ',-', '!...', '!).', ')?', '?...', '.?'] as keyword args. From version 0.25 passing these as positional arguments will result in an error\n",
      "  FutureWarning)\n"
     ]
    },
    {
     "name": "stdout",
     "output_type": "stream",
     "text": [
      "0.9389738459216473\n"
     ]
    },
    {
     "name": "stderr",
     "output_type": "stream",
     "text": [
      "/home/mariya/anaconda3/envs/masters/lib/python3.6/site-packages/sklearn/metrics/_classification.py:1221: UndefinedMetricWarning: Precision and F-score are ill-defined and being set to 0.0 in labels with no predicted samples. Use `zero_division` parameter to control this behavior.\n",
      "  _warn_prf(average, modifier, msg_start, len(result))\n",
      "/home/mariya/anaconda3/envs/masters/lib/python3.6/site-packages/sklearn/metrics/_classification.py:1221: UndefinedMetricWarning: Recall and F-score are ill-defined and being set to 0.0 in labels with no true samples. Use `zero_division` parameter to control this behavior.\n",
      "  _warn_prf(average, modifier, msg_start, len(result))\n"
     ]
    },
    {
     "name": "stdout",
     "output_type": "stream",
     "text": [
      "              precision    recall  f1-score   support\n",
      "\n",
      "                  0.959     0.989     0.974    227825\n",
      "           :      0.900     0.731     0.807       923\n",
      "           !      0.489     0.184     0.268       347\n",
      "           ,      0.797     0.642     0.711     18592\n",
      "           ?      0.852     0.677     0.755       443\n",
      "           ;      0.234     0.042     0.071       622\n",
      "           .      0.933     0.987     0.959     11401\n",
      "           -      0.547     0.100     0.169       882\n",
      "          ,(      0.000     0.000     0.000         5\n",
      "           \"      0.633     0.130     0.215      1596\n",
      "         \").      0.000     0.000     0.000         0\n",
      "           (      0.970     0.876     0.920      1656\n",
      "           )      0.879     0.838     0.858      1001\n",
      "          ?-      0.000     0.000     0.000         4\n",
      "          .-      0.000     0.000     0.000         2\n",
      "          :)      0.000     0.000     0.000         0\n",
      "          !-      0.000     0.000     0.000        20\n",
      "          :\"      0.769     0.149     0.250        67\n",
      "          .\"      0.333     0.043     0.077        23\n",
      "          :(      0.000     0.000     0.000         1\n",
      "          ?)      0.000     0.000     0.000         0\n",
      "          \"?      0.000     0.000     0.000         1\n",
      "          \".      0.575     0.078     0.138       293\n",
      "          \";      0.000     0.000     0.000         5\n",
      "          \"-      1.000     0.036     0.069        28\n",
      "          ).      0.976     0.919     0.947       271\n",
      "          !,      0.000     0.000     0.000         0\n",
      "          -\"      0.000     0.000     0.000         7\n",
      "          )!      0.000     0.000     0.000         1\n",
      "          \",      0.740     0.521     0.611       829\n",
      "         .\")      0.000     0.000     0.000         1\n",
      "          !;      0.000     0.000     0.000         1\n",
      "          ;(      0.000     0.000     0.000         0\n",
      "          ),      0.848     0.646     0.733       381\n",
      "          ?;      0.000     0.000     0.000         0\n",
      "          ?\"      0.000     0.000     0.000         0\n",
      "          );      0.000     0.000     0.000         0\n",
      "          .)      0.000     0.000     0.000         1\n",
      "          ?,      0.000     0.000     0.000         1\n",
      "          ;\"      0.000     0.000     0.000         0\n",
      "          ):      1.000     0.727     0.842        11\n",
      "           [      0.000     0.000     0.000        45\n",
      "           ]      0.000     0.000     0.000        43\n",
      "         ...      0.000     0.000     0.000        61\n",
      "          ],      0.000     0.000     0.000         3\n",
      "          \"(      0.538     0.226     0.318        31\n",
      "          ,[      0.000     0.000     0.000         1\n",
      "          ,\"      0.000     0.000     0.000        44\n",
      "         ]\",      0.000     0.000     0.000         5\n",
      "          )-      0.000     0.000     0.000        17\n",
      "          \":      0.000     0.000     0.000         0\n",
      "          (\"      0.000     0.000     0.000         0\n",
      "         \"),      0.000     0.000     0.000         1\n",
      "         \"-[      0.000     0.000     0.000         0\n",
      "        ...,      0.000     0.000     0.000         3\n",
      "          \")      0.000     0.000     0.000         2\n",
      "          ..      1.000     0.333     0.500         3\n",
      "         \",\"      0.000     0.000     0.000        10\n",
      "         ?\".      0.000     0.000     0.000         2\n",
      "          \"[      0.000     0.000     0.000         0\n",
      "         \"(\"      0.000     0.000     0.000         2\n",
      "         ),\"      0.000     0.000     0.000         2\n",
      "          \"\"      0.000     0.000     0.000         2\n",
      "          -.      0.000     0.000     0.000         0\n",
      "          .,      0.000     0.000     0.000         0\n",
      "          ].      0.000     0.000     0.000         2\n",
      "          )\"      0.000     0.000     0.000         0\n",
      "          !\"      0.000     0.000     0.000         0\n",
      "         ?\"-      0.000     0.000     0.000         2\n",
      "         \":\"      0.000     0.000     0.000         1\n",
      "         ):\"      0.000     0.000     0.000         0\n",
      "         \")-      0.000     0.000     0.000         1\n",
      "         \"-\"      0.000     0.000     0.000         0\n",
      "          -,      0.000     0.000     0.000         1\n",
      "         )\".      0.000     0.000     0.000         1\n",
      "         ?\",      0.000     0.000     0.000         1\n",
      "         ]\".      0.000     0.000     0.000         0\n",
      "         !\",      0.000     0.000     0.000         1\n",
      "          ]?      0.000     0.000     0.000         0\n",
      "        ...[      0.000     0.000     0.000         2\n",
      "          ];      0.000     0.000     0.000         0\n",
      "       ...\".      0.000     0.000     0.000         0\n",
      "         !\"-      0.000     0.000     0.000         2\n",
      "          \"!      0.000     0.000     0.000         0\n",
      "         !\".      0.000     0.000     0.000         3\n",
      "          !?      0.000     0.000     0.000         0\n",
      "          ?!      0.000     0.000     0.000         0\n",
      "          ,-      0.000     0.000     0.000         4\n",
      "        !...      0.000     0.000     0.000         1\n",
      "         !).      0.000     0.000     0.000         0\n",
      "          )?      0.000     0.000     0.000         3\n",
      "        ?...      0.000     0.000     0.000         0\n",
      "          .?      0.000     0.000     0.000         0\n",
      "\n",
      "   micro avg      0.946     0.946     0.946    267543\n",
      "   macro avg      0.172     0.106     0.120    267543\n",
      "weighted avg      0.938     0.946     0.939    267543\n",
      "\n",
      "0.7397036529567745\n"
     ]
    },
    {
     "name": "stderr",
     "output_type": "stream",
     "text": [
      "/home/mariya/anaconda3/envs/masters/lib/python3.6/site-packages/sklearn/utils/validation.py:70: FutureWarning: Pass labels=[':', '!', ',', '?', ';', '.', '-', ',(', '\"', '\").', '(', ')', '?-', '.-', ':)', '!-', ':\"', '.\"', ':(', '?)', '\"?', '\".', '\";', '\"-', ').', '!,', '-\"', ')!', '\",', '.\")', '!;', ';(', '),', '?;', '?\"', ');', '.)', '?,', ';\"', '):', '[', ']', '...', '],', '\"(', ',[', ',\"', ']\",', ')-', '\":', '(\"', '\"),', '\"-[', '...,', '\")', '..', '\",\"', '?\".', '\"[', '\"(\"', '),\"', '\"\"', '-.', '.,', '].', ')\"', '!\"', '?\"-', '\":\"', '):\"', '\")-', '\"-\"', '-,', ')\".', '?\",', ']\".', '!\",', ']?', '...[', '];', '...\".', '!\"-', '\"!', '!\".', '!?', '?!', ',-', '!...', '!).', ')?', '?...', '.?'] as keyword args. From version 0.25 passing these as positional arguments will result in an error\n",
      "  FutureWarning)\n"
     ]
    },
    {
     "name": "stdout",
     "output_type": "stream",
     "text": [
      "              precision    recall  f1-score   support\n",
      "\n",
      "           :      0.900     0.731     0.807       923\n",
      "           !      0.489     0.184     0.268       347\n",
      "           ,      0.797     0.642     0.711     18592\n",
      "           ?      0.852     0.677     0.755       443\n",
      "           ;      0.234     0.042     0.071       622\n",
      "           .      0.933     0.987     0.959     11401\n",
      "           -      0.547     0.100     0.169       882\n",
      "          ,(      0.000     0.000     0.000         5\n",
      "           \"      0.633     0.130     0.215      1596\n",
      "         \").      0.000     0.000     0.000         0\n",
      "           (      0.970     0.876     0.920      1656\n",
      "           )      0.879     0.838     0.858      1001\n",
      "          ?-      0.000     0.000     0.000         4\n",
      "          .-      0.000     0.000     0.000         2\n",
      "          :)      0.000     0.000     0.000         0\n",
      "          !-      0.000     0.000     0.000        20\n",
      "          :\"      0.769     0.149     0.250        67\n",
      "          .\"      0.333     0.043     0.077        23\n",
      "          :(      0.000     0.000     0.000         1\n",
      "          ?)      0.000     0.000     0.000         0\n",
      "          \"?      0.000     0.000     0.000         1\n",
      "          \".      0.575     0.078     0.138       293\n",
      "          \";      0.000     0.000     0.000         5\n",
      "          \"-      1.000     0.036     0.069        28\n",
      "          ).      0.976     0.919     0.947       271\n",
      "          !,      0.000     0.000     0.000         0\n",
      "          -\"      0.000     0.000     0.000         7\n",
      "          )!      0.000     0.000     0.000         1\n",
      "          \",      0.740     0.521     0.611       829\n",
      "         .\")      0.000     0.000     0.000         1\n",
      "          !;      0.000     0.000     0.000         1\n",
      "          ;(      0.000     0.000     0.000         0\n",
      "          ),      0.848     0.646     0.733       381\n",
      "          ?;      0.000     0.000     0.000         0\n",
      "          ?\"      0.000     0.000     0.000         0\n",
      "          );      0.000     0.000     0.000         0\n",
      "          .)      0.000     0.000     0.000         1\n",
      "          ?,      0.000     0.000     0.000         1\n",
      "          ;\"      0.000     0.000     0.000         0\n",
      "          ):      1.000     0.727     0.842        11\n",
      "           [      0.000     0.000     0.000        45\n",
      "           ]      0.000     0.000     0.000        43\n",
      "         ...      0.000     0.000     0.000        61\n",
      "          ],      0.000     0.000     0.000         3\n",
      "          \"(      0.538     0.226     0.318        31\n",
      "          ,[      0.000     0.000     0.000         1\n",
      "          ,\"      0.000     0.000     0.000        44\n",
      "         ]\",      0.000     0.000     0.000         5\n",
      "          )-      0.000     0.000     0.000        17\n",
      "          \":      0.000     0.000     0.000         0\n",
      "          (\"      0.000     0.000     0.000         0\n",
      "         \"),      0.000     0.000     0.000         1\n",
      "         \"-[      0.000     0.000     0.000         0\n",
      "        ...,      0.000     0.000     0.000         3\n",
      "          \")      0.000     0.000     0.000         2\n",
      "          ..      1.000     0.333     0.500         3\n",
      "         \",\"      0.000     0.000     0.000        10\n",
      "         ?\".      0.000     0.000     0.000         2\n",
      "          \"[      0.000     0.000     0.000         0\n",
      "         \"(\"      0.000     0.000     0.000         2\n",
      "         ),\"      0.000     0.000     0.000         2\n",
      "          \"\"      0.000     0.000     0.000         2\n",
      "          -.      0.000     0.000     0.000         0\n",
      "          .,      0.000     0.000     0.000         0\n",
      "          ].      0.000     0.000     0.000         2\n",
      "          )\"      0.000     0.000     0.000         0\n",
      "          !\"      0.000     0.000     0.000         0\n",
      "         ?\"-      0.000     0.000     0.000         2\n",
      "         \":\"      0.000     0.000     0.000         1\n",
      "         ):\"      0.000     0.000     0.000         0\n",
      "         \")-      0.000     0.000     0.000         1\n",
      "         \"-\"      0.000     0.000     0.000         0\n",
      "          -,      0.000     0.000     0.000         1\n",
      "         )\".      0.000     0.000     0.000         1\n",
      "         ?\",      0.000     0.000     0.000         1\n",
      "         ]\".      0.000     0.000     0.000         0\n",
      "         !\",      0.000     0.000     0.000         1\n",
      "          ]?      0.000     0.000     0.000         0\n",
      "        ...[      0.000     0.000     0.000         2\n",
      "          ];      0.000     0.000     0.000         0\n",
      "       ...\".      0.000     0.000     0.000         0\n",
      "         !\"-      0.000     0.000     0.000         2\n",
      "          \"!      0.000     0.000     0.000         0\n",
      "         !\".      0.000     0.000     0.000         3\n",
      "          !?      0.000     0.000     0.000         0\n",
      "          ?!      0.000     0.000     0.000         0\n",
      "          ,-      0.000     0.000     0.000         4\n",
      "        !...      0.000     0.000     0.000         1\n",
      "         !).      0.000     0.000     0.000         0\n",
      "          )?      0.000     0.000     0.000         3\n",
      "        ?...      0.000     0.000     0.000         0\n",
      "          .?      0.000     0.000     0.000         0\n",
      "\n",
      "   micro avg      0.852     0.701     0.769     39718\n",
      "   macro avg      0.163     0.097     0.111     39718\n",
      "weighted avg      0.817     0.701     0.740     39718\n",
      "\n",
      "['Но синовете им не умъртви, защото постъпи според писаното в закона в книгата на Мойсей, където ГОСПОД заповяда и каза: Бащите да не умират заради синовете и синовете да не умират заради бащите, а всеки да умира за собствения си грях.', 'Но когато ти говоря ще отворя устата ти и ти им кажи: Така казва Господ БОГ: Който слуша, нека слуша, а който не слуша, нека не слуша, защото са бунтовен дом.', 'Защото кой е по-голям този, който седи на трапезата ли или онзи, който слугува?', 'А след това ще се насели, както в предишните дни, заявява ГОСПОД.', 'А Той беше на задната част, заспал на възглавница.', 'Ефрем е като птица славата му ще отлети.', 'И така той си отиде от него на известно разстояние.', 'Не бягам при халдейците.', 'И израилевите синове излязоха от египетската земя, строени.', 'А когато Ахитофел видя, че съветът му не се изпълни оседла магарето си и стана и отиде у дома си в своя град, и нареди домашните си работи и се обеси.', 'Ако умре някое животно от добитъка, който можете да ядете, който се допре до мършата му, ще бъде нечист до вечерта.', 'Но помощник, съответен на Адам не се намери.', 'Който задържа жито, народът ще го проклина, а благословение ще почива на главата на този, който го продава.', 'Този човек беше праведен и благочестив и чакаше Утехата на Израил и Светият Дух беше на него.', 'Всичко е възможно за този, който вярва.', 'И видях височината на дома околовръст, основите на страничните стаи бяха една цяла тръстика от шест големи лакътя.', 'После да вземеш тлъстината на овена, опашката и тлъстината, която покрива вътрешностите, булото на дроба двата бъбрека с тлъстината, която е около тях и дясното бедро, защото е овен на посвещение и един хляб една пита хляб, месен с маслинено масло и една кора от коша на безквасните хлябове, които са пред ГОСПОДА.', 'И от дима излязоха скакалци по земята и им се даде власт като властта, която имат земните скорпиони.', 'Ти си, ГОСПОДИ, само Ти?', 'И ще предаде Израил заради греховете на Еровоам, с които съгреши и с които въведе Израил в грях.', 'Синове на Елифаз: Теман и Омар, Сефи и Готом Кенез, и Тамна и Амалик.', 'А гладът в Самария беше страшен.', 'Затова казах в сърцето си, че и това е суета.', 'Насладих се на сянката му и седнах, и плодът му бе сладък в устата ми.', 'Защото така ми каза ГОСПОД, Както ръмжи над лова си лъвът младият лъв срещу когото се свикват множество овчари и не се плаши от гласа им, и не се отдръпва пред шума им, така ГОСПОД на Войнствата, ще слезе за да воюва за хълма Сион и за неговото възвишение.', 'Отче, свети, опази ги в Името Си, което си Ми дал, за да бъдат едно, както сме и Ние.', 'И да правите разлика между чистите животни и нечистите и между нечистите птици и чистите и да не осквернявате себе си с животно, или с птица или с каквото и да е, което пълзи по земята, което Аз съм ви отделил като нечисто.', 'И ГОСПОД укрепи моавския цар Еглон против Израил, защото вършиха зло пред ГОСПОДА.', 'И Духът ми каза да отида с тях, без да се двоумя.', 'В двадесет и седмата година на израилевия цар Еровоам се възцари Азария, синът на юдовия цар Амасия.', 'Защото вашата послушност е известна на всички, затова се радвам за вас.', 'Той изтегля всички с въдица влачи ги в мрежата си и ги събира в рибарската си мрежа- затова се радва и се весели.', 'Благословен да е ГОСПОД Бог Богът на Израил, който единствен върши чудеса.', 'И които влязоха мъжко и женско от всяка плът, влязоха, както Бог му беше заповядал, и ГОСПОД затвори след него.', 'Тогава царят каза на Божия човек: Ела с мен у дома и се подкрепи и ще ти дам подарък.', 'И ето, въпреки че е посадена ще успее ли?', 'От дома Тогарма, даваха за стоките ти коне бойни коне и мулета.', 'Затова заповядай гробът да се пази здраво до третия ден да не би учениците Му да дойдат и да Го откраднат, и да кажат на народа Възкръсна от мъртвите.', 'И когато отвори петия печат, видях под олтара, душите на онези, които са били заклани за Божието слово и за свидетелството, което държаха.', 'И свещениците, които служат на ГОСПОДА са синовете на Аарон и левитите са в службата.', 'Той тича след тях с умолителни думи, но тях ги няма.', 'И измери дължината му четиридесет лакътя и ширината му- двадесет лакътя.', 'Затова, така казва ГОСПОД, Бог на Войнствата, Израилевият Бог: Ето, Аз ще докарам върху Юда и върху всичките ерусалимски жители цялото зло, което говорих против тях, защото им говорих, но не слушаха и ги виках, но не отговаряха.', 'Сине мой, слушай наставлението на баща си и не отхвърляй закона на майка си, защото те ще бъдат благодатен венец за главата ти и огърлица за шията ти.', 'Тогава облакът започна да се издига от града в димен стълб и Вениамин, се обърна и ето, целият град се издигаше в пламъци към небето.', 'В онзи ден няма да се срамуваш от всичките си дела, с които си отстъпил от Мен, защото тогава ще отнема отсред теб, твоите, които горделиво тържествуват и ти няма вече да се държиш надменно на светия Ми хълм.', 'А свинарите, като видяха станалото, избягаха и разказаха за това в града и в селата.', 'И Илий благослови Елкана и жена му и каза: ГОСПОД да ти даде потомство от тази жена, вместо заетото, което беше посветено на ГОСПОДА.', 'И ако живее във вас, Духът на Този, който възкреси Иисус от мъртвите то Този, който възкреси Христос от мъртвите ще съживи и вашите смъртни тела чрез Духа Си, който живее във вас.', 'А ГОСПОД си извърши, както беше говорил чрез мен и ГОСПОД откъсна царството от ръката ти и го даде на ближния ти на Давид.', 'Даде и храна, за магаретата им.', 'Книгата на видението на елкусеянина Наум.', 'И направи олтара за всеизгаряне от акациево дърво, пет лакътя беше дължината му и пет лакътя беше ширината му, четвъртит и три лакътя беше височината му.', 'Те ми казаха: Направи ни богове, които да ходят пред нас, защото на този Мойсей човека, който ни изведе от египетската земя не знаем какво му стана.', 'Тогава Мардохей каза да отговорят на Естир: Не мисли в себе си, че от всичките юдеи, само ти ще се избавиш в царския дом.', 'Но аз не бих познал греха освен чрез закона, защото не бих знаел пожелание, ако законът не беше казал: Не пожелавай.', 'Тогава народът Му си спомни за древните дни на Мойсей: Къде е Онзи, който ги изведе от морето с пастирите на стадото Си?', 'И три пъти в годината Соломон принасяше всеизгаряния и примирителни жертви върху олтара, който построи на ГОСПОДА и кадеше върху олтара, който беше пред ГОСПОДА.', 'И след като им поставиха старейшини във всяка църква и се помолиха с пост ги препоръчаха на Господа, в когото бяха повярвали.', 'С нея Той подейства в Христос, като Го възкреси от мъртвите и Го сложи да седне от дясната Си страна на небесата далеч над всяко началство и власт и сила и господство и всяко име, с което се наименуват не само в този свят, но и в бъдещия.', 'Стрелец срещу стрелец да опъва лъка си и срещу онзи, който се надига в бронята си.', 'Затова онази нива е, наречена и до днес Кръвна нива.', 'И така слугите на цар Езекия отидоха при Исая.', 'И никой свещеник да не пие вино, когато влиза във вътрешния двор.', 'И Охозия, падна през решетката на горната си, стая в Самария и се разболя.', 'Защо не разбирате Моето говорене?', 'А Лаван в отговор каза на Яков: Тези дъщери са мои дъщери и синовете са мои синове и стадата, са мои стада.', 'А чуждият, който се приближи да се умъртви.', 'И двамата сина на Илий, Офний и Финеес бяха там с ковчега на Божия завет.', 'Иисус му каза: Лисиците си имат леговища и небесните птици гнезда, а Човешкият Син няма къде глава да подслони.', 'От кръвта на убитите от тлъстината на силните, лъкът на Йонатан не се обръщаше назад и мечът на Саул не се връщаше празен.', 'Станах за присмех на целия си народ и за тяхна подигравателна песен цял ден.', 'Да учите на тях синовете си, като говорите за тях, когато седиш в къщата си, когато ходиш по пътя, когато лягаш и когато ставаш.', 'И ГОСПОД се разкая за злото, което беше казал, че ще направи на народа Си.', 'А Юда изпрати ярето чрез ръката на приятеля си одоламеца, за да вземе залога от ръката на жената, но той не я намери.', 'И царят заповяда и доведоха онези мъже, които бяха издали, Даниил, и хвърлиха тях децата им и жените им в рова на лъвовете и още преди да стигнат до дъното на рова, лъвовете ги сграбчиха и строшиха всичките им кости.', 'И Йоав и народът, който беше с него настъпиха за битката против арамейците; и те побягнаха пред него.', 'И като го повикаха Тертил започна да обвинява, като казваше: Понеже чрез теб честити Феликсе, се радваме на голямо спокойствие и понеже чрез твоята предвидливост има подобрения за този народ, то ние с пълна благодарност винаги и навсякъде посрещаме това.', 'Защото Йоан казваше на Ирод: Не ти е позволено да имаш жената на брат си.', 'А в първия ден на седмицата много рано сутринта те дойдоха на гроба, като носеха благоуханните масла, които бяха приготвили.', 'Ще бъде ли добре да ви изпита Той?', 'След това Яков каза на Лаван: Дай жена ми, защото дойде време да вляза при нея.', 'А посветените дарове бяха шестстотин говеда и три хиляди овце.', 'Кога ще се събудя за да продължа да го потърся пак.', 'Изнемогвам от викането си гърлото ми е пресъхнало очите ми чезнат, докато чакам своя Бог.', 'Това са родовете на Мерарий.', 'На следващия ден едно голямо множество, което беше дошло на празника, като чуха, че Иисус идвал в Ерусалим, взеха палмови клони и излязоха да Го посрещнат, викайки Осанна.', 'И той каза: Имам нещо да ти кажа.', 'Ако някой, който е престъпил закона на Мойсей умира безпощадно при думата на двама или трима свидетели, то колко по-тежко наказание мислите ще заслужи онзи, който е потъпкал Божия Син и е счел за просто нещо, кръвта на завета, с която е бил осветен и е оскърбил Духа на благодатта.', 'Върни се, сине мой, Давиде, защото няма вече да ти сторя зло, понеже днес животът ми беше скъпоценен пред очите ти!', 'Ще дойдат големци от Египет Етиопия бързо ще протегне ръцете си към Бога.', 'Затова хората Му се боят и Той не гледа на никого от мъдрите по сърце.', 'И Го следваше голямо множество от народ и жени, които плачеха за Него.', 'Ето ви семе засейте земята!', 'И Давид дойде във Ваал-Ферасим и Давид ги разби там, и каза: ГОСПОД разсече пред мен, враговете ми, както водите правят пролом.', 'Кадилниците на тези мъже, които съгрешиха против живота си, нека ги направят на плочи за обковаване на олтара, защото те ги принесоха пред ГОСПОДА и затова са свети и те ще бъдат за знамение на израилевите синове.', 'И когато фараонът отказваше да ни пусне, ГОСПОД, уби всяко първородно в египетската земя от първородно на човек до първородно на животно, затова жертвам на ГОСПОДА всяко първородно, което е мъжко, а всеки първороден от синовете си изкупувам.', 'А без вяра не е възможно да се угоди на Бога, защото, който идва при Бога, трябва да вярва, че Той съществува и че възнаграждава тези, които Го търсят.', 'И докато още говореше с тях, ето, пратеникът слезе при него и каза: Ето, това зло е от ГОСПОДА.', 'А вие сами ли ще продадете братята си?']\n"
     ]
    }
   ],
   "source": [
    "labels = list(crf.classes_)\n",
    "y_pred = crf.predict(X_dev_without_sent_len)\n",
    "print(metrics.flat_f1_score(y_dev, y_pred, average='weighted', labels=labels))\n",
    "print(metrics.flat_classification_report(y_dev, y_pred, labels=labels, digits=3))\n",
    "labels.remove('')\n",
    "print(metrics.flat_f1_score(y_dev, y_pred, average='weighted', labels=labels))\n",
    "print(metrics.flat_classification_report(y_dev, y_pred, labels=labels, digits=3))\n",
    "punctuated_sentences = punctuate(X_dev_without_sent_len, y_pred)\n",
    "print(punctuated_sentences[:100])"
   ]
  },
  {
   "cell_type": "code",
   "execution_count": 47,
   "id": "ddb893f4",
   "metadata": {},
   "outputs": [
    {
     "name": "stdout",
     "output_type": "stream",
     "text": [
      "CPU times: user 27min 49s, sys: 836 ms, total: 27min 50s\n",
      "Wall time: 27min 47s\n"
     ]
    }
   ],
   "source": [
    "%%time\n",
    "crf = sklearn_crfsuite.CRF(\n",
    "    algorithm='lbfgs',\n",
    "    c1=0.1,\n",
    "    c2=0.1,\n",
    "    max_iterations=100,\n",
    "    all_possible_transitions=True\n",
    ")\n",
    "crf.fit(X_train_without_pos, y_train)"
   ]
  },
  {
   "cell_type": "code",
   "execution_count": 48,
   "id": "ac57c2d2",
   "metadata": {},
   "outputs": [
    {
     "name": "stderr",
     "output_type": "stream",
     "text": [
      "/home/mariya/anaconda3/envs/masters/lib/python3.6/site-packages/sklearn/metrics/_classification.py:1465: UndefinedMetricWarning: F-score is ill-defined and being set to 0.0 in labels with no true nor predicted samples. Use `zero_division` parameter to control this behavior.\n",
      "  average, \"true nor predicted\", 'F-score is', len(true_sum)\n",
      "/home/mariya/anaconda3/envs/masters/lib/python3.6/site-packages/sklearn/utils/validation.py:70: FutureWarning: Pass labels=['', ':', '!', ',', '?', ';', '.', '-', ',(', '\"', '\").', '(', ')', '?-', '.-', ':)', '!-', ':\"', '.\"', ':(', '?)', '\"?', '\".', '\";', '\"-', ').', '!,', '-\"', ')!', '\",', '.\")', '!;', ';(', '),', '?;', '?\"', ');', '.)', '?,', ';\"', '):', '[', ']', '...', '],', '\"(', ',[', ',\"', ']\",', ')-', '\":', '(\"', '\"),', '\"-[', '...,', '\")', '..', '\",\"', '?\".', '\"[', '\"(\"', '),\"', '\"\"', '-.', '.,', '].', ')\"', '!\"', '?\"-', '\":\"', '):\"', '\")-', '\"-\"', '-,', ')\".', '?\",', ']\".', '!\",', ']?', '...[', '];', '...\".', '!\"-', '\"!', '!\".', '!?', '?!', ',-', '!...', '!).', ')?', '?...', '.?'] as keyword args. From version 0.25 passing these as positional arguments will result in an error\n",
      "  FutureWarning)\n"
     ]
    },
    {
     "name": "stdout",
     "output_type": "stream",
     "text": [
      "0.9386445886287452\n"
     ]
    },
    {
     "name": "stderr",
     "output_type": "stream",
     "text": [
      "/home/mariya/anaconda3/envs/masters/lib/python3.6/site-packages/sklearn/metrics/_classification.py:1221: UndefinedMetricWarning: Precision and F-score are ill-defined and being set to 0.0 in labels with no predicted samples. Use `zero_division` parameter to control this behavior.\n",
      "  _warn_prf(average, modifier, msg_start, len(result))\n",
      "/home/mariya/anaconda3/envs/masters/lib/python3.6/site-packages/sklearn/metrics/_classification.py:1221: UndefinedMetricWarning: Recall and F-score are ill-defined and being set to 0.0 in labels with no true samples. Use `zero_division` parameter to control this behavior.\n",
      "  _warn_prf(average, modifier, msg_start, len(result))\n"
     ]
    },
    {
     "name": "stdout",
     "output_type": "stream",
     "text": [
      "              precision    recall  f1-score   support\n",
      "\n",
      "                  0.958     0.990     0.974    227825\n",
      "           :      0.916     0.705     0.797       923\n",
      "           !      0.523     0.199     0.288       347\n",
      "           ,      0.807     0.630     0.708     18592\n",
      "           ?      0.870     0.679     0.763       443\n",
      "           ;      0.280     0.042     0.073       622\n",
      "           .      0.933     0.988     0.960     11401\n",
      "           -      0.591     0.100     0.171       882\n",
      "          ,(      0.000     0.000     0.000         5\n",
      "           \"      0.620     0.128     0.212      1596\n",
      "         \").      0.000     0.000     0.000         0\n",
      "           (      0.973     0.872     0.920      1656\n",
      "           )      0.879     0.831     0.855      1001\n",
      "          ?-      0.000     0.000     0.000         4\n",
      "          .-      0.000     0.000     0.000         2\n",
      "          :)      0.000     0.000     0.000         0\n",
      "          !-      0.000     0.000     0.000        20\n",
      "          :\"      0.667     0.090     0.158        67\n",
      "          .\"      0.333     0.043     0.077        23\n",
      "          :(      0.000     0.000     0.000         1\n",
      "          ?)      0.000     0.000     0.000         0\n",
      "          \"?      0.000     0.000     0.000         1\n",
      "          \".      0.575     0.078     0.138       293\n",
      "          \";      0.000     0.000     0.000         5\n",
      "          \"-      1.000     0.036     0.069        28\n",
      "          ).      0.972     0.911     0.941       271\n",
      "          !,      0.000     0.000     0.000         0\n",
      "          -\"      0.000     0.000     0.000         7\n",
      "          )!      0.000     0.000     0.000         1\n",
      "          \",      0.738     0.510     0.603       829\n",
      "         .\")      0.000     0.000     0.000         1\n",
      "          !;      0.000     0.000     0.000         1\n",
      "          ;(      0.000     0.000     0.000         0\n",
      "          ),      0.846     0.635     0.726       381\n",
      "          ?;      0.000     0.000     0.000         0\n",
      "          ?\"      0.000     0.000     0.000         0\n",
      "          );      0.000     0.000     0.000         0\n",
      "          .)      0.000     0.000     0.000         1\n",
      "          ?,      0.000     0.000     0.000         1\n",
      "          ;\"      0.000     0.000     0.000         0\n",
      "          ):      1.000     0.636     0.778        11\n",
      "           [      0.000     0.000     0.000        45\n",
      "           ]      0.000     0.000     0.000        43\n",
      "         ...      0.000     0.000     0.000        61\n",
      "          ],      0.000     0.000     0.000         3\n",
      "          \"(      0.692     0.290     0.409        31\n",
      "          ,[      0.000     0.000     0.000         1\n",
      "          ,\"      0.000     0.000     0.000        44\n",
      "         ]\",      0.000     0.000     0.000         5\n",
      "          )-      0.000     0.000     0.000        17\n",
      "          \":      0.000     0.000     0.000         0\n",
      "          (\"      0.000     0.000     0.000         0\n",
      "         \"),      0.000     0.000     0.000         1\n",
      "         \"-[      0.000     0.000     0.000         0\n",
      "        ...,      0.000     0.000     0.000         3\n",
      "          \")      0.000     0.000     0.000         2\n",
      "          ..      0.500     0.333     0.400         3\n",
      "         \",\"      0.000     0.000     0.000        10\n",
      "         ?\".      0.000     0.000     0.000         2\n",
      "          \"[      0.000     0.000     0.000         0\n",
      "         \"(\"      0.000     0.000     0.000         2\n",
      "         ),\"      0.000     0.000     0.000         2\n",
      "          \"\"      0.000     0.000     0.000         2\n",
      "          -.      0.000     0.000     0.000         0\n",
      "          .,      0.000     0.000     0.000         0\n",
      "          ].      0.000     0.000     0.000         2\n",
      "          )\"      0.000     0.000     0.000         0\n",
      "          !\"      0.000     0.000     0.000         0\n",
      "         ?\"-      0.000     0.000     0.000         2\n",
      "         \":\"      0.000     0.000     0.000         1\n",
      "         ):\"      0.000     0.000     0.000         0\n",
      "         \")-      0.000     0.000     0.000         1\n",
      "         \"-\"      0.000     0.000     0.000         0\n",
      "          -,      0.000     0.000     0.000         1\n",
      "         )\".      0.000     0.000     0.000         1\n",
      "         ?\",      0.000     0.000     0.000         1\n",
      "         ]\".      0.000     0.000     0.000         0\n",
      "         !\",      0.000     0.000     0.000         1\n",
      "          ]?      0.000     0.000     0.000         0\n",
      "        ...[      0.000     0.000     0.000         2\n",
      "          ];      0.000     0.000     0.000         0\n",
      "       ...\".      0.000     0.000     0.000         0\n",
      "         !\"-      0.000     0.000     0.000         2\n",
      "          \"!      0.000     0.000     0.000         0\n",
      "         !\".      0.000     0.000     0.000         3\n",
      "          !?      0.000     0.000     0.000         0\n",
      "          ?!      0.000     0.000     0.000         0\n",
      "          ,-      0.000     0.000     0.000         4\n",
      "        !...      0.000     0.000     0.000         1\n",
      "         !).      0.000     0.000     0.000         0\n",
      "          )?      0.000     0.000     0.000         3\n",
      "        ?...      0.000     0.000     0.000         0\n",
      "          .?      0.000     0.000     0.000         0\n",
      "\n",
      "   micro avg      0.946     0.946     0.946    267543\n",
      "   macro avg      0.169     0.105     0.118    267543\n",
      "weighted avg      0.938     0.946     0.939    267543\n",
      "\n",
      "0.7375251029128395\n"
     ]
    },
    {
     "name": "stderr",
     "output_type": "stream",
     "text": [
      "/home/mariya/anaconda3/envs/masters/lib/python3.6/site-packages/sklearn/utils/validation.py:70: FutureWarning: Pass labels=[':', '!', ',', '?', ';', '.', '-', ',(', '\"', '\").', '(', ')', '?-', '.-', ':)', '!-', ':\"', '.\"', ':(', '?)', '\"?', '\".', '\";', '\"-', ').', '!,', '-\"', ')!', '\",', '.\")', '!;', ';(', '),', '?;', '?\"', ');', '.)', '?,', ';\"', '):', '[', ']', '...', '],', '\"(', ',[', ',\"', ']\",', ')-', '\":', '(\"', '\"),', '\"-[', '...,', '\")', '..', '\",\"', '?\".', '\"[', '\"(\"', '),\"', '\"\"', '-.', '.,', '].', ')\"', '!\"', '?\"-', '\":\"', '):\"', '\")-', '\"-\"', '-,', ')\".', '?\",', ']\".', '!\",', ']?', '...[', '];', '...\".', '!\"-', '\"!', '!\".', '!?', '?!', ',-', '!...', '!).', ')?', '?...', '.?'] as keyword args. From version 0.25 passing these as positional arguments will result in an error\n",
      "  FutureWarning)\n"
     ]
    },
    {
     "name": "stdout",
     "output_type": "stream",
     "text": [
      "              precision    recall  f1-score   support\n",
      "\n",
      "           :      0.916     0.705     0.797       923\n",
      "           !      0.523     0.199     0.288       347\n",
      "           ,      0.807     0.630     0.708     18592\n",
      "           ?      0.870     0.679     0.763       443\n",
      "           ;      0.280     0.042     0.073       622\n",
      "           .      0.933     0.988     0.960     11401\n",
      "           -      0.591     0.100     0.171       882\n",
      "          ,(      0.000     0.000     0.000         5\n",
      "           \"      0.620     0.128     0.212      1596\n",
      "         \").      0.000     0.000     0.000         0\n",
      "           (      0.973     0.872     0.920      1656\n",
      "           )      0.879     0.831     0.855      1001\n",
      "          ?-      0.000     0.000     0.000         4\n",
      "          .-      0.000     0.000     0.000         2\n",
      "          :)      0.000     0.000     0.000         0\n",
      "          !-      0.000     0.000     0.000        20\n",
      "          :\"      0.667     0.090     0.158        67\n",
      "          .\"      0.333     0.043     0.077        23\n",
      "          :(      0.000     0.000     0.000         1\n",
      "          ?)      0.000     0.000     0.000         0\n",
      "          \"?      0.000     0.000     0.000         1\n",
      "          \".      0.575     0.078     0.138       293\n",
      "          \";      0.000     0.000     0.000         5\n",
      "          \"-      1.000     0.036     0.069        28\n",
      "          ).      0.972     0.911     0.941       271\n",
      "          !,      0.000     0.000     0.000         0\n",
      "          -\"      0.000     0.000     0.000         7\n",
      "          )!      0.000     0.000     0.000         1\n",
      "          \",      0.738     0.510     0.603       829\n",
      "         .\")      0.000     0.000     0.000         1\n",
      "          !;      0.000     0.000     0.000         1\n",
      "          ;(      0.000     0.000     0.000         0\n",
      "          ),      0.846     0.635     0.726       381\n",
      "          ?;      0.000     0.000     0.000         0\n",
      "          ?\"      0.000     0.000     0.000         0\n",
      "          );      0.000     0.000     0.000         0\n",
      "          .)      0.000     0.000     0.000         1\n",
      "          ?,      0.000     0.000     0.000         1\n",
      "          ;\"      0.000     0.000     0.000         0\n",
      "          ):      1.000     0.636     0.778        11\n",
      "           [      0.000     0.000     0.000        45\n",
      "           ]      0.000     0.000     0.000        43\n",
      "         ...      0.000     0.000     0.000        61\n",
      "          ],      0.000     0.000     0.000         3\n",
      "          \"(      0.692     0.290     0.409        31\n",
      "          ,[      0.000     0.000     0.000         1\n",
      "          ,\"      0.000     0.000     0.000        44\n",
      "         ]\",      0.000     0.000     0.000         5\n",
      "          )-      0.000     0.000     0.000        17\n",
      "          \":      0.000     0.000     0.000         0\n",
      "          (\"      0.000     0.000     0.000         0\n",
      "         \"),      0.000     0.000     0.000         1\n",
      "         \"-[      0.000     0.000     0.000         0\n",
      "        ...,      0.000     0.000     0.000         3\n",
      "          \")      0.000     0.000     0.000         2\n",
      "          ..      0.500     0.333     0.400         3\n",
      "         \",\"      0.000     0.000     0.000        10\n",
      "         ?\".      0.000     0.000     0.000         2\n",
      "          \"[      0.000     0.000     0.000         0\n",
      "         \"(\"      0.000     0.000     0.000         2\n",
      "         ),\"      0.000     0.000     0.000         2\n",
      "          \"\"      0.000     0.000     0.000         2\n",
      "          -.      0.000     0.000     0.000         0\n",
      "          .,      0.000     0.000     0.000         0\n",
      "          ].      0.000     0.000     0.000         2\n",
      "          )\"      0.000     0.000     0.000         0\n",
      "          !\"      0.000     0.000     0.000         0\n",
      "         ?\"-      0.000     0.000     0.000         2\n",
      "         \":\"      0.000     0.000     0.000         1\n",
      "         ):\"      0.000     0.000     0.000         0\n",
      "         \")-      0.000     0.000     0.000         1\n",
      "         \"-\"      0.000     0.000     0.000         0\n",
      "          -,      0.000     0.000     0.000         1\n",
      "         )\".      0.000     0.000     0.000         1\n",
      "         ?\",      0.000     0.000     0.000         1\n",
      "         ]\".      0.000     0.000     0.000         0\n",
      "         !\",      0.000     0.000     0.000         1\n",
      "          ]?      0.000     0.000     0.000         0\n",
      "        ...[      0.000     0.000     0.000         2\n",
      "          ];      0.000     0.000     0.000         0\n",
      "       ...\".      0.000     0.000     0.000         0\n",
      "         !\"-      0.000     0.000     0.000         2\n",
      "          \"!      0.000     0.000     0.000         0\n",
      "         !\".      0.000     0.000     0.000         3\n",
      "          !?      0.000     0.000     0.000         0\n",
      "          ?!      0.000     0.000     0.000         0\n",
      "          ,-      0.000     0.000     0.000         4\n",
      "        !...      0.000     0.000     0.000         1\n",
      "         !).      0.000     0.000     0.000         0\n",
      "          )?      0.000     0.000     0.000         3\n",
      "        ?...      0.000     0.000     0.000         0\n",
      "          .?      0.000     0.000     0.000         0\n",
      "\n",
      "   micro avg      0.862     0.694     0.769     39718\n",
      "   macro avg      0.160     0.095     0.109     39718\n",
      "weighted avg      0.824     0.694     0.738     39718\n",
      "\n",
      "['Но синовете им не умъртви, защото постъпи според писаното в закона в книгата на Мойсей, където ГОСПОД заповяда и каза: Бащите да не умират заради синовете и синовете да не умират заради бащите, а всеки да умира за собствения си грях.', 'Но когато ти говоря ще отворя устата ти и ти им кажи: Така казва Господ БОГ: Който слуша, нека слуша, а който не слуша, нека не слуша, защото са бунтовен дом.', 'Защото кой е по-голям този, който седи на трапезата ли или онзи, който слугува?', 'А след това ще се насели, както в предишните дни, заявява ГОСПОД.', 'А Той беше на задната част, заспал на възглавница.', 'Ефрем е като птица славата му ще отлети.', 'И така той си отиде от него на известно разстояние.', 'Не бягам при халдейците.', 'И израилевите синове излязоха от египетската земя строени.', 'А когато Ахитофел видя, че съветът му не се изпълни оседла магарето си и стана и отиде у дома си в своя град и нареди домашните си работи и се обеси.', 'Ако умре някое животно от добитъка, който можете да ядете, който се допре до мършата му ще бъде нечист до вечерта.', 'Но помощник съответен на Адам не се намери.', 'Който задържа жито, народът ще го проклина, а благословение ще почива на главата на този, който го продава.', 'Този човек беше праведен и благочестив и чакаше Утехата на Израил и Светият Дух беше на него.', 'Всичко е възможно за този, който вярва.', 'И видях височината на дома околовръст основите на страничните стаи бяха една цяла тръстика от шест големи лакътя.', 'После да вземеш тлъстината на овена, опашката и тлъстината, която покрива вътрешностите, булото на дроба двата бъбрека с тлъстината, която е около тях и дясното бедро, защото е овен на посвещение и един хляб, една пита хляб, месен с маслинено масло и една кора от коша на безквасните хлябове, които са пред ГОСПОДА.', 'И от дима излязоха скакалци по земята и им се даде власт като властта, която имат земните скорпиони.', 'Ти си, ГОСПОДИ, само Ти!', 'И ще предаде Израил заради греховете на Еровоам, с които съгреши и с които въведе Израил в грях.', 'Синове на Елифаз: Теман и Омар, Сефи и Готом Кенез, и Тамна и Амалик.', 'А гладът в Самария беше страшен.', 'Затова казах в сърцето си, че и това е суета.', 'Насладих се на сянката му и седнах и плодът му бе сладък в устата ми.', 'Защото така ми каза ГОСПОД, Както ръмжи над лова си, лъвът младият лъв срещу когото се свикват множество овчари и не се плаши от гласа им, и не се отдръпва пред шума им, така ГОСПОД на Войнствата, ще слезе за да воюва за хълма Сион и за неговото възвишение.', 'Отче, свети, опази ги в Името Си, което си Ми дал за да бъдат едно, както сме и Ние.', 'И да правите разлика между чистите животни и нечистите и между нечистите птици и чистите и да не осквернявате себе си с животно, или с птица или с каквото и да е, което пълзи по земята, което Аз съм ви отделил като нечисто.', 'И ГОСПОД укрепи моавския цар Еглон против Израил, защото вършиха зло пред ГОСПОДА.', 'И Духът ми каза да отида с тях, без да се двоумя.', 'В двадесет и седмата година на израилевия цар Еровоам се възцари Азария, синът на юдовия цар Амасия.', 'Защото вашата послушност е известна на всички, затова се радвам за вас.', 'Той изтегля всички с въдица влачи ги в мрежата си и ги събира в рибарската си мрежа- затова се радва и се весели.', 'Благословен да е ГОСПОД Бог Богът на Израил, който единствен върши чудеса.', 'И които влязоха мъжко и женско от всяка плът, влязоха, както Бог му беше заповядал, и ГОСПОД затвори след него.', 'Тогава царят каза на Божия човек: Ела с мен у дома и се подкрепи и ще ти дам подарък.', 'И ето, въпреки че е посадена ще успее ли?', 'От дома Тогарма, даваха за стоките ти коне бойни коне и мулета.', 'Затова заповядай гробът да се пази здраво до третия ден да не би учениците Му да дойдат и да Го откраднат, и да кажат на народа Възкръсна от мъртвите.', 'И когато отвори петия печат видях под олтара, душите на онези, които са били заклани за Божието слово и за свидетелството, което държаха.', 'И свещениците, които служат на ГОСПОДА са синовете на Аарон и левитите са в службата.', 'Той тича след тях с умолителни думи, но тях ги няма.', 'И измери дължината му четиридесет лакътя и ширината му- двадесет лакътя.', 'Затова, така казва ГОСПОД Бог на Войнствата, Израилевият Бог: Ето, Аз ще докарам върху Юда и върху всичките ерусалимски жители цялото зло, което говорих против тях, защото им говорих, но не слушаха и ги виках, но не отговаряха.', 'Сине мой, слушай наставлението на баща си и не отхвърляй закона на майка си, защото те ще бъдат благодатен венец за главата ти и огърлица за шията ти.', 'Тогава облакът започна да се издига от града в димен стълб и Вениамин се обърна и ето, целият град се издигаше в пламъци към небето.', 'В онзи ден няма да се срамуваш от всичките си дела, с които си отстъпил от Мен, защото тогава ще отнема отсред теб, твоите, които горделиво тържествуват и ти няма вече да се държиш надменно на светия Ми хълм.', 'А свинарите, като видяха станалото, избягаха и разказаха за това в града и в селата.', 'И Илий благослови Елкана и жена му и каза: ГОСПОД да ти даде потомство от тази жена, вместо заетото, което беше посветено на ГОСПОДА.', 'И ако живее във вас, Духът на Този, който възкреси Иисус от мъртвите то Този, който възкреси Христос от мъртвите ще съживи и вашите смъртни тела чрез Духа Си, който живее във вас.', 'А ГОСПОД си извърши, както беше говорил чрез мен и ГОСПОД откъсна царството от ръката ти и го даде на ближния ти на Давид.', 'Даде и храна за магаретата им.', 'Книгата на видението на елкусеянина Наум.', 'И направи олтара за всеизгаряне от акациево дърво, пет лакътя беше дължината му и пет лакътя беше ширината му; четвъртит и три лакътя беше височината му.', 'Те ми казаха: Направи ни богове, които да ходят пред нас, защото на този Мойсей човека, който ни изведе от египетската земя не знаем какво му стана.', 'Тогава Мардохей каза да отговорят на Естир: Не мисли в себе си, че от всичките юдеи само ти ще се избавиш в царския дом.', 'Но аз не бих познал греха освен чрез закона, защото не бих знаел пожелание, ако законът не беше казал: Не пожелавай.', 'Тогава народът Му си спомни за древните дни на Мойсей: Къде е Онзи, който ги изведе от морето с пастирите на стадото Си?', 'И три пъти в годината Соломон принасяше всеизгаряния и примирителни жертви върху олтара, който построи на ГОСПОДА и кадеше върху олтара, който беше пред ГОСПОДА.', 'И след като им поставиха старейшини във всяка църква и се помолиха с пост ги препоръчаха на Господа, в когото бяха повярвали.', 'С нея Той подейства в Христос, като Го възкреси от мъртвите и Го сложи да седне от дясната Си страна на небесата далеч над всяко началство и власт и сила и господство и всяко име, с което се наименуват не само в този свят, но и в бъдещия.', 'Стрелец срещу стрелец да опъва лъка си и срещу онзи, който се надига в бронята си.', 'Затова онази нива е, наречена и до днес Кръвна нива.', 'И така слугите на цар Езекия отидоха при Исая.', 'И никой свещеник да не пие вино, когато влиза във вътрешния двор.', 'И Охозия, падна през решетката на горната си, стая в Самария и се разболя.', 'Защо не разбирате Моето говорене?', 'А Лаван в отговор каза на Яков: Тези дъщери са мои дъщери и синовете са мои синове и стадата, са мои стада.', 'А чуждият, който се приближи да се умъртви.', 'И двамата сина на Илий, Офний и Финеес бяха там с ковчега на Божия завет.', 'Иисус му каза: Лисиците си имат леговища и небесните птици гнезда, а Човешкият Син няма къде глава да подслони.', 'От кръвта на убитите от тлъстината на силните лъкът на Йонатан не се обръщаше назад и мечът на Саул не се връщаше празен.', 'Станах за присмех на целия си народ и за тяхна подигравателна песен цял ден.', 'Да учите на тях синовете си, като говорите за тях, когато седиш в къщата си, когато ходиш по пътя, когато лягаш и когато ставаш.', 'И ГОСПОД се разкая за злото, което беше казал, че ще направи на народа Си.', 'А Юда изпрати ярето чрез ръката на приятеля си одоламеца, за да вземе залога от ръката на жената, но той не я намери.', 'И царят заповяда и доведоха онези мъже, които бяха издали, Даниил, и хвърлиха тях децата им и жените им в рова на лъвовете и още преди да стигнат до дъното на рова лъвовете ги сграбчиха и строшиха всичките им кости.', 'И Йоав и народът, който беше с него настъпиха за битката против арамейците; и те побягнаха пред него.', 'И като го повикаха Тертил, започна да обвинява като казваше: Понеже чрез теб честити Феликсе, се радваме на голямо спокойствие и понеже чрез твоята предвидливост има подобрения за този народ, то ние с пълна благодарност винаги и навсякъде посрещаме това.', 'Защото Йоан казваше на Ирод: Не ти е позволено да имаш жената на брат си.', 'А в първия ден на седмицата много рано сутринта те дойдоха на гроба, като носеха благоуханните масла, които бяха приготвили.', 'Ще бъде ли добре да ви изпита Той?', 'След това Яков каза на Лаван: Дай жена ми, защото дойде време да вляза при нея.', 'А посветените дарове бяха шестстотин говеда и три хиляди овце.', 'Кога ще се събудя за да продължа да го потърся пак.', 'Изнемогвам от викането си гърлото ми е пресъхнало очите ми чезнат, докато чакам своя Бог.', 'Това са родовете на Мерарий.', 'На следващия ден едно голямо множество, което беше дошло на празника, като чуха, че Иисус идвал в Ерусалим, взеха палмови клони и излязоха да Го посрещнат, викайки Осанна.', 'И той каза: Имам нещо да ти кажа.', 'Ако някой, който е престъпил закона на Мойсей умира безпощадно при думата на двама или трима свидетели, то колко по-тежко наказание мислите ще заслужи онзи, който е потъпкал Божия Син и е счел за просто нещо, кръвта на завета, с която е бил осветен и е оскърбил Духа на благодатта.', 'Върни се, сине мой, Давиде, защото няма вече да ти сторя зло, понеже днес животът ми беше скъпоценен пред очите ти!', 'Ще дойдат големци от Египет, Етиопия бързо ще протегне ръцете си към Бога.', 'Затова хората Му се боят и Той не гледа на никого от мъдрите по сърце.', 'И Го следваше голямо множество от народ и жени, които плачеха за Него.', 'Ето ви семе засейте земята!', 'И Давид дойде във Ваал-Ферасим и Давид ги разби там, и каза ГОСПОД разсече пред мен враговете ми, както водите правят пролом.', 'Кадилниците на тези мъже, които съгрешиха против живота си, нека ги направят на плочи за обковаване на олтара, защото те ги принесоха пред ГОСПОДА и затова са свети и те ще бъдат за знамение на израилевите синове.', 'И когато фараонът отказваше да ни пусне, ГОСПОД, уби всяко първородно в египетската земя от първородно на човек до първородно на животно, затова жертвам на ГОСПОДА всяко първородно, което е мъжко, а всеки първороден от синовете си изкупувам.', 'А без вяра не е възможно да се угоди на Бога, защото, който идва при Бога, трябва да вярва, че Той съществува и че възнаграждава тези, които Го търсят.', 'И докато още говореше с тях, ето, пратеникът слезе при него и каза: Ето, това зло е от ГОСПОДА.', 'А вие сами ли ще продадете братята си?']\n"
     ]
    }
   ],
   "source": [
    "labels = list(crf.classes_)\n",
    "y_pred = crf.predict(X_dev_without_pos)\n",
    "print(metrics.flat_f1_score(y_dev, y_pred, average='weighted', labels=labels))\n",
    "print(metrics.flat_classification_report(y_dev, y_pred, labels=labels, digits=3))\n",
    "labels.remove('')\n",
    "print(metrics.flat_f1_score(y_dev, y_pred, average='weighted', labels=labels))\n",
    "print(metrics.flat_classification_report(y_dev, y_pred, labels=labels, digits=3))\n",
    "punctuated_sentences = punctuate(X_dev_without_pos, y_pred)\n",
    "print(punctuated_sentences[:100])"
   ]
  },
  {
   "cell_type": "code",
   "execution_count": 49,
   "id": "336dcd21",
   "metadata": {},
   "outputs": [
    {
     "name": "stdout",
     "output_type": "stream",
     "text": [
      "CPU times: user 26min 55s, sys: 721 ms, total: 26min 56s\n",
      "Wall time: 26min 53s\n"
     ]
    }
   ],
   "source": [
    "%%time\n",
    "crf = sklearn_crfsuite.CRF(\n",
    "    algorithm='lbfgs',\n",
    "    c1=0.1,\n",
    "    c2=0.1,\n",
    "    max_iterations=100,\n",
    "    all_possible_transitions=True\n",
    ")\n",
    "crf.fit(X_train_without_upos, y_train)"
   ]
  },
  {
   "cell_type": "code",
   "execution_count": 50,
   "id": "52692e7b",
   "metadata": {},
   "outputs": [
    {
     "name": "stderr",
     "output_type": "stream",
     "text": [
      "/home/mariya/anaconda3/envs/masters/lib/python3.6/site-packages/sklearn/metrics/_classification.py:1465: UndefinedMetricWarning: F-score is ill-defined and being set to 0.0 in labels with no true nor predicted samples. Use `zero_division` parameter to control this behavior.\n",
      "  average, \"true nor predicted\", 'F-score is', len(true_sum)\n",
      "/home/mariya/anaconda3/envs/masters/lib/python3.6/site-packages/sklearn/utils/validation.py:70: FutureWarning: Pass labels=['', ':', '!', ',', '?', ';', '.', '-', ',(', '\"', '\").', '(', ')', '?-', '.-', ':)', '!-', ':\"', '.\"', ':(', '?)', '\"?', '\".', '\";', '\"-', ').', '!,', '-\"', ')!', '\",', '.\")', '!;', ';(', '),', '?;', '?\"', ');', '.)', '?,', ';\"', '):', '[', ']', '...', '],', '\"(', ',[', ',\"', ']\",', ')-', '\":', '(\"', '\"),', '\"-[', '...,', '\")', '..', '\",\"', '?\".', '\"[', '\"(\"', '),\"', '\"\"', '-.', '.,', '].', ')\"', '!\"', '?\"-', '\":\"', '):\"', '\")-', '\"-\"', '-,', ')\".', '?\",', ']\".', '!\",', ']?', '...[', '];', '...\".', '!\"-', '\"!', '!\".', '!?', '?!', ',-', '!...', '!).', ')?', '?...', '.?'] as keyword args. From version 0.25 passing these as positional arguments will result in an error\n",
      "  FutureWarning)\n"
     ]
    },
    {
     "name": "stdout",
     "output_type": "stream",
     "text": [
      "0.9388912093385249\n"
     ]
    },
    {
     "name": "stderr",
     "output_type": "stream",
     "text": [
      "/home/mariya/anaconda3/envs/masters/lib/python3.6/site-packages/sklearn/metrics/_classification.py:1221: UndefinedMetricWarning: Precision and F-score are ill-defined and being set to 0.0 in labels with no predicted samples. Use `zero_division` parameter to control this behavior.\n",
      "  _warn_prf(average, modifier, msg_start, len(result))\n",
      "/home/mariya/anaconda3/envs/masters/lib/python3.6/site-packages/sklearn/metrics/_classification.py:1221: UndefinedMetricWarning: Recall and F-score are ill-defined and being set to 0.0 in labels with no true samples. Use `zero_division` parameter to control this behavior.\n",
      "  _warn_prf(average, modifier, msg_start, len(result))\n"
     ]
    },
    {
     "name": "stdout",
     "output_type": "stream",
     "text": [
      "              precision    recall  f1-score   support\n",
      "\n",
      "                  0.959     0.989     0.974    227825\n",
      "           :      0.915     0.711     0.800       923\n",
      "           !      0.522     0.202     0.291       347\n",
      "           ,      0.797     0.640     0.710     18592\n",
      "           ?      0.860     0.679     0.759       443\n",
      "           ;      0.237     0.045     0.076       622\n",
      "           .      0.934     0.988     0.960     11401\n",
      "           -      0.574     0.101     0.172       882\n",
      "          ,(      0.000     0.000     0.000         5\n",
      "           \"      0.614     0.128     0.212      1596\n",
      "         \").      0.000     0.000     0.000         0\n",
      "           (      0.968     0.869     0.916      1656\n",
      "           )      0.874     0.829     0.851      1001\n",
      "          ?-      0.143     0.250     0.182         4\n",
      "          .-      0.000     0.000     0.000         2\n",
      "          :)      0.000     0.000     0.000         0\n",
      "          !-      0.000     0.000     0.000        20\n",
      "          :\"      0.700     0.104     0.182        67\n",
      "          .\"      0.333     0.043     0.077        23\n",
      "          :(      0.000     0.000     0.000         1\n",
      "          ?)      0.000     0.000     0.000         0\n",
      "          \"?      0.000     0.000     0.000         1\n",
      "          \".      0.615     0.082     0.145       293\n",
      "          \";      0.000     0.000     0.000         5\n",
      "          \"-      0.000     0.000     0.000        28\n",
      "          ).      0.969     0.911     0.939       271\n",
      "          !,      0.000     0.000     0.000         0\n",
      "          -\"      0.000     0.000     0.000         7\n",
      "          )!      1.000     1.000     1.000         1\n",
      "          \",      0.747     0.540     0.627       829\n",
      "         .\")      0.000     0.000     0.000         1\n",
      "          !;      0.000     0.000     0.000         1\n",
      "          ;(      0.000     0.000     0.000         0\n",
      "          ),      0.848     0.630     0.723       381\n",
      "          ?;      0.000     0.000     0.000         0\n",
      "          ?\"      0.000     0.000     0.000         0\n",
      "          );      0.000     0.000     0.000         0\n",
      "          .)      0.000     0.000     0.000         1\n",
      "          ?,      0.000     0.000     0.000         1\n",
      "          ;\"      0.000     0.000     0.000         0\n",
      "          ):      1.000     0.636     0.778        11\n",
      "           [      0.000     0.000     0.000        45\n",
      "           ]      0.000     0.000     0.000        43\n",
      "         ...      0.000     0.000     0.000        61\n",
      "          ],      0.000     0.000     0.000         3\n",
      "          \"(      0.583     0.226     0.326        31\n",
      "          ,[      0.000     0.000     0.000         1\n",
      "          ,\"      0.000     0.000     0.000        44\n",
      "         ]\",      0.000     0.000     0.000         5\n",
      "          )-      0.000     0.000     0.000        17\n",
      "          \":      0.000     0.000     0.000         0\n",
      "          (\"      0.000     0.000     0.000         0\n",
      "         \"),      0.000     0.000     0.000         1\n",
      "         \"-[      0.000     0.000     0.000         0\n",
      "        ...,      0.000     0.000     0.000         3\n",
      "          \")      0.000     0.000     0.000         2\n",
      "          ..      0.500     0.333     0.400         3\n",
      "         \",\"      0.000     0.000     0.000        10\n",
      "         ?\".      0.000     0.000     0.000         2\n",
      "          \"[      0.000     0.000     0.000         0\n",
      "         \"(\"      0.000     0.000     0.000         2\n",
      "         ),\"      0.000     0.000     0.000         2\n",
      "          \"\"      0.000     0.000     0.000         2\n",
      "          -.      0.000     0.000     0.000         0\n",
      "          .,      0.000     0.000     0.000         0\n",
      "          ].      0.000     0.000     0.000         2\n",
      "          )\"      0.000     0.000     0.000         0\n",
      "          !\"      0.000     0.000     0.000         0\n",
      "         ?\"-      0.000     0.000     0.000         2\n",
      "         \":\"      0.000     0.000     0.000         1\n",
      "         ):\"      0.000     0.000     0.000         0\n",
      "         \")-      0.000     0.000     0.000         1\n",
      "         \"-\"      0.000     0.000     0.000         0\n",
      "          -,      0.000     0.000     0.000         1\n",
      "         )\".      0.000     0.000     0.000         1\n",
      "         ?\",      0.000     0.000     0.000         1\n",
      "         ]\".      0.000     0.000     0.000         0\n",
      "         !\",      0.000     0.000     0.000         1\n",
      "          ]?      0.000     0.000     0.000         0\n",
      "        ...[      0.000     0.000     0.000         2\n",
      "          ];      0.000     0.000     0.000         0\n",
      "       ...\".      0.000     0.000     0.000         0\n",
      "         !\"-      0.000     0.000     0.000         2\n",
      "          \"!      0.000     0.000     0.000         0\n",
      "         !\".      0.000     0.000     0.000         3\n",
      "          !?      0.000     0.000     0.000         0\n",
      "          ?!      0.000     0.000     0.000         0\n",
      "          ,-      0.000     0.000     0.000         4\n",
      "        !...      0.000     0.000     0.000         1\n",
      "         !).      0.000     0.000     0.000         0\n",
      "          )?      0.000     0.000     0.000         3\n",
      "        ?...      0.000     0.000     0.000         0\n",
      "          .?      0.000     0.000     0.000         0\n",
      "\n",
      "   micro avg      0.946     0.946     0.946    267543\n",
      "   macro avg      0.169     0.118     0.130    267543\n",
      "weighted avg      0.938     0.946     0.939    267543\n",
      "\n",
      "0.7390215348033173\n"
     ]
    },
    {
     "name": "stderr",
     "output_type": "stream",
     "text": [
      "/home/mariya/anaconda3/envs/masters/lib/python3.6/site-packages/sklearn/utils/validation.py:70: FutureWarning: Pass labels=[':', '!', ',', '?', ';', '.', '-', ',(', '\"', '\").', '(', ')', '?-', '.-', ':)', '!-', ':\"', '.\"', ':(', '?)', '\"?', '\".', '\";', '\"-', ').', '!,', '-\"', ')!', '\",', '.\")', '!;', ';(', '),', '?;', '?\"', ');', '.)', '?,', ';\"', '):', '[', ']', '...', '],', '\"(', ',[', ',\"', ']\",', ')-', '\":', '(\"', '\"),', '\"-[', '...,', '\")', '..', '\",\"', '?\".', '\"[', '\"(\"', '),\"', '\"\"', '-.', '.,', '].', ')\"', '!\"', '?\"-', '\":\"', '):\"', '\")-', '\"-\"', '-,', ')\".', '?\",', ']\".', '!\",', ']?', '...[', '];', '...\".', '!\"-', '\"!', '!\".', '!?', '?!', ',-', '!...', '!).', ')?', '?...', '.?'] as keyword args. From version 0.25 passing these as positional arguments will result in an error\n",
      "  FutureWarning)\n"
     ]
    },
    {
     "name": "stdout",
     "output_type": "stream",
     "text": [
      "              precision    recall  f1-score   support\n",
      "\n",
      "           :      0.915     0.711     0.800       923\n",
      "           !      0.522     0.202     0.291       347\n",
      "           ,      0.797     0.640     0.710     18592\n",
      "           ?      0.860     0.679     0.759       443\n",
      "           ;      0.237     0.045     0.076       622\n",
      "           .      0.934     0.988     0.960     11401\n",
      "           -      0.574     0.101     0.172       882\n",
      "          ,(      0.000     0.000     0.000         5\n",
      "           \"      0.614     0.128     0.212      1596\n",
      "         \").      0.000     0.000     0.000         0\n",
      "           (      0.968     0.869     0.916      1656\n",
      "           )      0.874     0.829     0.851      1001\n",
      "          ?-      0.143     0.250     0.182         4\n",
      "          .-      0.000     0.000     0.000         2\n",
      "          :)      0.000     0.000     0.000         0\n",
      "          !-      0.000     0.000     0.000        20\n",
      "          :\"      0.700     0.104     0.182        67\n",
      "          .\"      0.333     0.043     0.077        23\n",
      "          :(      0.000     0.000     0.000         1\n",
      "          ?)      0.000     0.000     0.000         0\n",
      "          \"?      0.000     0.000     0.000         1\n",
      "          \".      0.615     0.082     0.145       293\n",
      "          \";      0.000     0.000     0.000         5\n",
      "          \"-      0.000     0.000     0.000        28\n",
      "          ).      0.969     0.911     0.939       271\n",
      "          !,      0.000     0.000     0.000         0\n",
      "          -\"      0.000     0.000     0.000         7\n",
      "          )!      1.000     1.000     1.000         1\n",
      "          \",      0.747     0.540     0.627       829\n",
      "         .\")      0.000     0.000     0.000         1\n",
      "          !;      0.000     0.000     0.000         1\n",
      "          ;(      0.000     0.000     0.000         0\n",
      "          ),      0.848     0.630     0.723       381\n",
      "          ?;      0.000     0.000     0.000         0\n",
      "          ?\"      0.000     0.000     0.000         0\n",
      "          );      0.000     0.000     0.000         0\n",
      "          .)      0.000     0.000     0.000         1\n",
      "          ?,      0.000     0.000     0.000         1\n",
      "          ;\"      0.000     0.000     0.000         0\n",
      "          ):      1.000     0.636     0.778        11\n",
      "           [      0.000     0.000     0.000        45\n",
      "           ]      0.000     0.000     0.000        43\n",
      "         ...      0.000     0.000     0.000        61\n",
      "          ],      0.000     0.000     0.000         3\n",
      "          \"(      0.583     0.226     0.326        31\n",
      "          ,[      0.000     0.000     0.000         1\n",
      "          ,\"      0.000     0.000     0.000        44\n",
      "         ]\",      0.000     0.000     0.000         5\n",
      "          )-      0.000     0.000     0.000        17\n",
      "          \":      0.000     0.000     0.000         0\n",
      "          (\"      0.000     0.000     0.000         0\n",
      "         \"),      0.000     0.000     0.000         1\n",
      "         \"-[      0.000     0.000     0.000         0\n",
      "        ...,      0.000     0.000     0.000         3\n",
      "          \")      0.000     0.000     0.000         2\n",
      "          ..      0.500     0.333     0.400         3\n",
      "         \",\"      0.000     0.000     0.000        10\n",
      "         ?\".      0.000     0.000     0.000         2\n",
      "          \"[      0.000     0.000     0.000         0\n",
      "         \"(\"      0.000     0.000     0.000         2\n",
      "         ),\"      0.000     0.000     0.000         2\n",
      "          \"\"      0.000     0.000     0.000         2\n",
      "          -.      0.000     0.000     0.000         0\n",
      "          .,      0.000     0.000     0.000         0\n",
      "          ].      0.000     0.000     0.000         2\n",
      "          )\"      0.000     0.000     0.000         0\n",
      "          !\"      0.000     0.000     0.000         0\n",
      "         ?\"-      0.000     0.000     0.000         2\n",
      "         \":\"      0.000     0.000     0.000         1\n",
      "         ):\"      0.000     0.000     0.000         0\n",
      "         \")-      0.000     0.000     0.000         1\n",
      "         \"-\"      0.000     0.000     0.000         0\n",
      "          -,      0.000     0.000     0.000         1\n",
      "         )\".      0.000     0.000     0.000         1\n",
      "         ?\",      0.000     0.000     0.000         1\n",
      "         ]\".      0.000     0.000     0.000         0\n",
      "         !\",      0.000     0.000     0.000         1\n",
      "          ]?      0.000     0.000     0.000         0\n",
      "        ...[      0.000     0.000     0.000         2\n",
      "          ];      0.000     0.000     0.000         0\n",
      "       ...\".      0.000     0.000     0.000         0\n",
      "         !\"-      0.000     0.000     0.000         2\n",
      "          \"!      0.000     0.000     0.000         0\n",
      "         !\".      0.000     0.000     0.000         3\n",
      "          !?      0.000     0.000     0.000         0\n",
      "          ?!      0.000     0.000     0.000         0\n",
      "          ,-      0.000     0.000     0.000         4\n",
      "        !...      0.000     0.000     0.000         1\n",
      "         !).      0.000     0.000     0.000         0\n",
      "          )?      0.000     0.000     0.000         3\n",
      "        ?...      0.000     0.000     0.000         0\n",
      "          .?      0.000     0.000     0.000         0\n",
      "\n",
      "   micro avg      0.855     0.699     0.769     39718\n",
      "   macro avg      0.160     0.108     0.121     39718\n",
      "weighted avg      0.817     0.699     0.739     39718\n",
      "\n",
      "['Но синовете им не умъртви, защото постъпи според писаното в закона в книгата на Мойсей, където ГОСПОД заповяда и каза: Бащите да не умират заради синовете и синовете да не умират заради бащите, а всеки да умира за собствения си грях.', 'Но когато ти говоря ще отворя устата ти и ти им кажи: Така казва Господ БОГ: Който слуша, нека слуша, а който не слуша нека не слуша, защото са бунтовен дом.', 'Защото кой е по-голям този, който седи на трапезата ли или онзи, който слугува?', 'А след това ще се насели, както в предишните дни, заявява ГОСПОД.', 'А Той беше на задната част, заспал на възглавница.', 'Ефрем е като птица славата му ще отлети.', 'И така той си отиде от него на известно разстояние.', 'Не бягам при халдейците.', 'И израилевите синове излязоха от египетската земя строени.', 'А когато Ахитофел видя, че съветът му не се изпълни оседла магарето си и стана и отиде у дома си в своя град и нареди домашните си работи и се обеси.', 'Ако умре някое животно от добитъка, който можете да ядете, който се допре до мършата му, ще бъде нечист до вечерта.', 'Но помощник съответен на Адам не се намери.', 'Който задържа жито, народът ще го проклина, а благословение ще почива на главата на този, който го продава.', 'Този човек беше праведен и благочестив и чакаше Утехата на Израил и Светият Дух беше на него.', 'Всичко е възможно за този, който вярва.', 'И видях височината на дома околовръст, основите на страничните стаи бяха една цяла тръстика от шест големи лакътя.', 'После да вземеш тлъстината на овена, опашката и тлъстината, която покрива вътрешностите, булото на дроба двата бъбрека с тлъстината, която е около тях и дясното бедро, защото е овен на посвещение и един хляб, една пита хляб, месен с маслинено масло и една кора от коша на безквасните хлябове, които са пред ГОСПОДА.', 'И от дима излязоха скакалци по земята и им се даде власт като властта, която имат земните скорпиони.', 'Ти си, ГОСПОДИ, само Ти.', 'И ще предаде Израил заради греховете на Еровоам, с които съгреши и с които въведе Израил в грях.', 'Синове на Елифаз: Теман и Омар Сефи и Готом Кенез, и Тамна и Амалик.', 'А гладът в Самария беше страшен.', 'Затова казах в сърцето си, че и това е суета.', 'Насладих се на сянката му и седнах и плодът му бе сладък в устата ми.', 'Защото така ми каза ГОСПОД: Както ръмжи над лова си, лъвът младият лъв срещу когото се свикват множество овчари и не се плаши от гласа им, и не се отдръпва пред шума им; така ГОСПОД на Войнствата ще слезе за да воюва за хълма Сион и за неговото възвишение.', 'Отче свети, опази ги в Името Си, което си Ми дал за да бъдат едно, както сме и Ние.', 'И да правите разлика между чистите животни и нечистите и между нечистите птици и чистите и да не осквернявате себе си с животно, или с птица или с каквото и да е което пълзи по земята, което Аз съм ви отделил като нечисто.', 'И ГОСПОД укрепи моавския цар Еглон против Израил, защото вършиха зло пред ГОСПОДА.', 'И Духът ми каза да отида с тях, без да се двоумя.', 'В двадесет и седмата година на израилевия цар Еровоам се възцари Азария, синът на юдовия цар Амасия.', 'Защото вашата послушност е известна на всички; затова се радвам за вас.', 'Той изтегля всички с въдица влачи ги в мрежата си и ги събира в рибарската си мрежа, затова се радва и се весели.', 'Благословен да е ГОСПОД Бог Богът на Израил, който единствен върши чудеса.', 'И които влязоха мъжко и женско от всяка плът, влязоха, както Бог му беше заповядал, и ГОСПОД, затвори след него.', 'Тогава царят каза на Божия човек: Ела с мен у дома и се подкрепи и ще ти дам подарък.', 'И ето, въпреки че е посадена ще успее ли?', 'От дома Тогарма, даваха за стоките ти коне бойни коне и мулета.', 'Затова заповядай гробът да се пази здраво до третия ден да не би учениците Му да дойдат и да Го откраднат, и да кажат на народа Възкръсна от мъртвите.', 'И когато отвори петия печат видях под олтара, душите на онези, които са били заклани за Божието слово и за свидетелството, което държаха.', 'И свещениците, които служат на ГОСПОДА са синовете на Аарон и левитите са в службата.', 'Той тича след тях с умолителни думи, но тях ги няма.', 'И измери дължината му четиридесет лакътя и ширината му- двадесет лакътя.', 'Затова, така казва ГОСПОД: Бог на Войнствата, Израилевият Бог: Ето, Аз ще докарам върху Юда и върху всичките ерусалимски жители цялото зло, което говорих против тях, защото им говорих, но не слушаха и ги виках, но не отговаряха.', 'Сине мой, слушай наставлението на баща си и не отхвърляй закона на майка си, защото те ще бъдат благодатен венец за главата ти и огърлица за шията ти.', 'Тогава облакът започна да се издига от града в димен стълб и Вениамин се обърна и ето, целият град се издигаше в пламъци към небето.', 'В онзи ден няма да се срамуваш от всичките си дела, с които си отстъпил от Мен, защото тогава ще отнема отсред теб, твоите, които горделиво тържествуват и ти няма вече да се държиш надменно на светия Ми хълм.', 'А свинарите, като видяха станалото, избягаха и разказаха за това в града и в селата.', 'И Илий благослови Елкана и жена му и каза: ГОСПОД да ти даде потомство от тази жена, вместо заетото, което беше посветено на ГОСПОДА.', 'И ако живее във вас, Духът на Този, който възкреси Иисус от мъртвите то Този, който възкреси Христос от мъртвите ще съживи и вашите смъртни тела чрез Духа Си, който живее във вас.', 'А ГОСПОД си извърши, както беше говорил чрез мен и ГОСПОД откъсна царството от ръката ти и го даде на ближния ти на Давид.', 'Даде и храна, за магаретата им.', 'Книгата на видението на елкусеянина Наум.', 'И направи олтара за всеизгаряне от акациево дърво, пет лакътя беше дължината му и пет лакътя беше ширината му, четвъртит и три лакътя беше височината му.', 'Те ми казаха: Направи ни богове, които да ходят пред нас, защото на този Мойсей човека, който ни изведе от египетската земя не знаем какво му стана.', 'Тогава Мардохей каза да отговорят на Естир: Не мисли в себе си, че от всичките юдеи само ти ще се избавиш в царския дом.', 'Но аз не бих познал греха, освен чрез закона, защото не бих знаел пожелание, ако законът не беше казал:\" Не пожелавай.', 'Тогава народът Му си спомни за древните дни на Мойсей: Къде е Онзи, който ги изведе от морето с пастирите на стадото Си?', 'И три пъти в годината Соломон принасяше всеизгаряния и примирителни жертви върху олтара, който построи на ГОСПОДА и кадеше върху олтара, който беше пред ГОСПОДА.', 'И след като им поставиха старейшини във всяка църква и се помолиха с пост ги препоръчаха на Господа, в когото бяха повярвали.', 'С нея Той подейства в Христос, като Го възкреси от мъртвите и Го сложи да седне от дясната Си страна на небесата далеч над всяко началство и власт и сила и господство и всяко име, с което се наименуват не само в този свят, но и в бъдещия.', 'Стрелец срещу стрелец да опъва лъка си и срещу онзи, който се надига в бронята си.', 'Затова онази нива е, наречена и до днес Кръвна нива.', 'И така слугите на цар Езекия отидоха при Исая.', 'И никой свещеник да не пие вино, когато влиза във вътрешния двор.', 'И Охозия, падна през решетката на горната си, стая в Самария и се разболя.', 'Защо не разбирате Моето говорене?', 'А Лаван в отговор каза на Яков: Тези дъщери са мои дъщери и синовете са мои синове и стадата: са мои стада.', 'А чуждият, който се приближи да се умъртви.', 'И двамата сина на Илий, Офний и Финеес бяха там с ковчега на Божия завет.', 'Иисус му каза: Лисиците си имат леговища и небесните птици гнезда, а Човешкият Син няма къде глава да подслони.', 'От кръвта на убитите от тлъстината на силните лъкът на Йонатан не се обръщаше назад, и мечът на Саул не се връщаше празен.', 'Станах за присмех на целия си народ и за тяхна подигравателна песен цял ден.', 'Да учите на тях синовете си, като говорите за тях, когато седиш в къщата си, когато ходиш по пътя, когато лягаш и когато ставаш.', 'И ГОСПОД се разкая за злото, което беше казал, че ще направи на народа Си.', 'А Юда изпрати ярето чрез ръката на приятеля си одоламеца за да вземе залога от ръката на жената, но той не я намери.', 'И царят заповяда и доведоха онези мъже, които бяха издали, Даниил, и хвърлиха тях децата им и жените им в рова на лъвовете и още преди да стигнат до дъното на рова, лъвовете ги сграбчиха и строшиха всичките им кости.', 'И Йоав и народът, който беше с него настъпиха за битката против арамейците; и те побягнаха пред него.', 'И като го повикаха Тертил, започна да обвинява, като казваше: Понеже чрез теб честити Феликсе, се радваме на голямо спокойствие и понеже чрез твоята предвидливост има подобрения за този народ, то ние с пълна благодарност винаги и навсякъде посрещаме това.', 'Защото Йоан казваше на Ирод: Не ти е позволено да имаш жената на брат си.', 'А в първия ден на седмицата много рано сутринта те дойдоха на гроба, като носеха благоуханните масла, които бяха приготвили.', 'Ще бъде ли добре да ви изпита Той?', 'След това Яков каза на Лаван: Дай жена ми, защото дойде време да вляза при нея.', 'А посветените дарове бяха шестстотин говеда и три хиляди овце.', 'Кога ще се събудя за да продължа да го потърся пак.', 'Изнемогвам от викането си гърлото ми е пресъхнало очите ми чезнат, докато чакам своя Бог.', 'Това са родовете на Мерарий.', 'На следващия ден едно голямо множество, което беше дошло на празника, като чуха, че Иисус идвал в Ерусалим, взеха палмови клони и излязоха да Го посрещнат, викайки Осанна.', 'И той каза: Имам нещо да ти кажа.', 'Ако някой, който е престъпил закона на Мойсей умира безпощадно при думата на двама или трима свидетели, то колко по-тежко наказание мислите ще заслужи онзи, който е потъпкал Божия Син и е счел за просто нещо, кръвта на завета, с която е бил осветен и е оскърбил Духа на благодатта.', 'Върни се, сине мой, Давиде, защото няма вече да ти сторя зло, понеже днес животът ми беше скъпоценен пред очите ти.', 'Ще дойдат големци от Египет Етиопия бързо ще протегне ръцете си към Бога.', 'Затова хората Му се боят и Той не гледа на никого от мъдрите по сърце.', 'И Го следваше голямо множество от народ и жени, които плачеха за Него.', 'Ето ви семе засейте земята!', 'И Давид дойде във Ваал-Ферасим и Давид ги разби там, и каза: ГОСПОД разсече пред мен, враговете ми, както водите правят пролом.', 'Кадилниците на тези мъже, които съгрешиха против живота си, нека ги направят на плочи за обковаване на олтара, защото те ги принесоха пред ГОСПОДА и затова са свети и те ще бъдат за знамение на израилевите синове.', 'И когато фараонът отказваше да ни пусне, ГОСПОД, уби всяко първородно в египетската земя от първородно на човек до първородно на животно, затова жертвам на ГОСПОДА всяко първородно, което е мъжко, а всеки първороден от синовете си изкупувам.', 'А без вяра не е възможно да се угоди на Бога, защото, който идва при Бога, трябва да вярва, че Той съществува и че възнаграждава тези, които Го търсят.', 'И докато още говореше с тях, ето, пратеникът слезе при него и каза: Ето, това зло е от ГОСПОДА.', 'А вие сами ли ще продадете братята си?']\n"
     ]
    }
   ],
   "source": [
    "labels = list(crf.classes_)\n",
    "y_pred = crf.predict(X_dev_without_upos)\n",
    "print(metrics.flat_f1_score(y_dev, y_pred, average='weighted', labels=labels))\n",
    "print(metrics.flat_classification_report(y_dev, y_pred, labels=labels, digits=3))\n",
    "labels.remove('')\n",
    "print(metrics.flat_f1_score(y_dev, y_pred, average='weighted', labels=labels))\n",
    "print(metrics.flat_classification_report(y_dev, y_pred, labels=labels, digits=3))\n",
    "punctuated_sentences = punctuate(X_dev_without_upos, y_pred)\n",
    "print(punctuated_sentences[:100])"
   ]
  },
  {
   "cell_type": "markdown",
   "id": "2dc12401",
   "metadata": {},
   "source": [
    "### Try out a model with verb count for the whole word window"
   ]
  },
  {
   "cell_type": "code",
   "execution_count": 23,
   "id": "39f41cff",
   "metadata": {},
   "outputs": [],
   "source": [
    "# input - sentence (list of dictionaries) and an index of a word (dictionary)\n",
    "# output - list of dictionaries (features, for each word)\n",
    "def word2features(sentence, i):\n",
    "    sentence_contains_interrogative_word, interrogative_word_position = contains_interrogative_word(sentence)\n",
    "    sentence_contains_interrogative_particle, interrogative_particle_position = contains_interrogative_particle(sentence)\n",
    "    sentence_contains_imperative_verb, imperative_verb_position = contains_imperative_verb(sentence)\n",
    "    sentence_contains_repetitive_word_before, repetitive_word_tag = contains_repetitive_word_before(sentence, i)\n",
    "\n",
    "    features = {\n",
    "        'word': sentence[i]['text'],\n",
    "        'sent_len': len(sentence),\n",
    "        'pos_in_sent': i,\n",
    "        'upos': sentence[i]['upos'],\n",
    "        'xpos': sentence[i]['xpos'],\n",
    "        'first_word_in_sent': sentence[0]['text'],\n",
    "        'contains_interrogative_word': sentence_contains_interrogative_word,\n",
    "        'interrogative_word_position': interrogative_word_position,\n",
    "        'contains_interrogative_particle': sentence_contains_interrogative_particle,\n",
    "        'interrogative_particle_position': interrogative_particle_position,\n",
    "        'contains_imperative_verb': sentence_contains_imperative_verb,\n",
    "        'imperative_verb_position': imperative_verb_position,\n",
    "        'starts_with_capital_letter': sentence[i]['text'][0].isupper(),\n",
    "        'contains_repetitive_word_before': sentence_contains_repetitive_word_before,\n",
    "        'repetitive_word_tag': repetitive_word_tag,\n",
    "        'count_of_verbs_before': count_of_verbs_before(sentence, i)\n",
    "    }\n",
    "\n",
    "    if i > 0:\n",
    "        features.update({\n",
    "            'prev_word': sentence[i-1]['text'],\n",
    "            'prev_word_upos': sentence[i-1]['upos'],\n",
    "            'prev_word_xpos': sentence[i-1]['xpos'],\n",
    "            'prev_word_starts_with_capital_letter': sentence[i-1]['text'][0].isupper(),\n",
    "            'count_of_verbs_before_prev_word': count_of_verbs_before(sentence, i-1)\n",
    "        })\n",
    "    else:\n",
    "        features.update({\n",
    "            'BOS': True\n",
    "        })\n",
    "\n",
    "    if i > 1:\n",
    "        features.update({\n",
    "            'word_before_prev_word': sentence[i-2]['text'],\n",
    "            'word_before_prev_word_upos': sentence[i-2]['upos'],\n",
    "            'word_before_prev_word_xpos': sentence[i-2]['xpos'],\n",
    "            'word_before_prev_word_starts_with_capital_letter': sentence[i-2]['text'][0].isupper(),\n",
    "            'count_of_verbs_before_word_before_prev_word': count_of_verbs_before(sentence, i-2)\n",
    "        })\n",
    "\n",
    "    if i < len(sentence)-1:\n",
    "        features.update({\n",
    "            'next_word': sentence[i+1]['text'],\n",
    "            'next_word_upos': sentence[i+1]['upos'],\n",
    "            'next_word_xpos': sentence[i+1]['xpos'],\n",
    "            'next_word_starts_with_capital_letter': sentence[i+1]['text'][0].isupper(),\n",
    "            'count_of_verbs_before_next_word': count_of_verbs_before(sentence, i+1)\n",
    "        })\n",
    "    else:\n",
    "        features.update({\n",
    "            'EOS': True\n",
    "        })\n",
    "        \n",
    "    if i < len(sentence)-2:\n",
    "        features.update({\n",
    "            'word_after_next_word': sentence [i+2]['text'],\n",
    "            'word_after_next_word_upos': sentence[i+2]['upos'],\n",
    "            'word_after_next_word_xpos': sentence[i+2]['xpos'],\n",
    "            'word_after_next_word_starts_with_capital_letter': sentence[i+2]['text'][0].isupper(),\n",
    "            'count_of_verbs_before_word_after_next_word': count_of_verbs_before(sentence, i+2)\n",
    "        })\n",
    "\n",
    "    return features"
   ]
  },
  {
   "cell_type": "code",
   "execution_count": 24,
   "id": "86754e51",
   "metadata": {},
   "outputs": [
    {
     "name": "stderr",
     "output_type": "stream",
     "text": [
      "2021-10-01 12:09:48 INFO: Loading these models for language: bg (Bulgarian):\n",
      "========================\n",
      "| Processor | Package  |\n",
      "------------------------\n",
      "| tokenize  | standard |\n",
      "========================\n",
      "\n",
      "2021-10-01 12:09:48 INFO: Use device: gpu\n",
      "2021-10-01 12:09:48 INFO: Loading: tokenize\n",
      "2021-10-01 12:09:48 INFO: Done loading processors!\n",
      "2021-10-01 12:10:02 INFO: Loading these models for language: bg (Bulgarian):\n",
      "========================\n",
      "| Processor | Package  |\n",
      "------------------------\n",
      "| tokenize  | standard |\n",
      "| pos       | standard |\n",
      "========================\n",
      "\n",
      "2021-10-01 12:10:02 INFO: Use device: gpu\n",
      "2021-10-01 12:10:02 INFO: Loading: tokenize\n",
      "2021-10-01 12:10:02 INFO: Loading: pos\n",
      "2021-10-01 12:10:05 INFO: Done loading processors!\n"
     ]
    },
    {
     "name": "stdout",
     "output_type": "stream",
     "text": [
      "CPU times: user 20min 40s, sys: 2.47 s, total: 20min 43s\n",
      "Wall time: 20min 42s\n"
     ]
    }
   ],
   "source": [
    "%%time\n",
    "X_train, y_train = data_prep('../data/Train.txt')"
   ]
  },
  {
   "cell_type": "code",
   "execution_count": 25,
   "id": "76cf25cb",
   "metadata": {},
   "outputs": [],
   "source": [
    "verify_prepped_data(X_train, y_train)"
   ]
  },
  {
   "cell_type": "code",
   "execution_count": 26,
   "id": "575b760a",
   "metadata": {},
   "outputs": [
    {
     "name": "stderr",
     "output_type": "stream",
     "text": [
      "2021-10-01 12:30:31 INFO: Loading these models for language: bg (Bulgarian):\n",
      "========================\n",
      "| Processor | Package  |\n",
      "------------------------\n",
      "| tokenize  | standard |\n",
      "========================\n",
      "\n",
      "2021-10-01 12:30:31 INFO: Use device: gpu\n",
      "2021-10-01 12:30:31 INFO: Loading: tokenize\n",
      "2021-10-01 12:30:31 INFO: Done loading processors!\n",
      "2021-10-01 12:30:44 INFO: Loading these models for language: bg (Bulgarian):\n",
      "========================\n",
      "| Processor | Package  |\n",
      "------------------------\n",
      "| tokenize  | standard |\n",
      "| pos       | standard |\n",
      "========================\n",
      "\n",
      "2021-10-01 12:30:44 INFO: Use device: gpu\n",
      "2021-10-01 12:30:44 INFO: Loading: tokenize\n",
      "2021-10-01 12:30:44 INFO: Loading: pos\n",
      "2021-10-01 12:30:46 INFO: Done loading processors!\n"
     ]
    },
    {
     "name": "stdout",
     "output_type": "stream",
     "text": [
      "CPU times: user 11min 31s, sys: 1.28 s, total: 11min 32s\n",
      "Wall time: 11min 31s\n"
     ]
    }
   ],
   "source": [
    "%%time\n",
    "X_dev, y_dev = data_prep('../data/Dev.txt')"
   ]
  },
  {
   "cell_type": "code",
   "execution_count": 27,
   "id": "33c88a1b",
   "metadata": {},
   "outputs": [],
   "source": [
    "verify_prepped_data(X_dev, y_dev)"
   ]
  },
  {
   "cell_type": "code",
   "execution_count": 28,
   "id": "7a028691",
   "metadata": {},
   "outputs": [
    {
     "name": "stdout",
     "output_type": "stream",
     "text": [
      "CPU times: user 29min 33s, sys: 1.04 s, total: 29min 34s\n",
      "Wall time: 29min 31s\n"
     ]
    }
   ],
   "source": [
    "%%time\n",
    "crf = sklearn_crfsuite.CRF(\n",
    "    algorithm='lbfgs',\n",
    "    c1=0.1,\n",
    "    c2=0.1,\n",
    "    max_iterations=100,\n",
    "    all_possible_transitions=True\n",
    ")\n",
    "crf.fit(X_train, y_train)"
   ]
  },
  {
   "cell_type": "code",
   "execution_count": null,
   "id": "a4b769d1",
   "metadata": {},
   "outputs": [],
   "source": [
    "labels = list(crf.classes_)\n",
    "y_pred = crf.predict(X_dev)\n",
    "print(metrics.flat_f1_score(y_dev, y_pred, average='weighted', labels=labels))\n",
    "print(metrics.flat_classification_report(y_dev, y_pred, labels=labels, digits=3))\n",
    "labels.remove('')\n",
    "print(metrics.flat_f1_score(y_dev, y_pred, average='weighted', labels=labels))\n",
    "print(metrics.flat_classification_report(y_dev, y_pred, labels=labels, digits=3))\n",
    "punctuated_sentences = punctuate(X_dev, y_pred)\n",
    "print(punctuated_sentences[:100])"
   ]
  },
  {
   "cell_type": "markdown",
   "id": "5078de37",
   "metadata": {},
   "source": [
    "### Try out best model with 50% of train data"
   ]
  },
  {
   "cell_type": "code",
   "execution_count": null,
   "id": "5c31b578",
   "metadata": {},
   "outputs": [],
   "source": [
    "# input - sentence (list of dictionaries) and an index of a word (dictionary)\n",
    "# output - list of dictionaries (features, for each word)\n",
    "def word2features(sentence, i):\n",
    "    sentence_contains_interrogative_word = contains_interrogative_word(sentence)\n",
    "    sentence_contains_interrogative_particle = contains_interrogative_particle(sentence)\n",
    "    sentence_contains_imperative_verb = contains_imperative_verb(sentence)\n",
    "    sentence_contains_repetitive_word_before, repetitive_word_tag = contains_repetitive_word_before(sentence, i)\n",
    "\n",
    "    features = {\n",
    "        'word': sentence[i]['text'],\n",
    "        'sent_len': len(sentence),\n",
    "        'upos': sentence[i]['upos'],\n",
    "        'xpos': sentence[i]['xpos'],\n",
    "        'first_word_in_sent': sentence[0]['text'],\n",
    "        'contains_interrogative_word': sentence_contains_interrogative_word,\n",
    "        'contains_interrogative_particle': sentence_contains_interrogative_particle,\n",
    "        'contains_imperative_verb': sentence_contains_imperative_verb,\n",
    "        'starts_with_capital_letter': sentence[i]['text'][0].isupper(),\n",
    "        'contains_repetitive_word_before': sentence_contains_repetitive_word_before,\n",
    "        'repetitive_word_tag': repetitive_word_tag\n",
    "    }\n",
    "\n",
    "    if i > 0:\n",
    "        features.update({\n",
    "            'prev_word': sentence[i-1]['text'],\n",
    "            'prev_word_upos': sentence[i-1]['upos'],\n",
    "            'prev_word_xpos': sentence[i-1]['xpos'],\n",
    "            'prev_word_starts_with_capital_letter': sentence[i-1]['text'][0].isupper()\n",
    "        })\n",
    "    else:\n",
    "        features.update({\n",
    "            'BOS': True\n",
    "        })\n",
    "\n",
    "    if i > 1:\n",
    "        features.update({\n",
    "            'word_before_prev_word': sentence[i-2]['text'],\n",
    "            'word_before_prev_word_upos': sentence[i-2]['upos'],\n",
    "            'word_before_prev_word_xpos': sentence[i-2]['xpos'],\n",
    "            'word_before_prev_word_starts_with_capital_letter': sentence[i-2]['text'][0].isupper()\n",
    "        })\n",
    "\n",
    "    if i < len(sentence)-1:\n",
    "        features.update({\n",
    "            'next_word': sentence[i+1]['text'],\n",
    "            'next_word_upos': sentence[i+1]['upos'],\n",
    "            'next_word_xpos': sentence[i+1]['xpos'],\n",
    "            'next_word_starts_with_capital_letter': sentence[i+1]['text'][0].isupper()\n",
    "        })\n",
    "    else:\n",
    "        features.update({\n",
    "            'EOS': True\n",
    "        })\n",
    "        \n",
    "    if i < len(sentence)-2:\n",
    "        features.update({\n",
    "            'word_after_next_word': sentence [i+2]['text'],\n",
    "            'word_after_next_word_upos': sentence[i+2]['upos'],\n",
    "            'word_after_next_word_xpos': sentence[i+2]['xpos'],\n",
    "            'word_after_next_word_starts_with_capital_letter': sentence[i+2]['text'][0].isupper()\n",
    "        })\n",
    "\n",
    "    return features"
   ]
  },
  {
   "cell_type": "code",
   "execution_count": null,
   "id": "262ab627",
   "metadata": {},
   "outputs": [],
   "source": [
    "%%time\n",
    "X_train, y_train = data_prep('../data/Train_50.txt')"
   ]
  },
  {
   "cell_type": "code",
   "execution_count": null,
   "id": "32ffd21f",
   "metadata": {},
   "outputs": [],
   "source": [
    "verify_prepped_data(X_train, y_train)"
   ]
  },
  {
   "cell_type": "code",
   "execution_count": null,
   "id": "40bf76b1",
   "metadata": {},
   "outputs": [],
   "source": [
    "%%time\n",
    "X_dev, y_dev = data_prep('../data/Dev.txt')"
   ]
  },
  {
   "cell_type": "code",
   "execution_count": null,
   "id": "7581e865",
   "metadata": {},
   "outputs": [],
   "source": [
    "verify_prepped_data(X_dev, y_dev)"
   ]
  },
  {
   "cell_type": "code",
   "execution_count": null,
   "id": "3a26fc4e",
   "metadata": {},
   "outputs": [],
   "source": [
    "%%time\n",
    "crf = sklearn_crfsuite.CRF(\n",
    "    algorithm='lbfgs',\n",
    "    c1=0.1,\n",
    "    c2=0.1,\n",
    "    max_iterations=100,\n",
    "    all_possible_transitions=True\n",
    ")\n",
    "crf.fit(X_train, y_train)"
   ]
  },
  {
   "cell_type": "code",
   "execution_count": null,
   "id": "35a4741e",
   "metadata": {},
   "outputs": [],
   "source": [
    "labels = list(crf.classes_)\n",
    "y_pred = crf.predict(X_dev)\n",
    "print(metrics.flat_f1_score(y_dev, y_pred, average='weighted', labels=labels))\n",
    "print(metrics.flat_classification_report(y_dev, y_pred, labels=labels, digits=3))\n",
    "labels.remove('')\n",
    "print(metrics.flat_f1_score(y_dev, y_pred, average='weighted', labels=labels))\n",
    "print(metrics.flat_classification_report(y_dev, y_pred, labels=labels, digits=3))\n",
    "labels = [',','(',')','\"','[',']',';','.','?','!',':','-', '...']\n",
    "print(metrics.flat_f1_score(y_dev, y_pred, average='weighted', labels=labels))\n",
    "print(metrics.flat_classification_report(y_dev, y_pred, labels=labels, digits=3))\n",
    "punctuated_sentences = punctuate(X_dev, y_pred)\n",
    "print(punctuated_sentences[:100])"
   ]
  },
  {
   "cell_type": "markdown",
   "id": "6fdec4e6",
   "metadata": {},
   "source": [
    "### Try out best model with 60% of train data"
   ]
  },
  {
   "cell_type": "code",
   "execution_count": null,
   "id": "54fa3085",
   "metadata": {},
   "outputs": [],
   "source": [
    "%%time\n",
    "X_train, y_train = data_prep('../data/Train_60.txt')"
   ]
  },
  {
   "cell_type": "code",
   "execution_count": null,
   "id": "bdc633ed",
   "metadata": {},
   "outputs": [],
   "source": [
    "verify_prepped_data(X_train, y_train)"
   ]
  },
  {
   "cell_type": "code",
   "execution_count": null,
   "id": "73cd85b9",
   "metadata": {},
   "outputs": [],
   "source": [
    "%%time\n",
    "crf = sklearn_crfsuite.CRF(\n",
    "    algorithm='lbfgs',\n",
    "    c1=0.1,\n",
    "    c2=0.1,\n",
    "    max_iterations=100,\n",
    "    all_possible_transitions=True\n",
    ")\n",
    "crf.fit(X_train, y_train)"
   ]
  },
  {
   "cell_type": "code",
   "execution_count": null,
   "id": "6ea4a34b",
   "metadata": {},
   "outputs": [],
   "source": [
    "labels = list(crf.classes_)\n",
    "y_pred = crf.predict(X_dev)\n",
    "print(metrics.flat_f1_score(y_dev, y_pred, average='weighted', labels=labels))\n",
    "print(metrics.flat_classification_report(y_dev, y_pred, labels=labels, digits=3))\n",
    "labels.remove('')\n",
    "print(metrics.flat_f1_score(y_dev, y_pred, average='weighted', labels=labels))\n",
    "print(metrics.flat_classification_report(y_dev, y_pred, labels=labels, digits=3))\n",
    "labels = [',','(',')','\"','[',']',';','.','?','!',':','-', '...']\n",
    "print(metrics.flat_f1_score(y_dev, y_pred, average='weighted', labels=labels))\n",
    "print(metrics.flat_classification_report(y_dev, y_pred, labels=labels, digits=3))\n",
    "punctuated_sentences = punctuate(X_dev, y_pred)\n",
    "print(punctuated_sentences[:100])"
   ]
  }
 ],
 "metadata": {
  "kernelspec": {
   "display_name": "Python 3",
   "language": "python",
   "name": "python3"
  },
  "language_info": {
   "codemirror_mode": {
    "name": "ipython",
    "version": 3
   },
   "file_extension": ".py",
   "mimetype": "text/x-python",
   "name": "python",
   "nbconvert_exporter": "python",
   "pygments_lexer": "ipython3",
   "version": "3.6.13"
  }
 },
 "nbformat": 4,
 "nbformat_minor": 5
}
