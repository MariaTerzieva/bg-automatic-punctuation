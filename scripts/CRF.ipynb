{
 "cells": [
  {
   "cell_type": "markdown",
   "id": "e25ced69",
   "metadata": {},
   "source": [
    "### Function Definitions"
   ]
  },
  {
   "cell_type": "code",
   "execution_count": 4,
   "id": "49f0a35d",
   "metadata": {},
   "outputs": [],
   "source": [
    "import json\n",
    "import sklearn_crfsuite\n",
    "from sklearn_crfsuite import metrics\n",
    "import classla\n",
    "import json\n",
    "import re"
   ]
  },
  {
   "cell_type": "code",
   "execution_count": 5,
   "id": "744a6483",
   "metadata": {},
   "outputs": [],
   "source": [
    "# input - name of a text file with one sentence per line\n",
    "# output - list of sentences (strings)\n",
    "def read_file_as_list_of_sentences(input_file_name):\n",
    "    with open(input_file_name, \"r\") as input_file:\n",
    "        return input_file.read().splitlines()"
   ]
  },
  {
   "cell_type": "code",
   "execution_count": 6,
   "id": "8bee954c",
   "metadata": {},
   "outputs": [],
   "source": [
    "# input - list of sentences (strings) and a classla pipeline (POS tokenize or tokenize)\n",
    "# output - list of dictionaries ((POS) tokenized sentences) \n",
    "def run_through_classla_pipeline(list_of_sentences, pipeline):\n",
    "    return [pipeline(sentence).to_dict()[0][0] for sentence in list_of_sentences]"
   ]
  },
  {
   "cell_type": "code",
   "execution_count": 7,
   "id": "2500246d",
   "metadata": {},
   "outputs": [],
   "source": [
    "# input - list of dictionaries (a dictionary for each word - the tokenized version of the sentence)\n",
    "# output - list of dictionaries (dictionaries that contain punctuation one after another are squashed into one)\n",
    "def squash_punctuation(sentence):\n",
    "    new_sentence = []\n",
    "\n",
    "    for i in range(len(sentence)):\n",
    "        if sentence[i]['text'] in ',()\"[];.?!:-':\n",
    "            if len(new_sentence) > 0 and all(character in ',()\"[];.?!:-' for character in new_sentence[-1]['text']):\n",
    "                new_sentence[-1]['text'] += sentence[i]['text']\n",
    "            else:\n",
    "                new_sentence.append(sentence[i])\n",
    "        else:\n",
    "            new_sentence.append(sentence[i])\n",
    "            \n",
    "    return new_sentence"
   ]
  },
  {
   "cell_type": "code",
   "execution_count": 8,
   "id": "53f8f945",
   "metadata": {},
   "outputs": [],
   "source": [
    "# input - sentence and an index of a word (dictionary) - assigns a label to each word based on the punctuation after\n",
    "# output - a label - None for punctuation, punctuation for words followed by punctuation and empty for words if they are not\n",
    "def word2label(sentence, i):\n",
    "    if all(character in ',()\"[];.?!:-' for character in sentence[i]['text']):\n",
    "        return None\n",
    "\n",
    "    if i < len(sentence) - 1:\n",
    "        if all(character in ',()\"[];.?!:-' for character in sentence[i+1]['text']):\n",
    "            label = sentence[i+1]['text']\n",
    "            return label\n",
    "    \n",
    "    return ''"
   ]
  },
  {
   "cell_type": "code",
   "execution_count": 9,
   "id": "2ed05a5c",
   "metadata": {},
   "outputs": [],
   "source": [
    "# input - sentence (list of dictionaries)\n",
    "# output - list of labels (strings) with None labels for punctuation being filtered out\n",
    "def sent2labels(sentence):\n",
    "    return [label for label in (word2label(sentence, i) for i in range(len(sentence))) if label != None]"
   ]
  },
  {
   "cell_type": "code",
   "execution_count": 10,
   "id": "2f1f7fe8",
   "metadata": {},
   "outputs": [],
   "source": [
    "# input - list of dictionaries (a dictionary for each word - the tokenized version of the sentence)\n",
    "# output - new sentence (string) with the punctuation removed\n",
    "def remove_punctuation(sentence):\n",
    "    new_sentence = ''\n",
    "\n",
    "    for i in range(len(sentence)):\n",
    "        if all(character in ',()\"[];.?!:-' for character in sentence[i]['text']):\n",
    "            pass\n",
    "        else:\n",
    "            new_sentence = new_sentence + sentence[i]['text'] + ' '\n",
    "    \n",
    "    return new_sentence"
   ]
  },
  {
   "cell_type": "code",
   "execution_count": 11,
   "id": "5d20ba10",
   "metadata": {},
   "outputs": [],
   "source": [
    "def contains_interrogative_word(sentence):\n",
    "    for i in range(len(sentence)):\n",
    "        if sentence[i]['xpos'].startswith('Pi'):\n",
    "            return True, i\n",
    "    \n",
    "    return False, -1"
   ]
  },
  {
   "cell_type": "code",
   "execution_count": 12,
   "id": "e4c0a448",
   "metadata": {},
   "outputs": [],
   "source": [
    "def contains_interrogative_particle(sentence):\n",
    "    for i in range(len(sentence)):\n",
    "        if sentence[i]['xpos'] == 'Ti':\n",
    "            return True, i\n",
    "    \n",
    "    return False, -1"
   ]
  },
  {
   "cell_type": "code",
   "execution_count": 13,
   "id": "302c34ef",
   "metadata": {},
   "outputs": [],
   "source": [
    "def contains_imperative_verb(sentence):\n",
    "    for i in range(len(sentence)):\n",
    "        if sentence[i]['xpos'][0] == 'V' and sentence[i]['xpos'][4] == 'z':\n",
    "            return True, i\n",
    "    \n",
    "    return False, -1"
   ]
  },
  {
   "cell_type": "code",
   "execution_count": 14,
   "id": "e8ef4806",
   "metadata": {},
   "outputs": [],
   "source": [
    "def contains_relative_pronoun(sentence):\n",
    "    for i in range(len(sentence)):\n",
    "        if sentence[i]['xpos'].startswith('Pr'):\n",
    "            return True, i\n",
    "    \n",
    "    return False, -1"
   ]
  },
  {
   "cell_type": "code",
   "execution_count": 22,
   "id": "44e29b90",
   "metadata": {},
   "outputs": [],
   "source": [
    "def contains_repetitive_coord_conj_before(sentence, i):\n",
    "    for word_i in range(len(sentence)):\n",
    "        while word_i < i:\n",
    "            if sentence[word_i]['xpos'] in ('Cr', 'Cp'):\n",
    "                return True, word_i\n",
    "    \n",
    "    return False, -1"
   ]
  },
  {
   "cell_type": "code",
   "execution_count": 15,
   "id": "cdaf90e5",
   "metadata": {},
   "outputs": [],
   "source": [
    "# input - sentence (list of dictionaries) and an index of a word (dictionary)\n",
    "# output - list of dictionaries (features, for each word)\n",
    "def word2features(sentence, i):\n",
    "    sentence_contains_interrogative_word, interrogative_word_position = contains_interrogative_word(sentence)\n",
    "    sentence_contains_interrogative_particle, interrogative_particle_position = contains_interrogative_particle(sentence)\n",
    "\n",
    "    features = {\n",
    "        'word': sentence[i]['text'],\n",
    "        'sent_len': len(sentence),\n",
    "        'pos_in_sent': i,\n",
    "        'upos': sentence[i]['upos'],\n",
    "        'xpos': sentence[i]['xpos'],\n",
    "        'first_word_in_sent': sentence[0]['text'],\n",
    "        'contains_interrogative_word': sentence_contains_interrogative_word,\n",
    "        'interrogative_word_position': interrogative_word_position,\n",
    "        'contains_interrogative_particle': sentence_contains_interrogative_particle,\n",
    "        'interrogative_particle_position': interrogative_particle_position\n",
    "    }\n",
    "\n",
    "    if i > 0:\n",
    "        features.update({\n",
    "            'prev_word': sentence[i-1]['text'],\n",
    "            'prev_word_upos': sentence[i-1]['upos'],\n",
    "            'prev_word_xpos': sentence[i-1]['xpos']\n",
    "        })\n",
    "    else:\n",
    "        features.update({\n",
    "            'BOS': True\n",
    "        })\n",
    "\n",
    "    if i < len(sentence)-1:\n",
    "        features.update({\n",
    "            'next_word': sentence[i+1]['text'],\n",
    "            'next_word_upos': sentence[i+1]['upos'],\n",
    "            'next_word_xpos': sentence[i+1]['xpos']\n",
    "        })\n",
    "    else:\n",
    "        features.update({\n",
    "            'EOS': True\n",
    "        })\n",
    "        \n",
    "    if i < len(sentence)-2:\n",
    "        features.update({\n",
    "            'word_after_next_word': sentence [i+2]['text'],\n",
    "            'word_after_next_word_upos': sentence[i+2]['upos'],\n",
    "            'word_after_next_word_xpos': sentence[i+2]['xpos']\n",
    "        })\n",
    "\n",
    "    return features"
   ]
  },
  {
   "cell_type": "code",
   "execution_count": 16,
   "id": "c2a093df",
   "metadata": {},
   "outputs": [],
   "source": [
    "# input - sentence (list of dictionaries)\n",
    "# output - list of features (dictionaries, for each word)\n",
    "def sent2features(sentence):\n",
    "    return [word2features(sentence, i) for i in range(len(sentence))]"
   ]
  },
  {
   "cell_type": "code",
   "execution_count": 17,
   "id": "c0f67be1",
   "metadata": {},
   "outputs": [],
   "source": [
    "# input - JSON-serializable data and name of the output JSON file\n",
    "# output - None, saves the sentences to a JSON file\n",
    "def save_as_json(data, output_file_name):\n",
    "    with open(output_file_name, \"w\") as output_file:\n",
    "        json.dump(data, output_file) "
   ]
  },
  {
   "cell_type": "code",
   "execution_count": 18,
   "id": "a99e17f2",
   "metadata": {},
   "outputs": [],
   "source": [
    "# input - JSON file\n",
    "# output - the contents of the JSON file as an object\n",
    "def load_json(json_file_name):\n",
    "    with open(json_file_name, \"r\") as json_file:\n",
    "        return json.load(json_file)"
   ]
  },
  {
   "cell_type": "code",
   "execution_count": 19,
   "id": "14f2771f",
   "metadata": {},
   "outputs": [],
   "source": [
    "# input - name of a text file with one sentence per line and a variable indicating whether or not to save X and y to JSON\n",
    "# output - X and y - features and labels\n",
    "def data_prep(input_file_name, json_serialize=False):\n",
    "    data = read_file_as_list_of_sentences(input_file_name)\n",
    "    nlp_tokenize = classla.Pipeline('bg', processors='tokenize')\n",
    "    tokenized_data = run_through_classla_pipeline(data, nlp_tokenize)\n",
    "    \n",
    "    if len(data) != len(tokenized_data):\n",
    "        print(\"Warning: Mismatch in the count of the data and tokenized data\")\n",
    "\n",
    "    squashed_tokenized_data = [squash_punctuation(sentence) for sentence in tokenized_data]\n",
    "\n",
    "    if len(tokenized_data) != len(squashed_tokenized_data):\n",
    "        print(\"Warning: Mismatch in the count of the tokenized and squashed tokenized data\")\n",
    "    \n",
    "    y = [sent2labels(sentence) for sentence in squashed_tokenized_data]\n",
    "    \n",
    "    if len(squashed_tokenized_data) != len(y):\n",
    "        print(\"Warning: Mismatch in the count of the squashed tokenized data and labeled data\")\n",
    "    \n",
    "    data_without_punctuation = [remove_punctuation(sentence) for sentence in squashed_tokenized_data]\n",
    "    \n",
    "    if len(data_without_punctuation) != len(y):\n",
    "        print(\"Warning: Mismatch in the count of the data without punctuation and labeled data\")\n",
    "    \n",
    "    nlp_pos_tokenize = classla.Pipeline('bg', processors='tokenize,pos')   \n",
    "    pos_tokenized_data = run_through_classla_pipeline(data_without_punctuation, nlp_pos_tokenize)\n",
    "    \n",
    "    if len(data_without_punctuation) != len(pos_tokenized_data):\n",
    "        print(\"Warning: Mismatch in the count of the data without punctuation and POS tokenized data\")\n",
    "    \n",
    "    X = [sent2features(sentence) for sentence in pos_tokenized_data]\n",
    "    \n",
    "    if len(X) != len(pos_tokenized_data):\n",
    "        print(\"Warning: Mismatch in the count of the prepped data and POS tokenized data\")\n",
    "    \n",
    "    if json_serialize:\n",
    "        save_as_json(X, re.sub('\\.txt', '_X.json', input_file_name))\n",
    "        save_as_json(y, re.sub('\\.txt', '_y.json', input_file_name))\n",
    "        \n",
    "    return X, y"
   ]
  },
  {
   "cell_type": "code",
   "execution_count": 20,
   "id": "e0b29aaf",
   "metadata": {},
   "outputs": [],
   "source": [
    "# input - X and y - features and labels\n",
    "# output - None, prints on the screen the features-labels pairs that have length mismatch\n",
    "def verify_prepped_data(X, y):\n",
    "    for feat, label in zip(X, y):\n",
    "        if len(feat) != len(label):\n",
    "            print(feat, label)"
   ]
  },
  {
   "cell_type": "code",
   "execution_count": 21,
   "id": "eacf6b48",
   "metadata": {},
   "outputs": [],
   "source": [
    "# input - X and y - features and labels\n",
    "# output - list of punctuated sentences (strings; y labels applied to X)\n",
    "def punctuate(X, y):\n",
    "    punctuated_sentences = []\n",
    "\n",
    "    for feat, label in zip(X, y):\n",
    "        sentence = ''\n",
    "\n",
    "        for i in range(len(feat)):\n",
    "            sentence = sentence + feat[i]['word'] + label[i] + ' '\n",
    "        \n",
    "        punctuated_sentences.append(sentence.rstrip())\n",
    "    \n",
    "    return punctuated_sentences"
   ]
  },
  {
   "cell_type": "markdown",
   "id": "2c4cb81a",
   "metadata": {},
   "source": [
    "### Data Prep"
   ]
  },
  {
   "cell_type": "code",
   "execution_count": 23,
   "id": "ccfe02a2",
   "metadata": {},
   "outputs": [
    {
     "name": "stderr",
     "output_type": "stream",
     "text": [
      "2021-09-28 15:09:41 INFO: Loading these models for language: bg (Bulgarian):\n",
      "========================\n",
      "| Processor | Package  |\n",
      "------------------------\n",
      "| tokenize  | standard |\n",
      "========================\n",
      "\n",
      "2021-09-28 15:09:41 INFO: Use device: gpu\n",
      "2021-09-28 15:09:41 INFO: Loading: tokenize\n",
      "2021-09-28 15:09:41 INFO: Done loading processors!\n",
      "2021-09-28 15:10:02 INFO: Loading these models for language: bg (Bulgarian):\n",
      "========================\n",
      "| Processor | Package  |\n",
      "------------------------\n",
      "| tokenize  | standard |\n",
      "| pos       | standard |\n",
      "========================\n",
      "\n",
      "2021-09-28 15:10:02 INFO: Use device: gpu\n",
      "2021-09-28 15:10:02 INFO: Loading: tokenize\n",
      "2021-09-28 15:10:02 INFO: Loading: pos\n",
      "2021-09-28 15:10:08 INFO: Done loading processors!\n"
     ]
    },
    {
     "name": "stdout",
     "output_type": "stream",
     "text": [
      "CPU times: user 23min 47s, sys: 3.55 s, total: 23min 51s\n",
      "Wall time: 23min 50s\n"
     ]
    }
   ],
   "source": [
    "%%time\n",
    "X_train, y_train = data_prep('../data/Train.txt')"
   ]
  },
  {
   "cell_type": "code",
   "execution_count": 19,
   "id": "cb210480",
   "metadata": {},
   "outputs": [],
   "source": [
    "verify_prepped_data(X_train, y_train)"
   ]
  },
  {
   "cell_type": "code",
   "execution_count": 26,
   "id": "a8ff7528",
   "metadata": {},
   "outputs": [
    {
     "name": "stderr",
     "output_type": "stream",
     "text": [
      "2021-09-28 16:53:08 INFO: Loading these models for language: bg (Bulgarian):\n",
      "========================\n",
      "| Processor | Package  |\n",
      "------------------------\n",
      "| tokenize  | standard |\n",
      "========================\n",
      "\n",
      "2021-09-28 16:53:08 INFO: Use device: gpu\n",
      "2021-09-28 16:53:08 INFO: Loading: tokenize\n",
      "2021-09-28 16:53:08 INFO: Done loading processors!\n",
      "2021-09-28 16:53:16 INFO: Loading these models for language: bg (Bulgarian):\n",
      "========================\n",
      "| Processor | Package  |\n",
      "------------------------\n",
      "| tokenize  | standard |\n",
      "| pos       | standard |\n",
      "========================\n",
      "\n",
      "2021-09-28 16:53:16 INFO: Use device: gpu\n",
      "2021-09-28 16:53:16 INFO: Loading: tokenize\n",
      "2021-09-28 16:53:16 INFO: Loading: pos\n",
      "2021-09-28 16:53:17 INFO: Done loading processors!\n"
     ]
    },
    {
     "name": "stdout",
     "output_type": "stream",
     "text": [
      "CPU times: user 11min 46s, sys: 1.19 s, total: 11min 47s\n",
      "Wall time: 11min 46s\n"
     ]
    }
   ],
   "source": [
    "%%time\n",
    "X_dev, y_dev = data_prep('../data/Dev.txt')"
   ]
  },
  {
   "cell_type": "code",
   "execution_count": 21,
   "id": "8ca1566b",
   "metadata": {},
   "outputs": [],
   "source": [
    "verify_prepped_data(X_dev, y_dev)"
   ]
  },
  {
   "cell_type": "markdown",
   "id": "3dad520b",
   "metadata": {},
   "source": [
    "### CRF Model"
   ]
  },
  {
   "cell_type": "code",
   "execution_count": 24,
   "id": "1b055193",
   "metadata": {},
   "outputs": [
    {
     "name": "stdout",
     "output_type": "stream",
     "text": [
      "CPU times: user 48min 25s, sys: 2.73 s, total: 48min 28s\n",
      "Wall time: 48min 21s\n"
     ]
    }
   ],
   "source": [
    "%%time\n",
    "crf = sklearn_crfsuite.CRF(\n",
    "    algorithm='lbfgs',\n",
    "    c1=0.1,\n",
    "    c2=0.1,\n",
    "    max_iterations=100,\n",
    "    all_possible_transitions=True\n",
    ")\n",
    "crf.fit(X_train, y_train)"
   ]
  },
  {
   "cell_type": "code",
   "execution_count": 27,
   "id": "a0f0c375",
   "metadata": {},
   "outputs": [],
   "source": [
    "labels = list(crf.classes_)"
   ]
  },
  {
   "cell_type": "code",
   "execution_count": 28,
   "id": "80536204",
   "metadata": {},
   "outputs": [
    {
     "data": {
      "text/plain": [
       "['',\n",
       " ':',\n",
       " '!',\n",
       " ',',\n",
       " '?',\n",
       " ';',\n",
       " '.',\n",
       " '-',\n",
       " ',(',\n",
       " '\"',\n",
       " '\").',\n",
       " '(',\n",
       " ')',\n",
       " '?-',\n",
       " '.-',\n",
       " ':)',\n",
       " '!-',\n",
       " ':\"',\n",
       " '.\"',\n",
       " ':(',\n",
       " '?)',\n",
       " '\"?',\n",
       " '\".',\n",
       " '\";',\n",
       " '\"-',\n",
       " ').',\n",
       " '!,',\n",
       " '-\"',\n",
       " ')!',\n",
       " '\",',\n",
       " '.\")',\n",
       " '!;',\n",
       " ';(',\n",
       " '),',\n",
       " '?;',\n",
       " '?\"',\n",
       " ');',\n",
       " '.)',\n",
       " '?,',\n",
       " ';\"',\n",
       " '):',\n",
       " '[',\n",
       " ']',\n",
       " '...',\n",
       " '],',\n",
       " '\"(',\n",
       " ',[',\n",
       " ',\"',\n",
       " ']\",',\n",
       " ')-',\n",
       " '\":',\n",
       " '(\"',\n",
       " '\"),',\n",
       " '\"-[',\n",
       " '...,',\n",
       " '\")',\n",
       " '..',\n",
       " '\",\"',\n",
       " '?\".',\n",
       " '\"[',\n",
       " '\"(\"',\n",
       " '),\"',\n",
       " '\"\"',\n",
       " '-.',\n",
       " '.,',\n",
       " '].',\n",
       " ')\"',\n",
       " '!\"',\n",
       " '?\"-',\n",
       " '\":\"',\n",
       " '):\"',\n",
       " '\")-',\n",
       " '\"-\"',\n",
       " '-,',\n",
       " ')\".',\n",
       " '?\",',\n",
       " ']\".',\n",
       " '!\",',\n",
       " ']?',\n",
       " '...[',\n",
       " '];',\n",
       " '...\".',\n",
       " '!\"-',\n",
       " '\"!',\n",
       " '!\".',\n",
       " '!?',\n",
       " '?!',\n",
       " ',-',\n",
       " '!...',\n",
       " '!).',\n",
       " ')?',\n",
       " '?...',\n",
       " '.?']"
      ]
     },
     "execution_count": 28,
     "metadata": {},
     "output_type": "execute_result"
    }
   ],
   "source": [
    "labels"
   ]
  },
  {
   "cell_type": "code",
   "execution_count": 29,
   "id": "4675c932",
   "metadata": {},
   "outputs": [],
   "source": [
    "y_pred = crf.predict(X_dev)"
   ]
  },
  {
   "cell_type": "code",
   "execution_count": 30,
   "id": "c123899d",
   "metadata": {},
   "outputs": [
    {
     "name": "stderr",
     "output_type": "stream",
     "text": [
      "/home/mariya/anaconda3/envs/masters/lib/python3.6/site-packages/sklearn/metrics/_classification.py:1465: UndefinedMetricWarning: F-score is ill-defined and being set to 0.0 in labels with no true nor predicted samples. Use `zero_division` parameter to control this behavior.\n",
      "  average, \"true nor predicted\", 'F-score is', len(true_sum)\n"
     ]
    },
    {
     "data": {
      "text/plain": [
       "0.8866900230240949"
      ]
     },
     "execution_count": 30,
     "metadata": {},
     "output_type": "execute_result"
    }
   ],
   "source": [
    "metrics.flat_f1_score(y_dev, y_pred,\n",
    "                      average='weighted', labels=labels)"
   ]
  },
  {
   "cell_type": "code",
   "execution_count": 31,
   "id": "968347ff",
   "metadata": {},
   "outputs": [
    {
     "name": "stderr",
     "output_type": "stream",
     "text": [
      "/home/mariya/anaconda3/envs/masters/lib/python3.6/site-packages/sklearn/utils/validation.py:70: FutureWarning: Pass labels=['', ':', '!', ',', '?', ';', '.', '-', ',(', '\"', '\").', '(', ')', '?-', '.-', ':)', '!-', ':\"', '.\"', ':(', '?)', '\"?', '\".', '\";', '\"-', ').', '!,', '-\"', ')!', '\",', '.\")', '!;', ';(', '),', '?;', '?\"', ');', '.)', '?,', ';\"', '):', '[', ']', '...', '],', '\"(', ',[', ',\"', ']\",', ')-', '\":', '(\"', '\"),', '\"-[', '...,', '\")', '..', '\",\"', '?\".', '\"[', '\"(\"', '),\"', '\"\"', '-.', '.,', '].', ')\"', '!\"', '?\"-', '\":\"', '):\"', '\")-', '\"-\"', '-,', ')\".', '?\",', ']\".', '!\",', ']?', '...[', '];', '...\".', '!\"-', '\"!', '!\".', '!?', '?!', ',-', '!...', '!).', ')?', '?...', '.?'] as keyword args. From version 0.25 passing these as positional arguments will result in an error\n",
      "  FutureWarning)\n",
      "/home/mariya/anaconda3/envs/masters/lib/python3.6/site-packages/sklearn/metrics/_classification.py:1221: UndefinedMetricWarning: Precision and F-score are ill-defined and being set to 0.0 in labels with no predicted samples. Use `zero_division` parameter to control this behavior.\n",
      "  _warn_prf(average, modifier, msg_start, len(result))\n",
      "/home/mariya/anaconda3/envs/masters/lib/python3.6/site-packages/sklearn/metrics/_classification.py:1221: UndefinedMetricWarning: Recall and F-score are ill-defined and being set to 0.0 in labels with no true samples. Use `zero_division` parameter to control this behavior.\n",
      "  _warn_prf(average, modifier, msg_start, len(result))\n"
     ]
    },
    {
     "name": "stdout",
     "output_type": "stream",
     "text": [
      "              precision    recall  f1-score   support\n",
      "\n",
      "                  0.926     0.970     0.948    227825\n",
      "           :      0.704     0.476     0.568       923\n",
      "           !      0.552     0.245     0.339       347\n",
      "           ,      0.452     0.298     0.359     18592\n",
      "           ?      0.892     0.747     0.813       443\n",
      "           ;      0.128     0.018     0.031       622\n",
      "           .      0.923     0.985     0.953     11401\n",
      "           -      0.484     0.051     0.092       882\n",
      "          ,(      0.000     0.000     0.000         5\n",
      "           \"      0.276     0.034     0.061      1596\n",
      "         \").      0.000     0.000     0.000         0\n",
      "           (      0.854     0.723     0.783      1656\n",
      "           )      0.696     0.576     0.631      1001\n",
      "          ?-      0.000     0.000     0.000         4\n",
      "          .-      0.000     0.000     0.000         2\n",
      "          :)      0.000     0.000     0.000         0\n",
      "          !-      0.000     0.000     0.000        20\n",
      "          :\"      1.000     0.015     0.029        67\n",
      "          .\"      0.000     0.000     0.000        23\n",
      "          :(      0.000     0.000     0.000         1\n",
      "          ?)      0.000     0.000     0.000         0\n",
      "          \"?      0.000     0.000     0.000         1\n",
      "          \".      0.325     0.044     0.078       293\n",
      "          \";      0.000     0.000     0.000         5\n",
      "          \"-      0.000     0.000     0.000        28\n",
      "          ).      0.929     0.576     0.711       271\n",
      "          !,      0.000     0.000     0.000         0\n",
      "          -\"      0.000     0.000     0.000         7\n",
      "          )!      0.000     0.000     0.000         1\n",
      "          \",      0.494     0.206     0.291       829\n",
      "         .\")      0.000     0.000     0.000         1\n",
      "          !;      0.000     0.000     0.000         1\n",
      "          ;(      0.000     0.000     0.000         0\n",
      "          ),      0.617     0.381     0.471       381\n",
      "          ?;      0.000     0.000     0.000         0\n",
      "          ?\"      0.000     0.000     0.000         0\n",
      "          );      0.000     0.000     0.000         0\n",
      "          .)      0.000     0.000     0.000         1\n",
      "          ?,      0.000     0.000     0.000         1\n",
      "          ;\"      0.000     0.000     0.000         0\n",
      "          ):      0.875     0.636     0.737        11\n",
      "           [      0.000     0.000     0.000        45\n",
      "           ]      0.000     0.000     0.000        43\n",
      "         ...      0.000     0.000     0.000        61\n",
      "          ],      0.000     0.000     0.000         3\n",
      "          \"(      0.800     0.129     0.222        31\n",
      "          ,[      0.000     0.000     0.000         1\n",
      "          ,\"      0.000     0.000     0.000        44\n",
      "         ]\",      0.000     0.000     0.000         5\n",
      "          )-      0.000     0.000     0.000        17\n",
      "          \":      0.000     0.000     0.000         0\n",
      "          (\"      0.000     0.000     0.000         0\n",
      "         \"),      0.000     0.000     0.000         1\n",
      "         \"-[      0.000     0.000     0.000         0\n",
      "        ...,      0.000     0.000     0.000         3\n",
      "          \")      0.000     0.000     0.000         2\n",
      "          ..      0.000     0.000     0.000         3\n",
      "         \",\"      0.000     0.000     0.000        10\n",
      "         ?\".      0.000     0.000     0.000         2\n",
      "          \"[      0.000     0.000     0.000         0\n",
      "         \"(\"      0.000     0.000     0.000         2\n",
      "         ),\"      0.000     0.000     0.000         2\n",
      "          \"\"      0.000     0.000     0.000         2\n",
      "          -.      0.000     0.000     0.000         0\n",
      "          .,      0.000     0.000     0.000         0\n",
      "          ].      0.000     0.000     0.000         2\n",
      "          )\"      0.000     0.000     0.000         0\n",
      "          !\"      0.000     0.000     0.000         0\n",
      "         ?\"-      0.000     0.000     0.000         2\n",
      "         \":\"      0.000     0.000     0.000         1\n",
      "         ):\"      0.000     0.000     0.000         0\n",
      "         \")-      0.000     0.000     0.000         1\n",
      "         \"-\"      0.000     0.000     0.000         0\n",
      "          -,      0.000     0.000     0.000         1\n",
      "         )\".      0.000     0.000     0.000         1\n",
      "         ?\",      0.000     0.000     0.000         1\n",
      "         ]\".      0.000     0.000     0.000         0\n",
      "         !\",      0.000     0.000     0.000         1\n",
      "          ]?      0.000     0.000     0.000         0\n",
      "        ...[      0.000     0.000     0.000         2\n",
      "          ];      0.000     0.000     0.000         0\n",
      "       ...\".      0.000     0.000     0.000         0\n",
      "         !\"-      0.000     0.000     0.000         2\n",
      "          \"!      0.000     0.000     0.000         0\n",
      "         !\".      0.000     0.000     0.000         3\n",
      "          !?      0.000     0.000     0.000         0\n",
      "          ?!      0.000     0.000     0.000         0\n",
      "          ,-      0.000     0.000     0.000         4\n",
      "        !...      0.000     0.000     0.000         1\n",
      "         !).      0.000     0.000     0.000         0\n",
      "          )?      0.000     0.000     0.000         3\n",
      "        ?...      0.000     0.000     0.000         0\n",
      "          .?      0.000     0.000     0.000         0\n",
      "\n",
      "   micro avg      0.901     0.901     0.901    267543\n",
      "   macro avg      0.128     0.076     0.087    267543\n",
      "weighted avg      0.880     0.901     0.887    267543\n",
      "\n"
     ]
    }
   ],
   "source": [
    "# show all metrics\n",
    "# sorted_labels = sorted(\n",
    "#     labels,\n",
    "#     key=lambda name: (name[1:], name[0])\n",
    "# )\n",
    "print(metrics.flat_classification_report(\n",
    "    y_dev, y_pred, labels=labels, digits=3\n",
    "))"
   ]
  },
  {
   "cell_type": "code",
   "execution_count": 32,
   "id": "392346a7",
   "metadata": {},
   "outputs": [],
   "source": [
    "labels.remove('')"
   ]
  },
  {
   "cell_type": "code",
   "execution_count": 33,
   "id": "da36fe71",
   "metadata": {},
   "outputs": [],
   "source": [
    "y_pred = crf.predict(X_dev)"
   ]
  },
  {
   "cell_type": "code",
   "execution_count": 34,
   "id": "30bb1d0d",
   "metadata": {},
   "outputs": [
    {
     "name": "stderr",
     "output_type": "stream",
     "text": [
      "/home/mariya/anaconda3/envs/masters/lib/python3.6/site-packages/sklearn/metrics/_classification.py:1465: UndefinedMetricWarning: F-score is ill-defined and being set to 0.0 in labels with no true nor predicted samples. Use `zero_division` parameter to control this behavior.\n",
      "  average, \"true nor predicted\", 'F-score is', len(true_sum)\n"
     ]
    },
    {
     "data": {
      "text/plain": [
       "0.5366036058465298"
      ]
     },
     "execution_count": 34,
     "metadata": {},
     "output_type": "execute_result"
    }
   ],
   "source": [
    "metrics.flat_f1_score(y_dev, y_pred,\n",
    "                      average='weighted', labels=labels)"
   ]
  },
  {
   "cell_type": "code",
   "execution_count": 35,
   "id": "b777efe4",
   "metadata": {},
   "outputs": [
    {
     "name": "stderr",
     "output_type": "stream",
     "text": [
      "/home/mariya/anaconda3/envs/masters/lib/python3.6/site-packages/sklearn/utils/validation.py:70: FutureWarning: Pass labels=[':', '!', ',', '?', ';', '.', '-', ',(', '\"', '\").', '(', ')', '?-', '.-', ':)', '!-', ':\"', '.\"', ':(', '?)', '\"?', '\".', '\";', '\"-', ').', '!,', '-\"', ')!', '\",', '.\")', '!;', ';(', '),', '?;', '?\"', ');', '.)', '?,', ';\"', '):', '[', ']', '...', '],', '\"(', ',[', ',\"', ']\",', ')-', '\":', '(\"', '\"),', '\"-[', '...,', '\")', '..', '\",\"', '?\".', '\"[', '\"(\"', '),\"', '\"\"', '-.', '.,', '].', ')\"', '!\"', '?\"-', '\":\"', '):\"', '\")-', '\"-\"', '-,', ')\".', '?\",', ']\".', '!\",', ']?', '...[', '];', '...\".', '!\"-', '\"!', '!\".', '!?', '?!', ',-', '!...', '!).', ')?', '?...', '.?'] as keyword args. From version 0.25 passing these as positional arguments will result in an error\n",
      "  FutureWarning)\n",
      "/home/mariya/anaconda3/envs/masters/lib/python3.6/site-packages/sklearn/metrics/_classification.py:1221: UndefinedMetricWarning: Precision and F-score are ill-defined and being set to 0.0 in labels with no predicted samples. Use `zero_division` parameter to control this behavior.\n",
      "  _warn_prf(average, modifier, msg_start, len(result))\n",
      "/home/mariya/anaconda3/envs/masters/lib/python3.6/site-packages/sklearn/metrics/_classification.py:1221: UndefinedMetricWarning: Recall and F-score are ill-defined and being set to 0.0 in labels with no true samples. Use `zero_division` parameter to control this behavior.\n",
      "  _warn_prf(average, modifier, msg_start, len(result))\n"
     ]
    },
    {
     "name": "stdout",
     "output_type": "stream",
     "text": [
      "              precision    recall  f1-score   support\n",
      "\n",
      "           :      0.704     0.476     0.568       923\n",
      "           !      0.552     0.245     0.339       347\n",
      "           ,      0.452     0.298     0.359     18592\n",
      "           ?      0.892     0.747     0.813       443\n",
      "           ;      0.128     0.018     0.031       622\n",
      "           .      0.923     0.985     0.953     11401\n",
      "           -      0.484     0.051     0.092       882\n",
      "          ,(      0.000     0.000     0.000         5\n",
      "           \"      0.276     0.034     0.061      1596\n",
      "         \").      0.000     0.000     0.000         0\n",
      "           (      0.854     0.723     0.783      1656\n",
      "           )      0.696     0.576     0.631      1001\n",
      "          ?-      0.000     0.000     0.000         4\n",
      "          .-      0.000     0.000     0.000         2\n",
      "          :)      0.000     0.000     0.000         0\n",
      "          !-      0.000     0.000     0.000        20\n",
      "          :\"      1.000     0.015     0.029        67\n",
      "          .\"      0.000     0.000     0.000        23\n",
      "          :(      0.000     0.000     0.000         1\n",
      "          ?)      0.000     0.000     0.000         0\n",
      "          \"?      0.000     0.000     0.000         1\n",
      "          \".      0.325     0.044     0.078       293\n",
      "          \";      0.000     0.000     0.000         5\n",
      "          \"-      0.000     0.000     0.000        28\n",
      "          ).      0.929     0.576     0.711       271\n",
      "          !,      0.000     0.000     0.000         0\n",
      "          -\"      0.000     0.000     0.000         7\n",
      "          )!      0.000     0.000     0.000         1\n",
      "          \",      0.494     0.206     0.291       829\n",
      "         .\")      0.000     0.000     0.000         1\n",
      "          !;      0.000     0.000     0.000         1\n",
      "          ;(      0.000     0.000     0.000         0\n",
      "          ),      0.617     0.381     0.471       381\n",
      "          ?;      0.000     0.000     0.000         0\n",
      "          ?\"      0.000     0.000     0.000         0\n",
      "          );      0.000     0.000     0.000         0\n",
      "          .)      0.000     0.000     0.000         1\n",
      "          ?,      0.000     0.000     0.000         1\n",
      "          ;\"      0.000     0.000     0.000         0\n",
      "          ):      0.875     0.636     0.737        11\n",
      "           [      0.000     0.000     0.000        45\n",
      "           ]      0.000     0.000     0.000        43\n",
      "         ...      0.000     0.000     0.000        61\n",
      "          ],      0.000     0.000     0.000         3\n",
      "          \"(      0.800     0.129     0.222        31\n",
      "          ,[      0.000     0.000     0.000         1\n",
      "          ,\"      0.000     0.000     0.000        44\n",
      "         ]\",      0.000     0.000     0.000         5\n",
      "          )-      0.000     0.000     0.000        17\n",
      "          \":      0.000     0.000     0.000         0\n",
      "          (\"      0.000     0.000     0.000         0\n",
      "         \"),      0.000     0.000     0.000         1\n",
      "         \"-[      0.000     0.000     0.000         0\n",
      "        ...,      0.000     0.000     0.000         3\n",
      "          \")      0.000     0.000     0.000         2\n",
      "          ..      0.000     0.000     0.000         3\n",
      "         \",\"      0.000     0.000     0.000        10\n",
      "         ?\".      0.000     0.000     0.000         2\n",
      "          \"[      0.000     0.000     0.000         0\n",
      "         \"(\"      0.000     0.000     0.000         2\n",
      "         ),\"      0.000     0.000     0.000         2\n",
      "          \"\"      0.000     0.000     0.000         2\n",
      "          -.      0.000     0.000     0.000         0\n",
      "          .,      0.000     0.000     0.000         0\n",
      "          ].      0.000     0.000     0.000         2\n",
      "          )\"      0.000     0.000     0.000         0\n",
      "          !\"      0.000     0.000     0.000         0\n",
      "         ?\"-      0.000     0.000     0.000         2\n",
      "         \":\"      0.000     0.000     0.000         1\n",
      "         ):\"      0.000     0.000     0.000         0\n",
      "         \")-      0.000     0.000     0.000         1\n",
      "         \"-\"      0.000     0.000     0.000         0\n",
      "          -,      0.000     0.000     0.000         1\n",
      "         )\".      0.000     0.000     0.000         1\n",
      "         ?\",      0.000     0.000     0.000         1\n",
      "         ]\".      0.000     0.000     0.000         0\n",
      "         !\",      0.000     0.000     0.000         1\n",
      "          ]?      0.000     0.000     0.000         0\n",
      "        ...[      0.000     0.000     0.000         2\n",
      "          ];      0.000     0.000     0.000         0\n",
      "       ...\".      0.000     0.000     0.000         0\n",
      "         !\"-      0.000     0.000     0.000         2\n",
      "          \"!      0.000     0.000     0.000         0\n",
      "         !\".      0.000     0.000     0.000         3\n",
      "          !?      0.000     0.000     0.000         0\n",
      "          ?!      0.000     0.000     0.000         0\n",
      "          ,-      0.000     0.000     0.000         4\n",
      "        !...      0.000     0.000     0.000         1\n",
      "         !).      0.000     0.000     0.000         0\n",
      "          )?      0.000     0.000     0.000         3\n",
      "        ?...      0.000     0.000     0.000         0\n",
      "          .?      0.000     0.000     0.000         0\n",
      "\n",
      "   micro avg      0.690     0.503     0.582     39718\n",
      "   macro avg      0.120     0.067     0.078     39718\n",
      "weighted avg      0.612     0.503     0.537     39718\n",
      "\n"
     ]
    }
   ],
   "source": [
    "print(metrics.flat_classification_report(\n",
    "    y_dev, y_pred, labels=labels, digits=3\n",
    "))"
   ]
  },
  {
   "cell_type": "code",
   "execution_count": 31,
   "id": "3e6ca8bd",
   "metadata": {},
   "outputs": [],
   "source": [
    "punctuated_sentences = punctuate(X_dev, y_pred)"
   ]
  },
  {
   "cell_type": "code",
   "execution_count": 33,
   "id": "a8e22e42",
   "metadata": {},
   "outputs": [
    {
     "data": {
      "text/plain": [
       "['Но синовете им не умъртви, защото постъпи според писаното в закона в книгата на Мойсей, където ГОСПОД заповяда и каза: Бащите да не умират заради синовете и синовете да не умират заради бащите, а всеки да умира за собствения си грях.',\n",
       " 'Но когато ти говоря ще отворя устата ти и ти им кажи: Така казва Господ БОГ: Който слуша, нека слуша, а който не слуша нека не слуша, защото са бунтовен дом.',\n",
       " 'Защото кой е по-голям този, който седи на трапезата ли или онзи, който слугува?',\n",
       " 'А след това ще се насели, както в предишните дни, заявява ГОСПОД.',\n",
       " 'А Той беше на задната част, заспал на възглавница.',\n",
       " 'Ефрем е като птица славата му ще отлети.',\n",
       " 'И така той си отиде от него на известно разстояние.',\n",
       " 'Не бягам при халдейците!',\n",
       " 'И израилевите синове излязоха от египетската земя, строени.',\n",
       " 'А когато Ахитофел видя, че съветът му не се изпълни оседла магарето си и стана и отиде у дома си в своя град и нареди домашните си работи и се обеси.',\n",
       " 'Ако умре някое животно от добитъка, който можете да ядете, който се допре до мършата му, ще бъде нечист до вечерта.',\n",
       " 'Но помощник съответен на Адам не се намери.',\n",
       " 'Който задържа жито, народът ще го проклина, а благословение ще почива на главата на този, който го продава.',\n",
       " 'Този човек беше праведен и благочестив и чакаше Утехата на Израил и Светият Дух беше на него.',\n",
       " 'Всичко е възможно за този, който вярва.',\n",
       " 'И видях височината на дома околовръст, основите на страничните стаи бяха една цяла тръстика от шест големи лакътя.',\n",
       " 'После да вземеш тлъстината на овена, опашката и тлъстината, която покрива вътрешностите, булото на дроба, двата бъбрека с тлъстината, която е около тях и дясното бедро, защото е овен на посвещение и един хляб, една пита хляб, месен с маслинено масло и една кора от коша на безквасните хлябове, които са пред ГОСПОДА.',\n",
       " 'И от дима излязоха скакалци по земята и им се даде власт като властта, която имат земните скорпиони.',\n",
       " 'Ти си, ГОСПОДИ, само Ти.',\n",
       " 'И ще предаде Израил заради греховете на Еровоам, с които съгреши и с които въведе Израил в грях.',\n",
       " 'Синове на Елифаз: Теман и Омар, Сефи и Готом Кенез, и Тамна и Амалик.',\n",
       " 'А гладът в Самария беше страшен.',\n",
       " 'Затова казах в сърцето си, че и това е суета.',\n",
       " 'Насладих се на сянката му и седнах и плодът му бе сладък в устата ми.',\n",
       " 'Защото така ми каза: ГОСПОД, Както ръмжи над лова си, лъвът младият лъв, срещу когото се свикват множество овчари и не се плаши от гласа им, и не се отдръпва пред шума им, така ГОСПОД на Войнствата, ще слезе за да воюва за хълма Сион и за неговото възвишение.',\n",
       " 'Отче, свети, опази ги в Името Си, което си Ми дал, за да бъдат едно, както сме и Ние.',\n",
       " 'И да правите разлика между чистите животни и нечистите и между нечистите птици и чистите и да не осквернявате себе си с животно, или с птица или с каквото и да е, което пълзи по земята, което Аз съм ви отделил като нечисто.',\n",
       " 'И ГОСПОД укрепи моавския цар Еглон против Израил, защото вършиха зло пред ГОСПОДА.',\n",
       " 'И Духът ми каза: да отида с тях, без да се двоумя.',\n",
       " 'В двадесет и седмата година на израилевия цар Еровоам се възцари Азария, синът на юдовия цар Амасия.',\n",
       " 'Защото вашата послушност е известна на всички; затова се радвам за вас.',\n",
       " 'Той изтегля всички с въдица влачи ги в мрежата си и ги събира в рибарската си мрежа, затова се радва и се весели.',\n",
       " 'Благословен да е ГОСПОД Бог Богът на Израил, който единствен върши чудеса.',\n",
       " 'И които влязоха мъжко и женско от всяка плът влязоха, както Бог му беше заповядал и ГОСПОД затвори след него.',\n",
       " 'Тогава царят каза на Божия човек: Ела с мен у дома и се подкрепи и ще ти дам подарък.',\n",
       " 'И ето, въпреки че е посадена ще успее ли?',\n",
       " 'От дома Тогарма, даваха за стоките ти коне бойни коне и мулета.',\n",
       " 'Затова заповядай гробът да се пази здраво до третия ден да не би учениците Му да дойдат и да Го откраднат и да кажат на народа Възкръсна от мъртвите.',\n",
       " 'И когато отвори петия печат, видях под олтара душите на онези, които са били заклани за Божието слово и за свидетелството, което държаха.',\n",
       " 'И свещениците, които служат на ГОСПОДА са синовете на Аарон и левитите са в службата.',\n",
       " 'Той тича след тях с умолителни думи, но тях ги няма.',\n",
       " 'И измери дължината му четиридесет лакътя и ширината му- двадесет лакътя.',\n",
       " 'Затова, така казва ГОСПОД: Бог на Войнствата, Израилевият Бог: Ето, Аз ще докарам върху Юда и върху всичките ерусалимски жители цялото зло, което говорих против тях, защото им говорих, но не слушаха и ги виках, но не отговаряха.',\n",
       " 'Сине мой, слушай наставлението на баща си и не отхвърляй закона на майка си, защото те ще бъдат благодатен венец за главата ти и огърлица за шията ти.',\n",
       " 'Тогава облакът започна да се издига от града в димен стълб и Вениамин се обърна и ето, целият град се издигаше в пламъци към небето.',\n",
       " 'В онзи ден няма да се срамуваш от всичките си дела, с които си отстъпил от Мен, защото тогава ще отнема отсред теб, твоите, които горделиво тържествуват и ти няма вече да се държиш надменно на светия Ми хълм.',\n",
       " 'А свинарите, като видяха станалото, избягаха и разказаха за това в града и в селата.',\n",
       " 'И Илий благослови Елкана и жена му и каза: ГОСПОД да ти даде потомство от тази жена вместо заетото, което беше посветено на ГОСПОДА.',\n",
       " 'И ако живее във вас, Духът на Този, който възкреси Иисус от мъртвите, то Този, който възкреси Христос от мъртвите ще съживи и вашите смъртни тела чрез Духа Си, който живее във вас.',\n",
       " 'А ГОСПОД си извърши, както беше говорил чрез мен и ГОСПОД откъсна царството от ръката ти и го даде на ближния ти на Давид.',\n",
       " 'Даде и храна, за магаретата им.',\n",
       " 'Книгата на видението на елкусеянина Наум.',\n",
       " 'И направи олтара за всеизгаряне от акациево дърво, пет лакътя беше дължината му и пет лакътя беше ширината му, четвъртит и три лакътя беше височината му.',\n",
       " 'Те ми казаха: Направи ни богове, които да ходят пред нас, защото на този Мойсей човека, който ни изведе от египетската земя не знаем какво му стана.',\n",
       " 'Тогава Мардохей каза да отговорят на Естир: Не мисли в себе си, че от всичките юдеи, само ти ще се избавиш в царския дом.',\n",
       " 'Но аз не бих познал греха, освен чрез закона, защото не бих знаел пожелание, ако законът не беше казал: Не пожелавай.',\n",
       " 'Тогава народът Му си спомни за древните дни на Мойсей: Къде е Онзи, който ги изведе от морето с пастирите на стадото Си?',\n",
       " 'И три пъти в годината Соломон принасяше всеизгаряния и примирителни жертви върху олтара, който построи на ГОСПОДА и кадеше върху олтара, който беше пред ГОСПОДА.',\n",
       " 'И след като им поставиха старейшини във всяка църква и се помолиха с пост ги препоръчаха на Господа, в когото бяха повярвали.',\n",
       " 'С нея Той подейства в Христос, като Го възкреси от мъртвите и Го сложи да седне от дясната Си страна на небесата далеч над всяко началство и власт и сила и господство и всяко име, с което се наименуват не само в този свят, но и в бъдещия.',\n",
       " 'Стрелец срещу стрелец да опъва лъка си и срещу онзи, който се надига в бронята си.',\n",
       " 'Затова онази нива е, наречена и до днес Кръвна нива.',\n",
       " 'И така слугите на цар Езекия отидоха при Исая.',\n",
       " 'И никой свещеник да не пие вино, когато влиза във вътрешния двор.',\n",
       " 'И Охозия, падна през решетката на горната си стая в Самария и се разболя.',\n",
       " 'Защо не разбирате Моето говорене?',\n",
       " 'А Лаван в отговор каза на Яков Тези дъщери са мои дъщери; и синовете са мои синове и стадата са мои стада.',\n",
       " 'А чуждият, който се приближи да се умъртви.',\n",
       " 'И двамата сина на Илий- Офний и Финеес, бяха там с ковчега на Божия завет.',\n",
       " 'Иисус му каза: Лисиците си имат леговища и небесните птици гнезда, а Човешкият Син няма къде глава да подслони.',\n",
       " 'От кръвта на убитите от тлъстината на силните лъкът на Йонатан не се обръщаше назад, и мечът на Саул не се връщаше празен.',\n",
       " 'Станах за присмех на целия си народ и за тяхна подигравателна песен цял ден.',\n",
       " 'Да учите на тях синовете си, като говорите за тях, когато седиш в къщата си, когато ходиш по пътя, когато лягаш и когато ставаш.',\n",
       " 'И ГОСПОД се разкая за злото, което беше казал, че ще направи на народа Си.',\n",
       " 'А Юда изпрати ярето чрез ръката на приятеля си одоламеца, за да вземе залога от ръката на жената, но той не я намери.',\n",
       " 'И царят заповяда и доведоха онези мъже, които бяха издали, Даниил, и хвърлиха тях децата им и жените им в рова на лъвовете и още преди да стигнат до дъното на рова лъвовете ги сграбчиха и строшиха всичките им кости.',\n",
       " 'И Йоав и народът, който беше с него настъпиха за битката против арамейците и те побягнаха пред него.',\n",
       " 'И като го повикаха Тертил, започна да обвинява, като казваше: Понеже чрез теб честити Феликсе, се радваме на голямо спокойствие и понеже чрез твоята предвидливост има подобрения за този народ, то ние с пълна благодарност винаги и навсякъде, посрещаме това.',\n",
       " 'Защото Йоан казваше на Ирод: Не ти е позволено да имаш жената на брат си.',\n",
       " 'А в първия ден на седмицата много рано сутринта те дойдоха на гроба, като носеха благоуханните масла, които бяха приготвили.',\n",
       " 'Ще бъде ли добре да ви изпита Той?',\n",
       " 'След това Яков каза на Лаван Дай жена ми, защото дойде време да вляза при нея.',\n",
       " 'А посветените дарове бяха шестстотин говеда и три хиляди овце.',\n",
       " 'Кога ще се събудя за да продължа да го потърся пак.',\n",
       " 'Изнемогвам от викането си гърлото ми е пресъхнало очите ми чезнат, докато чакам своя Бог.',\n",
       " 'Това са родовете на Мерарий.',\n",
       " 'На следващия ден едно голямо множество, което беше дошло на празника, като чуха, че Иисус идвал в Ерусалим, взеха палмови клони и излязоха да Го посрещнат, викайки Осанна.',\n",
       " 'И той каза: Имам нещо да ти кажа.',\n",
       " 'Ако някой, който е престъпил закона на Мойсей умира безпощадно при думата на двама или трима свидетели, то колко по-тежко наказание, мислите ще заслужи онзи, който е потъпкал Божия Син, и е счел за просто нещо, кръвта на завета, с която е бил осветен и е оскърбил Духа на благодатта.',\n",
       " 'Върни се, сине мой, Давиде, защото няма вече да ти сторя зло, понеже днес животът ми беше скъпоценен пред очите ти.',\n",
       " 'Ще дойдат големци от Египет Етиопия бързо ще протегне ръцете си към Бога.',\n",
       " 'Затова хората Му се боят и Той не гледа на никого от мъдрите по сърце.',\n",
       " 'И Го следваше голямо множество от народ и жени, които плачеха за Него.',\n",
       " 'Ето ви семе, засейте земята!',\n",
       " 'И Давид дойде във Ваал-Ферасим и Давид ги разби там и каза: ГОСПОД разсече пред мен, враговете ми, както водите правят пролом.',\n",
       " 'Кадилниците на тези мъже, които съгрешиха против живота си, нека ги направят на плочи за обковаване на олтара, защото те ги принесоха пред ГОСПОДА и затова са свети и те ще бъдат за знамение на израилевите синове.',\n",
       " 'И когато фараонът отказваше да ни пусне, ГОСПОД, уби всяко първородно в египетската земя от първородно на човек до първородно на животно, затова жертвам на ГОСПОДА всяко първородно, което е мъжко, а всеки първороден от синовете си изкупувам.',\n",
       " 'А без вяра; не е възможно да се угоди на Бога, защото, който идва при Бога трябва да вярва, че Той съществува и че възнаграждава тези, които Го търсят.',\n",
       " 'И докато още говореше с тях, ето, пратеникът слезе при него и каза: Ето това зло е от ГОСПОДА.',\n",
       " 'А вие сами ли ще продадете братята си?']"
      ]
     },
     "execution_count": 33,
     "metadata": {},
     "output_type": "execute_result"
    }
   ],
   "source": [
    "punctuated_sentences[:100]"
   ]
  },
  {
   "cell_type": "code",
   "execution_count": 48,
   "id": "f0e66d0f",
   "metadata": {},
   "outputs": [
    {
     "data": {
      "text/plain": [
       "['Но синовете им не умъртви, защото постъпи според писаното в закона в книгата на Мойсей, където ГОСПОД заповяда и каза: Бащите да не умират заради синовете и синовете да не умират заради бащите, а всеки да умира за собствения си грях.',\n",
       " 'Но когато ти говоря ще отворя устата ти и ти им кажи: Така казва Господ БОГ: Който слуша нека слуша, а който не слуша нека не слуша, защото са бунтовен дом.',\n",
       " 'Защото кой е по-голям този, който седи на трапезата ли или онзи, който слугува.',\n",
       " 'А след това ще се насели, както в предишните дни, заявява ГОСПОД.',\n",
       " 'А Той беше на задната част заспал на възглавница.',\n",
       " 'Ефрем е като птица славата му ще отлети.',\n",
       " 'И така той си отиде от него на известно разстояние.',\n",
       " 'Не бягам при халдейците!',\n",
       " 'И израилевите синове излязоха от египетската земя строени.',\n",
       " 'А когато Ахитофел видя, че съветът му не се изпълни оседла магарето си и стана и отиде у дома си в своя град и нареди домашните си работи и се обеси.',\n",
       " 'Ако умре някое животно от добитъка, който можете да ядете, който се допре до мършата му, ще бъде нечист до вечерта.',\n",
       " 'Но помощник съответен на Адам не се намери.',\n",
       " 'Който задържа жито, народът ще го проклина, а благословение ще почива на главата на този, който го продава.',\n",
       " 'Този човек беше праведен и благочестив и чакаше Утехата на Израил и Светият Дух беше на него.',\n",
       " 'Всичко е възможно за този, който вярва.',\n",
       " 'И видях, височината на дома околовръст, основите на страничните стаи бяха една цяла тръстика от шест големи лакътя.',\n",
       " 'После да вземеш тлъстината на овена, опашката и тлъстината, която покрива вътрешностите, булото на дроба, двата бъбрека с тлъстината, която е около тях и дясното бедро, защото е овен на посвещение и един хляб- една пита хляб месен с маслинено масло и една кора от коша на безквасните хлябове, които са пред ГОСПОДА.',\n",
       " 'И от дима излязоха скакалци по земята и им се даде власт, като властта, която имат земните скорпиони.',\n",
       " 'Ти си, ГОСПОДИ, само Ти?',\n",
       " 'И ще предаде Израил заради греховете на Еровоам с които съгреши и с които въведе Израил в грях.',\n",
       " 'Синове на Елифаз, Теман и Омар, Сефи и Готом, Кенез, и Тамна и Амалик.',\n",
       " 'А гладът в Самария беше страшен.',\n",
       " 'Затова казах в сърцето си, че и това е суета.',\n",
       " 'Насладих се на сянката му и седнах и плодът му бе сладък в устата ми.',\n",
       " 'Защото, така ми каза: ГОСПОД Както ръмжи над лова си, лъвът младият лъв срещу когото се свикват множество овчари и не се плаши от гласа им и не се отдръпва пред шума им, така ГОСПОД на Войнствата, ще слезе за да воюва за хълма Сион и за неговото възвишение.',\n",
       " 'Отче, свети опази ги в Името Си, което си Ми дал за да бъдат едно както сме и Ние.',\n",
       " 'И да правите разлика между чистите животни и нечистите и между нечистите птици и чистите и да не осквернявате себе си с животно, или с птица или с каквото и да е, което пълзи по земята, което Аз съм ви отделил, като нечисто.',\n",
       " 'И ГОСПОД укрепи моавския цар Еглон против Израил, защото вършиха зло пред ГОСПОДА.',\n",
       " 'И Духът ми каза да отида с тях без да се двоумя.',\n",
       " 'В двадесет и седмата година на израилевия цар Еровоам се възцари Азария, синът на юдовия цар Амасия.',\n",
       " 'Защото вашата послушност е известна на всички, затова се радвам за вас.',\n",
       " 'Той изтегля всички с въдица влачи ги в мрежата си и ги събира в рибарската си мрежа, затова се радва и се весели.',\n",
       " 'Благословен да е ГОСПОД Бог Богът на Израил, който единствен върши чудеса.',\n",
       " 'И които влязоха мъжко и женско от всяка плът, влязоха, както Бог му беше заповядал и ГОСПОД затвори след него.',\n",
       " 'Тогава царят каза на Божия човек: Ела с мен у дома и се подкрепи и ще ти дам подарък.',\n",
       " 'И ето, въпреки че е посадена ще успее ли?',\n",
       " 'От дома Тогарма, даваха за стоките ти коне бойни коне и мулета.',\n",
       " 'Затова заповядай гробът да се пази здраво до третия ден да не би учениците Му да дойдат и да Го откраднат и да кажат на народа Възкръсна от мъртвите.',\n",
       " 'И когато отвори петия печат, видях под олтара, душите на онези, които са били заклани за Божието слово и за свидетелството, което държаха.',\n",
       " 'И свещениците, които служат на ГОСПОДА са синовете на Аарон и левитите са в службата.',\n",
       " 'Той тича след тях с умолителни думи, но тях ги няма.',\n",
       " 'И измери дължината му четиридесет лакътя и ширината му- двадесет лакътя.',\n",
       " 'Затова, така казва ГОСПОД: Бог на Войнствата, Израилевият Бог: Ето, Аз ще докарам върху Юда и върху всичките ерусалимски жители, цялото зло, което говорих против тях, защото им говорих, но не слушаха и ги виках, но не отговаряха.',\n",
       " 'Сине мой, слушай наставлението на баща си и не отхвърляй закона на майка си, защото те ще бъдат благодатен венец за главата ти и огърлица за шията ти.',\n",
       " 'Тогава облакът започна да се издига от града в димен стълб и Вениамин се обърна и ето, целият град се издигаше в пламъци към небето.',\n",
       " 'В онзи ден няма да се срамуваш от всичките си дела с които си отстъпил от Мен, защото тогава ще отнема отсред теб твоите, които горделиво тържествуват и ти няма вече да се държиш надменно на светия Ми хълм.',\n",
       " 'А свинарите като видяха станалото избягаха и разказаха за това в града и в селата.',\n",
       " 'И Илий благослови Елкана и жена му и каза: ГОСПОД да ти даде потомство от тази жена, вместо заетото, което беше посветено на ГОСПОДА.',\n",
       " 'И ако живее във вас, Духът на Този, който възкреси Иисус от мъртвите, то Този, който възкреси Христос от мъртвите ще съживи и вашите смъртни тела чрез Духа Си, който живее във вас.',\n",
       " 'А ГОСПОД си извърши, както беше говорил чрез мен и ГОСПОД откъсна царството от ръката ти и го даде на ближния ти на Давид.',\n",
       " 'Даде и храна за магаретата им.',\n",
       " 'Книгата на видението на елкусеянина Наум.',\n",
       " 'И направи олтара за всеизгаряне от акациево дърво, пет лакътя беше дължината му и пет лакътя беше ширината му, четвъртит и три лакътя беше височината му.',\n",
       " 'Те ми казаха: Направи ни богове, които да ходят пред нас, защото на този Мойсей човека, който ни изведе от египетската земя, не знаем какво му стана.',\n",
       " 'Тогава Мардохей каза да отговорят на Естир: Не мисли в себе си, че от всичките юдеи само ти ще се избавиш в царския дом.',\n",
       " 'Но аз не бих познал греха, освен чрез закона, защото не бих знаел пожелание, ако законът не беше казал: Не пожелавай.',\n",
       " 'Тогава народът Му си спомни за древните дни на Мойсей: Къде е Онзи, който ги изведе от морето с пастирите на стадото Си.',\n",
       " 'И три пъти в годината, Соломон принасяше всеизгаряния, и примирителни жертви върху олтара, който построи на ГОСПОДА и кадеше върху олтара, който беше пред ГОСПОДА.',\n",
       " 'И след като им поставиха старейшини във всяка църква и се помолиха с пост ги препоръчаха на Господа в когото бяха повярвали.',\n",
       " 'С нея Той подейства в Христос, като Го възкреси от мъртвите и Го сложи да седне от дясната Си страна на небесата далеч над всяко началство и власт и сила и господство и всяко име с което се наименуват не само в този свят, но и в бъдещия.',\n",
       " 'Стрелец срещу стрелец да опъва лъка си и срещу онзи, който се надига в бронята си.',\n",
       " 'Затова онази нива е, наречена и до днес Кръвна нива.',\n",
       " 'И така слугите на цар Езекия отидоха при Исая.',\n",
       " 'И никой свещеник да не пие вино, когато влиза във вътрешния двор.',\n",
       " 'И Охозия, падна през решетката на горната си, стая в Самария и се разболя.',\n",
       " 'Защо не разбирате, Моето говорене?',\n",
       " 'А Лаван в отговор каза на Яков Тези дъщери са мои дъщери и синовете са мои синове и стадата са мои стада.',\n",
       " 'А чуждият, който се приближи да се умъртви.',\n",
       " 'И двамата сина на Илий- Офний и Финеес бяха там с ковчега на Божия завет.',\n",
       " 'Иисус му каза: Лисиците си имат леговища и небесните птици гнезда, а Човешкият Син няма къде глава да подслони.',\n",
       " 'От кръвта на убитите от тлъстината на силните лъкът на Йонатан не се обръщаше назад и мечът на Саул не се връщаше празен.',\n",
       " 'Станах за присмех на целия си народ и за тяхна подигравателна песен цял ден.',\n",
       " 'Да учите на тях, синовете си, като говорите за тях, когато седиш в къщата си, когато ходиш по пътя, когато лягаш и когато ставаш.',\n",
       " 'И ГОСПОД се разкая за злото, което беше казал, че ще направи на народа Си.',\n",
       " 'А Юда изпрати ярето чрез ръката на приятеля си, одоламеца за да вземе залога от ръката на жената, но той не я намери.',\n",
       " 'И царят заповяда и доведоха онези мъже, които бяха издали, Даниил и хвърлиха тях децата им и жените им в рова на лъвовете и още преди да стигнат до дъното на рова лъвовете ги сграбчиха и строшиха всичките им кости.',\n",
       " 'И Йоав и народът, който беше с него, настъпиха за битката против арамейците и те побягнаха пред него.',\n",
       " 'И като го повикаха Тертил започна да обвинява като казваше: Понеже чрез теб, честити Феликсе се радваме на голямо спокойствие и понеже чрез твоята предвидливост има подобрения за този народ, то ние с пълна благодарност винаги и навсякъде, посрещаме това.',\n",
       " 'Защото Йоан казваше на Ирод: Не ти е позволено да имаш, жената на брат си.',\n",
       " 'А в първия ден на седмицата: много рано сутринта те дойдоха на гроба, като носеха благоуханните масла, които бяха приготвили.',\n",
       " 'Ще бъде ли добре да ви изпита Той.',\n",
       " 'След това Яков\", каза на Лаван Дай жена ми, защото дойде време да вляза при нея.',\n",
       " 'А посветените дарове бяха шестстотин говеда и три хиляди овце.',\n",
       " 'Кога ще се събудя за да продължа да го потърся пак.',\n",
       " 'Изнемогвам от викането си гърлото ми е пресъхнало очите ми чезнат, докато чакам своя Бог.',\n",
       " 'Това са родовете на Мерарий.',\n",
       " 'На следващия ден едно голямо множество, което беше дошло на празника, като чуха, че Иисус идвал в Ерусалим взеха палмови клони и излязоха да Го посрещнат викайки Осанна.',\n",
       " 'И той каза: Имам нещо да ти кажа?',\n",
       " 'Ако някой, който е престъпил закона на Мойсей, умира безпощадно при думата на двама или трима свидетели, то колко по-тежко наказание мислите ще заслужи онзи, който е потъпкал Божия Син, и е счел за просто нещо, кръвта на завета с която е бил осветен и е оскърбил Духа на благодатта.',\n",
       " 'Върни се, сине мой, Давиде, защото няма вече да ти сторя зло, понеже днес животът ми беше скъпоценен пред очите ти.',\n",
       " 'Ще дойдат големци от Египет, Етиопия бързо ще протегне ръцете си към Бога.',\n",
       " 'Затова хората Му се боят и Той не гледа на никого от мъдрите по сърце.',\n",
       " 'И Го следваше, голямо множество от народ и жени, които плачеха за Него.',\n",
       " 'Ето ви семе засейте земята.',\n",
       " 'И Давид дойде във Ваал-Ферасим и Давид ги разби там и каза: ГОСПОД разсече пред мен, враговете ми, както водите правят пролом.',\n",
       " 'Кадилниците на тези мъже, които съгрешиха против живота си, нека ги направят на плочи за обковаване на олтара, защото те ги принесоха пред ГОСПОДА и затова са свети и те ще бъдат за знамение на израилевите синове.',\n",
       " 'И когато фараонът отказваше да ни пусне ГОСПОД, уби всяко първородно в египетската земя от първородно на човек до първородно на животно, затова жертвам на ГОСПОДА, всяко първородно, което е мъжко, а всеки първороден от синовете си изкупувам.',\n",
       " 'А без вяра, не е възможно да се угоди на Бога, защото, който идва при Бога трябва да вярва, че Той съществува и че възнаграждава тези, които Го търсят.',\n",
       " 'И докато още говореше с тях, ето, пратеникът слезе при него и каза: Ето, това зло е от ГОСПОДА.',\n",
       " 'А вие сами ли ще продадете братята си.']"
      ]
     },
     "execution_count": 48,
     "metadata": {},
     "output_type": "execute_result"
    }
   ],
   "source": [
    "punctuated_sentences[:100]"
   ]
  },
  {
   "cell_type": "code",
   "execution_count": 49,
   "id": "dbc45511",
   "metadata": {},
   "outputs": [],
   "source": [
    "correct_punctuated_sentences = punctuate(X_dev, y_dev)"
   ]
  },
  {
   "cell_type": "code",
   "execution_count": 50,
   "id": "92e6ffcb",
   "metadata": {},
   "outputs": [
    {
     "data": {
      "text/plain": [
       "['Но синовете им не умъртви, защото постъпи, според писаното в закона, в книгата на Мойсей, където ГОСПОД заповяда и каза: Бащите да не умират заради синовете и синовете да не умират заради бащите, а всеки да умира за собствения си грях.',\n",
       " 'Но когато ти говоря, ще отворя устата ти и ти им кажи: Така казва Господ БОГ: Който слуша, нека слуша, а който не слуша, нека не слуша- защото са бунтовен дом.',\n",
       " 'Защото кой е по-голям: този, който седи на трапезата ли, или онзи, който слугува?',\n",
       " 'А след това ще се насели както в предишните дни, заявява ГОСПОД.',\n",
       " 'А Той беше на задната част, заспал на възглавница.',\n",
       " 'Ефрем е като птица, славата му ще отлети.',\n",
       " 'И така, той си отиде от него на известно разстояние.',\n",
       " 'Не бягам при халдейците.',\n",
       " 'И израилевите синове излязоха от египетската земя строени.',\n",
       " 'А когато Ахитофел видя, че съветът му не се изпълни, оседла магарето си и стана, и отиде у дома си, в своя град, и нареди домашните си работи, и се обеси.',\n",
       " 'Ако умре някое животно от добитъка, който можете да ядете, който се допре до мършата му, ще бъде нечист до вечерта.',\n",
       " 'Но помощник, съответен на Адам, не се намери.',\n",
       " 'Който задържа жито, народът ще го проклина, а благословение ще почива на главата на този, който го продава.',\n",
       " 'Този човек беше праведен и благочестив и чакаше Утехата на Израил, и Светият Дух беше на него.',\n",
       " 'Всичко е възможно за този, който вярва.',\n",
       " 'И видях височината на дома околовръст; основите на страничните стаи бяха една цяла тръстика от шест големи лакътя.',\n",
       " 'После да вземеш тлъстината на овена, опашката и тлъстината, която покрива вътрешностите, булото на дроба, двата бъбрека с тлъстината, която е около тях, и дясното бедро- защото е овен на посвещение- и един хляб, една пита хляб, месен с маслинено масло, и една кора от коша на безквасните хлябове, които са пред ГОСПОДА.',\n",
       " 'И от дима излязоха скакалци по земята; и им се даде власт, като властта, която имат земните скорпиони.',\n",
       " 'Ти си ГОСПОДИ, само Ти!',\n",
       " 'И ще предаде Израил заради греховете на Еровоам, с които съгреши и с които въведе Израил в грях.',\n",
       " 'Синове на Елифаз: Теман и Омар, Сефи и Готом, Кенез и Тамна, и Амалик.',\n",
       " 'А гладът в Самария беше страшен.',\n",
       " 'Затова казах в сърцето си, че и това е суета.',\n",
       " 'Насладих се на сянката му и седнах, и плодът му бе сладък в устата ми.',\n",
       " 'Защото така ми каза ГОСПОД: Както ръмжи над лова си лъвът, младият лъв, срещу когото се свикват множество овчари, и не се плаши от гласа им, и не се отдръпва пред шума им, така ГОСПОД на Войнствата ще слезе, за да воюва за хълма Сион и за неговото възвишение.',\n",
       " 'Отче свети, опази ги в Името Си, което си Ми дал, за да бъдат едно, както сме и Ние.',\n",
       " 'И да правите разлика между чистите животни и нечистите и между нечистите птици и чистите; и да не осквернявате себе си с животно или с птица, или с каквото и да е, което пълзи по земята, което Аз съм ви отделил като нечисто.',\n",
       " 'И ГОСПОД укрепи моавския цар Еглон против Израил, защото вършиха зло пред ГОСПОДА.',\n",
       " 'И Духът ми каза да отида с тях, без да се двоумя.',\n",
       " 'В двадесет и седмата година на израилевия цар Еровоам се възцари Азария, синът на юдовия цар Амасия.',\n",
       " 'Защото вашата послушност е известна на всички, затова се радвам за вас.',\n",
       " 'Той изтегля всички с въдица, влачи ги в мрежата си и ги събира в рибарската си мрежа, затова се радва и се весели.',\n",
       " 'Благословен да е ГОСПОД Бог, Богът на Израил, който единствен върши чудеса!',\n",
       " 'И които влязоха, мъжко и женско от всяка плът, влязоха, както Бог му беше заповядал; и ГОСПОД затвори след него.',\n",
       " 'Тогава царят каза на Божия човек: Ела с мен у дома и се подкрепи, и ще ти дам подарък.',\n",
       " 'И ето, въпреки че е посадена, ще успее ли?',\n",
       " 'От дома Тогарма даваха за стоките ти коне, бойни коне и мулета.',\n",
       " 'Затова заповядай гробът да се пази здраво до третия ден, да не би учениците Му да дойдат и да Го откраднат, и да кажат на народа: Възкръсна от мъртвите.',\n",
       " 'И когато отвори петия печат, видях под олтара душите на онези, които са били заклани за Божието слово и за свидетелството, което държаха.',\n",
       " 'И свещениците, които служат на ГОСПОДА, са синовете на Аарон, и левитите са в службата.',\n",
       " 'Той тича след тях с умолителни думи, но тях ги няма.',\n",
       " 'И измери дължината му- четиридесет лакътя, и ширината му- двадесет лакътя.',\n",
       " 'Затова, така казва ГОСПОД, Бог на Войнствата, Израилевият Бог: Ето, Аз ще докарам върху Юда и върху всичките ерусалимски жители цялото зло, което говорих против тях- защото им говорих, но не слушаха, и ги виках, но не отговаряха.',\n",
       " 'Сине мой, слушай наставлението на баща си и не отхвърляй закона на майка си, защото те ще бъдат благодатен венец за главата ти и огърлица за шията ти.',\n",
       " 'Тогава облакът започна да се издига от града в димен стълб и Вениамин се обърна, и ето, целият град се издигаше в пламъци към небето.',\n",
       " 'В онзи ден няма да се срамуваш от всичките си дела, с които си отстъпил от Мен, защото тогава ще отнема отсред теб твоите, които горделиво тържествуват, и ти няма вече да се държиш надменно на светия Ми хълм.',\n",
       " 'А свинарите, като видяха станалото, избягаха и разказаха за това в града и в селата.',\n",
       " 'И Илий благослови Елкана и жена му, и каза: ГОСПОД да ти даде потомство от тази жена вместо заетото, което беше посветено на ГОСПОДА.',\n",
       " 'И ако живее във вас Духът на Този, който възкреси Иисус от мъртвите, то Този, който възкреси Христос от мъртвите, ще съживи и вашите смъртни тела чрез Духа Си, който живее във вас.',\n",
       " 'А ГОСПОД си извърши, както беше говорил чрез мен, и ГОСПОД откъсна царството от ръката ти и го даде на ближния ти, на Давид.',\n",
       " 'Даде и храна за магаретата им.',\n",
       " 'Книгата на видението на елкусеянина Наум.',\n",
       " 'И направи олтара за всеизгаряне от акациево дърво, пет лакътя беше дължината му и пет лакътя беше ширината му, четвъртит, и три лакътя беше височината му.',\n",
       " 'Те ми казаха: Направи ни богове, които да ходят пред нас, защото на този Мойсей, човека, който ни изведе от египетската земя, не знаем какво му стана.',\n",
       " 'Тогава Мардохей каза да отговорят на Естир: Не мисли в себе си, че от всичките юдеи само ти ще се избавиш в царския дом!',\n",
       " 'Но аз не бих познал греха, освен чрез закона; защото не бих знаел пожелание, ако законът не беше казал:\" Не пожелавай.\"',\n",
       " 'Тогава народът Му си спомни за древните дни на Мойсей: Къде е Онзи, който ги изведе от морето с пастирите на стадото Си?',\n",
       " 'И три пъти в годината Соломон принасяше всеизгаряния и примирителни жертви върху олтара, който построи на ГОСПОДА, и кадеше върху олтара, който беше пред ГОСПОДА.',\n",
       " 'И след като им поставиха старейшини във всяка църква и се помолиха с пост, ги препоръчаха на Господа, в когото бяха повярвали.',\n",
       " 'С нея Той подейства в Христос, като Го възкреси от мъртвите и Го сложи да седне от дясната Си страна на небесата, далеч над всяко началство и власт, и сила, и господство, и всяко име, с което се наименуват, не само в този свят, но и в бъдещия.',\n",
       " 'Стрелец срещу стрелец да опъва лъка си и срещу онзи, който се надига в бронята си!',\n",
       " 'Затова онази нива е наречена и до днес Кръвна нива.',\n",
       " 'И така, слугите на цар Езекия отидоха при Исая.',\n",
       " 'И никой свещеник да не пие вино, когато влиза във вътрешния двор.',\n",
       " 'И Охозия падна през решетката на горната си стая в Самария и се разболя.',\n",
       " 'Защо не разбирате Моето говорене?',\n",
       " 'А Лаван в отговор каза на Яков: Тези дъщери са мои дъщери и синовете са мои синове и стадата са мои стада.',\n",
       " 'А чуждият, който се приближи, да се умъртви.',\n",
       " 'И двамата сина на Илий, Офний и Финеес, бяха там с ковчега на Божия завет.',\n",
       " 'Иисус му каза: Лисиците си имат леговища и небесните птици- гнезда, а Човешкият Син няма къде глава да подслони.',\n",
       " 'От кръвта на убитите, от тлъстината на силните лъкът на Йонатан не се обръщаше назад и мечът на Саул не се връщаше празен.',\n",
       " 'Станах за присмех на целия си народ и за тяхна подигравателна песен цял ден.',\n",
       " 'Да учите на тях синовете си, като говорите за тях- когато седиш в къщата си, когато ходиш по пътя, когато лягаш и когато ставаш.',\n",
       " 'И ГОСПОД се разкая за злото, което беше казал, че ще направи на народа Си.',\n",
       " 'А Юда изпрати ярето чрез ръката на приятеля си, одоламеца, за да вземе залога от ръката на жената, но той не я намери.',\n",
       " 'И царят заповяда и доведоха онези мъже, които бяха издали Даниил, и хвърлиха тях, децата им и жените им в рова на лъвовете; и още преди да стигнат до дъното на рова, лъвовете ги сграбчиха и строшиха всичките им кости.',\n",
       " 'И Йоав и народът, който беше с него, настъпиха за битката против арамейците; и те побягнаха пред него.',\n",
       " 'И като го повикаха, Тертил започна да обвинява, като казваше: Понеже чрез теб, честити Феликсе, се радваме на голямо спокойствие и понеже чрез твоята предвидливост има подобрения за този народ, то ние с пълна благодарност винаги и навсякъде посрещаме това.',\n",
       " 'Защото Йоан казваше на Ирод: Не ти е позволено да имаш жената на брат си!',\n",
       " 'А в първия ден на седмицата, много рано сутринта, те дойдоха на гроба, като носеха благоуханните масла, които бяха приготвили.',\n",
       " 'Ще бъде ли добре да ви изпита Той?',\n",
       " 'След това Яков каза на Лаван: Дай жена ми, защото дойде време да вляза при нея.',\n",
       " 'А посветените дарове бяха шестстотин говеда и три хиляди овце.',\n",
       " 'Кога ще се събудя, за да продължа, да го потърся пак?',\n",
       " 'Изнемогвам от викането си, гърлото ми е пресъхнало, очите ми чезнат, докато чакам своя Бог.',\n",
       " 'Това са родовете на Мерарий.',\n",
       " 'На следващия ден едно голямо множество, което беше дошло на празника, като чуха, че Иисус идвал в Ерусалим, взеха палмови клони и излязоха да Го посрещнат, викайки: Осанна!',\n",
       " 'И той каза: Имам нещо да ти кажа.',\n",
       " 'Ако някой, който е престъпил закона на Мойсей, умира безпощадно при думата на двама или трима свидетели, то колко по-тежко наказание, мислите, ще заслужи онзи, който е потъпкал Божия Син и е счел за просто нещо кръвта на завета, с която е бил осветен, и е оскърбил Духа на благодатта?',\n",
       " 'Върни се, сине мой, Давиде, защото няма вече да ти сторя зло, понеже днес животът ми беше скъпоценен пред очите ти.',\n",
       " 'Ще дойдат големци от Египет, Етиопия бързо ще протегне ръцете си към Бога.',\n",
       " 'Затова хората Му се боят; и Той не гледа на никого от мъдрите по сърце.',\n",
       " 'И Го следваше голямо множество от народ и жени, които плачеха за Него.',\n",
       " 'Ето ви семе, засейте земята.',\n",
       " 'И Давид дойде във Ваал-Ферасим и Давид ги разби там, и каза: ГОСПОД разсече пред мен враговете ми, както водите правят пролом.',\n",
       " 'Кадилниците на тези мъже, които съгрешиха против живота си- нека ги направят на плочи за обковаване на олтара, защото те ги принесоха пред ГОСПОДА и затова са свети; и те ще бъдат за знамение на израилевите синове.',\n",
       " 'И когато фараонът отказваше да ни пусне, ГОСПОД уби всяко първородно в египетската земя- от първородно на човек до първородно на животно- затова жертвам на ГОСПОДА всяко първородно, което е мъжко, а всеки първороден от синовете си изкупувам.',\n",
       " 'А без вяра не е възможно да се угоди на Бога, защото, който идва при Бога, трябва да вярва, че Той съществува, и че възнаграждава тези, които Го търсят.',\n",
       " 'И докато още говореше с тях, ето, пратеникът слезе при него и каза: Ето, това зло е от ГОСПОДА.',\n",
       " 'А вие сами ли ще продадете братята си?']"
      ]
     },
     "execution_count": 50,
     "metadata": {},
     "output_type": "execute_result"
    }
   ],
   "source": [
    "correct_punctuated_sentences[:100]"
   ]
  },
  {
   "cell_type": "markdown",
   "id": "1625baa9",
   "metadata": {},
   "source": [
    "### Grid Search Try - Worse Results"
   ]
  },
  {
   "cell_type": "code",
   "execution_count": null,
   "id": "fd8a7510",
   "metadata": {},
   "outputs": [],
   "source": [
    "# from sklearn.metrics import make_scorer\n",
    "# import scipy.stats\n",
    "# from sklearn.model_selection import RandomizedSearchCV"
   ]
  },
  {
   "cell_type": "code",
   "execution_count": null,
   "id": "c70add66",
   "metadata": {},
   "outputs": [],
   "source": [
    "# %%time\n",
    "# # define fixed parameters and parameters to search\n",
    "# crf = sklearn_crfsuite.CRF(\n",
    "#     algorithm='lbfgs',\n",
    "#     max_iterations=100,\n",
    "#     all_possible_transitions=True\n",
    "# )\n",
    "# params_space = {\n",
    "#     'c1': scipy.stats.expon(scale=0.5),\n",
    "#     'c2': scipy.stats.expon(scale=0.05),\n",
    "# }\n",
    "\n",
    "# # use the same metric for evaluation\n",
    "# f1_scorer = make_scorer(metrics.flat_f1_score,\n",
    "#                         average='weighted', labels=labels)\n",
    "\n",
    "# # search\n",
    "# rs = RandomizedSearchCV(crf, params_space,\n",
    "#                         cv=3,\n",
    "#                         verbose=1,\n",
    "#                         n_jobs=-1,\n",
    "#                         n_iter=50,\n",
    "#                         scoring=f1_scorer)\n",
    "# rs.fit(X, y)"
   ]
  },
  {
   "cell_type": "code",
   "execution_count": null,
   "id": "96d8f148",
   "metadata": {},
   "outputs": [],
   "source": [
    "# crf = rs.best_estimator_\n",
    "# print('best params:', rs.best_params_)\n",
    "# print('best CV score:', rs.best_score_)\n",
    "# print('model size: {:0.2f}M'.format(rs.best_estimator_.size_ / 1000000))"
   ]
  },
  {
   "cell_type": "code",
   "execution_count": null,
   "id": "6ac24a67",
   "metadata": {},
   "outputs": [],
   "source": [
    "# crf = rs.best_estimator_\n",
    "# y_pred = crf.predict(X_test)\n",
    "\n",
    "# sorted_labels = sorted(\n",
    "#     labels,\n",
    "#     key=lambda name: (name[1:], name[0])\n",
    "# )\n",
    "\n",
    "# print(metrics.flat_classification_report(\n",
    "#     y_test, y_pred, labels=sorted_labels, digits=3\n",
    "# ))"
   ]
  },
  {
   "cell_type": "markdown",
   "id": "f6a5cd16",
   "metadata": {},
   "source": [
    "### Sentence contains imperative verb"
   ]
  },
  {
   "cell_type": "code",
   "execution_count": null,
   "id": "2de3aa8e",
   "metadata": {},
   "outputs": [],
   "source": [
    "# input - sentence (list of dictionaries) and an index of a word (dictionary)\n",
    "# output - list of dictionaries (features, for each word)\n",
    "def word2features(sentence, i):\n",
    "    sentence_contains_interrogative_word, interrogative_word_position = contains_interrogative_word(sentence)\n",
    "    sentence_contains_interrogative_particle, interrogative_particle_position = contains_interrogative_particle(sentence)\n",
    "    sentence_contains_imperative_verb, imperative_verb_position = contains_imperative_verb(sentence)\n",
    "\n",
    "    features = {\n",
    "        'word': sentence[i]['text'],\n",
    "        'sent_len': len(sentence),\n",
    "        'pos_in_sent': i,\n",
    "        'upos': sentence[i]['upos'],\n",
    "        'xpos': sentence[i]['xpos'],\n",
    "        'first_word_in_sent': sentence[0]['text'],\n",
    "        'contains_interrogative_word': sentence_contains_interrogative_word,\n",
    "        'interrogative_word_position': interrogative_word_position,\n",
    "        'contains_interrogative_particle': sentence_contains_interrogative_particle,\n",
    "        'interrogative_particle_position': interrogative_particle_position,\n",
    "        'contains_imperative_verb': sentence_contains_imperative_verb,\n",
    "        'imperative_verb_position': imperative_verb_position\n",
    "    }\n",
    "\n",
    "    if i > 0:\n",
    "        features.update({\n",
    "            'prev_word': sentence[i-1]['text'],\n",
    "            'prev_word_upos': sentence[i-1]['upos'],\n",
    "            'prev_word_xpos': sentence[i-1]['xpos']\n",
    "        })\n",
    "    else:\n",
    "        features.update({\n",
    "            'BOS': True\n",
    "        })\n",
    "\n",
    "    if i < len(sentence)-1:\n",
    "        features.update({\n",
    "            'next_word': sentence[i+1]['text'],\n",
    "            'next_word_upos': sentence[i+1]['upos'],\n",
    "            'next_word_xpos': sentence[i+1]['xpos']\n",
    "        })\n",
    "    else:\n",
    "        features.update({\n",
    "            'EOS': True\n",
    "        })\n",
    "        \n",
    "    if i < len(sentence)-2:\n",
    "        features.update({\n",
    "            'word_after_next_word': sentence [i+2]['text'],\n",
    "            'word_after_next_word_upos': sentence[i+2]['upos'],\n",
    "            'word_after_next_word_xpos': sentence[i+2]['xpos']\n",
    "        })\n",
    "\n",
    "    return features"
   ]
  },
  {
   "cell_type": "code",
   "execution_count": null,
   "id": "9b7da605",
   "metadata": {},
   "outputs": [],
   "source": [
    "%%time\n",
    "X_train, y_train = data_prep('../data/Train.txt')"
   ]
  },
  {
   "cell_type": "code",
   "execution_count": null,
   "id": "20351671",
   "metadata": {},
   "outputs": [],
   "source": [
    "verify_prepped_data(X_train, y_train)"
   ]
  },
  {
   "cell_type": "code",
   "execution_count": null,
   "id": "d71bff08",
   "metadata": {},
   "outputs": [],
   "source": [
    "%%time\n",
    "X_dev, y_dev = data_prep('../data/Dev.txt')"
   ]
  },
  {
   "cell_type": "code",
   "execution_count": null,
   "id": "10fa5ff6",
   "metadata": {},
   "outputs": [],
   "source": [
    "verify_prepped_data(X_dev, y_dev)"
   ]
  },
  {
   "cell_type": "code",
   "execution_count": null,
   "id": "f35fe559",
   "metadata": {},
   "outputs": [],
   "source": [
    "%%time\n",
    "crf = sklearn_crfsuite.CRF(\n",
    "    algorithm='lbfgs',\n",
    "    c1=0.1,\n",
    "    c2=0.1,\n",
    "    max_iterations=100,\n",
    "    all_possible_transitions=True\n",
    ")\n",
    "crf.fit(X_train, y_train)"
   ]
  },
  {
   "cell_type": "code",
   "execution_count": null,
   "id": "060a1b09",
   "metadata": {},
   "outputs": [],
   "source": [
    "labels = list(crf.classes_)\n",
    "y_pred = crf.predict(X_dev)\n",
    "print(metrics.flat_f1_score(y_dev, y_pred, average='weighted', labels=labels))\n",
    "print(metrics.flat_classification_report(y_dev, y_pred, labels=labels, digits=3))\n",
    "labels.remove('')\n",
    "print(metrics.flat_f1_score(y_dev, y_pred, average='weighted', labels=labels))\n",
    "print(metrics.flat_classification_report(y_dev, y_pred, labels=labels, digits=3))\n",
    "punctuated_sentences = punctuate(X_dev, y_pred)\n",
    "print(punctuated_sentences[:100])"
   ]
  },
  {
   "cell_type": "markdown",
   "id": "16442edd",
   "metadata": {},
   "source": [
    "### Sentence contains relative pronoun"
   ]
  },
  {
   "cell_type": "code",
   "execution_count": null,
   "id": "4879ccd5",
   "metadata": {},
   "outputs": [],
   "source": [
    "# input - sentence (list of dictionaries) and an index of a word (dictionary)\n",
    "# output - list of dictionaries (features, for each word)\n",
    "def word2features(sentence, i):\n",
    "    sentence_contains_interrogative_word, interrogative_word_position = contains_interrogative_word(sentence)\n",
    "    sentence_contains_interrogative_particle, interrogative_particle_position = contains_interrogative_particle(sentence)\n",
    "    sentence_contains_relative_pronoun, relative_pronoun_position = contains_relative_pronoun(sentence)\n",
    "\n",
    "    features = {\n",
    "        'word': sentence[i]['text'],\n",
    "        'sent_len': len(sentence),\n",
    "        'pos_in_sent': i,\n",
    "        'upos': sentence[i]['upos'],\n",
    "        'xpos': sentence[i]['xpos'],\n",
    "        'first_word_in_sent': sentence[0]['text'],\n",
    "        'contains_interrogative_word': sentence_contains_interrogative_word,\n",
    "        'interrogative_word_position': interrogative_word_position,\n",
    "        'contains_interrogative_particle': sentence_contains_interrogative_particle,\n",
    "        'interrogative_particle_position': interrogative_particle_position,\n",
    "        'contains_relative_pronoun': sentence_contains_relative_pronoun,\n",
    "        'relative_pronoun_position': relative_pronoun_position\n",
    "    }\n",
    "\n",
    "    if i > 0:\n",
    "        features.update({\n",
    "            'prev_word': sentence[i-1]['text'],\n",
    "            'prev_word_upos': sentence[i-1]['upos'],\n",
    "            'prev_word_xpos': sentence[i-1]['xpos']\n",
    "        })\n",
    "    else:\n",
    "        features.update({\n",
    "            'BOS': True\n",
    "        })\n",
    "\n",
    "    if i < len(sentence)-1:\n",
    "        features.update({\n",
    "            'next_word': sentence[i+1]['text'],\n",
    "            'next_word_upos': sentence[i+1]['upos'],\n",
    "            'next_word_xpos': sentence[i+1]['xpos']\n",
    "        })\n",
    "    else:\n",
    "        features.update({\n",
    "            'EOS': True\n",
    "        })\n",
    "        \n",
    "    if i < len(sentence)-2:\n",
    "        features.update({\n",
    "            'word_after_next_word': sentence [i+2]['text'],\n",
    "            'word_after_next_word_upos': sentence[i+2]['upos'],\n",
    "            'word_after_next_word_xpos': sentence[i+2]['xpos']\n",
    "        })\n",
    "\n",
    "    return features"
   ]
  },
  {
   "cell_type": "code",
   "execution_count": null,
   "id": "a22f1dc7",
   "metadata": {},
   "outputs": [],
   "source": [
    "%%time\n",
    "X_train, y_train = data_prep('../data/Train.txt')"
   ]
  },
  {
   "cell_type": "code",
   "execution_count": null,
   "id": "6bbbfba3",
   "metadata": {},
   "outputs": [],
   "source": [
    "verify_prepped_data(X_train, y_train)"
   ]
  },
  {
   "cell_type": "code",
   "execution_count": null,
   "id": "b96c5300",
   "metadata": {},
   "outputs": [],
   "source": [
    "%%time\n",
    "X_dev, y_dev = data_prep('../data/Dev.txt')"
   ]
  },
  {
   "cell_type": "code",
   "execution_count": null,
   "id": "ed5cff47",
   "metadata": {},
   "outputs": [],
   "source": [
    "verify_prepped_data(X_dev, y_dev)"
   ]
  },
  {
   "cell_type": "code",
   "execution_count": null,
   "id": "db10928d",
   "metadata": {},
   "outputs": [],
   "source": [
    "%%time\n",
    "crf = sklearn_crfsuite.CRF(\n",
    "    algorithm='lbfgs',\n",
    "    c1=0.1,\n",
    "    c2=0.1,\n",
    "    max_iterations=100,\n",
    "    all_possible_transitions=True\n",
    ")\n",
    "crf.fit(X_train, y_train)"
   ]
  },
  {
   "cell_type": "code",
   "execution_count": null,
   "id": "0099e7a0",
   "metadata": {},
   "outputs": [],
   "source": [
    "labels = list(crf.classes_)\n",
    "y_pred = crf.predict(X_dev)\n",
    "print(metrics.flat_f1_score(y_dev, y_pred, average='weighted', labels=labels))\n",
    "print(metrics.flat_classification_report(y_dev, y_pred, labels=labels, digits=3))\n",
    "labels.remove('')\n",
    "print(metrics.flat_f1_score(y_dev, y_pred, average='weighted', labels=labels))\n",
    "print(metrics.flat_classification_report(y_dev, y_pred, labels=labels, digits=3))\n",
    "punctuated_sentences = punctuate(X_dev, y_pred)\n",
    "print(punctuated_sentences[:100])"
   ]
  },
  {
   "cell_type": "markdown",
   "id": "1726bae5",
   "metadata": {},
   "source": [
    "### Contains repetitive coordinative conjunction"
   ]
  },
  {
   "cell_type": "code",
   "execution_count": null,
   "id": "a3453f8a",
   "metadata": {},
   "outputs": [],
   "source": [
    "# input - sentence (list of dictionaries) and an index of a word (dictionary)\n",
    "# output - list of dictionaries (features, for each word)\n",
    "def word2features(sentence, i):\n",
    "    sentence_contains_interrogative_word, interrogative_word_position = contains_interrogative_word(sentence)\n",
    "    sentence_contains_interrogative_particle, interrogative_particle_position = contains_interrogative_particle(sentence)\n",
    "    sentence_contains_repetitive_coord_conj, repetitive_coord_conj_position = contains_repetitive_coord_conj_before(sentence, i)\n",
    "\n",
    "    features = {\n",
    "        'word': sentence[i]['text'],\n",
    "        'sent_len': len(sentence),\n",
    "        'pos_in_sent': i,\n",
    "        'upos': sentence[i]['upos'],\n",
    "        'xpos': sentence[i]['xpos'],\n",
    "        'first_word_in_sent': sentence[0]['text'],\n",
    "        'contains_interrogative_word': sentence_contains_interrogative_word,\n",
    "        'interrogative_word_position': interrogative_word_position,\n",
    "        'contains_interrogative_particle': sentence_contains_interrogative_particle,\n",
    "        'interrogative_particle_position': interrogative_particle_position,\n",
    "        'contains_repetitive_coord_conj_before': sentence_contains_repetitive_coord_conj,\n",
    "        'repetitive_coord_conj_position': repetitive_coord_conj_position\n",
    "    }\n",
    "\n",
    "    if i > 0:\n",
    "        features.update({\n",
    "            'prev_word': sentence[i-1]['text'],\n",
    "            'prev_word_upos': sentence[i-1]['upos'],\n",
    "            'prev_word_xpos': sentence[i-1]['xpos']\n",
    "        })\n",
    "    else:\n",
    "        features.update({\n",
    "            'BOS': True\n",
    "        })\n",
    "\n",
    "    if i < len(sentence)-1:\n",
    "        features.update({\n",
    "            'next_word': sentence[i+1]['text'],\n",
    "            'next_word_upos': sentence[i+1]['upos'],\n",
    "            'next_word_xpos': sentence[i+1]['xpos']\n",
    "        })\n",
    "    else:\n",
    "        features.update({\n",
    "            'EOS': True\n",
    "        })\n",
    "        \n",
    "    if i < len(sentence)-2:\n",
    "        features.update({\n",
    "            'word_after_next_word': sentence [i+2]['text'],\n",
    "            'word_after_next_word_upos': sentence[i+2]['upos'],\n",
    "            'word_after_next_word_xpos': sentence[i+2]['xpos']\n",
    "        })\n",
    "\n",
    "    return features"
   ]
  },
  {
   "cell_type": "code",
   "execution_count": null,
   "id": "67ba53e5",
   "metadata": {},
   "outputs": [],
   "source": [
    "%%time\n",
    "X_train, y_train = data_prep('../data/Train.txt')"
   ]
  },
  {
   "cell_type": "code",
   "execution_count": null,
   "id": "244735b5",
   "metadata": {},
   "outputs": [],
   "source": [
    "verify_prepped_data(X_train, y_train)"
   ]
  },
  {
   "cell_type": "code",
   "execution_count": null,
   "id": "5a54140f",
   "metadata": {},
   "outputs": [],
   "source": [
    "%%time\n",
    "X_dev, y_dev = data_prep('../data/Dev.txt')"
   ]
  },
  {
   "cell_type": "code",
   "execution_count": null,
   "id": "c86c6aff",
   "metadata": {},
   "outputs": [],
   "source": [
    "verify_prepped_data(X_dev, y_dev)"
   ]
  },
  {
   "cell_type": "code",
   "execution_count": null,
   "id": "4d59fa9b",
   "metadata": {},
   "outputs": [],
   "source": [
    "%%time\n",
    "crf = sklearn_crfsuite.CRF(\n",
    "    algorithm='lbfgs',\n",
    "    c1=0.1,\n",
    "    c2=0.1,\n",
    "    max_iterations=100,\n",
    "    all_possible_transitions=True\n",
    ")\n",
    "crf.fit(X_train, y_train)"
   ]
  },
  {
   "cell_type": "code",
   "execution_count": null,
   "id": "4b475835",
   "metadata": {},
   "outputs": [],
   "source": [
    "labels = list(crf.classes_)\n",
    "y_pred = crf.predict(X_dev)\n",
    "print(metrics.flat_f1_score(y_dev, y_pred, average='weighted', labels=labels))\n",
    "print(metrics.flat_classification_report(y_dev, y_pred, labels=labels, digits=3))\n",
    "labels.remove('')\n",
    "print(metrics.flat_f1_score(y_dev, y_pred, average='weighted', labels=labels))\n",
    "print(metrics.flat_classification_report(y_dev, y_pred, labels=labels, digits=3))\n",
    "punctuated_sentences = punctuate(X_dev, y_pred)\n",
    "print(punctuated_sentences[:100])"
   ]
  },
  {
   "cell_type": "markdown",
   "id": "5b5ed403",
   "metadata": {},
   "source": [
    "### Add more context of words before"
   ]
  },
  {
   "cell_type": "code",
   "execution_count": null,
   "id": "2230d8d8",
   "metadata": {},
   "outputs": [],
   "source": [
    "# input - sentence (list of dictionaries) and an index of a word (dictionary)\n",
    "# output - list of dictionaries (features, for each word)\n",
    "def word2features(sentence, i):\n",
    "    sentence_contains_interrogative_word, interrogative_word_position = contains_interrogative_word(sentence)\n",
    "    sentence_contains_interrogative_particle, interrogative_particle_position = contains_interrogative_particle(sentence)\n",
    "\n",
    "    features = {\n",
    "        'word': sentence[i]['text'],\n",
    "        'sent_len': len(sentence),\n",
    "        'pos_in_sent': i,\n",
    "        'upos': sentence[i]['upos'],\n",
    "        'xpos': sentence[i]['xpos'],\n",
    "        'first_word_in_sent': sentence[0]['text'],\n",
    "        'contains_interrogative_word': sentence_contains_interrogative_word,\n",
    "        'interrogative_word_position': interrogative_word_position,\n",
    "        'contains_interrogative_particle': sentence_contains_interrogative_particle,\n",
    "        'interrogative_particle_position': interrogative_particle_position\n",
    "    }\n",
    "\n",
    "    if i > 0:\n",
    "        features.update({\n",
    "            'prev_word': sentence[i-1]['text'],\n",
    "            'prev_word_upos': sentence[i-1]['upos'],\n",
    "            'prev_word_xpos': sentence[i-1]['xpos']\n",
    "        })\n",
    "    else:\n",
    "        features.update({\n",
    "            'BOS': True\n",
    "        })\n",
    "\n",
    "    if i > 1:\n",
    "        features.update({\n",
    "            'word_before_prev_word': sentence[i-2]['text'],\n",
    "            'word_before_prev_word_upos': sentence[i-2]['upos'],\n",
    "            'word_before_prev_word_xpos': sentence[i-2]['xpos']\n",
    "        })\n",
    "\n",
    "    if i < len(sentence)-1:\n",
    "        features.update({\n",
    "            'next_word': sentence[i+1]['text'],\n",
    "            'next_word_upos': sentence[i+1]['upos'],\n",
    "            'next_word_xpos': sentence[i+1]['xpos']\n",
    "        })\n",
    "    else:\n",
    "        features.update({\n",
    "            'EOS': True\n",
    "        })\n",
    "        \n",
    "    if i < len(sentence)-2:\n",
    "        features.update({\n",
    "            'word_after_next_word': sentence [i+2]['text'],\n",
    "            'word_after_next_word_upos': sentence[i+2]['upos'],\n",
    "            'word_after_next_word_xpos': sentence[i+2]['xpos']\n",
    "        })\n",
    "\n",
    "    return features"
   ]
  },
  {
   "cell_type": "code",
   "execution_count": null,
   "id": "2454f778",
   "metadata": {},
   "outputs": [],
   "source": [
    "%%time\n",
    "X_train, y_train = data_prep('../data/Train.txt')"
   ]
  },
  {
   "cell_type": "code",
   "execution_count": null,
   "id": "3fefc268",
   "metadata": {},
   "outputs": [],
   "source": [
    "verify_prepped_data(X_train, y_train)"
   ]
  },
  {
   "cell_type": "code",
   "execution_count": null,
   "id": "896aaf9e",
   "metadata": {},
   "outputs": [],
   "source": [
    "%%time\n",
    "X_dev, y_dev = data_prep('../data/Dev.txt')"
   ]
  },
  {
   "cell_type": "code",
   "execution_count": null,
   "id": "25a152ed",
   "metadata": {},
   "outputs": [],
   "source": [
    "verify_prepped_data(X_dev, y_dev)"
   ]
  },
  {
   "cell_type": "code",
   "execution_count": null,
   "id": "ef241a4e",
   "metadata": {},
   "outputs": [],
   "source": [
    "%%time\n",
    "crf = sklearn_crfsuite.CRF(\n",
    "    algorithm='lbfgs',\n",
    "    c1=0.1,\n",
    "    c2=0.1,\n",
    "    max_iterations=100,\n",
    "    all_possible_transitions=True\n",
    ")\n",
    "crf.fit(X_train, y_train)"
   ]
  },
  {
   "cell_type": "code",
   "execution_count": null,
   "id": "09a98818",
   "metadata": {},
   "outputs": [],
   "source": [
    "labels = list(crf.classes_)\n",
    "y_pred = crf.predict(X_dev)\n",
    "print(metrics.flat_f1_score(y_dev, y_pred, average='weighted', labels=labels))\n",
    "print(metrics.flat_classification_report(y_dev, y_pred, labels=labels, digits=3))\n",
    "labels.remove('')\n",
    "print(metrics.flat_f1_score(y_dev, y_pred, average='weighted', labels=labels))\n",
    "print(metrics.flat_classification_report(y_dev, y_pred, labels=labels, digits=3))\n",
    "punctuated_sentences = punctuate(X_dev, y_pred)\n",
    "print(punctuated_sentences[:100])"
   ]
  },
  {
   "cell_type": "code",
   "execution_count": null,
   "id": "30e6341b",
   "metadata": {},
   "outputs": [],
   "source": [
    "# input - sentence (list of dictionaries) and an index of a word (dictionary)\n",
    "# output - list of dictionaries (features, for each word)\n",
    "def word2features(sentence, i):\n",
    "    sentence_contains_interrogative_word, interrogative_word_position = contains_interrogative_word(sentence)\n",
    "    sentence_contains_interrogative_particle, interrogative_particle_position = contains_interrogative_particle(sentence)\n",
    "\n",
    "    features = {\n",
    "        'word': sentence[i]['text'],\n",
    "        'sent_len': len(sentence),\n",
    "        'pos_in_sent': i,\n",
    "        'upos': sentence[i]['upos'],\n",
    "        'xpos': sentence[i]['xpos'],\n",
    "        'first_word_in_sent': sentence[0]['text'],\n",
    "        'contains_interrogative_word': sentence_contains_interrogative_word,\n",
    "        'interrogative_word_position': interrogative_word_position,\n",
    "        'contains_interrogative_particle': sentence_contains_interrogative_particle,\n",
    "        'interrogative_particle_position': interrogative_particle_position\n",
    "    }\n",
    "\n",
    "    if i > 0:\n",
    "        features.update({\n",
    "            'prev_word': sentence[i-1]['text'],\n",
    "            'prev_word_upos': sentence[i-1]['upos'],\n",
    "            'prev_word_xpos': sentence[i-1]['xpos']\n",
    "        })\n",
    "    else:\n",
    "        features.update({\n",
    "            'BOS': True\n",
    "        })\n",
    "\n",
    "    if i > 1:\n",
    "        features.update({\n",
    "            'word_before_prev_word': sentence[i-2]['text'],\n",
    "            'word_before_prev_word_upos': sentence[i-2]['upos'],\n",
    "            'word_before_prev_word_xpos': sentence[i-2]['xpos']\n",
    "        })\n",
    "\n",
    "    if i > 2:\n",
    "    features.update({\n",
    "        '2_words_before_prev_word': sentence[i-3]['text'],\n",
    "        '2_words_before_prev_word_upos': sentence[i-3]['upos'],\n",
    "        '2_words_before_prev_word_xpos': sentence[i-3]['xpos']\n",
    "    })\n",
    "\n",
    "    if i < len(sentence)-1:\n",
    "        features.update({\n",
    "            'next_word': sentence[i+1]['text'],\n",
    "            'next_word_upos': sentence[i+1]['upos'],\n",
    "            'next_word_xpos': sentence[i+1]['xpos']\n",
    "        })\n",
    "    else:\n",
    "        features.update({\n",
    "            'EOS': True\n",
    "        })\n",
    "        \n",
    "    if i < len(sentence)-2:\n",
    "        features.update({\n",
    "            'word_after_next_word': sentence [i+2]['text'],\n",
    "            'word_after_next_word_upos': sentence[i+2]['upos'],\n",
    "            'word_after_next_word_xpos': sentence[i+2]['xpos']\n",
    "        })\n",
    "\n",
    "    return features"
   ]
  },
  {
   "cell_type": "code",
   "execution_count": null,
   "id": "01f53744",
   "metadata": {},
   "outputs": [],
   "source": [
    "%%time\n",
    "X_train, y_train = data_prep('../data/Train.txt')"
   ]
  },
  {
   "cell_type": "code",
   "execution_count": null,
   "id": "db3b3ee6",
   "metadata": {},
   "outputs": [],
   "source": [
    "verify_prepped_data(X_train, y_train)"
   ]
  },
  {
   "cell_type": "code",
   "execution_count": null,
   "id": "3a8f1edc",
   "metadata": {},
   "outputs": [],
   "source": [
    "%%time\n",
    "X_dev, y_dev = data_prep('../data/Dev.txt')"
   ]
  },
  {
   "cell_type": "code",
   "execution_count": null,
   "id": "61fee01a",
   "metadata": {},
   "outputs": [],
   "source": [
    "verify_prepped_data(X_dev, y_dev)"
   ]
  },
  {
   "cell_type": "code",
   "execution_count": null,
   "id": "b20404e5",
   "metadata": {},
   "outputs": [],
   "source": [
    "%%time\n",
    "crf = sklearn_crfsuite.CRF(\n",
    "    algorithm='lbfgs',\n",
    "    c1=0.1,\n",
    "    c2=0.1,\n",
    "    max_iterations=100,\n",
    "    all_possible_transitions=True\n",
    ")\n",
    "crf.fit(X_train, y_train)"
   ]
  },
  {
   "cell_type": "code",
   "execution_count": null,
   "id": "f2085918",
   "metadata": {},
   "outputs": [],
   "source": [
    "labels = list(crf.classes_)\n",
    "y_pred = crf.predict(X_dev)\n",
    "print(metrics.flat_f1_score(y_dev, y_pred, average='weighted', labels=labels))\n",
    "print(metrics.flat_classification_report(y_dev, y_pred, labels=labels, digits=3))\n",
    "labels.remove('')\n",
    "print(metrics.flat_f1_score(y_dev, y_pred, average='weighted', labels=labels))\n",
    "print(metrics.flat_classification_report(y_dev, y_pred, labels=labels, digits=3))\n",
    "punctuated_sentences = punctuate(X_dev, y_pred)\n",
    "print(punctuated_sentences[:100])"
   ]
  },
  {
   "cell_type": "markdown",
   "id": "a26cf9bf",
   "metadata": {},
   "source": [
    "### Add more context of words after"
   ]
  },
  {
   "cell_type": "code",
   "execution_count": null,
   "id": "c82233fc",
   "metadata": {},
   "outputs": [],
   "source": [
    "# input - sentence (list of dictionaries) and an index of a word (dictionary)\n",
    "# output - list of dictionaries (features, for each word)\n",
    "def word2features(sentence, i):\n",
    "    sentence_contains_interrogative_word, interrogative_word_position = contains_interrogative_word(sentence)\n",
    "    sentence_contains_interrogative_particle, interrogative_particle_position = contains_interrogative_particle(sentence)\n",
    "\n",
    "    features = {\n",
    "        'word': sentence[i]['text'],\n",
    "        'sent_len': len(sentence),\n",
    "        'pos_in_sent': i,\n",
    "        'upos': sentence[i]['upos'],\n",
    "        'xpos': sentence[i]['xpos'],\n",
    "        'first_word_in_sent': sentence[0]['text'],\n",
    "        'contains_interrogative_word': sentence_contains_interrogative_word,\n",
    "        'interrogative_word_position': interrogative_word_position,\n",
    "        'contains_interrogative_particle': sentence_contains_interrogative_particle,\n",
    "        'interrogative_particle_position': interrogative_particle_position\n",
    "    }\n",
    "\n",
    "    if i > 0:\n",
    "        features.update({\n",
    "            'prev_word': sentence[i-1]['text'],\n",
    "            'prev_word_upos': sentence[i-1]['upos'],\n",
    "            'prev_word_xpos': sentence[i-1]['xpos']\n",
    "        })\n",
    "    else:\n",
    "        features.update({\n",
    "            'BOS': True\n",
    "        })\n",
    "\n",
    "    if i < len(sentence)-1:\n",
    "        features.update({\n",
    "            'next_word': sentence[i+1]['text'],\n",
    "            'next_word_upos': sentence[i+1]['upos'],\n",
    "            'next_word_xpos': sentence[i+1]['xpos']\n",
    "        })\n",
    "    else:\n",
    "        features.update({\n",
    "            'EOS': True\n",
    "        })\n",
    "        \n",
    "    if i < len(sentence)-2:\n",
    "        features.update({\n",
    "            'word_after_next_word': sentence [i+2]['text'],\n",
    "            'word_after_next_word_upos': sentence[i+2]['upos'],\n",
    "            'word_after_next_word_xpos': sentence[i+2]['xpos']\n",
    "        })\n",
    "\n",
    "    if i < len(sentence)-3:\n",
    "        features.update({\n",
    "            '2_words_after_next_word': sentence [i+3]['text'],\n",
    "            '2_words_after_next_word_upos': sentence[i+3]['upos'],\n",
    "            '2_words_after_next_word_xpos': sentence[i+3]['xpos']\n",
    "        })\n",
    "\n",
    "    return features"
   ]
  },
  {
   "cell_type": "code",
   "execution_count": null,
   "id": "ebfecc93",
   "metadata": {},
   "outputs": [],
   "source": [
    "%%time\n",
    "X_train, y_train = data_prep('../data/Train.txt')"
   ]
  },
  {
   "cell_type": "code",
   "execution_count": null,
   "id": "8aaf9a6f",
   "metadata": {},
   "outputs": [],
   "source": [
    "verify_prepped_data(X_train, y_train)"
   ]
  },
  {
   "cell_type": "code",
   "execution_count": null,
   "id": "7136add5",
   "metadata": {},
   "outputs": [],
   "source": [
    "%%time\n",
    "X_dev, y_dev = data_prep('../data/Dev.txt')"
   ]
  },
  {
   "cell_type": "code",
   "execution_count": null,
   "id": "d72fadfe",
   "metadata": {},
   "outputs": [],
   "source": [
    "verify_prepped_data(X_dev, y_dev)"
   ]
  },
  {
   "cell_type": "code",
   "execution_count": null,
   "id": "6977e16d",
   "metadata": {},
   "outputs": [],
   "source": [
    "%%time\n",
    "crf = sklearn_crfsuite.CRF(\n",
    "    algorithm='lbfgs',\n",
    "    c1=0.1,\n",
    "    c2=0.1,\n",
    "    max_iterations=100,\n",
    "    all_possible_transitions=True\n",
    ")\n",
    "crf.fit(X_train, y_train)"
   ]
  },
  {
   "cell_type": "code",
   "execution_count": null,
   "id": "67752151",
   "metadata": {},
   "outputs": [],
   "source": [
    "labels = list(crf.classes_)\n",
    "y_pred = crf.predict(X_dev)\n",
    "print(metrics.flat_f1_score(y_dev, y_pred, average='weighted', labels=labels))\n",
    "print(metrics.flat_classification_report(y_dev, y_pred, labels=labels, digits=3))\n",
    "labels.remove('')\n",
    "print(metrics.flat_f1_score(y_dev, y_pred, average='weighted', labels=labels))\n",
    "print(metrics.flat_classification_report(y_dev, y_pred, labels=labels, digits=3))\n",
    "punctuated_sentences = punctuate(X_dev, y_pred)\n",
    "print(punctuated_sentences[:100])"
   ]
  }
 ],
 "metadata": {
  "kernelspec": {
   "display_name": "Python 3",
   "language": "python",
   "name": "python3"
  },
  "language_info": {
   "codemirror_mode": {
    "name": "ipython",
    "version": 3
   },
   "file_extension": ".py",
   "mimetype": "text/x-python",
   "name": "python",
   "nbconvert_exporter": "python",
   "pygments_lexer": "ipython3",
   "version": "3.6.13"
  }
 },
 "nbformat": 4,
 "nbformat_minor": 5
}
